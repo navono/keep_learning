{
 "cells": [
  {
   "cell_type": "markdown",
   "source": [
    "![concurrency](./concurrency.png)\n",
    "# 并发（Concurrency）\n",
    "\n",
    "并发提醒系统性能的三种方式：\n",
    "- 它可以减少延迟（latency，使得完成单位工作更快）\n",
    "- 它可以隐藏延迟（在延迟时间内做其他的任务）\n",
    "- 它可以增加吞吐（throughput）\n",
    "\n",
    "\n",
    "## 扩展性（Scalability）\n",
    "![scalability](./scalability.png)\n",
    "\n",
    "- 垂直扩展（Vertical scaling，也称 scaling up）。例如增加内存，或者替换更强大的 CPU 等方式\n",
    "- 水平扩展（Horizontal scaling，也称 scaling out）。例如增加机器\n",
    "\n",
    "\n",
    "## 解耦（Decoupling）\n",
    "![decoupling](./decoupling.png)\n",
    "\n",
    "\n",
    "# 并发的层级（layers of concurrency）\n",
    "\n",
    "自底向上就是：\n",
    "- 硬件层\n",
    "- 系统运行时层\n",
    "- 应用层"
   ],
   "metadata": {
    "collapsed": false
   },
   "id": "f01f09e7a147f570"
  },
  {
   "cell_type": "code",
   "outputs": [],
   "source": [],
   "metadata": {
    "collapsed": true
   },
   "id": "initial_id",
   "execution_count": 0
  }
 ],
 "metadata": {
  "kernelspec": {
   "display_name": "Python 3",
   "language": "python",
   "name": "python3"
  },
  "language_info": {
   "codemirror_mode": {
    "name": "ipython",
    "version": 2
   },
   "file_extension": ".py",
   "mimetype": "text/x-python",
   "name": "python",
   "nbconvert_exporter": "python",
   "pygments_lexer": "ipython2",
   "version": "2.7.6"
  }
 },
 "nbformat": 4,
 "nbformat_minor": 5
}
