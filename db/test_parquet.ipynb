{
 "cells": [
  {
   "cell_type": "code",
   "execution_count": 1,
   "id": "initial_id",
   "metadata": {
    "collapsed": true,
    "ExecuteTime": {
     "end_time": "2024-01-16T06:43:37.944199600Z",
     "start_time": "2024-01-16T06:43:24.609426500Z"
    }
   },
   "outputs": [],
   "source": [
    "import pandas as pd"
   ]
  },
  {
   "cell_type": "code",
   "outputs": [
    {
     "name": "stdout",
     "output_type": "stream",
     "text": [
      "       l_orderkey  l_partkey  l_suppkey  l_linenumber  l_quantity  \\\n",
      "0               1       1552         93             1        17.0   \n",
      "1               1        674         75             2        36.0   \n",
      "2               1        637         38             3         8.0   \n",
      "3               1         22         48             4        28.0   \n",
      "4               1        241         23             5        24.0   \n",
      "...           ...        ...        ...           ...         ...   \n",
      "60170       60000       1843         44             2        23.0   \n",
      "60171       60000       1057         63             3        45.0   \n",
      "60172       60000        271         53             4        29.0   \n",
      "60173       60000        585         16             5        31.0   \n",
      "60174       60000        836          3             6        45.0   \n",
      "\n",
      "       l_extendedprice  l_discount  l_tax l_returnflag l_linestatus  \\\n",
      "0             24710.35        0.04   0.02            N            O   \n",
      "1             56688.12        0.09   0.06            N            O   \n",
      "2             12301.04        0.10   0.02            N            O   \n",
      "3             25816.56        0.09   0.06            N            O   \n",
      "4             27389.76        0.10   0.04            N            O   \n",
      "...                ...         ...    ...          ...          ...   \n",
      "60170         40131.32        0.05   0.03            N            O   \n",
      "60171         43112.25        0.02   0.02            R            F   \n",
      "60172         33966.83        0.02   0.01            N            O   \n",
      "60173         46052.98        0.00   0.05            N            O   \n",
      "60174         78157.35        0.04   0.08            N            O   \n",
      "\n",
      "       l_shipdate l_commitdate l_receiptdate     l_shipinstruct l_shipmode  \\\n",
      "0      1996-03-13   1996-02-12    1996-03-22  DELIVER IN PERSON      TRUCK   \n",
      "1      1996-04-12   1996-02-28    1996-04-20   TAKE BACK RETURN       MAIL   \n",
      "2      1996-01-29   1996-03-05    1996-01-31   TAKE BACK RETURN    REG AIR   \n",
      "3      1996-04-21   1996-03-30    1996-05-16               NONE        AIR   \n",
      "4      1996-03-30   1996-03-14    1996-04-01               NONE        FOB   \n",
      "...           ...          ...           ...                ...        ...   \n",
      "60170  1995-08-09   1995-06-08    1995-08-23        COLLECT COD        FOB   \n",
      "60171  1995-05-15   1995-05-31    1995-06-03        COLLECT COD       SHIP   \n",
      "60172  1995-07-25   1995-06-07    1995-08-17        COLLECT COD       SHIP   \n",
      "60173  1995-08-06   1995-07-18    1995-08-19   TAKE BACK RETURN      TRUCK   \n",
      "60174  1995-07-23   1995-07-17    1995-07-24  DELIVER IN PERSON      TRUCK   \n",
      "\n",
      "                                   l_comment  \n",
      "0                    egular courts above the  \n",
      "1         ly final dependencies: slyly bold   \n",
      "2              riously. regular, express dep  \n",
      "3                    lites. fluffily even de  \n",
      "4                    pending foxes. slyly re  \n",
      "...                                      ...  \n",
      "60170             ideas about the permanent   \n",
      "60171       fully bold pinto beans alongside  \n",
      "60172                 ly final ideas boost s  \n",
      "60173                          ly even instr  \n",
      "60174  ke final packages. carefully final fo  \n",
      "\n",
      "[60175 rows x 16 columns]\n"
     ]
    }
   ],
   "source": [
    "df = pd.read_parquet('./lineitem.parquet')\n",
    "print(df)"
   ],
   "metadata": {
    "collapsed": false,
    "ExecuteTime": {
     "end_time": "2024-01-16T06:44:22.664864100Z",
     "start_time": "2024-01-16T06:44:16.302017Z"
    }
   },
   "id": "6babbd0e7f7ca2e4",
   "execution_count": 3
  }
 ],
 "metadata": {
  "kernelspec": {
   "display_name": "Python 3",
   "language": "python",
   "name": "python3"
  },
  "language_info": {
   "codemirror_mode": {
    "name": "ipython",
    "version": 2
   },
   "file_extension": ".py",
   "mimetype": "text/x-python",
   "name": "python",
   "nbconvert_exporter": "python",
   "pygments_lexer": "ipython2",
   "version": "2.7.6"
  }
 },
 "nbformat": 4,
 "nbformat_minor": 5
}
