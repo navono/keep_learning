{
 "cells": [
  {
   "cell_type": "markdown",
   "source": [
    "列别名代表临时的列名，它只在查询时有效。\n",
    "```\n",
    "SELECT column_name AS alias_name\n",
    "FROM table_name;\n",
    "```\n",
    "\n",
    "其中 `AS` 是可选的。"
   ],
   "metadata": {
    "collapsed": false
   },
   "id": "6f8de680e93349f7"
  },
  {
   "cell_type": "code",
   "execution_count": 7,
   "id": "initial_id",
   "metadata": {
    "collapsed": true,
    "ExecuteTime": {
     "end_time": "2024-01-23T06:42:37.052512700Z",
     "start_time": "2024-01-23T06:42:35.892341500Z"
    }
   },
   "outputs": [],
   "source": [
    "import psycopg\n",
    "import pandas as pd\n",
    "\n",
    "conn_info = f'host=localhost port=5432 dbname=dvdrental user=postgres password=1234'\n",
    "conn = psycopg.connect(conninfo=conn_info)\n",
    "\n",
    "# 创建游标对象\n",
    "cursor = conn.cursor()"
   ]
  },
  {
   "cell_type": "code",
   "outputs": [
    {
     "name": "stdout",
     "output_type": "stream",
     "text": [
      "  first_name last_name\n",
      "0      Jared       Ely\n",
      "1       Mary     Smith\n"
     ]
    }
   ],
   "source": [
    "# 执行查询\n",
    "cursor.execute(\"SELECT first_name, last_name FROM customer;\")\n",
    "\n",
    "# 获取2行数据以匹配 dataframe 的维度\n",
    "data = cursor.fetchmany(2)\n",
    "col_names = [desc[0] for desc in cursor.description]\n",
    "\n",
    "# 为了更好呈现列表名，使用 pd 进行加载显示\n",
    "df=pd.DataFrame(data, columns=col_names)\n",
    "print(df)"
   ],
   "metadata": {
    "collapsed": false,
    "ExecuteTime": {
     "end_time": "2024-01-23T06:51:41.098050900Z",
     "start_time": "2024-01-23T06:51:41.079087400Z"
    }
   },
   "id": "7f03b57eafce288e",
   "execution_count": 32
  },
  {
   "cell_type": "code",
   "outputs": [
    {
     "name": "stdout",
     "output_type": "stream",
     "text": [
      "    first_name    surname\n",
      "0        Jared        Ely\n",
      "1         Mary      Smith\n",
      "2     Patricia    Johnson\n",
      "3        Linda   Williams\n",
      "4      Barbara      Jones\n",
      "..         ...        ...\n",
      "594   Terrence  Gunderson\n",
      "595    Enrique   Forsythe\n",
      "596    Freddie     Duggan\n",
      "597       Wade   Delvalle\n",
      "598     Austin    Cintron\n",
      "\n",
      "[599 rows x 2 columns]\n"
     ]
    }
   ],
   "source": [
    "# 执行查询\n",
    "# cursor.execute(\"SELECT first_name, last_name AS surname FROM customer;\")\n",
    "cursor.execute(\"SELECT first_name, last_name surname FROM customer;\")\n",
    "\n",
    "data = cursor.fetchall()\n",
    "col_names = [desc[0] for desc in cursor.description]\n",
    "\n",
    "df=pd.DataFrame(data, columns=col_names)\n",
    "print(df)"
   ],
   "metadata": {
    "collapsed": false,
    "ExecuteTime": {
     "end_time": "2024-01-23T06:51:53.230631500Z",
     "start_time": "2024-01-23T06:51:53.219569400Z"
    }
   },
   "id": "636ddbb5db4ba653",
   "execution_count": 33
  },
  {
   "cell_type": "code",
   "outputs": [
    {
     "name": "stdout",
     "output_type": "stream",
     "text": [
      "              full name\n",
      "0             Jared Ely\n",
      "1            Mary Smith\n",
      "2      Patricia Johnson\n",
      "3        Linda Williams\n",
      "4         Barbara Jones\n",
      "..                  ...\n",
      "594  Terrence Gunderson\n",
      "595    Enrique Forsythe\n",
      "596      Freddie Duggan\n",
      "597       Wade Delvalle\n",
      "598      Austin Cintron\n",
      "\n",
      "[599 rows x 1 columns]\n"
     ]
    }
   ],
   "source": [
    "cursor.execute(\"SELECT first_name || ' ' || last_name \\\"full name\\\" FROM customer;\")\n",
    "\n",
    "data = cursor.fetchall()\n",
    "col_names = [desc[0] for desc in cursor.description]\n",
    "\n",
    "df=pd.DataFrame(data, columns=col_names)\n",
    "print(df)"
   ],
   "metadata": {
    "collapsed": false,
    "ExecuteTime": {
     "end_time": "2024-01-23T06:53:07.027718300Z",
     "start_time": "2024-01-23T06:53:06.995211100Z"
    }
   },
   "id": "8ecd0ef790fcc094",
   "execution_count": 34
  }
 ],
 "metadata": {
  "kernelspec": {
   "display_name": "Python 3",
   "language": "python",
   "name": "python3"
  },
  "language_info": {
   "codemirror_mode": {
    "name": "ipython",
    "version": 2
   },
   "file_extension": ".py",
   "mimetype": "text/x-python",
   "name": "python",
   "nbconvert_exporter": "python",
   "pygments_lexer": "ipython2",
   "version": "2.7.6"
  }
 },
 "nbformat": 4,
 "nbformat_minor": 5
}
