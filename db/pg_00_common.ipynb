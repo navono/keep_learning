{
 "cells": [
  {
   "cell_type": "code",
   "execution_count": null,
   "id": "initial_id",
   "metadata": {
    "collapsed": true
   },
   "outputs": [],
   "source": [
    "import psycopg\n",
    "import pandas as pd   "
   ]
  },
  {
   "cell_type": "code",
   "outputs": [],
   "source": [
    "def pg_connect():\n",
    "    conn_info = f'host=localhost port=5432 dbname=dvdrental user=postgres password=1234'\n",
    "    conn = psycopg.connect(conninfo=conn_info)\n",
    "    \n",
    "    # 创建游标对象\n",
    "    return conn.cursor()"
   ],
   "metadata": {
    "collapsed": false
   },
   "id": "5bac42d92ebe1e3b"
  },
  {
   "cell_type": "code",
   "outputs": [],
   "source": [
    "def run_sql(cursor, sql_stat):\n",
    "    cursor.execute(sql_stat)\n",
    "    display_data(cursor)"
   ],
   "metadata": {
    "collapsed": false
   },
   "id": "65990f3377077a85"
  },
  {
   "cell_type": "code",
   "outputs": [],
   "source": [
    "def display_data(cursor):\n",
    "    data = cursor.fetchall()\n",
    "    col_names = [desc[0] for desc in cursor.description]\n",
    "    \n",
    "    df=pd.DataFrame(data, columns=col_names)\n",
    "    print(df)"
   ],
   "metadata": {
    "collapsed": false
   },
   "id": "2dd956b28bc27038"
  }
 ],
 "metadata": {
  "kernelspec": {
   "display_name": "Python 3",
   "language": "python",
   "name": "python3"
  },
  "language_info": {
   "codemirror_mode": {
    "name": "ipython",
    "version": 2
   },
   "file_extension": ".py",
   "mimetype": "text/x-python",
   "name": "python",
   "nbconvert_exporter": "python",
   "pygments_lexer": "ipython2",
   "version": "2.7.6"
  }
 },
 "nbformat": 4,
 "nbformat_minor": 5
}
