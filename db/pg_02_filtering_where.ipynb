{
 "cells": [
  {
   "cell_type": "markdown",
   "source": [
    "```\n",
    "SELECT \n",
    "  select_list \n",
    "FROM \n",
    "  table_name \n",
    "WHERE \n",
    "  condition \n",
    "ORDER BY \n",
    "  sort_expression;\n",
    "```\n",
    "\n",
    "![where](./pg_where.png)"
   ],
   "metadata": {
    "collapsed": false
   },
   "id": "92749852e0cc81"
  },
  {
   "cell_type": "code",
   "execution_count": 1,
   "id": "initial_id",
   "metadata": {
    "collapsed": true,
    "ExecuteTime": {
     "end_time": "2024-01-23T07:35:16.133871100Z",
     "start_time": "2024-01-23T07:35:15.677664500Z"
    }
   },
   "outputs": [],
   "source": [
    "import ipynb_importer\n",
    "%run pg_00_common.ipynb\n",
    "cursor = pg_connect()"
   ]
  },
  {
   "cell_type": "code",
   "outputs": [
    {
     "name": "stdout",
     "output_type": "stream",
     "text": [
      "  last_name first_name\n",
      "0      Rice      Jamie\n",
      "1     Waugh      Jamie\n"
     ]
    }
   ],
   "source": [
    "sql = \"\"\"\n",
    "SELECT \n",
    "  last_name, \n",
    "  first_name \n",
    "FROM \n",
    "  customer \n",
    "WHERE \n",
    "  first_name = 'Jamie';\n",
    "\"\"\"\n",
    "run_sql(cursor, sql)"
   ],
   "metadata": {
    "collapsed": false,
    "ExecuteTime": {
     "end_time": "2024-01-23T07:35:36.704071400Z",
     "start_time": "2024-01-23T07:35:36.670869100Z"
    }
   },
   "id": "f513082019f903ff",
   "execution_count": 2
  },
  {
   "cell_type": "code",
   "outputs": [
    {
     "name": "stdout",
     "output_type": "stream",
     "text": [
      "  last_name first_name\n",
      "0      Rice      Jamie\n"
     ]
    }
   ],
   "source": [
    "sql = \"\"\"\n",
    "SELECT \n",
    "  last_name, \n",
    "  first_name \n",
    "FROM \n",
    "  customer \n",
    "WHERE \n",
    "  first_name = 'Jamie' \n",
    "  AND last_name = 'Rice';\n",
    "\"\"\"\n",
    "run_sql(cursor, sql)"
   ],
   "metadata": {
    "collapsed": false,
    "ExecuteTime": {
     "end_time": "2024-01-23T07:36:15.416384200Z",
     "start_time": "2024-01-23T07:36:15.398871400Z"
    }
   },
   "id": "eaf4e7df2f5575e8",
   "execution_count": 3
  },
  {
   "cell_type": "code",
   "outputs": [
    {
     "name": "stdout",
     "output_type": "stream",
     "text": [
      "  first_name  last_name\n",
      "0      Laura  Rodriguez\n",
      "1       Adam      Gooch\n"
     ]
    }
   ],
   "source": [
    "sql = \"\"\"\n",
    "SELECT \n",
    "  first_name, \n",
    "  last_name \n",
    "FROM \n",
    "  customer \n",
    "WHERE \n",
    "  last_name = 'Rodriguez' \n",
    "  OR first_name = 'Adam';\n",
    "\"\"\"\n",
    "run_sql(cursor, sql)"
   ],
   "metadata": {
    "collapsed": false,
    "ExecuteTime": {
     "end_time": "2024-01-23T07:36:43.798046100Z",
     "start_time": "2024-01-23T07:36:43.780045800Z"
    }
   },
   "id": "25df86e110ac7720",
   "execution_count": 4
  },
  {
   "cell_type": "code",
   "outputs": [
    {
     "name": "stdout",
     "output_type": "stream",
     "text": [
      "  first_name last_name\n",
      "0        Ann     Evans\n",
      "1       Anne    Powell\n",
      "2      Annie   Russell\n"
     ]
    }
   ],
   "source": [
    "sql = \"\"\"\n",
    "SELECT \n",
    "  first_name, \n",
    "  last_name \n",
    "FROM \n",
    "  customer \n",
    "WHERE \n",
    "  first_name IN ('Ann', 'Anne', 'Annie');\n",
    "\"\"\"\n",
    "run_sql(cursor, sql)"
   ],
   "metadata": {
    "collapsed": false,
    "ExecuteTime": {
     "end_time": "2024-01-23T07:36:58.755893900Z",
     "start_time": "2024-01-23T07:36:58.746040900Z"
    }
   },
   "id": "26ccfa1ff6e7541f",
   "execution_count": 5
  },
  {
   "cell_type": "code",
   "outputs": [
    {
     "name": "stdout",
     "output_type": "stream",
     "text": [
      "  first_name last_name\n",
      "0       Anna      Hill\n",
      "1        Ann     Evans\n",
      "2       Anne    Powell\n",
      "3      Annie   Russell\n",
      "4    Annette     Olson\n"
     ]
    }
   ],
   "source": [
    "sql = \"\"\"\n",
    "SELECT \n",
    "  first_name, \n",
    "  last_name \n",
    "FROM \n",
    "  customer \n",
    "WHERE \n",
    "  first_name LIKE 'Ann%';\n",
    "\"\"\"\n",
    "\n",
    "# % 称为通配符，可以匹配任何字符串。 'Ann%' 模式匹配以 'Ann' 开头的任何字符串 \n",
    "\n",
    "run_sql(cursor, sql)"
   ],
   "metadata": {
    "collapsed": false,
    "ExecuteTime": {
     "end_time": "2024-01-23T07:37:15.006865900Z",
     "start_time": "2024-01-23T07:37:14.999841600Z"
    }
   },
   "id": "74895c1f731201d2",
   "execution_count": 6
  },
  {
   "cell_type": "code",
   "outputs": [
    {
     "name": "stdout",
     "output_type": "stream",
     "text": [
      "   first_name  name_length\n",
      "0         Amy            3\n",
      "1         Ann            3\n",
      "2         Ana            3\n",
      "3        Andy            4\n",
      "4        Anna            4\n",
      "5        Anne            4\n",
      "6        Alma            4\n",
      "7        Adam            4\n",
      "8        Alan            4\n",
      "9        Alex            4\n",
      "10      Angel            5\n",
      "11      Agnes            5\n",
      "12      Andre            5\n",
      "13      Aaron            5\n",
      "14      Allan            5\n",
      "15      Allen            5\n",
      "16      Alice            5\n",
      "17      Alvin            5\n",
      "18      Anita            5\n",
      "19      Amber            5\n",
      "20      April            5\n",
      "21      Annie            5\n"
     ]
    }
   ],
   "source": [
    "sql = \"\"\"\n",
    "SELECT \n",
    "  first_name, \n",
    "  LENGTH(first_name) name_length \n",
    "FROM \n",
    "  customer \n",
    "WHERE \n",
    "  first_name LIKE 'A%' \n",
    "  AND LENGTH(first_name) BETWEEN 3 AND 5 \n",
    "ORDER BY \n",
    "  name_length;\n",
    "\"\"\"\n",
    "\n",
    "run_sql(cursor, sql)"
   ],
   "metadata": {
    "collapsed": false,
    "ExecuteTime": {
     "end_time": "2024-01-23T07:38:26.549493500Z",
     "start_time": "2024-01-23T07:38:26.539493900Z"
    }
   },
   "id": "376d686339b2a602",
   "execution_count": 7
  },
  {
   "cell_type": "code",
   "outputs": [
    {
     "name": "stdout",
     "output_type": "stream",
     "text": [
      "  first_name last_name\n",
      "0     Brandy    Graves\n",
      "1    Brandon      Huey\n",
      "2       Brad   Mccurdy\n"
     ]
    }
   ],
   "source": [
    "sql = \"\"\"\n",
    "SELECT \n",
    "  first_name, \n",
    "  last_name \n",
    "FROM \n",
    "  customer \n",
    "WHERE \n",
    "  first_name LIKE 'Bra%' \n",
    "  AND last_name <> 'Motley';\n",
    "\"\"\"\n",
    "\n",
    "# <> not equal，或者 !=\n",
    "\n",
    "run_sql(cursor, sql)"
   ],
   "metadata": {
    "collapsed": false,
    "ExecuteTime": {
     "end_time": "2024-01-23T07:39:30.457742400Z",
     "start_time": "2024-01-23T07:39:30.450742500Z"
    }
   },
   "id": "c5d4ca0020a0b77f",
   "execution_count": 8
  }
 ],
 "metadata": {
  "kernelspec": {
   "display_name": "Python 3",
   "language": "python",
   "name": "python3"
  },
  "language_info": {
   "codemirror_mode": {
    "name": "ipython",
    "version": 2
   },
   "file_extension": ".py",
   "mimetype": "text/x-python",
   "name": "python",
   "nbconvert_exporter": "python",
   "pygments_lexer": "ipython2",
   "version": "2.7.6"
  }
 },
 "nbformat": 4,
 "nbformat_minor": 5
}
