{
 "cells": [
  {
   "cell_type": "markdown",
   "source": [
    "# Check 约束\n",
    "在 PostgreSQL 中，CHECK 约束确保列或列组中的值满足特定条件。约束使用布尔表达式来评估值，确保只有有效数据才能在表中插入或更新。\n",
    "\n",
    "```sql\n",
    "CREATE TABLE table_name(\n",
    "   column1 datatype,\n",
    "   ...,\n",
    "   CONSTRAINT constraint_name CHECK(condition)\n",
    ");\n",
    "```\n",
    "\n",
    "默认情况下， PG 会为 `CHECK` 给定一个以下格式的名称：\n",
    "```\n",
    "{table_name}_{column_name}_check\n",
    "```\n",
    "\n",
    "为已经存在的表增加 `CHECK` 约束：\n",
    "```sql\n",
    "ALTER TABLE table_name\n",
    "ADD CONSTRAINT constraint_name CHECK (condition);\n",
    "```\n",
    "\n",
    "删除 `CHECK` 约束：\n",
    "```sql\n",
    "ALTER TABLE table_name\n",
    "DROP CONSTRAINT constraint_name;\n",
    "```"
   ],
   "metadata": {
    "collapsed": false
   },
   "id": "593d07c15a33c895"
  },
  {
   "cell_type": "code",
   "execution_count": 1,
   "id": "initial_id",
   "metadata": {
    "collapsed": true,
    "ExecuteTime": {
     "end_time": "2024-03-17T06:26:17.898360Z",
     "start_time": "2024-03-17T06:26:16.923892Z"
    }
   },
   "outputs": [
    {
     "name": "stdout",
     "output_type": "stream",
     "text": [
      "importing Jupyter notebook from D:\\sourcecode\\keep_learning\\db\\pg\\pg_00_common.ipynb\n"
     ]
    }
   ],
   "source": [
    "import common.ipynb_importer\n",
    "from db.pg.pg_00_common import *\n",
    "\n",
    "cursor = pg_connect()"
   ]
  },
  {
   "cell_type": "code",
   "outputs": [
    {
     "ename": "KeyboardInterrupt",
     "evalue": "",
     "output_type": "error",
     "traceback": [
      "\u001B[1;31m---------------------------------------------------------------------------\u001B[0m",
      "\u001B[1;31mKeyboardInterrupt\u001B[0m                         Traceback (most recent call last)",
      "Cell \u001B[1;32mIn[2], line 15\u001B[0m\n\u001B[0;32m      1\u001B[0m \u001B[38;5;66;03m# 创建表\u001B[39;00m\n\u001B[0;32m      2\u001B[0m sql\u001B[38;5;241m=\u001B[39m \u001B[38;5;124m\"\"\"\u001B[39m\n\u001B[0;32m      3\u001B[0m \u001B[38;5;124mCREATE TABLE employees (\u001B[39m\n\u001B[0;32m      4\u001B[0m \u001B[38;5;124m  id SERIAL PRIMARY KEY, \u001B[39m\n\u001B[1;32m   (...)\u001B[0m\n\u001B[0;32m     13\u001B[0m \u001B[38;5;124mVALUES (\u001B[39m\u001B[38;5;124m'\u001B[39m\u001B[38;5;124mJohn\u001B[39m\u001B[38;5;124m'\u001B[39m\u001B[38;5;124m, \u001B[39m\u001B[38;5;124m'\u001B[39m\u001B[38;5;124mDoe\u001B[39m\u001B[38;5;124m'\u001B[39m\u001B[38;5;124m, \u001B[39m\u001B[38;5;124m'\u001B[39m\u001B[38;5;124m1972-01-01\u001B[39m\u001B[38;5;124m'\u001B[39m\u001B[38;5;124m, \u001B[39m\u001B[38;5;124m'\u001B[39m\u001B[38;5;124m2015-07-01\u001B[39m\u001B[38;5;124m'\u001B[39m\u001B[38;5;124m, -100000);\u001B[39m\n\u001B[0;32m     14\u001B[0m \u001B[38;5;124m\"\"\"\u001B[39m\n\u001B[1;32m---> 15\u001B[0m \u001B[43mcursor\u001B[49m\u001B[38;5;241;43m.\u001B[39;49m\u001B[43mexecute\u001B[49m\u001B[43m(\u001B[49m\u001B[43msql\u001B[49m\u001B[43m)\u001B[49m\n",
      "File \u001B[1;32m~\\.conda\\envs\\learning\\lib\\site-packages\\psycopg\\cursor.py:732\u001B[0m, in \u001B[0;36mCursor.execute\u001B[1;34m(self, query, params, prepare, binary)\u001B[0m\n\u001B[0;32m    728\u001B[0m         \u001B[38;5;28mself\u001B[39m\u001B[38;5;241m.\u001B[39m_conn\u001B[38;5;241m.\u001B[39mwait(\n\u001B[0;32m    729\u001B[0m             \u001B[38;5;28mself\u001B[39m\u001B[38;5;241m.\u001B[39m_execute_gen(query, params, prepare\u001B[38;5;241m=\u001B[39mprepare, binary\u001B[38;5;241m=\u001B[39mbinary)\n\u001B[0;32m    730\u001B[0m         )\n\u001B[0;32m    731\u001B[0m \u001B[38;5;28;01mexcept\u001B[39;00m e\u001B[38;5;241m.\u001B[39m_NO_TRACEBACK \u001B[38;5;28;01mas\u001B[39;00m ex:\n\u001B[1;32m--> 732\u001B[0m     \u001B[38;5;28;01mraise\u001B[39;00m ex\u001B[38;5;241m.\u001B[39mwith_traceback(\u001B[38;5;28;01mNone\u001B[39;00m)\n\u001B[0;32m    733\u001B[0m \u001B[38;5;28;01mreturn\u001B[39;00m \u001B[38;5;28mself\u001B[39m\n",
      "\u001B[1;31mKeyboardInterrupt\u001B[0m: "
     ]
    }
   ],
   "source": [
    "# 创建表\n",
    "sql= \"\"\"\n",
    "CREATE TABLE employees (\n",
    "  id SERIAL PRIMARY KEY, \n",
    "  first_name VARCHAR (50) NOT NULL, \n",
    "  last_name VARCHAR (50) NOT NULL,  \n",
    "  birth_date DATE NOT NULL, \n",
    "  joined_date DATE NOT NULL, \n",
    "  salary numeric CHECK(salary > 0)\n",
    ");\n",
    "\n",
    "INSERT INTO employees (first_name, last_name, birth_date, joined_date, salary) \n",
    "VALUES ('John', 'Doe', '1972-01-01', '2015-07-01', -100000);\n",
    "\"\"\"\n",
    "cursor.execute(sql)\n",
    "\n",
    "# 运行时会提示插入错误"
   ],
   "metadata": {
    "collapsed": false,
    "ExecuteTime": {
     "end_time": "2024-03-17T06:27:57.465362Z",
     "start_time": "2024-03-17T06:26:21.020356Z"
    }
   },
   "id": "8d36c799bd7018db",
   "execution_count": 2
  },
  {
   "cell_type": "code",
   "outputs": [],
   "source": [
    "sql =\"\"\"\n",
    "ALTER TABLE employees\n",
    "ADD CONSTRAINT joined_date_check\n",
    "CHECK ( joined_date >  birth_date );\n",
    "\n",
    "INSERT INTO employees (first_name, last_name, birth_date, joined_date, salary) \n",
    "VALUES ('John', 'Doe', '1990-01-01', '1989-01-01', 100000);\n",
    "\"\"\"\n",
    "\n",
    "cursor.execute(sql)\n",
    "# 运行时会提示插入错误"
   ],
   "metadata": {
    "collapsed": false,
    "ExecuteTime": {
     "start_time": "2024-03-17T06:27:57.470360Z"
    }
   },
   "id": "6a6cbb0a5b9e63e5"
  },
  {
   "cell_type": "markdown",
   "source": [
    "## 在 CHECK 约束中使用函数\n",
    "```\n",
    "ALTER TABLE employees\n",
    "ADD CONSTRAINT first_name_check\n",
    "CHECK ( LENGTH(TRIM(first_name)) >= 3);\n",
    "```"
   ],
   "metadata": {
    "collapsed": false
   },
   "id": "a4baf33cc97ea561"
  },
  {
   "cell_type": "code",
   "outputs": [],
   "source": [
    "sql =\"\"\"\n",
    "INSERT INTO employees (first_name, last_name, birth_date, joined_date, salary) \n",
    "VALUES ('Ab', 'Doe', '1990-01-01', '2008-01-01', 100000);\n",
    "\"\"\"\n",
    "\n",
    "cursor.execute(sql)\n",
    "# 运行时会提示插入错误"
   ],
   "metadata": {
    "collapsed": false
   },
   "id": "be4abec41daff583"
  },
  {
   "cell_type": "markdown",
   "source": [
    "## 删除 CHECK 约束\n",
    "```sql\n",
    "ALTER TABLE employees\n",
    "DROP CONSTRAINT joined_date_check;\n",
    "```"
   ],
   "metadata": {
    "collapsed": false
   },
   "id": "a02abeef3544536c"
  }
 ],
 "metadata": {
  "kernelspec": {
   "display_name": "Python 3",
   "language": "python",
   "name": "python3"
  },
  "language_info": {
   "codemirror_mode": {
    "name": "ipython",
    "version": 2
   },
   "file_extension": ".py",
   "mimetype": "text/x-python",
   "name": "python",
   "nbconvert_exporter": "python",
   "pygments_lexer": "ipython2",
   "version": "2.7.6"
  }
 },
 "nbformat": 4,
 "nbformat_minor": 5
}
