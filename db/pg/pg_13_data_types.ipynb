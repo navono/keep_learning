{
 "cells": [
  {
   "cell_type": "markdown",
   "source": [
    "# 布尔\n",
    "\n",
    "表示 `true` 的有： `true`, `'t'`, `'true'`, `'y'`, `yes`, `1`。\n",
    "表示 `false` 的有： `false`, `'f'`, `'false'`, `'n'`, `no`, `0`。"
   ],
   "metadata": {
    "collapsed": false
   },
   "id": "2cdea7d4ce05fb7"
  },
  {
   "cell_type": "markdown",
   "source": [
    "# 字符串\n",
    "\n",
    "表示字符串的数据类型有：`CHAR`, `VARCHAR`, `TEXT`。\n",
    "\n",
    "## CHAR\n",
    "\n",
    "固定长度字符串，带空白填充\n",
    "\n",
    "## VARCHAR\n",
    "\n",
    "有长度限制的可变长度字符串\n",
    "\n",
    "## TEXT\n",
    "\n",
    "无长度限制\n",
    "\n",
    "\n",
    "## 区别\n",
    "`CHAR` 和 `VARCHAR` 会被限制在它们的参数（n）的长度。对于不带参数（n）的 `VARCHAR`，它会被默认为 `TEXT` 数据类型。\n",
    "而如何 `CHAR` 不带参数（n），那么它的默认长度为 1。\n",
    "\n",
    "在 `pgSQL` 中，三种类型在性能上无任何差异。"
   ],
   "metadata": {
    "collapsed": false
   },
   "id": "c603da456ffc8b21"
  },
  {
   "cell_type": "code",
   "execution_count": 8,
   "id": "initial_id",
   "metadata": {
    "collapsed": true,
    "ExecuteTime": {
     "end_time": "2024-03-27T00:52:20.077820Z",
     "start_time": "2024-03-27T00:52:20.044629Z"
    }
   },
   "outputs": [],
   "source": [
    "import common.ipynb_importer\n",
    "from db.pg.pg_00_common import *\n",
    "\n",
    "cursor = pg_connect()"
   ]
  },
  {
   "cell_type": "code",
   "outputs": [
    {
     "data": {
      "text/plain": "<psycopg.Cursor [COMMAND_OK] [INTRANS] (host=localhost user=postgres database=dvdrental) at 0x12ef9918300>"
     },
     "execution_count": 9,
     "metadata": {},
     "output_type": "execute_result"
    }
   ],
   "source": [
    "sql = \"\"\"\n",
    "CREATE TABLE character_tests (\n",
    "  id serial PRIMARY KEY, \n",
    "  x CHAR (1), \n",
    "  y VARCHAR (10), \n",
    "  z TEXT\n",
    ");\n",
    "\"\"\"\n",
    "\n",
    "cursor.execute(sql)\n",
    "# 执行时会错误，因为 'Yes' 长度超过了 1"
   ],
   "metadata": {
    "collapsed": false,
    "ExecuteTime": {
     "end_time": "2024-03-27T00:52:21.870718Z",
     "start_time": "2024-03-27T00:52:21.848467Z"
    }
   },
   "id": "4978ee2c3115e289",
   "execution_count": 9
  },
  {
   "cell_type": "code",
   "outputs": [
    {
     "ename": "StringDataRightTruncation",
     "evalue": "对于字符类型来说这个值太长了(1)",
     "output_type": "error",
     "traceback": [
      "\u001B[1;31m---------------------------------------------------------------------------\u001B[0m",
      "\u001B[1;31mStringDataRightTruncation\u001B[0m                 Traceback (most recent call last)",
      "Cell \u001B[1;32mIn[3], line 10\u001B[0m\n\u001B[0;32m      1\u001B[0m sql \u001B[38;5;241m=\u001B[39m \u001B[38;5;124m\"\"\"\u001B[39m\n\u001B[0;32m      2\u001B[0m \u001B[38;5;124mINSERT INTO character_tests (x, y, z) \u001B[39m\n\u001B[0;32m      3\u001B[0m \u001B[38;5;124mVALUES \u001B[39m\n\u001B[1;32m   (...)\u001B[0m\n\u001B[0;32m      7\u001B[0m \u001B[38;5;124m  );\u001B[39m\n\u001B[0;32m      8\u001B[0m \u001B[38;5;124m\"\"\"\u001B[39m\n\u001B[1;32m---> 10\u001B[0m \u001B[43mcursor\u001B[49m\u001B[38;5;241;43m.\u001B[39;49m\u001B[43mexecute\u001B[49m\u001B[43m(\u001B[49m\u001B[43msql\u001B[49m\u001B[43m)\u001B[49m\n\u001B[0;32m     11\u001B[0m \u001B[38;5;66;03m# 执行时会错误，因为 'Yes' 长度超过了 1\u001B[39;00m\n",
      "File \u001B[1;32m~\\.conda\\envs\\learning\\lib\\site-packages\\psycopg\\cursor.py:732\u001B[0m, in \u001B[0;36mCursor.execute\u001B[1;34m(self, query, params, prepare, binary)\u001B[0m\n\u001B[0;32m    728\u001B[0m         \u001B[38;5;28mself\u001B[39m\u001B[38;5;241m.\u001B[39m_conn\u001B[38;5;241m.\u001B[39mwait(\n\u001B[0;32m    729\u001B[0m             \u001B[38;5;28mself\u001B[39m\u001B[38;5;241m.\u001B[39m_execute_gen(query, params, prepare\u001B[38;5;241m=\u001B[39mprepare, binary\u001B[38;5;241m=\u001B[39mbinary)\n\u001B[0;32m    730\u001B[0m         )\n\u001B[0;32m    731\u001B[0m \u001B[38;5;28;01mexcept\u001B[39;00m e\u001B[38;5;241m.\u001B[39m_NO_TRACEBACK \u001B[38;5;28;01mas\u001B[39;00m ex:\n\u001B[1;32m--> 732\u001B[0m     \u001B[38;5;28;01mraise\u001B[39;00m ex\u001B[38;5;241m.\u001B[39mwith_traceback(\u001B[38;5;28;01mNone\u001B[39;00m)\n\u001B[0;32m    733\u001B[0m \u001B[38;5;28;01mreturn\u001B[39;00m \u001B[38;5;28mself\u001B[39m\n",
      "\u001B[1;31mStringDataRightTruncation\u001B[0m: 对于字符类型来说这个值太长了(1)"
     ]
    }
   ],
   "source": [
    "sql = \"\"\"\n",
    "INSERT INTO character_tests (x, y, z) \n",
    "VALUES \n",
    "  (\n",
    "    'Yes', 'This is a test for varchar', \n",
    "    'This is a very long text for the PostgreSQL text column'\n",
    "  );\n",
    "\"\"\"\n",
    "\n",
    "cursor.execute(sql)\n",
    "# 执行时会错误，因为 'Yes' 长度超过了 1"
   ],
   "metadata": {
    "collapsed": false,
    "ExecuteTime": {
     "end_time": "2024-03-27T00:51:32.690111Z",
     "start_time": "2024-03-27T00:51:32.414774Z"
    }
   },
   "id": "9638122ae355d68c",
   "execution_count": 3
  },
  {
   "cell_type": "code",
   "outputs": [
    {
     "ename": "StringDataRightTruncation",
     "evalue": "对于可变字符类型来说，值太长了(10)",
     "output_type": "error",
     "traceback": [
      "\u001B[1;31m---------------------------------------------------------------------------\u001B[0m",
      "\u001B[1;31mStringDataRightTruncation\u001B[0m                 Traceback (most recent call last)",
      "Cell \u001B[1;32mIn[7], line 11\u001B[0m\n\u001B[0;32m      1\u001B[0m sql \u001B[38;5;241m=\u001B[39m \u001B[38;5;124m\"\"\"\u001B[39m\n\u001B[0;32m      2\u001B[0m \u001B[38;5;124mINSERT INTO character_tests (x, y, z) \u001B[39m\n\u001B[0;32m      3\u001B[0m \u001B[38;5;124mVALUES \u001B[39m\n\u001B[1;32m   (...)\u001B[0m\n\u001B[0;32m      8\u001B[0m \u001B[38;5;124m  );\u001B[39m\n\u001B[0;32m      9\u001B[0m \u001B[38;5;124m\"\"\"\u001B[39m\n\u001B[1;32m---> 11\u001B[0m \u001B[43mcursor\u001B[49m\u001B[38;5;241;43m.\u001B[39;49m\u001B[43mexecute\u001B[49m\u001B[43m(\u001B[49m\u001B[43msql\u001B[49m\u001B[43m)\u001B[49m\n",
      "File \u001B[1;32m~\\.conda\\envs\\learning\\lib\\site-packages\\psycopg\\cursor.py:732\u001B[0m, in \u001B[0;36mCursor.execute\u001B[1;34m(self, query, params, prepare, binary)\u001B[0m\n\u001B[0;32m    728\u001B[0m         \u001B[38;5;28mself\u001B[39m\u001B[38;5;241m.\u001B[39m_conn\u001B[38;5;241m.\u001B[39mwait(\n\u001B[0;32m    729\u001B[0m             \u001B[38;5;28mself\u001B[39m\u001B[38;5;241m.\u001B[39m_execute_gen(query, params, prepare\u001B[38;5;241m=\u001B[39mprepare, binary\u001B[38;5;241m=\u001B[39mbinary)\n\u001B[0;32m    730\u001B[0m         )\n\u001B[0;32m    731\u001B[0m \u001B[38;5;28;01mexcept\u001B[39;00m e\u001B[38;5;241m.\u001B[39m_NO_TRACEBACK \u001B[38;5;28;01mas\u001B[39;00m ex:\n\u001B[1;32m--> 732\u001B[0m     \u001B[38;5;28;01mraise\u001B[39;00m ex\u001B[38;5;241m.\u001B[39mwith_traceback(\u001B[38;5;28;01mNone\u001B[39;00m)\n\u001B[0;32m    733\u001B[0m \u001B[38;5;28;01mreturn\u001B[39;00m \u001B[38;5;28mself\u001B[39m\n",
      "\u001B[1;31mStringDataRightTruncation\u001B[0m: 对于可变字符类型来说，值太长了(10)"
     ]
    }
   ],
   "source": [
    "sql = \"\"\"\n",
    "INSERT INTO character_tests (x, y, z) \n",
    "VALUES \n",
    "  (\n",
    "    'Y', \n",
    "    'This is a test for varchar', \n",
    "    'This is a very long text for the PostgreSQL text column'\n",
    "  );\n",
    "\"\"\"\n",
    "\n",
    "cursor.execute(sql)"
   ],
   "metadata": {
    "collapsed": false,
    "ExecuteTime": {
     "end_time": "2024-03-27T00:51:42.341119Z",
     "start_time": "2024-03-27T00:51:42.307679Z"
    }
   },
   "id": "1696baf4c4639f3",
   "execution_count": 7
  },
  {
   "cell_type": "code",
   "outputs": [
    {
     "name": "stdout",
     "output_type": "stream",
     "text": [
      "   id  x           y                                                  z\n",
      "0   2  Y  varchar(n)  This is a very long text for the PostgreSQL te...\n"
     ]
    }
   ],
   "source": [
    "sql = \"\"\"\n",
    "INSERT INTO character_tests (x, y, z) \n",
    "VALUES \n",
    "  (\n",
    "    'Y', \n",
    "    'varchar(n)', \n",
    "    'This is a very long text for the PostgreSQL text column'\n",
    "  )\n",
    "RETURNING *;\n",
    "\"\"\"\n",
    "\n",
    "run_sql(cursor, sql)"
   ],
   "metadata": {
    "collapsed": false,
    "ExecuteTime": {
     "end_time": "2024-03-27T00:52:56.853809Z",
     "start_time": "2024-03-27T00:52:56.838810Z"
    }
   },
   "id": "e19e119a8fb98d34",
   "execution_count": 12
  },
  {
   "cell_type": "markdown",
   "source": [
    "# NUMERIC\n",
    "\n",
    "数值类型。\n",
    "```\n",
    "NUMERIC(precision, scale)\n",
    "```\n",
    "\n",
    "如果不需要精度，则不应使用 `NUMERIC` 类型，因为 `NUMERIC` 值的计算通常比 `Integer` 或 `Float` 或 `double` 类型慢。\n",
    "`NUMERIC` 的数值可以设置为 `NaN`。"
   ],
   "metadata": {
    "collapsed": false
   },
   "id": "43508f13896c35d5"
  },
  {
   "cell_type": "markdown",
   "source": [
    "# Integer\n",
    "\n",
    "整型有三种类型：\n",
    "- `SMALLINT`：2 字节，范围 -32768 到 +32767\n",
    "- `INTEGER`：4 字节，范围 -2147483648 到 +2147483647\n",
    "- `BIGINT`：8 字节，范围 -9223372036854775808 到 +9223372036854775807"
   ],
   "metadata": {
    "collapsed": false
   },
   "id": "f04f477919494765"
  },
  {
   "cell_type": "markdown",
   "source": [
    "# 日期和时间\n",
    "\n",
    "TODO"
   ],
   "metadata": {
    "collapsed": false
   },
   "id": "126bd417efad8335"
  },
  {
   "cell_type": "markdown",
   "source": [
    "# Interval\n",
    "\n",
    "TODO"
   ],
   "metadata": {
    "collapsed": false
   },
   "id": "adb5860180487ce1"
  },
  {
   "cell_type": "markdown",
   "source": [
    "# UUID\n",
    "\n",
    "TODO"
   ],
   "metadata": {
    "collapsed": false
   },
   "id": "691e3a6693c82746"
  },
  {
   "cell_type": "markdown",
   "source": [
    "# Array、hstore"
   ],
   "metadata": {
    "collapsed": false
   },
   "id": "c93dc086531197eb"
  },
  {
   "cell_type": "markdown",
   "source": [
    "# JSON、JSONB"
   ],
   "metadata": {
    "collapsed": false
   },
   "id": "7cd8618ad6f392aa"
  }
 ],
 "metadata": {
  "kernelspec": {
   "display_name": "Python 3",
   "language": "python",
   "name": "python3"
  },
  "language_info": {
   "codemirror_mode": {
    "name": "ipython",
    "version": 2
   },
   "file_extension": ".py",
   "mimetype": "text/x-python",
   "name": "python",
   "nbconvert_exporter": "python",
   "pygments_lexer": "ipython2",
   "version": "2.7.6"
  }
 },
 "nbformat": 4,
 "nbformat_minor": 5
}
