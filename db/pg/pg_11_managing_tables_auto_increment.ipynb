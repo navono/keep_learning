{
 "cells": [
  {
   "cell_type": "markdown",
   "source": [
    "```\n",
    "CREATE TABLE table_name(\n",
    "    id SERIAL\n",
    ");\n",
    "```\n",
    "\n",
    "等同于\n",
    "```\n",
    "CREATE SEQUENCE table_name_id_seq;\n",
    "\n",
    "CREATE TABLE table_name (\n",
    "    id integer NOT NULL DEFAULT nextval('table_name_id_seq')\n",
    ");\n",
    "\n",
    "ALTER SEQUENCE table_name_id_seq\n",
    "OWNED BY table_name.id;\n",
    "```\n",
    "\n",
    "Name\t        Storage Size\t    Range\n",
    "SMALLSERIAL     \t2 bytes\t        1 to 32,767\n",
    "SERIAL          \t4 bytes\t        1 to 2,147,483,647\n",
    "BIGSERIAL       \t8 bytes\t        1 to 9,223,372,036,854,775,807"
   ],
   "metadata": {
    "collapsed": false
   },
   "id": "9bdff7008b3545c0"
  },
  {
   "cell_type": "code",
   "execution_count": 3,
   "id": "initial_id",
   "metadata": {
    "collapsed": true,
    "ExecuteTime": {
     "end_time": "2024-01-30T00:17:08.351735700Z",
     "start_time": "2024-01-30T00:17:08.308568Z"
    }
   },
   "outputs": [],
   "source": [
    "import common.ipynb_importer\n",
    "from db.pg.pg_00_common import *\n",
    "\n",
    "cursor = pg_connect()"
   ]
  },
  {
   "cell_type": "code",
   "outputs": [
    {
     "data": {
      "text/plain": "<psycopg.Cursor [COMMAND_OK] [INTRANS] (host=localhost user=postgres database=dvdrental) at 0x24b06d9f3d0>"
     },
     "execution_count": 4,
     "metadata": {},
     "output_type": "execute_result"
    }
   ],
   "source": [
    "sql = \"\"\"\n",
    "CREATE TABLE fruits(\n",
    "   id SERIAL PRIMARY KEY,\n",
    "   name VARCHAR NOT NULL\n",
    ");\n",
    "INSERT INTO fruits(name) \n",
    "VALUES('Orange'),('Apple')\n",
    "\n",
    "RETURNING id;\n",
    "\"\"\"\n",
    "\n",
    "cursor.execute(sql)"
   ],
   "metadata": {
    "collapsed": false,
    "ExecuteTime": {
     "end_time": "2024-01-30T00:17:09.992150100Z",
     "start_time": "2024-01-30T00:17:09.958019100Z"
    }
   },
   "id": "6424a4a66d9909fd",
   "execution_count": 4
  },
  {
   "cell_type": "code",
   "outputs": [
    {
     "name": "stdout",
     "output_type": "stream",
     "text": [
      "   id    name\n",
      "0   1  Orange\n",
      "1   2   Apple\n"
     ]
    }
   ],
   "source": [
    "sql = \"\"\"\n",
    "SELECT * FROM fruits;\n",
    "\"\"\"\n",
    "\n",
    "run_sql(cursor, sql)"
   ],
   "metadata": {
    "collapsed": false,
    "ExecuteTime": {
     "end_time": "2024-01-30T00:17:11.884168400Z",
     "start_time": "2024-01-30T00:17:11.873168700Z"
    }
   },
   "id": "3a3b9d774765d7cf",
   "execution_count": 5
  },
  {
   "cell_type": "code",
   "outputs": [
    {
     "name": "stdout",
     "output_type": "stream",
     "text": [
      "   currval\n",
      "0        2\n"
     ]
    }
   ],
   "source": [
    "sql = \"\"\"\n",
    "SELECT currval(pg_get_serial_sequence('fruits', 'id'));\n",
    "\"\"\"\n",
    "\n",
    "run_sql(cursor, sql)"
   ],
   "metadata": {
    "collapsed": false,
    "ExecuteTime": {
     "end_time": "2024-01-30T00:17:29.743697600Z",
     "start_time": "2024-01-30T00:17:29.735697800Z"
    }
   },
   "id": "ddbb48da21d593f1",
   "execution_count": 6
  }
 ],
 "metadata": {
  "kernelspec": {
   "display_name": "Python 3",
   "language": "python",
   "name": "python3"
  },
  "language_info": {
   "codemirror_mode": {
    "name": "ipython",
    "version": 2
   },
   "file_extension": ".py",
   "mimetype": "text/x-python",
   "name": "python",
   "nbconvert_exporter": "python",
   "pygments_lexer": "ipython2",
   "version": "2.7.6"
  }
 },
 "nbformat": 4,
 "nbformat_minor": 5
}
