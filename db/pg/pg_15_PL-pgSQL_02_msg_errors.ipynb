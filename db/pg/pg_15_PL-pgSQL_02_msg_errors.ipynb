{
 "cells": [
  {
   "cell_type": "markdown",
   "source": [
    "# Error and Messages\n",
    "\n",
    "```\n",
    "raise level format;\n",
    "```\n",
    "\n",
    "## Level\n",
    "等级有：\n",
    "- debug\n",
    "- log\n",
    "- notice\n",
    "- info\n",
    "- warning\n",
    "- exception\n",
    "\n",
    "如果不指定 level，则默认为 exception，并默认停止当前事务。\n",
    "\n",
    "## Format\n",
    "\n",
    "`format` 是字符串，可以包含占位符（`%`），占位符的值由后面的参数提供。"
   ],
   "metadata": {
    "collapsed": false
   },
   "id": "9f49cdb236c7cdbf"
  },
  {
   "cell_type": "code",
   "execution_count": 1,
   "id": "initial_id",
   "metadata": {
    "collapsed": true,
    "ExecuteTime": {
     "end_time": "2024-04-04T05:06:48.133892Z",
     "start_time": "2024-04-04T05:06:47.245509Z"
    }
   },
   "outputs": [
    {
     "name": "stdout",
     "output_type": "stream",
     "text": [
      "importing Jupyter notebook from D:\\sourcecode\\keep_learning\\db\\pg\\pg_00_common.ipynb\n"
     ]
    }
   ],
   "source": [
    "import common.ipynb_importer\n",
    "from db.pg.pg_00_common import *\n",
    "\n",
    "cursor = pg_connect()"
   ]
  },
  {
   "cell_type": "code",
   "outputs": [
    {
     "name": "stdout",
     "output_type": "stream",
     "text": [
      "information message 2024-04-04 12:39:58.641754+08\n",
      "warning message 2024-04-04 12:39:58.641754+08\n",
      "notice message 2024-04-04 12:39:58.641754+08\n"
     ]
    },
    {
     "data": {
      "text/plain": "<psycopg.Cursor [COMMAND_OK] [INTRANS] (host=localhost user=postgres database=dvdrental) at 0x1c9cd3971c0>"
     },
     "execution_count": 2,
     "metadata": {},
     "output_type": "execute_result"
    }
   ],
   "source": [
    "# 例子\n",
    "sql = \"\"\"\n",
    "do $$ \n",
    "begin \n",
    "  raise info 'information message %', now() ;\n",
    "  raise log 'log message %', now();\n",
    "  raise debug 'debug message %', now();\n",
    "  raise warning 'warning message %', now();\n",
    "  raise notice 'notice message %', now();\n",
    "end $$;\n",
    "\"\"\"\n",
    "cursor.execute(sql)"
   ],
   "metadata": {
    "collapsed": false,
    "ExecuteTime": {
     "end_time": "2024-04-04T04:39:58.708394Z",
     "start_time": "2024-04-04T04:39:58.637876Z"
    }
   },
   "id": "194c6eda57dafe2c",
   "execution_count": 2
  },
  {
   "cell_type": "markdown",
   "source": [
    "注意，不是所有的等级都会被输出，比如 `info` 和 `log` 会被输出，而 `debug` 不会被输出。这由 client_min_messages 和 log_min_messages 配置参数控制。"
   ],
   "metadata": {
    "collapsed": false
   },
   "id": "d5b0f3cb1e3708c9"
  },
  {
   "cell_type": "markdown",
   "source": [
    "## Raising errors\n",
    "\n",
    "要引发错误，需要在 `raise` 语句后使用 `exception` 级别。还可以用额外的语句增加更多的信息。\n",
    "```\n",
    "using option = expression\n",
    "```\n",
    "\n",
    "`option` 可以是：\n",
    "- `hint`\n",
    "- `detail`\n",
    "- `errcode`\n",
    "\n",
    "`expression` 是字符串值表达式。"
   ],
   "metadata": {
    "collapsed": false
   },
   "id": "f72e08079fcca5d8"
  },
  {
   "cell_type": "code",
   "outputs": [
    {
     "ename": "RaiseException",
     "evalue": "duplicate email: info@postgresqltutorial.com\nHINT:  check the email again\nCONTEXT:  在RAISE的第8行的PL/pgSQL函数inline_code_block",
     "output_type": "error",
     "traceback": [
      "\u001B[1;31m---------------------------------------------------------------------------\u001B[0m",
      "\u001B[1;31mRaiseException\u001B[0m                            Traceback (most recent call last)",
      "Cell \u001B[1;32mIn[5], line 13\u001B[0m\n\u001B[0;32m      1\u001B[0m sql \u001B[38;5;241m=\u001B[39m \u001B[38;5;124m\"\"\"\u001B[39m\n\u001B[0;32m      2\u001B[0m \u001B[38;5;124mdo $$ \u001B[39m\n\u001B[0;32m      3\u001B[0m \u001B[38;5;124mdeclare\u001B[39m\n\u001B[1;32m   (...)\u001B[0m\n\u001B[0;32m     11\u001B[0m \u001B[38;5;124mend $$;\u001B[39m\n\u001B[0;32m     12\u001B[0m \u001B[38;5;124m\"\"\"\u001B[39m\n\u001B[1;32m---> 13\u001B[0m \u001B[43mcursor\u001B[49m\u001B[38;5;241;43m.\u001B[39;49m\u001B[43mexecute\u001B[49m\u001B[43m(\u001B[49m\u001B[43msql\u001B[49m\u001B[43m)\u001B[49m\n",
      "File \u001B[1;32m~\\.conda\\envs\\learning\\lib\\site-packages\\psycopg\\cursor.py:732\u001B[0m, in \u001B[0;36mCursor.execute\u001B[1;34m(self, query, params, prepare, binary)\u001B[0m\n\u001B[0;32m    728\u001B[0m         \u001B[38;5;28mself\u001B[39m\u001B[38;5;241m.\u001B[39m_conn\u001B[38;5;241m.\u001B[39mwait(\n\u001B[0;32m    729\u001B[0m             \u001B[38;5;28mself\u001B[39m\u001B[38;5;241m.\u001B[39m_execute_gen(query, params, prepare\u001B[38;5;241m=\u001B[39mprepare, binary\u001B[38;5;241m=\u001B[39mbinary)\n\u001B[0;32m    730\u001B[0m         )\n\u001B[0;32m    731\u001B[0m \u001B[38;5;28;01mexcept\u001B[39;00m e\u001B[38;5;241m.\u001B[39m_NO_TRACEBACK \u001B[38;5;28;01mas\u001B[39;00m ex:\n\u001B[1;32m--> 732\u001B[0m     \u001B[38;5;28;01mraise\u001B[39;00m ex\u001B[38;5;241m.\u001B[39mwith_traceback(\u001B[38;5;28;01mNone\u001B[39;00m)\n\u001B[0;32m    733\u001B[0m \u001B[38;5;28;01mreturn\u001B[39;00m \u001B[38;5;28mself\u001B[39m\n",
      "\u001B[1;31mRaiseException\u001B[0m: duplicate email: info@postgresqltutorial.com\nHINT:  check the email again\nCONTEXT:  在RAISE的第8行的PL/pgSQL函数inline_code_block"
     ]
    }
   ],
   "source": [
    "sql = \"\"\"\n",
    "do $$ \n",
    "declare\n",
    "  email varchar(255) := 'info@postgresqltutorial.com';\n",
    "begin \n",
    "  -- check email for duplicate\n",
    "  -- ...\n",
    "  -- report duplicate email\n",
    "  raise exception 'duplicate email: %', email \n",
    "\t\tusing hint = 'check the email again';\n",
    "end $$;\n",
    "\"\"\"\n",
    "cursor.execute(sql)"
   ],
   "metadata": {
    "collapsed": false,
    "ExecuteTime": {
     "end_time": "2024-04-04T04:47:06.616203Z",
     "start_time": "2024-04-04T04:47:06.035321Z"
    }
   },
   "id": "adf30d5d55ca33a3",
   "execution_count": 5
  },
  {
   "cell_type": "markdown",
   "source": [
    "# Alert\n",
    "\n",
    "语法：\n",
    "```\n",
    "asset condition [, message];\n",
    "```\n",
    "\n",
    "注意：`alert` 最好只用来检查不可能发生的情况，比如检查 `null` 值，而不是用来报告错误，报告错误请使用 `raise`。\n",
    "\n",
    "`PostgreSQL` 提供了 `plpgsql.check_asserts` 参数来控制 `assert` 语句的行为。如果设置为 `on`，则 `assert` 语句会检查条件是否为 `true`，如果为 `false`，则会引发错误。如果设置为 `off`，则 `assert` 语句不会检查条件，也不会引发错误。"
   ],
   "metadata": {
    "collapsed": false
   },
   "id": "cd382c194e22dc61"
  },
  {
   "cell_type": "code",
   "outputs": [
    {
     "ename": "InFailedSqlTransaction",
     "evalue": "当前事务被终止, 事务块结束之前的查询被忽略",
     "output_type": "error",
     "traceback": [
      "\u001B[1;31m---------------------------------------------------------------------------\u001B[0m",
      "\u001B[1;31mInFailedSqlTransaction\u001B[0m                    Traceback (most recent call last)",
      "Cell \u001B[1;32mIn[7], line 13\u001B[0m\n\u001B[0;32m      1\u001B[0m sql \u001B[38;5;241m=\u001B[39m \u001B[38;5;124m\"\"\"\u001B[39m\n\u001B[0;32m      2\u001B[0m \u001B[38;5;124mdo $$\u001B[39m\n\u001B[0;32m      3\u001B[0m \u001B[38;5;124mdeclare \u001B[39m\n\u001B[1;32m   (...)\u001B[0m\n\u001B[0;32m     11\u001B[0m \u001B[38;5;124mend$$;\u001B[39m\n\u001B[0;32m     12\u001B[0m \u001B[38;5;124m\"\"\"\u001B[39m\n\u001B[1;32m---> 13\u001B[0m \u001B[43mcursor\u001B[49m\u001B[38;5;241;43m.\u001B[39;49m\u001B[43mexecute\u001B[49m\u001B[43m(\u001B[49m\u001B[43msql\u001B[49m\u001B[43m)\u001B[49m\n",
      "File \u001B[1;32m~\\.conda\\envs\\learning\\lib\\site-packages\\psycopg\\cursor.py:732\u001B[0m, in \u001B[0;36mCursor.execute\u001B[1;34m(self, query, params, prepare, binary)\u001B[0m\n\u001B[0;32m    728\u001B[0m         \u001B[38;5;28mself\u001B[39m\u001B[38;5;241m.\u001B[39m_conn\u001B[38;5;241m.\u001B[39mwait(\n\u001B[0;32m    729\u001B[0m             \u001B[38;5;28mself\u001B[39m\u001B[38;5;241m.\u001B[39m_execute_gen(query, params, prepare\u001B[38;5;241m=\u001B[39mprepare, binary\u001B[38;5;241m=\u001B[39mbinary)\n\u001B[0;32m    730\u001B[0m         )\n\u001B[0;32m    731\u001B[0m \u001B[38;5;28;01mexcept\u001B[39;00m e\u001B[38;5;241m.\u001B[39m_NO_TRACEBACK \u001B[38;5;28;01mas\u001B[39;00m ex:\n\u001B[1;32m--> 732\u001B[0m     \u001B[38;5;28;01mraise\u001B[39;00m ex\u001B[38;5;241m.\u001B[39mwith_traceback(\u001B[38;5;28;01mNone\u001B[39;00m)\n\u001B[0;32m    733\u001B[0m \u001B[38;5;28;01mreturn\u001B[39;00m \u001B[38;5;28mself\u001B[39m\n",
      "\u001B[1;31mInFailedSqlTransaction\u001B[0m: 当前事务被终止, 事务块结束之前的查询被忽略"
     ]
    }
   ],
   "source": [
    "sql = \"\"\"\n",
    "do $$\n",
    "declare \n",
    "   film_count integer;\n",
    "begin\n",
    "   select count(*)\n",
    "   into film_count\n",
    "   from film;\n",
    "   \n",
    "   assert film_count > 0, 'Film not found, check the film table';\n",
    "end$$;\n",
    "\"\"\"\n",
    "cursor.execute(sql)"
   ],
   "metadata": {
    "collapsed": false,
    "ExecuteTime": {
     "end_time": "2024-04-04T05:06:06.469817Z",
     "start_time": "2024-04-04T05:06:06.422817Z"
    }
   },
   "id": "303c6b25e0305a14",
   "execution_count": 7
  },
  {
   "cell_type": "code",
   "outputs": [
    {
     "ename": "AssertFailure",
     "evalue": "1000 Film found, check the film table\nCONTEXT:  在ASSERT的第9行的PL/pgSQL函数inline_code_block",
     "output_type": "error",
     "traceback": [
      "\u001B[1;31m---------------------------------------------------------------------------\u001B[0m",
      "\u001B[1;31mAssertFailure\u001B[0m                             Traceback (most recent call last)",
      "Cell \u001B[1;32mIn[2], line 13\u001B[0m\n\u001B[0;32m      1\u001B[0m sql \u001B[38;5;241m=\u001B[39m \u001B[38;5;124m\"\"\"\u001B[39m\n\u001B[0;32m      2\u001B[0m \u001B[38;5;124mdo $$\u001B[39m\n\u001B[0;32m      3\u001B[0m \u001B[38;5;124mdeclare \u001B[39m\n\u001B[1;32m   (...)\u001B[0m\n\u001B[0;32m     11\u001B[0m \u001B[38;5;124mend$$;\u001B[39m\n\u001B[0;32m     12\u001B[0m \u001B[38;5;124m\"\"\"\u001B[39m\n\u001B[1;32m---> 13\u001B[0m \u001B[43mcursor\u001B[49m\u001B[38;5;241;43m.\u001B[39;49m\u001B[43mexecute\u001B[49m\u001B[43m(\u001B[49m\u001B[43msql\u001B[49m\u001B[43m)\u001B[49m\n",
      "File \u001B[1;32m~\\.conda\\envs\\learning\\lib\\site-packages\\psycopg\\cursor.py:732\u001B[0m, in \u001B[0;36mCursor.execute\u001B[1;34m(self, query, params, prepare, binary)\u001B[0m\n\u001B[0;32m    728\u001B[0m         \u001B[38;5;28mself\u001B[39m\u001B[38;5;241m.\u001B[39m_conn\u001B[38;5;241m.\u001B[39mwait(\n\u001B[0;32m    729\u001B[0m             \u001B[38;5;28mself\u001B[39m\u001B[38;5;241m.\u001B[39m_execute_gen(query, params, prepare\u001B[38;5;241m=\u001B[39mprepare, binary\u001B[38;5;241m=\u001B[39mbinary)\n\u001B[0;32m    730\u001B[0m         )\n\u001B[0;32m    731\u001B[0m \u001B[38;5;28;01mexcept\u001B[39;00m e\u001B[38;5;241m.\u001B[39m_NO_TRACEBACK \u001B[38;5;28;01mas\u001B[39;00m ex:\n\u001B[1;32m--> 732\u001B[0m     \u001B[38;5;28;01mraise\u001B[39;00m ex\u001B[38;5;241m.\u001B[39mwith_traceback(\u001B[38;5;28;01mNone\u001B[39;00m)\n\u001B[0;32m    733\u001B[0m \u001B[38;5;28;01mreturn\u001B[39;00m \u001B[38;5;28mself\u001B[39m\n",
      "\u001B[1;31mAssertFailure\u001B[0m: 1000 Film found, check the film table\nCONTEXT:  在ASSERT的第9行的PL/pgSQL函数inline_code_block"
     ]
    }
   ],
   "source": [
    "sql = \"\"\"\n",
    "do $$\n",
    "declare \n",
    "   film_count integer;\n",
    "begin\n",
    "   select count(*)\n",
    "   into film_count\n",
    "   from film;\n",
    "   \n",
    "   assert film_count > 1000, '1000 Film found, check the film table';\n",
    "end$$;\n",
    "\"\"\"\n",
    "cursor.execute(sql)"
   ],
   "metadata": {
    "collapsed": false,
    "ExecuteTime": {
     "end_time": "2024-04-04T05:06:53.807376Z",
     "start_time": "2024-04-04T05:06:53.188797Z"
    }
   },
   "id": "e0e31e976bd85b21",
   "execution_count": 2
  }
 ],
 "metadata": {
  "kernelspec": {
   "display_name": "Python 3",
   "language": "python",
   "name": "python3"
  },
  "language_info": {
   "codemirror_mode": {
    "name": "ipython",
    "version": 2
   },
   "file_extension": ".py",
   "mimetype": "text/x-python",
   "name": "python",
   "nbconvert_exporter": "python",
   "pygments_lexer": "ipython2",
   "version": "2.7.6"
  }
 },
 "nbformat": 4,
 "nbformat_minor": 5
}
