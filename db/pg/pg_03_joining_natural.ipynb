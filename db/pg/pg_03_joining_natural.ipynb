{
 "cells": [
  {
   "cell_type": "markdown",
   "source": [
    "`NATURAL JOIN` 是一种基于连接表中相同列名创建隐式连接的连接。\n",
    "```\n",
    "SELECT select_list\n",
    "FROM table1\n",
    "NATURAL [INNER, LEFT, RIGHT] JOIN table2;\n",
    "```\n",
    "\n",
    "```\n",
    "SELECT select_list\n",
    "FROM table1\n",
    "NATURAL INNER JOIN table2;\n",
    "```\n",
    "与下面等同\n",
    "```\n",
    "SELECT select_list\n",
    "FROM table1\n",
    "INNER JOIN table2 USING (column_name);\n",
    "```\n",
    "\n",
    "```\n",
    "SELECT select_list\n",
    "FROM table1\n",
    "NATURAL LEFT JOIN table2;\n",
    "```\n",
    "与下面等同\n",
    "```\n",
    "SELECT select_list\n",
    "FROM table1\n",
    "LEFT JOIN table2 USING (column_name);\n",
    "```\n"
   ],
   "metadata": {
    "collapsed": false
   },
   "id": "7ec134dd6aaa4471"
  },
  {
   "cell_type": "code",
   "execution_count": 1,
   "id": "initial_id",
   "metadata": {
    "collapsed": true,
    "ExecuteTime": {
     "end_time": "2024-01-24T07:03:30.306683500Z",
     "start_time": "2024-01-24T07:03:29.860984800Z"
    }
   },
   "outputs": [],
   "source": [
    "import ipynb_importer\n",
    "%run pg_00_common.ipynb\n",
    "cursor = pg_connect()"
   ]
  },
  {
   "cell_type": "code",
   "outputs": [],
   "source": [
    "sql = \"\"\"\n",
    "CREATE TABLE categories (\n",
    "  category_id SERIAL PRIMARY KEY, \n",
    "  category_name VARCHAR (255) NOT NULL\n",
    ");\n",
    "\n",
    "CREATE TABLE products (\n",
    "  product_id serial PRIMARY KEY, \n",
    "  product_name VARCHAR (255) NOT NULL, \n",
    "  category_id INT NOT NULL, \n",
    "  FOREIGN KEY (category_id) REFERENCES categories (category_id)\n",
    ");\n",
    "\n",
    "INSERT INTO categories (category_name) \n",
    "VALUES \n",
    "  ('Smartphone'), \n",
    "  ('Laptop'), \n",
    "  ('Tablet'),\n",
    "  ('VR');\n",
    "\n",
    "INSERT INTO products (product_name, category_id) \n",
    "VALUES \n",
    "  ('iPhone', 1), \n",
    "  ('Samsung Galaxy', 1), \n",
    "  ('HP Elite', 2), \n",
    "  ('Lenovo Thinkpad', 2), \n",
    "  ('iPad', 3), \n",
    "  ('Kindle Fire', 3);\n",
    "\"\"\""
   ],
   "metadata": {
    "collapsed": false,
    "ExecuteTime": {
     "end_time": "2024-01-24T07:03:31.864246700Z",
     "start_time": "2024-01-24T07:03:31.847247300Z"
    }
   },
   "id": "34db47314c8c6f80",
   "execution_count": 2
  },
  {
   "cell_type": "code",
   "outputs": [
    {
     "data": {
      "text/plain": "<psycopg.Cursor [COMMAND_OK] [INTRANS] (host=localhost user=postgres database=dvdrental) at 0x272f3355c70>"
     },
     "execution_count": 3,
     "metadata": {},
     "output_type": "execute_result"
    }
   ],
   "source": [
    "cursor.execute(sql)"
   ],
   "metadata": {
    "collapsed": false,
    "ExecuteTime": {
     "end_time": "2024-01-24T07:03:33.848729400Z",
     "start_time": "2024-01-24T07:03:33.823109100Z"
    }
   },
   "id": "ecc2ad910c749ce2",
   "execution_count": 3
  },
  {
   "cell_type": "code",
   "outputs": [
    {
     "name": "stdout",
     "output_type": "stream",
     "text": [
      "   category_id  product_id     product_name category_name\n",
      "0            1           1           iPhone    Smartphone\n",
      "1            1           2   Samsung Galaxy    Smartphone\n",
      "2            2           3         HP Elite        Laptop\n",
      "3            2           4  Lenovo Thinkpad        Laptop\n",
      "4            3           5             iPad        Tablet\n",
      "5            3           6      Kindle Fire        Tablet\n"
     ]
    }
   ],
   "source": [
    "sql = \"\"\"\n",
    "SELECT * \n",
    "FROM products\n",
    "NATURAL JOIN categories;\n",
    "\"\"\"\n",
    "\n",
    "run_sql(cursor, sql)"
   ],
   "metadata": {
    "collapsed": false,
    "ExecuteTime": {
     "end_time": "2024-01-24T07:03:49.678976600Z",
     "start_time": "2024-01-24T07:03:49.670976600Z"
    }
   },
   "id": "7839c415760cd27a",
   "execution_count": 4
  },
  {
   "cell_type": "code",
   "outputs": [
    {
     "name": "stdout",
     "output_type": "stream",
     "text": [
      "   category_id category_name  product_id     product_name\n",
      "0            1    Smartphone         1.0           iPhone\n",
      "1            1    Smartphone         2.0   Samsung Galaxy\n",
      "2            2        Laptop         3.0         HP Elite\n",
      "3            2        Laptop         4.0  Lenovo Thinkpad\n",
      "4            3        Tablet         5.0             iPad\n",
      "5            3        Tablet         6.0      Kindle Fire\n",
      "6            4            VR         NaN             None\n"
     ]
    }
   ],
   "source": [
    "sql = \"\"\"\n",
    "SELECT * \n",
    "FROM categories\n",
    "NATURAL LEFT JOIN products;\n",
    "\"\"\"\n",
    "\n",
    "run_sql(cursor, sql)"
   ],
   "metadata": {
    "collapsed": false,
    "ExecuteTime": {
     "end_time": "2024-01-24T07:04:58.564955100Z",
     "start_time": "2024-01-24T07:04:58.544955100Z"
    }
   },
   "id": "a7c24aa30367b1f4",
   "execution_count": 5
  },
  {
   "cell_type": "code",
   "outputs": [
    {
     "name": "stdout",
     "output_type": "stream",
     "text": [
      "Empty DataFrame\n",
      "Columns: [country_id, last_update, city_id, city, country]\n",
      "Index: []\n"
     ]
    }
   ],
   "source": [
    "# 在实践中，应该尽可能避免使用 NATURAL JOIN，因为有时它可能会导致意外结果。\n",
    "\n",
    "sql = \"\"\"\n",
    "SELECT * \n",
    "FROM city\n",
    "NATURAL JOIN country;\n",
    "\"\"\"\n",
    "\n",
    "run_sql(cursor, sql)\n",
    "# 因为上述两张表都有 last_update 列"
   ],
   "metadata": {
    "collapsed": false,
    "ExecuteTime": {
     "end_time": "2024-01-24T07:06:14.862339700Z",
     "start_time": "2024-01-24T07:06:14.807311500Z"
    }
   },
   "id": "2e19268c99c1e167",
   "execution_count": 6
  }
 ],
 "metadata": {
  "kernelspec": {
   "display_name": "Python 3",
   "language": "python",
   "name": "python3"
  },
  "language_info": {
   "codemirror_mode": {
    "name": "ipython",
    "version": 2
   },
   "file_extension": ".py",
   "mimetype": "text/x-python",
   "name": "python",
   "nbconvert_exporter": "python",
   "pygments_lexer": "ipython2",
   "version": "2.7.6"
  }
 },
 "nbformat": 4,
 "nbformat_minor": 5
}
