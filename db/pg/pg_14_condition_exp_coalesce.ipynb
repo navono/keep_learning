{
 "cells": [
  {
   "cell_type": "markdown",
   "source": [
    "`COALESCE` 函数接收参数列表并返回第一个非空值。如果所有参数都是空值，则返回 `NULL`。\n",
    "```\n",
    "COALESCE (argument_1, argument_2, …);\n",
    "```"
   ],
   "metadata": {
    "collapsed": false
   },
   "id": "d27c6a36b83bf0f6"
  },
  {
   "cell_type": "code",
   "execution_count": 1,
   "id": "initial_id",
   "metadata": {
    "collapsed": true,
    "ExecuteTime": {
     "end_time": "2024-03-25T11:41:58.252671Z",
     "start_time": "2024-03-25T11:41:56.835966Z"
    }
   },
   "outputs": [
    {
     "name": "stdout",
     "output_type": "stream",
     "text": [
      "importing Jupyter notebook from E:\\sourcecode\\keep_learning\\db\\pg\\pg_00_common.ipynb\n"
     ]
    }
   ],
   "source": [
    "import common.ipynb_importer\n",
    "from db.pg.pg_00_common import *\n",
    "\n",
    "cursor = pg_connect()"
   ]
  },
  {
   "cell_type": "code",
   "outputs": [
    {
     "data": {
      "text/plain": "<psycopg.Cursor [COMMAND_OK] [INTRANS] (host=localhost user=postgres database=dvdrental) at 0x1903a1fada0>"
     },
     "execution_count": 2,
     "metadata": {},
     "output_type": "execute_result"
    }
   ],
   "source": [
    "sql = \"\"\"\n",
    "CREATE TABLE items (\n",
    "  id SERIAL PRIMARY KEY, \n",
    "  product VARCHAR (100) NOT NULL, \n",
    "  price NUMERIC NOT NULL, \n",
    "  discount NUMERIC\n",
    ");\n",
    "\n",
    "INSERT INTO items (product, price, discount) \n",
    "VALUES \n",
    "  ('A', 1000, 10), \n",
    "  ('B', 1500, 20), \n",
    "  ('C', 800, 5), \n",
    "  ('D', 500, NULL);\n",
    "\"\"\"\n",
    "cursor.execute(sql)"
   ],
   "metadata": {
    "collapsed": false,
    "ExecuteTime": {
     "end_time": "2024-03-25T11:42:01.365259Z",
     "start_time": "2024-03-25T11:42:01.285406Z"
    }
   },
   "id": "80b158995d803d2f",
   "execution_count": 2
  },
  {
   "cell_type": "code",
   "outputs": [
    {
     "name": "stdout",
     "output_type": "stream",
     "text": [
      "  product net_price\n",
      "0       A       990\n",
      "1       B      1480\n",
      "2       C       795\n",
      "3       D      None\n"
     ]
    }
   ],
   "source": [
    "sql = \"\"\"\n",
    "SELECT \n",
    "  product, \n",
    "  (price - discount) AS net_price \n",
    "FROM \n",
    "  items;\n",
    "\"\"\"\n",
    "run_sql(cursor, sql)\n",
    "\n",
    "# 输出结果中，D 的 net_price 是 None 因为 D 的 discount 是 NULL"
   ],
   "metadata": {
    "collapsed": false,
    "ExecuteTime": {
     "end_time": "2024-03-25T11:42:03.656496Z",
     "start_time": "2024-03-25T11:42:03.644180Z"
    }
   },
   "id": "2248819739854577",
   "execution_count": 3
  },
  {
   "cell_type": "code",
   "outputs": [
    {
     "name": "stdout",
     "output_type": "stream",
     "text": [
      "  product net_price\n",
      "0       A       990\n",
      "1       B      1480\n",
      "2       C       795\n",
      "3       D       500\n"
     ]
    }
   ],
   "source": [
    "sql = \"\"\"\n",
    "SELECT \n",
    "  product, \n",
    "  (price - COALESCE(discount, 0)) AS net_price \n",
    "FROM \n",
    "  items;\n",
    "\"\"\"\n",
    "run_sql(cursor, sql)"
   ],
   "metadata": {
    "collapsed": false,
    "ExecuteTime": {
     "end_time": "2024-03-25T11:42:53.929833Z",
     "start_time": "2024-03-25T11:42:53.921701Z"
    }
   },
   "id": "702724ea3999b9da",
   "execution_count": 4
  },
  {
   "cell_type": "code",
   "outputs": [
    {
     "name": "stdout",
     "output_type": "stream",
     "text": [
      "  product net_price\n",
      "0       A       990\n",
      "1       B      1480\n",
      "2       C       795\n",
      "3       D       500\n"
     ]
    }
   ],
   "source": [
    "# 也可以用 case\n",
    "sql = \"\"\"\n",
    "SELECT \n",
    "  product, \n",
    "  (price - CASE WHEN discount IS NULL THEN 0 ELSE discount END) AS net_price \n",
    "FROM \n",
    "  items;\n",
    "\"\"\"\n",
    "run_sql(cursor, sql)"
   ],
   "metadata": {
    "collapsed": false,
    "ExecuteTime": {
     "end_time": "2024-03-25T11:44:23.589732Z",
     "start_time": "2024-03-25T11:44:23.575461Z"
    }
   },
   "id": "b1ed7edb85da663a",
   "execution_count": 5
  }
 ],
 "metadata": {
  "kernelspec": {
   "display_name": "Python 3",
   "language": "python",
   "name": "python3"
  },
  "language_info": {
   "codemirror_mode": {
    "name": "ipython",
    "version": 2
   },
   "file_extension": ".py",
   "mimetype": "text/x-python",
   "name": "python",
   "nbconvert_exporter": "python",
   "pygments_lexer": "ipython2",
   "version": "2.7.6"
  }
 },
 "nbformat": 4,
 "nbformat_minor": 5
}
