{
 "cells": [
  {
   "cell_type": "markdown",
   "source": [
    "```\n",
    "TRUNCATE TABLE \n",
    "    table_name1, \n",
    "    table_name2,\n",
    "    ...;\n",
    "```\n",
    "```\n",
    "TRUNCATE TABLE table_name \n",
    "CASCADE;\n",
    "```"
   ],
   "metadata": {
    "collapsed": false
   },
   "id": "e601afe8cd1413c5"
  },
  {
   "cell_type": "code",
   "execution_count": 1,
   "id": "initial_id",
   "metadata": {
    "collapsed": true,
    "ExecuteTime": {
     "end_time": "2024-02-24T13:25:30.473463600Z",
     "start_time": "2024-02-24T13:25:29.313817Z"
    }
   },
   "outputs": [
    {
     "name": "stdout",
     "output_type": "stream",
     "text": [
      "importing Jupyter notebook from D:\\sourcecode\\keep_learning\\db\\pg\\pg_00_common.ipynb\n"
     ]
    }
   ],
   "source": [
    "import common.ipynb_importer\n",
    "from db.pg.pg_00_common import *\n",
    "\n",
    "cursor = pg_connect()"
   ]
  },
  {
   "cell_type": "code",
   "outputs": [
    {
     "data": {
      "text/plain": "<psycopg.Cursor [COMMAND_OK] [INTRANS] (host=localhost user=postgres database=dvdrental) at 0x2b3290187d0>"
     },
     "execution_count": 2,
     "metadata": {},
     "output_type": "execute_result"
    }
   ],
   "source": [
    "sql = \"\"\"\n",
    "CREATE TABLE products(\n",
    "    id SERIAL PRIMARY KEY,\n",
    "    name VARCHAR(255) NOT NULL,\n",
    "    price DECIMAL(10,2) NOT NULL DEFAULT 0\n",
    ");\n",
    "INSERT INTO products (name, price) \n",
    "VALUES\n",
    "    ('A', 19.99),\n",
    "    ('B', 29.99),\n",
    "    ('C', 39.99),\n",
    "    ('D', 49.99)\n",
    "RETURNING *;\n",
    "\"\"\"\n",
    "cursor.execute(sql)"
   ],
   "metadata": {
    "collapsed": false,
    "ExecuteTime": {
     "end_time": "2024-02-24T13:25:30.546231900Z",
     "start_time": "2024-02-24T13:25:30.473463600Z"
    }
   },
   "id": "abd7ef9fc450ec5b",
   "execution_count": 2
  },
  {
   "cell_type": "code",
   "outputs": [
    {
     "name": "stdout",
     "output_type": "stream",
     "text": [
      "   id name  price\n",
      "0   1    A  19.99\n",
      "1   2    B  29.99\n",
      "2   3    C  39.99\n",
      "3   4    D  49.99\n"
     ]
    }
   ],
   "source": [
    "sql = \"\"\"\n",
    "SELECT * FROM products;\n",
    "\"\"\"\n",
    "run_sql(cursor, sql)"
   ],
   "metadata": {
    "collapsed": false,
    "ExecuteTime": {
     "end_time": "2024-02-24T13:25:30.547232300Z",
     "start_time": "2024-02-24T13:25:30.505435300Z"
    }
   },
   "id": "19a3f0cd18bb859",
   "execution_count": 3
  },
  {
   "cell_type": "code",
   "outputs": [
    {
     "data": {
      "text/plain": "<psycopg.Cursor [COMMAND_OK] [INTRANS] (host=localhost user=postgres database=dvdrental) at 0x2b3290187d0>"
     },
     "execution_count": 4,
     "metadata": {},
     "output_type": "execute_result"
    }
   ],
   "source": [
    "sql = \"\"\"\n",
    "TRUNCATE TABLE products;\n",
    "\"\"\"\n",
    "cursor.execute(sql)"
   ],
   "metadata": {
    "collapsed": false,
    "ExecuteTime": {
     "end_time": "2024-02-24T13:25:30.548196400Z",
     "start_time": "2024-02-24T13:25:30.521412Z"
    }
   },
   "id": "7cba6b38d457b8eb",
   "execution_count": 4
  },
  {
   "cell_type": "code",
   "outputs": [
    {
     "name": "stdout",
     "output_type": "stream",
     "text": [
      "Empty DataFrame\n",
      "Columns: [id, name, price]\n",
      "Index: []\n"
     ]
    }
   ],
   "source": [
    "sql = \"\"\"\n",
    "SELECT * FROM products;\n",
    "\"\"\"\n",
    "run_sql(cursor, sql)"
   ],
   "metadata": {
    "collapsed": false,
    "ExecuteTime": {
     "end_time": "2024-02-24T13:25:30.671356500Z",
     "start_time": "2024-02-24T13:25:30.535201200Z"
    }
   },
   "id": "a29ebc0f76bac15d",
   "execution_count": 5
  },
  {
   "cell_type": "code",
   "outputs": [
    {
     "ename": "ProgrammingError",
     "evalue": "the last operation didn't produce a result",
     "output_type": "error",
     "traceback": [
      "\u001B[1;31m---------------------------------------------------------------------------\u001B[0m",
      "\u001B[1;31mProgrammingError\u001B[0m                          Traceback (most recent call last)",
      "Cell \u001B[1;32mIn[6], line 15\u001B[0m\n\u001B[0;32m      1\u001B[0m sql \u001B[38;5;241m=\u001B[39m \u001B[38;5;124m\"\"\"\u001B[39m\n\u001B[0;32m      2\u001B[0m \u001B[38;5;124mCREATE TABLE vendors(\u001B[39m\n\u001B[0;32m      3\u001B[0m \u001B[38;5;124m   id SERIAL PRIMARY KEY,\u001B[39m\n\u001B[1;32m   (...)\u001B[0m\n\u001B[0;32m     13\u001B[0m \u001B[38;5;124mRETURNING *;\u001B[39m\n\u001B[0;32m     14\u001B[0m \u001B[38;5;124m\"\"\"\u001B[39m\n\u001B[1;32m---> 15\u001B[0m \u001B[43mrun_sql\u001B[49m\u001B[43m(\u001B[49m\u001B[43mcursor\u001B[49m\u001B[43m,\u001B[49m\u001B[43m \u001B[49m\u001B[43msql\u001B[49m\u001B[43m)\u001B[49m\n",
      "File \u001B[1;32m<string>:3\u001B[0m, in \u001B[0;36mrun_sql\u001B[1;34m(cursor, sql_stat)\u001B[0m\n",
      "File \u001B[1;32m<string>:2\u001B[0m, in \u001B[0;36mdisplay_data\u001B[1;34m(cursor)\u001B[0m\n",
      "File \u001B[1;32m~\\.conda\\envs\\learning\\lib\\site-packages\\psycopg\\cursor.py:857\u001B[0m, in \u001B[0;36mCursor.fetchall\u001B[1;34m(self)\u001B[0m\n\u001B[0;32m    851\u001B[0m \u001B[38;5;250m\u001B[39m\u001B[38;5;124;03m\"\"\"\u001B[39;00m\n\u001B[0;32m    852\u001B[0m \u001B[38;5;124;03mReturn all the remaining records from the current recordset.\u001B[39;00m\n\u001B[0;32m    853\u001B[0m \n\u001B[0;32m    854\u001B[0m \u001B[38;5;124;03m:rtype: Sequence[Row], with Row defined by `row_factory`\u001B[39;00m\n\u001B[0;32m    855\u001B[0m \u001B[38;5;124;03m\"\"\"\u001B[39;00m\n\u001B[0;32m    856\u001B[0m \u001B[38;5;28mself\u001B[39m\u001B[38;5;241m.\u001B[39m_fetch_pipeline()\n\u001B[1;32m--> 857\u001B[0m \u001B[38;5;28;43mself\u001B[39;49m\u001B[38;5;241;43m.\u001B[39;49m\u001B[43m_check_result_for_fetch\u001B[49m\u001B[43m(\u001B[49m\u001B[43m)\u001B[49m\n\u001B[0;32m    858\u001B[0m \u001B[38;5;28;01massert\u001B[39;00m \u001B[38;5;28mself\u001B[39m\u001B[38;5;241m.\u001B[39mpgresult\n\u001B[0;32m    859\u001B[0m records \u001B[38;5;241m=\u001B[39m \u001B[38;5;28mself\u001B[39m\u001B[38;5;241m.\u001B[39m_tx\u001B[38;5;241m.\u001B[39mload_rows(\u001B[38;5;28mself\u001B[39m\u001B[38;5;241m.\u001B[39m_pos, \u001B[38;5;28mself\u001B[39m\u001B[38;5;241m.\u001B[39mpgresult\u001B[38;5;241m.\u001B[39mntuples, \u001B[38;5;28mself\u001B[39m\u001B[38;5;241m.\u001B[39m_make_row)\n",
      "File \u001B[1;32m~\\.conda\\envs\\learning\\lib\\site-packages\\psycopg\\cursor.py:621\u001B[0m, in \u001B[0;36mBaseCursor._check_result_for_fetch\u001B[1;34m(self)\u001B[0m\n\u001B[0;32m    619\u001B[0m     \u001B[38;5;28;01mraise\u001B[39;00m e\u001B[38;5;241m.\u001B[39mPipelineAborted(\u001B[38;5;124m\"\u001B[39m\u001B[38;5;124mpipeline aborted\u001B[39m\u001B[38;5;124m\"\u001B[39m)\n\u001B[0;32m    620\u001B[0m \u001B[38;5;28;01melse\u001B[39;00m:\n\u001B[1;32m--> 621\u001B[0m     \u001B[38;5;28;01mraise\u001B[39;00m e\u001B[38;5;241m.\u001B[39mProgrammingError(\u001B[38;5;124m\"\u001B[39m\u001B[38;5;124mthe last operation didn\u001B[39m\u001B[38;5;124m'\u001B[39m\u001B[38;5;124mt produce a result\u001B[39m\u001B[38;5;124m\"\u001B[39m)\n",
      "\u001B[1;31mProgrammingError\u001B[0m: the last operation didn't produce a result"
     ]
    }
   ],
   "source": [
    "sql = \"\"\"\n",
    "CREATE TABLE vendors(\n",
    "   id SERIAL PRIMARY KEY,\n",
    "   name VARCHAR(255) NOT NULL,\n",
    "   phone VARCHAR(25) NOT NULL\n",
    ");\n",
    "\n",
    "INSERT INTO vendors (name, phone) VALUES\n",
    "    ('ABC Electronics', '555-123-4567'),\n",
    "    ('XYZ Supplies', '999-888-7777'),\n",
    "    ('Tech Solutions Inc.', '111-222-3333')\n",
    "\n",
    "RETURNING *;\n",
    "\"\"\"\n",
    "cursor.execute(sql)"
   ],
   "metadata": {
    "collapsed": false,
    "ExecuteTime": {
     "end_time": "2024-02-24T13:25:54.957864700Z",
     "start_time": "2024-02-24T13:25:54.350517700Z"
    }
   },
   "id": "29bdfdd483c21de1",
   "execution_count": 6
  },
  {
   "cell_type": "code",
   "outputs": [],
   "source": [
    "sql = \"\"\"\n",
    "TRUNCATE TABLE customers, vendors;\n",
    "\"\"\"\n",
    "cursor.execute(sql)"
   ],
   "metadata": {
    "collapsed": false
   },
   "id": "89d0d6ba54cf5bf5"
  },
  {
   "cell_type": "code",
   "outputs": [],
   "source": [
    "sql = \"\"\"\n",
    "CREATE TABLE orders(\n",
    "  order_id SERIAL PRIMARY KEY, \n",
    "  customer_name VARCHAR(255) NOT NULL, \n",
    "  ordered_date DATE NOT NULL, \n",
    "  status VARCHAR(20) NOT NULL\n",
    ");\n",
    "\n",
    "CREATE TABLE order_items (\n",
    "  order_id INT NOT NULL, \n",
    "  item_id INT NOT NULL, \n",
    "  product_name VARCHAR(255) NOT NULL, \n",
    "  quantity INT NOT NULL, \n",
    "  FOREIGN KEY (order_id)\n",
    "     REFERENCES orders(order_id) ON DELETE CASCADE ON UPDATE CASCADE, \n",
    "  PRIMARY KEY (order_id, item_id)\n",
    ");\n",
    "\n",
    "INSERT INTO orders (customer_name, ordered_date, status) \n",
    "VALUES \n",
    "  ('John Doe', '2024-01-25', 'Processing'),\n",
    "  ('Jane Smith', '2024-01-26', 'Shipped'),\n",
    "  ('Bob Johnson', '2024-01-27', 'Delivered');\n",
    "\n",
    "INSERT INTO order_items (order_id, item_id, product_name, quantity) \n",
    "VALUES \n",
    "  (1, 1, 'A', 2),\n",
    "  (1, 2, 'B', 1),\n",
    "  (2, 1, 'C', 3),\n",
    "  (3, 1, 'D', 5),\n",
    "  (3, 2, 'E', 2);\n",
    "\"\"\"\n",
    "cursor.execute(sql)"
   ],
   "metadata": {
    "collapsed": false
   },
   "id": "c734441d6900df8"
  },
  {
   "cell_type": "code",
   "outputs": [],
   "source": [
    "sql = \"\"\"\n",
    "TRUNCATE TABLE orders CASCADE;\n",
    "\"\"\"\n",
    "\n",
    "cursor.execute(sql)"
   ],
   "metadata": {
    "collapsed": false
   },
   "id": "32e9c2c2937fbd34"
  }
 ],
 "metadata": {
  "kernelspec": {
   "display_name": "Python 3",
   "language": "python",
   "name": "python3"
  },
  "language_info": {
   "codemirror_mode": {
    "name": "ipython",
    "version": 2
   },
   "file_extension": ".py",
   "mimetype": "text/x-python",
   "name": "python",
   "nbconvert_exporter": "python",
   "pygments_lexer": "ipython2",
   "version": "2.7.6"
  }
 },
 "nbformat": 4,
 "nbformat_minor": 5
}
