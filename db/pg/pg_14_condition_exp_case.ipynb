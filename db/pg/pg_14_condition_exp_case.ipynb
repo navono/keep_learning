{
 "cells": [
  {
   "cell_type": "markdown",
   "source": [
    "# CASE 条件表达式\n",
    "\n",
    "有两种形式：\n",
    "- General\n",
    "- Simple\n",
    "\n",
    "\n",
    "## General\n",
    "```\n",
    "CASE \n",
    "      WHEN condition_1  THEN result_1\n",
    "      WHEN condition_2  THEN result_2\n",
    "      [WHEN ...]\n",
    "      [ELSE else_result]\n",
    "END\n",
    "```\n",
    "\n",
    "从上往下进行表达式计算，直到遇到为 `true`，其返回的值为此条件返回的值。当所有的条件都返回 `false` 时，则返回 `else_result`。"
   ],
   "metadata": {
    "collapsed": false
   },
   "id": "76d6486d5cba63e"
  },
  {
   "cell_type": "code",
   "execution_count": 1,
   "id": "initial_id",
   "metadata": {
    "collapsed": true,
    "ExecuteTime": {
     "end_time": "2024-03-17T06:48:28.045822Z",
     "start_time": "2024-03-17T06:48:26.956957Z"
    }
   },
   "outputs": [
    {
     "name": "stdout",
     "output_type": "stream",
     "text": [
      "importing Jupyter notebook from D:\\sourcecode\\keep_learning\\db\\pg\\pg_00_common.ipynb\n"
     ]
    }
   ],
   "source": [
    "import common.ipynb_importer\n",
    "from db.pg.pg_00_common import *\n",
    "\n",
    "cursor = pg_connect()"
   ]
  },
  {
   "cell_type": "code",
   "outputs": [
    {
     "name": "stdout",
     "output_type": "stream",
     "text": [
      "                 title  length duration\n",
      "0     Academy Dinosaur      86   Medium\n",
      "1       Ace Goldfinger      48    Short\n",
      "2     Adaptation Holes      50    Short\n",
      "3     Affair Prejudice     117   Medium\n",
      "4          African Egg     130     Long\n",
      "..                 ...     ...      ...\n",
      "995     Young Language     183     Long\n",
      "996         Youth Kick     179     Long\n",
      "997       Zhivago Core     105   Medium\n",
      "998  Zoolander Fiction     101   Medium\n",
      "999          Zorro Ark      50    Short\n",
      "\n",
      "[1000 rows x 3 columns]\n"
     ]
    }
   ],
   "source": [
    "sql=\"\"\"\n",
    "SELECT \n",
    "  title, \n",
    "  length, \n",
    "  CASE WHEN length > 0 \n",
    "  AND length <= 50 THEN 'Short' WHEN length > 50 \n",
    "  AND length <= 120 THEN 'Medium' WHEN length > 120 THEN 'Long' END duration \n",
    "FROM \n",
    "  film \n",
    "ORDER BY \n",
    "  title;\n",
    "\"\"\"\n",
    "run_sql(cursor, sql)"
   ],
   "metadata": {
    "collapsed": false,
    "ExecuteTime": {
     "end_time": "2024-03-17T06:48:29.358484Z",
     "start_time": "2024-03-17T06:48:29.313954Z"
    }
   },
   "id": "e5326efe2f7669d2",
   "execution_count": 2
  },
  {
   "cell_type": "code",
   "outputs": [
    {
     "name": "stdout",
     "output_type": "stream",
     "text": [
      "   Economy  Mass  Premium\n",
      "0      341   323      336\n"
     ]
    }
   ],
   "source": [
    "# 在聚合函数中使用 `CASE`\n",
    "sql = \"\"\"\n",
    "SELECT \n",
    "  SUM (\n",
    "    CASE WHEN rental_rate = 0.99 THEN 1 ELSE 0 END\n",
    "  ) AS \"Economy\", \n",
    "  SUM (\n",
    "    CASE WHEN rental_rate = 2.99 THEN 1 ELSE 0 END\n",
    "  ) AS \"Mass\", \n",
    "  SUM (\n",
    "    CASE WHEN rental_rate = 4.99 THEN 1 ELSE 0 END\n",
    "  ) AS \"Premium\" \n",
    "FROM \n",
    "  film;\n",
    "\"\"\"\n",
    "run_sql(cursor, sql)"
   ],
   "metadata": {
    "collapsed": false,
    "ExecuteTime": {
     "end_time": "2024-03-17T06:51:21.765119Z",
     "start_time": "2024-03-17T06:51:21.733733Z"
    }
   },
   "id": "b2de599896bc4f6c",
   "execution_count": 3
  },
  {
   "cell_type": "markdown",
   "source": [
    "## Simple\n",
    "```\n",
    "CASE expression\n",
    "   WHEN value_1 THEN result_1\n",
    "   WHEN value_2 THEN result_2 \n",
    "   [WHEN ...]\n",
    "ELSE\n",
    "   else_result\n",
    "END\n",
    "```"
   ],
   "metadata": {
    "collapsed": false
   },
   "id": "61b22b1f1e9e1635"
  },
  {
   "cell_type": "code",
   "outputs": [
    {
     "name": "stdout",
     "output_type": "stream",
     "text": [
      "                 title rating           rating_description\n",
      "0     Academy Dinosaur     PG  Parental Guidance Suggested\n",
      "1       Ace Goldfinger      G            General Audiences\n",
      "2     Adaptation Holes  NC-17                  Adults Only\n",
      "3     Affair Prejudice      G            General Audiences\n",
      "4          African Egg      G            General Audiences\n",
      "..                 ...    ...                          ...\n",
      "995     Young Language      G            General Audiences\n",
      "996         Youth Kick  NC-17                  Adults Only\n",
      "997       Zhivago Core  NC-17                  Adults Only\n",
      "998  Zoolander Fiction      R                   Restricted\n",
      "999          Zorro Ark  NC-17                  Adults Only\n",
      "\n",
      "[1000 rows x 3 columns]\n"
     ]
    }
   ],
   "source": [
    "sql=\"\"\"\n",
    "SELECT title,\n",
    "       rating,\n",
    "       CASE rating\n",
    "           WHEN 'G' THEN 'General Audiences'\n",
    "           WHEN 'PG' THEN 'Parental Guidance Suggested'\n",
    "           WHEN 'PG-13' THEN 'Parents Strongly Cautioned'\n",
    "           WHEN 'R' THEN 'Restricted'\n",
    "           WHEN 'NC-17' THEN 'Adults Only'\n",
    "       END rating_description\n",
    "FROM film\n",
    "ORDER BY title;\n",
    "\"\"\"\n",
    "run_sql(cursor, sql)"
   ],
   "metadata": {
    "collapsed": false,
    "ExecuteTime": {
     "end_time": "2024-03-17T06:52:47.226539Z",
     "start_time": "2024-03-17T06:52:47.196383Z"
    }
   },
   "id": "40409ad4faccf429",
   "execution_count": 11
  },
  {
   "cell_type": "code",
   "outputs": [
    {
     "name": "stdout",
     "output_type": "stream",
     "text": [
      "   General Audiences  Parental Guidance Suggested  Parents Strongly Cautioned  \\\n",
      "0                178                          194                         223   \n",
      "\n",
      "   Restricted  Adults Only  \n",
      "0         195          210  \n"
     ]
    }
   ],
   "source": [
    "# 在聚合函数中使用 `Simple CASE`\n",
    "sql= \"\"\"\n",
    "SELECT \n",
    "  SUM(CASE rating WHEN 'G' THEN 1 ELSE 0 END) \"General Audiences\", \n",
    "  SUM(\n",
    "    CASE rating WHEN 'PG' THEN 1 ELSE 0 END\n",
    "  ) \"Parental Guidance Suggested\", \n",
    "  SUM(\n",
    "    CASE rating WHEN 'PG-13' THEN 1 ELSE 0 END\n",
    "  ) \"Parents Strongly Cautioned\", \n",
    "  SUM(CASE rating WHEN 'R' THEN 1 ELSE 0 END) \"Restricted\", \n",
    "  SUM(\n",
    "    CASE rating WHEN 'NC-17' THEN 1 ELSE 0 END\n",
    "  ) \"Adults Only\" \n",
    "FROM \n",
    "  film;\n",
    "\"\"\"\n",
    "run_sql(cursor, sql)"
   ],
   "metadata": {
    "collapsed": false,
    "ExecuteTime": {
     "end_time": "2024-03-17T06:53:59.160622Z",
     "start_time": "2024-03-17T06:53:59.140591Z"
    }
   },
   "id": "b6415fc6f2dfc6e6",
   "execution_count": 12
  }
 ],
 "metadata": {
  "kernelspec": {
   "display_name": "Python 3",
   "language": "python",
   "name": "python3"
  },
  "language_info": {
   "codemirror_mode": {
    "name": "ipython",
    "version": 2
   },
   "file_extension": ".py",
   "mimetype": "text/x-python",
   "name": "python",
   "nbconvert_exporter": "python",
   "pygments_lexer": "ipython2",
   "version": "2.7.6"
  }
 },
 "nbformat": 4,
 "nbformat_minor": 5
}
