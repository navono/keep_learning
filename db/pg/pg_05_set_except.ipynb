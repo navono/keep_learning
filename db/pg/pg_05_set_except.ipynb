{
 "cells": [
  {
   "cell_type": "markdown",
   "source": [
    "`EXCEPT` 运算符返回第一个（左侧）查询中不在第二个（右侧）查询中的不同行。\n",
    "```\n",
    "SELECT select_list\n",
    "FROM A\n",
    "EXCEPT \n",
    "SELECT select_list\n",
    "FROM B;\n",
    "```\n",
    "\n",
    "![except](./pg_except.png)"
   ],
   "metadata": {
    "collapsed": false
   },
   "id": "9424cc63a0119a3d"
  },
  {
   "cell_type": "code",
   "execution_count": 1,
   "id": "initial_id",
   "metadata": {
    "collapsed": true,
    "ExecuteTime": {
     "end_time": "2024-01-25T01:20:47.435486Z",
     "start_time": "2024-01-25T01:20:47.007288400Z"
    }
   },
   "outputs": [
    {
     "name": "stdout",
     "output_type": "stream",
     "text": [
      "importing Jupyter notebook from E:\\sourcecode\\keep_learning\\db\\pg\\pg_00_common.ipynb\n"
     ]
    }
   ],
   "source": [
    "import common.ipynb_importer\n",
    "from db.pg.pg_00_common import *\n",
    "\n",
    "cursor = pg_connect()"
   ]
  },
  {
   "cell_type": "code",
   "outputs": [
    {
     "data": {
      "text/plain": "<psycopg.Cursor [COMMAND_OK] [INTRANS] (host=localhost user=postgres database=dvdrental) at 0x1af6d0a1a60>"
     },
     "execution_count": 2,
     "metadata": {},
     "output_type": "execute_result"
    }
   ],
   "source": [
    "sql = \"\"\"\n",
    "CREATE TABLE top_rated_films(\n",
    "  title VARCHAR NOT NULL, \n",
    "  release_year SMALLINT\n",
    ");\n",
    "\n",
    "CREATE TABLE most_popular_films(\n",
    "  title VARCHAR NOT NULL, \n",
    "  release_year SMALLINT\n",
    ");\n",
    "\n",
    "INSERT INTO top_rated_films(title, release_year) \n",
    "VALUES \n",
    "   ('The Shawshank Redemption', 1994), \n",
    "   ('The Godfather', 1972), \n",
    "   ('The Dark Knight', 2008),\n",
    "   ('12 Angry Men', 1957);\n",
    "\n",
    "INSERT INTO most_popular_films(title, release_year) \n",
    "VALUES \n",
    "  ('An American Pickle', 2020), \n",
    "  ('The Godfather', 1972), \n",
    "  ('The Dark Knight', 2008),\n",
    "  ('Greyhound', 2020);\n",
    "\"\"\"\n",
    "\n",
    "cursor.execute(sql)"
   ],
   "metadata": {
    "collapsed": false,
    "ExecuteTime": {
     "end_time": "2024-01-25T01:20:48.210073600Z",
     "start_time": "2024-01-25T01:20:48.187284500Z"
    }
   },
   "id": "bae0a7861a3834ab",
   "execution_count": 2
  },
  {
   "cell_type": "code",
   "outputs": [
    {
     "name": "stdout",
     "output_type": "stream",
     "text": [
      "                      title  release_year\n",
      "0  The Shawshank Redemption          1994\n",
      "1              12 Angry Men          1957\n"
     ]
    }
   ],
   "source": [
    "sql = \"\"\"\n",
    "SELECT * FROM top_rated_films\n",
    "EXCEPT \n",
    "SELECT * FROM most_popular_films;\n",
    "\"\"\"\n",
    "\n",
    "run_sql(cursor, sql)"
   ],
   "metadata": {
    "collapsed": false,
    "ExecuteTime": {
     "end_time": "2024-01-25T01:21:04.607589900Z",
     "start_time": "2024-01-25T01:21:04.600589600Z"
    }
   },
   "id": "d6f98f34e55f4edf",
   "execution_count": 3
  },
  {
   "cell_type": "code",
   "outputs": [
    {
     "name": "stdout",
     "output_type": "stream",
     "text": [
      "                      title  release_year\n",
      "0              12 Angry Men          1957\n",
      "1  The Shawshank Redemption          1994\n"
     ]
    }
   ],
   "source": [
    "sql = \"\"\"\n",
    "SELECT * FROM top_rated_films\n",
    "EXCEPT \n",
    "SELECT * FROM most_popular_films\n",
    "ORDER BY title;\n",
    "\"\"\"\n",
    "\n",
    "run_sql(cursor, sql)"
   ],
   "metadata": {
    "collapsed": false,
    "ExecuteTime": {
     "end_time": "2024-01-25T01:21:24.648102600Z",
     "start_time": "2024-01-25T01:21:24.626750100Z"
    }
   },
   "id": "930565c128c68e57",
   "execution_count": 4
  }
 ],
 "metadata": {
  "kernelspec": {
   "display_name": "Python 3",
   "language": "python",
   "name": "python3"
  },
  "language_info": {
   "codemirror_mode": {
    "name": "ipython",
    "version": 2
   },
   "file_extension": ".py",
   "mimetype": "text/x-python",
   "name": "python",
   "nbconvert_exporter": "python",
   "pygments_lexer": "ipython2",
   "version": "2.7.6"
  }
 },
 "nbformat": 4,
 "nbformat_minor": 5
}
