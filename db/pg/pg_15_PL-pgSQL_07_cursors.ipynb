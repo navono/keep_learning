{
 "cells": [
  {
   "cell_type": "code",
   "id": "initial_id",
   "metadata": {
    "collapsed": true,
    "ExecuteTime": {
     "end_time": "2024-04-09T00:33:51.224197Z",
     "start_time": "2024-04-09T00:33:50.793709Z"
    }
   },
   "source": [
    "import common.ipynb_importer\n",
    "from db.pg.pg_00_common import *\n",
    "\n",
    "cursor = pg_connect()"
   ],
   "outputs": [
    {
     "name": "stdout",
     "output_type": "stream",
     "text": [
      "importing Jupyter notebook from E:\\sourcecode\\keep_learning\\db\\pg\\pg_00_common.ipynb\n"
     ]
    }
   ],
   "execution_count": 1
  },
  {
   "metadata": {},
   "cell_type": "markdown",
   "source": [
    "# Cursor\n",
    "\n",
    "游标用来处理数据库查询结果的数据集。游标是一个指向数据集的指针，游标通常指向数据集的第一行。游标的工作方式类似于文件操作中的指针。游标可以用来遍历数据集中的每一行。使用游标的过程如下：\n",
    "- 声明游标\n",
    "- 打开游标\n",
    "- 从结果集中提取行到记录或变量列表中\n",
    "- 处理获取的行数据，如果没有更多的行可供获取，则退出循环\n",
    "- 关闭游标\n",
    "\n",
    "## 声明\n",
    "```\n",
    "DECLARE cursor_name CURSOR FOR select_statement;\n",
    "```\n",
    "\n",
    "## 打开\n",
    "```\n",
    "OPEN cursor_name;\n",
    "```\n",
    "\n",
    "## 获取\n",
    "```\n",
    "FETCH NEXT FROM cursor_name INTO variable_list;\n",
    "```\n",
    "\n",
    "## 处理数据\n",
    "```\n",
    "LOOP    \n",
    "    -- Fetch the next row\n",
    "    FETCH NEXT FROM cursor_name INTO variable_list;\n",
    "\n",
    "    -- exit if not found\n",
    "    EXIT WHEN NOT FOUND;\n",
    "\n",
    "    -- Process the fetched row\n",
    "    ...\n",
    "\n",
    "END LOOP;\n",
    "```\n",
    "\n",
    "## 关闭\n",
    "```\n",
    "CLOSE cursor_name;\n",
    "```"
   ],
   "id": "325d17a23458e99a"
  },
  {
   "metadata": {
    "ExecuteTime": {
     "end_time": "2024-04-09T00:33:54.042466Z",
     "start_time": "2024-04-09T00:33:54.028167Z"
    }
   },
   "cell_type": "code",
   "source": [
    "sql = \"\"\"\n",
    "CREATE OR REPLACE FUNCTION fetch_film_titles_and_years(\n",
    "   OUT p_title VARCHAR(255), \n",
    "   OUT p_release_year INTEGER\n",
    ")\n",
    "RETURNS SETOF RECORD AS\n",
    "$$\n",
    "DECLARE\n",
    "    film_cursor CURSOR FOR\n",
    "        SELECT title, release_year\n",
    "        FROM film;\n",
    "    film_record RECORD;\n",
    "BEGIN\n",
    "    -- Open cursor\n",
    "    OPEN film_cursor;\n",
    "\n",
    "    -- Fetch rows and return\n",
    "    LOOP\n",
    "        FETCH NEXT FROM film_cursor INTO film_record;\n",
    "        EXIT WHEN NOT FOUND;\n",
    "\n",
    "        p_title = film_record.title;\n",
    "        p_release_year = film_record.release_year;\n",
    "        RETURN NEXT;\n",
    "    END LOOP;\n",
    "\n",
    "    -- Close cursor\n",
    "    CLOSE film_cursor;\n",
    "END;\n",
    "$$\n",
    "LANGUAGE PLPGSQL;\n",
    "\"\"\"\n",
    "cursor.execute(sql)"
   ],
   "id": "c494f87029cf82c4",
   "outputs": [
    {
     "data": {
      "text/plain": [
       "<psycopg.Cursor [COMMAND_OK] [INTRANS] (host=localhost user=postgres database=dvdrental) at 0x2d824cd16f0>"
      ]
     },
     "execution_count": 2,
     "metadata": {},
     "output_type": "execute_result"
    }
   ],
   "execution_count": 2
  },
  {
   "metadata": {
    "ExecuteTime": {
     "end_time": "2024-04-09T00:34:18.954442Z",
     "start_time": "2024-04-09T00:34:18.929363Z"
    }
   },
   "cell_type": "code",
   "source": [
    "sql = \"\"\"\n",
    "SELECT * FROM fetch_film_titles_and_years();\n",
    "\"\"\"\n",
    "run_sql(cursor, sql)"
   ],
   "id": "4eda13a34ed406b0",
   "outputs": [
    {
     "name": "stdout",
     "output_type": "stream",
     "text": [
      "               p_title  p_release_year\n",
      "0      Chamber Italian            2006\n",
      "1     Grosse Wonderful            2006\n",
      "2      Airport Pollock            2006\n",
      "3    Bright Encounters            2006\n",
      "4     Academy Dinosaur            2006\n",
      "..                 ...             ...\n",
      "995     Young Language            2006\n",
      "996         Youth Kick            2006\n",
      "997       Zhivago Core            2006\n",
      "998  Zoolander Fiction            2006\n",
      "999          Zorro Ark            2006\n",
      "\n",
      "[1000 rows x 2 columns]\n"
     ]
    }
   ],
   "execution_count": 4
  }
 ],
 "metadata": {
  "kernelspec": {
   "display_name": "Python 3",
   "language": "python",
   "name": "python3"
  },
  "language_info": {
   "codemirror_mode": {
    "name": "ipython",
    "version": 2
   },
   "file_extension": ".py",
   "mimetype": "text/x-python",
   "name": "python",
   "nbconvert_exporter": "python",
   "pygments_lexer": "ipython2",
   "version": "2.7.6"
  }
 },
 "nbformat": 4,
 "nbformat_minor": 5
}
