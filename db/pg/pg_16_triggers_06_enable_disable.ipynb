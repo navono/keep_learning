{
 "cells": [
  {
   "metadata": {},
   "cell_type": "markdown",
   "source": [
    "# 禁用 Trigger\n",
    "\n",
    "```\n",
    "ALTER TABLE table_name\n",
    "DISABLE TRIGGER trigger_name | ALL\n",
    "```\n",
    "\n",
    "禁用指定的 `trigger_name` 或者使用 `ALL` 禁用所有。\n",
    "\n",
    "# 启用 Trigger\n",
    "\n",
    "```\n",
    "ALTER TABLE table_name\n",
    "ENABLE TRIGGER trigger_name |  ALL;\n",
    "```\n",
    "\n",
    "启用指定的 `trigger_name` 或者使用 `ALL` 启用所有。"
   ],
   "id": "e7b17748f4600f01"
  }
 ],
 "metadata": {
  "kernelspec": {
   "display_name": "Python 3",
   "language": "python",
   "name": "python3"
  },
  "language_info": {
   "codemirror_mode": {
    "name": "ipython",
    "version": 2
   },
   "file_extension": ".py",
   "mimetype": "text/x-python",
   "name": "python",
   "nbconvert_exporter": "python",
   "pygments_lexer": "ipython2",
   "version": "2.7.6"
  }
 },
 "nbformat": 4,
 "nbformat_minor": 5
}
