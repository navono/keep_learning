{
 "cells": [
  {
   "cell_type": "code",
   "execution_count": 1,
   "id": "initial_id",
   "metadata": {
    "collapsed": true,
    "ExecuteTime": {
     "end_time": "2024-01-25T05:08:21.264821600Z",
     "start_time": "2024-01-25T05:08:20.821677600Z"
    }
   },
   "outputs": [
    {
     "name": "stdout",
     "output_type": "stream",
     "text": [
      "importing Jupyter notebook from E:\\sourcecode\\keep_learning\\db\\pg\\pg_00_common.ipynb\n"
     ]
    }
   ],
   "source": [
    "import common.ipynb_importer\n",
    "from db.pg.pg_00_common import *\n",
    "\n",
    "cursor = pg_connect()"
   ]
  },
  {
   "cell_type": "code",
   "outputs": [
    {
     "data": {
      "text/plain": "<psycopg.Cursor [COMMAND_OK] [INTRANS] (host=localhost user=postgres database=dvdrental) at 0x2b36b8fda60>"
     },
     "execution_count": 2,
     "metadata": {},
     "output_type": "execute_result"
    }
   ],
   "source": [
    "sql = \"\"\"\n",
    "CREATE TABLE employees (\n",
    "    id SERIAL PRIMARY KEY,\n",
    "    first_name VARCHAR(255) NOT NULL,\n",
    "    last_name VARCHAR(255) NOT NULL,\n",
    "    salary DECIMAL(10, 2) NOT NULL\n",
    ");\n",
    "\n",
    "CREATE TABLE managers(\n",
    "    id SERIAL PRIMARY KEY,\n",
    "    first_name VARCHAR(255) NOT NULL,\n",
    "    last_name VARCHAR(255) NOT NULL,\n",
    "    salary DECIMAL(10, 2) NOT NULL\n",
    ");\n",
    "\n",
    "INSERT INTO employees (first_name, last_name, salary) \n",
    "VALUES\n",
    "('Bob', 'Williams', 75000.00),\n",
    "('Charlie', 'Davis', 55000.00),\n",
    "('David', 'Jones', 50000.00),\n",
    "('Emma', 'Brown', 48000.00),\n",
    "('Frank', 'Miller', 52000.00),\n",
    "('Grace', 'Wilson', 49000.00),\n",
    "('Harry', 'Taylor', 53000.00),\n",
    "('Ivy', 'Moore', 47000.00),\n",
    "('Jack', 'Anderson', 56000.00),\n",
    "('Kate', 'Hill',  44000.00),\n",
    "('Liam', 'Clark', 59000.00),\n",
    "('Mia', 'Parker', 42000.00);\n",
    "\n",
    "INSERT INTO managers(first_name, last_name, salary) \n",
    "VALUES\n",
    "('John', 'Doe',  60000.00),\n",
    "('Jane', 'Smith', 55000.00),\n",
    "('Alice', 'Johnson',  58000.00);\n",
    "\"\"\"\n",
    "\n",
    "cursor.execute(sql)"
   ],
   "metadata": {
    "collapsed": false,
    "ExecuteTime": {
     "end_time": "2024-01-25T05:08:21.469450900Z",
     "start_time": "2024-01-25T05:08:21.444444800Z"
    }
   },
   "id": "7293630e53e20fa1",
   "execution_count": 2
  },
  {
   "cell_type": "code",
   "outputs": [
    {
     "name": "stdout",
     "output_type": "stream",
     "text": [
      "   id first_name last_name    salary\n",
      "0   2    Charlie     Davis  55000.00\n"
     ]
    }
   ],
   "source": [
    "sql = \"\"\"\n",
    "SELECT \n",
    "  * \n",
    "FROM \n",
    "  employees \n",
    "WHERE \n",
    "  salary = ANY (\n",
    "    SELECT \n",
    "      salary \n",
    "    FROM \n",
    "      managers\n",
    "  );\n",
    "\"\"\"\n",
    "\n",
    "run_sql(cursor, sql)"
   ],
   "metadata": {
    "collapsed": false,
    "ExecuteTime": {
     "end_time": "2024-01-25T05:05:26.393738800Z",
     "start_time": "2024-01-25T05:05:26.371735200Z"
    }
   },
   "id": "98e69f9b4fa26fec",
   "execution_count": 3
  },
  {
   "cell_type": "code",
   "outputs": [
    {
     "name": "stdout",
     "output_type": "stream",
     "text": [
      "   id first_name last_name    salary\n",
      "0   1        Bob  Williams  75000.00\n",
      "1   9       Jack  Anderson  56000.00\n",
      "2  11       Liam     Clark  59000.00\n"
     ]
    }
   ],
   "source": [
    "sql = \"\"\"\n",
    "SELECT \n",
    "  * \n",
    "FROM \n",
    "  employees \n",
    "WHERE \n",
    "  salary > ANY (\n",
    "    SELECT \n",
    "      salary \n",
    "    FROM \n",
    "      managers\n",
    "  );\n",
    "\"\"\"\n",
    "\n",
    "run_sql(cursor, sql)"
   ],
   "metadata": {
    "collapsed": false,
    "ExecuteTime": {
     "end_time": "2024-01-25T05:08:32.218470300Z",
     "start_time": "2024-01-25T05:08:32.205949400Z"
    }
   },
   "id": "c96daec560e95383",
   "execution_count": 5
  },
  {
   "cell_type": "code",
   "outputs": [
    {
     "name": "stdout",
     "output_type": "stream",
     "text": [
      "    id first_name last_name    salary\n",
      "0    2    Charlie     Davis  55000.00\n",
      "1    3      David     Jones  50000.00\n",
      "2    4       Emma     Brown  48000.00\n",
      "3    5      Frank    Miller  52000.00\n",
      "4    6      Grace    Wilson  49000.00\n",
      "5    7      Harry    Taylor  53000.00\n",
      "6    8        Ivy     Moore  47000.00\n",
      "7    9       Jack  Anderson  56000.00\n",
      "8   10       Kate      Hill  44000.00\n",
      "9   11       Liam     Clark  59000.00\n",
      "10  12        Mia    Parker  42000.00\n"
     ]
    }
   ],
   "source": [
    "sql = \"\"\"\n",
    "SELECT \n",
    "  * \n",
    "FROM \n",
    "  employees \n",
    "WHERE \n",
    "  salary < ANY (\n",
    "    SELECT \n",
    "      salary \n",
    "    FROM \n",
    "      employees\n",
    "  );\n",
    "\"\"\"\n",
    "\n",
    "run_sql(cursor, sql)"
   ],
   "metadata": {
    "collapsed": false,
    "ExecuteTime": {
     "end_time": "2024-01-25T05:08:27.333673200Z",
     "start_time": "2024-01-25T05:08:27.318671200Z"
    }
   },
   "id": "3cb787bf3162e53",
   "execution_count": 4
  },
  {
   "cell_type": "code",
   "outputs": [
    {
     "name": "stdout",
     "output_type": "stream",
     "text": [
      "   id first_name last_name    salary\n",
      "0   1        Bob  Williams  75000.00\n"
     ]
    }
   ],
   "source": [
    "sql = \"\"\"\n",
    "SELECT \n",
    "  * \n",
    "FROM \n",
    "  employees \n",
    "WHERE \n",
    "  salary > ALL(\n",
    "    select \n",
    "      salary \n",
    "    from \n",
    "      managers\n",
    "  );\n",
    "\"\"\"\n",
    "\n",
    "run_sql(cursor, sql)"
   ],
   "metadata": {
    "collapsed": false,
    "ExecuteTime": {
     "end_time": "2024-01-25T05:08:25.029024900Z",
     "start_time": "2024-01-25T05:08:25.007594400Z"
    }
   },
   "id": "8321cf06906949c4",
   "execution_count": 3
  },
  {
   "cell_type": "code",
   "outputs": [
    {
     "name": "stdout",
     "output_type": "stream",
     "text": [
      "   id first_name last_name    salary\n",
      "0   7      Harry    Taylor  53000.00\n",
      "1   5      Frank    Miller  52000.00\n",
      "2   3      David     Jones  50000.00\n",
      "3   6      Grace    Wilson  49000.00\n",
      "4   4       Emma     Brown  48000.00\n",
      "5   8        Ivy     Moore  47000.00\n",
      "6  10       Kate      Hill  44000.00\n",
      "7  12        Mia    Parker  42000.00\n"
     ]
    }
   ],
   "source": [
    "sql = \"\"\"\n",
    "SELECT \n",
    "  * \n",
    "FROM \n",
    "  employees \n",
    "WHERE \n",
    "  salary < ALL(\n",
    "    select \n",
    "      salary \n",
    "    from \n",
    "      managers\n",
    "  )\n",
    "ORDER BY salary DESC;\n",
    "\"\"\"\n",
    "\n",
    "run_sql(cursor, sql)"
   ],
   "metadata": {
    "collapsed": false,
    "ExecuteTime": {
     "end_time": "2024-01-25T05:08:49.929733200Z",
     "start_time": "2024-01-25T05:08:49.908183700Z"
    }
   },
   "id": "e4b72db3287fecde",
   "execution_count": 6
  },
  {
   "cell_type": "code",
   "outputs": [
    {
     "name": "stdout",
     "output_type": "stream",
     "text": [
      "  first_name  last_name\n",
      "0      Karen    Jackson\n",
      "1       Kent  Arsenault\n",
      "2   Nicholas   Barfield\n",
      "3   Rosemary    Schmidt\n",
      "4      Tanya    Gilbert\n",
      "5   Terrance      Roush\n",
      "6    Vanessa       Sims\n",
      "7   Victoria     Gibson\n"
     ]
    }
   ],
   "source": [
    "sql = \"\"\"\n",
    "SELECT \n",
    "  first_name, \n",
    "  last_name \n",
    "FROM \n",
    "  customer c \n",
    "WHERE \n",
    "  EXISTS (\n",
    "    SELECT \n",
    "      1 \n",
    "    FROM \n",
    "      payment p \n",
    "    WHERE \n",
    "      p.customer_id = c.customer_id \n",
    "      AND amount > 11\n",
    "  ) \n",
    "ORDER BY \n",
    "  first_name, \n",
    "  last_name;\n",
    "\"\"\"\n",
    "\n",
    "run_sql(cursor, sql)"
   ],
   "metadata": {
    "collapsed": false,
    "ExecuteTime": {
     "end_time": "2024-01-25T05:10:16.179764Z",
     "start_time": "2024-01-25T05:10:16.160618400Z"
    }
   },
   "id": "ee35257007fcf199",
   "execution_count": 7
  },
  {
   "cell_type": "code",
   "outputs": [
    {
     "name": "stdout",
     "output_type": "stream",
     "text": [
      "    first_name last_name\n",
      "0        Aaron     Selby\n",
      "1         Adam     Gooch\n",
      "2       Adrian     Clary\n",
      "3        Agnes    Bishop\n",
      "4         Alan      Kahn\n",
      "..         ...       ...\n",
      "586     Willie   Markham\n",
      "587      Wilma  Richards\n",
      "588    Yolanda    Weaver\n",
      "589     Yvonne   Watkins\n",
      "590    Zachary      Hite\n",
      "\n",
      "[591 rows x 2 columns]\n"
     ]
    }
   ],
   "source": [
    "sql = \"\"\"\n",
    "SELECT \n",
    "  first_name, \n",
    "  last_name \n",
    "FROM \n",
    "  customer c \n",
    "WHERE \n",
    "  NOT EXISTS (\n",
    "    SELECT \n",
    "      1 \n",
    "    FROM \n",
    "      payment p \n",
    "    WHERE \n",
    "      p.customer_id = c.customer_id \n",
    "      AND amount > 11\n",
    "  ) \n",
    "ORDER BY \n",
    "  first_name, \n",
    "  last_name;\n",
    "\"\"\"\n",
    "\n",
    "run_sql(cursor, sql)"
   ],
   "metadata": {
    "collapsed": false,
    "ExecuteTime": {
     "end_time": "2024-01-25T05:10:52.196091700Z",
     "start_time": "2024-01-25T05:10:52.173092600Z"
    }
   },
   "id": "ca30c3f650e8d1c8",
   "execution_count": 8
  },
  {
   "cell_type": "code",
   "outputs": [
    {
     "name": "stdout",
     "output_type": "stream",
     "text": [
      "    first_name last_name\n",
      "0        Aaron     Selby\n",
      "1         Adam     Gooch\n",
      "2       Adrian     Clary\n",
      "3        Agnes    Bishop\n",
      "4         Alan      Kahn\n",
      "..         ...       ...\n",
      "594     Willie   Markham\n",
      "595      Wilma  Richards\n",
      "596    Yolanda    Weaver\n",
      "597     Yvonne   Watkins\n",
      "598    Zachary      Hite\n",
      "\n",
      "[599 rows x 2 columns]\n"
     ]
    }
   ],
   "source": [
    "sql = \"\"\"\n",
    "SELECT \n",
    "  first_name, \n",
    "  last_name \n",
    "FROM \n",
    "  customer \n",
    "WHERE \n",
    "  EXISTS(\n",
    "    SELECT NULL\n",
    "  ) \n",
    "ORDER BY \n",
    "  first_name, \n",
    "  last_name;\n",
    "\"\"\"\n",
    "\n",
    "run_sql(cursor, sql)"
   ],
   "metadata": {
    "collapsed": false,
    "ExecuteTime": {
     "end_time": "2024-01-25T05:11:10.191375200Z",
     "start_time": "2024-01-25T05:11:10.169371800Z"
    }
   },
   "id": "16f301f3adc736ac",
   "execution_count": 9
  }
 ],
 "metadata": {
  "kernelspec": {
   "display_name": "Python 3",
   "language": "python",
   "name": "python3"
  },
  "language_info": {
   "codemirror_mode": {
    "name": "ipython",
    "version": 2
   },
   "file_extension": ".py",
   "mimetype": "text/x-python",
   "name": "python",
   "nbconvert_exporter": "python",
   "pygments_lexer": "ipython2",
   "version": "2.7.6"
  }
 },
 "nbformat": 4,
 "nbformat_minor": 5
}
