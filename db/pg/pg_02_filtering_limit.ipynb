{
 "cells": [
  {
   "cell_type": "markdown",
   "source": [
    "```\n",
    "SELECT \n",
    "  select_list \n",
    "FROM \n",
    "  table_name \n",
    "ORDER BY \n",
    "  sort_expression \n",
    "LIMIT \n",
    "  row_count;\n",
    "```\n",
    "\n",
    "返回 `row_count` 行，如果 `row_count` 是 0，查询返回空集合，如果 `row_count` 是 `NULL`，查询返回和没有 `LIMIT` 一样的集合。\n",
    "\n",
    "如果要跳过特定的行，\n",
    "```\n",
    "SELECT \n",
    "  select_list \n",
    "FROM \n",
    "  table_name \n",
    "ORDER BY \n",
    "  sort_expression \n",
    "LIMIT \n",
    "  row_count OFFSET row_to_skip;\n",
    "```\n",
    "\n",
    "使用 `LIMIT` 时，数据存储是无序的，因此需要 `ORDER BY` 控制返回的数据排序。"
   ],
   "metadata": {
    "collapsed": false
   },
   "id": "603180fe1537c2e6"
  },
  {
   "cell_type": "code",
   "execution_count": 1,
   "id": "initial_id",
   "metadata": {
    "collapsed": true,
    "ExecuteTime": {
     "end_time": "2024-01-23T07:57:49.232832300Z",
     "start_time": "2024-01-23T07:57:48.734605900Z"
    }
   },
   "outputs": [],
   "source": [
    "import ipynb_importer\n",
    "%run pg_00_common.ipynb\n",
    "cursor = pg_connect()"
   ]
  },
  {
   "cell_type": "code",
   "outputs": [
    {
     "name": "stdout",
     "output_type": "stream",
     "text": [
      "   film_id             title  release_year\n",
      "0        1  Academy Dinosaur          2006\n",
      "1        2    Ace Goldfinger          2006\n",
      "2        3  Adaptation Holes          2006\n",
      "3        4  Affair Prejudice          2006\n",
      "4        5       African Egg          2006\n"
     ]
    }
   ],
   "source": [
    "sql = \"\"\"\n",
    "SELECT \n",
    "  film_id, \n",
    "  title, \n",
    "  release_year \n",
    "FROM \n",
    "  film \n",
    "ORDER BY \n",
    "  film_id \n",
    "LIMIT \n",
    "  5;\n",
    "\"\"\"\n",
    "\n",
    "run_sql(cursor, sql)"
   ],
   "metadata": {
    "collapsed": false,
    "ExecuteTime": {
     "end_time": "2024-01-23T07:58:26.307675100Z",
     "start_time": "2024-01-23T07:58:26.291675100Z"
    }
   },
   "id": "b67c3d62b98fd0f",
   "execution_count": 10
  },
  {
   "cell_type": "code",
   "outputs": [
    {
     "name": "stdout",
     "output_type": "stream",
     "text": [
      "   film_id             title  release_year\n",
      "0        4  Affair Prejudice          2006\n",
      "1        5       African Egg          2006\n",
      "2        6      Agent Truman          2006\n",
      "3        7   Airplane Sierra          2006\n"
     ]
    }
   ],
   "source": [
    "sql = \"\"\"\n",
    "SELECT \n",
    "  film_id, \n",
    "  title, \n",
    "  release_year \n",
    "FROM \n",
    "  film \n",
    "ORDER BY \n",
    "  film_id \n",
    "LIMIT 4 OFFSET 3;\n",
    "\"\"\"\n",
    "\n",
    "run_sql(cursor, sql)"
   ],
   "metadata": {
    "collapsed": false,
    "ExecuteTime": {
     "end_time": "2024-01-23T07:59:14.377423600Z",
     "start_time": "2024-01-23T07:59:14.363285Z"
    }
   },
   "id": "2bb6172fb05a8805",
   "execution_count": 11
  },
  {
   "cell_type": "code",
   "outputs": [
    {
     "name": "stdout",
     "output_type": "stream",
     "text": [
      "   film_id                title rental_rate\n",
      "0       13          Ali Forever        4.99\n",
      "1       20  Amelie Hellfighters        4.99\n",
      "2        7      Airplane Sierra        4.99\n",
      "3       10     Aladdin Calendar        4.99\n",
      "4        2       Ace Goldfinger        4.99\n",
      "5        8      Airport Pollock        4.99\n",
      "6       98    Bright Encounters        4.99\n",
      "7      133      Chamber Italian        4.99\n",
      "8      384     Grosse Wonderful        4.99\n",
      "9       21      American Circus        4.99\n"
     ]
    }
   ],
   "source": [
    "sql = \"\"\"\n",
    "SELECT \n",
    "  film_id, \n",
    "  title, \n",
    "  rental_rate \n",
    "FROM \n",
    "  film \n",
    "ORDER BY \n",
    "  rental_rate DESC \n",
    "LIMIT \n",
    "  10;\n",
    "\"\"\"\n",
    "\n",
    "run_sql(cursor, sql)"
   ],
   "metadata": {
    "collapsed": false,
    "ExecuteTime": {
     "end_time": "2024-01-23T08:00:37.095864400Z",
     "start_time": "2024-01-23T08:00:37.085655500Z"
    }
   },
   "id": "4a0e649a3d38dfea",
   "execution_count": 12
  }
 ],
 "metadata": {
  "kernelspec": {
   "display_name": "Python 3",
   "language": "python",
   "name": "python3"
  },
  "language_info": {
   "codemirror_mode": {
    "name": "ipython",
    "version": 2
   },
   "file_extension": ".py",
   "mimetype": "text/x-python",
   "name": "python",
   "nbconvert_exporter": "python",
   "pygments_lexer": "ipython2",
   "version": "2.7.6"
  }
 },
 "nbformat": 4,
 "nbformat_minor": 5
}
