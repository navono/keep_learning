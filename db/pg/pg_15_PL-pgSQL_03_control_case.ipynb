{
 "cells": [
  {
   "cell_type": "code",
   "execution_count": 1,
   "id": "initial_id",
   "metadata": {
    "collapsed": true,
    "ExecuteTime": {
     "end_time": "2024-04-04T05:32:05.672632Z",
     "start_time": "2024-04-04T05:32:04.707842Z"
    }
   },
   "outputs": [
    {
     "name": "stdout",
     "output_type": "stream",
     "text": [
      "importing Jupyter notebook from D:\\sourcecode\\keep_learning\\db\\pg\\pg_00_common.ipynb\n"
     ]
    }
   ],
   "source": [
    "import common.ipynb_importer\n",
    "from db.pg.pg_00_common import *\n",
    "\n",
    "cursor = pg_connect()"
   ]
  },
  {
   "cell_type": "markdown",
   "source": [
    "# CASE 语句\n",
    "\n",
    "`case` 是基于特定条件满足后执行语句。`case` 语句有两种形式：简单 `case` 和搜索 `case`。简单 `case` 语句比较一个表达式与一系列可能值，而搜索 `case` 语句比较一系列表达式与可能值。`case` 语句的一般形式如下：\n",
    "\n",
    "`case 表达式` 与 `case 语句` 的区别：`case 表达式` 会求值，而 `case 语句` 会根据条件选择要执行的部分。\n",
    "\n",
    "\n",
    "## 简单 CASE 语句\n",
    "```\n",
    "case search-expression\n",
    "   when expression_1 [, expression_2, ...] then\n",
    "      when-statements\n",
    "  [ ... ]\n",
    "  [else\n",
    "      else-statements ]\n",
    "END case;\n",
    "```\n",
    "\n",
    "`search-expression` 是表达式，会被求值。`search-expression` 的结果会使用（=）与 `when` 中的表达式进行比较，如果匹配则执行 `when-statements`。反之则执行 `else-statements`。\n",
    "\n",
    "`else` 是可选的。如果 `search-expression` 的结果没有匹配 `when` 的表达式，同时 `else` 不存在，将引发 case_not_found 异常。"
   ],
   "metadata": {
    "collapsed": false
   },
   "id": "34cdaf44c050df52"
  },
  {
   "cell_type": "code",
   "outputs": [
    {
     "name": "stdout",
     "output_type": "stream",
     "text": [
      "High End\n"
     ]
    },
    {
     "data": {
      "text/plain": "<psycopg.Cursor [COMMAND_OK] [INTRANS] (host=localhost user=postgres database=dvdrental) at 0x20f329e7110>"
     },
     "execution_count": 2,
     "metadata": {},
     "output_type": "execute_result"
    }
   ],
   "source": [
    "sql = \"\"\"\n",
    "do $$\n",
    "declare \n",
    "\trate film.rental_rate%type;\n",
    "\tprice_segment varchar(50);\n",
    "begin\n",
    "    -- get the rental rate\n",
    "    select rental_rate into rate \n",
    "    from film \n",
    "    where film_id = 100;\n",
    "\t\n",
    "\t-- assign the price segment\n",
    "\tif found then\n",
    "\t\tcase rate\n",
    "\t\t   when 0.99 then\n",
    "              price_segment =  'Mass';\n",
    "\t\t   when 2.99 then\n",
    "              price_segment = 'Mainstream';\n",
    "\t\t   when 4.99 then\n",
    "              price_segment = 'High End';\n",
    "\t\t   else\n",
    "\t    \t  price_segment = 'Unspecified';\n",
    "\t\t   end case;\n",
    "\t\t   \n",
    "\t\traise notice '%', price_segment;  \n",
    "\telse\n",
    "\t\traise notice 'film not found';  \n",
    "    end if;\n",
    "end; $$\n",
    "\"\"\"\n",
    "cursor.execute(sql)"
   ],
   "metadata": {
    "collapsed": false,
    "ExecuteTime": {
     "end_time": "2024-04-04T05:32:11.891105Z",
     "start_time": "2024-04-04T05:32:11.851105Z"
    }
   },
   "id": "a5e517bcd070b90f",
   "execution_count": 2
  },
  {
   "cell_type": "markdown",
   "source": [
    "## 搜索 CASE 语句\n",
    "\n",
    "```\n",
    "case\n",
    "    when boolean-expression-1 then\n",
    "      statements\n",
    "  [ when boolean-expression-2 then\n",
    "      statements\n",
    "    ... ]\n",
    "  [ else\n",
    "      statements ]\n",
    "end case;\n",
    "```"
   ],
   "metadata": {
    "collapsed": false
   },
   "id": "2cbda28a75c6b430"
  },
  {
   "cell_type": "code",
   "outputs": [
    {
     "name": "stdout",
     "output_type": "stream",
     "text": [
      "Service Level: Gold\n"
     ]
    },
    {
     "data": {
      "text/plain": "<psycopg.Cursor [COMMAND_OK] [INTRANS] (host=localhost user=postgres database=dvdrental) at 0x20f329e7110>"
     },
     "execution_count": 3,
     "metadata": {},
     "output_type": "execute_result"
    }
   ],
   "source": [
    "sql = \"\"\"\n",
    "do $$ \n",
    "declare\n",
    "    total_payment numeric; \n",
    "    service_level varchar(25) ;\n",
    "begin\n",
    "     select sum(amount) into total_payment\n",
    "     from Payment\n",
    "     where customer_id = 100; \n",
    "\t \n",
    "\t if found then\n",
    "\t    case \n",
    "\t\t   when total_payment > 200 then\n",
    "               service_level = 'Platinum' ;\n",
    "           when total_payment > 100 then\n",
    "\t           service_level = 'Gold' ;\n",
    "           else\n",
    "               service_level = 'Silver' ;\n",
    "        end case;\n",
    "\t\traise notice 'Service Level: %', service_level;\n",
    "     else\n",
    "\t    raise notice 'Customer not found';\n",
    "\t end if;\n",
    "end; $$ \n",
    "\n",
    "\"\"\"\n",
    "cursor.execute(sql)"
   ],
   "metadata": {
    "collapsed": false,
    "ExecuteTime": {
     "end_time": "2024-04-04T05:33:44.662304Z",
     "start_time": "2024-04-04T05:33:44.628271Z"
    }
   },
   "id": "58329a4067435016",
   "execution_count": 3
  }
 ],
 "metadata": {
  "kernelspec": {
   "display_name": "Python 3",
   "language": "python",
   "name": "python3"
  },
  "language_info": {
   "codemirror_mode": {
    "name": "ipython",
    "version": 2
   },
   "file_extension": ".py",
   "mimetype": "text/x-python",
   "name": "python",
   "nbconvert_exporter": "python",
   "pygments_lexer": "ipython2",
   "version": "2.7.6"
  }
 },
 "nbformat": 4,
 "nbformat_minor": 5
}
