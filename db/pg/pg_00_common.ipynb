{
 "cells": [
  {
   "cell_type": "code",
   "id": "initial_id",
   "metadata": {
    "collapsed": true,
    "ExecuteTime": {
     "end_time": "2024-04-29T23:48:23.710755Z",
     "start_time": "2024-04-29T23:48:23.708247Z"
    }
   },
   "source": [
    "import psycopg\n",
    "import pandas as pd"
   ],
   "outputs": [],
   "execution_count": 8
  },
  {
   "cell_type": "code",
   "source": [
    "def notice_handler(message):\n",
    "    # print(\"Received notice:\", message)\n",
    "    # print(dir(message))\n",
    "    print(message.message_primary)\n"
   ],
   "metadata": {
    "collapsed": false,
    "ExecuteTime": {
     "end_time": "2024-04-29T23:48:23.717806Z",
     "start_time": "2024-04-29T23:48:23.710755Z"
    }
   },
   "id": "c04479cb5bde6234",
   "outputs": [],
   "execution_count": 9
  },
  {
   "cell_type": "code",
   "source": [
    "def pg_connect():\n",
    "    conn_info = f'host=localhost port=15432 dbname=dvdrental user=postgres password=1234'\n",
    "    conn = psycopg.connect(conninfo=conn_info)\n",
    "\n",
    "    # 创建游标对象\n",
    "    conn.add_notice_handler(notice_handler)\n",
    "    return conn.cursor()"
   ],
   "metadata": {
    "collapsed": false,
    "ExecuteTime": {
     "end_time": "2024-04-29T23:48:23.724217Z",
     "start_time": "2024-04-29T23:48:23.718810Z"
    }
   },
   "id": "5bac42d92ebe1e3b",
   "outputs": [],
   "execution_count": 10
  },
  {
   "cell_type": "code",
   "source": [
    "def pg_connect2():\n",
    "    conn_info = f'host=localhost port=15432 dbname=dvdrental user=postgres password=1234'\n",
    "    conn = psycopg.connect(conninfo=conn_info)\n",
    "\n",
    "    # 创建游标对象\n",
    "    return conn"
   ],
   "metadata": {
    "collapsed": false,
    "ExecuteTime": {
     "end_time": "2024-04-29T23:48:23.730406Z",
     "start_time": "2024-04-29T23:48:23.724736Z"
    }
   },
   "id": "3bae96500a94eec0",
   "outputs": [],
   "execution_count": 11
  },
  {
   "cell_type": "code",
   "source": [
    "def run_sql(cursor, sql_stat):\n",
    "    cursor.execute(sql_stat)\n",
    "    display_data(cursor)"
   ],
   "metadata": {
    "collapsed": false,
    "ExecuteTime": {
     "end_time": "2024-04-29T23:48:23.736134Z",
     "start_time": "2024-04-29T23:48:23.730921Z"
    }
   },
   "id": "65990f3377077a85",
   "outputs": [],
   "execution_count": 12
  },
  {
   "cell_type": "code",
   "source": [
    "def run_sql_pl(cursor, sql_stat):\n",
    "    cursor.execute(sql_stat)\n",
    "    display_data(cursor)"
   ],
   "metadata": {
    "collapsed": false,
    "ExecuteTime": {
     "end_time": "2024-04-29T23:48:23.741927Z",
     "start_time": "2024-04-29T23:48:23.736134Z"
    }
   },
   "id": "bf14bedb1722f604",
   "outputs": [],
   "execution_count": 13
  },
  {
   "cell_type": "code",
   "source": [
    "def display_data(cursor):\n",
    "    data = cursor.fetchall()\n",
    "    col_names = [desc[0] for desc in cursor.description]\n",
    "\n",
    "    df = pd.DataFrame(data, columns=col_names)\n",
    "    print(df)"
   ],
   "metadata": {
    "collapsed": false,
    "ExecuteTime": {
     "end_time": "2024-04-29T23:48:23.748400Z",
     "start_time": "2024-04-29T23:48:23.741927Z"
    }
   },
   "id": "2dd956b28bc27038",
   "outputs": [],
   "execution_count": 14
  }
 ],
 "metadata": {
  "kernelspec": {
   "display_name": "Python 3",
   "language": "python",
   "name": "python3"
  },
  "language_info": {
   "codemirror_mode": {
    "name": "ipython",
    "version": 2
   },
   "file_extension": ".py",
   "mimetype": "text/x-python",
   "name": "python",
   "nbconvert_exporter": "python",
   "pygments_lexer": "ipython2",
   "version": "2.7.6"
  }
 },
 "nbformat": 4,
 "nbformat_minor": 5
}
