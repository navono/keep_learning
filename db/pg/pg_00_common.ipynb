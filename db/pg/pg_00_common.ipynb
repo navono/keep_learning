{
 "cells": [
  {
   "cell_type": "code",
   "id": "initial_id",
   "metadata": {
    "collapsed": true,
    "ExecuteTime": {
     "end_time": "2024-04-16T00:35:35.611819Z",
     "start_time": "2024-04-16T00:35:35.361057Z"
    }
   },
   "source": [
    "import psycopg\n",
    "import pandas as pd"
   ],
   "outputs": [],
   "execution_count": 1
  },
  {
   "cell_type": "code",
   "source": [
    "def notice_handler(message):\n",
    "    # print(\"Received notice:\", message)\n",
    "    # print(dir(message))\n",
    "    print(message.message_primary)\n"
   ],
   "metadata": {
    "collapsed": false,
    "ExecuteTime": {
     "end_time": "2024-04-16T00:35:35.614336Z",
     "start_time": "2024-04-16T00:35:35.611819Z"
    }
   },
   "id": "c04479cb5bde6234",
   "outputs": [],
   "execution_count": 2
  },
  {
   "cell_type": "code",
   "source": [
    "def pg_connect():\n",
    "    conn_info = f'host=localhost port=5432 dbname=dvdrental user=postgres password=1234'\n",
    "    conn = psycopg.connect(conninfo=conn_info)\n",
    "\n",
    "    # 创建游标对象\n",
    "    conn.add_notice_handler(notice_handler)\n",
    "    return conn.cursor()"
   ],
   "metadata": {
    "collapsed": false,
    "ExecuteTime": {
     "end_time": "2024-04-16T00:35:35.621903Z",
     "start_time": "2024-04-16T00:35:35.614336Z"
    }
   },
   "id": "5bac42d92ebe1e3b",
   "outputs": [],
   "execution_count": 3
  },
  {
   "cell_type": "code",
   "source": [
    "def pg_connect2():\n",
    "    conn_info = f'host=localhost port=5432 dbname=dvdrental user=postgres password=1234'\n",
    "    conn = psycopg.connect(conninfo=conn_info)\n",
    "\n",
    "    # 创建游标对象\n",
    "    return conn"
   ],
   "metadata": {
    "collapsed": false,
    "ExecuteTime": {
     "end_time": "2024-04-16T00:35:35.628173Z",
     "start_time": "2024-04-16T00:35:35.621903Z"
    }
   },
   "id": "3bae96500a94eec0",
   "outputs": [],
   "execution_count": 4
  },
  {
   "cell_type": "code",
   "source": [
    "def run_sql(cursor, sql_stat):\n",
    "    cursor.execute(sql_stat)\n",
    "    display_data(cursor)"
   ],
   "metadata": {
    "collapsed": false,
    "ExecuteTime": {
     "end_time": "2024-04-16T00:35:35.633838Z",
     "start_time": "2024-04-16T00:35:35.628173Z"
    }
   },
   "id": "65990f3377077a85",
   "outputs": [],
   "execution_count": 5
  },
  {
   "cell_type": "code",
   "source": [
    "def run_sql_pl(cursor, sql_stat):\n",
    "    cursor.execute(sql_stat)\n",
    "    display_data(cursor)"
   ],
   "metadata": {
    "collapsed": false,
    "ExecuteTime": {
     "end_time": "2024-04-16T00:35:35.639736Z",
     "start_time": "2024-04-16T00:35:35.633838Z"
    }
   },
   "id": "bf14bedb1722f604",
   "outputs": [],
   "execution_count": 6
  },
  {
   "cell_type": "code",
   "source": [
    "def display_data(cursor):\n",
    "    data = cursor.fetchall()\n",
    "    col_names = [desc[0] for desc in cursor.description]\n",
    "\n",
    "    df = pd.DataFrame(data, columns=col_names)\n",
    "    print(df)"
   ],
   "metadata": {
    "collapsed": false,
    "ExecuteTime": {
     "end_time": "2024-04-16T00:35:35.645930Z",
     "start_time": "2024-04-16T00:35:35.639736Z"
    }
   },
   "id": "2dd956b28bc27038",
   "outputs": [],
   "execution_count": 7
  }
 ],
 "metadata": {
  "kernelspec": {
   "display_name": "Python 3",
   "language": "python",
   "name": "python3"
  },
  "language_info": {
   "codemirror_mode": {
    "name": "ipython",
    "version": 2
   },
   "file_extension": ".py",
   "mimetype": "text/x-python",
   "name": "python",
   "nbconvert_exporter": "python",
   "pygments_lexer": "ipython2",
   "version": "2.7.6"
  }
 },
 "nbformat": 4,
 "nbformat_minor": 5
}
