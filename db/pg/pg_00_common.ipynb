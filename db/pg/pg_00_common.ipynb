{
 "cells": [
  {
   "cell_type": "code",
   "execution_count": 1,
   "id": "initial_id",
   "metadata": {
    "collapsed": true,
    "ExecuteTime": {
     "end_time": "2024-04-01T10:53:50.519084Z",
     "start_time": "2024-04-01T10:53:50.212941Z"
    }
   },
   "outputs": [],
   "source": [
    "import psycopg\n",
    "import pandas as pd"
   ]
  },
  {
   "cell_type": "code",
   "outputs": [],
   "source": [
    "def notice_handler(message):\n",
    "    # print(\"Received notice:\", message)\n",
    "    # print(dir(message))\n",
    "    print(message.message_primary)\n"
   ],
   "metadata": {
    "collapsed": false,
    "ExecuteTime": {
     "end_time": "2024-04-01T10:53:50.535162Z",
     "start_time": "2024-04-01T10:53:50.520081Z"
    }
   },
   "id": "c04479cb5bde6234",
   "execution_count": 2
  },
  {
   "cell_type": "code",
   "outputs": [],
   "source": [
    "def pg_connect():\n",
    "    conn_info = f'host=localhost port=5432 dbname=dvdrental user=postgres password=1234'\n",
    "    conn = psycopg.connect(conninfo=conn_info)\n",
    "\n",
    "    # 创建游标对象\n",
    "    conn.add_notice_handler(notice_handler)\n",
    "    return conn.cursor()"
   ],
   "metadata": {
    "collapsed": false,
    "ExecuteTime": {
     "end_time": "2024-04-01T10:53:50.551045Z",
     "start_time": "2024-04-01T10:53:50.536159Z"
    }
   },
   "id": "5bac42d92ebe1e3b",
   "execution_count": 3
  },
  {
   "cell_type": "code",
   "outputs": [],
   "source": [
    "def pg_connect2():\n",
    "    conn_info = f'host=localhost port=5432 dbname=dvdrental user=postgres password=1234'\n",
    "    conn = psycopg.connect(conninfo=conn_info)\n",
    "\n",
    "    # 创建游标对象\n",
    "    return conn"
   ],
   "metadata": {
    "collapsed": false,
    "ExecuteTime": {
     "end_time": "2024-04-01T10:53:50.566455Z",
     "start_time": "2024-04-01T10:53:50.553455Z"
    }
   },
   "id": "3bae96500a94eec0",
   "execution_count": 4
  },
  {
   "cell_type": "code",
   "outputs": [],
   "source": [
    "def run_sql(cursor, sql_stat):\n",
    "    cursor.execute(sql_stat)\n",
    "    display_data(cursor)"
   ],
   "metadata": {
    "collapsed": false,
    "ExecuteTime": {
     "end_time": "2024-04-01T10:53:50.582453Z",
     "start_time": "2024-04-01T10:53:50.568454Z"
    }
   },
   "id": "65990f3377077a85",
   "execution_count": 5
  },
  {
   "cell_type": "code",
   "outputs": [],
   "source": [
    "def run_sql_pl(cursor, sql_stat):\n",
    "    cursor.execute(sql_stat)\n",
    "    display_data(cursor)"
   ],
   "metadata": {
    "collapsed": false,
    "ExecuteTime": {
     "end_time": "2024-04-01T10:53:50.598457Z",
     "start_time": "2024-04-01T10:53:50.583454Z"
    }
   },
   "id": "bf14bedb1722f604",
   "execution_count": 6
  },
  {
   "cell_type": "code",
   "outputs": [],
   "source": [
    "def display_data(cursor):\n",
    "    data = cursor.fetchall()\n",
    "    col_names = [desc[0] for desc in cursor.description]\n",
    "\n",
    "    df = pd.DataFrame(data, columns=col_names)\n",
    "    print(df)"
   ],
   "metadata": {
    "collapsed": false,
    "ExecuteTime": {
     "end_time": "2024-04-01T10:53:50.614457Z",
     "start_time": "2024-04-01T10:53:50.599454Z"
    }
   },
   "id": "2dd956b28bc27038",
   "execution_count": 7
  }
 ],
 "metadata": {
  "kernelspec": {
   "display_name": "Python 3",
   "language": "python",
   "name": "python3"
  },
  "language_info": {
   "codemirror_mode": {
    "name": "ipython",
    "version": 2
   },
   "file_extension": ".py",
   "mimetype": "text/x-python",
   "name": "python",
   "nbconvert_exporter": "python",
   "pygments_lexer": "ipython2",
   "version": "2.7.6"
  }
 },
 "nbformat": 4,
 "nbformat_minor": 5
}
