{
 "cells": [
  {
   "cell_type": "markdown",
   "source": [
    "# DELETE CASCADE\n",
    "学习如何使用 PostgreSQL DELETE CASCADE 在父表删除父记录时删除子表中的相关记录。\n",
    "\n",
    "```\n",
    "CREATE TABLE parent_table(\n",
    "    id SERIAL PRIMARY KEY,\n",
    "    ...\n",
    ");\n",
    "\n",
    "CREATE TABLE child_table(\n",
    "    id SERIAL PRIMARY KEY,\n",
    "    parent_id INT,\n",
    "    FOREIGN_KEY(parent_id) \n",
    "       REFERENCES parent_table(id)\n",
    "       ON DELETE CASCADE\n",
    ");\n",
    "```"
   ],
   "metadata": {
    "collapsed": false
   },
   "id": "ff244fefc831f3c7"
  },
  {
   "cell_type": "code",
   "outputs": [],
   "source": [
    "import common.ipynb_importer\n",
    "from db.pg.pg_00_common import *\n",
    "\n",
    "cursor = pg_connect()"
   ],
   "metadata": {
    "collapsed": false,
    "ExecuteTime": {
     "end_time": "2024-03-17T05:23:56.397153Z",
     "start_time": "2024-03-17T05:23:56.316599Z"
    }
   },
   "id": "73322dbc00c1b46a",
   "execution_count": 6
  },
  {
   "cell_type": "code",
   "execution_count": 7,
   "id": "initial_id",
   "metadata": {
    "collapsed": true,
    "ExecuteTime": {
     "end_time": "2024-03-17T05:23:56.428168Z",
     "start_time": "2024-03-17T05:23:56.399128Z"
    }
   },
   "outputs": [
    {
     "name": "stdout",
     "output_type": "stream",
     "text": [
      "   id         name\n",
      "0   1  Engineering\n",
      "1   2        Sales\n",
      "   id             name  department_id\n",
      "0   1         John Doe              1\n",
      "1   2       Jane Smith              1\n",
      "2   3  Michael Johnson              2\n"
     ]
    }
   ],
   "source": [
    "sql=\"\"\"\n",
    "CREATE TABLE departments (\n",
    "    id SERIAL PRIMARY KEY,\n",
    "    name VARCHAR(100) NOT NULL\n",
    ");\n",
    "\n",
    "CREATE TABLE employees (\n",
    "    id SERIAL PRIMARY KEY,\n",
    "    name VARCHAR(100) NOT NULL,\n",
    "    department_id INT NOT NULL,\n",
    "    FOREIGN KEY(department_id) \n",
    "       REFERENCES departments(id) \n",
    "       ON DELETE CASCADE\n",
    ");\n",
    "\n",
    "INSERT INTO departments (name) \n",
    "VALUES \n",
    "    ('Engineering'),\n",
    "    ('Sales')\n",
    "RETURNING *;\n",
    "\n",
    "INSERT INTO employees (name, department_id) \n",
    "VALUES\n",
    "    ('John Doe', 1),\n",
    "    ('Jane Smith', 1),\n",
    "    ('Michael Johnson', 2)\n",
    "RETURNING *;\n",
    "\"\"\"\n",
    "cursor.execute(sql)\n",
    "\n",
    "sql=\"\"\"\n",
    "SELECT * FROM departments;\n",
    "\"\"\"\n",
    "run_sql(cursor, sql)\n",
    "\n",
    "sql=\"\"\"\n",
    "SELECT * FROM employees;\n",
    "\"\"\"\n",
    "run_sql(cursor, sql)"
   ]
  },
  {
   "cell_type": "code",
   "outputs": [
    {
     "name": "stdout",
     "output_type": "stream",
     "text": [
      "   id             name  department_id\n",
      "0   3  Michael Johnson              2\n"
     ]
    }
   ],
   "source": [
    "sql=\"\"\"\n",
    "DELETE FROM departments\n",
    "WHERE id = 1;\n",
    "\"\"\"\n",
    "\n",
    "sql=\"\"\"\n",
    "SELECT * FROM employees;\n",
    "\"\"\"\n",
    "run_sql(cursor, sql)"
   ],
   "metadata": {
    "collapsed": false,
    "ExecuteTime": {
     "end_time": "2024-03-17T05:38:09.430728Z",
     "start_time": "2024-03-17T05:38:09.412533Z"
    }
   },
   "id": "2f7f5dccf57f0278",
   "execution_count": 9
  }
 ],
 "metadata": {
  "kernelspec": {
   "display_name": "Python 3",
   "language": "python",
   "name": "python3"
  },
  "language_info": {
   "codemirror_mode": {
    "name": "ipython",
    "version": 2
   },
   "file_extension": ".py",
   "mimetype": "text/x-python",
   "name": "python",
   "nbconvert_exporter": "python",
   "pygments_lexer": "ipython2",
   "version": "2.7.6"
  }
 },
 "nbformat": 4,
 "nbformat_minor": 5
}
