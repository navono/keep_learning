{
 "cells": [
  {
   "cell_type": "markdown",
   "source": [
    "`ROLLUP` 有汇总的意思。\n",
    "\n",
    "`ROLLUP` 与 `CUBE` 的区别：\n",
    "\n",
    "`CUBE(c1,c2,c3)` 产生这样的集合：\n",
    "```\n",
    "(c1, c2, c3)\n",
    "(c1, c2)\n",
    "(c2, c3)\n",
    "(c1,c3)\n",
    "(c1)\n",
    "(c2)\n",
    "(c3)\n",
    "()\n",
    "```\n",
    "\n",
    "`ROLLUP(c1,c2,c3)` 产生这样的集合：\n",
    "```\n",
    "(c1, c2, c3)\n",
    "(c1, c2)\n",
    "(c1)\n",
    "()\n",
    "```"
   ],
   "metadata": {
    "collapsed": false
   },
   "id": "aeadc28d3ea89d5f"
  },
  {
   "cell_type": "code",
   "execution_count": 1,
   "id": "initial_id",
   "metadata": {
    "collapsed": true,
    "ExecuteTime": {
     "end_time": "2024-01-25T01:40:59.322209800Z",
     "start_time": "2024-01-25T01:40:58.874209600Z"
    }
   },
   "outputs": [
    {
     "name": "stdout",
     "output_type": "stream",
     "text": [
      "importing Jupyter notebook from E:\\sourcecode\\keep_learning\\db\\pg\\pg_00_common.ipynb\n"
     ]
    }
   ],
   "source": [
    "import common.ipynb_importer\n",
    "from db.pg.pg_00_common import *\n",
    "\n",
    "cursor = pg_connect()"
   ]
  },
  {
   "cell_type": "code",
   "outputs": [
    {
     "data": {
      "text/plain": "<psycopg.Cursor [COMMAND_OK] [INTRANS] (host=localhost user=postgres database=dvdrental) at 0x1a9db115a60>"
     },
     "execution_count": 2,
     "metadata": {},
     "output_type": "execute_result"
    }
   ],
   "source": [
    "sql = \"\"\"\n",
    "DROP TABLE IF EXISTS sales;\n",
    "CREATE TABLE sales (\n",
    "    brand VARCHAR NOT NULL,\n",
    "    segment VARCHAR NOT NULL,\n",
    "    quantity INT NOT NULL,\n",
    "    PRIMARY KEY (brand, segment)\n",
    ");\n",
    "\n",
    "INSERT INTO sales (brand, segment, quantity)\n",
    "VALUES\n",
    "    ('ABC', 'Premium', 100),\n",
    "    ('ABC', 'Basic', 200),\n",
    "    ('XYZ', 'Premium', 100),\n",
    "    ('XYZ', 'Basic', 300);\n",
    "\"\"\"\n",
    "\n",
    "cursor.execute(sql)"
   ],
   "metadata": {
    "collapsed": false,
    "ExecuteTime": {
     "end_time": "2024-01-25T01:41:00.001729500Z",
     "start_time": "2024-01-25T01:40:59.967725800Z"
    }
   },
   "id": "1fee44ba20a73557",
   "execution_count": 2
  },
  {
   "cell_type": "code",
   "outputs": [
    {
     "name": "stdout",
     "output_type": "stream",
     "text": [
      "  brand  segment  sum\n",
      "0   ABC    Basic  200\n",
      "1   ABC  Premium  100\n",
      "2   ABC     None  300\n",
      "3   XYZ    Basic  300\n",
      "4   XYZ  Premium  100\n",
      "5   XYZ     None  400\n",
      "6  None     None  700\n"
     ]
    }
   ],
   "source": [
    "sql = \"\"\"\n",
    "SELECT\n",
    "    brand,\n",
    "    segment,\n",
    "    SUM (quantity)\n",
    "FROM\n",
    "    sales\n",
    "GROUP BY\n",
    "    ROLLUP (brand, segment)\n",
    "ORDER BY\n",
    "    brand,\n",
    "    segment;\n",
    "\"\"\"\n",
    "\n",
    "run_sql(cursor, sql)"
   ],
   "metadata": {
    "collapsed": false,
    "ExecuteTime": {
     "end_time": "2024-01-25T01:41:12.738813100Z",
     "start_time": "2024-01-25T01:41:12.717514Z"
    }
   },
   "id": "bbfe9c6ebe05099b",
   "execution_count": 3
  },
  {
   "cell_type": "code",
   "outputs": [
    {
     "name": "stdout",
     "output_type": "stream",
     "text": [
      "   segment brand  sum\n",
      "0    Basic   ABC  200\n",
      "1    Basic   XYZ  300\n",
      "2    Basic  None  500\n",
      "3  Premium   ABC  100\n",
      "4  Premium   XYZ  100\n",
      "5  Premium  None  200\n",
      "6     None  None  700\n"
     ]
    }
   ],
   "source": [
    "sql = \"\"\"\n",
    "SELECT\n",
    "    segment,\n",
    "    brand,\n",
    "    SUM (quantity)\n",
    "FROM\n",
    "    sales\n",
    "GROUP BY\n",
    "    ROLLUP (segment, brand)\n",
    "ORDER BY\n",
    "    segment,\n",
    "    brand;\n",
    "\"\"\"\n",
    "\n",
    "run_sql(cursor, sql)"
   ],
   "metadata": {
    "collapsed": false,
    "ExecuteTime": {
     "end_time": "2024-01-25T01:42:59.437205800Z",
     "start_time": "2024-01-25T01:42:59.431205900Z"
    }
   },
   "id": "d3edbf094082db62",
   "execution_count": 4
  },
  {
   "cell_type": "code",
   "outputs": [
    {
     "name": "stdout",
     "output_type": "stream",
     "text": [
      "   segment brand  sum\n",
      "0    Basic   ABC  200\n",
      "1    Basic   XYZ  300\n",
      "2    Basic  None  500\n",
      "3  Premium   ABC  100\n",
      "4  Premium   XYZ  100\n",
      "5  Premium  None  200\n"
     ]
    }
   ],
   "source": [
    "# partial roll-up\n",
    "sql = \"\"\"\n",
    "SELECT\n",
    "    segment,\n",
    "    brand,\n",
    "    SUM (quantity)\n",
    "FROM\n",
    "    sales\n",
    "GROUP BY\n",
    "    segment,\n",
    "    ROLLUP (brand)\n",
    "ORDER BY\n",
    "    segment,\n",
    "    brand;\n",
    "\"\"\"\n",
    "\n",
    "run_sql(cursor, sql)"
   ],
   "metadata": {
    "collapsed": false,
    "ExecuteTime": {
     "end_time": "2024-01-25T01:44:23.724929700Z",
     "start_time": "2024-01-25T01:44:23.717929900Z"
    }
   },
   "id": "bc525216df1770f7",
   "execution_count": 5
  },
  {
   "cell_type": "code",
   "outputs": [
    {
     "name": "stdout",
     "output_type": "stream",
     "text": [
      "       y     m     d  count\n",
      "0   2005     5    24      8\n",
      "1   2005     5    25    137\n",
      "2   2005     5    26    174\n",
      "3   2005     5    27    166\n",
      "4   2005     5    28    196\n",
      "5   2005     5    29    154\n",
      "6   2005     5    30    158\n",
      "7   2005     5    31    163\n",
      "8   2005     5  None   1156\n",
      "9   2005     6    14     16\n",
      "10  2005     6    15    348\n",
      "11  2005     6    16    324\n",
      "12  2005     6    17    325\n",
      "13  2005     6    18    344\n",
      "14  2005     6    19    348\n",
      "15  2005     6    20    331\n",
      "16  2005     6    21    275\n",
      "17  2005     6  None   2311\n",
      "18  2005     7     5     27\n",
      "19  2005     7     6    504\n",
      "20  2005     7     7    461\n",
      "21  2005     7     8    512\n",
      "22  2005     7     9    513\n",
      "23  2005     7    10    480\n",
      "24  2005     7    11    461\n",
      "25  2005     7    12    495\n",
      "26  2005     7    26     33\n",
      "27  2005     7    27    649\n",
      "28  2005     7    28    620\n",
      "29  2005     7    29    641\n",
      "30  2005     7    30    634\n",
      "31  2005     7    31    679\n",
      "32  2005     7  None   6709\n",
      "33  2005     8     1    671\n",
      "34  2005     8     2    643\n",
      "35  2005     8    16     23\n",
      "36  2005     8    17    593\n",
      "37  2005     8    18    621\n",
      "38  2005     8    19    628\n",
      "39  2005     8    20    624\n",
      "40  2005     8    21    659\n",
      "41  2005     8    22    626\n",
      "42  2005     8    23    598\n",
      "43  2005     8  None   5686\n",
      "44  2005  None  None  15862\n",
      "45  2006     2    14    182\n",
      "46  2006     2  None    182\n",
      "47  2006  None  None    182\n",
      "48  None  None  None  16044\n"
     ]
    }
   ],
   "source": [
    "# 使用 DVD 的数据\n",
    "sql = \"\"\"\n",
    "SELECT\n",
    "    EXTRACT (YEAR FROM rental_date) y,\n",
    "    EXTRACT (MONTH FROM rental_date) M,\n",
    "    EXTRACT (DAY FROM rental_date) d,\n",
    "    COUNT (rental_id)\n",
    "FROM\n",
    "    rental\n",
    "GROUP BY\n",
    "    ROLLUP (\n",
    "        EXTRACT (YEAR FROM rental_date),\n",
    "        EXTRACT (MONTH FROM rental_date),\n",
    "        EXTRACT (DAY FROM rental_date)\n",
    "    );\n",
    "\"\"\"\n",
    "\n",
    "run_sql(cursor, sql)"
   ],
   "metadata": {
    "collapsed": false,
    "ExecuteTime": {
     "end_time": "2024-01-25T01:45:35.296112Z",
     "start_time": "2024-01-25T01:45:35.249906900Z"
    }
   },
   "id": "56ea7ee259bd5fb7",
   "execution_count": 6
  }
 ],
 "metadata": {
  "kernelspec": {
   "display_name": "Python 3",
   "language": "python",
   "name": "python3"
  },
  "language_info": {
   "codemirror_mode": {
    "name": "ipython",
    "version": 2
   },
   "file_extension": ".py",
   "mimetype": "text/x-python",
   "name": "python",
   "nbconvert_exporter": "python",
   "pygments_lexer": "ipython2",
   "version": "2.7.6"
  }
 },
 "nbformat": 4,
 "nbformat_minor": 5
}
