{
 "cells": [
  {
   "cell_type": "code",
   "id": "initial_id",
   "metadata": {
    "collapsed": true,
    "ExecuteTime": {
     "end_time": "2024-04-23T11:42:33.308440Z",
     "start_time": "2024-04-23T11:42:33.016585Z"
    }
   },
   "source": [
    "from common import *\n",
    "\n",
    "cursor = connect()"
   ],
   "outputs": [],
   "execution_count": 1
  },
  {
   "metadata": {
    "ExecuteTime": {
     "end_time": "2024-04-23T11:42:34.154176Z",
     "start_time": "2024-04-23T11:42:34.135902Z"
    }
   },
   "cell_type": "code",
   "source": [
    "sql = \"\"\"\n",
    "SELECT \n",
    "  event_object_table AS table_name, \n",
    "  trigger_name \n",
    "FROM \n",
    "  information_schema.triggers \n",
    "GROUP BY \n",
    "  table_name, \n",
    "  trigger_name \n",
    "ORDER BY \n",
    "  table_name, \n",
    "  trigger_name;\n",
    "\"\"\"\n",
    "\n",
    "run_sql(cursor, sql)"
   ],
   "id": "db84a745803474cb",
   "outputs": [
    {
     "name": "stdout",
     "output_type": "stream",
     "text": [
      "       table_name           trigger_name\n",
      "0           actor           last_updated\n",
      "1         address           last_updated\n",
      "2        category           last_updated\n",
      "3            city           last_updated\n",
      "4         country           last_updated\n",
      "5        customer           last_updated\n",
      "6            film  film_fulltext_trigger\n",
      "7            film           last_updated\n",
      "8      film_actor           last_updated\n",
      "9   film_category           last_updated\n",
      "10      inventory           last_updated\n",
      "11       language           last_updated\n",
      "12         rental           last_updated\n",
      "13          staff           last_updated\n",
      "14          store           last_updated\n"
     ]
    }
   ],
   "execution_count": 2
  },
  {
   "metadata": {
    "ExecuteTime": {
     "end_time": "2024-04-23T11:43:17.432030Z",
     "start_time": "2024-04-23T11:43:17.426812Z"
    }
   },
   "cell_type": "code",
   "source": [
    "sql = \"\"\"\n",
    "SELECT \n",
    "  event_object_table AS table_name, \n",
    "  trigger_name \n",
    "FROM \n",
    "  information_schema.triggers \n",
    "WHERE \n",
    "  event_object_table = 'film' \n",
    "GROUP BY \n",
    "  table_name, \n",
    "  trigger_name \n",
    "ORDER BY \n",
    "  table_name, \n",
    "  trigger_name;\n",
    "\"\"\"\n",
    "run_sql(cursor, sql)"
   ],
   "id": "7d8927fc23399732",
   "outputs": [
    {
     "name": "stdout",
     "output_type": "stream",
     "text": [
      "  table_name           trigger_name\n",
      "0       film  film_fulltext_trigger\n",
      "1       film           last_updated\n"
     ]
    }
   ],
   "execution_count": 4
  },
  {
   "metadata": {},
   "cell_type": "markdown",
   "source": "## 创建一个用户自定义函数",
   "id": "21c6bef15c3ff6a4"
  },
  {
   "metadata": {
    "ExecuteTime": {
     "end_time": "2024-04-23T11:44:06.327991Z",
     "start_time": "2024-04-23T11:44:06.320807Z"
    }
   },
   "cell_type": "code",
   "source": [
    "sql = \"\"\"\n",
    "create or replace function get_triggers()\n",
    "returns table (\n",
    "\ttable_name text,\n",
    "\ttrigger_name text\n",
    ")\n",
    "language plpgsql\n",
    "as\n",
    "$$\n",
    "begin\n",
    "\treturn query select \n",
    "\t  trg.event_object_table::text AS table_name, \n",
    "\t  trg.trigger_name::text\n",
    "\tfrom \n",
    "\t  information_schema.triggers trg\n",
    "\tgroup by \n",
    "\t  table_name, \n",
    "\t  trg.trigger_name\n",
    "\torder by\n",
    "\t  table_name, \n",
    "\t  trg.trigger_name;\n",
    "end;\n",
    "$$;\n",
    "\"\"\"\n",
    "cursor.execute(sql)"
   ],
   "id": "135b35e0a500c826",
   "outputs": [
    {
     "data": {
      "text/plain": [
       "<psycopg.Cursor [COMMAND_OK] [INTRANS] (host=localhost user=postgres database=dvdrental) at 0x1d00d5dd3d0>"
      ]
     },
     "execution_count": 5,
     "metadata": {},
     "output_type": "execute_result"
    }
   ],
   "execution_count": 5
  },
  {
   "metadata": {
    "ExecuteTime": {
     "end_time": "2024-04-23T11:44:08.212571Z",
     "start_time": "2024-04-23T11:44:08.206879Z"
    }
   },
   "cell_type": "code",
   "source": [
    "sql = \"\"\"\n",
    "SELECT * FROM get_triggers();\n",
    "\"\"\"\n",
    "run_sql(cursor, sql)"
   ],
   "id": "868381a1987a89d7",
   "outputs": [
    {
     "name": "stdout",
     "output_type": "stream",
     "text": [
      "       table_name           trigger_name\n",
      "0           actor           last_updated\n",
      "1         address           last_updated\n",
      "2        category           last_updated\n",
      "3            city           last_updated\n",
      "4         country           last_updated\n",
      "5        customer           last_updated\n",
      "6            film  film_fulltext_trigger\n",
      "7            film           last_updated\n",
      "8      film_actor           last_updated\n",
      "9   film_category           last_updated\n",
      "10      inventory           last_updated\n",
      "11       language           last_updated\n",
      "12         rental           last_updated\n",
      "13          staff           last_updated\n",
      "14          store           last_updated\n"
     ]
    }
   ],
   "execution_count": 6
  },
  {
   "metadata": {},
   "cell_type": "markdown",
   "source": "## 自定义函数增加参数",
   "id": "9ec50a431a722e8f"
  },
  {
   "metadata": {
    "ExecuteTime": {
     "end_time": "2024-04-23T11:44:56.981160Z",
     "start_time": "2024-04-23T11:44:56.978041Z"
    }
   },
   "cell_type": "code",
   "source": [
    "sql = \"\"\"\n",
    "\n",
    "create or replace function get_triggers(\n",
    "\tp_table_name text\n",
    ")\n",
    "returns table (\n",
    "\ttable_name text,\n",
    "\ttrigger_name text\n",
    ")\n",
    "language plpgsql\n",
    "as\n",
    "$$\n",
    "begin\n",
    "\treturn query select \n",
    "\t  event_object_table::text AS table_name, \n",
    "\t  trg.trigger_name::text\n",
    "\tfrom \n",
    "\t  information_schema.triggers trg\n",
    "\twhere \n",
    "\t   event_object_table = p_table_name\n",
    "\tgroup by \n",
    "\t  table_name, \n",
    "\t  trg.trigger_name\n",
    "\torder by\n",
    "\t  table_name, \n",
    "\t  trg.trigger_name;\n",
    "end;\n",
    "$$;\n",
    "\"\"\"\n",
    "cursor.execute(sql)"
   ],
   "id": "f5791bcce5ab45d4",
   "outputs": [
    {
     "data": {
      "text/plain": [
       "<psycopg.Cursor [COMMAND_OK] [INTRANS] (host=localhost user=postgres database=dvdrental) at 0x1d00d5dd3d0>"
      ]
     },
     "execution_count": 7,
     "metadata": {},
     "output_type": "execute_result"
    }
   ],
   "execution_count": 7
  },
  {
   "metadata": {
    "ExecuteTime": {
     "end_time": "2024-04-23T11:45:07.169963Z",
     "start_time": "2024-04-23T11:45:07.166072Z"
    }
   },
   "cell_type": "code",
   "source": [
    "sql = \"\"\"\n",
    "SELECT * FROM get_triggers('film');\n",
    "\"\"\"\n",
    "run_sql(cursor, sql)"
   ],
   "id": "b53e95cf83de0095",
   "outputs": [
    {
     "name": "stdout",
     "output_type": "stream",
     "text": [
      "  table_name           trigger_name\n",
      "0       film  film_fulltext_trigger\n",
      "1       film           last_updated\n"
     ]
    }
   ],
   "execution_count": 9
  },
  {
   "metadata": {},
   "cell_type": "markdown",
   "source": [
    "## 从 pg_trigger view 查询\n",
    "\n",
    "|Column\t        |Description|\n",
    "|---------------|-----------|\n",
    "|tgname\t        |The name of the trigger.|\n",
    "|tgrelid\t    |The object ID of the table or view to which the trigger belongs.\n",
    "|tgfoid\t        |The object ID of the function is called when the trigger fires.\n",
    "|tgtype\t        |The type of the trigger, such as BEFORE, AFTER, or INSTEAD OF.\n",
    "|tgenabled\t    |The status of the trigger, either enabled or disabled.\n",
    "|tgisinternal\t|The boolean indicator indicates whether the trigger is a system-generated trigger or a user-defined trigger.\n"
   ],
   "id": "e655ee042f52a9c"
  },
  {
   "metadata": {
    "ExecuteTime": {
     "end_time": "2024-04-23T11:45:46.557479Z",
     "start_time": "2024-04-23T11:45:46.553659Z"
    }
   },
   "cell_type": "code",
   "source": [
    "sql = \"\"\"\n",
    "SELECT \n",
    "  tgname AS trigger_name \n",
    "FROM \n",
    "  pg_trigger \n",
    "WHERE \n",
    "  tgrelid = 'film' :: regclass \n",
    "  AND tgisinternal = false \n",
    "ORDER BY \n",
    "  trigger_name;\n",
    "\"\"\"\n",
    "run_sql(cursor, sql)"
   ],
   "id": "c43cb66b4ce57aaa",
   "outputs": [
    {
     "name": "stdout",
     "output_type": "stream",
     "text": [
      "            trigger_name\n",
      "0  film_fulltext_trigger\n",
      "1           last_updated\n"
     ]
    }
   ],
   "execution_count": 10
  }
 ],
 "metadata": {
  "kernelspec": {
   "display_name": "Python 3",
   "language": "python",
   "name": "python3"
  },
  "language_info": {
   "codemirror_mode": {
    "name": "ipython",
    "version": 2
   },
   "file_extension": ".py",
   "mimetype": "text/x-python",
   "name": "python",
   "nbconvert_exporter": "python",
   "pygments_lexer": "ipython2",
   "version": "2.7.6"
  }
 },
 "nbformat": 4,
 "nbformat_minor": 5
}
