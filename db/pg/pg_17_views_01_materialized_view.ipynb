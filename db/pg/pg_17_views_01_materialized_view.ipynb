{
 "cells": [
  {
   "cell_type": "code",
   "id": "initial_id",
   "metadata": {
    "collapsed": true,
    "ExecuteTime": {
     "end_time": "2024-04-29T23:50:00.913047Z",
     "start_time": "2024-04-29T23:50:00.886461Z"
    }
   },
   "source": [
    "from common import *\n",
    "\n",
    "cursor = connect()"
   ],
   "outputs": [],
   "execution_count": 4
  },
  {
   "metadata": {},
   "cell_type": "markdown",
   "source": [
    "# Materialized View\n",
    "\n",
    "物化视图以物理方式存储查询结果，并定期从基础表中刷新数据。物化视图可以提高查询性能，但是会增加数据更新的复杂性。\n",
    "\n",
    "```\n",
    "CREATE MATERIALIZED VIEW [IF NOT EXISTS] view_name\n",
    "AS\n",
    "query\n",
    "WITH [NO] DATA;\n",
    "```\n",
    "\n",
    "## 刷新物化视图的数据\n",
    "```\n",
    "REFRESH MATERIALIZED VIEW view_name;\n",
    "```\n",
    "\n",
    "为物化视图刷新数据时，PostgreSQL 会锁定底层表。因此，当数据载入视图时，将无法从底层表中检索数据。为了避免这种情况，可以使用 `CONCURRENTLY` 选项。\n",
    "```\n",
    "REFRESH MATERIALIZED VIEW CONCURRENTLY view_name;\n",
    "```\n",
    "使用 CONCURRENTLY 选项，PostgreSQL 会创建一个物化视图的临时更新版本，比较两个版本，并只对差异执行 INSERT 和 UPDATE。PostgreSQL 允许在更新物化视图时从该视图中检索数据。使用 CONCURRENTLY 选项的一个要求是，物化视图必须有一个 UNIQUE 索引。\n",
    "\n",
    "## 删除物化视图\n",
    "```\n",
    "DROP MATERIALIZED VIEW view_name;\n",
    "```"
   ],
   "id": "763af43fc21f8aeb"
  },
  {
   "metadata": {
    "ExecuteTime": {
     "end_time": "2024-04-29T23:50:03.090832Z",
     "start_time": "2024-04-29T23:50:03.077127Z"
    }
   },
   "cell_type": "code",
   "source": [
    "sql = \"\"\"\n",
    "CREATE MATERIALIZED VIEW rental_by_category\n",
    "AS\n",
    " SELECT c.name AS category,\n",
    "    sum(p.amount) AS total_sales\n",
    "   FROM (((((payment p\n",
    "     JOIN rental r ON ((p.rental_id = r.rental_id)))\n",
    "     JOIN inventory i ON ((r.inventory_id = i.inventory_id)))\n",
    "     JOIN film f ON ((i.film_id = f.film_id)))\n",
    "     JOIN film_category fc ON ((f.film_id = fc.film_id)))\n",
    "     JOIN category c ON ((fc.category_id = c.category_id)))\n",
    "  GROUP BY c.name\n",
    "  ORDER BY sum(p.amount) DESC\n",
    "WITH NO DATA;\n",
    "\"\"\"\n",
    "cursor.execute(sql)"
   ],
   "id": "f0c9e9e5efe8b2e9",
   "outputs": [
    {
     "data": {
      "text/plain": [
       "<psycopg.Cursor [COMMAND_OK] [INTRANS] (host=localhost port=15432 user=postgres database=dvdrental) at 0x1b4d9728880>"
      ]
     },
     "execution_count": 5,
     "metadata": {},
     "output_type": "execute_result"
    }
   ],
   "execution_count": 5
  },
  {
   "metadata": {
    "ExecuteTime": {
     "end_time": "2024-04-29T23:49:19.973401Z",
     "start_time": "2024-04-29T23:49:19.802568Z"
    }
   },
   "cell_type": "code",
   "source": [
    "# 因为使用了 `WITH NO DATA`，所以无法从视图中查询数据。\n",
    "sql = \"\"\"\n",
    "SELECT * FROM rental_by_category;\n",
    "\"\"\"\n",
    "run_sql(cursor, sql)"
   ],
   "id": "c31c14a553c2a2cd",
   "outputs": [
    {
     "ename": "ObjectNotInPrerequisiteState",
     "evalue": "物化视图 \"rental_by_category\"未被初始化\nHINT:  使用命令 REFRESH MATERIALIZED VIEW.",
     "output_type": "error",
     "traceback": [
      "\u001B[1;31m---------------------------------------------------------------------------\u001B[0m",
      "\u001B[1;31mObjectNotInPrerequisiteState\u001B[0m              Traceback (most recent call last)",
      "Cell \u001B[1;32mIn[3], line 4\u001B[0m\n\u001B[0;32m      1\u001B[0m sql \u001B[38;5;241m=\u001B[39m \u001B[38;5;124m\"\"\"\u001B[39m\n\u001B[0;32m      2\u001B[0m \u001B[38;5;124mSELECT * FROM rental_by_category;\u001B[39m\n\u001B[0;32m      3\u001B[0m \u001B[38;5;124m\"\"\"\u001B[39m\n\u001B[1;32m----> 4\u001B[0m \u001B[43mrun_sql\u001B[49m\u001B[43m(\u001B[49m\u001B[43mcursor\u001B[49m\u001B[43m,\u001B[49m\u001B[43m \u001B[49m\u001B[43msql\u001B[49m\u001B[43m)\u001B[49m\n",
      "File \u001B[1;32mE:\\sourcecode\\keep_learning\\common\\pg_common.py:29\u001B[0m, in \u001B[0;36mrun_sql\u001B[1;34m(cursor, sql_stat)\u001B[0m\n\u001B[0;32m     28\u001B[0m \u001B[38;5;28;01mdef\u001B[39;00m \u001B[38;5;21mrun_sql\u001B[39m(cursor, sql_stat):\n\u001B[1;32m---> 29\u001B[0m     \u001B[43mcursor\u001B[49m\u001B[38;5;241;43m.\u001B[39;49m\u001B[43mexecute\u001B[49m\u001B[43m(\u001B[49m\u001B[43msql_stat\u001B[49m\u001B[43m)\u001B[49m\n\u001B[0;32m     30\u001B[0m     display_data(cursor)\n",
      "File \u001B[1;32mE:\\sourcecode\\keep_learning\\.venv\\Lib\\site-packages\\psycopg\\cursor.py:732\u001B[0m, in \u001B[0;36mCursor.execute\u001B[1;34m(self, query, params, prepare, binary)\u001B[0m\n\u001B[0;32m    728\u001B[0m         \u001B[38;5;28mself\u001B[39m\u001B[38;5;241m.\u001B[39m_conn\u001B[38;5;241m.\u001B[39mwait(\n\u001B[0;32m    729\u001B[0m             \u001B[38;5;28mself\u001B[39m\u001B[38;5;241m.\u001B[39m_execute_gen(query, params, prepare\u001B[38;5;241m=\u001B[39mprepare, binary\u001B[38;5;241m=\u001B[39mbinary)\n\u001B[0;32m    730\u001B[0m         )\n\u001B[0;32m    731\u001B[0m \u001B[38;5;28;01mexcept\u001B[39;00m e\u001B[38;5;241m.\u001B[39m_NO_TRACEBACK \u001B[38;5;28;01mas\u001B[39;00m ex:\n\u001B[1;32m--> 732\u001B[0m     \u001B[38;5;28;01mraise\u001B[39;00m ex\u001B[38;5;241m.\u001B[39mwith_traceback(\u001B[38;5;28;01mNone\u001B[39;00m)\n\u001B[0;32m    733\u001B[0m \u001B[38;5;28;01mreturn\u001B[39;00m \u001B[38;5;28mself\u001B[39m\n",
      "\u001B[1;31mObjectNotInPrerequisiteState\u001B[0m: 物化视图 \"rental_by_category\"未被初始化\nHINT:  使用命令 REFRESH MATERIALIZED VIEW."
     ]
    }
   ],
   "execution_count": 3
  },
  {
   "metadata": {
    "ExecuteTime": {
     "end_time": "2024-04-29T23:50:05.248270Z",
     "start_time": "2024-04-29T23:50:05.207900Z"
    }
   },
   "cell_type": "code",
   "source": [
    "# 刷新物化视图的数据\n",
    "sql = \"\"\"\n",
    "REFRESH MATERIALIZED VIEW rental_by_category;\n",
    "\"\"\"\n",
    "cursor.execute(sql)"
   ],
   "id": "be74f80de8c5d5a",
   "outputs": [
    {
     "data": {
      "text/plain": [
       "<psycopg.Cursor [COMMAND_OK] [INTRANS] (host=localhost port=15432 user=postgres database=dvdrental) at 0x1b4d9728880>"
      ]
     },
     "execution_count": 6,
     "metadata": {},
     "output_type": "execute_result"
    }
   ],
   "execution_count": 6
  },
  {
   "metadata": {
    "ExecuteTime": {
     "end_time": "2024-04-29T23:50:07.145729Z",
     "start_time": "2024-04-29T23:50:07.138584Z"
    }
   },
   "cell_type": "code",
   "source": [
    "# 因为使用了 `WITH NO DATA`，所以无法从视图中查询数据。\n",
    "sql = \"\"\"\n",
    "SELECT * FROM rental_by_category;\n",
    "\"\"\"\n",
    "run_sql(cursor, sql)"
   ],
   "id": "f2ac1eb45aed2ca5",
   "outputs": [
    {
     "name": "stdout",
     "output_type": "stream",
     "text": [
      "       category total_sales\n",
      "0        Sports     4892.19\n",
      "1        Sci-Fi     4336.01\n",
      "2     Animation     4245.31\n",
      "3         Drama     4118.46\n",
      "4        Comedy     4002.48\n",
      "5           New     3966.38\n",
      "6        Action     3951.84\n",
      "7       Foreign     3934.47\n",
      "8         Games     3922.18\n",
      "9        Family     3830.15\n",
      "10  Documentary     3749.65\n",
      "11       Horror     3401.27\n",
      "12     Classics     3353.38\n",
      "13     Children     3309.39\n",
      "14       Travel     3227.36\n",
      "15        Music     3071.52\n"
     ]
    }
   ],
   "execution_count": 7
  },
  {
   "metadata": {
    "ExecuteTime": {
     "end_time": "2024-04-29T23:51:07.774914Z",
     "start_time": "2024-04-29T23:51:07.765923Z"
    }
   },
   "cell_type": "code",
   "source": [
    "# 为了使用 ``CONCURRENTLY`` 选项，物化视图必须有一个 UNIQUE 索引。\n",
    "sql = \"\"\"\n",
    "CREATE UNIQUE INDEX rental_category \n",
    "ON rental_by_category (category);\n",
    "\"\"\"\n",
    "cursor.execute(sql)"
   ],
   "id": "41eb37b46f90e1f7",
   "outputs": [
    {
     "data": {
      "text/plain": [
       "<psycopg.Cursor [COMMAND_OK] [INTRANS] (host=localhost port=15432 user=postgres database=dvdrental) at 0x1b4d9728880>"
      ]
     },
     "execution_count": 8,
     "metadata": {},
     "output_type": "execute_result"
    }
   ],
   "execution_count": 8
  },
  {
   "metadata": {
    "ExecuteTime": {
     "end_time": "2024-04-29T23:51:09.379744Z",
     "start_time": "2024-04-29T23:51:09.361261Z"
    }
   },
   "cell_type": "code",
   "source": [
    "sql = \"\"\"\n",
    "REFRESH MATERIALIZED VIEW CONCURRENTLY rental_by_category;\n",
    "\"\"\"\n",
    "cursor.execute(sql)"
   ],
   "id": "c64da7f51d113391",
   "outputs": [
    {
     "data": {
      "text/plain": [
       "<psycopg.Cursor [COMMAND_OK] [INTRANS] (host=localhost port=15432 user=postgres database=dvdrental) at 0x1b4d9728880>"
      ]
     },
     "execution_count": 9,
     "metadata": {},
     "output_type": "execute_result"
    }
   ],
   "execution_count": 9
  }
 ],
 "metadata": {
  "kernelspec": {
   "display_name": "Python 3",
   "language": "python",
   "name": "python3"
  },
  "language_info": {
   "codemirror_mode": {
    "name": "ipython",
    "version": 2
   },
   "file_extension": ".py",
   "mimetype": "text/x-python",
   "name": "python",
   "nbconvert_exporter": "python",
   "pygments_lexer": "ipython2",
   "version": "2.7.6"
  }
 },
 "nbformat": 4,
 "nbformat_minor": 5
}
