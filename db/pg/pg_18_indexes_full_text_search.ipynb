{
 "cells": [
  {
   "cell_type": "code",
   "id": "initial_id",
   "metadata": {
    "collapsed": true,
    "ExecuteTime": {
     "end_time": "2024-04-25T10:15:26.555754Z",
     "start_time": "2024-04-25T10:15:26.422384Z"
    }
   },
   "source": [
    "from common import *\n",
    "\n",
    "cursor = connect()"
   ],
   "outputs": [],
   "execution_count": 11
  },
  {
   "metadata": {},
   "cell_type": "markdown",
   "source": [
    "# Full Text Search\n",
    "\n",
    "PostgreSQL 的全文搜索包括：\n",
    "- Indexing\n",
    "- Text analysis\n",
    "- Querying\n",
    "- Ranking\n",
    "- Highlighting\n",
    "\n",
    "提供全文搜索特有的两种数据类型：`tsvector` 和 `tsquery`"
   ],
   "id": "2aa9b634dbbf166b"
  },
  {
   "metadata": {},
   "cell_type": "markdown",
   "source": [
    "## tsvector\n",
    "\n",
    "`tsvector` 是一种数据类型，可以以优化的格式存储预处理文档，以便高效搜索和检索文本。`tsvector` 值包含一个词目（单词）排序列表及其在文档中的位置和权重。\n",
    "> 请注意，词目是没有后缀变化的单词，例如，watch、watched 和 watched 单词的词素是 watch。"
   ],
   "id": "7c803e3e3bf1df57"
  },
  {
   "metadata": {
    "ExecuteTime": {
     "end_time": "2024-04-25T10:07:49.423316Z",
     "start_time": "2024-04-25T10:07:49.413730Z"
    }
   },
   "cell_type": "code",
   "source": [
    "sql = \"\"\"\n",
    "SELECT to_tsvector('waches'), \n",
    "       to_tsvector('wached'), \n",
    "       to_tsvector('waching');\n",
    "\"\"\"\n",
    "run_sql(cursor, sql)"
   ],
   "id": "c3e40a3e29cf213e",
   "outputs": [
    {
     "name": "stdout",
     "output_type": "stream",
     "text": [
      "  to_tsvector to_tsvector  to_tsvector\n",
      "0  'waches':1  'wached':1  'waching':1\n"
     ]
    }
   ],
   "execution_count": 2
  },
  {
   "metadata": {
    "ExecuteTime": {
     "end_time": "2024-04-25T10:08:00.512709Z",
     "start_time": "2024-04-25T10:08:00.508758Z"
    }
   },
   "cell_type": "code",
   "source": [
    "sql = \"\"\"\n",
    "SELECT to_tsvector('The quick brown fox jumps over the lazy dog.');\n",
    "\"\"\"\n",
    "run_sql(cursor, sql)"
   ],
   "id": "f493ea8da8bb26af",
   "outputs": [
    {
     "name": "stdout",
     "output_type": "stream",
     "text": [
      "                                         to_tsvector\n",
      "0  'brown':3 'dog':9 'fox':4 'jumps':5 'lazy':8 '...\n"
     ]
    }
   ],
   "execution_count": 3
  },
  {
   "metadata": {},
   "cell_type": "markdown",
   "source": [
    "- tsvector 值中的每个条目代表一个单词（词素）及其在字符串（或文档）中的位置。例如，单词 quick 出现在位置 2，单词 brown 出现在位置 3，以此类推。\n",
    "- 单词按字母顺序排序。\n",
    "- 冠词和停顿词会被省略，如 The 和 over。"
   ],
   "id": "5bf7218b8c0875b1"
  },
  {
   "metadata": {},
   "cell_type": "markdown",
   "source": [
    "## tsquery\n",
    "\n",
    "`tsquery` 是一种数据类型，用于表示全文搜索中的搜索查询。它允许指定包含索引文档单词或短语的搜索条件。\n",
    "\n",
    "`to_tsquery()` 将字符串转换为 `tsquery`。例如，下面的语句使用 `to_tsquery()` 将单词 \"`jumping`\" 转换为 `tsquery`："
   ],
   "id": "a46367177ad9b964"
  },
  {
   "metadata": {
    "ExecuteTime": {
     "end_time": "2024-04-25T10:11:50.846524Z",
     "start_time": "2024-04-25T10:11:50.833152Z"
    }
   },
   "cell_type": "code",
   "source": [
    "sql = \"\"\"\n",
    "SELECT to_tsquery('jumping');\n",
    "\"\"\"\n",
    "run_sql(cursor, sql)"
   ],
   "id": "57cd41ff7ae9a496",
   "outputs": [
    {
     "name": "stdout",
     "output_type": "stream",
     "text": [
      "  to_tsquery\n",
      "0  'jumping'\n"
     ]
    }
   ],
   "execution_count": 4
  },
  {
   "metadata": {
    "ExecuteTime": {
     "end_time": "2024-04-25T10:12:18.546041Z",
     "start_time": "2024-04-25T10:12:18.542931Z"
    }
   },
   "cell_type": "code",
   "source": [
    "sql = \"\"\"\n",
    "SELECT \n",
    "  to_tsvector(\n",
    "    'The quick brown fox jumps over the lazy dog.'\n",
    "  ) @@ to_tsquery('jumping') result;\n",
    "\"\"\"\n",
    "run_sql(cursor, sql)"
   ],
   "id": "69c641687b8f3a8d",
   "outputs": [
    {
     "name": "stdout",
     "output_type": "stream",
     "text": [
      "   result\n",
      "0   False\n"
     ]
    }
   ],
   "execution_count": 5
  },
  {
   "metadata": {
    "ExecuteTime": {
     "end_time": "2024-04-25T10:12:40.878322Z",
     "start_time": "2024-04-25T10:12:40.875004Z"
    }
   },
   "cell_type": "code",
   "source": [
    "sql = \"\"\"\n",
    "SELECT \n",
    "  to_tsvector(\n",
    "    'The quick brown fox jumps over the lazy dog.'\n",
    "  ) @@ to_tsquery('cat') result;\n",
    "\"\"\"\n",
    "run_sql(cursor, sql)"
   ],
   "id": "e01b6a8958e8ed94",
   "outputs": [
    {
     "name": "stdout",
     "output_type": "stream",
     "text": [
      "   result\n",
      "0   False\n"
     ]
    }
   ],
   "execution_count": 6
  },
  {
   "metadata": {},
   "cell_type": "markdown",
   "source": "# 在表格数据中使用全文搜索",
   "id": "d22a30ff6067d36f"
  },
  {
   "metadata": {
    "ExecuteTime": {
     "end_time": "2024-04-25T10:15:29.795875Z",
     "start_time": "2024-04-25T10:15:29.772487Z"
    }
   },
   "cell_type": "code",
   "source": [
    "# 创建表格\n",
    "sql = \"\"\"\n",
    "-- 创建一个不可变函数，用于生成虚拟列的表达式\n",
    "CREATE FUNCTION immutable_to_tsvector(body TEXT) RETURNS TSVECTOR AS $$\n",
    "BEGIN\n",
    "    RETURN to_tsvector(body);\n",
    "END;\n",
    "$$ LANGUAGE plpgsql IMMUTABLE;\n",
    "\n",
    "-- 创建表，并使用自定义的不可变函数来生成虚拟列的表达式\n",
    "CREATE TABLE posts(\n",
    "   id SERIAL PRIMARY KEY,\n",
    "   title TEXT NOT NULL,\n",
    "   body TEXT,\n",
    "   body_search TSVECTOR GENERATED ALWAYS AS (immutable_to_tsvector(body)) STORED\n",
    ");\n",
    "\n",
    "INSERT INTO posts (title, body)\n",
    "VALUES\n",
    "    ('Introduction to PostgreSQL', 'This is an introductory post about PostgreSQL. It covers basic concepts and features.'),\n",
    "    ('Advanced PostgresSQL Techniques', 'In this post, we delve into advanced PostgreSQL techniques for efficient querying and data manipulation.'),\n",
    "    ('PostgreSQL Optimization Strategies', 'This post explores various strategies for optimizing PostgreSQL database performance and efficiency.');\n",
    "\"\"\"\n",
    "cursor.execute(sql)"
   ],
   "id": "be2193e430038613",
   "outputs": [
    {
     "data": {
      "text/plain": [
       "<psycopg.Cursor [COMMAND_OK] [INTRANS] (host=localhost user=postgres database=dvdrental) at 0x1863b939fd0>"
      ]
     },
     "execution_count": 12,
     "metadata": {},
     "output_type": "execute_result"
    }
   ],
   "execution_count": 12
  },
  {
   "metadata": {
    "ExecuteTime": {
     "end_time": "2024-04-25T10:15:32.728306Z",
     "start_time": "2024-04-25T10:15:32.723928Z"
    }
   },
   "cell_type": "code",
   "source": [
    "sql = \"\"\"\n",
    "SELECT \n",
    "  id, \n",
    "  body_search \n",
    "FROM \n",
    "  posts;\n",
    "\"\"\"\n",
    "run_sql(cursor, sql)"
   ],
   "id": "d9d3af5b5ee8cd2b",
   "outputs": [
    {
     "name": "stdout",
     "output_type": "stream",
     "text": [
      "   id                                        body_search\n",
      "0   1  'about':6 'an':3 'and':12 'basic':10 'concepts...\n",
      "1   2  'advanced':7 'and':13 'data':14 'delve':5 'eff...\n",
      "2   3  'and':11 'database':9 'efficiency':12 'explore...\n"
     ]
    }
   ],
   "execution_count": 13
  },
  {
   "metadata": {
    "ExecuteTime": {
     "end_time": "2024-04-25T10:16:18.925236Z",
     "start_time": "2024-04-25T10:16:18.921416Z"
    }
   },
   "cell_type": "code",
   "source": [
    "# 全文搜索\n",
    "sql = \"\"\"\n",
    "SELECT \n",
    "  id, \n",
    "  body \n",
    "FROM \n",
    "  posts \n",
    "WHERE \n",
    "  body_search @@ to_tsquery('PostgreSQL');\n",
    "\"\"\"\n",
    "run_sql(cursor, sql)"
   ],
   "id": "31d1a4d4b57c0c1d",
   "outputs": [
    {
     "name": "stdout",
     "output_type": "stream",
     "text": [
      "   id                                               body\n",
      "0   1  This is an introductory post about PostgreSQL....\n",
      "1   2  In this post, we delve into advanced PostgreSQ...\n",
      "2   3  This post explores various strategies for opti...\n"
     ]
    }
   ],
   "execution_count": 14
  },
  {
   "metadata": {
    "ExecuteTime": {
     "end_time": "2024-04-25T10:16:44.608963Z",
     "start_time": "2024-04-25T10:16:44.605572Z"
    }
   },
   "cell_type": "code",
   "source": [
    "# 全文搜索 AND\n",
    "sql = \"\"\"\n",
    "SELECT \n",
    "  id, \n",
    "  body \n",
    "FROM \n",
    "  posts \n",
    "WHERE \n",
    "  body_search @@ to_tsquery('PostgreSQL & techniques');\n",
    "\"\"\"\n",
    "run_sql(cursor, sql)"
   ],
   "id": "c2a9db99214e0e80",
   "outputs": [
    {
     "name": "stdout",
     "output_type": "stream",
     "text": [
      "   id                                               body\n",
      "0   2  In this post, we delve into advanced PostgreSQ...\n"
     ]
    }
   ],
   "execution_count": 15
  },
  {
   "metadata": {
    "ExecuteTime": {
     "end_time": "2024-04-25T10:17:13.266591Z",
     "start_time": "2024-04-25T10:17:13.262935Z"
    }
   },
   "cell_type": "code",
   "source": [
    "# 全文搜索 OR\n",
    "sql = \"\"\"\n",
    "SELECT \n",
    "  id, \n",
    "  body \n",
    "FROM \n",
    "  posts \n",
    "WHERE \n",
    "  body_search @@ to_tsquery('efficient | optimization');\n",
    "\"\"\"\n",
    "run_sql(cursor, sql)"
   ],
   "id": "3566cce628990ce6",
   "outputs": [
    {
     "name": "stdout",
     "output_type": "stream",
     "text": [
      "   id                                               body\n",
      "0   2  In this post, we delve into advanced PostgreSQ...\n"
     ]
    }
   ],
   "execution_count": 16
  },
  {
   "metadata": {
    "ExecuteTime": {
     "end_time": "2024-04-25T10:17:35.900309Z",
     "start_time": "2024-04-25T10:17:35.895860Z"
    }
   },
   "cell_type": "code",
   "source": [
    "# 全文搜索 phrase\n",
    "sql = \"\"\"\n",
    "SELECT \n",
    "  id, \n",
    "  body \n",
    "FROM \n",
    "  posts \n",
    "WHERE \n",
    "  body_search @@ to_tsquery('''PostgreSQL technique''');\n",
    "\"\"\"\n",
    "run_sql(cursor, sql)"
   ],
   "id": "24a3d32c359d22ce",
   "outputs": [
    {
     "name": "stdout",
     "output_type": "stream",
     "text": [
      "Empty DataFrame\n",
      "Columns: [id, body]\n",
      "Index: []\n"
     ]
    }
   ],
   "execution_count": 17
  },
  {
   "metadata": {
    "ExecuteTime": {
     "end_time": "2024-04-25T10:18:03.092815Z",
     "start_time": "2024-04-25T10:18:03.088596Z"
    }
   },
   "cell_type": "code",
   "source": [
    "# 全文搜索 phrase\n",
    "sql = \"\"\"\n",
    "SELECT id, body\n",
    "FROM posts \n",
    "WHERE NOT body_search @@ to_tsquery('efficient');\n",
    "\"\"\"\n",
    "run_sql(cursor, sql)"
   ],
   "id": "db60e3046848b756",
   "outputs": [
    {
     "name": "stdout",
     "output_type": "stream",
     "text": [
      "   id                                               body\n",
      "0   1  This is an introductory post about PostgreSQL....\n",
      "1   3  This post explores various strategies for opti...\n"
     ]
    }
   ],
   "execution_count": 18
  },
  {
   "metadata": {},
   "cell_type": "markdown",
   "source": "# 使用 GIN 索引进行全文搜索",
   "id": "8811bc159508ea3"
  },
  {
   "metadata": {
    "ExecuteTime": {
     "end_time": "2024-04-25T10:18:49.388281Z",
     "start_time": "2024-04-25T10:18:49.368212Z"
    }
   },
   "cell_type": "code",
   "source": [
    "sql = \"\"\"\n",
    "DROP TABLE IF EXISTS posts;\n",
    "\n",
    "CREATE TABLE posts(\n",
    "   id SERIAL PRIMARY KEY,\n",
    "   title TEXT NOT NULL,\n",
    "   body TEXT\n",
    ");\n",
    "\n",
    "INSERT INTO posts (title, body)\n",
    "VALUES\n",
    "    ('Introduction to PostgreSQL', 'This is an introductory post about PostgreSQL. It covers basic concepts and features.'),\n",
    "    ('Advanced PostgresSQL Techniques', 'In this post, we delve into advanced PostgreSQL techniques for efficient querying and data manipulation.'),\n",
    "    ('PostgreSQL Optimization Strategies', 'This post explores various strategies for optimizing PostgreSQL database performance and efficiency.');\n",
    "\"\"\"\n",
    "cursor.execute(sql)"
   ],
   "id": "d75a24ba15623852",
   "outputs": [
    {
     "data": {
      "text/plain": [
       "<psycopg.Cursor [COMMAND_OK] [INTRANS] (host=localhost user=postgres database=dvdrental) at 0x1863b939fd0>"
      ]
     },
     "execution_count": 19,
     "metadata": {},
     "output_type": "execute_result"
    }
   ],
   "execution_count": 19
  },
  {
   "metadata": {
    "ExecuteTime": {
     "end_time": "2024-04-25T10:19:03.315331Z",
     "start_time": "2024-04-25T10:19:03.307610Z"
    }
   },
   "cell_type": "code",
   "source": [
    "sql = \"\"\"\n",
    "CREATE INDEX body_fts\n",
    "ON posts\n",
    "USING GIN ((to_tsvector('english',body)));\n",
    "\"\"\"\n",
    "cursor.execute(sql)"
   ],
   "id": "f2cac531436b1021",
   "outputs": [
    {
     "data": {
      "text/plain": [
       "<psycopg.Cursor [COMMAND_OK] [INTRANS] (host=localhost user=postgres database=dvdrental) at 0x1863b939fd0>"
      ]
     },
     "execution_count": 20,
     "metadata": {},
     "output_type": "execute_result"
    }
   ],
   "execution_count": 20
  },
  {
   "metadata": {
    "ExecuteTime": {
     "end_time": "2024-04-25T10:19:18.034129Z",
     "start_time": "2024-04-25T10:19:18.030097Z"
    }
   },
   "cell_type": "code",
   "source": [
    "sql = \"\"\"\n",
    "SELECT \n",
    "  id, \n",
    "  body \n",
    "FROM \n",
    "  posts \n",
    "WHERE \n",
    "  body @@ to_tsquery('basic | advanced');\n",
    "\"\"\"\n",
    "run_sql(cursor, sql)"
   ],
   "id": "f10bc61ce8cecf83",
   "outputs": [
    {
     "name": "stdout",
     "output_type": "stream",
     "text": [
      "   id                                               body\n",
      "0   1  This is an introductory post about PostgreSQL....\n",
      "1   2  In this post, we delve into advanced PostgreSQ...\n"
     ]
    }
   ],
   "execution_count": 21
  }
 ],
 "metadata": {
  "kernelspec": {
   "display_name": "Python 3",
   "language": "python",
   "name": "python3"
  },
  "language_info": {
   "codemirror_mode": {
    "name": "ipython",
    "version": 2
   },
   "file_extension": ".py",
   "mimetype": "text/x-python",
   "name": "python",
   "nbconvert_exporter": "python",
   "pygments_lexer": "ipython2",
   "version": "2.7.6"
  }
 },
 "nbformat": 4,
 "nbformat_minor": 5
}
