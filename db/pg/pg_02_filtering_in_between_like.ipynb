{
 "cells": [
  {
   "cell_type": "code",
   "execution_count": 1,
   "id": "initial_id",
   "metadata": {
    "collapsed": true,
    "ExecuteTime": {
     "end_time": "2024-01-23T10:51:49.856168100Z",
     "start_time": "2024-01-23T10:51:49.395914300Z"
    }
   },
   "outputs": [],
   "source": [
    "import ipynb_importer\n",
    "%run pg_00_common.ipynb\n",
    "cursor = pg_connect()"
   ]
  },
  {
   "cell_type": "code",
   "outputs": [
    {
     "name": "stdout",
     "output_type": "stream",
     "text": [
      "   film_id             title\n",
      "0        1  Academy Dinosaur\n",
      "1        2    Ace Goldfinger\n",
      "2        3  Adaptation Holes\n"
     ]
    }
   ],
   "source": [
    "sql = \"\"\"\n",
    "SELECT\n",
    "  film_id, \n",
    "  title \n",
    "FROM\n",
    "  film \n",
    "WHERE\n",
    "  film_id in (1, 2, 3);\n",
    "\"\"\"\n",
    "\n",
    "run_sql(cursor, sql)"
   ],
   "metadata": {
    "collapsed": false,
    "ExecuteTime": {
     "end_time": "2024-01-23T10:51:51.769285200Z",
     "start_time": "2024-01-23T10:51:51.760866400Z"
    }
   },
   "id": "e9ef9efd5965d5fa",
   "execution_count": 2
  },
  {
   "cell_type": "code",
   "outputs": [
    {
     "name": "stdout",
     "output_type": "stream",
     "text": [
      "  first_name last_name\n",
      "0      Meryl     Allen\n",
      "1       Cuba     Allen\n",
      "2        Kim     Allen\n",
      "3        Jon     Chase\n",
      "4         Ed     Chase\n",
      "5      Susan     Davis\n",
      "6   Jennifer     Davis\n",
      "7      Susan     Davis\n"
     ]
    }
   ],
   "source": [
    "sql = \"\"\"\n",
    "SELECT \n",
    "  first_name, \n",
    "  last_name\n",
    "FROM \n",
    "  actor \n",
    "WHERE \n",
    "  last_name IN ('Allen', 'Chase', 'Davis') \n",
    "ORDER BY \n",
    "  last_name;\n",
    "\"\"\"\n",
    "\n",
    "run_sql(cursor, sql)"
   ],
   "metadata": {
    "collapsed": false,
    "ExecuteTime": {
     "end_time": "2024-01-23T10:52:10.231671900Z",
     "start_time": "2024-01-23T10:52:10.215249200Z"
    }
   },
   "id": "7c618b85f2c047a7",
   "execution_count": 3
  },
  {
   "cell_type": "code",
   "outputs": [
    {
     "name": "stdout",
     "output_type": "stream",
     "text": [
      "     payment_id amount               payment_date\n",
      "0         17503   7.99 2007-02-15 22:25:46.996577\n",
      "1         17504   1.99 2007-02-16 17:23:14.996577\n",
      "2         17505   7.99 2007-02-16 22:41:45.996577\n",
      "3         17512   4.99 2007-02-16 00:10:50.996577\n",
      "4         17513   6.99 2007-02-16 01:15:33.996577\n",
      "..          ...    ...                        ...\n",
      "585       19492   2.99 2007-02-16 01:14:54.996577\n",
      "586       19499   4.99 2007-02-15 00:55:33.996577\n",
      "587       19505   5.99 2007-02-15 06:44:32.996577\n",
      "588       19509   4.99 2007-02-15 04:44:02.996577\n",
      "589       19510   4.99 2007-02-15 11:17:28.996577\n",
      "\n",
      "[590 rows x 3 columns]\n"
     ]
    }
   ],
   "source": [
    "sql = \"\"\"\n",
    "SELECT \n",
    "  payment_id, \n",
    "  amount, \n",
    "  payment_date \n",
    "FROM \n",
    "  payment \n",
    "WHERE \n",
    "  payment_date::date IN ('2007-02-15', '2007-02-16');\n",
    "\"\"\"\n",
    "\n",
    "run_sql(cursor, sql)"
   ],
   "metadata": {
    "collapsed": false,
    "ExecuteTime": {
     "end_time": "2024-01-23T10:52:31.159396100Z",
     "start_time": "2024-01-23T10:52:31.142706800Z"
    }
   },
   "id": "d665e1adc9e853ad",
   "execution_count": 4
  },
  {
   "cell_type": "code",
   "outputs": [
    {
     "name": "stdout",
     "output_type": "stream",
     "text": [
      "     film_id              title\n",
      "0          4   Affair Prejudice\n",
      "1          5        African Egg\n",
      "2          6       Agent Truman\n",
      "3          7    Airplane Sierra\n",
      "4          8    Airport Pollock\n",
      "..       ...                ...\n",
      "992      996     Young Language\n",
      "993      997         Youth Kick\n",
      "994      998       Zhivago Core\n",
      "995      999  Zoolander Fiction\n",
      "996     1000          Zorro Ark\n",
      "\n",
      "[997 rows x 2 columns]\n"
     ]
    }
   ],
   "source": [
    "sql = \"\"\"\n",
    "SELECT \n",
    "  film_id, \n",
    "  title \n",
    "FROM \n",
    "  film \n",
    "WHERE \n",
    "  film_id NOT IN (1, 2, 3) \n",
    "ORDER BY \n",
    "  film_id;\n",
    "\"\"\"\n",
    "\n",
    "run_sql(cursor, sql)"
   ],
   "metadata": {
    "collapsed": false,
    "ExecuteTime": {
     "end_time": "2024-01-23T11:06:12.750795Z",
     "start_time": "2024-01-23T11:06:12.738507600Z"
    }
   },
   "id": "ff03fe2eb376d64e",
   "execution_count": 5
  },
  {
   "cell_type": "markdown",
   "source": [
    "```\n",
    "value BETWEEN low AND high;\n",
    "```\n",
    "\n",
    "```\n",
    "value NOT BETWEEN low AND high\n",
    "```"
   ],
   "metadata": {
    "collapsed": false
   },
   "id": "72948a35cce36885"
  },
  {
   "cell_type": "code",
   "outputs": [
    {
     "name": "stdout",
     "output_type": "stream",
     "text": [
      "   payment_id amount\n",
      "0       17503   7.99\n",
      "1       17504   1.99\n",
      "2       17505   7.99\n"
     ]
    }
   ],
   "source": [
    "sql = \"\"\"\n",
    "SELECT \n",
    "  payment_id, \n",
    "  amount \n",
    "FROM \n",
    "  payment \n",
    "WHERE \n",
    "  payment_id BETWEEN 17503 AND 17505 \n",
    "ORDER BY \n",
    "  payment_id;\n",
    "\"\"\"\n",
    "\n",
    "run_sql(cursor, sql)"
   ],
   "metadata": {
    "collapsed": false,
    "ExecuteTime": {
     "end_time": "2024-01-23T11:18:49.906222500Z",
     "start_time": "2024-01-23T11:18:49.878624600Z"
    }
   },
   "id": "2fac052a3565ffaf",
   "execution_count": 6
  },
  {
   "cell_type": "code",
   "outputs": [
    {
     "name": "stdout",
     "output_type": "stream",
     "text": [
      "       payment_id amount\n",
      "0           17506   2.99\n",
      "1           17507   7.99\n",
      "2           17508   5.99\n",
      "3           17509   5.99\n",
      "4           17510   5.99\n",
      "...           ...    ...\n",
      "14588       32094   2.99\n",
      "14589       32095   0.99\n",
      "14590       32096   4.99\n",
      "14591       32097   0.99\n",
      "14592       32098   2.99\n",
      "\n",
      "[14593 rows x 2 columns]\n"
     ]
    }
   ],
   "source": [
    "sql = \"\"\"\n",
    "SELECT \n",
    "  payment_id, \n",
    "  amount \n",
    "FROM \n",
    "  payment \n",
    "WHERE \n",
    "  payment_id NOT BETWEEN 17503 AND 17505 \n",
    "ORDER BY \n",
    "  payment_id;\n",
    "\"\"\"\n",
    "\n",
    "run_sql(cursor, sql)"
   ],
   "metadata": {
    "collapsed": false,
    "ExecuteTime": {
     "end_time": "2024-01-23T11:19:05.721421700Z",
     "start_time": "2024-01-23T11:19:05.680470200Z"
    }
   },
   "id": "614c7e40f1087b6d",
   "execution_count": 7
  },
  {
   "cell_type": "code",
   "outputs": [
    {
     "name": "stdout",
     "output_type": "stream",
     "text": [
      "   payment_id amount               payment_date\n",
      "0       18640  10.99 2007-02-15 08:14:59.996577\n",
      "1       18272  10.99 2007-02-15 16:59:12.996577\n",
      "2       18175  10.99 2007-02-16 13:20:28.996577\n",
      "3       18367  10.99 2007-02-17 02:33:38.996577\n",
      "4       19481  10.99 2007-02-17 16:37:30.996577\n",
      "5       18035  10.99 2007-02-18 07:01:49.996577\n",
      "6       19336  10.99 2007-02-19 09:18:28.996577\n"
     ]
    }
   ],
   "source": [
    "sql = \"\"\"\n",
    "SELECT \n",
    "  payment_id, \n",
    "  amount, \n",
    "  payment_date \n",
    "FROM \n",
    "  payment \n",
    "WHERE \n",
    "  payment_date BETWEEN '2007-02-15' AND '2007-02-20' \n",
    "  AND amount > 10 \n",
    "ORDER BY \n",
    "  payment_date;\n",
    "\"\"\"\n",
    "\n",
    "run_sql(cursor, sql)"
   ],
   "metadata": {
    "collapsed": false,
    "ExecuteTime": {
     "end_time": "2024-01-23T11:19:23.225906200Z",
     "start_time": "2024-01-23T11:19:23.207395900Z"
    }
   },
   "id": "63b8db17fdfc2994",
   "execution_count": 8
  },
  {
   "cell_type": "markdown",
   "source": [
    "```\n",
    "value LIKE pattern\n",
    "```\n",
    "or \n",
    "```\n",
    "value NOT LIKE pattern\n",
    "```\n",
    "\n",
    "PG 提供两个通配符：\n",
    "- %: 匹配任何零个或多个字符的序列\n",
    "- _: 匹配任何单个字符\n",
    "\n",
    "\n",
    "除了 `LIKE` 之外，还包括扩展的：\n",
    "- ILIKE: 允许不区分大小写匹配\n",
    "\n",
    "```\n",
    "~~: LIKE\n",
    "~~*: ILIKE\n",
    "!~~: NOT LIKE\n",
    "!~~*: NOT ILIKE\n",
    "```"
   ],
   "metadata": {
    "collapsed": false
   },
   "id": "49f544f02188048b"
  },
  {
   "cell_type": "code",
   "outputs": [
    {
     "name": "stdout",
     "output_type": "stream",
     "text": [
      "  first_name last_name\n",
      "0   Jennifer     Davis\n",
      "1     Jennie     Terry\n",
      "2      Jenny    Castro\n"
     ]
    }
   ],
   "source": [
    "sql = \"\"\"\n",
    "SELECT \n",
    "  first_name, \n",
    "  last_name \n",
    "FROM \n",
    "  customer \n",
    "WHERE \n",
    "  first_name LIKE 'Jen%';\n",
    "\"\"\"\n",
    "\n",
    "# 以 Jen 开头。\n",
    "\n",
    "run_sql(cursor, sql)"
   ],
   "metadata": {
    "collapsed": false,
    "ExecuteTime": {
     "end_time": "2024-01-23T11:22:56.129252300Z",
     "start_time": "2024-01-23T11:22:56.121743400Z"
    }
   },
   "id": "da77029b01a189c5",
   "execution_count": 10
  },
  {
   "cell_type": "code",
   "outputs": [
    {
     "name": "stdout",
     "output_type": "stream",
     "text": [
      "     first_name    last_name\n",
      "0        Albert       Crouse\n",
      "1       Alberto      Henning\n",
      "2     Alexander      Fennell\n",
      "3         Amber        Dixon\n",
      "4       Bernard        Colby\n",
      "5       Bernice       Willis\n",
      "6        Bertha     Ferguson\n",
      "7       Beverly       Brooks\n",
      "8     Catherine     Campbell\n",
      "9        Cheryl       Murphy\n",
      "10      Chester       Benner\n",
      "11  Christopher        Greco\n",
      "12        Derek      Blakely\n",
      "13      Derrick      Bourque\n",
      "14        Elmer          Noe\n",
      "15       Esther     Crawford\n",
      "16      Everett        Banda\n",
      "17     Fernando    Churchill\n",
      "18    Frederick       Isbell\n",
      "19       Gerald        Fultz\n",
      "20    Geraldine      Perkins\n",
      "21     Gertrude     Castillo\n",
      "22      Gilbert       Sledge\n",
      "23      Heather       Morris\n",
      "24      Herbert       Kruger\n",
      "25       Herman       Devore\n",
      "26       Javier        Elrod\n",
      "27      Jeffery       Pinson\n",
      "28     Jennifer        Davis\n",
      "29       Jeremy      Hurtado\n",
      "30       Jerome       Kenyon\n",
      "31        Jerry       Jordon\n",
      "32    Katherine       Rivera\n",
      "33     Kimberly          Lee\n",
      "34        Leroy   Bustamante\n",
      "35       Lester        Kraus\n",
      "36        Perry     Swafford\n",
      "37        Peter       Menard\n",
      "38       Robert     Baughman\n",
      "39      Roberta       Harper\n",
      "40      Roberto           Vu\n",
      "41        Roger  Quintanilla\n",
      "42       Sergio    Stanfield\n",
      "43       Sherri       Rhodes\n",
      "44       Sherry     Marshall\n",
      "45       Teresa       Rogers\n",
      "46     Terrance        Roush\n",
      "47     Terrence    Gunderson\n",
      "48        Terri      Vasquez\n",
      "49        Terry      Carlson\n",
      "50        Terry      Grissom\n",
      "51      Theresa       Watson\n",
      "52        Tyler         Wren\n",
      "53      Valerie        Black\n",
      "54         Vera        Mccoy\n",
      "55       Vernon        Chapa\n",
      "56     Veronica        Stone\n",
      "57       Walter     Perryman\n"
     ]
    }
   ],
   "source": [
    "sql = \"\"\"\n",
    "SELECT \n",
    "  first_name, \n",
    "  last_name \n",
    "FROM \n",
    "  customer \n",
    "WHERE \n",
    "  first_name LIKE '%er%' \n",
    "ORDER BY \n",
    "  first_name;\n",
    "\"\"\"\n",
    "\n",
    "run_sql(cursor, sql)"
   ],
   "metadata": {
    "collapsed": false,
    "ExecuteTime": {
     "end_time": "2024-01-23T11:25:16.475859700Z",
     "start_time": "2024-01-23T11:25:16.464678200Z"
    }
   },
   "id": "ca538885b5c2060b",
   "execution_count": 11
  },
  {
   "cell_type": "code",
   "outputs": [
    {
     "name": "stdout",
     "output_type": "stream",
     "text": [
      "  first_name last_name\n",
      "0     Cheryl    Murphy\n",
      "1     Sherri    Rhodes\n",
      "2     Sherry  Marshall\n",
      "3    Theresa    Watson\n"
     ]
    }
   ],
   "source": [
    "sql = \"\"\"\n",
    "SELECT \n",
    "  first_name, \n",
    "  last_name \n",
    "FROM \n",
    "  customer \n",
    "WHERE \n",
    "  first_name LIKE '_her%' \n",
    "ORDER BY \n",
    "  first_name;\n",
    "\"\"\"\n",
    "\n",
    "run_sql(cursor, sql)"
   ],
   "metadata": {
    "collapsed": false,
    "ExecuteTime": {
     "end_time": "2024-01-23T11:25:49.979235900Z",
     "start_time": "2024-01-23T11:25:49.970700800Z"
    }
   },
   "id": "174e2ec0372160ae",
   "execution_count": 12
  },
  {
   "cell_type": "code",
   "outputs": [
    {
     "name": "stdout",
     "output_type": "stream",
     "text": [
      "    first_name last_name\n",
      "0        Aaron     Selby\n",
      "1         Adam     Gooch\n",
      "2       Adrian     Clary\n",
      "3        Agnes    Bishop\n",
      "4         Alan      Kahn\n",
      "..         ...       ...\n",
      "591     Willie    Howell\n",
      "592      Wilma  Richards\n",
      "593    Yolanda    Weaver\n",
      "594     Yvonne   Watkins\n",
      "595    Zachary      Hite\n",
      "\n",
      "[596 rows x 2 columns]\n"
     ]
    }
   ],
   "source": [
    "sql = \"\"\"\n",
    "SELECT \n",
    "  first_name, \n",
    "  last_name \n",
    "FROM \n",
    "  customer \n",
    "WHERE \n",
    "  first_name NOT LIKE 'Jen%' \n",
    "ORDER BY \n",
    "  first_name;\n",
    "\"\"\"\n",
    "\n",
    "run_sql(cursor, sql)"
   ],
   "metadata": {
    "collapsed": false,
    "ExecuteTime": {
     "end_time": "2024-01-23T11:26:16.725453700Z",
     "start_time": "2024-01-23T11:26:16.700545800Z"
    }
   },
   "id": "e04973a8e507d156",
   "execution_count": 13
  },
  {
   "cell_type": "code",
   "outputs": [
    {
     "name": "stdout",
     "output_type": "stream",
     "text": [
      "Empty DataFrame\n",
      "Columns: [first_name, last_name]\n",
      "Index: []\n"
     ]
    }
   ],
   "source": [
    "sql = \"\"\"\n",
    "SELECT \n",
    "  first_name, \n",
    "  last_name \n",
    "FROM \n",
    "  customer \n",
    "WHERE \n",
    "  first_name ILIKE 'BAR%';\n",
    "\"\"\"\n",
    "\n",
    "sql2 = \"\"\"\n",
    "SELECT \n",
    "  first_name, \n",
    "  last_name \n",
    "FROM \n",
    "  customer \n",
    "WHERE \n",
    "  first_name LIKE 'BAR%';\n",
    "\"\"\"\n",
    "\n",
    "run_sql(cursor, sql2)"
   ],
   "metadata": {
    "collapsed": false,
    "ExecuteTime": {
     "end_time": "2024-01-23T11:29:44.853625600Z",
     "start_time": "2024-01-23T11:29:44.845554200Z"
    }
   },
   "id": "6b95815d2bac137d",
   "execution_count": 15
  },
  {
   "cell_type": "code",
   "outputs": [
    {
     "name": "stdout",
     "output_type": "stream",
     "text": [
      "  first_name last_name\n",
      "0    Darlene      Rose\n",
      "1    Darrell     Power\n",
      "2     Darren   Windham\n",
      "3     Darryl  Ashcraft\n",
      "4      Daryl     Larue\n"
     ]
    }
   ],
   "source": [
    "sql = \"\"\"\n",
    "SELECT \n",
    "  first_name, \n",
    "  last_name \n",
    "FROM \n",
    "  customer \n",
    "WHERE \n",
    "  first_name ~~ 'Dar%' \n",
    "ORDER BY \n",
    "  first_name;\n",
    "\"\"\"\n",
    "\n",
    "run_sql(cursor, sql)"
   ],
   "metadata": {
    "collapsed": false,
    "ExecuteTime": {
     "end_time": "2024-01-23T11:31:20.092074800Z",
     "start_time": "2024-01-23T11:31:20.082356800Z"
    }
   },
   "id": "e07a9d6ef31e6639",
   "execution_count": 16
  },
  {
   "cell_type": "markdown",
   "source": [
    "需要查询的数据中包括了 % 或者 _ 的情况是，可以使用 `ESCAPE`\n",
    "\n",
    "```\n",
    "string LIKE pattern ESCAPE escape_character;\n",
    "```"
   ],
   "metadata": {
    "collapsed": false
   },
   "id": "c11e970674c20e53"
  },
  {
   "cell_type": "code",
   "outputs": [],
   "source": [
    "table_sql = \"\"\"\n",
    "CREATE TABLE t(\n",
    "   message text\n",
    ");\n",
    "\"\"\"\n",
    "\n",
    "data_sql = \"\"\"\n",
    "INSERT INTO t(message) \n",
    "VALUES('The rents are now 10% higher than last month'), \n",
    "      ('The new film will have _ in the title');\n",
    "\"\"\""
   ],
   "metadata": {
    "collapsed": false,
    "ExecuteTime": {
     "end_time": "2024-01-23T11:34:40.082729400Z",
     "start_time": "2024-01-23T11:34:40.067162900Z"
    }
   },
   "id": "d1acd4f1940e5d2c",
   "execution_count": 17
  },
  {
   "cell_type": "code",
   "outputs": [
    {
     "data": {
      "text/plain": "<psycopg.Cursor [COMMAND_OK] [INTRANS] (host=localhost user=postgres database=dvdrental) at 0x1b87fb81d20>"
     },
     "execution_count": 18,
     "metadata": {},
     "output_type": "execute_result"
    }
   ],
   "source": [
    "cursor.execute(table_sql)\n",
    "cursor.execute(data_sql)"
   ],
   "metadata": {
    "collapsed": false,
    "ExecuteTime": {
     "end_time": "2024-01-23T11:34:41.621861700Z",
     "start_time": "2024-01-23T11:34:41.595953Z"
    }
   },
   "id": "34f79a04cf5825bb",
   "execution_count": 18
  },
  {
   "cell_type": "code",
   "outputs": [
    {
     "name": "stdout",
     "output_type": "stream",
     "text": [
      "                                        message\n",
      "0  The rents are now 10% higher than last month\n"
     ]
    }
   ],
   "source": [
    "sql = \"\"\"\n",
    "SELECT * FROM t \n",
    "WHERE message LIKE '%10$%%' ESCAPE '$';\n",
    "\"\"\"\n",
    "\n",
    "run_sql(cursor, sql)"
   ],
   "metadata": {
    "collapsed": false,
    "ExecuteTime": {
     "end_time": "2024-01-23T11:35:09.527754300Z",
     "start_time": "2024-01-23T11:35:09.513736Z"
    }
   },
   "id": "2a6a234fd71a37f",
   "execution_count": 19
  },
  {
   "cell_type": "markdown",
   "source": [
    "IS NULL"
   ],
   "metadata": {
    "collapsed": false
   },
   "id": "61104d2f1134a19d"
  },
  {
   "cell_type": "code",
   "outputs": [
    {
     "name": "stdout",
     "output_type": "stream",
     "text": [
      "                address address2\n",
      "0     47 MySakila Drive     None\n",
      "1    28 MySQL Boulevard     None\n",
      "2     23 Workhaven Lane     None\n",
      "3  1411 Lillydale Drive     None\n"
     ]
    }
   ],
   "source": [
    "sql = \"\"\"\n",
    "SELECT \n",
    "  address, \n",
    "  address2 \n",
    "FROM \n",
    "  address \n",
    "WHERE \n",
    "  address2 IS NULL;\n",
    "\"\"\"\n",
    "\n",
    "run_sql(cursor, sql)"
   ],
   "metadata": {
    "collapsed": false,
    "ExecuteTime": {
     "end_time": "2024-01-23T11:36:16.190623800Z",
     "start_time": "2024-01-23T11:36:16.166763900Z"
    }
   },
   "id": "2e548b424db8212e",
   "execution_count": 20
  },
  {
   "cell_type": "code",
   "outputs": [
    {
     "name": "stdout",
     "output_type": "stream",
     "text": [
      "                      address address2\n",
      "0              1913 Hanoi Way         \n",
      "1            1121 Loja Avenue         \n",
      "2           692 Joliet Street         \n",
      "3            1566 Inegl Manor         \n",
      "4             53 Idfu Parkway         \n",
      "..                        ...      ...\n",
      "594       844 Bucuresti Place         \n",
      "595  1101 Bucuresti Boulevard         \n",
      "596    1103 Quilmes Boulevard         \n",
      "597       1331 Usak Boulevard         \n",
      "598      1325 Fukuyama Street         \n",
      "\n",
      "[599 rows x 2 columns]\n"
     ]
    }
   ],
   "source": [
    "sql = \"\"\"\n",
    "SELECT \n",
    "  address, \n",
    "  address2 \n",
    "FROM \n",
    "  address \n",
    "WHERE \n",
    "  address2 IS NOT NULL;\n",
    "\"\"\"\n",
    "\n",
    "run_sql(cursor, sql)\n",
    "\n",
    "# 给出了不符合预期的查询结果。因为 address2 是空字符串。如果要匹配 NOT NULL，需要将空字符串更新为 NULL"
   ],
   "metadata": {
    "collapsed": false,
    "ExecuteTime": {
     "end_time": "2024-01-23T11:36:40.262061500Z",
     "start_time": "2024-01-23T11:36:40.245115500Z"
    }
   },
   "id": "afb89bc596d2463f",
   "execution_count": 21
  }
 ],
 "metadata": {
  "kernelspec": {
   "display_name": "Python 3",
   "language": "python",
   "name": "python3"
  },
  "language_info": {
   "codemirror_mode": {
    "name": "ipython",
    "version": 2
   },
   "file_extension": ".py",
   "mimetype": "text/x-python",
   "name": "python",
   "nbconvert_exporter": "python",
   "pygments_lexer": "ipython2",
   "version": "2.7.6"
  }
 },
 "nbformat": 4,
 "nbformat_minor": 5
}
