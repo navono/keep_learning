{
 "cells": [
  {
   "metadata": {},
   "cell_type": "markdown",
   "source": [
    "# Indexes\n",
    "\n",
    "索引是一种数据结构，用来加快数据查询速度。例如在下述表中\n",
    "```\n",
    "CREATE TABLE contacts (\n",
    "    id INT PRIMARY KEY,\n",
    "    name VACHAR(255) NOT NULL,\n",
    "    phone VARCHAR(10) NOT NULL\n",
    ");\n",
    "```\n",
    "\n",
    "使用\n",
    "```\n",
    "SELECT * FROM contacts \n",
    "WHERE name = 'John Doe';\n",
    "```\n",
    "\n",
    "查询时，会遍历整个表，直到找到匹配的行。如果表中有1000行，那么最多需要1000次查询。如果我们在 `name` 列上创建一个索引，那么查询时只需要遍历索引，而不是整个表。这样查询速度会快很多。\n",
    "\n",
    "通过下述语句可以创建索引\n",
    "```\n",
    "CREATE INDEX contacts_name\n",
    "ON contacts(name);\n",
    "```\n",
    "\n",
    "在 `name` 列上创建索引后，PostgreSQL 从 `contacts` 表的 `name` 列中提取数据并将其插入到索引数据结构中，同时会保持与表同步。在建立索引后，再次执行上述的查询语句，PostgreSQL 会首先检查索引，然后再检查表。这样查询速度会快很多。\n",
    "\n",
    "## 索引类型\n",
    "\n",
    "- B-tree index\n",
    "    > 默认索引类型。\n",
    "- Hash index\n",
    "- GIN index\n",
    "- GiST index\n",
    "- SP-GiST index\n",
    "- BRIN(Block Range Index) index"
   ],
   "id": "bd0617be84359d24"
  }
 ],
 "metadata": {
  "kernelspec": {
   "display_name": "Python 3",
   "language": "python",
   "name": "python3"
  },
  "language_info": {
   "codemirror_mode": {
    "name": "ipython",
    "version": 2
   },
   "file_extension": ".py",
   "mimetype": "text/x-python",
   "name": "python",
   "nbconvert_exporter": "python",
   "pygments_lexer": "ipython2",
   "version": "2.7.6"
  }
 },
 "nbformat": 4,
 "nbformat_minor": 5
}
