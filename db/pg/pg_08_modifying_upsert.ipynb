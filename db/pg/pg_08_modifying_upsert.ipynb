{
 "cells": [
  {
   "cell_type": "markdown",
   "source": [
    "```\n",
    "INSERT INTO table_name (column1, column2, ...)\n",
    "VALUES (value1, value2, ...)\n",
    "ON CONFLICT (conflict_column)\n",
    "DO NOTHING | DO UPDATE SET column1 = value1, column2 = value2, ...;\n",
    "```"
   ],
   "metadata": {
    "collapsed": false
   },
   "id": "ff681f89d5e2824b"
  },
  {
   "cell_type": "code",
   "execution_count": 1,
   "id": "initial_id",
   "metadata": {
    "collapsed": true,
    "ExecuteTime": {
     "end_time": "2024-03-17T05:02:40.386786Z",
     "start_time": "2024-03-17T05:02:39.479990Z"
    }
   },
   "outputs": [
    {
     "name": "stdout",
     "output_type": "stream",
     "text": [
      "importing Jupyter notebook from D:\\sourcecode\\keep_learning\\db\\pg\\pg_00_common.ipynb\n"
     ]
    }
   ],
   "source": [
    "import common.ipynb_importer\n",
    "from db.pg.pg_00_common import *\n",
    "\n",
    "cursor = pg_connect()"
   ]
  },
  {
   "cell_type": "code",
   "outputs": [
    {
     "ename": "ProgrammingError",
     "evalue": "the last operation didn't produce a result",
     "output_type": "error",
     "traceback": [
      "\u001B[1;31m---------------------------------------------------------------------------\u001B[0m",
      "\u001B[1;31mProgrammingError\u001B[0m                          Traceback (most recent call last)",
      "Cell \u001B[1;32mIn[2], line 17\u001B[0m\n\u001B[0;32m      1\u001B[0m sql \u001B[38;5;241m=\u001B[39m \u001B[38;5;124m\"\"\"\u001B[39m\n\u001B[0;32m      2\u001B[0m \u001B[38;5;124mCREATE TABLE inventory2(\u001B[39m\n\u001B[0;32m      3\u001B[0m \u001B[38;5;124m   id INT PRIMARY KEY,\u001B[39m\n\u001B[1;32m   (...)\u001B[0m\n\u001B[0;32m     14\u001B[0m \u001B[38;5;124mRETURNING *;\u001B[39m\n\u001B[0;32m     15\u001B[0m \u001B[38;5;124m\"\"\"\u001B[39m\n\u001B[1;32m---> 17\u001B[0m \u001B[43mrun_sql\u001B[49m\u001B[43m(\u001B[49m\u001B[43mcursor\u001B[49m\u001B[43m,\u001B[49m\u001B[43m \u001B[49m\u001B[43msql\u001B[49m\u001B[43m)\u001B[49m\n",
      "File \u001B[1;32m<string>:3\u001B[0m, in \u001B[0;36mrun_sql\u001B[1;34m(cursor, sql_stat)\u001B[0m\n",
      "File \u001B[1;32m<string>:2\u001B[0m, in \u001B[0;36mdisplay_data\u001B[1;34m(cursor)\u001B[0m\n",
      "File \u001B[1;32m~\\.conda\\envs\\learning\\lib\\site-packages\\psycopg\\cursor.py:857\u001B[0m, in \u001B[0;36mCursor.fetchall\u001B[1;34m(self)\u001B[0m\n\u001B[0;32m    851\u001B[0m \u001B[38;5;250m\u001B[39m\u001B[38;5;124;03m\"\"\"\u001B[39;00m\n\u001B[0;32m    852\u001B[0m \u001B[38;5;124;03mReturn all the remaining records from the current recordset.\u001B[39;00m\n\u001B[0;32m    853\u001B[0m \n\u001B[0;32m    854\u001B[0m \u001B[38;5;124;03m:rtype: Sequence[Row], with Row defined by `row_factory`\u001B[39;00m\n\u001B[0;32m    855\u001B[0m \u001B[38;5;124;03m\"\"\"\u001B[39;00m\n\u001B[0;32m    856\u001B[0m \u001B[38;5;28mself\u001B[39m\u001B[38;5;241m.\u001B[39m_fetch_pipeline()\n\u001B[1;32m--> 857\u001B[0m \u001B[38;5;28;43mself\u001B[39;49m\u001B[38;5;241;43m.\u001B[39;49m\u001B[43m_check_result_for_fetch\u001B[49m\u001B[43m(\u001B[49m\u001B[43m)\u001B[49m\n\u001B[0;32m    858\u001B[0m \u001B[38;5;28;01massert\u001B[39;00m \u001B[38;5;28mself\u001B[39m\u001B[38;5;241m.\u001B[39mpgresult\n\u001B[0;32m    859\u001B[0m records \u001B[38;5;241m=\u001B[39m \u001B[38;5;28mself\u001B[39m\u001B[38;5;241m.\u001B[39m_tx\u001B[38;5;241m.\u001B[39mload_rows(\u001B[38;5;28mself\u001B[39m\u001B[38;5;241m.\u001B[39m_pos, \u001B[38;5;28mself\u001B[39m\u001B[38;5;241m.\u001B[39mpgresult\u001B[38;5;241m.\u001B[39mntuples, \u001B[38;5;28mself\u001B[39m\u001B[38;5;241m.\u001B[39m_make_row)\n",
      "File \u001B[1;32m~\\.conda\\envs\\learning\\lib\\site-packages\\psycopg\\cursor.py:621\u001B[0m, in \u001B[0;36mBaseCursor._check_result_for_fetch\u001B[1;34m(self)\u001B[0m\n\u001B[0;32m    619\u001B[0m     \u001B[38;5;28;01mraise\u001B[39;00m e\u001B[38;5;241m.\u001B[39mPipelineAborted(\u001B[38;5;124m\"\u001B[39m\u001B[38;5;124mpipeline aborted\u001B[39m\u001B[38;5;124m\"\u001B[39m)\n\u001B[0;32m    620\u001B[0m \u001B[38;5;28;01melse\u001B[39;00m:\n\u001B[1;32m--> 621\u001B[0m     \u001B[38;5;28;01mraise\u001B[39;00m e\u001B[38;5;241m.\u001B[39mProgrammingError(\u001B[38;5;124m\"\u001B[39m\u001B[38;5;124mthe last operation didn\u001B[39m\u001B[38;5;124m'\u001B[39m\u001B[38;5;124mt produce a result\u001B[39m\u001B[38;5;124m\"\u001B[39m)\n",
      "\u001B[1;31mProgrammingError\u001B[0m: the last operation didn't produce a result"
     ]
    }
   ],
   "source": [
    "sql = \"\"\"\n",
    "CREATE TABLE inventory2(\n",
    "   id INT PRIMARY KEY,\n",
    "   name VARCHAR(255) NOT NULL,\n",
    "   price DECIMAL(10,2) NOT NULL,\n",
    "   quantity INT NOT NULL\n",
    ");\n",
    "\n",
    "INSERT INTO inventory2(id, name, price, quantity)\n",
    "VALUES\n",
    "\t(1, 'A', 15.99, 100),\n",
    "\t(2, 'B', 25.49, 50),\n",
    "\t(3, 'C', 19.95, 75)\n",
    "RETURNING *;\n",
    "\"\"\"\n",
    "\n",
    "run_sql(cursor, sql)"
   ],
   "metadata": {
    "collapsed": false,
    "ExecuteTime": {
     "end_time": "2024-03-17T05:02:40.951822Z",
     "start_time": "2024-03-17T05:02:40.388820Z"
    }
   },
   "id": "c5f2184d7f5f5ada",
   "execution_count": 2
  },
  {
   "cell_type": "code",
   "outputs": [],
   "source": [
    "sql = \"\"\"\n",
    "INSERT INTO inventory2 (id, name, price, quantity)\n",
    "VALUES (1, 'A', 16.99, 120)\n",
    "ON CONFLICT(id) \n",
    "DO UPDATE SET\n",
    "  price = EXCLUDED.price,\n",
    "  quantity = EXCLUDED.quantity\n",
    "RETURNING *;\n",
    "\"\"\"\n",
    "\n",
    "run_sql(cursor, sql)"
   ],
   "metadata": {
    "collapsed": false,
    "ExecuteTime": {
     "end_time": "2024-03-17T05:02:40.954787Z",
     "start_time": "2024-03-17T05:02:40.953785Z"
    }
   },
   "id": "c41b59956d2cd62a",
   "execution_count": null
  },
  {
   "cell_type": "code",
   "outputs": [],
   "source": [
    "sql = \"\"\"\n",
    "INSERT INTO inventory2 (id, name, price, quantity)\n",
    "VALUES (4, 'D', 29.99, 20)\n",
    "ON CONFLICT(id) \n",
    "DO UPDATE SET\n",
    "  price = EXCLUDED.price,\n",
    "  quantity = EXCLUDED.quantity\n",
    "RETURNING *;\n",
    "\"\"\"\n",
    "\n",
    "run_sql(cursor, sql)"
   ],
   "metadata": {
    "collapsed": false
   },
   "id": "47a7edad7e6195b2",
   "execution_count": null
  },
  {
   "cell_type": "code",
   "outputs": [],
   "source": [
    "sql = \"\"\"\n",
    "SELECT * FROM inventory2\n",
    "ORDER BY id;\n",
    "\"\"\"\n",
    "\n",
    "run_sql(cursor, sql)"
   ],
   "metadata": {
    "collapsed": false,
    "ExecuteTime": {
     "start_time": "2024-03-17T05:02:40.957789Z"
    }
   },
   "id": "6e33c257c14bdcf3",
   "execution_count": null
  }
 ],
 "metadata": {
  "kernelspec": {
   "display_name": "Python 3",
   "language": "python",
   "name": "python3"
  },
  "language_info": {
   "codemirror_mode": {
    "name": "ipython",
    "version": 2
   },
   "file_extension": ".py",
   "mimetype": "text/x-python",
   "name": "python",
   "nbconvert_exporter": "python",
   "pygments_lexer": "ipython2",
   "version": "2.7.6"
  }
 },
 "nbformat": 4,
 "nbformat_minor": 5
}
