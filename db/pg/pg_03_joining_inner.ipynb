{
 "cells": [
  {
   "cell_type": "markdown",
   "source": [
    "```\n",
    "SELECT \n",
    "  select_list \n",
    "FROM \n",
    "  table1\n",
    "INNER JOIN table2 \n",
    "  ON table1.column_name = table2.column_name;\n",
    "```\n",
    "\n",
    "使用别名后\n",
    "```\n",
    "SELECT \n",
    "  select_list \n",
    "FROM \n",
    "  table1 t1\n",
    "INNER JOIN table2 t2 \n",
    "    ON t1.column_name = t2.column_name;\n",
    "```\n",
    "\n",
    "如果要匹配的列的列名相同，可以试用 `USING`\n",
    "```\n",
    "SELECT \n",
    "  select_list \n",
    "FROM \n",
    "  table1 t1\n",
    "INNER JOIN table2 t2 USING(column_name);\n",
    "```"
   ],
   "metadata": {
    "collapsed": false
   },
   "id": "ec5d7971c8a887b0"
  },
  {
   "cell_type": "code",
   "outputs": [],
   "source": [
    "import common.ipynb_importer\n",
    "from db.pg.pg_00_common import *\n",
    "\n",
    "cursor = pg_connect()"
   ],
   "metadata": {
    "collapsed": false,
    "ExecuteTime": {
     "end_time": "2024-01-24T06:30:41.275360500Z",
     "start_time": "2024-01-24T06:30:40.812347100Z"
    }
   },
   "id": "3cd725219c865c23",
   "execution_count": 2
  },
  {
   "cell_type": "code",
   "execution_count": 3,
   "id": "initial_id",
   "metadata": {
    "collapsed": true,
    "ExecuteTime": {
     "end_time": "2024-01-24T06:30:42.856312700Z",
     "start_time": "2024-01-24T06:30:42.814733100Z"
    }
   },
   "outputs": [
    {
     "name": "stdout",
     "output_type": "stream",
     "text": [
      "       customer_id first_name last_name amount               payment_date\n",
      "0              416    Jeffery    Pinson   2.99 2007-02-14 21:21:59.996577\n",
      "1              516      Elmer       Noe   4.99 2007-02-14 21:23:39.996577\n",
      "2              239     Minnie    Romero   4.99 2007-02-14 21:29:00.996577\n",
      "3              592   Terrance     Roush   6.99 2007-02-14 21:41:12.996577\n",
      "4               49      Joyce   Edwards   0.99 2007-02-14 21:44:52.996577\n",
      "...            ...        ...       ...    ...                        ...\n",
      "14591          163      Cathy   Spencer   0.00 2007-05-14 13:44:29.996577\n",
      "14592          168     Regina     Berry   0.99 2007-05-14 13:44:29.996577\n",
      "14593          175    Annette     Olson   3.98 2007-05-14 13:44:29.996577\n",
      "14594          175    Annette     Olson   0.00 2007-05-14 13:44:29.996577\n",
      "14595          178     Marion    Snyder   4.99 2007-05-14 13:44:29.996577\n",
      "\n",
      "[14596 rows x 5 columns]\n"
     ]
    }
   ],
   "source": [
    "sql = \"\"\"\n",
    "SELECT \n",
    "  customer.customer_id, \n",
    "  customer.first_name, \n",
    "  customer.last_name, \n",
    "  payment.amount, \n",
    "  payment.payment_date \n",
    "FROM \n",
    "  customer \n",
    "  INNER JOIN payment ON payment.customer_id = customer.customer_id \n",
    "ORDER BY \n",
    "  payment.payment_date;\n",
    "\"\"\"\n",
    "run_sql(cursor, sql)"
   ]
  },
  {
   "cell_type": "code",
   "outputs": [
    {
     "name": "stdout",
     "output_type": "stream",
     "text": [
      "       customer_id first_name last_name amount               payment_date\n",
      "0              416    Jeffery    Pinson   2.99 2007-02-14 21:21:59.996577\n",
      "1              516      Elmer       Noe   4.99 2007-02-14 21:23:39.996577\n",
      "2              239     Minnie    Romero   4.99 2007-02-14 21:29:00.996577\n",
      "3              592   Terrance     Roush   6.99 2007-02-14 21:41:12.996577\n",
      "4               49      Joyce   Edwards   0.99 2007-02-14 21:44:52.996577\n",
      "...            ...        ...       ...    ...                        ...\n",
      "14591          163      Cathy   Spencer   0.00 2007-05-14 13:44:29.996577\n",
      "14592          168     Regina     Berry   0.99 2007-05-14 13:44:29.996577\n",
      "14593          175    Annette     Olson   3.98 2007-05-14 13:44:29.996577\n",
      "14594          175    Annette     Olson   0.00 2007-05-14 13:44:29.996577\n",
      "14595          178     Marion    Snyder   4.99 2007-05-14 13:44:29.996577\n",
      "\n",
      "[14596 rows x 5 columns]\n"
     ]
    }
   ],
   "source": [
    "# 更短一点的写法\n",
    "sql = \"\"\"\n",
    "SELECT \n",
    "  c.customer_id, \n",
    "  c.first_name, \n",
    "  c.last_name, \n",
    "  p.amount, \n",
    "  p.payment_date \n",
    "FROM \n",
    "  customer c \n",
    "  INNER JOIN payment p ON p.customer_id = c.customer_id \n",
    "ORDER BY \n",
    "  p.payment_date;\n",
    "\"\"\"\n",
    "run_sql(cursor, sql)"
   ],
   "metadata": {
    "collapsed": false,
    "ExecuteTime": {
     "end_time": "2024-01-24T06:31:07.094980900Z",
     "start_time": "2024-01-24T06:31:07.055981Z"
    }
   },
   "id": "34db47314c8c6f80",
   "execution_count": 4
  },
  {
   "cell_type": "code",
   "outputs": [
    {
     "name": "stdout",
     "output_type": "stream",
     "text": [
      "       customer_id first_name last_name amount               payment_date\n",
      "0              416    Jeffery    Pinson   2.99 2007-02-14 21:21:59.996577\n",
      "1              516      Elmer       Noe   4.99 2007-02-14 21:23:39.996577\n",
      "2              239     Minnie    Romero   4.99 2007-02-14 21:29:00.996577\n",
      "3              592   Terrance     Roush   6.99 2007-02-14 21:41:12.996577\n",
      "4               49      Joyce   Edwards   0.99 2007-02-14 21:44:52.996577\n",
      "...            ...        ...       ...    ...                        ...\n",
      "14591          163      Cathy   Spencer   0.00 2007-05-14 13:44:29.996577\n",
      "14592          168     Regina     Berry   0.99 2007-05-14 13:44:29.996577\n",
      "14593          175    Annette     Olson   3.98 2007-05-14 13:44:29.996577\n",
      "14594          175    Annette     Olson   0.00 2007-05-14 13:44:29.996577\n",
      "14595          178     Marion    Snyder   4.99 2007-05-14 13:44:29.996577\n",
      "\n",
      "[14596 rows x 5 columns]\n"
     ]
    }
   ],
   "source": [
    "# USING\n",
    "sql = \"\"\"\n",
    "SELECT \n",
    "  customer_id, \n",
    "  first_name, \n",
    "  last_name, \n",
    "  amount, \n",
    "  payment_date \n",
    "FROM \n",
    "  customer \n",
    "  INNER JOIN payment USING(customer_id) \n",
    "ORDER BY \n",
    "  payment_date;\n",
    "\"\"\"\n",
    "run_sql(cursor, sql)"
   ],
   "metadata": {
    "collapsed": false,
    "ExecuteTime": {
     "end_time": "2024-01-24T06:31:54.166604500Z",
     "start_time": "2024-01-24T06:31:54.133489800Z"
    }
   },
   "id": "40505f45cc16de85",
   "execution_count": 5
  },
  {
   "cell_type": "code",
   "outputs": [
    {
     "name": "stdout",
     "output_type": "stream",
     "text": [
      "       customer_id   customer_name    staff_name amount  \\\n",
      "0              416  Jeffery Pinson  Jon Stephens   2.99   \n",
      "1              516       Elmer Noe  Jon Stephens   4.99   \n",
      "2              239   Minnie Romero  Mike Hillyer   4.99   \n",
      "3              592  Terrance Roush  Jon Stephens   6.99   \n",
      "4               49   Joyce Edwards  Mike Hillyer   0.99   \n",
      "...            ...             ...           ...    ...   \n",
      "14591          163   Cathy Spencer  Mike Hillyer   0.00   \n",
      "14592          168    Regina Berry  Mike Hillyer   0.99   \n",
      "14593          175   Annette Olson  Jon Stephens   3.98   \n",
      "14594          175   Annette Olson  Jon Stephens   0.00   \n",
      "14595          178   Marion Snyder  Mike Hillyer   4.99   \n",
      "\n",
      "                    payment_date  \n",
      "0     2007-02-14 21:21:59.996577  \n",
      "1     2007-02-14 21:23:39.996577  \n",
      "2     2007-02-14 21:29:00.996577  \n",
      "3     2007-02-14 21:41:12.996577  \n",
      "4     2007-02-14 21:44:52.996577  \n",
      "...                          ...  \n",
      "14591 2007-05-14 13:44:29.996577  \n",
      "14592 2007-05-14 13:44:29.996577  \n",
      "14593 2007-05-14 13:44:29.996577  \n",
      "14594 2007-05-14 13:44:29.996577  \n",
      "14595 2007-05-14 13:44:29.996577  \n",
      "\n",
      "[14596 rows x 5 columns]\n"
     ]
    }
   ],
   "source": [
    "sql = \"\"\"\n",
    "SELECT \n",
    "  c.customer_id, \n",
    "  c.first_name || ' ' || c.last_name customer_name, \n",
    "  s.first_name || ' ' || s.last_name staff_name, \n",
    "  p.amount, \n",
    "  p.payment_date \n",
    "FROM \n",
    "  customer c \n",
    "  INNER JOIN payment p USING (customer_id) \n",
    "  INNER JOIN staff s using(staff_id) \n",
    "ORDER BY \n",
    "  payment_date;\n",
    "\"\"\"\n",
    "run_sql(cursor, sql)"
   ],
   "metadata": {
    "collapsed": false,
    "ExecuteTime": {
     "end_time": "2024-01-24T06:33:37.288636500Z",
     "start_time": "2024-01-24T06:33:37.217637Z"
    }
   },
   "id": "c5740fc814827aa2",
   "execution_count": 8
  }
 ],
 "metadata": {
  "kernelspec": {
   "display_name": "Python 3",
   "language": "python",
   "name": "python3"
  },
  "language_info": {
   "codemirror_mode": {
    "name": "ipython",
    "version": 2
   },
   "file_extension": ".py",
   "mimetype": "text/x-python",
   "name": "python",
   "nbconvert_exporter": "python",
   "pygments_lexer": "ipython2",
   "version": "2.7.6"
  }
 },
 "nbformat": 4,
 "nbformat_minor": 5
}
