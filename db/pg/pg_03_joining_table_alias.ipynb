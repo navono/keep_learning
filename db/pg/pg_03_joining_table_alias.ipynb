{
 "cells": [
  {
   "cell_type": "markdown",
   "source": [
    "```\n",
    "table_name AS alias_name\n",
    "```\n",
    "```\n",
    "table_name alias_name\n",
    "```"
   ],
   "metadata": {
    "collapsed": false
   },
   "id": "86c076e040c90474"
  },
  {
   "cell_type": "code",
   "execution_count": 7,
   "id": "initial_id",
   "metadata": {
    "collapsed": true,
    "ExecuteTime": {
     "end_time": "2024-01-24T06:23:35.526840800Z",
     "start_time": "2024-01-24T06:23:35.480840800Z"
    }
   },
   "outputs": [],
   "source": [
    "import ipynb_importer\n",
    "%run pg_00_common.ipynb\n",
    "cursor = pg_connect()"
   ]
  },
  {
   "cell_type": "code",
   "outputs": [
    {
     "name": "stdout",
     "output_type": "stream",
     "text": [
      "              title\n",
      "0  Academy Dinosaur\n",
      "1    Ace Goldfinger\n",
      "2  Adaptation Holes\n",
      "3  Affair Prejudice\n",
      "4       African Egg\n"
     ]
    }
   ],
   "source": [
    "sql = \"\"\"\n",
    "SELECT f.title\n",
    "FROM film AS f\n",
    "ORDER BY f.title\n",
    "LIMIT 5;\n",
    "\"\"\"\n",
    "run_sql(cursor, sql)"
   ],
   "metadata": {
    "collapsed": false,
    "ExecuteTime": {
     "end_time": "2024-01-24T06:14:51.050149800Z",
     "start_time": "2024-01-24T06:14:51.012782800Z"
    }
   },
   "id": "989ef9575a9f6f7",
   "execution_count": 2
  },
  {
   "cell_type": "code",
   "outputs": [
    {
     "name": "stdout",
     "output_type": "stream",
     "text": [
      "       customer_id first_name amount               payment_date\n",
      "0               94      Norma   4.99 2007-05-14 13:44:29.996577\n",
      "1              264  Gwendolyn   2.99 2007-05-14 13:44:29.996577\n",
      "2              263      Hilda   0.99 2007-05-14 13:44:29.996577\n",
      "3              252     Mattie   4.99 2007-05-14 13:44:29.996577\n",
      "4              251     Vickie   0.99 2007-05-14 13:44:29.996577\n",
      "...            ...        ...    ...                        ...\n",
      "14591           49      Joyce   0.99 2007-02-14 21:44:52.996577\n",
      "14592          592   Terrance   6.99 2007-02-14 21:41:12.996577\n",
      "14593          239     Minnie   4.99 2007-02-14 21:29:00.996577\n",
      "14594          516      Elmer   4.99 2007-02-14 21:23:39.996577\n",
      "14595          416    Jeffery   2.99 2007-02-14 21:21:59.996577\n",
      "\n",
      "[14596 rows x 4 columns]\n"
     ]
    }
   ],
   "source": [
    "sql = \"\"\"\n",
    "SELECT \n",
    "  c.customer_id, \n",
    "  c.first_name, \n",
    "  p.amount, \n",
    "  p.payment_date \n",
    "FROM \n",
    "  customer c \n",
    "  INNER JOIN payment p ON p.customer_id = c.customer_id \n",
    "ORDER BY \n",
    "  p.payment_date DESC;\n",
    "\"\"\"\n",
    "run_sql(cursor, sql)"
   ],
   "metadata": {
    "collapsed": false,
    "ExecuteTime": {
     "end_time": "2024-01-24T06:15:19.120696Z",
     "start_time": "2024-01-24T06:15:19.042696500Z"
    }
   },
   "id": "d7e6198813790d33",
   "execution_count": 3
  },
  {
   "cell_type": "markdown",
   "source": [
    "# self-join\n",
    "\n",
    "self-join 时，需要用到表别名"
   ],
   "metadata": {
    "collapsed": false
   },
   "id": "6feb4c485e9defd8"
  },
  {
   "cell_type": "code",
   "outputs": [
    {
     "name": "stdout",
     "output_type": "stream",
     "text": [
      "      film_id             title                   title  length\n",
      "0         133   Chamber Italian  Resurrection Silverado     117\n",
      "1         133   Chamber Italian          Magic Mallrats     117\n",
      "2         133   Chamber Italian           Graffiti Love     117\n",
      "3         133   Chamber Italian        Affair Prejudice     117\n",
      "4         384  Grosse Wonderful        Hurricane Affair      49\n",
      "...       ...               ...                     ...     ...\n",
      "6967     1000         Zorro Ark             Muppet Mile      50\n",
      "6968     1000         Zorro Ark              Lion Uncut      50\n",
      "6969     1000         Zorro Ark        Crossing Divorce      50\n",
      "6970     1000         Zorro Ark          Blues Instinct      50\n",
      "6971     1000         Zorro Ark        Adaptation Holes      50\n",
      "\n",
      "[6972 rows x 4 columns]\n"
     ]
    }
   ],
   "source": [
    "sql = \"\"\"\n",
    "SELECT\n",
    "    f1.film_id,\n",
    "    f1.title,\n",
    "    f2.title,\n",
    "    f1.length\n",
    "FROM\n",
    "    film f1\n",
    "INNER JOIN film f2 \n",
    "    ON f1.film_id <> f2.film_id AND \n",
    "       f1.length = f2.length;\n",
    "\"\"\"\n",
    "run_sql(cursor, sql)"
   ],
   "metadata": {
    "collapsed": false,
    "ExecuteTime": {
     "end_time": "2024-01-24T06:23:38.680485500Z",
     "start_time": "2024-01-24T06:23:38.653486300Z"
    }
   },
   "id": "6f083e5c3f73a33d",
   "execution_count": 8
  }
 ],
 "metadata": {
  "kernelspec": {
   "display_name": "Python 3",
   "language": "python",
   "name": "python3"
  },
  "language_info": {
   "codemirror_mode": {
    "name": "ipython",
    "version": 2
   },
   "file_extension": ".py",
   "mimetype": "text/x-python",
   "name": "python",
   "nbconvert_exporter": "python",
   "pygments_lexer": "ipython2",
   "version": "2.7.6"
  }
 },
 "nbformat": 4,
 "nbformat_minor": 5
}
