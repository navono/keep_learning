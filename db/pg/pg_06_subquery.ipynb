{
 "cells": [
  {
   "cell_type": "markdown",
   "source": [
    "```\n",
    "SELECT \n",
    "  select_list \n",
    "FROM \n",
    "  table1 \n",
    "WHERE \n",
    "  columnA operator (\n",
    "    SELECT \n",
    "      columnB \n",
    "    from \n",
    "      table2 \n",
    "    WHERE \n",
    "      condition\n",
    "  );\n",
    "```"
   ],
   "metadata": {
    "collapsed": false
   },
   "id": "534db2541b5145c1"
  },
  {
   "cell_type": "code",
   "execution_count": 1,
   "id": "initial_id",
   "metadata": {
    "collapsed": true,
    "ExecuteTime": {
     "end_time": "2024-01-25T02:00:01.181555100Z",
     "start_time": "2024-01-25T02:00:00.592585800Z"
    }
   },
   "outputs": [
    {
     "name": "stdout",
     "output_type": "stream",
     "text": [
      "importing Jupyter notebook from E:\\sourcecode\\keep_learning\\db\\pg\\pg_00_common.ipynb\n"
     ]
    }
   ],
   "source": [
    "import common.ipynb_importer\n",
    "from db.pg.pg_00_common import *\n",
    "\n",
    "cursor = pg_connect()"
   ]
  },
  {
   "cell_type": "code",
   "outputs": [
    {
     "name": "stdout",
     "output_type": "stream",
     "text": [
      "   country_id\n",
      "0         103\n"
     ]
    }
   ],
   "source": [
    "sql = \"\"\"\n",
    "SELECT \n",
    "  country_id \n",
    "from \n",
    "  country \n",
    "where \n",
    "  country = 'United States';\n",
    "\"\"\"\n",
    "\n",
    "run_sql(cursor, sql)"
   ],
   "metadata": {
    "collapsed": false,
    "ExecuteTime": {
     "end_time": "2024-01-25T02:00:01.558320Z",
     "start_time": "2024-01-25T02:00:01.542062Z"
    }
   },
   "id": "4892db70d2e6329c",
   "execution_count": 2
  },
  {
   "cell_type": "code",
   "outputs": [
    {
     "name": "stdout",
     "output_type": "stream",
     "text": [
      "                       city\n",
      "0                     Akron\n",
      "1                 Arlington\n",
      "2   Augusta-Richmond County\n",
      "3                    Aurora\n",
      "4                  Bellevue\n",
      "5                  Brockton\n",
      "6                Cape Coral\n",
      "7            Citrus Heights\n",
      "8               Clarksville\n",
      "9                   Compton\n",
      "10                   Dallas\n",
      "11                   Dayton\n",
      "12                 El Monte\n",
      "13                  Fontana\n",
      "14             Garden Grove\n",
      "15                  Garland\n",
      "16            Grand Prairie\n",
      "17               Greensboro\n",
      "18                   Joliet\n",
      "19              Kansas City\n",
      "20                Lancaster\n",
      "21                   Laredo\n",
      "22                  Lincoln\n",
      "23               Manchester\n",
      "24                  Memphis\n",
      "25                   Peoria\n",
      "26                  Roanoke\n",
      "27                 Rockford\n",
      "28              Saint Louis\n",
      "29                  Salinas\n",
      "30           San Bernardino\n",
      "31         Sterling Heights\n",
      "32                Sunnyvale\n",
      "33              Tallahassee\n",
      "34                   Warren\n"
     ]
    }
   ],
   "source": [
    "sql = \"\"\"\n",
    "SELECT \n",
    "  city \n",
    "FROM \n",
    "  city \n",
    "WHERE \n",
    "  country_id = 103 \n",
    "ORDER BY \n",
    "  city;\n",
    "\"\"\"\n",
    "\n",
    "run_sql(cursor, sql)"
   ],
   "metadata": {
    "collapsed": false,
    "ExecuteTime": {
     "end_time": "2024-01-25T02:00:14.049455500Z",
     "start_time": "2024-01-25T02:00:14.030455900Z"
    }
   },
   "id": "26cfcee8790b7496",
   "execution_count": 3
  },
  {
   "cell_type": "code",
   "outputs": [
    {
     "name": "stdout",
     "output_type": "stream",
     "text": [
      "                       city\n",
      "0                     Akron\n",
      "1                 Arlington\n",
      "2   Augusta-Richmond County\n",
      "3                    Aurora\n",
      "4                  Bellevue\n",
      "5                  Brockton\n",
      "6                Cape Coral\n",
      "7            Citrus Heights\n",
      "8               Clarksville\n",
      "9                   Compton\n",
      "10                   Dallas\n",
      "11                   Dayton\n",
      "12                 El Monte\n",
      "13                  Fontana\n",
      "14             Garden Grove\n",
      "15                  Garland\n",
      "16            Grand Prairie\n",
      "17               Greensboro\n",
      "18                   Joliet\n",
      "19              Kansas City\n",
      "20                Lancaster\n",
      "21                   Laredo\n",
      "22                  Lincoln\n",
      "23               Manchester\n",
      "24                  Memphis\n",
      "25                   Peoria\n",
      "26                  Roanoke\n",
      "27                 Rockford\n",
      "28              Saint Louis\n",
      "29                  Salinas\n",
      "30           San Bernardino\n",
      "31         Sterling Heights\n",
      "32                Sunnyvale\n",
      "33              Tallahassee\n",
      "34                   Warren\n"
     ]
    }
   ],
   "source": [
    "# 将上述两个查询合二为一\n",
    "sql = \"\"\"\n",
    "SELECT \n",
    "  city \n",
    "FROM \n",
    "  city \n",
    "WHERE \n",
    "  country_id = (\n",
    "    SELECT \n",
    "      country_id \n",
    "    FROM \n",
    "      country \n",
    "    WHERE \n",
    "      country = 'United States'\n",
    "  ) \n",
    "ORDER BY \n",
    "  city;\n",
    "\"\"\"\n",
    "\n",
    "run_sql(cursor, sql)"
   ],
   "metadata": {
    "collapsed": false,
    "ExecuteTime": {
     "end_time": "2024-01-25T02:01:16.610444200Z",
     "start_time": "2024-01-25T02:01:16.602444900Z"
    }
   },
   "id": "2a9e6adc9319223f",
   "execution_count": 4
  },
  {
   "cell_type": "code",
   "outputs": [
    {
     "name": "stdout",
     "output_type": "stream",
     "text": [
      "    film_id\n",
      "0        19\n",
      "1        21\n",
      "2        29\n",
      "3        38\n",
      "4        56\n",
      "..      ...\n",
      "59      927\n",
      "60      964\n",
      "61      968\n",
      "62      982\n",
      "63      991\n",
      "\n",
      "[64 rows x 1 columns]\n"
     ]
    }
   ],
   "source": [
    "sql = \"\"\"\n",
    "SELECT \n",
    "  film_id \n",
    "FROM \n",
    "  film_category \n",
    "  INNER JOIN category USING(category_id) \n",
    "WHERE \n",
    "  name = 'Action';\n",
    "\"\"\"\n",
    "\n",
    "run_sql(cursor, sql)"
   ],
   "metadata": {
    "collapsed": false,
    "ExecuteTime": {
     "end_time": "2024-01-25T02:02:32.386524600Z",
     "start_time": "2024-01-25T02:02:32.366484700Z"
    }
   },
   "id": "87df42414cc20140",
   "execution_count": 5
  },
  {
   "cell_type": "code",
   "outputs": [
    {
     "name": "stdout",
     "output_type": "stream",
     "text": [
      "    film_id                   title\n",
      "0        19            Amadeus Holy\n",
      "1        21         American Circus\n",
      "2        29      Antitrust Tomatoes\n",
      "3        38           Ark Ridgemont\n",
      "4        56     Barefoot Manchurian\n",
      "..      ...                     ...\n",
      "59      927         Uprising Uptown\n",
      "60      964  Waterfront Deliverance\n",
      "61      968           Werewolf Lola\n",
      "62      982            Women Dorado\n",
      "63      991            Worst Banger\n",
      "\n",
      "[64 rows x 2 columns]\n"
     ]
    }
   ],
   "source": [
    "sql = \"\"\"\n",
    "SELECT \n",
    "  film_id, \n",
    "  title \n",
    "FROM \n",
    "  film \n",
    "WHERE \n",
    "  film_id IN (\n",
    "    SELECT \n",
    "      film_id \n",
    "    FROM \n",
    "      film_category \n",
    "      INNER JOIN category USING(category_id) \n",
    "    WHERE \n",
    "      name = 'Action'\n",
    "  ) \n",
    "ORDER BY \n",
    "  film_id;\n",
    "\"\"\"\n",
    "\n",
    "run_sql(cursor, sql)"
   ],
   "metadata": {
    "collapsed": false,
    "ExecuteTime": {
     "end_time": "2024-01-25T02:02:44.930056100Z",
     "start_time": "2024-01-25T02:02:44.904056Z"
    }
   },
   "id": "f00facfaca9045bf",
   "execution_count": 6
  }
 ],
 "metadata": {
  "kernelspec": {
   "display_name": "Python 3",
   "language": "python",
   "name": "python3"
  },
  "language_info": {
   "codemirror_mode": {
    "name": "ipython",
    "version": 2
   },
   "file_extension": ".py",
   "mimetype": "text/x-python",
   "name": "python",
   "nbconvert_exporter": "python",
   "pygments_lexer": "ipython2",
   "version": "2.7.6"
  }
 },
 "nbformat": 4,
 "nbformat_minor": 5
}
