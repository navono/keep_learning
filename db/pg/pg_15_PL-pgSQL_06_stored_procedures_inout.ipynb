{
 "cells": [
  {
   "cell_type": "code",
   "id": "initial_id",
   "metadata": {
    "collapsed": true,
    "ExecuteTime": {
     "end_time": "2024-04-09T00:24:04.080012Z",
     "start_time": "2024-04-09T00:24:03.626850Z"
    }
   },
   "source": [
    "import common.ipynb_importer\n",
    "from db.pg.pg_00_common import *\n",
    "\n",
    "cursor = pg_connect()"
   ],
   "outputs": [
    {
     "name": "stdout",
     "output_type": "stream",
     "text": [
      "importing Jupyter notebook from E:\\sourcecode\\keep_learning\\db\\pg\\pg_00_common.ipynb\n"
     ]
    }
   ],
   "execution_count": 1
  },
  {
   "metadata": {},
   "cell_type": "markdown",
   "source": [
    "# INOUT 参数\n",
    "\n",
    "语法\n",
    "```sql\n",
    "create or replace procedure sp_name(\n",
    "    inout parameter type, ...\n",
    ")\n",
    "as\n",
    "$$\n",
    "   -- body\n",
    "$$\n",
    "language plpgsql;\n",
    "```"
   ],
   "id": "49eb67ce0d793c84"
  },
  {
   "metadata": {
    "ExecuteTime": {
     "end_time": "2024-04-09T00:24:05.338723Z",
     "start_time": "2024-04-09T00:24:05.323380Z"
    }
   },
   "cell_type": "code",
   "source": [
    "sql = \"\"\"\n",
    "create or replace procedure count_film(\n",
    "    inout total_film int default 0\n",
    ") \n",
    "as \n",
    "$$\n",
    "begin\n",
    "    select count(*) from film\n",
    "    into total_film;\n",
    "end;\n",
    "$$\n",
    "language plpgsql;\n",
    "\"\"\"\n",
    "cursor.execute(sql)"
   ],
   "id": "d8d4ccb413dab5ed",
   "outputs": [
    {
     "data": {
      "text/plain": [
       "<psycopg.Cursor [COMMAND_OK] [INTRANS] (host=localhost user=postgres database=dvdrental) at 0x207f35c16f0>"
      ]
     },
     "execution_count": 2,
     "metadata": {},
     "output_type": "execute_result"
    }
   ],
   "execution_count": 2
  },
  {
   "metadata": {
    "ExecuteTime": {
     "end_time": "2024-04-09T00:24:08.440658Z",
     "start_time": "2024-04-09T00:24:08.422272Z"
    }
   },
   "cell_type": "code",
   "source": [
    "# 直接调用\n",
    "sql = \"\"\"\n",
    "call count_film(0);\n",
    "\"\"\"\n",
    "run_sql(cursor, sql)"
   ],
   "id": "434d82a07d515346",
   "outputs": [
    {
     "name": "stdout",
     "output_type": "stream",
     "text": [
      "   total_film\n",
      "0        1000\n"
     ]
    }
   ],
   "execution_count": 3
  },
  {
   "metadata": {
    "ExecuteTime": {
     "end_time": "2024-04-09T00:24:09.815046Z",
     "start_time": "2024-04-09T00:24:09.803593Z"
    }
   },
   "cell_type": "code",
   "source": [
    "# 在匿名块中调用\n",
    "sql = \"\"\"\n",
    "do\n",
    "$$\n",
    "declare\n",
    "   total_film int = 0;\n",
    "begin\n",
    "   call count_film(total_film);\n",
    "   raise notice 'Total film: %', total_film;\n",
    "end;\n",
    "$$;\n",
    "\"\"\"\n",
    "cursor.execute(sql)"
   ],
   "id": "7cbb0438083c99d7",
   "outputs": [
    {
     "name": "stdout",
     "output_type": "stream",
     "text": [
      "Total film: 1000\n"
     ]
    },
    {
     "data": {
      "text/plain": [
       "<psycopg.Cursor [COMMAND_OK] [INTRANS] (host=localhost user=postgres database=dvdrental) at 0x207f35c16f0>"
      ]
     },
     "execution_count": 4,
     "metadata": {},
     "output_type": "execute_result"
    }
   ],
   "execution_count": 4
  },
  {
   "metadata": {
    "ExecuteTime": {
     "end_time": "2024-04-09T00:24:51.672129Z",
     "start_time": "2024-04-09T00:24:51.664129Z"
    }
   },
   "cell_type": "code",
   "source": [
    "# 多个 INOUT 参数\n",
    "sql = \"\"\"\n",
    "create or replace procedure film_stat(\n",
    "   inout total_film int default 0,\n",
    "   inout total_length int default 0,\n",
    "   inout avg_rental_rate numeric(4,2) default 0\n",
    ")\n",
    "as\n",
    "$$\n",
    "begin\n",
    "  select count(*) into total_film\n",
    "  from film;\n",
    "  \n",
    "  select sum(length) into total_length\n",
    "  from film;\n",
    "  \n",
    "  select round(avg(rental_rate),2) into avg_rental_rate\n",
    "  from film;  \n",
    "end;\n",
    "$$\n",
    "language plpgsql;\n",
    "\"\"\"\n",
    "cursor.execute(sql)"
   ],
   "id": "284e845ed1342845",
   "outputs": [
    {
     "data": {
      "text/plain": [
       "<psycopg.Cursor [COMMAND_OK] [INTRANS] (host=localhost user=postgres database=dvdrental) at 0x207f35c16f0>"
      ]
     },
     "execution_count": 5,
     "metadata": {},
     "output_type": "execute_result"
    }
   ],
   "execution_count": 5
  },
  {
   "metadata": {
    "ExecuteTime": {
     "end_time": "2024-04-09T00:24:53.682504Z",
     "start_time": "2024-04-09T00:24:53.659501Z"
    }
   },
   "cell_type": "code",
   "source": [
    "# 直接调用\n",
    "sql = \"\"\"\n",
    "call film_stat();\n",
    "\"\"\"\n",
    "run_sql(cursor, sql)"
   ],
   "id": "9e9b7b626123fe12",
   "outputs": [
    {
     "name": "stdout",
     "output_type": "stream",
     "text": [
      "   total_film  total_length avg_rental_rate\n",
      "0        1000        115272            2.98\n"
     ]
    }
   ],
   "execution_count": 6
  }
 ],
 "metadata": {
  "kernelspec": {
   "display_name": "Python 3",
   "language": "python",
   "name": "python3"
  },
  "language_info": {
   "codemirror_mode": {
    "name": "ipython",
    "version": 2
   },
   "file_extension": ".py",
   "mimetype": "text/x-python",
   "name": "python",
   "nbconvert_exporter": "python",
   "pygments_lexer": "ipython2",
   "version": "2.7.6"
  }
 },
 "nbformat": 4,
 "nbformat_minor": 5
}
