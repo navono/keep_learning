{
 "cells": [
  {
   "cell_type": "markdown",
   "source": [
    "```\n",
    "SELECT\n",
    "   DISTINCT column1, column2\n",
    "FROM\n",
    "   table_name;\n",
    "```"
   ],
   "metadata": {
    "collapsed": false
   },
   "id": "6364a26a004f0f6a"
  },
  {
   "cell_type": "code",
   "outputs": [],
   "source": [
    "import common.ipynb_importer\n",
    "from db.pg.pg_00_common import *\n",
    "\n",
    "cursor = pg_connect()"
   ],
   "metadata": {
    "collapsed": false,
    "ExecuteTime": {
     "end_time": "2024-01-23T07:32:28.372072900Z",
     "start_time": "2024-01-23T07:32:28.354373500Z"
    }
   },
   "id": "83fdddf7cc23e0f5",
   "execution_count": 8
  },
  {
   "cell_type": "code",
   "outputs": [],
   "source": [
    "create_table_sql = \"\"\"\n",
    "CREATE TABLE distinct_demo (\n",
    "  id SERIAL NOT NULL PRIMARY KEY, \n",
    "  bcolor VARCHAR, \n",
    "  fcolor VARCHAR\n",
    ");\n",
    "\"\"\"\n",
    "insert_data_sql = \"\"\"\n",
    "INSERT INTO distinct_demo (bcolor, fcolor) \n",
    "VALUES \n",
    "  ('red', 'red'), \n",
    "  ('red', 'red'), \n",
    "  ('red', NULL), \n",
    "  (NULL, 'red'), \n",
    "  ('red', 'green'), \n",
    "  ('red', 'blue'), \n",
    "  ('green', 'red'), \n",
    "  ('green', 'blue'), \n",
    "  ('green', 'green'), \n",
    "  ('blue', 'red'), \n",
    "  ('blue', 'green'), \n",
    "  ('blue', 'blue');\n",
    "\"\"\""
   ],
   "metadata": {
    "collapsed": false,
    "ExecuteTime": {
     "end_time": "2024-01-23T07:31:08.701638600Z",
     "start_time": "2024-01-23T07:31:08.686636700Z"
    }
   },
   "id": "b972e5916a39d3ee",
   "execution_count": 3
  },
  {
   "cell_type": "code",
   "outputs": [
    {
     "data": {
      "text/plain": "<psycopg.Cursor [COMMAND_OK] [INTRANS] (host=localhost user=postgres database=dvdrental) at 0x21f053fa770>"
     },
     "execution_count": 4,
     "metadata": {},
     "output_type": "execute_result"
    }
   ],
   "source": [
    "# 创建一张新表\n",
    "cursor.execute(create_table_sql)\n",
    "\n",
    "# 插入点数据\n",
    "cursor.execute(insert_data_sql)"
   ],
   "metadata": {
    "collapsed": false,
    "ExecuteTime": {
     "end_time": "2024-01-23T07:31:10.734848700Z",
     "start_time": "2024-01-23T07:31:10.705341300Z"
    }
   },
   "id": "76cc6c2c95a24afc",
   "execution_count": 4
  },
  {
   "cell_type": "code",
   "outputs": [
    {
     "name": "stdout",
     "output_type": "stream",
     "text": [
      "    id bcolor fcolor\n",
      "0    1    red    red\n",
      "1    2    red    red\n",
      "2    3    red   None\n",
      "3    4   None    red\n",
      "4    5    red  green\n",
      "5    6    red   blue\n",
      "6    7  green    red\n",
      "7    8  green   blue\n",
      "8    9  green  green\n",
      "9   10   blue    red\n",
      "10  11   blue  green\n",
      "11  12   blue   blue\n"
     ]
    }
   ],
   "source": [
    "query_sql = \"\"\"\n",
    "SELECT \n",
    "  id, \n",
    "  bcolor, \n",
    "  fcolor \n",
    "FROM \n",
    "  distinct_demo;\n",
    "\"\"\"\n",
    "cursor.execute(query_sql)\n",
    "display_data(cursor)"
   ],
   "metadata": {
    "collapsed": false,
    "ExecuteTime": {
     "end_time": "2024-01-23T07:31:12.790190400Z",
     "start_time": "2024-01-23T07:31:12.767618400Z"
    }
   },
   "id": "7120f9e01c4b607c",
   "execution_count": 5
  },
  {
   "cell_type": "code",
   "outputs": [
    {
     "name": "stdout",
     "output_type": "stream",
     "text": [
      "  bcolor\n",
      "0   blue\n",
      "1  green\n",
      "2    red\n",
      "3   None\n"
     ]
    }
   ],
   "source": [
    "query_sql = \"\"\"\n",
    "SELECT \n",
    "  DISTINCT bcolor \n",
    "FROM \n",
    "  distinct_demo \n",
    "ORDER BY \n",
    "  bcolor;\n",
    "\"\"\"\n",
    "run_sql(cursor, query_sql)"
   ],
   "metadata": {
    "collapsed": false,
    "ExecuteTime": {
     "end_time": "2024-01-23T07:32:31.663289300Z",
     "start_time": "2024-01-23T07:32:31.646284100Z"
    }
   },
   "id": "fdde2e616ba8ebf4",
   "execution_count": 9
  }
 ],
 "metadata": {
  "kernelspec": {
   "display_name": "Python 3",
   "language": "python",
   "name": "python3"
  },
  "language_info": {
   "codemirror_mode": {
    "name": "ipython",
    "version": 2
   },
   "file_extension": ".py",
   "mimetype": "text/x-python",
   "name": "python",
   "nbconvert_exporter": "python",
   "pygments_lexer": "ipython2",
   "version": "2.7.6"
  }
 },
 "nbformat": 4,
 "nbformat_minor": 5
}
