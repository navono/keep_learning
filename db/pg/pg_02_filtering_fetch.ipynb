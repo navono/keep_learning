{
 "cells": [
  {
   "cell_type": "markdown",
   "source": [
    "```\n",
    "OFFSET row_to_skip { ROW | ROWS }\n",
    "FETCH { FIRST | NEXT } [ row_count ] { ROW | ROWS } ONLY\n",
    "```\n",
    "\n",
    "`FETCH` 与 `LIMIT` 唯一区别是：`LIMIT` 不是 SQL 标准，而 `FETCH` 是。"
   ],
   "metadata": {
    "collapsed": false
   },
   "id": "d7126266e99a010c"
  },
  {
   "cell_type": "code",
   "execution_count": 1,
   "id": "initial_id",
   "metadata": {
    "collapsed": true,
    "ExecuteTime": {
     "end_time": "2024-01-23T08:17:41.574487900Z",
     "start_time": "2024-01-23T08:17:41.069515400Z"
    }
   },
   "outputs": [],
   "source": [
    "import common.ipynb_importer\n",
    "from db.pg.pg_00_common import *\n",
    "\n",
    "cursor = pg_connect()"
   ]
  },
  {
   "cell_type": "code",
   "outputs": [
    {
     "name": "stdout",
     "output_type": "stream",
     "text": [
      "   film_id             title\n",
      "0        1  Academy Dinosaur\n"
     ]
    }
   ],
   "source": [
    "sql = \"\"\"\n",
    "SELECT\n",
    "    film_id,\n",
    "    title\n",
    "FROM\n",
    "    film\n",
    "ORDER BY\n",
    "    title \n",
    "FETCH FIRST ROW ONLY;\n",
    "\"\"\"\n",
    "\n",
    "run_sql(cursor, sql)"
   ],
   "metadata": {
    "collapsed": false,
    "ExecuteTime": {
     "end_time": "2024-01-23T08:17:42.340783500Z",
     "start_time": "2024-01-23T08:17:42.314455700Z"
    }
   },
   "id": "503ad84e83ec2edd",
   "execution_count": 2
  },
  {
   "cell_type": "code",
   "outputs": [
    {
     "name": "stdout",
     "output_type": "stream",
     "text": [
      "   film_id             title\n",
      "0        1  Academy Dinosaur\n",
      "1        2    Ace Goldfinger\n",
      "2        3  Adaptation Holes\n",
      "3        4  Affair Prejudice\n",
      "4        5       African Egg\n",
      "5        6      Agent Truman\n"
     ]
    }
   ],
   "source": [
    "sql = \"\"\"\n",
    "SELECT\n",
    "    film_id,\n",
    "    title\n",
    "FROM\n",
    "    film\n",
    "ORDER BY\n",
    "    title \n",
    "FETCH FIRST 6 ROW ONLY;\n",
    "\"\"\"\n",
    "\n",
    "run_sql(cursor, sql)"
   ],
   "metadata": {
    "collapsed": false,
    "ExecuteTime": {
     "end_time": "2024-01-23T08:18:27.798438500Z",
     "start_time": "2024-01-23T08:18:27.780438700Z"
    }
   },
   "id": "a42decc4ff84a5f",
   "execution_count": 5
  },
  {
   "cell_type": "code",
   "outputs": [
    {
     "name": "stdout",
     "output_type": "stream",
     "text": [
      "   film_id             title\n",
      "0        6      Agent Truman\n",
      "1        7   Airplane Sierra\n",
      "2        8   Airport Pollock\n",
      "3        9     Alabama Devil\n",
      "4       10  Aladdin Calendar\n"
     ]
    }
   ],
   "source": [
    "sql = \"\"\"\n",
    "SELECT\n",
    "    film_id,\n",
    "    title\n",
    "FROM\n",
    "    film\n",
    "ORDER BY\n",
    "    title \n",
    "OFFSET 5 ROWS \n",
    "FETCH FIRST 5 ROW ONLY; \n",
    "\"\"\"\n",
    "\n",
    "run_sql(cursor, sql)"
   ],
   "metadata": {
    "collapsed": false,
    "ExecuteTime": {
     "end_time": "2024-01-23T08:18:21.425333500Z",
     "start_time": "2024-01-23T08:18:21.395333400Z"
    }
   },
   "id": "bf2f05f7125911bb",
   "execution_count": 4
  }
 ],
 "metadata": {
  "kernelspec": {
   "display_name": "Python 3",
   "language": "python",
   "name": "python3"
  },
  "language_info": {
   "codemirror_mode": {
    "name": "ipython",
    "version": 2
   },
   "file_extension": ".py",
   "mimetype": "text/x-python",
   "name": "python",
   "nbconvert_exporter": "python",
   "pygments_lexer": "ipython2",
   "version": "2.7.6"
  }
 },
 "nbformat": 4,
 "nbformat_minor": 5
}
