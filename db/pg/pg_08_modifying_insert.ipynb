{
 "cells": [
  {
   "cell_type": "markdown",
   "source": [
    "```\n",
    "INSERT INTO table1(column1, column2, …)\n",
    "VALUES (value1, value2, …);\n",
    "```"
   ],
   "metadata": {
    "collapsed": false
   },
   "id": "a7f2813a2e7704b7"
  },
  {
   "cell_type": "code",
   "execution_count": 12,
   "id": "initial_id",
   "metadata": {
    "collapsed": true,
    "ExecuteTime": {
     "end_time": "2024-01-25T05:38:59.049849900Z",
     "start_time": "2024-01-25T05:38:59.009574400Z"
    }
   },
   "outputs": [],
   "source": [
    "import common.ipynb_importer\n",
    "from db.pg.pg_00_common import *\n",
    "\n",
    "cursor = pg_connect()"
   ]
  },
  {
   "cell_type": "code",
   "outputs": [
    {
     "data": {
      "text/plain": "<psycopg.Cursor [COMMAND_OK] [INTRANS] (host=localhost user=postgres database=dvdrental) at 0x2e4ace47cc0>"
     },
     "execution_count": 13,
     "metadata": {},
     "output_type": "execute_result"
    }
   ],
   "source": [
    "table_sql = \"\"\"\n",
    "CREATE TABLE links (\n",
    "  id SERIAL PRIMARY KEY, \n",
    "  url VARCHAR(255) NOT NULL, \n",
    "  name VARCHAR(255) NOT NULL, \n",
    "  description VARCHAR (255), \n",
    "  last_update DATE\n",
    ");\n",
    "\"\"\"\n",
    "\n",
    "cursor.execute(table_sql)"
   ],
   "metadata": {
    "collapsed": false,
    "ExecuteTime": {
     "end_time": "2024-01-25T05:39:00.388957700Z",
     "start_time": "2024-01-25T05:39:00.361958Z"
    }
   },
   "id": "da7226e298197b5d",
   "execution_count": 13
  },
  {
   "cell_type": "code",
   "outputs": [
    {
     "data": {
      "text/plain": "<psycopg.Cursor [COMMAND_OK] [INTRANS] (host=localhost user=postgres database=dvdrental) at 0x2e4acbd1a60>"
     },
     "execution_count": 4,
     "metadata": {},
     "output_type": "execute_result"
    }
   ],
   "source": [
    "insert_sql = \"\"\"\n",
    "INSERT INTO links (url, name)\n",
    "VALUES('https://www.postgresqltutorial.com','PostgreSQL Tutorial');\n",
    "\"\"\"\n",
    "\n",
    "cursor.execute(insert_sql)"
   ],
   "metadata": {
    "collapsed": false,
    "ExecuteTime": {
     "end_time": "2024-01-25T05:36:31.800106500Z",
     "start_time": "2024-01-25T05:36:31.795024400Z"
    }
   },
   "id": "f872b37ff99a02c9",
   "execution_count": 4
  },
  {
   "cell_type": "code",
   "outputs": [
    {
     "data": {
      "text/plain": "<psycopg.Cursor [COMMAND_OK] [INTRANS] (host=localhost user=postgres database=dvdrental) at 0x2e4acbd1a60>"
     },
     "execution_count": 5,
     "metadata": {},
     "output_type": "execute_result"
    }
   ],
   "source": [
    "insert_sql = \"\"\"\n",
    "INSERT INTO links (url, name, last_update)\n",
    "VALUES('https://www.google.com','Google','2013-06-01');\n",
    "\"\"\"\n",
    "\n",
    "cursor.execute(insert_sql)"
   ],
   "metadata": {
    "collapsed": false,
    "ExecuteTime": {
     "end_time": "2024-01-25T05:37:07.784242500Z",
     "start_time": "2024-01-25T05:37:07.773186100Z"
    }
   },
   "id": "9649511e5735b785",
   "execution_count": 5
  },
  {
   "cell_type": "code",
   "outputs": [
    {
     "name": "stdout",
     "output_type": "stream",
     "text": [
      "   id                                 url                 name description  \\\n",
      "0   1  https://www.postgresqltutorial.com  PostgreSQL Tutorial        None   \n",
      "1   2              https://www.google.com               Google        None   \n",
      "\n",
      "  last_update  \n",
      "0        None  \n",
      "1  2013-06-01  \n"
     ]
    }
   ],
   "source": [
    "sql = \"\"\"\n",
    "SELECT * FROM links;\n",
    "\"\"\"\n",
    "\n",
    "run_sql(cursor, sql)"
   ],
   "metadata": {
    "collapsed": false,
    "ExecuteTime": {
     "end_time": "2024-01-25T05:37:58.304157200Z",
     "start_time": "2024-01-25T05:37:58.286845400Z"
    }
   },
   "id": "d88b85e6772c8b31",
   "execution_count": 7
  },
  {
   "cell_type": "code",
   "outputs": [
    {
     "data": {
      "text/plain": "<psycopg.Cursor [COMMAND_OK] [INTRANS] (host=localhost user=postgres database=dvdrental) at 0x2e4ace47cc0>"
     },
     "execution_count": 14,
     "metadata": {},
     "output_type": "execute_result"
    }
   ],
   "source": [
    "insert_sql = \"\"\"\n",
    "INSERT INTO links (url, name, last_update)\n",
    "VALUES\n",
    "('https://www.google.com','Google','2013-06-01'),\n",
    "('https://www.google2.com','Google2','2013-06-02'),\n",
    "('https://www.google3.com','Google3','2013-06-03');\n",
    "\"\"\"\n",
    "\n",
    "cursor.execute(insert_sql)"
   ],
   "metadata": {
    "collapsed": false,
    "ExecuteTime": {
     "end_time": "2024-01-25T05:39:03.109509500Z",
     "start_time": "2024-01-25T05:39:03.093509800Z"
    }
   },
   "id": "fe88026b41ca06a4",
   "execution_count": 14
  },
  {
   "cell_type": "code",
   "outputs": [
    {
     "name": "stdout",
     "output_type": "stream",
     "text": [
      "   id                      url     name description last_update\n",
      "0   1   https://www.google.com   Google        None  2013-06-01\n",
      "1   2  https://www.google2.com  Google2        None  2013-06-02\n",
      "2   3  https://www.google3.com  Google3        None  2013-06-03\n"
     ]
    }
   ],
   "source": [
    "sql = \"\"\"\n",
    "SELECT * FROM links;\n",
    "\"\"\"\n",
    "\n",
    "run_sql(cursor, sql)"
   ],
   "metadata": {
    "collapsed": false,
    "ExecuteTime": {
     "end_time": "2024-01-25T05:39:10.550710600Z",
     "start_time": "2024-01-25T05:39:10.527788700Z"
    }
   },
   "id": "b1b71073c705d334",
   "execution_count": 15
  }
 ],
 "metadata": {
  "kernelspec": {
   "display_name": "Python 3",
   "language": "python",
   "name": "python3"
  },
  "language_info": {
   "codemirror_mode": {
    "name": "ipython",
    "version": 2
   },
   "file_extension": ".py",
   "mimetype": "text/x-python",
   "name": "python",
   "nbconvert_exporter": "python",
   "pygments_lexer": "ipython2",
   "version": "2.7.6"
  }
 },
 "nbformat": 4,
 "nbformat_minor": 5
}
