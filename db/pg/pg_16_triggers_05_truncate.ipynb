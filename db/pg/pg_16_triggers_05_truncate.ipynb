{
 "cells": [
  {
   "cell_type": "code",
   "id": "initial_id",
   "metadata": {
    "collapsed": true,
    "ExecuteTime": {
     "end_time": "2024-04-23T11:37:05.054137Z",
     "start_time": "2024-04-23T11:37:04.711763Z"
    }
   },
   "source": [
    "from common import *\n",
    "\n",
    "cursor = connect()"
   ],
   "outputs": [],
   "execution_count": 1
  },
  {
   "metadata": {},
   "cell_type": "markdown",
   "source": [
    "# TRUNCATE Trigger\n",
    "\n",
    "`TRUNCATE TABLE` 语句从表中删除所有内容而不创建任何日志，使其比 DELETE 操作更快。`BEFORE TRUNCATE` 触发器是语句级触发器，因为 `TRUNCATE` 语句从表中删除所有行，而不是单个行。尽管 `TRUNCATE` 操作从表中删除行，但它不会激活 `DELETE 触发器`，包括 `BEFORE` 和 `AFTER DELETE` 触发器。\n",
    "\n",
    "语法\n",
    "```\n",
    "CREATE TRIGGER trigger_name\n",
    "BEFORE TRUNCATE ON table_name\n",
    "FOR EACH STATEMENT\n",
    "EXECUTE FUNCTION trigger_function_name();\n",
    "```"
   ],
   "id": "745530303d5bb973"
  },
  {
   "metadata": {
    "ExecuteTime": {
     "end_time": "2024-04-23T11:37:06.602571Z",
     "start_time": "2024-04-23T11:37:06.583998Z"
    }
   },
   "cell_type": "code",
   "source": [
    "sql = \"\"\"\n",
    "CREATE TABLE companies(\n",
    "   id SERIAL PRIMARY KEY,\n",
    "   name VARCHAR(255) NOT NULL\n",
    ");\n",
    "\n",
    "INSERT INTO companies(name)\n",
    "VALUES ('Apple'),\n",
    "       ('Microsoft'), \n",
    "       ('Google')\n",
    "RETURNING *;\n",
    "\"\"\"\n",
    "cursor.execute(sql)"
   ],
   "id": "81b05c038a49112d",
   "outputs": [
    {
     "data": {
      "text/plain": [
       "<psycopg.Cursor [COMMAND_OK] [INTRANS] (host=localhost user=postgres database=dvdrental) at 0x275c3b7d3d0>"
      ]
     },
     "execution_count": 2,
     "metadata": {},
     "output_type": "execute_result"
    }
   ],
   "execution_count": 2
  },
  {
   "metadata": {
    "ExecuteTime": {
     "end_time": "2024-04-23T11:37:08.214576Z",
     "start_time": "2024-04-23T11:37:08.208636Z"
    }
   },
   "cell_type": "code",
   "source": [
    "sql = \"\"\"\n",
    "CREATE OR REPLACE FUNCTION before_truncate_companies()\n",
    "RETURNS TRIGGER AS\n",
    "$$\n",
    "BEGIN\n",
    "    RAISE NOTICE 'Truncating the companies table is not allowed';\n",
    "    RETURN NULL;\n",
    "END;\n",
    "$$\n",
    "LANGUAGE plpgsql;\n",
    "\n",
    "CREATE TRIGGER before_truncate_companies_trigger\n",
    "BEFORE TRUNCATE ON companies\n",
    "FOR EACH STATEMENT\n",
    "EXECUTE FUNCTION before_truncate_companies();\n",
    "\"\"\"\n",
    "cursor.execute(sql)"
   ],
   "id": "1ffb0440c904855f",
   "outputs": [
    {
     "data": {
      "text/plain": [
       "<psycopg.Cursor [COMMAND_OK] [INTRANS] (host=localhost user=postgres database=dvdrental) at 0x275c3b7d3d0>"
      ]
     },
     "execution_count": 3,
     "metadata": {},
     "output_type": "execute_result"
    }
   ],
   "execution_count": 3
  },
  {
   "metadata": {
    "ExecuteTime": {
     "end_time": "2024-04-23T11:37:10.019332Z",
     "start_time": "2024-04-23T11:37:10.007909Z"
    }
   },
   "cell_type": "code",
   "source": [
    "sql = \"\"\"\n",
    "TRUNCATE TABLE companies;\n",
    "\"\"\"\n",
    "try:\n",
    "    cursor.execute(sql)\n",
    "except Exception as e:\n",
    "    print(e)"
   ],
   "id": "82d476b9429ea607",
   "outputs": [
    {
     "name": "stdout",
     "output_type": "stream",
     "text": [
      "Truncating the companies table is not allowed\n"
     ]
    }
   ],
   "execution_count": 4
  }
 ],
 "metadata": {
  "kernelspec": {
   "display_name": "Python 3",
   "language": "python",
   "name": "python3"
  },
  "language_info": {
   "codemirror_mode": {
    "name": "ipython",
    "version": 2
   },
   "file_extension": ".py",
   "mimetype": "text/x-python",
   "name": "python",
   "nbconvert_exporter": "python",
   "pygments_lexer": "ipython2",
   "version": "2.7.6"
  }
 },
 "nbformat": 4,
 "nbformat_minor": 5
}
