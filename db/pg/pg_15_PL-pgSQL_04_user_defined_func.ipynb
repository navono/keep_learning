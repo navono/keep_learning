{
 "cells": [
  {
   "cell_type": "code",
   "id": "initial_id",
   "metadata": {
    "collapsed": true,
    "ExecuteTime": {
     "end_time": "2024-04-06T06:38:44.195558Z",
     "start_time": "2024-04-06T06:38:44.121180Z"
    }
   },
   "source": [
    "import common.ipynb_importer\n",
    "from db.pg.pg_00_common import *\n",
    "\n",
    "cursor = pg_connect()"
   ],
   "outputs": [],
   "execution_count": 20
  },
  {
   "metadata": {},
   "cell_type": "markdown",
   "source": [
    "# Create Function statement\n",
    "\n",
    "语法：\n",
    "```\n",
    "create [or replace] function function_name(param_list)\n",
    "   returns return_type \n",
    "   language plpgsql\n",
    "  as\n",
    "$$\n",
    "declare \n",
    "   -- variable declaration\n",
    "begin\n",
    "   -- logic\n",
    "end;\n",
    "$$;\n",
    "```"
   ],
   "id": "9f96ab04746a9380"
  },
  {
   "metadata": {
    "ExecuteTime": {
     "end_time": "2024-04-06T06:38:44.226453Z",
     "start_time": "2024-04-06T06:38:44.213094Z"
    }
   },
   "cell_type": "code",
   "source": [
    "sql = \"\"\"\n",
    "create function get_film_count(len_from int, len_to int)\n",
    "returns int\n",
    "language plpgsql\n",
    "as\n",
    "$$\n",
    "declare\n",
    "   film_count integer;\n",
    "begin\n",
    "   select count(*) \n",
    "   into film_count\n",
    "   from film\n",
    "   where length between len_from and len_to;\n",
    "   \n",
    "   return film_count;\n",
    "end;\n",
    "$$;\n",
    "\"\"\"\n",
    "cursor.execute(sql)"
   ],
   "id": "663adf2fd384be1f",
   "outputs": [
    {
     "data": {
      "text/plain": [
       "<psycopg.Cursor [COMMAND_OK] [INTRANS] (host=localhost user=postgres database=dvdrental) at 0x284f2d1df30>"
      ]
     },
     "execution_count": 21,
     "metadata": {},
     "output_type": "execute_result"
    }
   ],
   "execution_count": 21
  },
  {
   "metadata": {
    "ExecuteTime": {
     "end_time": "2024-04-06T06:38:44.319041Z",
     "start_time": "2024-04-06T06:38:44.297986Z"
    }
   },
   "cell_type": "code",
   "source": [
    "sql = \"\"\"\n",
    "select get_film_count(60, 90);\n",
    "\"\"\"\n",
    "run_sql(cursor, sql)"
   ],
   "id": "1672be454eaecf16",
   "outputs": [
    {
     "name": "stdout",
     "output_type": "stream",
     "text": [
      "   get_film_count\n",
      "0             229\n"
     ]
    }
   ],
   "execution_count": 22
  },
  {
   "metadata": {
    "ExecuteTime": {
     "end_time": "2024-04-06T06:38:44.366213Z",
     "start_time": "2024-04-06T06:38:44.346101Z"
    }
   },
   "cell_type": "code",
   "source": [
    "sql = \"\"\"\n",
    "select get_film_count(\n",
    "    len_from => 40, \n",
    "     len_to => 90\n",
    ");\n",
    "\"\"\"\n",
    "run_sql(cursor, sql)"
   ],
   "id": "b5928871e51457a1",
   "outputs": [
    {
     "name": "stdout",
     "output_type": "stream",
     "text": [
      "   get_film_count\n",
      "0             325\n"
     ]
    }
   ],
   "execution_count": 23
  },
  {
   "metadata": {},
   "cell_type": "markdown",
   "source": [
    "## Function Parameter Modes\n",
    "\n",
    "- IN: 默认模式，传入参数的值不会被函数改变\n",
    "- OUT: 传出参数，函数可以改变传入参数的值\n",
    "- INOUT: 传入传出参数，函数可以改变传入参数的值"
   ],
   "id": "33a3a39055b2de42"
  },
  {
   "metadata": {
    "ExecuteTime": {
     "end_time": "2024-04-06T06:38:44.397064Z",
     "start_time": "2024-04-06T06:38:44.375244Z"
    }
   },
   "cell_type": "code",
   "source": [
    "# IN 模式\n",
    "sql = \"\"\"\n",
    "create or replace function find_film_by_id(p_film_id int)\n",
    "returns varchar\n",
    "language plpgsql\n",
    "as $$\n",
    "declare\n",
    "   film_title film.title%type;\n",
    "begin\n",
    "  -- find film title by id\n",
    "  select title \n",
    "  into film_title\n",
    "  from film\n",
    "  where film_id = p_film_id;\n",
    "  \n",
    "  if not found then\n",
    "     raise 'Film with id % not found', p_film_id;\n",
    "  end if;\n",
    "  \n",
    "  return film_title;\n",
    "end;$$\n",
    "\"\"\"\n",
    "cursor.execute(sql)"
   ],
   "id": "9662b4b12c81890",
   "outputs": [
    {
     "data": {
      "text/plain": [
       "<psycopg.Cursor [COMMAND_OK] [INTRANS] (host=localhost user=postgres database=dvdrental) at 0x284f2d1df30>"
      ]
     },
     "execution_count": 24,
     "metadata": {},
     "output_type": "execute_result"
    }
   ],
   "execution_count": 24
  },
  {
   "metadata": {
    "ExecuteTime": {
     "end_time": "2024-04-06T06:38:44.443659Z",
     "start_time": "2024-04-06T06:38:44.432627Z"
    }
   },
   "cell_type": "code",
   "source": [
    "sql = \"\"\"\n",
    "select * from find_film_by_id(1);\n",
    "\"\"\"\n",
    "run_sql(cursor, sql)"
   ],
   "id": "c8f9c9a8750da8d6",
   "outputs": [
    {
     "name": "stdout",
     "output_type": "stream",
     "text": [
      "    find_film_by_id\n",
      "0  Academy Dinosaur\n"
     ]
    }
   ],
   "execution_count": 25
  },
  {
   "metadata": {
    "ExecuteTime": {
     "end_time": "2024-04-06T06:38:44.475557Z",
     "start_time": "2024-04-06T06:38:44.465738Z"
    }
   },
   "cell_type": "code",
   "source": [
    "# OUT 模式\n",
    "sql = \"\"\"\n",
    "create or replace function get_film_stat(\n",
    "    out min_len int,\n",
    "    out max_len int,\n",
    "    out avg_len numeric) \n",
    "language plpgsql\n",
    "as $$\n",
    "begin\n",
    "  \n",
    "  select min(length),\n",
    "         max(length),\n",
    "\t\t avg(length)::numeric(5,1)\n",
    "  into min_len, max_len, avg_len\n",
    "  from film;\n",
    "\n",
    "end;$$\n",
    "\"\"\"\n",
    "cursor.execute(sql)"
   ],
   "id": "ce33b5473a4f732b",
   "outputs": [
    {
     "data": {
      "text/plain": [
       "<psycopg.Cursor [COMMAND_OK] [INTRANS] (host=localhost user=postgres database=dvdrental) at 0x284f2d1df30>"
      ]
     },
     "execution_count": 26,
     "metadata": {},
     "output_type": "execute_result"
    }
   ],
   "execution_count": 26
  },
  {
   "metadata": {
    "ExecuteTime": {
     "end_time": "2024-04-06T06:38:44.521075Z",
     "start_time": "2024-04-06T06:38:44.510339Z"
    }
   },
   "cell_type": "code",
   "source": [
    "sql = \"\"\"\n",
    "select * from get_film_stat();\n",
    "\"\"\"\n",
    "run_sql(cursor, sql)"
   ],
   "id": "436f5a2dae9f9bca",
   "outputs": [
    {
     "name": "stdout",
     "output_type": "stream",
     "text": [
      "   min_len  max_len avg_len\n",
      "0       46      185   115.3\n"
     ]
    }
   ],
   "execution_count": 27
  },
  {
   "metadata": {
    "ExecuteTime": {
     "end_time": "2024-04-06T06:40:04.413598Z",
     "start_time": "2024-04-06T06:40:04.393451Z"
    }
   },
   "cell_type": "code",
   "source": [
    "# INOUT 模式\n",
    "sql = \"\"\"\n",
    "create or replace function swap(\n",
    "\tinout x int,\n",
    "\tinout y int\n",
    ") \n",
    "language plpgsql\t\n",
    "as $$\n",
    "begin\n",
    "   select x,y into y,x;\n",
    "end; $$;\n",
    "\"\"\"\n",
    "cursor.execute(sql)"
   ],
   "id": "abcf9b65950f8d96",
   "outputs": [
    {
     "data": {
      "text/plain": [
       "<psycopg.Cursor [COMMAND_OK] [INTRANS] (host=localhost user=postgres database=dvdrental) at 0x284f2d1df30>"
      ]
     },
     "execution_count": 28,
     "metadata": {},
     "output_type": "execute_result"
    }
   ],
   "execution_count": 28
  },
  {
   "metadata": {
    "ExecuteTime": {
     "end_time": "2024-04-06T06:40:08.496104Z",
     "start_time": "2024-04-06T06:40:08.487584Z"
    }
   },
   "cell_type": "code",
   "source": [
    "sql = \"\"\"\n",
    "select * from swap(10,20);\n",
    "\"\"\"\n",
    "run_sql(cursor, sql)"
   ],
   "id": "d8fa5f336b4e275d",
   "outputs": [
    {
     "name": "stdout",
     "output_type": "stream",
     "text": [
      "    x   y\n",
      "0  20  10\n"
     ]
    }
   ],
   "execution_count": 29
  },
  {
   "metadata": {},
   "cell_type": "markdown",
   "source": [
    "## Function Overloading\n",
    "\n",
    "函数重载是指在同一个schema中，可以定义多个同名函数，只要函数的参数列表不同即可。"
   ],
   "id": "58ada617c1147e94"
  },
  {
   "metadata": {
    "ExecuteTime": {
     "end_time": "2024-04-06T06:43:12.443740Z",
     "start_time": "2024-04-06T06:43:12.426333Z"
    }
   },
   "cell_type": "code",
   "source": [
    "sql = \"\"\"\n",
    "create or replace function get_rental_duration(\n",
    "\tp_customer_id integer\n",
    ")\n",
    "returns integer \n",
    "language plpgsql\n",
    "as $$\n",
    "declare \n",
    "\trental_duration integer; \n",
    "begin\n",
    "\tselect \n",
    "\t\tsum( extract(day from return_date - rental_date)) \n",
    "\tinto rental_duration \n",
    "    from rental \n",
    "\twhere customer_id = p_customer_id;\n",
    "\n",
    "\treturn rental_duration;\n",
    "end; $$\n",
    "\"\"\"\n",
    "cursor.execute(sql)"
   ],
   "id": "80528bc221b3fa5d",
   "outputs": [
    {
     "data": {
      "text/plain": [
       "<psycopg.Cursor [COMMAND_OK] [INTRANS] (host=localhost user=postgres database=dvdrental) at 0x284f2d1df30>"
      ]
     },
     "execution_count": 30,
     "metadata": {},
     "output_type": "execute_result"
    }
   ],
   "execution_count": 30
  },
  {
   "metadata": {
    "ExecuteTime": {
     "end_time": "2024-04-06T06:43:32.718194Z",
     "start_time": "2024-04-06T06:43:32.692186Z"
    }
   },
   "cell_type": "code",
   "source": [
    "sql = \"\"\"\n",
    "SELECT get_rental_duration(232);\n",
    "\"\"\"\n",
    "run_sql(cursor, sql)"
   ],
   "id": "3b60a985ee5131d0",
   "outputs": [
    {
     "name": "stdout",
     "output_type": "stream",
     "text": [
      "   get_rental_duration\n",
      "0                   90\n"
     ]
    }
   ],
   "execution_count": 31
  },
  {
   "metadata": {
    "ExecuteTime": {
     "end_time": "2024-04-06T06:46:04.192072Z",
     "start_time": "2024-04-06T06:46:04.179873Z"
    }
   },
   "cell_type": "code",
   "source": [
    "sql = \"\"\"\n",
    "create or replace function get_rental_duration(\n",
    "\tp_customer_id integer, \n",
    "\tp_from_date date\n",
    ")\n",
    "returns integer \n",
    "language plpgsql\n",
    "as $$\n",
    "declare \n",
    "\trental_duration integer;\n",
    "begin\n",
    "\t-- get the rental duration based on customer_id \n",
    "\t-- and rental date\n",
    "\tselect sum( extract( day from return_date + '12:00:00' - rental_date)) \n",
    "\tinto rental_duration\n",
    "\tfrom rental \n",
    "\twhere customer_id = p_customer_id and \n",
    "\t\t  rental_date >= p_from_date;\n",
    "\t\n",
    "\t-- return the rental duration in days\n",
    "\treturn rental_duration;\n",
    "end; $$\n",
    "\"\"\"\n",
    "cursor.execute(sql)"
   ],
   "id": "ea0543723184c11c",
   "outputs": [
    {
     "data": {
      "text/plain": [
       "<psycopg.Cursor [COMMAND_OK] [INTRANS] (host=localhost user=postgres database=dvdrental) at 0x284f2d1df30>"
      ]
     },
     "execution_count": 32,
     "metadata": {},
     "output_type": "execute_result"
    }
   ],
   "execution_count": 32
  },
  {
   "metadata": {
    "ExecuteTime": {
     "end_time": "2024-04-06T06:46:14.304807Z",
     "start_time": "2024-04-06T06:46:14.289143Z"
    }
   },
   "cell_type": "code",
   "source": [
    "sql = \"\"\"\n",
    "SELECT get_rental_duration(232,'2005-07-01');\n",
    "\"\"\"\n",
    "run_sql(cursor, sql)"
   ],
   "id": "cbd57d3e737d2f11",
   "outputs": [
    {
     "name": "stdout",
     "output_type": "stream",
     "text": [
      "   get_rental_duration\n",
      "0                   85\n"
     ]
    }
   ],
   "execution_count": 33
  },
  {
   "metadata": {
    "ExecuteTime": {
     "end_time": "2024-04-06T06:48:08.482335Z",
     "start_time": "2024-04-06T06:48:08.470155Z"
    }
   },
   "cell_type": "code",
   "source": [
    "sql = \"\"\"\n",
    "create or replace function get_rental_duration(\n",
    "\tp_customer_id integer, \n",
    "\tp_from_date date default '2005-01-01'\n",
    ")\n",
    "returns integer\n",
    "language plpgsql\n",
    "as $$\n",
    "declare \n",
    "\trental_duration integer;\n",
    "begin\n",
    "\tselect sum( \n",
    "\t\textract( day from return_date + '12:00:00' - rental_date)\n",
    "\t) \n",
    "\tinto rental_duration\n",
    "\tfrom rental \n",
    "\twhere customer_id= p_customer_id and \n",
    "\t\t  rental_date >= p_from_date;\n",
    "\t \n",
    "\treturn rental_duration;\n",
    "\n",
    "end; $$\n",
    "\"\"\"\n",
    "cursor.execute(sql)"
   ],
   "id": "27ff2dbd1cc2d512",
   "outputs": [
    {
     "data": {
      "text/plain": [
       "<psycopg.Cursor [COMMAND_OK] [INTRANS] (host=localhost user=postgres database=dvdrental) at 0x284f2d1df30>"
      ]
     },
     "execution_count": 34,
     "metadata": {},
     "output_type": "execute_result"
    }
   ],
   "execution_count": 34
  },
  {
   "metadata": {
    "ExecuteTime": {
     "end_time": "2024-04-06T06:48:10.904922Z",
     "start_time": "2024-04-06T06:48:10.821153Z"
    }
   },
   "cell_type": "code",
   "source": [
    "sql = \"\"\"\n",
    "SELECT get_rental_duration(232);\n",
    "\"\"\"\n",
    "run_sql(cursor, sql)"
   ],
   "id": "32050529d24fb657",
   "outputs": [
    {
     "ename": "AmbiguousFunction",
     "evalue": "函数 get_rental_duration(integer) 不是唯一的\nLINE 2: SELECT get_rental_duration(232);\n               ^\nHINT:  无法选择最佳候选函数. 你也许需要增加明确的类型转换.",
     "output_type": "error",
     "traceback": [
      "\u001B[1;31m---------------------------------------------------------------------------\u001B[0m",
      "\u001B[1;31mAmbiguousFunction\u001B[0m                         Traceback (most recent call last)",
      "Cell \u001B[1;32mIn[35], line 4\u001B[0m\n\u001B[0;32m      1\u001B[0m sql \u001B[38;5;241m=\u001B[39m \u001B[38;5;124m\"\"\"\u001B[39m\n\u001B[0;32m      2\u001B[0m \u001B[38;5;124mSELECT get_rental_duration(232);\u001B[39m\n\u001B[0;32m      3\u001B[0m \u001B[38;5;124m\"\"\"\u001B[39m\n\u001B[1;32m----> 4\u001B[0m \u001B[43mrun_sql\u001B[49m\u001B[43m(\u001B[49m\u001B[43mcursor\u001B[49m\u001B[43m,\u001B[49m\u001B[43m \u001B[49m\u001B[43msql\u001B[49m\u001B[43m)\u001B[49m\n",
      "File \u001B[1;32m<string>:2\u001B[0m, in \u001B[0;36mrun_sql\u001B[1;34m(cursor, sql_stat)\u001B[0m\n",
      "File \u001B[1;32m~\\.conda\\envs\\learning\\lib\\site-packages\\psycopg\\cursor.py:732\u001B[0m, in \u001B[0;36mCursor.execute\u001B[1;34m(self, query, params, prepare, binary)\u001B[0m\n\u001B[0;32m    728\u001B[0m         \u001B[38;5;28mself\u001B[39m\u001B[38;5;241m.\u001B[39m_conn\u001B[38;5;241m.\u001B[39mwait(\n\u001B[0;32m    729\u001B[0m             \u001B[38;5;28mself\u001B[39m\u001B[38;5;241m.\u001B[39m_execute_gen(query, params, prepare\u001B[38;5;241m=\u001B[39mprepare, binary\u001B[38;5;241m=\u001B[39mbinary)\n\u001B[0;32m    730\u001B[0m         )\n\u001B[0;32m    731\u001B[0m \u001B[38;5;28;01mexcept\u001B[39;00m e\u001B[38;5;241m.\u001B[39m_NO_TRACEBACK \u001B[38;5;28;01mas\u001B[39;00m ex:\n\u001B[1;32m--> 732\u001B[0m     \u001B[38;5;28;01mraise\u001B[39;00m ex\u001B[38;5;241m.\u001B[39mwith_traceback(\u001B[38;5;28;01mNone\u001B[39;00m)\n\u001B[0;32m    733\u001B[0m \u001B[38;5;28;01mreturn\u001B[39;00m \u001B[38;5;28mself\u001B[39m\n",
      "\u001B[1;31mAmbiguousFunction\u001B[0m: 函数 get_rental_duration(integer) 不是唯一的\nLINE 2: SELECT get_rental_duration(232);\n               ^\nHINT:  无法选择最佳候选函数. 你也许需要增加明确的类型转换."
     ]
    }
   ],
   "execution_count": 35
  }
 ],
 "metadata": {
  "kernelspec": {
   "display_name": "Python 3",
   "language": "python",
   "name": "python3"
  },
  "language_info": {
   "codemirror_mode": {
    "name": "ipython",
    "version": 2
   },
   "file_extension": ".py",
   "mimetype": "text/x-python",
   "name": "python",
   "nbconvert_exporter": "python",
   "pygments_lexer": "ipython2",
   "version": "2.7.6"
  }
 },
 "nbformat": 4,
 "nbformat_minor": 5
}
