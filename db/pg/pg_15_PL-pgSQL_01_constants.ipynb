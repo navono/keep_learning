{
 "cells": [
  {
   "cell_type": "markdown",
   "source": [
    "# 常量\n",
    "\n",
    "定义：\n",
    "```\n",
    "constant_name constant data_type = expression;\n",
    "```"
   ],
   "metadata": {
    "collapsed": false
   },
   "id": "de52fad540a7572a"
  },
  {
   "cell_type": "code",
   "execution_count": 5,
   "id": "initial_id",
   "metadata": {
    "collapsed": true,
    "ExecuteTime": {
     "end_time": "2024-04-02T00:22:11.308041Z",
     "start_time": "2024-04-02T00:22:11.273293Z"
    }
   },
   "outputs": [],
   "source": [
    "import common.ipynb_importer\n",
    "from db.pg.pg_00_common import *\n",
    "\n",
    "cursor = pg_connect()"
   ]
  },
  {
   "cell_type": "code",
   "outputs": [
    {
     "name": "stdout",
     "output_type": "stream",
     "text": [
      "The selling price is 22.55\n"
     ]
    },
    {
     "data": {
      "text/plain": "<psycopg.Cursor [COMMAND_OK] [INTRANS] (host=localhost user=postgres database=dvdrental) at 0x153e3c856f0>"
     },
     "execution_count": 2,
     "metadata": {},
     "output_type": "execute_result"
    }
   ],
   "source": [
    "sql = \"\"\"\n",
    "do $$ \n",
    "declare\n",
    "   vat constant numeric = 0.1;\n",
    "   net_price    numeric = 20.5;\n",
    "begin\n",
    "   raise notice 'The selling price is %', net_price * ( 1 + vat );\n",
    "end $$;\n",
    "\"\"\"\n",
    "cursor.execute(sql)"
   ],
   "metadata": {
    "collapsed": false,
    "ExecuteTime": {
     "end_time": "2024-04-02T00:20:53.412056Z",
     "start_time": "2024-04-02T00:20:53.395797Z"
    }
   },
   "id": "a96f2a8928d973c",
   "execution_count": 2
  },
  {
   "cell_type": "code",
   "outputs": [
    {
     "ename": "ErrorInAssignment",
     "evalue": "变量\"vat\"被声明为常量\nLINE 8:    vat = 0.05; -- error\n           ^",
     "output_type": "error",
     "traceback": [
      "\u001B[1;31m---------------------------------------------------------------------------\u001B[0m",
      "\u001B[1;31mErrorInAssignment\u001B[0m                         Traceback (most recent call last)",
      "Cell \u001B[1;32mIn[3], line 12\u001B[0m\n\u001B[0;32m      1\u001B[0m \u001B[38;5;66;03m# try to modify the constant\u001B[39;00m\n\u001B[0;32m      2\u001B[0m sql \u001B[38;5;241m=\u001B[39m \u001B[38;5;124m\"\"\"\u001B[39m\n\u001B[0;32m      3\u001B[0m \u001B[38;5;124mdo $$ \u001B[39m\n\u001B[0;32m      4\u001B[0m \u001B[38;5;124mdeclare\u001B[39m\n\u001B[1;32m   (...)\u001B[0m\n\u001B[0;32m     10\u001B[0m \u001B[38;5;124mend $$;\u001B[39m\n\u001B[0;32m     11\u001B[0m \u001B[38;5;124m\"\"\"\u001B[39m\n\u001B[1;32m---> 12\u001B[0m \u001B[43mcursor\u001B[49m\u001B[38;5;241;43m.\u001B[39;49m\u001B[43mexecute\u001B[49m\u001B[43m(\u001B[49m\u001B[43msql\u001B[49m\u001B[43m)\u001B[49m\n",
      "File \u001B[1;32m~\\.conda\\envs\\learning\\lib\\site-packages\\psycopg\\cursor.py:732\u001B[0m, in \u001B[0;36mCursor.execute\u001B[1;34m(self, query, params, prepare, binary)\u001B[0m\n\u001B[0;32m    728\u001B[0m         \u001B[38;5;28mself\u001B[39m\u001B[38;5;241m.\u001B[39m_conn\u001B[38;5;241m.\u001B[39mwait(\n\u001B[0;32m    729\u001B[0m             \u001B[38;5;28mself\u001B[39m\u001B[38;5;241m.\u001B[39m_execute_gen(query, params, prepare\u001B[38;5;241m=\u001B[39mprepare, binary\u001B[38;5;241m=\u001B[39mbinary)\n\u001B[0;32m    730\u001B[0m         )\n\u001B[0;32m    731\u001B[0m \u001B[38;5;28;01mexcept\u001B[39;00m e\u001B[38;5;241m.\u001B[39m_NO_TRACEBACK \u001B[38;5;28;01mas\u001B[39;00m ex:\n\u001B[1;32m--> 732\u001B[0m     \u001B[38;5;28;01mraise\u001B[39;00m ex\u001B[38;5;241m.\u001B[39mwith_traceback(\u001B[38;5;28;01mNone\u001B[39;00m)\n\u001B[0;32m    733\u001B[0m \u001B[38;5;28;01mreturn\u001B[39;00m \u001B[38;5;28mself\u001B[39m\n",
      "\u001B[1;31mErrorInAssignment\u001B[0m: 变量\"vat\"被声明为常量\nLINE 8:    vat = 0.05; -- error\n           ^"
     ]
    }
   ],
   "source": [
    "# try to modify the constant\n",
    "sql = \"\"\"\n",
    "do $$ \n",
    "declare\n",
    "   vat constant numeric = 0.1;\n",
    "   net_price    numeric = 20.5;\n",
    "begin \n",
    "   raise notice 'The selling price is %', net_price * ( 1 + vat);\n",
    "   vat = 0.05; -- error\n",
    "end $$;\n",
    "\"\"\"\n",
    "cursor.execute(sql)"
   ],
   "metadata": {
    "collapsed": false,
    "ExecuteTime": {
     "end_time": "2024-04-02T00:21:40.272176Z",
     "start_time": "2024-04-02T00:21:40.002391Z"
    }
   },
   "id": "987ca97636af4afc",
   "execution_count": 3
  },
  {
   "cell_type": "code",
   "outputs": [
    {
     "name": "stdout",
     "output_type": "stream",
     "text": [
      "3s later\n",
      "Current time: 2024-04-02 08:22:17.276631+08\n",
      "Started at: 08:22:14.2682\n"
     ]
    },
    {
     "data": {
      "text/plain": "<psycopg.Cursor [COMMAND_OK] [INTRANS] (host=localhost user=postgres database=dvdrental) at 0x153e52c96f0>"
     },
     "execution_count": 6,
     "metadata": {},
     "output_type": "execute_result"
    }
   ],
   "source": [
    "# 常量类型变量是在运行期计算的\n",
    "sql = \"\"\"\n",
    "do $$ \n",
    "declare\n",
    "   started_at constant time := clock_timestamp();\n",
    "begin\n",
    "   -- pause 3s\n",
    "   perform pg_sleep(3);\n",
    "   \n",
    "   -- show the current time\n",
    "   raise notice '3s later';\n",
    "   raise notice 'Current time: %', clock_timestamp();\n",
    "   \n",
    "   -- pause 3s\n",
    "   perform pg_sleep(3);\n",
    "   -- show the value of the started_at\n",
    "   -- later than the one above\n",
    "   raise notice 'Started at: %', started_at; \n",
    "end $$;\n",
    "\"\"\"\n",
    "cursor.execute(sql)"
   ],
   "metadata": {
    "collapsed": false,
    "ExecuteTime": {
     "end_time": "2024-04-02T00:22:20.315973Z",
     "start_time": "2024-04-02T00:22:14.264194Z"
    }
   },
   "id": "ac6c808f4be2fd86",
   "execution_count": 6
  }
 ],
 "metadata": {
  "kernelspec": {
   "display_name": "Python 3",
   "language": "python",
   "name": "python3"
  },
  "language_info": {
   "codemirror_mode": {
    "name": "ipython",
    "version": 2
   },
   "file_extension": ".py",
   "mimetype": "text/x-python",
   "name": "python",
   "nbconvert_exporter": "python",
   "pygments_lexer": "ipython2",
   "version": "2.7.6"
  }
 },
 "nbformat": 4,
 "nbformat_minor": 5
}
