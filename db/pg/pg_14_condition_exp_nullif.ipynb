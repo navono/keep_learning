{
 "cells": [
  {
   "cell_type": "markdown",
   "source": [
    "`nullif` 函数的作用是将两个参数进行比较，如果两个参数相等，则返回 `null`，否则返回第一个参数。"
   ],
   "metadata": {
    "collapsed": false
   },
   "id": "55b3d8f1737d2072"
  },
  {
   "cell_type": "code",
   "execution_count": 19,
   "id": "initial_id",
   "metadata": {
    "collapsed": true,
    "ExecuteTime": {
     "end_time": "2024-03-25T11:57:25.805494Z",
     "start_time": "2024-03-25T11:57:25.750375Z"
    }
   },
   "outputs": [],
   "source": [
    "import common.ipynb_importer\n",
    "from db.pg.pg_00_common import *\n",
    "\n",
    "cursor = pg_connect()"
   ]
  },
  {
   "cell_type": "code",
   "outputs": [
    {
     "data": {
      "text/plain": "<psycopg.Cursor [COMMAND_OK] [INTRANS] (host=localhost user=postgres database=dvdrental) at 0x293fc9c4880>"
     },
     "execution_count": 3,
     "metadata": {},
     "output_type": "execute_result"
    }
   ],
   "source": [
    "sql = \"\"\"\n",
    "CREATE TABLE posts (\n",
    "  id serial primary key, \n",
    "  title VARCHAR (255) NOT NULL, \n",
    "  excerpt VARCHAR (150), \n",
    "  body TEXT, \n",
    "  created_at TIMESTAMP DEFAULT CURRENT_TIMESTAMP, \n",
    "  updated_at TIMESTAMP\n",
    ");\n",
    "\n",
    "INSERT INTO posts (title, excerpt, body)\n",
    "VALUES\n",
    "      ('test post 1','test post excerpt 1','test post body 1'),\n",
    "      ('test post 2','','test post body 2'),\n",
    "      ('test post 3', null ,'test post body 3')\n",
    "RETURNING *;\n",
    "\"\"\"\n",
    "cursor.execute(sql)"
   ],
   "metadata": {
    "collapsed": false,
    "ExecuteTime": {
     "end_time": "2024-03-25T11:54:33.548958Z",
     "start_time": "2024-03-25T11:54:33.518967Z"
    }
   },
   "id": "1cedc4f40ac3962e",
   "execution_count": 3
  },
  {
   "cell_type": "code",
   "outputs": [
    {
     "name": "stdout",
     "output_type": "stream",
     "text": [
      "   id        title             coalesce\n",
      "0   1  test post 1  test post excerpt 1\n",
      "1   2  test post 2                     \n",
      "2   3  test post 3     test post body 3\n"
     ]
    }
   ],
   "source": [
    "sql = \"\"\"\n",
    "SELECT \n",
    "  id, \n",
    "  title, \n",
    "  COALESCE (\n",
    "    excerpt, \n",
    "    LEFT(body, 40)\n",
    "  ) \n",
    "FROM \n",
    "  posts;\n",
    "\"\"\"\n",
    "run_sql(cursor, sql)\n",
    "\n",
    "# excerpt 中既有 null，又有空字符串，可以使用 nullif 函数将其转换为 null"
   ],
   "metadata": {
    "collapsed": false,
    "ExecuteTime": {
     "end_time": "2024-03-25T11:54:35.407164Z",
     "start_time": "2024-03-25T11:54:35.390165Z"
    }
   },
   "id": "c6f624c7f74fb0c9",
   "execution_count": 4
  },
  {
   "cell_type": "code",
   "outputs": [
    {
     "name": "stdout",
     "output_type": "stream",
     "text": [
      "   id        title             coalesce\n",
      "0   1  test post 1  test post excerpt 1\n",
      "1   2  test post 2     test post body 2\n",
      "2   3  test post 3     test post body 3\n"
     ]
    }
   ],
   "source": [
    "sql = \"\"\"\n",
    "SELECT \n",
    "  id, \n",
    "  title, \n",
    "  COALESCE (\n",
    "    NULLIF (excerpt, ''), \n",
    "    LEFT (body, 40)\n",
    "  ) \n",
    "FROM \n",
    "  posts;\n",
    "\"\"\"\n",
    "run_sql(cursor, sql)"
   ],
   "metadata": {
    "collapsed": false,
    "ExecuteTime": {
     "end_time": "2024-03-25T11:54:37.268001Z",
     "start_time": "2024-03-25T11:54:37.261781Z"
    }
   },
   "id": "e1f784293e27a95b",
   "execution_count": 5
  },
  {
   "cell_type": "markdown",
   "source": [
    "`nullif` 防止除零错误"
   ],
   "metadata": {
    "collapsed": false
   },
   "id": "dd3bb45ecf46079a"
  },
  {
   "cell_type": "code",
   "outputs": [
    {
     "name": "stdout",
     "output_type": "stream",
     "text": [
      "   id first_name last_name  gender\n",
      "0   1       John       Doe       1\n",
      "1   2      David      Dave       1\n",
      "2   3       Bush      Lily       2\n"
     ]
    }
   ],
   "source": [
    "sql = \"\"\"\n",
    "CREATE TABLE members (\n",
    "  id serial PRIMARY KEY, \n",
    "  first_name VARCHAR (50) NOT NULL, \n",
    "  last_name VARCHAR (50) NOT NULL, \n",
    "  gender SMALLINT NOT NULL -- 1: male, 2 female\n",
    ");\n",
    "\n",
    "INSERT INTO members (first_name, last_name, gender) \n",
    "VALUES \n",
    "  ('John', 'Doe', 1), \n",
    "  ('David', 'Dave', 1), \n",
    "  ('Bush', 'Lily', 2);\n",
    "\"\"\"\n",
    "cursor.execute(sql)\n",
    "\n",
    "sql = \"\"\"\n",
    "SELECT * from members;\n",
    "\"\"\"\n",
    "run_sql(cursor, sql)"
   ],
   "metadata": {
    "collapsed": false,
    "ExecuteTime": {
     "end_time": "2024-03-25T11:57:34.880964Z",
     "start_time": "2024-03-25T11:57:34.861700Z"
    }
   },
   "id": "47da69dd20c42ff2",
   "execution_count": 20
  },
  {
   "cell_type": "code",
   "outputs": [
    {
     "name": "stdout",
     "output_type": "stream",
     "text": [
      "   Male/Female ratio\n",
      "0                200\n"
     ]
    }
   ],
   "source": [
    "# 计算男女比例\n",
    "sql = \"\"\"\n",
    "SELECT \n",
    "  (\n",
    "    SUM (CASE WHEN gender = 1 THEN 1 ELSE 0 END) / SUM (CASE WHEN gender = 2 THEN 1 ELSE 0 END)\n",
    "  ) * 100 AS \"Male/Female ratio\" \n",
    "FROM \n",
    "  members;\n",
    "\"\"\"\n",
    "run_sql(cursor, sql)"
   ],
   "metadata": {
    "collapsed": false,
    "ExecuteTime": {
     "end_time": "2024-03-25T11:56:05.661343Z",
     "start_time": "2024-03-25T11:56:05.641221Z"
    }
   },
   "id": "73816304021ed074",
   "execution_count": 15
  },
  {
   "cell_type": "code",
   "outputs": [
    {
     "data": {
      "text/plain": "<psycopg.Cursor [COMMAND_OK] [INTRANS] (host=localhost user=postgres database=dvdrental) at 0x293fc6000f0>"
     },
     "execution_count": 21,
     "metadata": {},
     "output_type": "execute_result"
    }
   ],
   "source": [
    "# 删除女性成员\n",
    "# 计算男女比例\n",
    "sql = \"\"\"\n",
    "DELETE FROM members \n",
    "WHERE gender = 2;\n",
    "\"\"\"\n",
    "cursor.execute(sql)"
   ],
   "metadata": {
    "collapsed": false,
    "ExecuteTime": {
     "end_time": "2024-03-25T11:57:39.579373Z",
     "start_time": "2024-03-25T11:57:39.573272Z"
    }
   },
   "id": "37e789d79148be54",
   "execution_count": 21
  },
  {
   "cell_type": "code",
   "outputs": [
    {
     "ename": "DivisionByZero",
     "evalue": "除以零",
     "output_type": "error",
     "traceback": [
      "\u001B[1;31m---------------------------------------------------------------------------\u001B[0m",
      "\u001B[1;31mDivisionByZero\u001B[0m                            Traceback (most recent call last)",
      "Cell \u001B[1;32mIn[17], line 10\u001B[0m\n\u001B[0;32m      1\u001B[0m \u001B[38;5;66;03m# 计算男女比例\u001B[39;00m\n\u001B[0;32m      2\u001B[0m sql \u001B[38;5;241m=\u001B[39m \u001B[38;5;124m\"\"\"\u001B[39m\n\u001B[0;32m      3\u001B[0m \u001B[38;5;124mSELECT \u001B[39m\n\u001B[0;32m      4\u001B[0m \u001B[38;5;124m  (\u001B[39m\n\u001B[1;32m   (...)\u001B[0m\n\u001B[0;32m      8\u001B[0m \u001B[38;5;124m  members;\u001B[39m\n\u001B[0;32m      9\u001B[0m \u001B[38;5;124m\"\"\"\u001B[39m\n\u001B[1;32m---> 10\u001B[0m \u001B[43mrun_sql\u001B[49m\u001B[43m(\u001B[49m\u001B[43mcursor\u001B[49m\u001B[43m,\u001B[49m\u001B[43m \u001B[49m\u001B[43msql\u001B[49m\u001B[43m)\u001B[49m\n",
      "File \u001B[1;32m<string>:2\u001B[0m, in \u001B[0;36mrun_sql\u001B[1;34m(cursor, sql_stat)\u001B[0m\n",
      "File \u001B[1;32m~\\.conda\\envs\\learning\\lib\\site-packages\\psycopg\\cursor.py:732\u001B[0m, in \u001B[0;36mCursor.execute\u001B[1;34m(self, query, params, prepare, binary)\u001B[0m\n\u001B[0;32m    728\u001B[0m         \u001B[38;5;28mself\u001B[39m\u001B[38;5;241m.\u001B[39m_conn\u001B[38;5;241m.\u001B[39mwait(\n\u001B[0;32m    729\u001B[0m             \u001B[38;5;28mself\u001B[39m\u001B[38;5;241m.\u001B[39m_execute_gen(query, params, prepare\u001B[38;5;241m=\u001B[39mprepare, binary\u001B[38;5;241m=\u001B[39mbinary)\n\u001B[0;32m    730\u001B[0m         )\n\u001B[0;32m    731\u001B[0m \u001B[38;5;28;01mexcept\u001B[39;00m e\u001B[38;5;241m.\u001B[39m_NO_TRACEBACK \u001B[38;5;28;01mas\u001B[39;00m ex:\n\u001B[1;32m--> 732\u001B[0m     \u001B[38;5;28;01mraise\u001B[39;00m ex\u001B[38;5;241m.\u001B[39mwith_traceback(\u001B[38;5;28;01mNone\u001B[39;00m)\n\u001B[0;32m    733\u001B[0m \u001B[38;5;28;01mreturn\u001B[39;00m \u001B[38;5;28mself\u001B[39m\n",
      "\u001B[1;31mDivisionByZero\u001B[0m: 除以零"
     ]
    }
   ],
   "source": [
    "# 计算男女比例\n",
    "sql = \"\"\"\n",
    "SELECT \n",
    "  (\n",
    "    SUM (CASE WHEN gender = 1 THEN 1 ELSE 0 END) / SUM (CASE WHEN gender = 2 THEN 1 ELSE 0 END)\n",
    "  ) * 100 AS \"Male/Female ratio\" \n",
    "FROM \n",
    "  members;\n",
    "\"\"\"\n",
    "run_sql(cursor, sql)\n",
    "\n",
    "#　产生除零错误"
   ],
   "metadata": {
    "collapsed": false,
    "ExecuteTime": {
     "end_time": "2024-03-25T11:56:53.403295Z",
     "start_time": "2024-03-25T11:56:53.370296Z"
    }
   },
   "id": "633ea29f8e57fb54",
   "execution_count": 17
  },
  {
   "cell_type": "code",
   "outputs": [
    {
     "name": "stdout",
     "output_type": "stream",
     "text": [
      "  Male/Female ratio\n",
      "0              None\n"
     ]
    }
   ],
   "source": [
    "# 计算男女比例\n",
    "sql = \"\"\"\n",
    "SELECT \n",
    "  (\n",
    "    SUM (CASE WHEN gender = 1 THEN 1 ELSE 0 END) / NULLIF (\n",
    "      SUM (CASE WHEN gender = 2 THEN 1 ELSE 0 END), \n",
    "      0\n",
    "    )\n",
    "  ) * 100 AS \"Male/Female ratio\" \n",
    "FROM \n",
    "  members;\n",
    "\"\"\"\n",
    "run_sql(cursor, sql)\n"
   ],
   "metadata": {
    "collapsed": false,
    "ExecuteTime": {
     "end_time": "2024-03-25T11:57:43.918081Z",
     "start_time": "2024-03-25T11:57:43.900080Z"
    }
   },
   "id": "2034142b46bfd906",
   "execution_count": 22
  }
 ],
 "metadata": {
  "kernelspec": {
   "display_name": "Python 3",
   "language": "python",
   "name": "python3"
  },
  "language_info": {
   "codemirror_mode": {
    "name": "ipython",
    "version": 2
   },
   "file_extension": ".py",
   "mimetype": "text/x-python",
   "name": "python",
   "nbconvert_exporter": "python",
   "pygments_lexer": "ipython2",
   "version": "2.7.6"
  }
 },
 "nbformat": 4,
 "nbformat_minor": 5
}
