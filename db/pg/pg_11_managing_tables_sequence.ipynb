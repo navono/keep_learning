{
 "cells": [
  {
   "cell_type": "markdown",
   "source": [
    "根据定义，序列是整数的有序列表。\n",
    "\n",
    "```\n",
    "CREATE SEQUENCE [ IF NOT EXISTS ] sequence_name\n",
    "    [ AS { SMALLINT | INT | BIGINT } ]\n",
    "    [ INCREMENT [ BY ] increment ]\n",
    "    [ MINVALUE minvalue | NO MINVALUE ] \n",
    "    [ MAXVALUE maxvalue | NO MAXVALUE ]\n",
    "    [ START [ WITH ] start ] \n",
    "    [ CACHE cache ] \n",
    "    [ [ NO ] CYCLE ]\n",
    "    [ OWNED BY { table_name.column_name | NONE } ]\n",
    "```"
   ],
   "metadata": {
    "collapsed": false
   },
   "id": "4656b26cced15428"
  },
  {
   "cell_type": "code",
   "execution_count": 1,
   "id": "initial_id",
   "metadata": {
    "collapsed": true,
    "ExecuteTime": {
     "end_time": "2024-01-30T00:30:15.982798100Z",
     "start_time": "2024-01-30T00:30:15.531926800Z"
    }
   },
   "outputs": [
    {
     "name": "stdout",
     "output_type": "stream",
     "text": [
      "importing Jupyter notebook from E:\\sourcecode\\keep_learning\\db\\pg\\pg_00_common.ipynb\n"
     ]
    }
   ],
   "source": [
    "import common.ipynb_importer\n",
    "from db.pg.pg_00_common import *\n",
    "\n",
    "cursor = pg_connect()"
   ]
  },
  {
   "cell_type": "code",
   "outputs": [
    {
     "data": {
      "text/plain": "<psycopg.Cursor [COMMAND_OK] [INTRANS] (host=localhost user=postgres database=dvdrental) at 0x2394ffa7740>"
     },
     "execution_count": 3,
     "metadata": {},
     "output_type": "execute_result"
    }
   ],
   "source": [
    "sql = \"\"\"\n",
    "CREATE SEQUENCE mysequence\n",
    "INCREMENT 5\n",
    "START 100;\n",
    "\"\"\"\n",
    "\n",
    "cursor.execute(sql)"
   ],
   "metadata": {
    "collapsed": false,
    "ExecuteTime": {
     "end_time": "2024-01-30T00:27:37.428913400Z",
     "start_time": "2024-01-30T00:27:37.414207500Z"
    }
   },
   "id": "5a26797d79719dbb",
   "execution_count": 3
  },
  {
   "cell_type": "code",
   "outputs": [
    {
     "name": "stdout",
     "output_type": "stream",
     "text": [
      "   nextval\n",
      "0      100\n"
     ]
    }
   ],
   "source": [
    "sql = \"\"\"\n",
    "SELECT nextval('mysequence');\n",
    "\"\"\"\n",
    "\n",
    "run_sql(cursor, sql)"
   ],
   "metadata": {
    "collapsed": false,
    "ExecuteTime": {
     "end_time": "2024-01-30T00:27:38.579792600Z",
     "start_time": "2024-01-30T00:27:38.548637700Z"
    }
   },
   "id": "1b927c0eb33243bb",
   "execution_count": 4
  },
  {
   "cell_type": "code",
   "outputs": [
    {
     "name": "stdout",
     "output_type": "stream",
     "text": [
      "   nextval\n",
      "0      105\n"
     ]
    }
   ],
   "source": [
    "sql = \"\"\"\n",
    "SELECT nextval('mysequence');\n",
    "\"\"\"\n",
    "\n",
    "run_sql(cursor, sql)"
   ],
   "metadata": {
    "collapsed": false,
    "ExecuteTime": {
     "end_time": "2024-01-30T00:27:45.171078300Z",
     "start_time": "2024-01-30T00:27:45.137612Z"
    }
   },
   "id": "e36a171c1b08bba4",
   "execution_count": 5
  },
  {
   "cell_type": "code",
   "outputs": [
    {
     "data": {
      "text/plain": "<psycopg.Cursor [COMMAND_OK] [INTRANS] (host=localhost user=postgres database=dvdrental) at 0x1a3dacd2c40>"
     },
     "execution_count": 2,
     "metadata": {},
     "output_type": "execute_result"
    }
   ],
   "source": [
    "sql = \"\"\"\n",
    "CREATE SEQUENCE three\n",
    "INCREMENT -1\n",
    "MINVALUE 1 \n",
    "MAXVALUE 3\n",
    "START 3\n",
    "CYCLE;\n",
    "\"\"\"\n",
    "\n",
    "cursor.execute(sql)"
   ],
   "metadata": {
    "collapsed": false,
    "ExecuteTime": {
     "end_time": "2024-01-30T00:30:18.970527600Z",
     "start_time": "2024-01-30T00:30:18.959728200Z"
    }
   },
   "id": "731458bc21d92cd9",
   "execution_count": 2
  },
  {
   "cell_type": "code",
   "outputs": [
    {
     "name": "stdout",
     "output_type": "stream",
     "text": [
      "   nextval\n",
      "0        3\n"
     ]
    }
   ],
   "source": [
    "sql = \"\"\"\n",
    "SELECT nextval('three');\n",
    "\"\"\"\n",
    "\n",
    "run_sql(cursor, sql)"
   ],
   "metadata": {
    "collapsed": false,
    "ExecuteTime": {
     "end_time": "2024-01-30T00:30:20.421385800Z",
     "start_time": "2024-01-30T00:30:20.410948Z"
    }
   },
   "id": "16cc0c7ed2ff731b",
   "execution_count": 3
  },
  {
   "cell_type": "code",
   "outputs": [
    {
     "name": "stdout",
     "output_type": "stream",
     "text": [
      "   nextval\n",
      "0        2\n"
     ]
    }
   ],
   "source": [
    "sql = \"\"\"\n",
    "SELECT nextval('three');\n",
    "SELECT nextval('three');\n",
    "SELECT nextval('three');\n",
    "\"\"\"\n",
    "\n",
    "run_sql(cursor, sql)"
   ],
   "metadata": {
    "collapsed": false,
    "ExecuteTime": {
     "end_time": "2024-01-30T00:31:35.009684700Z",
     "start_time": "2024-01-30T00:31:34.989488900Z"
    }
   },
   "id": "4545ea5b2cf87821",
   "execution_count": 9
  },
  {
   "cell_type": "markdown",
   "source": [
    "# 创建与表列关联的序列"
   ],
   "metadata": {
    "collapsed": false
   },
   "id": "51cf4de9fbdb8256"
  },
  {
   "cell_type": "code",
   "outputs": [
    {
     "data": {
      "text/plain": "<psycopg.Cursor [COMMAND_OK] [INTRANS] (host=localhost user=postgres database=dvdrental) at 0x1a3dacd2c40>"
     },
     "execution_count": 10,
     "metadata": {},
     "output_type": "execute_result"
    }
   ],
   "source": [
    "sql = \"\"\"\n",
    "CREATE TABLE order_details(\n",
    "    order_id SERIAL,\n",
    "    item_id INT NOT NULL,\n",
    "    item_text VARCHAR NOT NULL,\n",
    "    price DEC(10,2) NOT NULL,\n",
    "    PRIMARY KEY(order_id, item_id)\n",
    ");\n",
    "\n",
    "CREATE SEQUENCE order_item_id\n",
    "START 10\n",
    "INCREMENT 10\n",
    "MINVALUE 10\n",
    "OWNED BY order_details.item_id;\n",
    "\n",
    "INSERT INTO \n",
    "    order_details(order_id, item_id, item_text, price)\n",
    "VALUES\n",
    "    (100, nextval('order_item_id'),'DVD Player',100),\n",
    "    (100, nextval('order_item_id'),'Android TV',550),\n",
    "    (100, nextval('order_item_id'),'Speaker',250);\n",
    "\"\"\"\n",
    "\n",
    "cursor.execute(sql)"
   ],
   "metadata": {
    "collapsed": false,
    "ExecuteTime": {
     "end_time": "2024-01-30T00:35:38.106122400Z",
     "start_time": "2024-01-30T00:35:38.074243400Z"
    }
   },
   "id": "f9ba335453684cda",
   "execution_count": 10
  },
  {
   "cell_type": "code",
   "outputs": [
    {
     "name": "stdout",
     "output_type": "stream",
     "text": [
      "   order_id  item_id   item_text   price\n",
      "0       100       10  DVD Player  100.00\n",
      "1       100       20  Android TV  550.00\n",
      "2       100       30     Speaker  250.00\n"
     ]
    }
   ],
   "source": [
    "sql = \"\"\"\n",
    "SELECT\n",
    "    order_id,\n",
    "    item_id,\n",
    "    item_text,\n",
    "    price\n",
    "FROM\n",
    "    order_details;  \n",
    "\"\"\"\n",
    "\n",
    "run_sql(cursor, sql)"
   ],
   "metadata": {
    "collapsed": false,
    "ExecuteTime": {
     "end_time": "2024-01-30T00:35:40.086860600Z",
     "start_time": "2024-01-30T00:35:40.060848Z"
    }
   },
   "id": "8870eb0dfc904ae3",
   "execution_count": 11
  },
  {
   "cell_type": "code",
   "outputs": [
    {
     "name": "stdout",
     "output_type": "stream",
     "text": [
      "                 sequence_name\n",
      "0     customer_customer_id_seq\n",
      "1           actor_actor_id_seq\n",
      "2     category_category_id_seq\n",
      "3             film_film_id_seq\n",
      "4       address_address_id_seq\n",
      "5             city_city_id_seq\n",
      "6       country_country_id_seq\n",
      "7   inventory_inventory_id_seq\n",
      "8     language_language_id_seq\n",
      "9       payment_payment_id_seq\n",
      "10        rental_rental_id_seq\n",
      "11          staff_staff_id_seq\n",
      "12          store_store_id_seq\n",
      "13                       three\n",
      "14  order_details_order_id_seq\n",
      "15               order_item_id\n",
      "16             accounts_id_seq\n"
     ]
    }
   ],
   "source": [
    "# 列出数据库中的所有序列\n",
    "sql = \"\"\"\n",
    "SELECT\n",
    "    relname sequence_name\n",
    "FROM \n",
    "    pg_class \n",
    "WHERE \n",
    "    relkind = 'S';\n",
    "\"\"\"\n",
    "\n",
    "run_sql(cursor, sql)"
   ],
   "metadata": {
    "collapsed": false,
    "ExecuteTime": {
     "end_time": "2024-01-30T00:38:07.524546300Z",
     "start_time": "2024-01-30T00:38:07.513900900Z"
    }
   },
   "id": "50ca75f15b0aa38f",
   "execution_count": 12
  },
  {
   "cell_type": "markdown",
   "source": [
    "# 删除序列\n",
    "\n",
    "```\n",
    "DROP SEQUENCE [ IF EXISTS ] sequence_name [, ...] \n",
    "[ CASCADE | RESTRICT ];\n",
    "```"
   ],
   "metadata": {
    "collapsed": false
   },
   "id": "efbc84898e542814"
  },
  {
   "cell_type": "code",
   "outputs": [],
   "source": [
    "# 删除表后会自动删除与之关联的序列 order_item_id \n",
    "sql = \"\"\"\n",
    "DROP TABLE order_details;\n",
    "\"\"\"\n",
    "\n",
    "run_sql(cursor, sql)"
   ],
   "metadata": {
    "collapsed": false
   },
   "id": "f71bc8e172f35d20"
  }
 ],
 "metadata": {
  "kernelspec": {
   "display_name": "Python 3",
   "language": "python",
   "name": "python3"
  },
  "language_info": {
   "codemirror_mode": {
    "name": "ipython",
    "version": 2
   },
   "file_extension": ".py",
   "mimetype": "text/x-python",
   "name": "python",
   "nbconvert_exporter": "python",
   "pygments_lexer": "ipython2",
   "version": "2.7.6"
  }
 },
 "nbformat": 4,
 "nbformat_minor": 5
}
