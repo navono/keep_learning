{
 "cells": [
  {
   "cell_type": "markdown",
   "source": [
    " a correlated subquery is a subquery that references the columns from the outer query.\n",
    " \n",
    "由于 PostgreSQL 会重新评估外部查询中每一行的相关子查询，因此在大规模数据集的情况下可能会导致性能问题。"
   ],
   "metadata": {
    "collapsed": false
   },
   "id": "4f5cfa4ff7d6d2ff"
  },
  {
   "cell_type": "code",
   "execution_count": 1,
   "id": "initial_id",
   "metadata": {
    "collapsed": true,
    "ExecuteTime": {
     "end_time": "2024-01-25T02:06:18.998234200Z",
     "start_time": "2024-01-25T02:06:18.567639200Z"
    }
   },
   "outputs": [
    {
     "name": "stdout",
     "output_type": "stream",
     "text": [
      "importing Jupyter notebook from E:\\sourcecode\\keep_learning\\db\\pg\\pg_00_common.ipynb\n"
     ]
    }
   ],
   "source": [
    "import common.ipynb_importer\n",
    "from db.pg.pg_00_common import *\n",
    "\n",
    "cursor = pg_connect()"
   ]
  },
  {
   "cell_type": "code",
   "outputs": [
    {
     "name": "stdout",
     "output_type": "stream",
     "text": [
      "     film_id             title  length rating\n",
      "0        133   Chamber Italian     117  NC-17\n",
      "1          4  Affair Prejudice     117      G\n",
      "2          5       African Egg     130      G\n",
      "3          6      Agent Truman     169     PG\n",
      "4         11   Alamo Videotape     126      G\n",
      "..       ...               ...     ...    ...\n",
      "492      991      Worst Banger     185     PG\n",
      "493      992        Wrath Mile     176  NC-17\n",
      "494      993    Wrong Behavior     178  PG-13\n",
      "495      996    Young Language     183      G\n",
      "496      997        Youth Kick     179  NC-17\n",
      "\n",
      "[497 rows x 4 columns]\n"
     ]
    }
   ],
   "source": [
    "sql = \"\"\"\n",
    "SELECT film_id, title, length, rating\n",
    "FROM film f\n",
    "WHERE length > (\n",
    "    SELECT AVG(length)\n",
    "    FROM film\n",
    "    WHERE rating = f.rating\n",
    ");\n",
    "\"\"\"\n",
    "\n",
    "run_sql(cursor, sql)"
   ],
   "metadata": {
    "collapsed": false,
    "ExecuteTime": {
     "end_time": "2024-01-25T02:06:19.707913400Z",
     "start_time": "2024-01-25T02:06:19.624281600Z"
    }
   },
   "id": "5ff92dd2354e67af",
   "execution_count": 2
  }
 ],
 "metadata": {
  "kernelspec": {
   "display_name": "Python 3",
   "language": "python",
   "name": "python3"
  },
  "language_info": {
   "codemirror_mode": {
    "name": "ipython",
    "version": 2
   },
   "file_extension": ".py",
   "mimetype": "text/x-python",
   "name": "python",
   "nbconvert_exporter": "python",
   "pygments_lexer": "ipython2",
   "version": "2.7.6"
  }
 },
 "nbformat": 4,
 "nbformat_minor": 5
}
