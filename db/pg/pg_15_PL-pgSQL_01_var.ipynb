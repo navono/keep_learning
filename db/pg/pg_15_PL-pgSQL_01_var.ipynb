{
 "cells": [
  {
   "cell_type": "markdown",
   "source": [
    "# 变量\n",
    "\n",
    "声明变量的语法：\n",
    "```\n",
    "variable_name data_type [= expression];\n",
    "```"
   ],
   "metadata": {
    "collapsed": false
   },
   "id": "53b7f7cf980e4114"
  },
  {
   "cell_type": "code",
   "execution_count": 1,
   "id": "initial_id",
   "metadata": {
    "collapsed": true,
    "ExecuteTime": {
     "end_time": "2024-04-01T23:54:04.417726Z",
     "start_time": "2024-04-01T23:54:03.236073Z"
    }
   },
   "outputs": [
    {
     "name": "stdout",
     "output_type": "stream",
     "text": [
      "importing Jupyter notebook from E:\\sourcecode\\keep_learning\\db\\pg\\pg_00_common.ipynb\n"
     ]
    }
   ],
   "source": [
    "import common.ipynb_importer\n",
    "from db.pg.pg_00_common import *\n",
    "\n",
    "cursor = pg_connect()"
   ]
  },
  {
   "cell_type": "code",
   "outputs": [
    {
     "name": "stdout",
     "output_type": "stream",
     "text": [
      "1 John Doe has been paid 20.50 USD\n"
     ]
    },
    {
     "data": {
      "text/plain": "<psycopg.Cursor [COMMAND_OK] [INTRANS] (host=localhost user=postgres database=dvdrental) at 0x25775f457a0>"
     },
     "execution_count": 2,
     "metadata": {},
     "output_type": "execute_result"
    }
   ],
   "source": [
    "# 声明变量\n",
    "sql = \"\"\"\n",
    "do $$ \n",
    "declare\n",
    "   counter    integer = 1;\n",
    "   first_name varchar(50) = 'John';\n",
    "   last_name  varchar(50) = 'Doe';\n",
    "   payment    numeric(11,2) = 20.5;\n",
    "begin \n",
    "   raise notice '% % % has been paid % USD', \n",
    "       counter, \n",
    "\t   first_name, \n",
    "\t   last_name, \n",
    "\t   payment;\n",
    "end $$;\n",
    "\"\"\"\n",
    "cursor.execute(sql)"
   ],
   "metadata": {
    "collapsed": false,
    "ExecuteTime": {
     "end_time": "2024-04-01T23:54:05.596286Z",
     "start_time": "2024-04-01T23:54:05.579283Z"
    }
   },
   "id": "474d15f886666ec6",
   "execution_count": 2
  },
  {
   "cell_type": "code",
   "outputs": [
    {
     "name": "stdout",
     "output_type": "stream",
     "text": [
      "The first name is John\n"
     ]
    },
    {
     "data": {
      "text/plain": "<psycopg.Cursor [COMMAND_OK] [INTRANS] (host=localhost user=postgres database=dvdrental) at 0x25775f457a0>"
     },
     "execution_count": 3,
     "metadata": {},
     "output_type": "execute_result"
    }
   ],
   "source": [
    "# 变量赋值\n",
    "sql = \"\"\"\n",
    "do $$\n",
    "declare\n",
    "\tfirst_name VARCHAR(50);\n",
    "begin\n",
    "\tfirst_name = split_part('John Doe',' ', 1);\n",
    "\traise notice 'The first name is %', first_name;\n",
    "end;\n",
    "$$;\n",
    "\"\"\"\n",
    "cursor.execute(sql)"
   ],
   "metadata": {
    "collapsed": false,
    "ExecuteTime": {
     "end_time": "2024-04-01T23:54:32.164603Z",
     "start_time": "2024-04-01T23:54:32.158602Z"
    }
   },
   "id": "5f522b72878551e",
   "execution_count": 3
  },
  {
   "cell_type": "code",
   "outputs": [
    {
     "name": "stdout",
     "output_type": "stream",
     "text": [
      "07:55:30.949386\n",
      "07:55:30.949386\n"
     ]
    },
    {
     "data": {
      "text/plain": "<psycopg.Cursor [COMMAND_OK] [INTRANS] (host=localhost user=postgres database=dvdrental) at 0x25775f457a0>"
     },
     "execution_count": 4,
     "metadata": {},
     "output_type": "execute_result"
    }
   ],
   "source": [
    "# 变量初始化时机\n",
    "sql = \"\"\"\n",
    "do $$ \n",
    "declare\n",
    "   created_at time = clock_timestamp();\n",
    "begin \n",
    "   raise notice '%', created_at;\n",
    "   perform pg_sleep(3);\n",
    "   raise notice '%', created_at;\n",
    "end $$;\n",
    "\"\"\"\n",
    "cursor.execute(sql)"
   ],
   "metadata": {
    "collapsed": false,
    "ExecuteTime": {
     "end_time": "2024-04-01T23:55:33.979480Z",
     "start_time": "2024-04-01T23:55:30.946926Z"
    }
   },
   "id": "f436fc955a14ebe6",
   "execution_count": 4
  },
  {
   "cell_type": "markdown",
   "source": [
    "## 拷贝数据类型\n",
    "```\n",
    "variable_name table_name.column_name%type;\n",
    "```"
   ],
   "metadata": {
    "collapsed": false
   },
   "id": "d08b44f7f7da3dea"
  },
  {
   "cell_type": "code",
   "outputs": [
    {
     "name": "stdout",
     "output_type": "stream",
     "text": [
      "Film title id 100: Brooklyn Deserts\n"
     ]
    },
    {
     "data": {
      "text/plain": "<psycopg.Cursor [COMMAND_OK] [INTRANS] (host=localhost user=postgres database=dvdrental) at 0x25775f457a0>"
     },
     "execution_count": 5,
     "metadata": {},
     "output_type": "execute_result"
    }
   ],
   "source": [
    "sql = \"\"\"\n",
    "do \n",
    "$$\n",
    "declare\n",
    "   film_title film.title%type;\n",
    "   featured_title film_title%type;\n",
    "begin \n",
    "   -- get title of the film id 100\n",
    "   select title\n",
    "   from film\n",
    "   into film_title\n",
    "   where film_id = 100;\n",
    "   \n",
    "   -- show the film title\n",
    "   raise notice 'Film title id 100: %s', film_title;\n",
    "end;\n",
    "$$;\n",
    "\"\"\"\n",
    "cursor.execute(sql)"
   ],
   "metadata": {
    "collapsed": false,
    "ExecuteTime": {
     "end_time": "2024-04-01T23:58:12.450917Z",
     "start_time": "2024-04-01T23:58:12.426900Z"
    }
   },
   "id": "ab1d674295637fb6",
   "execution_count": 5
  },
  {
   "cell_type": "code",
   "outputs": [
    {
     "name": "stdout",
     "output_type": "stream",
     "text": [
      "The current value of the counter is 1\n",
      "Counter in the subblock is 10\n",
      "Counter in the outer block is 1\n",
      "Counter in the outer block is 1\n"
     ]
    },
    {
     "data": {
      "text/plain": "<psycopg.Cursor [COMMAND_OK] [INTRANS] (host=localhost user=postgres database=dvdrental) at 0x25775f457a0>"
     },
     "execution_count": 6,
     "metadata": {},
     "output_type": "execute_result"
    }
   ],
   "source": [
    "# 块或子块中的变量\n",
    "sql = \"\"\"\n",
    "do \n",
    "$$ \n",
    "<<outer_block>>\n",
    "declare\n",
    "  counter integer := 0;\n",
    "begin\n",
    "   counter := counter + 1;\n",
    "   raise notice 'The current value of the counter is %', counter;\n",
    "\n",
    "   declare\n",
    "       counter integer := 0;\n",
    "   begin\n",
    "       counter := counter + 10;\n",
    "       raise notice 'Counter in the subblock is %', counter;\n",
    "       raise notice 'Counter in the outer block is %', outer_block.counter;\n",
    "   end;\n",
    "\n",
    "   raise notice 'Counter in the outer block is %', counter;\n",
    "   \n",
    "end outer_block $$;\n",
    "\"\"\"\n",
    "cursor.execute(sql)"
   ],
   "metadata": {
    "collapsed": false,
    "ExecuteTime": {
     "end_time": "2024-04-01T23:59:29.056688Z",
     "start_time": "2024-04-01T23:59:29.043356Z"
    }
   },
   "id": "cd7f0ae5d500a00f",
   "execution_count": 6
  }
 ],
 "metadata": {
  "kernelspec": {
   "display_name": "Python 3",
   "language": "python",
   "name": "python3"
  },
  "language_info": {
   "codemirror_mode": {
    "name": "ipython",
    "version": 2
   },
   "file_extension": ".py",
   "mimetype": "text/x-python",
   "name": "python",
   "nbconvert_exporter": "python",
   "pygments_lexer": "ipython2",
   "version": "2.7.6"
  }
 },
 "nbformat": 4,
 "nbformat_minor": 5
}
