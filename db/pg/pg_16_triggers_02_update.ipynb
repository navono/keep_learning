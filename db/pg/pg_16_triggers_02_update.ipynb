{
 "cells": [
  {
   "cell_type": "code",
   "id": "initial_id",
   "metadata": {
    "collapsed": true,
    "ExecuteTime": {
     "end_time": "2024-04-17T00:13:46.453415Z",
     "start_time": "2024-04-17T00:13:46.419268Z"
    }
   },
   "source": [
    "from common import *\n",
    "\n",
    "cursor = connect()"
   ],
   "outputs": [],
   "execution_count": 6
  },
  {
   "metadata": {},
   "cell_type": "markdown",
   "source": [
    "# BEFORE UPDATE\n",
    "\n",
    "语法：\n",
    "```\n",
    "CREATE TRIGGER trigger_name\n",
    "BEFORE UPDATE\n",
    "ON table_name\n",
    "FOR EACH {ROW | STATEMENT}\n",
    "EXECUTE FUNCTION trigger_function();\n",
    "```"
   ],
   "id": "5258baf5e34906ef"
  },
  {
   "metadata": {
    "ExecuteTime": {
     "end_time": "2024-04-17T00:09:36.639977Z",
     "start_time": "2024-04-17T00:09:36.623224Z"
    }
   },
   "cell_type": "code",
   "source": [
    "sql = \"\"\"\n",
    "CREATE TABLE employees (\n",
    "    id SERIAL PRIMARY KEY,\n",
    "    name VARCHAR(100) NOT NULL,\n",
    "    salary NUMERIC NOT NULL\n",
    ");\n",
    "\n",
    "CREATE OR REPLACE FUNCTION fn_before_update_salary()\n",
    "RETURNS TRIGGER AS $$\n",
    "BEGIN\n",
    "    IF NEW.salary < OLD.salary THEN\n",
    "        RAISE EXCEPTION 'New salary cannot be less than current salary';\n",
    "    END IF;\n",
    "    RETURN NEW;\n",
    "END;\n",
    "$$ LANGUAGE plpgsql;\n",
    "\n",
    "CREATE TRIGGER before_update_salary_trigger\n",
    "BEFORE UPDATE OF salary ON employees\n",
    "FOR EACH ROW\n",
    "EXECUTE FUNCTION fn_before_update_salary();\n",
    "\"\"\"\n",
    "cursor.execute(sql)"
   ],
   "id": "78012265615768d2",
   "outputs": [
    {
     "data": {
      "text/plain": [
       "<psycopg.Cursor [COMMAND_OK] [INTRANS] (host=localhost user=postgres database=dvdrental) at 0x24781109550>"
      ]
     },
     "execution_count": 2,
     "metadata": {},
     "output_type": "execute_result"
    }
   ],
   "execution_count": 2
  },
  {
   "metadata": {
    "ExecuteTime": {
     "end_time": "2024-04-17T00:09:39.222256Z",
     "start_time": "2024-04-17T00:09:39.217104Z"
    }
   },
   "cell_type": "code",
   "source": [
    "sql = \"\"\"\n",
    "INSERT INTO employees(name, salary)\n",
    "VALUES\n",
    "   ('John Doe', 70000),\n",
    "   ('Jane Doe', 80000)\n",
    "RETURNING *;\n",
    "\"\"\"\n",
    "run_sql(cursor, sql)"
   ],
   "id": "3bb160c9cb738cd3",
   "outputs": [
    {
     "name": "stdout",
     "output_type": "stream",
     "text": [
      "   id      name salary\n",
      "0   1  John Doe  70000\n",
      "1   2  Jane Doe  80000\n"
     ]
    }
   ],
   "execution_count": 3
  },
  {
   "metadata": {
    "ExecuteTime": {
     "end_time": "2024-04-17T00:09:41.037188Z",
     "start_time": "2024-04-17T00:09:40.886798Z"
    }
   },
   "cell_type": "code",
   "source": [
    "sql = \"\"\"\n",
    "UPDATE employees\n",
    "SET salary = salary * 0.9\n",
    "WHERE id = 1;\n",
    "\"\"\"\n",
    "run_sql(cursor, sql)"
   ],
   "id": "37a325c8520bd704",
   "outputs": [
    {
     "ename": "RaiseException",
     "evalue": "New salary cannot be less than current salary\nCONTEXT:  在RAISE的第4行的PL/pgSQL函数fn_before_update_salary()",
     "output_type": "error",
     "traceback": [
      "\u001B[1;31m---------------------------------------------------------------------------\u001B[0m",
      "\u001B[1;31mRaiseException\u001B[0m                            Traceback (most recent call last)",
      "Cell \u001B[1;32mIn[4], line 6\u001B[0m\n\u001B[0;32m      1\u001B[0m sql \u001B[38;5;241m=\u001B[39m \u001B[38;5;124m\"\"\"\u001B[39m\n\u001B[0;32m      2\u001B[0m \u001B[38;5;124mUPDATE employees\u001B[39m\n\u001B[0;32m      3\u001B[0m \u001B[38;5;124mSET salary = salary * 0.9\u001B[39m\n\u001B[0;32m      4\u001B[0m \u001B[38;5;124mWHERE id = 1;\u001B[39m\n\u001B[0;32m      5\u001B[0m \u001B[38;5;124m\"\"\"\u001B[39m\n\u001B[1;32m----> 6\u001B[0m \u001B[43mrun_sql\u001B[49m\u001B[43m(\u001B[49m\u001B[43mcursor\u001B[49m\u001B[43m,\u001B[49m\u001B[43m \u001B[49m\u001B[43msql\u001B[49m\u001B[43m)\u001B[49m\n",
      "File \u001B[1;32mE:\\sourcecode\\keep_learning\\common\\pg_common.py:29\u001B[0m, in \u001B[0;36mrun_sql\u001B[1;34m(cursor, sql_stat)\u001B[0m\n\u001B[0;32m     28\u001B[0m \u001B[38;5;28;01mdef\u001B[39;00m \u001B[38;5;21mrun_sql\u001B[39m(cursor, sql_stat):\n\u001B[1;32m---> 29\u001B[0m     \u001B[43mcursor\u001B[49m\u001B[38;5;241;43m.\u001B[39;49m\u001B[43mexecute\u001B[49m\u001B[43m(\u001B[49m\u001B[43msql_stat\u001B[49m\u001B[43m)\u001B[49m\n\u001B[0;32m     30\u001B[0m     display_data(cursor)\n",
      "File \u001B[1;32mE:\\sourcecode\\keep_learning\\.venv\\Lib\\site-packages\\psycopg\\cursor.py:732\u001B[0m, in \u001B[0;36mCursor.execute\u001B[1;34m(self, query, params, prepare, binary)\u001B[0m\n\u001B[0;32m    728\u001B[0m         \u001B[38;5;28mself\u001B[39m\u001B[38;5;241m.\u001B[39m_conn\u001B[38;5;241m.\u001B[39mwait(\n\u001B[0;32m    729\u001B[0m             \u001B[38;5;28mself\u001B[39m\u001B[38;5;241m.\u001B[39m_execute_gen(query, params, prepare\u001B[38;5;241m=\u001B[39mprepare, binary\u001B[38;5;241m=\u001B[39mbinary)\n\u001B[0;32m    730\u001B[0m         )\n\u001B[0;32m    731\u001B[0m \u001B[38;5;28;01mexcept\u001B[39;00m e\u001B[38;5;241m.\u001B[39m_NO_TRACEBACK \u001B[38;5;28;01mas\u001B[39;00m ex:\n\u001B[1;32m--> 732\u001B[0m     \u001B[38;5;28;01mraise\u001B[39;00m ex\u001B[38;5;241m.\u001B[39mwith_traceback(\u001B[38;5;28;01mNone\u001B[39;00m)\n\u001B[0;32m    733\u001B[0m \u001B[38;5;28;01mreturn\u001B[39;00m \u001B[38;5;28mself\u001B[39m\n",
      "\u001B[1;31mRaiseException\u001B[0m: New salary cannot be less than current salary\nCONTEXT:  在RAISE的第4行的PL/pgSQL函数fn_before_update_salary()"
     ]
    }
   ],
   "execution_count": 4
  },
  {
   "metadata": {},
   "cell_type": "markdown",
   "source": [
    "# AFTER UPDATE\n",
    "\n",
    "语法：\n",
    "```\n",
    "CREATE TRIGGER trigger_name\n",
    "AFTER UPDATE\n",
    "ON table_name\n",
    "FOR EACH {ROW | STATEMENT}\n",
    "EXECUTE FUNCTION trigger_function();\n",
    "```"
   ],
   "id": "2b33053f611799cb"
  },
  {
   "metadata": {
    "ExecuteTime": {
     "end_time": "2024-04-17T00:13:51.565214Z",
     "start_time": "2024-04-17T00:13:51.539326Z"
    }
   },
   "cell_type": "code",
   "source": [
    "sql = \"\"\"\n",
    "CREATE TABLE salaries(\n",
    "    id SERIAL PRIMARY KEY,\n",
    "    name VARCHAR(100) NOT NULL,\n",
    "    salary NUMERIC NOT NULL\n",
    ");\n",
    "\n",
    "CREATE TABLE salary_changes (\n",
    "    id SERIAL PRIMARY KEY,\n",
    "    employee_id INT NOT NULL,\n",
    "    old_salary NUMERIC NOT NULL,\n",
    "    new_salary NUMERIC NOT NULL,\n",
    "    changed_at TIMESTAMP DEFAULT CURRENT_TIMESTAMP\n",
    ");\n",
    "\n",
    "CREATE OR REPLACE FUNCTION log_salary_change()\n",
    "RETURNS TRIGGER \n",
    "AS \n",
    "$$\n",
    "BEGIN\n",
    "    INSERT INTO salary_changes (employee_id, old_salary, new_salary)\n",
    "    VALUES (NEW.id, OLD.salary, NEW.salary);\n",
    "    \n",
    "    RETURN NEW;\n",
    "END;\n",
    "$$ LANGUAGE plpgsql;\n",
    "\n",
    "CREATE TRIGGER after_update_salary_trigger\n",
    "AFTER UPDATE OF salary ON salaries\n",
    "FOR EACH ROW\n",
    "EXECUTE FUNCTION log_salary_change();\n",
    "\"\"\"\n",
    "cursor.execute(sql)"
   ],
   "id": "f59d602a5a239fb5",
   "outputs": [
    {
     "data": {
      "text/plain": [
       "<psycopg.Cursor [COMMAND_OK] [INTRANS] (host=localhost user=postgres database=dvdrental) at 0x24782dd1910>"
      ]
     },
     "execution_count": 7,
     "metadata": {},
     "output_type": "execute_result"
    }
   ],
   "execution_count": 7
  },
  {
   "metadata": {
    "ExecuteTime": {
     "end_time": "2024-04-17T00:13:54.035997Z",
     "start_time": "2024-04-17T00:13:54.031616Z"
    }
   },
   "cell_type": "code",
   "source": [
    "sql = \"\"\"\n",
    "INSERT INTO salaries(name, salary)\n",
    "VALUES\n",
    "   ('John Doe', 90000),\n",
    "   ('Jane Doe', 95000)\n",
    "RETURNING *;\n",
    "\"\"\"\n",
    "run_sql(cursor, sql)"
   ],
   "id": "51f8955a0c1fd942",
   "outputs": [
    {
     "name": "stdout",
     "output_type": "stream",
     "text": [
      "   id      name salary\n",
      "0   1  John Doe  90000\n",
      "1   2  Jane Doe  95000\n"
     ]
    }
   ],
   "execution_count": 8
  },
  {
   "metadata": {
    "ExecuteTime": {
     "end_time": "2024-04-17T00:14:21.723033Z",
     "start_time": "2024-04-17T00:14:21.719323Z"
    }
   },
   "cell_type": "code",
   "source": [
    "sql = \"\"\"\n",
    "UPDATE salaries\n",
    "SET salary = salary * 1.05\n",
    "WHERE id = 1\n",
    "RETURNING *;\n",
    "\"\"\"\n",
    "run_sql(cursor, sql)"
   ],
   "id": "1ca6db04e9337e55",
   "outputs": [
    {
     "name": "stdout",
     "output_type": "stream",
     "text": [
      "   id      name      salary\n",
      "0   1  John Doe  99225.0000\n"
     ]
    }
   ],
   "execution_count": 11
  },
  {
   "metadata": {
    "ExecuteTime": {
     "end_time": "2024-04-17T00:14:00.552086Z",
     "start_time": "2024-04-17T00:14:00.548003Z"
    }
   },
   "cell_type": "code",
   "source": [
    "sql = \"\"\"\n",
    "SELECT * FROM salary_changes;\n",
    "\"\"\"\n",
    "run_sql(cursor, sql)"
   ],
   "id": "4ff6ed7f676334b6",
   "outputs": [
    {
     "name": "stdout",
     "output_type": "stream",
     "text": [
      "   id  employee_id old_salary new_salary                 changed_at\n",
      "0   1            1      90000   94500.00 2024-04-17 08:13:51.540730\n"
     ]
    }
   ],
   "execution_count": 10
  }
 ],
 "metadata": {
  "kernelspec": {
   "display_name": "Python 3",
   "language": "python",
   "name": "python3"
  },
  "language_info": {
   "codemirror_mode": {
    "name": "ipython",
    "version": 2
   },
   "file_extension": ".py",
   "mimetype": "text/x-python",
   "name": "python",
   "nbconvert_exporter": "python",
   "pygments_lexer": "ipython2",
   "version": "2.7.6"
  }
 },
 "nbformat": 4,
 "nbformat_minor": 5
}
