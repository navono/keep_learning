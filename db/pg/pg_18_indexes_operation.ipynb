{
 "cells": [
  {
   "cell_type": "code",
   "id": "initial_id",
   "metadata": {
    "collapsed": true,
    "ExecuteTime": {
     "end_time": "2024-04-25T07:40:15.671090Z",
     "start_time": "2024-04-25T07:40:15.640360Z"
    }
   },
   "source": [
    "from common import *\n",
    "\n",
    "cursor = connect()"
   ],
   "outputs": [],
   "execution_count": 8
  },
  {
   "metadata": {},
   "cell_type": "markdown",
   "source": [
    "# 创建索引\n",
    "\n",
    "语法\n",
    "```\n",
    "CREATE INDEX [IF NOT EXISTS] index_name\n",
    "ON table_name(column1, column2, ...);\n",
    "```"
   ],
   "id": "ed7301a35cec60ed"
  },
  {
   "metadata": {
    "ExecuteTime": {
     "end_time": "2024-04-24T11:52:46.782738Z",
     "start_time": "2024-04-24T11:52:46.776822Z"
    }
   },
   "cell_type": "code",
   "source": [
    "# 查询\n",
    "sql = \"\"\"\n",
    "SELECT \n",
    "  address_id, \n",
    "  address, \n",
    "  district, \n",
    "  phone \n",
    "FROM \n",
    "  address \n",
    "WHERE \n",
    "  phone = '223664661973';\n",
    "\"\"\"\n",
    "run_sql(cursor, sql)"
   ],
   "id": "c4b92e65690d66e6",
   "outputs": [
    {
     "name": "stdout",
     "output_type": "stream",
     "text": [
      "   address_id             address   district         phone\n",
      "0          85  320 Baiyin Parkway  Mahajanga  223664661973\n"
     ]
    }
   ],
   "execution_count": 2
  },
  {
   "metadata": {
    "ExecuteTime": {
     "end_time": "2024-04-24T11:52:46.788184Z",
     "start_time": "2024-04-24T11:52:46.782738Z"
    }
   },
   "cell_type": "code",
   "source": [
    "# 使用 expand 语法\n",
    "sql = \"\"\"\n",
    "EXPLAIN SELECT \n",
    "  address_id, \n",
    "  address, \n",
    "  district, \n",
    "  phone \n",
    "FROM \n",
    "  address \n",
    "WHERE \n",
    "  phone = '223664661973';\n",
    "\"\"\"\n",
    "run_sql(cursor, sql)"
   ],
   "id": "688468410abafdff",
   "outputs": [
    {
     "name": "stdout",
     "output_type": "stream",
     "text": [
      "                                          QUERY PLAN\n",
      "0  Seq Scan on address  (cost=0.00..15.54 rows=1 ...\n",
      "1     Filter: ((phone)::text = '223664661973'::text)\n"
     ]
    }
   ],
   "execution_count": 3
  },
  {
   "metadata": {},
   "cell_type": "markdown",
   "source": "上述输出表明查询优化器必须对 `address` 表执行顺序扫描。",
   "id": "2754f48dc6eb074a"
  },
  {
   "metadata": {
    "ExecuteTime": {
     "end_time": "2024-04-24T11:52:46.800522Z",
     "start_time": "2024-04-24T11:52:46.788184Z"
    }
   },
   "cell_type": "code",
   "source": [
    "# 创建索引\n",
    "sql = \"\"\"\n",
    "CREATE INDEX idx_address_phone \n",
    "ON address(phone);\n",
    "\"\"\"\n",
    "cursor.execute(sql)"
   ],
   "id": "2a29804783069fdf",
   "outputs": [
    {
     "data": {
      "text/plain": [
       "<psycopg.Cursor [COMMAND_OK] [INTRANS] (host=localhost user=postgres database=dvdrental) at 0x264bf4ad3d0>"
      ]
     },
     "execution_count": 4,
     "metadata": {},
     "output_type": "execute_result"
    }
   ],
   "execution_count": 4
  },
  {
   "metadata": {},
   "cell_type": "markdown",
   "source": "当运行 `CREATE INDEX` 语句时，PostgreSQL 会扫描 `address` 表，从 `phone` 列中提取数据，并将其插入到索引 `idx_address_phone` 中。这个过程称之为索引构建。在构建过程中，PostgreSQL 会锁定 `address` 表，以防止其他事务对其进行修改。因此，如果 `address` 表很大，那么索引构建可能需要一些时间。",
   "id": "85d46a273e72199f"
  },
  {
   "metadata": {
    "ExecuteTime": {
     "end_time": "2024-04-24T11:52:46.807542Z",
     "start_time": "2024-04-24T11:52:46.800522Z"
    }
   },
   "cell_type": "code",
   "source": [
    "sql = \"\"\"\n",
    "SELECT \n",
    "  indexname, \n",
    "  indexdef \n",
    "FROM \n",
    "  pg_indexes \n",
    "WHERE \n",
    "  tablename = 'address';\n",
    "\"\"\"\n",
    "run_sql(cursor, sql)"
   ],
   "id": "2e329d124b947e37",
   "outputs": [
    {
     "name": "stdout",
     "output_type": "stream",
     "text": [
      "           indexname                                           indexdef\n",
      "0       address_pkey  CREATE UNIQUE INDEX address_pkey ON public.add...\n",
      "1     idx_fk_city_id  CREATE INDEX idx_fk_city_id ON public.address ...\n",
      "2  idx_address_phone  CREATE INDEX idx_address_phone ON public.addre...\n"
     ]
    }
   ],
   "execution_count": 5
  },
  {
   "metadata": {
    "ExecuteTime": {
     "end_time": "2024-04-24T11:52:46.811320Z",
     "start_time": "2024-04-24T11:52:46.808083Z"
    }
   },
   "cell_type": "code",
   "source": [
    "# 使用 expand 语法\n",
    "sql = \"\"\"\n",
    "EXPLAIN SELECT \n",
    "  address_id, \n",
    "  address, \n",
    "  district, \n",
    "  phone \n",
    "FROM \n",
    "  address \n",
    "WHERE \n",
    "  phone = '223664661973';\n",
    "\"\"\"\n",
    "run_sql(cursor, sql)"
   ],
   "id": "384dc41c07b4dde9",
   "outputs": [
    {
     "name": "stdout",
     "output_type": "stream",
     "text": [
      "                                          QUERY PLAN\n",
      "0  Index Scan using idx_address_phone on address ...\n",
      "1    Index Cond: ((phone)::text = '223664661973':...\n"
     ]
    }
   ],
   "execution_count": 6
  },
  {
   "metadata": {},
   "cell_type": "markdown",
   "source": [
    "# UNIQUE 索引\n",
    "\n",
    " PostgreSQL 唯一索引以确保一列或多列中值的唯一性。\n",
    " \n",
    "语法\n",
    "```\n",
    "CREATE UNIQUE INDEX index_name\n",
    "ON table_name (column [, ...]) \n",
    "[ NULLS [ NOT ] DISTINCT ];\n",
    "```\n",
    "\n",
    "`NULL NOT DISTINCT` 选项将空值视为相等值，而 `NULLS DISTINCT` 则将空值视为不同值。默认情况下，语句使用 `NULLS DISTINCT`，这意味着索引列可能包含多个空值。只有 `B-tree` 索引支持唯一索引。\n",
    "\n",
    "如果为列定义了唯一索引，该列就不能存储具有相同值的多条记录。如果为两个或多个列定义了唯一索引，这些列中的组合值就不能在多行中重复。为表定义主键或唯一约束时，PostgreSQL 会自动创建相应的唯一索引。"
   ],
   "id": "d202b3b49df6f40e"
  },
  {
   "metadata": {},
   "cell_type": "markdown",
   "source": "## 主键和 unique 约束的唯一索引",
   "id": "b44034f2f943c31"
  },
  {
   "metadata": {
    "ExecuteTime": {
     "end_time": "2024-04-24T11:57:27.559859Z",
     "start_time": "2024-04-24T11:57:27.539547Z"
    }
   },
   "cell_type": "code",
   "source": [
    "sql = \"\"\"\n",
    "CREATE TABLE employees (\n",
    "    employee_id SERIAL PRIMARY KEY,\n",
    "    first_name VARCHAR(255) NOT NULL,\n",
    "    last_name VARCHAR(255) NOT NULL,\n",
    "    email VARCHAR(255) UNIQUE\n",
    ");\n",
    "\"\"\"\n",
    "cursor.execute(sql)"
   ],
   "id": "4b4f9fd6d0ddfa28",
   "outputs": [
    {
     "data": {
      "text/plain": [
       "<psycopg.Cursor [COMMAND_OK] [INTRANS] (host=localhost user=postgres database=dvdrental) at 0x264bf4acf50>"
      ]
     },
     "execution_count": 15,
     "metadata": {},
     "output_type": "execute_result"
    }
   ],
   "execution_count": 15
  },
  {
   "metadata": {},
   "cell_type": "markdown",
   "source": "上述语句，`employee_id` 是主键，`email` 列是唯一约束，因此 PostgreSQL 创建了两个唯一索引。",
   "id": "a8ef797e8d57e8c0"
  },
  {
   "metadata": {
    "ExecuteTime": {
     "end_time": "2024-04-24T11:52:59.960787Z",
     "start_time": "2024-04-24T11:52:59.956605Z"
    }
   },
   "cell_type": "code",
   "source": [
    "sql = \"\"\"\n",
    "SELECT \n",
    "    tablename, \n",
    "    indexname, \n",
    "    indexdef \n",
    "FROM \n",
    "    pg_indexes \n",
    "WHERE \n",
    "    tablename = 'employees';\n",
    "\"\"\"\n",
    "run_sql(cursor, sql)"
   ],
   "id": "7d72ef23c57bdec9",
   "outputs": [
    {
     "name": "stdout",
     "output_type": "stream",
     "text": [
      "   tablename            indexname  \\\n",
      "0  employees       employees_pkey   \n",
      "1  employees  employees_email_key   \n",
      "\n",
      "                                            indexdef  \n",
      "0  CREATE UNIQUE INDEX employees_pkey ON public.e...  \n",
      "1  CREATE UNIQUE INDEX employees_email_key ON pub...  \n"
     ]
    }
   ],
   "execution_count": 10
  },
  {
   "metadata": {
    "ExecuteTime": {
     "end_time": "2024-04-24T11:54:03.270282Z",
     "start_time": "2024-04-24T11:54:03.255290Z"
    }
   },
   "cell_type": "code",
   "source": [
    "sql = \"\"\"\n",
    "ALTER TABLE employees\n",
    "ADD mobile_phone VARCHAR(20);\n",
    "\n",
    "CREATE UNIQUE INDEX idx_employees_mobile_phone\n",
    "ON employees(mobile_phone);\n",
    "\"\"\"\n",
    "cursor.execute(sql)"
   ],
   "id": "df7a353b6eb333ff",
   "outputs": [
    {
     "data": {
      "text/plain": [
       "<psycopg.Cursor [COMMAND_OK] [INTRANS] (host=localhost user=postgres database=dvdrental) at 0x264bf4ad3d0>"
      ]
     },
     "execution_count": 11,
     "metadata": {},
     "output_type": "execute_result"
    }
   ],
   "execution_count": 11
  },
  {
   "metadata": {},
   "cell_type": "markdown",
   "source": "## 单列创建唯一索引",
   "id": "bf7a0178c459f24"
  },
  {
   "metadata": {
    "ExecuteTime": {
     "end_time": "2024-04-24T11:54:05.423543Z",
     "start_time": "2024-04-24T11:54:05.418429Z"
    }
   },
   "cell_type": "code",
   "source": [
    "sql = \"\"\"\n",
    "INSERT INTO employees(first_name, last_name, email, mobile_phone)\n",
    "VALUES ('John','Doe','john.doe@postgresqltutorial.com', '(408)-555-1234');\n",
    "\"\"\"\n",
    "cursor.execute(sql)"
   ],
   "id": "cd5db5cafff78912",
   "outputs": [
    {
     "data": {
      "text/plain": [
       "<psycopg.Cursor [COMMAND_OK] [INTRANS] (host=localhost user=postgres database=dvdrental) at 0x264bf4ad3d0>"
      ]
     },
     "execution_count": 12,
     "metadata": {},
     "output_type": "execute_result"
    }
   ],
   "execution_count": 12
  },
  {
   "metadata": {
    "ExecuteTime": {
     "end_time": "2024-04-24T11:54:07.695090Z",
     "start_time": "2024-04-24T11:54:07.547519Z"
    }
   },
   "cell_type": "code",
   "source": [
    "sql = \"\"\"\n",
    "INSERT INTO employees(first_name, last_name, email, mobile_phone)\n",
    "VALUES ('Jane','Doe','jane.doe@postgresqltutorial.com', '(408)-555-1234');\n",
    "\"\"\"\n",
    "cursor.execute(sql)"
   ],
   "id": "78bc8d2283f6b536",
   "outputs": [
    {
     "ename": "UniqueViolation",
     "evalue": "重复键违反唯一约束\"idx_employees_mobile_phone\"\nDETAIL:  键值\"(mobile_phone)=((408)-555-1234)\" 已经存在",
     "output_type": "error",
     "traceback": [
      "\u001B[1;31m---------------------------------------------------------------------------\u001B[0m",
      "\u001B[1;31mUniqueViolation\u001B[0m                           Traceback (most recent call last)",
      "Cell \u001B[1;32mIn[13], line 5\u001B[0m\n\u001B[0;32m      1\u001B[0m sql \u001B[38;5;241m=\u001B[39m \u001B[38;5;124m\"\"\"\u001B[39m\n\u001B[0;32m      2\u001B[0m \u001B[38;5;124mINSERT INTO employees(first_name, last_name, email, mobile_phone)\u001B[39m\n\u001B[0;32m      3\u001B[0m \u001B[38;5;124mVALUES (\u001B[39m\u001B[38;5;124m'\u001B[39m\u001B[38;5;124mJane\u001B[39m\u001B[38;5;124m'\u001B[39m\u001B[38;5;124m,\u001B[39m\u001B[38;5;124m'\u001B[39m\u001B[38;5;124mDoe\u001B[39m\u001B[38;5;124m'\u001B[39m\u001B[38;5;124m,\u001B[39m\u001B[38;5;124m'\u001B[39m\u001B[38;5;124mjane.doe@postgresqltutorial.com\u001B[39m\u001B[38;5;124m'\u001B[39m\u001B[38;5;124m, \u001B[39m\u001B[38;5;124m'\u001B[39m\u001B[38;5;124m(408)-555-1234\u001B[39m\u001B[38;5;124m'\u001B[39m\u001B[38;5;124m);\u001B[39m\n\u001B[0;32m      4\u001B[0m \u001B[38;5;124m\"\"\"\u001B[39m\n\u001B[1;32m----> 5\u001B[0m \u001B[43mcursor\u001B[49m\u001B[38;5;241;43m.\u001B[39;49m\u001B[43mexecute\u001B[49m\u001B[43m(\u001B[49m\u001B[43msql\u001B[49m\u001B[43m)\u001B[49m\n",
      "File \u001B[1;32mE:\\sourcecode\\keep_learning\\.venv\\Lib\\site-packages\\psycopg\\cursor.py:732\u001B[0m, in \u001B[0;36mCursor.execute\u001B[1;34m(self, query, params, prepare, binary)\u001B[0m\n\u001B[0;32m    728\u001B[0m         \u001B[38;5;28mself\u001B[39m\u001B[38;5;241m.\u001B[39m_conn\u001B[38;5;241m.\u001B[39mwait(\n\u001B[0;32m    729\u001B[0m             \u001B[38;5;28mself\u001B[39m\u001B[38;5;241m.\u001B[39m_execute_gen(query, params, prepare\u001B[38;5;241m=\u001B[39mprepare, binary\u001B[38;5;241m=\u001B[39mbinary)\n\u001B[0;32m    730\u001B[0m         )\n\u001B[0;32m    731\u001B[0m \u001B[38;5;28;01mexcept\u001B[39;00m e\u001B[38;5;241m.\u001B[39m_NO_TRACEBACK \u001B[38;5;28;01mas\u001B[39;00m ex:\n\u001B[1;32m--> 732\u001B[0m     \u001B[38;5;28;01mraise\u001B[39;00m ex\u001B[38;5;241m.\u001B[39mwith_traceback(\u001B[38;5;28;01mNone\u001B[39;00m)\n\u001B[0;32m    733\u001B[0m \u001B[38;5;28;01mreturn\u001B[39;00m \u001B[38;5;28mself\u001B[39m\n",
      "\u001B[1;31mUniqueViolation\u001B[0m: 重复键违反唯一约束\"idx_employees_mobile_phone\"\nDETAIL:  键值\"(mobile_phone)=((408)-555-1234)\" 已经存在"
     ]
    }
   ],
   "execution_count": 13
  },
  {
   "metadata": {},
   "cell_type": "markdown",
   "source": "## 多列创建唯一索引",
   "id": "488aae8690949c40"
  },
  {
   "metadata": {
    "ExecuteTime": {
     "end_time": "2024-04-24T11:57:31.273984Z",
     "start_time": "2024-04-24T11:57:31.264920Z"
    }
   },
   "cell_type": "code",
   "source": [
    "sql = \"\"\"\n",
    "ALTER TABLE employees\n",
    "ADD work_phone VARCHAR(20),\n",
    "ADD extension VARCHAR(5);\n",
    "\n",
    "CREATE UNIQUE INDEX idx_employees_workphone\n",
    "ON employees(work_phone, extension);\n",
    "\"\"\"\n",
    "cursor.execute(sql)"
   ],
   "id": "8a0afd8d6c5c614f",
   "outputs": [
    {
     "data": {
      "text/plain": [
       "<psycopg.Cursor [COMMAND_OK] [INTRANS] (host=localhost user=postgres database=dvdrental) at 0x264bf4acf50>"
      ]
     },
     "execution_count": 16,
     "metadata": {},
     "output_type": "execute_result"
    }
   ],
   "execution_count": 16
  },
  {
   "metadata": {
    "ExecuteTime": {
     "end_time": "2024-04-24T11:57:33.094328Z",
     "start_time": "2024-04-24T11:57:33.089328Z"
    }
   },
   "cell_type": "code",
   "source": [
    "sql = \"\"\"\n",
    "INSERT INTO employees(first_name, last_name, work_phone, extension)\n",
    "VALUES('Lily', 'Bush', '(408)-333-1234','1212');\n",
    "\"\"\"\n",
    "cursor.execute(sql)"
   ],
   "id": "769dd44ba4dcd774",
   "outputs": [
    {
     "data": {
      "text/plain": [
       "<psycopg.Cursor [COMMAND_OK] [INTRANS] (host=localhost user=postgres database=dvdrental) at 0x264bf4acf50>"
      ]
     },
     "execution_count": 17,
     "metadata": {},
     "output_type": "execute_result"
    }
   ],
   "execution_count": 17
  },
  {
   "metadata": {
    "ExecuteTime": {
     "end_time": "2024-04-24T11:57:34.895583Z",
     "start_time": "2024-04-24T11:57:34.892578Z"
    }
   },
   "cell_type": "code",
   "source": [
    "sql = \"\"\"\n",
    "INSERT INTO employees(first_name, last_name, work_phone, extension)\n",
    "VALUES('Joan', 'Doe', '(408)-333-1234','1211');\n",
    "\"\"\"\n",
    "cursor.execute(sql)"
   ],
   "id": "f60958d328d1af64",
   "outputs": [
    {
     "data": {
      "text/plain": [
       "<psycopg.Cursor [COMMAND_OK] [INTRANS] (host=localhost user=postgres database=dvdrental) at 0x264bf4acf50>"
      ]
     },
     "execution_count": 18,
     "metadata": {},
     "output_type": "execute_result"
    }
   ],
   "execution_count": 18
  },
  {
   "metadata": {},
   "cell_type": "markdown",
   "source": "上述两条语句都会执行成功，因为 `work_phone` 和 `extension` 列的组合值不同。",
   "id": "8bc6a19fb474941f"
  },
  {
   "metadata": {
    "ExecuteTime": {
     "end_time": "2024-04-24T11:57:37.327133Z",
     "start_time": "2024-04-24T11:57:37.311248Z"
    }
   },
   "cell_type": "code",
   "source": [
    "sql = \"\"\"\n",
    "INSERT INTO employees(first_name, last_name, work_phone, extension)\n",
    "VALUES('Tommy', 'Stark', '(408)-333-1234','1211');\n",
    "\"\"\"\n",
    "cursor.execute(sql)"
   ],
   "id": "8bd2563f686941bc",
   "outputs": [
    {
     "ename": "UniqueViolation",
     "evalue": "重复键违反唯一约束\"idx_employees_workphone\"\nDETAIL:  键值\"(work_phone, extension)=((408)-333-1234, 1211)\" 已经存在",
     "output_type": "error",
     "traceback": [
      "\u001B[1;31m---------------------------------------------------------------------------\u001B[0m",
      "\u001B[1;31mUniqueViolation\u001B[0m                           Traceback (most recent call last)",
      "Cell \u001B[1;32mIn[19], line 5\u001B[0m\n\u001B[0;32m      1\u001B[0m sql \u001B[38;5;241m=\u001B[39m \u001B[38;5;124m\"\"\"\u001B[39m\n\u001B[0;32m      2\u001B[0m \u001B[38;5;124mINSERT INTO employees(first_name, last_name, work_phone, extension)\u001B[39m\n\u001B[0;32m      3\u001B[0m \u001B[38;5;124mVALUES(\u001B[39m\u001B[38;5;124m'\u001B[39m\u001B[38;5;124mTommy\u001B[39m\u001B[38;5;124m'\u001B[39m\u001B[38;5;124m, \u001B[39m\u001B[38;5;124m'\u001B[39m\u001B[38;5;124mStark\u001B[39m\u001B[38;5;124m'\u001B[39m\u001B[38;5;124m, \u001B[39m\u001B[38;5;124m'\u001B[39m\u001B[38;5;124m(408)-333-1234\u001B[39m\u001B[38;5;124m'\u001B[39m\u001B[38;5;124m,\u001B[39m\u001B[38;5;124m'\u001B[39m\u001B[38;5;124m1211\u001B[39m\u001B[38;5;124m'\u001B[39m\u001B[38;5;124m);\u001B[39m\n\u001B[0;32m      4\u001B[0m \u001B[38;5;124m\"\"\"\u001B[39m\n\u001B[1;32m----> 5\u001B[0m \u001B[43mcursor\u001B[49m\u001B[38;5;241;43m.\u001B[39;49m\u001B[43mexecute\u001B[49m\u001B[43m(\u001B[49m\u001B[43msql\u001B[49m\u001B[43m)\u001B[49m\n",
      "File \u001B[1;32mE:\\sourcecode\\keep_learning\\.venv\\Lib\\site-packages\\psycopg\\cursor.py:732\u001B[0m, in \u001B[0;36mCursor.execute\u001B[1;34m(self, query, params, prepare, binary)\u001B[0m\n\u001B[0;32m    728\u001B[0m         \u001B[38;5;28mself\u001B[39m\u001B[38;5;241m.\u001B[39m_conn\u001B[38;5;241m.\u001B[39mwait(\n\u001B[0;32m    729\u001B[0m             \u001B[38;5;28mself\u001B[39m\u001B[38;5;241m.\u001B[39m_execute_gen(query, params, prepare\u001B[38;5;241m=\u001B[39mprepare, binary\u001B[38;5;241m=\u001B[39mbinary)\n\u001B[0;32m    730\u001B[0m         )\n\u001B[0;32m    731\u001B[0m \u001B[38;5;28;01mexcept\u001B[39;00m e\u001B[38;5;241m.\u001B[39m_NO_TRACEBACK \u001B[38;5;28;01mas\u001B[39;00m ex:\n\u001B[1;32m--> 732\u001B[0m     \u001B[38;5;28;01mraise\u001B[39;00m ex\u001B[38;5;241m.\u001B[39mwith_traceback(\u001B[38;5;28;01mNone\u001B[39;00m)\n\u001B[0;32m    733\u001B[0m \u001B[38;5;28;01mreturn\u001B[39;00m \u001B[38;5;28mself\u001B[39m\n",
      "\u001B[1;31mUniqueViolation\u001B[0m: 重复键违反唯一约束\"idx_employees_workphone\"\nDETAIL:  键值\"(work_phone, extension)=((408)-333-1234, 1211)\" 已经存在"
     ]
    }
   ],
   "execution_count": 19
  },
  {
   "metadata": {},
   "cell_type": "markdown",
   "source": [
    "# 表达式索引（Indexes on Expressions）\n",
    "\n",
    "语法\n",
    "```\n",
    "CREATE INDEX index_name \n",
    "ON table_name (expression);\n",
    "```\n",
    "\n",
    "定义索引表达式后，当该表达式出现在 SQL 语句的 WHERE 子句或 ORDER BY 子句中时，PostgreSQL 将考虑使用该索引。请注意，维护表达式的索引可能会产生额外的成本。 PostgreSQL 在插入或更新期间计算每行的表达式，并利用结果来构建索引。"
   ],
   "id": "a2cf68fc83b8f821"
  },
  {
   "metadata": {
    "ExecuteTime": {
     "end_time": "2024-04-25T00:10:55.333757Z",
     "start_time": "2024-04-25T00:10:55.305327Z"
    }
   },
   "cell_type": "code",
   "source": [
    "sql = \"\"\"\n",
    "SELECT \n",
    "    customer_id, \n",
    "    first_name, \n",
    "    last_name \n",
    "FROM \n",
    "    customer \n",
    "WHERE \n",
    "    last_name = 'Purdy';\n",
    "\"\"\"\n",
    "run_sql(cursor, sql)"
   ],
   "id": "38854eb38b89b2a8",
   "outputs": [
    {
     "name": "stdout",
     "output_type": "stream",
     "text": [
      "   customer_id first_name last_name\n",
      "0          333     Andrew     Purdy\n"
     ]
    }
   ],
   "execution_count": 3
  },
  {
   "metadata": {
    "ExecuteTime": {
     "end_time": "2024-04-25T00:11:04.284515Z",
     "start_time": "2024-04-25T00:11:04.270396Z"
    }
   },
   "cell_type": "code",
   "source": [
    "# 查看具体查询的过程\n",
    "sql = \"\"\"\n",
    "EXPLAIN\n",
    "SELECT \n",
    "    customer_id, \n",
    "    first_name, \n",
    "    last_name \n",
    "FROM \n",
    "    customer \n",
    "WHERE \n",
    "    last_name = 'Purdy';\n",
    "\"\"\"\n",
    "run_sql(cursor, sql)"
   ],
   "id": "b30f9078874b8f4",
   "outputs": [
    {
     "name": "stdout",
     "output_type": "stream",
     "text": [
      "                                          QUERY PLAN\n",
      "0  Index Scan using idx_last_name on customer  (c...\n",
      "1    Index Cond: ((last_name)::text = 'Purdy'::text)\n"
     ]
    }
   ],
   "execution_count": 4
  },
  {
   "metadata": {
    "ExecuteTime": {
     "end_time": "2024-04-25T00:11:41.197801Z",
     "start_time": "2024-04-25T00:11:41.183314Z"
    }
   },
   "cell_type": "code",
   "source": [
    "# 使用 LOWER 函数，发现查询又变回了顺序扫描\n",
    "sql = \"\"\"\n",
    "EXPLAIN\n",
    "SELECT \n",
    "    customer_id, \n",
    "    first_name, \n",
    "    last_name \n",
    "FROM \n",
    "    customer \n",
    "WHERE \n",
    "    LOWER(last_name) = 'purdy';\n",
    "\"\"\"\n",
    "run_sql(cursor, sql)"
   ],
   "id": "13b773b611d2d3c3",
   "outputs": [
    {
     "name": "stdout",
     "output_type": "stream",
     "text": [
      "                                          QUERY PLAN\n",
      "0  Seq Scan on customer  (cost=0.00..17.98 rows=3...\n",
      "1    Filter: (lower((last_name)::text) = 'purdy':...\n"
     ]
    }
   ],
   "execution_count": 5
  },
  {
   "metadata": {
    "ExecuteTime": {
     "end_time": "2024-04-25T00:12:44.327282Z",
     "start_time": "2024-04-25T00:12:44.310774Z"
    }
   },
   "cell_type": "code",
   "source": [
    "# 增加表达式索引\n",
    "sql = \"\"\"\n",
    "CREATE INDEX idx_ic_last_name\n",
    "ON customer(LOWER(last_name));\n",
    "\"\"\"\n",
    "cursor.execute(sql)"
   ],
   "id": "d7bb520a83d30723",
   "outputs": [
    {
     "data": {
      "text/plain": [
       "<psycopg.Cursor [COMMAND_OK] [INTRANS] (host=localhost user=postgres database=dvdrental) at 0x1b411c04d10>"
      ]
     },
     "execution_count": 6,
     "metadata": {},
     "output_type": "execute_result"
    }
   ],
   "execution_count": 6
  },
  {
   "metadata": {
    "ExecuteTime": {
     "end_time": "2024-04-25T00:12:46.072026Z",
     "start_time": "2024-04-25T00:12:46.067813Z"
    }
   },
   "cell_type": "code",
   "source": [
    "# 再次查询\n",
    "sql = \"\"\"\n",
    "EXPLAIN\n",
    "SELECT \n",
    "    customer_id, \n",
    "    first_name, \n",
    "    last_name \n",
    "FROM \n",
    "    customer \n",
    "WHERE \n",
    "    LOWER(last_name) = 'purdy';\n",
    "\"\"\"\n",
    "run_sql(cursor, sql)"
   ],
   "id": "96fa91b3d0b8ad39",
   "outputs": [
    {
     "name": "stdout",
     "output_type": "stream",
     "text": [
      "                                          QUERY PLAN\n",
      "0  Bitmap Heap Scan on customer  (cost=4.30..11.1...\n",
      "1    Recheck Cond: (lower((last_name)::text) = 'p...\n",
      "2    ->  Bitmap Index Scan on idx_ic_last_name  (...\n",
      "3          Index Cond: (lower((last_name)::text) ...\n"
     ]
    }
   ],
   "execution_count": 7
  },
  {
   "metadata": {},
   "cell_type": "markdown",
   "source": "#",
   "id": "3553398908b9921a"
  },
  {
   "metadata": {},
   "cell_type": "markdown",
   "source": [
    "# 部分索引（Partial Index）\n",
    "\n",
    "使用 PostgreSQL 部分索引根据指定条件根据表中的行子集创建索引。部分索引是建立在索引列的数据子集上的索引。优点是部分索引可以增强查询性能，同时减小索引大小。它还可以提升表更新速度，因为 PostgreSQL 不需要在所有情况下维护索引。\n",
    "\n",
    "语法\n",
    "```\n",
    "CREATE [IF NOT EXISTS] INDEX index_name\n",
    "ON table_name(column1, column2, ...)\n",
    "WHERE predicate;\n",
    "```"
   ],
   "id": "5231286e0180794"
  },
  {
   "metadata": {
    "ExecuteTime": {
     "end_time": "2024-04-25T00:18:53.854709Z",
     "start_time": "2024-04-25T00:18:53.839408Z"
    }
   },
   "cell_type": "code",
   "source": [
    "sql = \"\"\"\n",
    "CREATE INDEX customer_active\n",
    "ON customer(active)\n",
    "WHERE active = 0;\n",
    "\"\"\"\n",
    "cursor.execute(sql)"
   ],
   "id": "ea86073b31e50db8",
   "outputs": [
    {
     "data": {
      "text/plain": [
       "<psycopg.Cursor [COMMAND_OK] [INTRANS] (host=localhost user=postgres database=dvdrental) at 0x1b411c04d10>"
      ]
     },
     "execution_count": 8,
     "metadata": {},
     "output_type": "execute_result"
    }
   ],
   "execution_count": 8
  },
  {
   "metadata": {
    "ExecuteTime": {
     "end_time": "2024-04-25T00:18:56.084473Z",
     "start_time": "2024-04-25T00:18:56.079736Z"
    }
   },
   "cell_type": "code",
   "source": [
    "sql = \"\"\"\n",
    "EXPLAIN SELECT \n",
    "  * \n",
    "FROM \n",
    "  customer \n",
    "WHERE \n",
    "  active = 0;\n",
    "\"\"\"\n",
    "run_sql(cursor, sql)"
   ],
   "id": "45f71975c35d621b",
   "outputs": [
    {
     "name": "stdout",
     "output_type": "stream",
     "text": [
      "                                          QUERY PLAN\n",
      "0  Index Scan using customer_active on customer  ...\n"
     ]
    }
   ],
   "execution_count": 9
  },
  {
   "metadata": {},
   "cell_type": "markdown",
   "source": [
    "# 多列索引（Multicolumn Indexes）\n",
    "\n",
    "多列索引通常称为复合索引、组合索引或串联索引。它们是在多个列上创建的索引。多列索引的目的是提高查询性能，特别是在多列上的查询。它最多可以包含 32 列。只有 `B-tree`, `GIN`, `GIST` 和 `BRIN` 索引支持多列索引。\n",
    "\n",
    "语法\n",
    "```\n",
    "CREATE INDEX [IF NOT EXISTS] index_name\n",
    "ON table_name(column1, column2, ...);\n",
    "```\n",
    "\n",
    "定义多列索引时，应将 `WHERE` 子句中经常使用的列放在列列表的开头，然后是 `WHERE` 子句中使用频率较低的列。例如上述例子中。查询优化器在以下情况下会考虑使用索引：\n",
    "> WHERE column1 = v1 AND column2 = v2 AND column3 = v3;\n",
    ">\n",
    "或\n",
    "> WHERE column1 = v1 AND column2 = v2;\n",
    "> \n",
    "或\n",
    "> WHERE column1 = v1;\n",
    "> \n",
    "然而，如果查询中没有列 `column1`，那么查询优化器将不会使用多列索引。比如：\n",
    "> WHERE column3 = v3;\n",
    "> \n",
    "和\n",
    "> WHERE column2 = v2 and column3 = v3;    \n"
   ],
   "id": "87abad74cf8600b0"
  },
  {
   "metadata": {
    "ExecuteTime": {
     "end_time": "2024-04-25T00:28:32.534045Z",
     "start_time": "2024-04-25T00:28:32.525474Z"
    }
   },
   "cell_type": "code",
   "source": [
    "sql = \"\"\"\n",
    "CREATE TABLE people (\n",
    "    id INT GENERATED BY DEFAULT AS IDENTITY,\n",
    "    first_name VARCHAR(50) NOT NULL,\n",
    "    last_name VARCHAR(50) NOT NULL\n",
    ");\n",
    "\"\"\"\n",
    "cursor.execute(sql)"
   ],
   "id": "bc8b735d1c09fa1c",
   "outputs": [
    {
     "data": {
      "text/plain": [
       "<psycopg.Cursor [COMMAND_OK] [INTRANS] (host=localhost user=postgres database=dvdrental) at 0x1b411c04d10>"
      ]
     },
     "execution_count": 10,
     "metadata": {},
     "output_type": "execute_result"
    }
   ],
   "execution_count": 10
  },
  {
   "metadata": {
    "ExecuteTime": {
     "end_time": "2024-04-25T00:28:34.270830Z",
     "start_time": "2024-04-25T00:28:34.236932Z"
    }
   },
   "cell_type": "code",
   "source": [
    "# 加载 pg_18_indexes_data 的数据并插入到 people 中\n",
    "with open('pg_18_indexes_data', 'r') as f:\n",
    "    commands = f.read()\n",
    "    cursor.execute(commands)\n"
   ],
   "id": "6e1f924576d2966",
   "outputs": [],
   "execution_count": 11
  },
  {
   "metadata": {
    "ExecuteTime": {
     "end_time": "2024-04-25T00:28:50.349203Z",
     "start_time": "2024-04-25T00:28:50.345585Z"
    }
   },
   "cell_type": "code",
   "source": [
    "sql = \"\"\"\n",
    "EXPLAIN SELECT \n",
    "  id, \n",
    "  first_name, \n",
    "  last_name \n",
    "FROM \n",
    "  people \n",
    "WHERE \n",
    "  last_name = 'Adams';\n",
    "\"\"\"\n",
    "run_sql(cursor, sql)"
   ],
   "id": "b7e9e4b5fcedd653",
   "outputs": [
    {
     "name": "stdout",
     "output_type": "stream",
     "text": [
      "                                          QUERY PLAN\n",
      "0  Seq Scan on people  (cost=0.00..83.88 rows=9 w...\n",
      "1        Filter: ((last_name)::text = 'Adams'::text)\n"
     ]
    }
   ],
   "execution_count": 12
  },
  {
   "metadata": {
    "ExecuteTime": {
     "end_time": "2024-04-25T00:29:26.905990Z",
     "start_time": "2024-04-25T00:29:26.880263Z"
    }
   },
   "cell_type": "code",
   "source": [
    "# 建立组合索引\n",
    "sql = \"\"\"\n",
    "CREATE INDEX idx_people_names \n",
    "ON people (last_name, first_name);\n",
    "\"\"\"\n",
    "cursor.execute(sql)"
   ],
   "id": "4ad7148f6b1acda0",
   "outputs": [
    {
     "data": {
      "text/plain": [
       "<psycopg.Cursor [COMMAND_OK] [INTRANS] (host=localhost user=postgres database=dvdrental) at 0x1b411c04d10>"
      ]
     },
     "execution_count": 13,
     "metadata": {},
     "output_type": "execute_result"
    }
   ],
   "execution_count": 13
  },
  {
   "metadata": {
    "ExecuteTime": {
     "end_time": "2024-04-25T00:29:28.288908Z",
     "start_time": "2024-04-25T00:29:28.284480Z"
    }
   },
   "cell_type": "code",
   "source": [
    "# 查询器会使用索引进行优化查询\n",
    "sql = \"\"\"\n",
    "EXPLAIN SELECT \n",
    "  id, \n",
    "  first_name, \n",
    "  last_name \n",
    "FROM \n",
    "  people \n",
    "WHERE \n",
    "  last_name = 'Adams';\n",
    "\"\"\"\n",
    "run_sql(cursor, sql)"
   ],
   "id": "518110de3f7d8b84",
   "outputs": [
    {
     "name": "stdout",
     "output_type": "stream",
     "text": [
      "                                          QUERY PLAN\n",
      "0  Bitmap Heap Scan on people  (cost=4.67..66.33 ...\n",
      "1    Recheck Cond: ((last_name)::text = 'Adams'::...\n",
      "2    ->  Bitmap Index Scan on idx_people_names  (...\n",
      "3          Index Cond: ((last_name)::text = 'Adam...\n"
     ]
    }
   ],
   "execution_count": 14
  },
  {
   "metadata": {
    "ExecuteTime": {
     "end_time": "2024-04-25T00:30:02.658822Z",
     "start_time": "2024-04-25T00:30:02.655555Z"
    }
   },
   "cell_type": "code",
   "source": [
    "# 查询器会使用索引进行优化查询\n",
    "sql = \"\"\"\n",
    "EXPLAIN SELECT \n",
    "  id, \n",
    "  first_name, \n",
    "  last_name \n",
    "FROM \n",
    "  people \n",
    "WHERE \n",
    "  last_name = 'Adams' \n",
    "  AND first_name = 'Lou';\n",
    "\"\"\"\n",
    "run_sql(cursor, sql)"
   ],
   "id": "d584c23879d41d83",
   "outputs": [
    {
     "name": "stdout",
     "output_type": "stream",
     "text": [
      "                                          QUERY PLAN\n",
      "0  Index Scan using idx_people_names on people  (...\n",
      "1    Index Cond: (((last_name)::text = 'Adams'::t...\n"
     ]
    }
   ],
   "execution_count": 15
  },
  {
   "metadata": {
    "ExecuteTime": {
     "end_time": "2024-04-25T00:31:08.427769Z",
     "start_time": "2024-04-25T00:31:08.424267Z"
    }
   },
   "cell_type": "code",
   "source": [
    "# 查询器未使用索引进行优化查询，因为索引的顺序和查询的顺序不一致\n",
    "sql = \"\"\"\n",
    "EXPLAIN SELECT \n",
    "  id, \n",
    "  first_name, \n",
    "  last_name \n",
    "FROM \n",
    "  people \n",
    "WHERE \n",
    "  first_name = 'Lou';\n",
    "\"\"\"\n",
    "run_sql(cursor, sql)"
   ],
   "id": "b5572c5fe714c9ac",
   "outputs": [
    {
     "name": "stdout",
     "output_type": "stream",
     "text": [
      "                                          QUERY PLAN\n",
      "0  Seq Scan on people  (cost=0.00..186.00 rows=50...\n",
      "1         Filter: ((first_name)::text = 'Lou'::text)\n"
     ]
    }
   ],
   "execution_count": 16
  },
  {
   "metadata": {},
   "cell_type": "markdown",
   "source": [
    "# 重建索引（ReIndex）\n",
    "\n",
    "实际上，由于硬件故障或软件错误，索引可能会损坏，不再包含有效数据。此外，在不使用 CONCURRENTLY 选项的情况下创建索引时，如果索引构建失败，索引可能会失效。在这种情况下，可以使用 `REINDEX` 语句重建索引。\n",
    "\n",
    "```\n",
    "REINDEX [ ( option, ...) ] \n",
    "{ INDEX | TABLE | SCHEMA | DATABASE | SYSTEM }\n",
    "name;\n",
    "```\n",
    "\n",
    "重建单个索引：\n",
    "> REINDEX INDEX index_name;\n",
    "> \n",
    "重建表的所有索引：\n",
    "> REINDEX TABLE table_name;\n",
    "> \n",
    "重建特定 `schema` 的所有索引：\n",
    "> REINDEX SCHEMA schema_name;\n",
    "> \n",
    "重建特定数据库的所有索引：\n",
    "> REINDEX DATABASE database_name;\n",
    "> \n",
    "特定数据库中的系统目录上重新创建所有索引：\n",
    "> REINDEX SYSTEM database_name;\n",
    "> \n",
    "\n",
    "## 重建 vs. 删除再新建的区别\n",
    "\n",
    "它们的目的是一样的，只是锁定机制不同。\n",
    "\n",
    "ReIndex 语句会\n",
    "- 锁定索引所属表的写入但不锁定读取\n",
    "- 对正在处理的索引加独占锁，从而阻止试图使用索引的读取\n",
    "\n",
    "删除再建语句会\n",
    "- 首先，`DROP INDEX` 通过获取对表的独占锁来锁定索引所属表的写入和读取\n",
    "- 随后的 `CREATE INDEX` 语句会锁定写入，但不会锁定索引父表的读取。不过，在创建索引期间，读取可能会很昂贵。"
   ],
   "id": "2cc9ad2f09a32187"
  },
  {
   "metadata": {},
   "cell_type": "markdown",
   "source": [
    "# 删除索引\n",
    "\n",
    "```\n",
    "DROP INDEX [ IF EXISTS ] index_name;\n",
    "```"
   ],
   "id": "14a8431c8a9a5ac1"
  },
  {
   "metadata": {},
   "cell_type": "markdown",
   "source": [
    "# 枚举索引\n",
    "\n",
    "可以通过访问 `pg_indexes` 视图来查看表的索引。`pg_indexes` 视图包括了以下列\n",
    "- `schemaname`：存储包含表和索引的模式名称\n",
    "- `tablename`：索引所属的表名称\n",
    "- `indexname`：索引名称\n",
    "- `tablespace`：索引所在的表空间\n",
    "- `indexdef`：索引定义"
   ],
   "id": "d47278d7451f2b6b"
  },
  {
   "metadata": {
    "ExecuteTime": {
     "end_time": "2024-04-25T00:48:45.705607Z",
     "start_time": "2024-04-25T00:48:45.694341Z"
    }
   },
   "cell_type": "code",
   "source": [
    "sql = \"\"\"\n",
    "SELECT\n",
    "    tablename,\n",
    "    indexname,\n",
    "    indexdef\n",
    "FROM\n",
    "    pg_indexes\n",
    "WHERE\n",
    "    schemaname = 'public'\n",
    "ORDER BY\n",
    "    tablename,\n",
    "    indexname;\n",
    "\"\"\"\n",
    "run_sql(cursor, sql)"
   ],
   "id": "a17fce427b0fc7d7",
   "outputs": [
    {
     "name": "stdout",
     "output_type": "stream",
     "text": [
      "        tablename                                          indexname  \\\n",
      "0        accounts                                      accounts_pkey   \n",
      "1           actor                                         actor_pkey   \n",
      "2           actor                                idx_actor_last_name   \n",
      "3         address                                       address_pkey   \n",
      "4         address                                     idx_fk_city_id   \n",
      "5        category                                      category_pkey   \n",
      "6            city                                          city_pkey   \n",
      "7            city                                  idx_fk_country_id   \n",
      "8         country                                       country_pkey   \n",
      "9        customer                                    customer_active   \n",
      "10       customer                                      customer_pkey   \n",
      "11       customer                                  idx_fk_address_id   \n",
      "12       customer                                    idx_fk_store_id   \n",
      "13       customer                                   idx_ic_last_name   \n",
      "14       customer                                      idx_last_name   \n",
      "15           film                                  film_fulltext_idx   \n",
      "16           film                                          film_pkey   \n",
      "17           film                                 idx_fk_language_id   \n",
      "18           film                                          idx_title   \n",
      "19     film_actor                                    film_actor_pkey   \n",
      "20     film_actor                                     idx_fk_film_id   \n",
      "21  film_category                                 film_category_pkey   \n",
      "22      inventory                               idx_store_id_film_id   \n",
      "23      inventory                                     inventory_pkey   \n",
      "24       language                                      language_pkey   \n",
      "25        payment                                 idx_fk_customer_id   \n",
      "26        payment                                   idx_fk_rental_id   \n",
      "27        payment                                    idx_fk_staff_id   \n",
      "28        payment                                       payment_pkey   \n",
      "29         people                                   idx_people_names   \n",
      "30         rental                                idx_fk_inventory_id   \n",
      "31         rental  idx_unq_rental_rental_date_inventory_id_custom...   \n",
      "32         rental                                        rental_pkey   \n",
      "33          staff                                         staff_pkey   \n",
      "34          store                           idx_unq_manager_staff_id   \n",
      "35          store                                         store_pkey   \n",
      "\n",
      "                                             indexdef  \n",
      "0   CREATE UNIQUE INDEX accounts_pkey ON public.ac...  \n",
      "1   CREATE UNIQUE INDEX actor_pkey ON public.actor...  \n",
      "2   CREATE INDEX idx_actor_last_name ON public.act...  \n",
      "3   CREATE UNIQUE INDEX address_pkey ON public.add...  \n",
      "4   CREATE INDEX idx_fk_city_id ON public.address ...  \n",
      "5   CREATE UNIQUE INDEX category_pkey ON public.ca...  \n",
      "6   CREATE UNIQUE INDEX city_pkey ON public.city U...  \n",
      "7   CREATE INDEX idx_fk_country_id ON public.city ...  \n",
      "8   CREATE UNIQUE INDEX country_pkey ON public.cou...  \n",
      "9   CREATE INDEX customer_active ON public.custome...  \n",
      "10  CREATE UNIQUE INDEX customer_pkey ON public.cu...  \n",
      "11  CREATE INDEX idx_fk_address_id ON public.custo...  \n",
      "12  CREATE INDEX idx_fk_store_id ON public.custome...  \n",
      "13  CREATE INDEX idx_ic_last_name ON public.custom...  \n",
      "14  CREATE INDEX idx_last_name ON public.customer ...  \n",
      "15  CREATE INDEX film_fulltext_idx ON public.film ...  \n",
      "16  CREATE UNIQUE INDEX film_pkey ON public.film U...  \n",
      "17  CREATE INDEX idx_fk_language_id ON public.film...  \n",
      "18  CREATE INDEX idx_title ON public.film USING bt...  \n",
      "19  CREATE UNIQUE INDEX film_actor_pkey ON public....  \n",
      "20  CREATE INDEX idx_fk_film_id ON public.film_act...  \n",
      "21  CREATE UNIQUE INDEX film_category_pkey ON publ...  \n",
      "22  CREATE INDEX idx_store_id_film_id ON public.in...  \n",
      "23  CREATE UNIQUE INDEX inventory_pkey ON public.i...  \n",
      "24  CREATE UNIQUE INDEX language_pkey ON public.la...  \n",
      "25  CREATE INDEX idx_fk_customer_id ON public.paym...  \n",
      "26  CREATE INDEX idx_fk_rental_id ON public.paymen...  \n",
      "27  CREATE INDEX idx_fk_staff_id ON public.payment...  \n",
      "28  CREATE UNIQUE INDEX payment_pkey ON public.pay...  \n",
      "29  CREATE INDEX idx_people_names ON public.people...  \n",
      "30  CREATE INDEX idx_fk_inventory_id ON public.ren...  \n",
      "31  CREATE UNIQUE INDEX idx_unq_rental_rental_date...  \n",
      "32  CREATE UNIQUE INDEX rental_pkey ON public.rent...  \n",
      "33  CREATE UNIQUE INDEX staff_pkey ON public.staff...  \n",
      "34  CREATE UNIQUE INDEX idx_unq_manager_staff_id O...  \n",
      "35  CREATE UNIQUE INDEX store_pkey ON public.store...  \n"
     ]
    }
   ],
   "execution_count": 17
  },
  {
   "metadata": {
    "ExecuteTime": {
     "end_time": "2024-04-25T00:49:10.027215Z",
     "start_time": "2024-04-25T00:49:10.023449Z"
    }
   },
   "cell_type": "code",
   "source": [
    "sql = \"\"\"\n",
    "SELECT\n",
    "    indexname,\n",
    "    indexdef\n",
    "FROM\n",
    "    pg_indexes\n",
    "WHERE\n",
    "    tablename = 'customer';\n",
    "\"\"\"\n",
    "run_sql(cursor, sql)"
   ],
   "id": "ae5217352bd63820",
   "outputs": [
    {
     "name": "stdout",
     "output_type": "stream",
     "text": [
      "           indexname                                           indexdef\n",
      "0      customer_pkey  CREATE UNIQUE INDEX customer_pkey ON public.cu...\n",
      "1  idx_fk_address_id  CREATE INDEX idx_fk_address_id ON public.custo...\n",
      "2    idx_fk_store_id  CREATE INDEX idx_fk_store_id ON public.custome...\n",
      "3      idx_last_name  CREATE INDEX idx_last_name ON public.customer ...\n",
      "4   idx_ic_last_name  CREATE INDEX idx_ic_last_name ON public.custom...\n",
      "5    customer_active  CREATE INDEX customer_active ON public.custome...\n"
     ]
    }
   ],
   "execution_count": 18
  },
  {
   "metadata": {
    "ExecuteTime": {
     "end_time": "2024-04-25T00:49:27.308479Z",
     "start_time": "2024-04-25T00:49:27.302964Z"
    }
   },
   "cell_type": "code",
   "source": [
    "sql = \"\"\"\n",
    "SELECT\n",
    "    tablename,\n",
    "    indexname,\n",
    "    indexdef\n",
    "FROM\n",
    "    pg_indexes\n",
    "WHERE\n",
    "    tablename LIKE 'c%'\n",
    "ORDER BY\n",
    "    tablename,\n",
    "    indexname;\n",
    "\"\"\"\n",
    "run_sql(cursor, sql)"
   ],
   "id": "fc0c14522359305d",
   "outputs": [
    {
     "name": "stdout",
     "output_type": "stream",
     "text": [
      "  tablename          indexname  \\\n",
      "0  category      category_pkey   \n",
      "1      city          city_pkey   \n",
      "2      city  idx_fk_country_id   \n",
      "3   country       country_pkey   \n",
      "4  customer    customer_active   \n",
      "5  customer      customer_pkey   \n",
      "6  customer  idx_fk_address_id   \n",
      "7  customer    idx_fk_store_id   \n",
      "8  customer   idx_ic_last_name   \n",
      "9  customer      idx_last_name   \n",
      "\n",
      "                                            indexdef  \n",
      "0  CREATE UNIQUE INDEX category_pkey ON public.ca...  \n",
      "1  CREATE UNIQUE INDEX city_pkey ON public.city U...  \n",
      "2  CREATE INDEX idx_fk_country_id ON public.city ...  \n",
      "3  CREATE UNIQUE INDEX country_pkey ON public.cou...  \n",
      "4  CREATE INDEX customer_active ON public.custome...  \n",
      "5  CREATE UNIQUE INDEX customer_pkey ON public.cu...  \n",
      "6  CREATE INDEX idx_fk_address_id ON public.custo...  \n",
      "7  CREATE INDEX idx_fk_store_id ON public.custome...  \n",
      "8  CREATE INDEX idx_ic_last_name ON public.custom...  \n",
      "9  CREATE INDEX idx_last_name ON public.customer ...  \n"
     ]
    }
   ],
   "execution_count": 19
  },
  {
   "metadata": {},
   "cell_type": "markdown",
   "source": [
    "# 索引类型\n",
    "\n",
    "## B-tree 索引\n",
    "\n",
    "B 树是一种自平衡树，它能对数据进行排序，并允许在对数时间内进行搜索、插入、删除和顺序访问。当索引列涉及到以下的比较时，PostgreSQL 查询规划器会考虑使用 `B-tree` 索引：\n",
    "```\n",
    "<\n",
    "<=\n",
    "=\n",
    ">=\n",
    "BETWEEN\n",
    "IN\n",
    "IS NULL\n",
    "IS NOT NULL\n",
    "```\n",
    "\n",
    "还有一种情况会使用 `B-tree` 索引的情况就是模式匹配查询，例如 `LIKE` 和 `~`。\n",
    "\n",
    "## Hash 索引\n",
    "\n",
    "`Hash 索引` 只能处理简单的 `=` 判断。\n",
    "\n",
    "```\n",
    "CREATE INDEX index_name \n",
    "ON table_name USING HASH (indexed_column);\n",
    "```\n",
    "\n",
    "## GIN 索引\n",
    "\n",
    "`GIN` 是 `Generalized INverted` 的缩写。GIN 索引在单列存储多个值时最有用，例如 hstore、数组、jsonb 和范围类型。\n",
    "\n",
    "## BRIN 索引\n",
    "\n",
    "`BRIN` 是 `Block Range INdexes` 的缩写。与 `B-tree` 索引相比，`BRIN` 的体积更小，维护成本更低。`BRIN` 允许在大型表中使用索引，而在没有水平分区的情况下使用 `B-tree` 索引是不现实的。`BRIN` 通常用于具有线性排序顺序的列，例如销售订单表的创建日期列。\n",
    "\n",
    "## GiST 索引\n",
    "\n",
    "`GiST` 是 `Generalized Search Tree` 的缩写。`GiST` 索引允许建立一般的树形结构。`GiST` 索引可用于几何数据类型索引和全文检索。\n",
    "\n",
    "## SP-GiST 索引\n",
    "\n",
    "`SP-GiST` 是 `space-partitioned GiST` 的缩写。`SP-GiST` 支持分区搜索树，便于开发各种不同的非平衡数据结构。`SP-GiST` 索引最适用于具有自然聚类元素，但也不是均衡树的数据，例如地理信息系统、多媒体、电话路由和 IP 路由。"
   ],
   "id": "7ec9d025d479094e"
  },
  {
   "metadata": {},
   "cell_type": "markdown",
   "source": "",
   "id": "a5072224b1507496"
  },
  {
   "metadata": {},
   "cell_type": "markdown",
   "source": [
    "# JSON \n",
    "\n",
    "\n",
    "\n",
    "针对 `JSONB` 类型的列的索引，用于提高查询性能。PostgreSQL 使用 GIN 索引类型为具有 JSONB 数据类型的列建立索引。GIN 是 Generalized Inverted Index（广义反转索引）的缩写。\n",
    "\n",
    "```\n",
    "CREATE INDEX index_name\n",
    "ON table_name \n",
    "USING GIN(jsonb_column);\n",
    "```\n",
    "\n",
    "当创建 `GIN` 索引时，可以使用特定的 GIN 运算符类。运算符类决定 PostgreSQL 如何构建索引以及如何优化索引列上的查询。例如：\n",
    "```\n",
    "CREATE INDEX index_name\n",
    "ON table_name \n",
    "USING GIN(jsonb_column jsonb_path_ops);\n",
    "```\n",
    "\n",
    "`jsonb_path_ops` 就是一个运算符类，它允许使用 `@>`、`@@` 和 `?` 运算符来查询 JSONB 数据类型的列。运算符类别有：\n",
    "\n",
    "| Name           | Indexable Operators    |\n",
    "|----------------|------------------------|\n",
    "| array_ops      | && (anyarray,anyarray) |\n",
    "|                | @> (anyarray,anyarray) |\n",
    "|                | <@ (anyarray,anyarray) |\n",
    "|                | = (anyarray,anyarray)  |\n",
    "| jsonb_ops      | @> (jsonb,jsonb)       |\n",
    "|                | @? (jsonb,jsonpath)    |\n",
    "|                | @@ (jsonb,jsonpath)    |\n",
    "|                | ? (jsonb,text)         |\n",
    "|                | ?\\| (jsonb,text[])     |\n",
    "|                | ?& (jsonb,text[])      |\n",
    "| jsonb_path_ops | @> (jsonb,jsonb)       |\n",
    "|                | @? (jsonb,jsonpath)    |\n",
    "|                | @@ (jsonb,jsonpath)    |\n",
    "| tsvector_ops   | @@ (tsvector,tsquery)  |\n",
    "|                | @@@ (tsvector,tsquery) |\n",
    "\n",
    "\n",
    "`GIN` 索引默认使用 `jsonb_ops` 运算符。如果要使用其他运算符类，可以在创建索引时指定。除此之外，PostgreSQL 还可以为指定字段创建 `GIN` 索引：\n",
    "```\n",
    "CREATE INDEX index_name \n",
    "ON table_name \n",
    "USING GIN ((data->'field_name') jsonb_path_ops);\n",
    "```"
   ],
   "id": "73ff04fb2f96c259"
  },
  {
   "metadata": {
    "ExecuteTime": {
     "end_time": "2024-04-25T07:40:26.329305Z",
     "start_time": "2024-04-25T07:40:26.315046Z"
    }
   },
   "cell_type": "code",
   "source": [
    "sql = \"\"\"\n",
    "CREATE TABLE customer_json(\n",
    "   id SERIAL PRIMARY KEY,\n",
    "   data JSONB NOT NULL\n",
    ");\n",
    "\"\"\"\n",
    "cursor.execute(sql)"
   ],
   "id": "23b79564da85abd7",
   "outputs": [
    {
     "data": {
      "text/plain": [
       "<psycopg.Cursor [COMMAND_OK] [INTRANS] (host=localhost user=postgres database=dvdrental) at 0x290a8ac5250>"
      ]
     },
     "execution_count": 9,
     "metadata": {},
     "output_type": "execute_result"
    }
   ],
   "execution_count": 9
  },
  {
   "metadata": {
    "ExecuteTime": {
     "end_time": "2024-04-25T07:40:27.833644Z",
     "start_time": "2024-04-25T07:40:27.822936Z"
    }
   },
   "cell_type": "code",
   "source": [
    "sql = \"\"\"\n",
    "WITH json_cte AS(\n",
    "  SELECT \n",
    "    jsonb_build_object(\n",
    "      'first_name',  first_name, \n",
    "      'last_name',  last_name, \n",
    "      'email',  email, \n",
    "      'phone',  a.phone, \n",
    "      'address', \n",
    "      jsonb_build_object(\n",
    "        'address', a.address, \n",
    "        'city', i.city, \n",
    "        'postal_code', a.postal_code, \n",
    "        'district',  a.district, \n",
    "        'country', o.country\n",
    "      )\n",
    "    ):: jsonb AS data \n",
    "  FROM \n",
    "    customer c \n",
    "    INNER JOIN address a ON a.address_id = c.address_id \n",
    "    INNER JOIN city i ON i.city_id = a.city_id \n",
    "    INNER JOIN country o ON o.country_id = i.country_id\n",
    ") \n",
    "INSERT INTO customer_json(data) \n",
    "SELECT \n",
    "  data \n",
    "FROM \n",
    "  json_cte;\n",
    "\"\"\"\n",
    "cursor.execute(sql)"
   ],
   "id": "ac069f12cbc1a40a",
   "outputs": [
    {
     "data": {
      "text/plain": [
       "<psycopg.Cursor [COMMAND_OK] [INTRANS] (host=localhost user=postgres database=dvdrental) at 0x290a8ac5250>"
      ]
     },
     "execution_count": 10,
     "metadata": {},
     "output_type": "execute_result"
    }
   ],
   "execution_count": 10
  },
  {
   "metadata": {
    "ExecuteTime": {
     "end_time": "2024-04-25T07:40:30.214692Z",
     "start_time": "2024-04-25T07:40:30.211727Z"
    }
   },
   "cell_type": "code",
   "source": [
    "# 查询\n",
    "sql = \"\"\"\n",
    "EXPLAIN ANALYZE  \n",
    "SELECT\n",
    "   data ->> 'first_name' first_name,\n",
    "   data ->> 'last_name' last_name,\n",
    "   data ->> 'phone' phone\n",
    "FROM\n",
    "   customer_json\n",
    "WHERE\n",
    "   data @> '{\"first_name\": \"John\"}'; \n",
    "\"\"\"\n",
    "run_sql(cursor, sql)"
   ],
   "id": "d82ebc69e0c36141",
   "outputs": [
    {
     "name": "stdout",
     "output_type": "stream",
     "text": [
      "                                          QUERY PLAN\n",
      "0  Seq Scan on customer_json  (cost=0.00..62.33 r...\n",
      "1    Filter: (data @> '{\"first_name\": \"John\"}'::j...\n",
      "2                        Rows Removed by Filter: 598\n",
      "3                            Planning Time: 0.053 ms\n",
      "4                           Execution Time: 0.088 ms\n"
     ]
    }
   ],
   "execution_count": 11
  },
  {
   "metadata": {
    "ExecuteTime": {
     "end_time": "2024-04-25T07:40:32.732062Z",
     "start_time": "2024-04-25T07:40:32.722305Z"
    }
   },
   "cell_type": "code",
   "source": [
    "# 创建索引\n",
    "sql = \"\"\"\n",
    "CREATE INDEX customer_json_index \n",
    "ON customer_json \n",
    "USING GIN(data);\n",
    "\"\"\"\n",
    "cursor.execute(sql)"
   ],
   "id": "6f06eb3aad7104ef",
   "outputs": [
    {
     "data": {
      "text/plain": [
       "<psycopg.Cursor [COMMAND_OK] [INTRANS] (host=localhost user=postgres database=dvdrental) at 0x290a8ac5250>"
      ]
     },
     "execution_count": 12,
     "metadata": {},
     "output_type": "execute_result"
    }
   ],
   "execution_count": 12
  },
  {
   "metadata": {
    "ExecuteTime": {
     "end_time": "2024-04-25T07:40:40.229474Z",
     "start_time": "2024-04-25T07:40:40.224642Z"
    }
   },
   "cell_type": "code",
   "source": [
    "# 创建索引\n",
    "sql = \"\"\"\n",
    "EXPLAIN ANALYZE  \n",
    "SELECT\n",
    "   data ->> 'first_name' first_name,\n",
    "   data ->> 'last_name' last_name,\n",
    "   data ->> 'phone' phone\n",
    "FROM\n",
    "   customer_json\n",
    "WHERE\n",
    "   data @> '{\"first_name\": \"John\"}'; \n",
    "\"\"\"\n",
    "run_sql(cursor, sql)"
   ],
   "id": "1c891d79d55abafe",
   "outputs": [
    {
     "name": "stdout",
     "output_type": "stream",
     "text": [
      "                                          QUERY PLAN\n",
      "0  Seq Scan on customer_json  (cost=0.00..31.53 r...\n",
      "1    Filter: (data @> '{\"first_name\": \"John\"}'::j...\n",
      "2                        Rows Removed by Filter: 598\n",
      "3                            Planning Time: 0.838 ms\n",
      "4                           Execution Time: 0.084 ms\n"
     ]
    }
   ],
   "execution_count": 13
  },
  {
   "metadata": {},
   "cell_type": "markdown",
   "source": "### 使用 GIN operator class",
   "id": "57ca1eac6747b68d"
  },
  {
   "metadata": {
    "ExecuteTime": {
     "end_time": "2024-04-25T07:42:43.295724Z",
     "start_time": "2024-04-25T07:42:43.287282Z"
    }
   },
   "cell_type": "code",
   "source": [
    "sql = \"\"\"\n",
    "DROP INDEX customer_json_index;\n",
    "\n",
    "CREATE INDEX customer_json_index \n",
    "ON customer_json \n",
    "USING GIN(data jsonb_path_ops);\n",
    "\"\"\"\n",
    "cursor.execute(sql)"
   ],
   "id": "a41ad7c4a4f45d2e",
   "outputs": [
    {
     "data": {
      "text/plain": [
       "<psycopg.Cursor [COMMAND_OK] [INTRANS] (host=localhost user=postgres database=dvdrental) at 0x290a8ac5250>"
      ]
     },
     "execution_count": 14,
     "metadata": {},
     "output_type": "execute_result"
    }
   ],
   "execution_count": 14
  },
  {
   "metadata": {
    "ExecuteTime": {
     "end_time": "2024-04-25T07:42:45.290300Z",
     "start_time": "2024-04-25T07:42:45.286055Z"
    }
   },
   "cell_type": "code",
   "source": [
    "# 创建索引\n",
    "sql = \"\"\"\n",
    "EXPLAIN ANALYZE  \n",
    "SELECT\n",
    "   data ->> 'first_name' first_name,\n",
    "   data ->> 'last_name' last_name,\n",
    "   data ->> 'phone' phone\n",
    "FROM\n",
    "   customer_json\n",
    "WHERE\n",
    "   data @> '{\"first_name\": \"John\"}'; \n",
    "\"\"\"\n",
    "run_sql(cursor, sql)"
   ],
   "id": "6517c62e1b12af54",
   "outputs": [
    {
     "name": "stdout",
     "output_type": "stream",
     "text": [
      "                                          QUERY PLAN\n",
      "0  Bitmap Heap Scan on customer_json  (cost=12.85...\n",
      "1    Recheck Cond: (data @> '{\"first_name\": \"John...\n",
      "2                               Heap Blocks: exact=1\n",
      "3    ->  Bitmap Index Scan on customer_json_index...\n",
      "4          Index Cond: (data @> '{\"first_name\": \"...\n",
      "5                            Planning Time: 0.711 ms\n",
      "6                           Execution Time: 0.031 ms\n"
     ]
    }
   ],
   "execution_count": 15
  },
  {
   "metadata": {
    "ExecuteTime": {
     "end_time": "2024-04-25T07:43:16.754548Z",
     "start_time": "2024-04-25T07:43:16.750773Z"
    }
   },
   "cell_type": "code",
   "source": [
    "sql = \"\"\"\n",
    "EXPLAIN ANALYZE \n",
    "SELECT * FROM customer_json\n",
    "WHERE data->>'first_name' = 'John';\n",
    "\"\"\"\n",
    "run_sql(cursor, sql)"
   ],
   "id": "338519bd4f26ee3b",
   "outputs": [
    {
     "name": "stdout",
     "output_type": "stream",
     "text": [
      "                                          QUERY PLAN\n",
      "0  Seq Scan on customer_json  (cost=0.00..32.98 r...\n",
      "1    Filter: ((data ->> 'first_name'::text) = 'Jo...\n",
      "2                        Rows Removed by Filter: 598\n",
      "3                            Planning Time: 0.053 ms\n",
      "4                           Execution Time: 0.080 ms\n"
     ]
    }
   ],
   "execution_count": 16
  },
  {
   "metadata": {},
   "cell_type": "markdown",
   "source": "### 在指定字段创建索引",
   "id": "2d855a7e2638e9cc"
  },
  {
   "metadata": {
    "ExecuteTime": {
     "end_time": "2024-04-25T07:44:30.119524Z",
     "start_time": "2024-04-25T07:44:30.114377Z"
    }
   },
   "cell_type": "code",
   "source": [
    "sql = \"\"\"\n",
    "DROP INDEX customer_json_index;\n",
    "\n",
    "CREATE INDEX customer_json_index \n",
    "ON customer_json \n",
    "USING GIN((data->'first_name'));\n",
    "\"\"\"\n",
    "cursor.execute(sql)"
   ],
   "id": "5b7e425c1b50920c",
   "outputs": [
    {
     "data": {
      "text/plain": [
       "<psycopg.Cursor [COMMAND_OK] [INTRANS] (host=localhost user=postgres database=dvdrental) at 0x290a8ac5250>"
      ]
     },
     "execution_count": 17,
     "metadata": {},
     "output_type": "execute_result"
    }
   ],
   "execution_count": 17
  },
  {
   "metadata": {
    "ExecuteTime": {
     "end_time": "2024-04-25T07:44:33.266078Z",
     "start_time": "2024-04-25T07:44:33.262204Z"
    }
   },
   "cell_type": "code",
   "source": [
    "sql = \"\"\"\n",
    "EXPLAIN ANALYZE  \n",
    "SELECT\n",
    "   data ->> 'first_name' first_name,\n",
    "   data ->> 'last_name' last_name,\n",
    "   data ->> 'phone' phone\n",
    "FROM\n",
    "   customer_json\n",
    "WHERE\n",
    "   data->'first_name' @> '\"John\"';\n",
    "\"\"\"\n",
    "run_sql(cursor, sql)"
   ],
   "id": "56d5be1e851d3736",
   "outputs": [
    {
     "name": "stdout",
     "output_type": "stream",
     "text": [
      "                                          QUERY PLAN\n",
      "0  Bitmap Heap Scan on customer_json  (cost=8.58....\n",
      "1    Recheck Cond: ((data -> 'first_name'::text) ...\n",
      "2                               Heap Blocks: exact=1\n",
      "3    ->  Bitmap Index Scan on customer_json_index...\n",
      "4          Index Cond: ((data -> 'first_name'::te...\n",
      "5                            Planning Time: 0.565 ms\n",
      "6                           Execution Time: 0.028 ms\n"
     ]
    }
   ],
   "execution_count": 18
  }
 ],
 "metadata": {
  "kernelspec": {
   "display_name": "Python 3",
   "language": "python",
   "name": "python3"
  },
  "language_info": {
   "codemirror_mode": {
    "name": "ipython",
    "version": 2
   },
   "file_extension": ".py",
   "mimetype": "text/x-python",
   "name": "python",
   "nbconvert_exporter": "python",
   "pygments_lexer": "ipython2",
   "version": "2.7.6"
  }
 },
 "nbformat": 4,
 "nbformat_minor": 5
}
