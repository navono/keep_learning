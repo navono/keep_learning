{
 "cells": [
  {
   "cell_type": "markdown",
   "source": [
    "`FULL OUTER JOIN` 返回的是 `LEFT JOIN` 和 `RIGHT JOIN` 数据的集合。\n",
    "\n",
    "```\n",
    "SELECT select_list\n",
    "FROM table1\n",
    "FULL OUTER JOIN table2 \n",
    "   ON table1.column_name = table2.column_name;\n",
    "```"
   ],
   "metadata": {
    "collapsed": false
   },
   "id": "3dd737f15380dd6d"
  },
  {
   "cell_type": "code",
   "execution_count": 4,
   "id": "initial_id",
   "metadata": {
    "collapsed": true,
    "ExecuteTime": {
     "end_time": "2024-01-24T06:54:28.517903100Z",
     "start_time": "2024-01-24T06:54:28.477901100Z"
    }
   },
   "outputs": [],
   "source": [
    "import ipynb_importer\n",
    "%run pg_00_common.ipynb\n",
    "cursor = pg_connect()"
   ]
  },
  {
   "cell_type": "code",
   "outputs": [],
   "source": [
    "table1_sql = \"\"\"\n",
    "CREATE TABLE departments (\n",
    "  department_id serial PRIMARY KEY, \n",
    "  department_name VARCHAR (255) NOT NULL\n",
    ");\n",
    "\"\"\"\n",
    "table2_sql = \"\"\"\n",
    "CREATE TABLE employees (\n",
    "  employee_id serial PRIMARY KEY, \n",
    "  employee_name VARCHAR (255), \n",
    "  department_id INTEGER\n",
    ");\n",
    "\"\"\"\n",
    "\n",
    "table1_data_sql = \"\"\"\n",
    "INSERT INTO departments (department_name) \n",
    "VALUES \n",
    "  ('Sales'), \n",
    "  ('Marketing'), \n",
    "  ('HR'), \n",
    "  ('IT'), \n",
    "  ('Production');\n",
    "\"\"\"\n",
    "table2_data_sql = \"\"\"\n",
    "INSERT INTO employees (employee_name, department_id) \n",
    "VALUES \n",
    "  ('Bette Nicholson', 1), \n",
    "  ('Christian Gable', 1), \n",
    "  ('Joe Swank', 2), \n",
    "  ('Fred Costner', 3), \n",
    "  ('Sandra Kilmer', 4), \n",
    "  ('Julia Mcqueen', NULL);\n",
    "\"\"\""
   ],
   "metadata": {
    "collapsed": false,
    "ExecuteTime": {
     "end_time": "2024-01-24T06:54:30.043360700Z",
     "start_time": "2024-01-24T06:54:30.028358800Z"
    }
   },
   "id": "34db47314c8c6f80",
   "execution_count": 5
  },
  {
   "cell_type": "code",
   "outputs": [
    {
     "data": {
      "text/plain": "<psycopg.Cursor [COMMAND_OK] [INTRANS] (host=localhost user=postgres database=dvdrental) at 0x171ffb55850>"
     },
     "execution_count": 6,
     "metadata": {},
     "output_type": "execute_result"
    }
   ],
   "source": [
    "cursor.execute(table1_sql)\n",
    "cursor.execute(table2_sql)\n",
    "cursor.execute(table1_data_sql)\n",
    "cursor.execute(table2_data_sql)"
   ],
   "metadata": {
    "collapsed": false,
    "ExecuteTime": {
     "end_time": "2024-01-24T06:54:31.997465200Z",
     "start_time": "2024-01-24T06:54:31.966588100Z"
    }
   },
   "id": "2144db4144ec6117",
   "execution_count": 6
  },
  {
   "cell_type": "code",
   "outputs": [
    {
     "name": "stdout",
     "output_type": "stream",
     "text": [
      "     employee_name department_name\n",
      "0  Bette Nicholson           Sales\n",
      "1  Christian Gable           Sales\n",
      "2        Joe Swank       Marketing\n",
      "3     Fred Costner              HR\n",
      "4    Sandra Kilmer              IT\n",
      "5    Julia Mcqueen            None\n",
      "6             None      Production\n"
     ]
    }
   ],
   "source": [
    "sql = \"\"\"\n",
    "SELECT \n",
    "  employee_name, \n",
    "  department_name \n",
    "FROM \n",
    "  employees e \n",
    "FULL OUTER JOIN departments d \n",
    "  ON d.department_id = e.department_id;\n",
    "\"\"\"\n",
    "\n",
    "run_sql(cursor, sql)"
   ],
   "metadata": {
    "collapsed": false,
    "ExecuteTime": {
     "end_time": "2024-01-24T06:54:33.969072700Z",
     "start_time": "2024-01-24T06:54:33.940070900Z"
    }
   },
   "id": "c995e02717dccca0",
   "execution_count": 7
  },
  {
   "cell_type": "code",
   "outputs": [
    {
     "name": "stdout",
     "output_type": "stream",
     "text": [
      "  employee_name department_name\n",
      "0          None      Production\n"
     ]
    }
   ],
   "source": [
    "sql = \"\"\"\n",
    "SELECT \n",
    "  employee_name, \n",
    "  department_name \n",
    "FROM \n",
    "  employees e \n",
    "FULL OUTER JOIN departments d \n",
    "  ON d.department_id = e.department_id \n",
    "WHERE \n",
    "  employee_name IS NULL;\n",
    "\"\"\"\n",
    "\n",
    "run_sql(cursor, sql)"
   ],
   "metadata": {
    "collapsed": false,
    "ExecuteTime": {
     "end_time": "2024-01-24T06:55:16.563856200Z",
     "start_time": "2024-01-24T06:55:16.545856400Z"
    }
   },
   "id": "1ad7cf51e2245fed",
   "execution_count": 8
  },
  {
   "cell_type": "code",
   "outputs": [
    {
     "name": "stdout",
     "output_type": "stream",
     "text": [
      "   employee_name department_name\n",
      "0  Julia Mcqueen            None\n"
     ]
    }
   ],
   "source": [
    "sql = \"\"\"\n",
    "SELECT \n",
    "  employee_name, \n",
    "  department_name \n",
    "FROM \n",
    "  employees e \n",
    "FULL OUTER JOIN departments d \n",
    "  ON d.department_id = e.department_id \n",
    "WHERE \n",
    "  department_name IS NULL;\n",
    "\"\"\"\n",
    "\n",
    "run_sql(cursor, sql)"
   ],
   "metadata": {
    "collapsed": false,
    "ExecuteTime": {
     "end_time": "2024-01-24T06:55:34.837963600Z",
     "start_time": "2024-01-24T06:55:34.833669600Z"
    }
   },
   "id": "a7e406bb56cc0f78",
   "execution_count": 9
  }
 ],
 "metadata": {
  "kernelspec": {
   "display_name": "Python 3",
   "language": "python",
   "name": "python3"
  },
  "language_info": {
   "codemirror_mode": {
    "name": "ipython",
    "version": 2
   },
   "file_extension": ".py",
   "mimetype": "text/x-python",
   "name": "python",
   "nbconvert_exporter": "python",
   "pygments_lexer": "ipython2",
   "version": "2.7.6"
  }
 },
 "nbformat": 4,
 "nbformat_minor": 5
}
