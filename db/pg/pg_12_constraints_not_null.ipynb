{
 "cells": [
  {
   "cell_type": "markdown",
   "source": [
    "# NOT NULL\n",
    "```\n",
    "CREATE TABLE table_name(\n",
    "   ...\n",
    "   column_name data_type NOT NULL,\n",
    "   ...\n",
    ");\n",
    "```\n",
    "\n",
    "```\n",
    "CREATE TABLE invoices(\n",
    "  id SERIAL PRIMARY KEY,\n",
    "  product_id INT NOT NULL,\n",
    "  qty numeric NOT NULL CHECK(qty > 0),\n",
    "  net_price numeric CHECK(net_price > 0) \n",
    ");\n",
    "```\n",
    "\n",
    "修改已存在的表\n",
    "```\n",
    "ALTER TABLE table_name\n",
    "ALTER COLUMN column_name SET NOT NULL;\n",
    "```\n",
    "\n",
    "还有一个场景：\n",
    "```\n",
    "CREATE TABLE users (\n",
    "  id serial PRIMARY KEY, \n",
    "  username VARCHAR (50), \n",
    "  password VARCHAR (50), \n",
    "  email VARCHAR (50), \n",
    "  CONSTRAINT username_email_notnull CHECK (\n",
    "    NOT (\n",
    "      (\n",
    "        username IS NULL \n",
    "        OR username = ''\n",
    "      ) \n",
    "      AND (\n",
    "        email IS NULL \n",
    "        OR email = ''\n",
    "      )\n",
    "    )\n",
    "  )\n",
    ");\n",
    "```"
   ],
   "metadata": {
    "collapsed": false
   },
   "id": "16d8ee72fd361909"
  }
 ],
 "metadata": {
  "kernelspec": {
   "display_name": "Python 3",
   "language": "python",
   "name": "python3"
  },
  "language_info": {
   "codemirror_mode": {
    "name": "ipython",
    "version": 2
   },
   "file_extension": ".py",
   "mimetype": "text/x-python",
   "name": "python",
   "nbconvert_exporter": "python",
   "pygments_lexer": "ipython2",
   "version": "2.7.6"
  }
 },
 "nbformat": 4,
 "nbformat_minor": 5
}
