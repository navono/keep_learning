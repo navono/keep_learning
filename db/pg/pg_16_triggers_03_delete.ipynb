{
 "cells": [
  {
   "cell_type": "code",
   "id": "initial_id",
   "metadata": {
    "collapsed": true,
    "ExecuteTime": {
     "end_time": "2024-04-23T00:10:39.441204Z",
     "start_time": "2024-04-23T00:10:39.401221Z"
    }
   },
   "source": [
    "from common import *\n",
    "\n",
    "cursor = connect()"
   ],
   "outputs": [],
   "execution_count": 13
  },
  {
   "metadata": {},
   "cell_type": "markdown",
   "source": [
    "# BEFORE DELETE\n",
    "\n",
    "语法\n",
    "```\n",
    "CREATE TRIGGER trigger_name\n",
    "BEFORE DELETE ON table_name\n",
    "FOR EACH ROW\n",
    "EXECUTE FUNCTION trigger_function_name();\n",
    "```"
   ],
   "id": "b1b1ad5db8192caf"
  },
  {
   "metadata": {
    "ExecuteTime": {
     "end_time": "2024-04-23T00:10:24.247028Z",
     "start_time": "2024-04-23T00:10:24.237181Z"
    }
   },
   "cell_type": "code",
   "source": [
    "sql = \"\"\"\n",
    "CREATE TABLE products (\n",
    "    id SERIAL PRIMARY KEY,\n",
    "    name VARCHAR(100) NOT NULL,\n",
    "    price NUMERIC(10, 2) NOT NULL,\n",
    "    status BOOLEAN NOT NULL DEFAULT true\n",
    ");\n",
    "\n",
    "INSERT INTO products (name, price, status) \n",
    "VALUES\n",
    "  ('A', 10.99, true),\n",
    "  ('B', 20.49, false),\n",
    "  ('C', 15.79, true)\n",
    "RETURNING *;\n",
    "\"\"\"\n",
    "cursor.execute(sql)"
   ],
   "id": "42ff1b1f25c0dba2",
   "outputs": [
    {
     "data": {
      "text/plain": [
       "<psycopg.Cursor [COMMAND_OK] [INTRANS] (host=localhost user=postgres database=dvdrental) at 0x18d966ee8d0>"
      ]
     },
     "execution_count": 9,
     "metadata": {},
     "output_type": "execute_result"
    }
   ],
   "execution_count": 9
  },
  {
   "metadata": {
    "ExecuteTime": {
     "end_time": "2024-04-23T00:10:24.252390Z",
     "start_time": "2024-04-23T00:10:24.247028Z"
    }
   },
   "cell_type": "code",
   "source": [
    "sql = \"\"\"\n",
    "CREATE OR REPLACE FUNCTION fn_before_delete_product()\n",
    "RETURNS TRIGGER \n",
    "AS\n",
    "$$\n",
    "BEGIN\n",
    "    RAISE EXCEPTION 'Deletion from the products table is not allowed.';\n",
    "END;\n",
    "$$\n",
    "LANGUAGE plpgsql;\n",
    "\n",
    "CREATE TRIGGER before_delete_product_trigger\n",
    "BEFORE DELETE ON products\n",
    "FOR EACH ROW\n",
    "EXECUTE FUNCTION fn_before_delete_product();\n",
    "\"\"\"\n",
    "cursor.execute(sql)"
   ],
   "id": "2bec8667624b0b40",
   "outputs": [
    {
     "data": {
      "text/plain": [
       "<psycopg.Cursor [COMMAND_OK] [INTRANS] (host=localhost user=postgres database=dvdrental) at 0x18d966ee8d0>"
      ]
     },
     "execution_count": 10,
     "metadata": {},
     "output_type": "execute_result"
    }
   ],
   "execution_count": 10
  },
  {
   "metadata": {
    "ExecuteTime": {
     "end_time": "2024-04-23T00:10:24.258653Z",
     "start_time": "2024-04-23T00:10:24.252390Z"
    }
   },
   "cell_type": "code",
   "source": [
    "sql = \"\"\"\n",
    "DELETE FROM products\n",
    "WHERE id = 1;\n",
    "\"\"\"\n",
    "try:\n",
    "    cursor.execute(sql)\n",
    "except Exception as e:\n",
    "    print(e)"
   ],
   "id": "7ff924507fe8136b",
   "outputs": [
    {
     "name": "stdout",
     "output_type": "stream",
     "text": [
      "Deletion from the products table is not allowed.\n",
      "CONTEXT:  在RAISE的第3行的PL/pgSQL函数fn_before_delete_product()\n"
     ]
    }
   ],
   "execution_count": 11
  },
  {
   "metadata": {},
   "cell_type": "markdown",
   "source": [
    "# AFTER DELETE\n",
    "\n",
    "语法\n",
    "```\n",
    "CREATE TRIGGER trigger_name\n",
    "AFTER DELETE ON table_name\n",
    "FOR EACH ROW\n",
    "EXECUTE FUNCTION trigger_function_name();\n",
    "```"
   ],
   "id": "502851854e059840"
  },
  {
   "metadata": {
    "ExecuteTime": {
     "end_time": "2024-04-23T00:10:41.949534Z",
     "start_time": "2024-04-23T00:10:41.935426Z"
    }
   },
   "cell_type": "code",
   "source": [
    "sql = \"\"\"\n",
    "CREATE TABLE employees (\n",
    "    id SERIAL PRIMARY KEY,\n",
    "    name VARCHAR(100) NOT NULL,\n",
    "    salary NUMERIC(10, 2) NOT NULL\n",
    ");\n",
    "\n",
    "INSERT INTO employees(name, salary)\n",
    "VALUES\n",
    "   ('John Doe', 90000),\n",
    "   ('Jane Doe', 80000)\n",
    "RETURNING *;\n",
    "\"\"\"\n",
    "cursor.execute(sql)"
   ],
   "id": "1dcb019222f93972",
   "outputs": [
    {
     "data": {
      "text/plain": [
       "<psycopg.Cursor [COMMAND_OK] [INTRANS] (host=localhost user=postgres database=dvdrental) at 0x18d96eddcd0>"
      ]
     },
     "execution_count": 14,
     "metadata": {},
     "output_type": "execute_result"
    }
   ],
   "execution_count": 14
  },
  {
   "metadata": {
    "ExecuteTime": {
     "end_time": "2024-04-23T00:10:44.542556Z",
     "start_time": "2024-04-23T00:10:44.528748Z"
    }
   },
   "cell_type": "code",
   "source": [
    "sql = \"\"\"\n",
    "CREATE TABLE employee_archives(\n",
    "    id SERIAL PRIMARY KEY,\n",
    "    name VARCHAR(100) NOT NULL,\n",
    "\n",
    "    salary NUMERIC(10, 2) NOT NULL,\n",
    "    deleted_at TIMESTAMP DEFAULT CURRENT_TIMESTAMP\n",
    ");\n",
    "\n",
    "CREATE OR REPLACE FUNCTION archive_deleted_employee()\n",
    "RETURNS TRIGGER \n",
    "AS\n",
    "$$\n",
    "BEGIN\n",
    "    INSERT INTO employee_archives(id, name, salary)\n",
    "    VALUES (OLD.id, OLD.name, OLD.salary);\n",
    "    \n",
    "    RETURN OLD; \n",
    "END;\n",
    "$$\n",
    "LANGUAGE plpgsql;\n",
    "\n",
    "CREATE TRIGGER after_delete_employee_trigger\n",
    "AFTER DELETE ON employees\n",
    "FOR EACH ROW\n",
    "EXECUTE FUNCTION archive_deleted_employee();\n",
    "\"\"\"\n",
    "cursor.execute(sql)"
   ],
   "id": "8c8d3865acfb06be",
   "outputs": [
    {
     "data": {
      "text/plain": [
       "<psycopg.Cursor [COMMAND_OK] [INTRANS] (host=localhost user=postgres database=dvdrental) at 0x18d96eddcd0>"
      ]
     },
     "execution_count": 15,
     "metadata": {},
     "output_type": "execute_result"
    }
   ],
   "execution_count": 15
  },
  {
   "metadata": {
    "ExecuteTime": {
     "end_time": "2024-04-23T00:10:47.112411Z",
     "start_time": "2024-04-23T00:10:47.105747Z"
    }
   },
   "cell_type": "code",
   "source": [
    "sql = \"\"\"\n",
    "DELETE FROM employees \n",
    "WHERE id = 1\n",
    "RETURNING *;\n",
    "\"\"\"\n",
    "run_sql(cursor, sql)"
   ],
   "id": "a53504b7467595c2",
   "outputs": [
    {
     "name": "stdout",
     "output_type": "stream",
     "text": [
      "   id      name    salary\n",
      "0   1  John Doe  90000.00\n"
     ]
    }
   ],
   "execution_count": 16
  },
  {
   "metadata": {
    "ExecuteTime": {
     "end_time": "2024-04-23T00:10:48.942403Z",
     "start_time": "2024-04-23T00:10:48.937890Z"
    }
   },
   "cell_type": "code",
   "source": [
    "sql = \"\"\"\n",
    "SELECT * FROM employee_archives;\n",
    "\"\"\"\n",
    "run_sql(cursor, sql)"
   ],
   "id": "a01bddc75f64909c",
   "outputs": [
    {
     "name": "stdout",
     "output_type": "stream",
     "text": [
      "   id      name    salary                 deleted_at\n",
      "0   1  John Doe  90000.00 2024-04-23 08:10:41.936840\n"
     ]
    }
   ],
   "execution_count": 17
  }
 ],
 "metadata": {
  "kernelspec": {
   "display_name": "Python 3",
   "language": "python",
   "name": "python3"
  },
  "language_info": {
   "codemirror_mode": {
    "name": "ipython",
    "version": 2
   },
   "file_extension": ".py",
   "mimetype": "text/x-python",
   "name": "python",
   "nbconvert_exporter": "python",
   "pygments_lexer": "ipython2",
   "version": "2.7.6"
  }
 },
 "nbformat": 4,
 "nbformat_minor": 5
}
