{
 "cells": [
  {
   "cell_type": "markdown",
   "source": [
    "![join](./pg_join.png)"
   ],
   "metadata": {
    "collapsed": false
   },
   "id": "5905831ad1ad82d8"
  },
  {
   "cell_type": "code",
   "execution_count": 1,
   "id": "initial_id",
   "metadata": {
    "collapsed": true,
    "ExecuteTime": {
     "end_time": "2024-01-24T01:24:39.565637100Z",
     "start_time": "2024-01-24T01:24:39.136050300Z"
    }
   },
   "outputs": [],
   "source": [
    "import common.ipynb_importer\n",
    "from db.pg.pg_00_common import *\n",
    "\n",
    "cursor = pg_connect()"
   ]
  },
  {
   "cell_type": "code",
   "outputs": [
    {
     "data": {
      "text/plain": "<psycopg.Cursor [COMMAND_OK] [INTRANS] (host=localhost user=postgres database=dvdrental) at 0x25cd7e35c70>"
     },
     "execution_count": 2,
     "metadata": {},
     "output_type": "execute_result"
    }
   ],
   "source": [
    "table1_sql = \"\"\"\n",
    "CREATE TABLE basket_a (\n",
    "    a INT PRIMARY KEY,\n",
    "    fruit_a VARCHAR (100) NOT NULL\n",
    ");\n",
    "\"\"\"\n",
    "\n",
    "table2_sql = \"\"\"\n",
    "CREATE TABLE basket_b (\n",
    "    b INT PRIMARY KEY,\n",
    "    fruit_b VARCHAR (100) NOT NULL\n",
    ");\n",
    "\"\"\"\n",
    "\n",
    "table1_data_sql = \"\"\"\n",
    "INSERT INTO basket_a (a, fruit_a)\n",
    "VALUES\n",
    "    (1, 'Apple'),\n",
    "    (2, 'Orange'),\n",
    "    (3, 'Banana'),\n",
    "    (4, 'Cucumber');\n",
    "\"\"\"\n",
    "\n",
    "table2_data_sql = \"\"\"\n",
    "INSERT INTO basket_b (b, fruit_b)\n",
    "VALUES\n",
    "    (1, 'Orange'),\n",
    "    (2, 'Apple'),\n",
    "    (3, 'Watermelon'),\n",
    "    (4, 'Pear');\n",
    "\"\"\"\n",
    "\n",
    "cursor.execute(table1_sql)\n",
    "cursor.execute(table2_sql)\n",
    "\n",
    "cursor.execute(table1_data_sql)\n",
    "cursor.execute(table2_data_sql)"
   ],
   "metadata": {
    "collapsed": false,
    "ExecuteTime": {
     "end_time": "2024-01-24T01:24:41.791368100Z",
     "start_time": "2024-01-24T01:24:41.759857100Z"
    }
   },
   "id": "df0bee3aebae5e44",
   "execution_count": 2
  },
  {
   "cell_type": "markdown",
   "source": [
    "![inner join](./pg_inner_join.png)"
   ],
   "metadata": {
    "collapsed": false
   },
   "id": "6cc3a5de62ee3a1d"
  },
  {
   "cell_type": "code",
   "outputs": [
    {
     "name": "stdout",
     "output_type": "stream",
     "text": [
      "   a fruit_a  b fruit_b\n",
      "0  1   Apple  2   Apple\n",
      "1  2  Orange  1  Orange\n"
     ]
    }
   ],
   "source": [
    "sql = \"\"\"\n",
    "SELECT\n",
    "    a,\n",
    "    fruit_a,\n",
    "    b,\n",
    "    fruit_b\n",
    "FROM\n",
    "    basket_a\n",
    "INNER JOIN basket_b\n",
    "    ON fruit_a = fruit_b;\n",
    "\"\"\"\n",
    "run_sql(cursor, sql)"
   ],
   "metadata": {
    "collapsed": false,
    "ExecuteTime": {
     "end_time": "2024-01-24T01:24:43.802755300Z",
     "start_time": "2024-01-24T01:24:43.770662800Z"
    }
   },
   "id": "a7ab070a7210ea6e",
   "execution_count": 3
  },
  {
   "cell_type": "markdown",
   "source": [
    "![left join](./pg_left_join.png)"
   ],
   "metadata": {
    "collapsed": false
   },
   "id": "21dfe667596520b"
  },
  {
   "cell_type": "code",
   "outputs": [
    {
     "name": "stdout",
     "output_type": "stream",
     "text": [
      "   a   fruit_a    b fruit_b\n",
      "0  1     Apple  2.0   Apple\n",
      "1  2    Orange  1.0  Orange\n",
      "2  3    Banana  NaN    None\n",
      "3  4  Cucumber  NaN    None\n"
     ]
    }
   ],
   "source": [
    "sql = \"\"\"\n",
    "SELECT\n",
    "    a,\n",
    "    fruit_a,\n",
    "    b,\n",
    "    fruit_b\n",
    "FROM\n",
    "    basket_a\n",
    "LEFT JOIN basket_b \n",
    "   ON fruit_a = fruit_b;\n",
    "\"\"\"\n",
    "run_sql(cursor, sql)"
   ],
   "metadata": {
    "collapsed": false,
    "ExecuteTime": {
     "end_time": "2024-01-24T01:27:14.034447700Z",
     "start_time": "2024-01-24T01:27:14.004447100Z"
    }
   },
   "id": "4f80bab42d1dc936",
   "execution_count": 4
  },
  {
   "cell_type": "markdown",
   "source": [
    "![left outer join](./pg_left_outer_join.png)"
   ],
   "metadata": {
    "collapsed": false
   },
   "id": "4e60a04282d4a729"
  },
  {
   "cell_type": "code",
   "outputs": [
    {
     "name": "stdout",
     "output_type": "stream",
     "text": [
      "   a   fruit_a     b fruit_b\n",
      "0  3    Banana  None    None\n",
      "1  4  Cucumber  None    None\n"
     ]
    }
   ],
   "source": [
    "sql = \"\"\"\n",
    "SELECT\n",
    "    a,\n",
    "    fruit_a,\n",
    "    b,\n",
    "    fruit_b\n",
    "FROM\n",
    "    basket_a\n",
    "LEFT JOIN basket_b \n",
    "    ON fruit_a = fruit_b\n",
    "WHERE b IS NULL;\n",
    "\"\"\"\n",
    "run_sql(cursor, sql)"
   ],
   "metadata": {
    "collapsed": false,
    "ExecuteTime": {
     "end_time": "2024-01-24T01:28:58.376068200Z",
     "start_time": "2024-01-24T01:28:58.368068100Z"
    }
   },
   "id": "deb1d65603dc8600",
   "execution_count": 5
  },
  {
   "cell_type": "markdown",
   "source": [
    "![full outer join](./pg_full_outer_join.png)"
   ],
   "metadata": {
    "collapsed": false
   },
   "id": "52acdad6ef77b34d"
  },
  {
   "cell_type": "code",
   "outputs": [
    {
     "name": "stdout",
     "output_type": "stream",
     "text": [
      "     a   fruit_a    b     fruit_b\n",
      "0  1.0     Apple  2.0       Apple\n",
      "1  2.0    Orange  1.0      Orange\n",
      "2  3.0    Banana  NaN        None\n",
      "3  4.0  Cucumber  NaN        None\n",
      "4  NaN      None  3.0  Watermelon\n",
      "5  NaN      None  4.0        Pear\n"
     ]
    }
   ],
   "source": [
    "sql = \"\"\"\n",
    "SELECT\n",
    "    a,\n",
    "    fruit_a,\n",
    "    b,\n",
    "    fruit_b\n",
    "FROM\n",
    "    basket_a\n",
    "FULL OUTER JOIN basket_b \n",
    "    ON fruit_a = fruit_b;\n",
    "\"\"\"\n",
    "run_sql(cursor, sql)"
   ],
   "metadata": {
    "collapsed": false,
    "ExecuteTime": {
     "end_time": "2024-01-24T01:37:12.396392Z",
     "start_time": "2024-01-24T01:37:12.367003400Z"
    }
   },
   "id": "2ad14fff8dc1b441",
   "execution_count": 6
  },
  {
   "cell_type": "markdown",
   "source": [
    "![full outer join unique](./pg_full_outer_join_unique.png)"
   ],
   "metadata": {
    "collapsed": false
   },
   "id": "7ad5b395e105c8d5"
  },
  {
   "cell_type": "code",
   "outputs": [
    {
     "name": "stdout",
     "output_type": "stream",
     "text": [
      "     a   fruit_a    b     fruit_b\n",
      "0  3.0    Banana  NaN        None\n",
      "1  4.0  Cucumber  NaN        None\n",
      "2  NaN      None  3.0  Watermelon\n",
      "3  NaN      None  4.0        Pear\n"
     ]
    }
   ],
   "source": [
    "sql = \"\"\"\n",
    "SELECT\n",
    "    a,\n",
    "    fruit_a,\n",
    "    b,\n",
    "    fruit_b\n",
    "FROM\n",
    "    basket_a\n",
    "FULL JOIN basket_b \n",
    "   ON fruit_a = fruit_b\n",
    "WHERE a IS NULL OR b IS NULL;\n",
    "\"\"\"\n",
    "run_sql(cursor, sql)"
   ],
   "metadata": {
    "collapsed": false,
    "ExecuteTime": {
     "end_time": "2024-01-24T01:38:24.652454800Z",
     "start_time": "2024-01-24T01:38:24.623454800Z"
    }
   },
   "id": "e494e90efd0176c5",
   "execution_count": 7
  }
 ],
 "metadata": {
  "kernelspec": {
   "display_name": "Python 3",
   "language": "python",
   "name": "python3"
  },
  "language_info": {
   "codemirror_mode": {
    "name": "ipython",
    "version": 2
   },
   "file_extension": ".py",
   "mimetype": "text/x-python",
   "name": "python",
   "nbconvert_exporter": "python",
   "pygments_lexer": "ipython2",
   "version": "2.7.6"
  }
 },
 "nbformat": 4,
 "nbformat_minor": 5
}
