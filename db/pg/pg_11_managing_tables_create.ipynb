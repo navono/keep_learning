{
 "cells": [
  {
   "cell_type": "markdown",
   "source": [
    "```\n",
    "CREATE TABLE [IF NOT EXISTS] table_name (\n",
    "   column1 datatype(length) column_constraint,\n",
    "   column2 datatype(length) column_constraint,\n",
    "   ...\n",
    "   table_constraints\n",
    ");\n",
    "```\n",
    "\n",
    "列限制：\n",
    "- NOT NULL\n",
    "- UNIQUE\n",
    "- PRIMARY KEY\n",
    "- CHECK\n",
    "- FOREIGN KEY"
   ],
   "metadata": {
    "collapsed": false
   },
   "id": "232b5c0b693efaa2"
  },
  {
   "cell_type": "code",
   "execution_count": 1,
   "id": "initial_id",
   "metadata": {
    "collapsed": true,
    "ExecuteTime": {
     "end_time": "2024-01-29T07:29:23.485400400Z",
     "start_time": "2024-01-29T07:29:22.163751500Z"
    }
   },
   "outputs": [
    {
     "name": "stdout",
     "output_type": "stream",
     "text": [
      "importing Jupyter notebook from E:\\sourcecode\\keep_learning\\db\\pg\\pg_00_common.ipynb\n"
     ]
    }
   ],
   "source": [
    "import common.ipynb_importer\n",
    "from db.pg.pg_00_common import *\n",
    "\n",
    "cursor = pg_connect()"
   ]
  },
  {
   "cell_type": "code",
   "outputs": [],
   "source": [
    "sql = \"\"\"\n",
    "CREATE TABLE accounts (\n",
    "  user_id SERIAL PRIMARY KEY, \n",
    "  username VARCHAR (50) UNIQUE NOT NULL, \n",
    "  password VARCHAR (50) NOT NULL, \n",
    "  email VARCHAR (255) UNIQUE NOT NULL, \n",
    "  created_at TIMESTAMP NOT NULL, \n",
    "  last_login TIMESTAMP\n",
    ");\n",
    "\"\"\"\n",
    "\n",
    "cursor.execute(sql)"
   ],
   "metadata": {
    "collapsed": false
   },
   "id": "432e657fa4b6afac"
  },
  {
   "cell_type": "markdown",
   "source": [
    "# SELECT INTO\n",
    "\n",
    "```\n",
    "SELECT \n",
    "  select_list I\n",
    "INTO [ TEMPORARY | TEMP ] [ TABLE ] new_table_name \n",
    "FROM \n",
    "  table_name \n",
    "WHERE \n",
    "  search_condition;\n",
    "```"
   ],
   "metadata": {
    "collapsed": false
   },
   "id": "c8edebe742bd6fd4"
  },
  {
   "cell_type": "code",
   "outputs": [
    {
     "data": {
      "text/plain": "<psycopg.Cursor [COMMAND_OK] [INTRANS] (host=localhost user=postgres database=dvdrental) at 0x16b0ebc2c40>"
     },
     "execution_count": 2,
     "metadata": {},
     "output_type": "execute_result"
    }
   ],
   "source": [
    "sql = \"\"\"\n",
    "SELECT\n",
    "    film_id,\n",
    "    title,\n",
    "    rental_rate\n",
    "INTO TABLE film_r\n",
    "FROM\n",
    "    film\n",
    "WHERE\n",
    "    rating = 'R'\n",
    "AND rental_duration = 5\n",
    "ORDER BY\n",
    "    title;\n",
    "\"\"\"\n",
    "\n",
    "cursor.execute(sql)"
   ],
   "metadata": {
    "collapsed": false,
    "ExecuteTime": {
     "end_time": "2024-01-29T07:29:27.600268400Z",
     "start_time": "2024-01-29T07:29:27.548079500Z"
    }
   },
   "id": "e8603dd01d59596b",
   "execution_count": 2
  },
  {
   "cell_type": "code",
   "outputs": [
    {
     "name": "stdout",
     "output_type": "stream",
     "text": [
      "    film_id                    title rental_rate\n",
      "0        54         Banger Pinocchio        0.99\n",
      "1       115          Campus Remember        2.99\n",
      "2       138      Chariots Conspiracy        2.99\n",
      "3       159              Closer Bang        4.99\n",
      "4       168        Comancheros Enemy        0.99\n",
      "5       246      Doubtfire Labyrinth        4.99\n",
      "6       287  Entrapment Satisfaction        0.99\n",
      "7       296           Express Lonely        2.99\n",
      "8       310             Fever Empire        4.99\n",
      "9       316              Fire Wolves        4.99\n",
      "10      339         Frogmen Breaking        0.99\n",
      "11      356           Giant Troopers        2.99\n",
      "12      358           Gilmore Boiled        0.99\n",
      "13      372       Graceland Dynamite        4.99\n",
      "14      384         Grosse Wonderful        4.99\n",
      "15      406         Haunting Pianist        0.99\n",
      "16      427           Homeward Cider        0.99\n",
      "17      447             Ice Crossing        2.99\n",
      "18      493            Kane Exorcist        0.99\n",
      "19      543           Madigan Dorado        4.99\n",
      "20      640                 Opus Ice        4.99\n",
      "21      686           Pluto Oleander        4.99\n",
      "22      707          Quest Mussolini        2.99\n",
      "23      724           Remember Diary        2.99\n",
      "24      747            Roxanne Rebel        0.99\n",
      "25      788          Ship Wonderland        2.99\n",
      "26      808               Sling Luke        0.99\n",
      "27      833          Splendor Patton        0.99\n",
      "28      838    Stagecoach Armageddon        4.99\n",
      "29      840      Stampede Disturbing        0.99\n",
      "30      856     Streetcar Intentions        4.99\n",
      "31      858            Submarine Bed        4.99\n",
      "32      863          Sun Confessions        0.99\n",
      "33      884          Terminator Club        4.99\n",
      "34      890              Tights Dawn        0.99\n",
      "35      935          Vanished Garden        0.99\n",
      "36      945          Virginian Pluto        0.99\n",
      "37      967         Weekend Personal        2.99\n",
      "38      995              Yentl Idaho        4.99\n",
      "39      999        Zoolander Fiction        2.99\n"
     ]
    }
   ],
   "source": [
    "sql = \"\"\"\n",
    "SELECT * FROM film_r;\n",
    "\"\"\"\n",
    "\n",
    "run_sql(cursor, sql)"
   ],
   "metadata": {
    "collapsed": false,
    "ExecuteTime": {
     "end_time": "2024-01-29T07:29:29.763818600Z",
     "start_time": "2024-01-29T07:29:29.712114700Z"
    }
   },
   "id": "861c2e3da7388dcd",
   "execution_count": 3
  },
  {
   "cell_type": "code",
   "outputs": [
    {
     "data": {
      "text/plain": "<psycopg.Cursor [COMMAND_OK] [INTRANS] (host=localhost user=postgres database=dvdrental) at 0x16b0ebc2c40>"
     },
     "execution_count": 4,
     "metadata": {},
     "output_type": "execute_result"
    }
   ],
   "source": [
    "# 临时表\n",
    "sql = \"\"\"\n",
    "SELECT\n",
    "    film_id,\n",
    "    title,\n",
    "    length \n",
    "INTO TEMP TABLE short_film\n",
    "FROM\n",
    "    film\n",
    "WHERE\n",
    "    length < 60\n",
    "ORDER BY\n",
    "    title;\n",
    "\"\"\"\n",
    "\n",
    "cursor.execute(sql)"
   ],
   "metadata": {
    "collapsed": false,
    "ExecuteTime": {
     "end_time": "2024-01-29T07:30:54.361681200Z",
     "start_time": "2024-01-29T07:30:54.337887800Z"
    }
   },
   "id": "c2d163716097468c",
   "execution_count": 4
  },
  {
   "cell_type": "code",
   "outputs": [
    {
     "name": "stdout",
     "output_type": "stream",
     "text": [
      "    film_id                 title  length\n",
      "0       486         Jet Neighbors      59\n",
      "1       465    Interview Liaisons      59\n",
      "2       409  Heartbreakers Bright      59\n",
      "3       947         Vision Torque      59\n",
      "4       171  Commandments Express      59\n",
      "..      ...                   ...     ...\n",
      "91       15          Alien Center      46\n",
      "92      730   Ridgemont Submarine      46\n",
      "93      505      Labyrinth League      46\n",
      "94      504         Kwai Homeward      46\n",
      "95      469             Iron Moon      46\n",
      "\n",
      "[96 rows x 3 columns]\n"
     ]
    }
   ],
   "source": [
    "sql = \"\"\"\n",
    "SELECT * FROM short_film\n",
    "ORDER BY length DESC;\n",
    "\"\"\"\n",
    "\n",
    "run_sql(cursor, sql)"
   ],
   "metadata": {
    "collapsed": false,
    "ExecuteTime": {
     "end_time": "2024-01-29T07:30:56.070775100Z",
     "start_time": "2024-01-29T07:30:56.047342300Z"
    }
   },
   "id": "8a5b300a2c60c45a",
   "execution_count": 5
  },
  {
   "cell_type": "code",
   "outputs": [],
   "source": [],
   "metadata": {
    "collapsed": false
   },
   "id": "fc0b61088c9c0378"
  },
  {
   "cell_type": "code",
   "outputs": [],
   "source": [],
   "metadata": {
    "collapsed": false
   },
   "id": "5aa6292d25e17013"
  },
  {
   "cell_type": "markdown",
   "source": [],
   "metadata": {
    "collapsed": false
   },
   "id": "e3d8f8d7dc0156a2"
  }
 ],
 "metadata": {
  "kernelspec": {
   "display_name": "Python 3",
   "language": "python",
   "name": "python3"
  },
  "language_info": {
   "codemirror_mode": {
    "name": "ipython",
    "version": 2
   },
   "file_extension": ".py",
   "mimetype": "text/x-python",
   "name": "python",
   "nbconvert_exporter": "python",
   "pygments_lexer": "ipython2",
   "version": "2.7.6"
  }
 },
 "nbformat": 4,
 "nbformat_minor": 5
}
