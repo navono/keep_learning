{
 "cells": [
  {
   "cell_type": "code",
   "id": "initial_id",
   "metadata": {
    "collapsed": true,
    "ExecuteTime": {
     "end_time": "2024-04-16T23:53:59.223138Z",
     "start_time": "2024-04-16T23:53:58.932237Z"
    }
   },
   "source": [
    "from common import *\n",
    "\n",
    "cursor = connect()"
   ],
   "outputs": [],
   "execution_count": 1
  },
  {
   "metadata": {},
   "cell_type": "markdown",
   "source": [
    "# INSERT Trigger\n",
    "\n",
    "创建触发器函数\n",
    "```sql\n",
    "CREATE OR REPLACE FUNCTION trigger_function()\n",
    "   RETURNS TRIGGER\n",
    "   LANGUAGE PLPGSQL\n",
    "AS\n",
    "$$\n",
    "BEGIN\n",
    "   -- trigger logic\n",
    "   -- ...\n",
    "   RETURN NEW;\n",
    "END;\n",
    "$$\n",
    "```"
   ],
   "id": "24a3d875a4046c97"
  },
  {
   "metadata": {
    "ExecuteTime": {
     "end_time": "2024-04-16T00:52:45.536449Z",
     "start_time": "2024-04-16T00:52:45.525287Z"
    }
   },
   "cell_type": "code",
   "source": [
    "sql = \"\"\"\n",
    "CREATE TABLE inventory_t(\n",
    "    product_id INT PRIMARY KEY,\n",
    "    quantity INT NOT NULL DEFAULT 0\n",
    ");\n",
    "\n",
    "CREATE TABLE inventory_stat(\n",
    "    total_qty INT\n",
    ");\n",
    "\"\"\"\n",
    "cursor.execute(sql)"
   ],
   "id": "b5550a729b8e1f",
   "outputs": [
    {
     "data": {
      "text/plain": [
       "<psycopg.Cursor [COMMAND_OK] [INTRANS] (host=localhost user=postgres database=dvdrental) at 0x1a992194710>"
      ]
     },
     "execution_count": 14,
     "metadata": {},
     "output_type": "execute_result"
    }
   ],
   "execution_count": 14
  },
  {
   "metadata": {
    "ExecuteTime": {
     "end_time": "2024-04-16T00:52:45.542526Z",
     "start_time": "2024-04-16T00:52:45.536449Z"
    }
   },
   "cell_type": "code",
   "source": [
    "sql = \"\"\"\n",
    "CREATE OR REPLACE FUNCTION update_total_qty()\n",
    "RETURNS TRIGGER\n",
    "LANGUAGE PLPGSQL\n",
    "AS\n",
    "$$\n",
    "DECLARE\n",
    "   p_row_count INT;\n",
    "BEGIN\n",
    "   SELECT COUNT(*) FROM inventory_stat\n",
    "   INTO p_row_count;\n",
    "   \n",
    "   IF p_row_count > 0 THEN\n",
    "      UPDATE inventory_stat \n",
    "      SET total_qty = total_qty + NEW.quantity;\n",
    "   ELSE\n",
    "      INSERT INTO inventory_stat(total_qty)\n",
    "      VALUES(new.quantity);\n",
    "   END IF;\n",
    "   RETURN NEW;\n",
    "END;\n",
    "$$;\n",
    "\"\"\"\n",
    "cursor.execute(sql)"
   ],
   "id": "826be01684e6aa6",
   "outputs": [
    {
     "data": {
      "text/plain": [
       "<psycopg.Cursor [COMMAND_OK] [INTRANS] (host=localhost user=postgres database=dvdrental) at 0x1a992194710>"
      ]
     },
     "execution_count": 15,
     "metadata": {},
     "output_type": "execute_result"
    }
   ],
   "execution_count": 15
  },
  {
   "metadata": {},
   "cell_type": "markdown",
   "source": [
    "# BEFORE INSERT\n",
    "\n",
    "语法\n",
    "```\n",
    "```sql\n",
    "CREATE TRIGGER trigger_name\n",
    "BEFORE INSERT\n",
    "ON table_name\n",
    "FOR EACH {ROW | STATEMENT}\n",
    "EXECUTE FUNCTION trigger_function();\n",
    "```\n",
    "```"
   ],
   "id": "26df79158ec06873"
  },
  {
   "metadata": {
    "ExecuteTime": {
     "end_time": "2024-04-16T00:52:45.548599Z",
     "start_time": "2024-04-16T00:52:45.542526Z"
    }
   },
   "cell_type": "code",
   "source": [
    "sql = \"\"\"\n",
    "CREATE TRIGGER inventory_before_insert\n",
    "BEFORE INSERT\n",
    "ON inventory_t\n",
    "FOR EACH ROW\n",
    "EXECUTE FUNCTION update_total_qty();\n",
    "\n",
    "INSERT INTO inventory_t(product_id, quantity)\n",
    "VALUES(1, 100)\n",
    "RETURNING *;\n",
    "\"\"\"\n",
    "cursor.execute(sql)"
   ],
   "id": "36647af02a89de43",
   "outputs": [
    {
     "data": {
      "text/plain": [
       "<psycopg.Cursor [COMMAND_OK] [INTRANS] (host=localhost user=postgres database=dvdrental) at 0x1a992194710>"
      ]
     },
     "execution_count": 16,
     "metadata": {},
     "output_type": "execute_result"
    }
   ],
   "execution_count": 16
  },
  {
   "metadata": {
    "ExecuteTime": {
     "end_time": "2024-04-16T00:52:45.553466Z",
     "start_time": "2024-04-16T00:52:45.548599Z"
    }
   },
   "cell_type": "code",
   "source": [
    "sql = \"\"\"\n",
    "SELECT * FROM inventory_stat;\n",
    "\"\"\"\n",
    "run_sql(cursor, sql)"
   ],
   "id": "16320abda6079154",
   "outputs": [
    {
     "name": "stdout",
     "output_type": "stream",
     "text": [
      "   total_qty\n",
      "0        100\n"
     ]
    }
   ],
   "execution_count": 17
  },
  {
   "metadata": {
    "ExecuteTime": {
     "end_time": "2024-04-16T00:52:45.560723Z",
     "start_time": "2024-04-16T00:52:45.553466Z"
    }
   },
   "cell_type": "code",
   "source": [
    "sql = \"\"\"\n",
    "INSERT INTO inventory_t(product_id, quantity)\n",
    "VALUES(2, 200)\n",
    "RETURNING *;\n",
    "\"\"\"\n",
    "cursor.execute(sql)"
   ],
   "id": "bf340502769cb1c3",
   "outputs": [
    {
     "data": {
      "text/plain": [
       "<psycopg.Cursor [TUPLES_OK] [INTRANS] (host=localhost user=postgres database=dvdrental) at 0x1a992194710>"
      ]
     },
     "execution_count": 18,
     "metadata": {},
     "output_type": "execute_result"
    }
   ],
   "execution_count": 18
  },
  {
   "metadata": {
    "ExecuteTime": {
     "end_time": "2024-04-16T00:52:45.565355Z",
     "start_time": "2024-04-16T00:52:45.560723Z"
    }
   },
   "cell_type": "code",
   "source": [
    "sql = \"\"\"\n",
    "SELECT * FROM inventory_stat;\n",
    "\"\"\"\n",
    "run_sql(cursor, sql)"
   ],
   "id": "9de9b62dd3bf047c",
   "outputs": [
    {
     "name": "stdout",
     "output_type": "stream",
     "text": [
      "   total_qty\n",
      "0        300\n"
     ]
    }
   ],
   "execution_count": 19
  },
  {
   "metadata": {},
   "cell_type": "markdown",
   "source": [
    "# AFTER INSERT\n",
    "\n",
    "语法\n",
    "```\n",
    "CREATE TRIGGER trigger_name\n",
    "AFTER INSERT\n",
    "ON table_name\n",
    "FOR EACH {ROW | STATEMENT}\n",
    "EXECUTE FUNCTION trigger_function();\n",
    "```"
   ],
   "id": "b48b248db2e902c4"
  },
  {
   "metadata": {
    "ExecuteTime": {
     "end_time": "2024-04-16T23:54:05.350051Z",
     "start_time": "2024-04-16T23:54:05.324596Z"
    }
   },
   "cell_type": "code",
   "source": [
    "sql = \"\"\"\n",
    "CREATE TABLE members (\n",
    "    id SERIAL PRIMARY KEY,\n",
    "    name VARCHAR(100) NOT NULL,\n",
    "    email VARCHAR(100) UNIQUE\n",
    ");\n",
    "\n",
    "CREATE TABLE memberships (\n",
    "    id SERIAL PRIMARY KEY,\n",
    "    member_id INT NOT NULL REFERENCES members(id),\n",
    "    membership_type VARCHAR(50) NOT NULL DEFAULT 'free'\n",
    ");\n",
    "\"\"\"\n",
    "cursor.execute(sql)"
   ],
   "id": "9ea85cb205db6e8f",
   "outputs": [
    {
     "data": {
      "text/plain": [
       "<psycopg.Cursor [COMMAND_OK] [INTRANS] (host=localhost user=postgres database=dvdrental) at 0x18843ca9550>"
      ]
     },
     "execution_count": 2,
     "metadata": {},
     "output_type": "execute_result"
    }
   ],
   "execution_count": 2
  },
  {
   "metadata": {
    "ExecuteTime": {
     "end_time": "2024-04-16T23:54:07.407678Z",
     "start_time": "2024-04-16T23:54:07.402146Z"
    }
   },
   "cell_type": "code",
   "source": [
    "sql = \"\"\"\n",
    "CREATE OR REPLACE FUNCTION create_membership_after_insert()\n",
    "RETURNS TRIGGER AS $$\n",
    "BEGIN\n",
    "    INSERT INTO memberships (member_id)\n",
    "    VALUES (NEW.id);\n",
    "    RETURN NEW;\n",
    "END;\n",
    "$$ LANGUAGE plpgsql;\n",
    "\n",
    "CREATE TRIGGER after_insert_member_trigger\n",
    "AFTER INSERT ON members\n",
    "FOR EACH ROW\n",
    "EXECUTE FUNCTION create_membership_after_insert();\n",
    "\"\"\"\n",
    "cursor.execute(sql)"
   ],
   "id": "bbc6b7dfcf69a0e4",
   "outputs": [
    {
     "data": {
      "text/plain": [
       "<psycopg.Cursor [COMMAND_OK] [INTRANS] (host=localhost user=postgres database=dvdrental) at 0x18843ca9550>"
      ]
     },
     "execution_count": 3,
     "metadata": {},
     "output_type": "execute_result"
    }
   ],
   "execution_count": 3
  },
  {
   "metadata": {
    "ExecuteTime": {
     "end_time": "2024-04-16T23:54:09.488710Z",
     "start_time": "2024-04-16T23:54:09.483152Z"
    }
   },
   "cell_type": "code",
   "source": [
    "sql = \"\"\"\n",
    "INSERT INTO members(name, email)\n",
    "VALUES('John Doe', 'john.doe@gmail.com')\n",
    "RETURNING *;\n",
    "\"\"\"\n",
    "run_sql(cursor, sql)"
   ],
   "id": "779c0aeafe1604a5",
   "outputs": [
    {
     "name": "stdout",
     "output_type": "stream",
     "text": [
      "   id      name               email\n",
      "0   1  John Doe  john.doe@gmail.com\n"
     ]
    }
   ],
   "execution_count": 4
  },
  {
   "metadata": {
    "ExecuteTime": {
     "end_time": "2024-04-16T23:54:20.742091Z",
     "start_time": "2024-04-16T23:54:20.738893Z"
    }
   },
   "cell_type": "code",
   "source": [
    "sql = \"\"\"\n",
    "SELECT * FROM memberships;\n",
    "\"\"\"\n",
    "run_sql(cursor, sql)"
   ],
   "id": "469f8a60f34d7045",
   "outputs": [
    {
     "name": "stdout",
     "output_type": "stream",
     "text": [
      "   id  member_id membership_type\n",
      "0   1          1            free\n"
     ]
    }
   ],
   "execution_count": 5
  }
 ],
 "metadata": {
  "kernelspec": {
   "display_name": "Python 3",
   "language": "python",
   "name": "python3"
  },
  "language_info": {
   "codemirror_mode": {
    "name": "ipython",
    "version": 2
   },
   "file_extension": ".py",
   "mimetype": "text/x-python",
   "name": "python",
   "nbconvert_exporter": "python",
   "pygments_lexer": "ipython2",
   "version": "2.7.6"
  }
 },
 "nbformat": 4,
 "nbformat_minor": 5
}
