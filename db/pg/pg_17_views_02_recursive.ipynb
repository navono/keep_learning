{
 "cells": [
  {
   "cell_type": "code",
   "id": "initial_id",
   "metadata": {
    "collapsed": true,
    "ExecuteTime": {
     "end_time": "2024-04-30T00:12:06.072326Z",
     "start_time": "2024-04-30T00:12:05.837082Z"
    }
   },
   "source": [
    "from common import *\n",
    "\n",
    "cursor = connect()"
   ],
   "outputs": [],
   "execution_count": 1
  },
  {
   "metadata": {},
   "cell_type": "markdown",
   "source": [
    "# Recursive views\n",
    "\n",
    "递归视图是定义查询引用视图名称本身的视图。递归视图可用于对数据库中存储的分层数据结构执行分层或递归查询。\n",
    "```\n",
    "CREATE RECURSIVE VIEW view_name(columns) \n",
    "AS\n",
    "query;\n",
    "```\n",
    "\n",
    "等同于以下语句\n",
    "```\n",
    "CREATE VIEW view_name \n",
    "AS\n",
    "  WITH RECURSIVE cte_name (columns) AS (\n",
    "    SELECT ...)\n",
    "  SELECT columns FROM cte_name;\n",
    "```"
   ],
   "id": "3308dd9ae8e07e4f"
  },
  {
   "metadata": {
    "ExecuteTime": {
     "end_time": "2024-04-30T00:12:06.086769Z",
     "start_time": "2024-04-30T00:12:06.072326Z"
    }
   },
   "cell_type": "code",
   "source": [
    "sql = \"\"\"\n",
    "CREATE TABLE employees (\n",
    "  employee_id SERIAL PRIMARY KEY, \n",
    "  full_name VARCHAR NOT NULL, \n",
    "  manager_id INT\n",
    ");\n",
    "\n",
    "INSERT INTO employees (employee_id, full_name, manager_id) \n",
    "VALUES \n",
    "  (1, 'Michael North', NULL), \n",
    "  (2, 'Megan Berry', 1), \n",
    "  (3, 'Sarah Berry', 1), \n",
    "  (4, 'Zoe Black', 1), \n",
    "  (5, 'Tim James', 1), \n",
    "  (6, 'Bella Tucker', 2), \n",
    "  (7, 'Ryan Metcalfe', 2), \n",
    "  (8, 'Max Mills', 2), \n",
    "  (9, 'Benjamin Glover', 2), \n",
    "  (10, 'Carolyn Henderson', 3), \n",
    "  (11, 'Nicola Kelly', 3), \n",
    "  (12, 'Alexandra Climo', 3), \n",
    "  (13, 'Dominic King', 3), \n",
    "  (14, 'Leonard Gray', 4), \n",
    "  (15, 'Eric Rampling', 4), \n",
    "  (16, 'Piers Paige', 7), \n",
    "  (17, 'Ryan Henderson', 7), \n",
    "  (18, 'Frank Tucker', 8), \n",
    "  (19, 'Nathan Ferguson', 8), \n",
    "  (20, 'Kevin Rampling', 8);\n",
    "\"\"\"\n",
    "cursor.execute(sql)"
   ],
   "id": "ea3ec83d7c254bc0",
   "outputs": [
    {
     "data": {
      "text/plain": [
       "<psycopg.Cursor [COMMAND_OK] [INTRANS] (host=localhost port=15432 user=postgres database=dvdrental) at 0x20f614e5850>"
      ]
     },
     "execution_count": 2,
     "metadata": {},
     "output_type": "execute_result"
    }
   ],
   "execution_count": 2
  },
  {
   "metadata": {
    "ExecuteTime": {
     "end_time": "2024-04-30T00:12:06.093994Z",
     "start_time": "2024-04-30T00:12:06.086769Z"
    }
   },
   "cell_type": "code",
   "source": [
    "sql = \"\"\"\n",
    "WITH RECURSIVE reporting_line AS (\n",
    "  SELECT \n",
    "    employee_id, \n",
    "    full_name AS subordinates \n",
    "  FROM \n",
    "    employees \n",
    "  WHERE \n",
    "    manager_id IS NULL \n",
    "  UNION ALL \n",
    "  SELECT \n",
    "    e.employee_id, \n",
    "    (\n",
    "      rl.subordinates || ' > ' || e.full_name\n",
    "    ) AS subordinates \n",
    "  FROM \n",
    "    employees e \n",
    "    INNER JOIN reporting_line rl ON e.manager_id = rl.employee_id\n",
    ") \n",
    "SELECT \n",
    "  employee_id, \n",
    "  subordinates \n",
    "FROM \n",
    "  reporting_line \n",
    "ORDER BY \n",
    "  employee_id;\n",
    "\"\"\"\n",
    "run_sql(cursor, sql)"
   ],
   "id": "971dccd46bf78c25",
   "outputs": [
    {
     "name": "stdout",
     "output_type": "stream",
     "text": [
      "    employee_id                                       subordinates\n",
      "0             1                                      Michael North\n",
      "1             2                        Michael North > Megan Berry\n",
      "2             3                        Michael North > Sarah Berry\n",
      "3             4                          Michael North > Zoe Black\n",
      "4             5                          Michael North > Tim James\n",
      "5             6         Michael North > Megan Berry > Bella Tucker\n",
      "6             7        Michael North > Megan Berry > Ryan Metcalfe\n",
      "7             8            Michael North > Megan Berry > Max Mills\n",
      "8             9      Michael North > Megan Berry > Benjamin Glover\n",
      "9            10    Michael North > Sarah Berry > Carolyn Henderson\n",
      "10           11         Michael North > Sarah Berry > Nicola Kelly\n",
      "11           12      Michael North > Sarah Berry > Alexandra Climo\n",
      "12           13         Michael North > Sarah Berry > Dominic King\n",
      "13           14           Michael North > Zoe Black > Leonard Gray\n",
      "14           15          Michael North > Zoe Black > Eric Rampling\n",
      "15           16  Michael North > Megan Berry > Ryan Metcalfe > ...\n",
      "16           17  Michael North > Megan Berry > Ryan Metcalfe > ...\n",
      "17           18  Michael North > Megan Berry > Max Mills > Fran...\n",
      "18           19  Michael North > Megan Berry > Max Mills > Nath...\n",
      "19           20  Michael North > Megan Berry > Max Mills > Kevi...\n"
     ]
    }
   ],
   "execution_count": 3
  },
  {
   "metadata": {
    "ExecuteTime": {
     "end_time": "2024-04-30T00:12:56.335154Z",
     "start_time": "2024-04-30T00:12:56.329971Z"
    }
   },
   "cell_type": "code",
   "source": [
    "sql = \"\"\"\n",
    "CREATE RECURSIVE VIEW reporting_line (employee_id, subordinates) AS \n",
    "SELECT \n",
    "  employee_id, \n",
    "  full_name AS subordinates \n",
    "FROM \n",
    "  employees \n",
    "WHERE \n",
    "  manager_id IS NULL \n",
    "UNION ALL \n",
    "SELECT \n",
    "  e.employee_id, \n",
    "  (\n",
    "    rl.subordinates || ' > ' || e.full_name\n",
    "  ) AS subordinates \n",
    "FROM \n",
    "  employees e \n",
    "  INNER JOIN reporting_line rl ON e.manager_id = rl.employee_id;\n",
    "\"\"\"\n",
    "cursor.execute(sql)"
   ],
   "id": "6f7223f169e65413",
   "outputs": [
    {
     "data": {
      "text/plain": [
       "<psycopg.Cursor [COMMAND_OK] [INTRANS] (host=localhost port=15432 user=postgres database=dvdrental) at 0x20f614e5850>"
      ]
     },
     "execution_count": 4,
     "metadata": {},
     "output_type": "execute_result"
    }
   ],
   "execution_count": 4
  },
  {
   "metadata": {
    "ExecuteTime": {
     "end_time": "2024-04-30T00:12:57.800049Z",
     "start_time": "2024-04-30T00:12:57.795266Z"
    }
   },
   "cell_type": "code",
   "source": [
    "sql = \"\"\"\n",
    "SELECT \n",
    "  subordinates \n",
    "FROM \n",
    "  reporting_line \n",
    "WHERE \n",
    "  employee_id = 10;\n",
    "\"\"\"\n",
    "run_sql(cursor, sql)"
   ],
   "id": "63a9aebf95f6f2fe",
   "outputs": [
    {
     "name": "stdout",
     "output_type": "stream",
     "text": [
      "                                      subordinates\n",
      "0  Michael North > Sarah Berry > Carolyn Henderson\n"
     ]
    }
   ],
   "execution_count": 5
  }
 ],
 "metadata": {
  "kernelspec": {
   "display_name": "Python 3",
   "language": "python",
   "name": "python3"
  },
  "language_info": {
   "codemirror_mode": {
    "name": "ipython",
    "version": 2
   },
   "file_extension": ".py",
   "mimetype": "text/x-python",
   "name": "python",
   "nbconvert_exporter": "python",
   "pygments_lexer": "ipython2",
   "version": "2.7.6"
  }
 },
 "nbformat": 4,
 "nbformat_minor": 5
}
