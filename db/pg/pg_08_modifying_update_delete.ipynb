{
 "cells": [
  {
   "cell_type": "code",
   "execution_count": 1,
   "id": "initial_id",
   "metadata": {
    "collapsed": true,
    "ExecuteTime": {
     "end_time": "2024-01-25T05:51:06.858665900Z",
     "start_time": "2024-01-25T05:51:06.417823Z"
    }
   },
   "outputs": [
    {
     "name": "stdout",
     "output_type": "stream",
     "text": [
      "importing Jupyter notebook from E:\\sourcecode\\keep_learning\\db\\pg\\pg_00_common.ipynb\n"
     ]
    }
   ],
   "source": [
    "import common.ipynb_importer\n",
    "from db.pg.pg_00_common import *\n",
    "\n",
    "cursor = pg_connect()"
   ]
  },
  {
   "cell_type": "code",
   "outputs": [
    {
     "data": {
      "text/plain": "<psycopg.Cursor [COMMAND_OK] [INTRANS] (host=localhost user=postgres database=dvdrental) at 0x1dffb2ba4b0>"
     },
     "execution_count": 3,
     "metadata": {},
     "output_type": "execute_result"
    }
   ],
   "source": [
    "sql = \"\"\"\n",
    "CREATE TABLE courses(\n",
    "  course_id serial PRIMARY KEY, \n",
    "  course_name VARCHAR(255) NOT NULL, \n",
    "  price DECIMAL(10,2) NOT NULL,\n",
    "  description VARCHAR(500), \n",
    "  published_date date\n",
    ");\n",
    "\n",
    "\n",
    "INSERT INTO courses( course_name, price, description, published_date) \n",
    "VALUES \n",
    "('PostgreSQL for Developers', 299.99, 'A complete PostgreSQL for Developers', '2020-07-13'), \n",
    "('PostgreSQL Admininstration', 349.99, 'A PostgreSQL Guide for DBA', NULL), \n",
    "('PostgreSQL High Performance', 549.99, NULL, NULL), \n",
    "('PostgreSQL Bootcamp', 777.99, 'Learn PostgreSQL via Bootcamp', '2013-07-11'), \n",
    "('Mastering PostgreSQL', 999.98, 'Mastering PostgreSQL in 21 Days', '2012-06-30');\n",
    "\n",
    "SELECT * FROM courses;\n",
    "\"\"\"\n",
    "\n",
    "cursor.execute(sql)"
   ],
   "metadata": {
    "collapsed": false,
    "ExecuteTime": {
     "end_time": "2024-01-25T05:43:03.867574400Z",
     "start_time": "2024-01-25T05:43:03.841573Z"
    }
   },
   "id": "cbb297fd4a97e518",
   "execution_count": 3
  },
  {
   "cell_type": "code",
   "outputs": [
    {
     "ename": "ProgrammingError",
     "evalue": "the last operation didn't produce a result",
     "output_type": "error",
     "traceback": [
      "\u001B[1;31m---------------------------------------------------------------------------\u001B[0m",
      "\u001B[1;31mProgrammingError\u001B[0m                          Traceback (most recent call last)",
      "Cell \u001B[1;32mIn[4], line 7\u001B[0m\n\u001B[0;32m      1\u001B[0m sql \u001B[38;5;241m=\u001B[39m \u001B[38;5;124m\"\"\"\u001B[39m\n\u001B[0;32m      2\u001B[0m \u001B[38;5;124mUPDATE courses\u001B[39m\n\u001B[0;32m      3\u001B[0m \u001B[38;5;124mSET published_date = \u001B[39m\u001B[38;5;124m'\u001B[39m\u001B[38;5;124m2020-08-01\u001B[39m\u001B[38;5;124m'\u001B[39m\u001B[38;5;124m \u001B[39m\n\u001B[0;32m      4\u001B[0m \u001B[38;5;124mWHERE course_id = 3;\u001B[39m\n\u001B[0;32m      5\u001B[0m \u001B[38;5;124m\"\"\"\u001B[39m\n\u001B[1;32m----> 7\u001B[0m \u001B[43mrun_sql\u001B[49m\u001B[43m(\u001B[49m\u001B[43mcursor\u001B[49m\u001B[43m,\u001B[49m\u001B[43m \u001B[49m\u001B[43msql\u001B[49m\u001B[43m)\u001B[49m\n",
      "File \u001B[1;32m<string>:3\u001B[0m, in \u001B[0;36mrun_sql\u001B[1;34m(cursor, sql_stat)\u001B[0m\n",
      "File \u001B[1;32m<string>:2\u001B[0m, in \u001B[0;36mdisplay_data\u001B[1;34m(cursor)\u001B[0m\n",
      "File \u001B[1;32m~\\.conda\\envs\\learning\\lib\\site-packages\\psycopg\\cursor.py:857\u001B[0m, in \u001B[0;36mCursor.fetchall\u001B[1;34m(self)\u001B[0m\n\u001B[0;32m    851\u001B[0m \u001B[38;5;250m\u001B[39m\u001B[38;5;124;03m\"\"\"\u001B[39;00m\n\u001B[0;32m    852\u001B[0m \u001B[38;5;124;03mReturn all the remaining records from the current recordset.\u001B[39;00m\n\u001B[0;32m    853\u001B[0m \n\u001B[0;32m    854\u001B[0m \u001B[38;5;124;03m:rtype: Sequence[Row], with Row defined by `row_factory`\u001B[39;00m\n\u001B[0;32m    855\u001B[0m \u001B[38;5;124;03m\"\"\"\u001B[39;00m\n\u001B[0;32m    856\u001B[0m \u001B[38;5;28mself\u001B[39m\u001B[38;5;241m.\u001B[39m_fetch_pipeline()\n\u001B[1;32m--> 857\u001B[0m \u001B[38;5;28;43mself\u001B[39;49m\u001B[38;5;241;43m.\u001B[39;49m\u001B[43m_check_result_for_fetch\u001B[49m\u001B[43m(\u001B[49m\u001B[43m)\u001B[49m\n\u001B[0;32m    858\u001B[0m \u001B[38;5;28;01massert\u001B[39;00m \u001B[38;5;28mself\u001B[39m\u001B[38;5;241m.\u001B[39mpgresult\n\u001B[0;32m    859\u001B[0m records \u001B[38;5;241m=\u001B[39m \u001B[38;5;28mself\u001B[39m\u001B[38;5;241m.\u001B[39m_tx\u001B[38;5;241m.\u001B[39mload_rows(\u001B[38;5;28mself\u001B[39m\u001B[38;5;241m.\u001B[39m_pos, \u001B[38;5;28mself\u001B[39m\u001B[38;5;241m.\u001B[39mpgresult\u001B[38;5;241m.\u001B[39mntuples, \u001B[38;5;28mself\u001B[39m\u001B[38;5;241m.\u001B[39m_make_row)\n",
      "File \u001B[1;32m~\\.conda\\envs\\learning\\lib\\site-packages\\psycopg\\cursor.py:621\u001B[0m, in \u001B[0;36mBaseCursor._check_result_for_fetch\u001B[1;34m(self)\u001B[0m\n\u001B[0;32m    619\u001B[0m     \u001B[38;5;28;01mraise\u001B[39;00m e\u001B[38;5;241m.\u001B[39mPipelineAborted(\u001B[38;5;124m\"\u001B[39m\u001B[38;5;124mpipeline aborted\u001B[39m\u001B[38;5;124m\"\u001B[39m)\n\u001B[0;32m    620\u001B[0m \u001B[38;5;28;01melse\u001B[39;00m:\n\u001B[1;32m--> 621\u001B[0m     \u001B[38;5;28;01mraise\u001B[39;00m e\u001B[38;5;241m.\u001B[39mProgrammingError(\u001B[38;5;124m\"\u001B[39m\u001B[38;5;124mthe last operation didn\u001B[39m\u001B[38;5;124m'\u001B[39m\u001B[38;5;124mt produce a result\u001B[39m\u001B[38;5;124m\"\u001B[39m)\n",
      "\u001B[1;31mProgrammingError\u001B[0m: the last operation didn't produce a result"
     ]
    }
   ],
   "source": [
    "sql = \"\"\"\n",
    "UPDATE courses\n",
    "SET published_date = '2020-08-01' \n",
    "WHERE course_id = 3;\n",
    "\"\"\"\n",
    "\n",
    "run_sql(cursor, sql)"
   ],
   "metadata": {
    "collapsed": false,
    "ExecuteTime": {
     "end_time": "2024-01-25T05:43:52.932329700Z",
     "start_time": "2024-01-25T05:43:52.686572200Z"
    }
   },
   "id": "d55d89249d577ca",
   "execution_count": 4
  },
  {
   "cell_type": "code",
   "outputs": [
    {
     "name": "stdout",
     "output_type": "stream",
     "text": [
      "   course_id                  course_name published_date\n",
      "0          3  PostgreSQL High Performance     2020-08-01\n"
     ]
    }
   ],
   "source": [
    "sql = \"\"\"\n",
    "SELECT course_id, course_name, published_date\n",
    "FROM courses\n",
    "WHERE course_id = 3;\n",
    "\"\"\"\n",
    "\n",
    "run_sql(cursor, sql)"
   ],
   "metadata": {
    "collapsed": false,
    "ExecuteTime": {
     "end_time": "2024-01-25T05:44:08.913666500Z",
     "start_time": "2024-01-25T05:44:08.895543Z"
    }
   },
   "id": "8b56a85b82a07d39",
   "execution_count": 5
  },
  {
   "cell_type": "code",
   "outputs": [
    {
     "name": "stdout",
     "output_type": "stream",
     "text": [
      "   course_id                 course_name   price                 description  \\\n",
      "0          2  PostgreSQL Admininstration  349.99  A PostgreSQL Guide for DBA   \n",
      "\n",
      "  published_date  \n",
      "0     2020-07-01  \n"
     ]
    }
   ],
   "source": [
    "sql = \"\"\"\n",
    "UPDATE courses\n",
    "SET published_date = '2020-07-01'\n",
    "WHERE course_id = 2\n",
    "RETURNING *;\n",
    "\"\"\"\n",
    "\n",
    "run_sql(cursor, sql)"
   ],
   "metadata": {
    "collapsed": false,
    "ExecuteTime": {
     "end_time": "2024-01-25T05:44:26.499470800Z",
     "start_time": "2024-01-25T05:44:26.492905600Z"
    }
   },
   "id": "92d36f17fa3513f0",
   "execution_count": 6
  },
  {
   "cell_type": "markdown",
   "source": [
    "# Update Join"
   ],
   "metadata": {
    "collapsed": false
   },
   "id": "d02007084672f917"
  },
  {
   "cell_type": "code",
   "outputs": [
    {
     "data": {
      "text/plain": "<psycopg.Cursor [COMMAND_OK] [INTRANS] (host=localhost user=postgres database=dvdrental) at 0x1dffc73fed0>"
     },
     "execution_count": 15,
     "metadata": {},
     "output_type": "execute_result"
    }
   ],
   "source": [
    "sql = \"\"\"\n",
    "CREATE TABLE product_segment (\n",
    "    id SERIAL PRIMARY KEY,\n",
    "    segment VARCHAR NOT NULL,\n",
    "    discount NUMERIC (4, 2)\n",
    ");\n",
    "\n",
    "\n",
    "INSERT INTO \n",
    "    product_segment (segment, discount)\n",
    "VALUES\n",
    "    ('Grand Luxury', 0.05),\n",
    "    ('Luxury', 0.06),\n",
    "    ('Mass', 0.1);\n",
    "    \n",
    "CREATE TABLE product(\n",
    "    id SERIAL PRIMARY KEY,\n",
    "    name VARCHAR NOT NULL,\n",
    "    price NUMERIC(10,2),\n",
    "    net_price NUMERIC(10,2),\n",
    "    segment_id INT NOT NULL,\n",
    "    FOREIGN KEY(segment_id) REFERENCES product_segment(id)\n",
    ");\n",
    "\n",
    "\n",
    "INSERT INTO \n",
    "    product (name, price, segment_id) \n",
    "VALUES \n",
    "    ('diam', 804.89, 1),\n",
    "    ('vestibulum aliquet', 228.55, 3),\n",
    "    ('lacinia erat', 366.45, 2),\n",
    "    ('scelerisque quam turpis', 145.33, 3),\n",
    "    ('justo lacinia', 551.77, 2),\n",
    "    ('ultrices mattis odio', 261.58, 3),\n",
    "    ('hendrerit', 519.62, 2),\n",
    "    ('in hac habitasse', 843.31, 1),\n",
    "    ('orci eget orci', 254.18, 3),\n",
    "    ('pellentesque', 427.78, 2),\n",
    "    ('sit amet nunc', 936.29, 1),\n",
    "    ('sed vestibulum', 910.34, 1),\n",
    "    ('turpis eget', 208.33, 3),\n",
    "    ('cursus vestibulum', 985.45, 1),\n",
    "    ('orci nullam', 841.26, 1),\n",
    "    ('est quam pharetra', 896.38, 1),\n",
    "    ('posuere', 575.74, 2),\n",
    "    ('ligula', 530.64, 2),\n",
    "    ('convallis', 892.43, 1),\n",
    "    ('nulla elit ac', 161.71, 3);\n",
    "\"\"\"\n",
    "\n",
    "cursor.execute(sql)"
   ],
   "metadata": {
    "collapsed": false,
    "ExecuteTime": {
     "end_time": "2024-01-25T05:46:57.968674900Z",
     "start_time": "2024-01-25T05:46:57.931148200Z"
    }
   },
   "id": "d59949ffb00a0c33",
   "execution_count": 15
  },
  {
   "cell_type": "code",
   "outputs": [
    {
     "name": "stdout",
     "output_type": "stream",
     "text": [
      "    id                     name   price net_price  segment_id  id  \\\n",
      "0    1                     diam  804.89    764.65           1   1   \n",
      "1    2       vestibulum aliquet  228.55    205.70           3   3   \n",
      "2    3             lacinia erat  366.45    344.46           2   2   \n",
      "3    4  scelerisque quam turpis  145.33    130.80           3   3   \n",
      "4    5            justo lacinia  551.77    518.66           2   2   \n",
      "5    6     ultrices mattis odio  261.58    235.42           3   3   \n",
      "6    7                hendrerit  519.62    488.44           2   2   \n",
      "7    8         in hac habitasse  843.31    801.14           1   1   \n",
      "8    9           orci eget orci  254.18    228.76           3   3   \n",
      "9   10             pellentesque  427.78    402.11           2   2   \n",
      "10  11            sit amet nunc  936.29    889.48           1   1   \n",
      "11  12           sed vestibulum  910.34    864.82           1   1   \n",
      "12  13              turpis eget  208.33    187.50           3   3   \n",
      "13  14        cursus vestibulum  985.45    936.18           1   1   \n",
      "14  15              orci nullam  841.26    799.20           1   1   \n",
      "15  16        est quam pharetra  896.38    851.56           1   1   \n",
      "16  17                  posuere  575.74    541.20           2   2   \n",
      "17  18                   ligula  530.64    498.80           2   2   \n",
      "18  19                convallis  892.43    847.81           1   1   \n",
      "19  20            nulla elit ac  161.71    145.54           3   3   \n",
      "\n",
      "         segment discount  \n",
      "0   Grand Luxury     0.05  \n",
      "1           Mass     0.10  \n",
      "2         Luxury     0.06  \n",
      "3           Mass     0.10  \n",
      "4         Luxury     0.06  \n",
      "5           Mass     0.10  \n",
      "6         Luxury     0.06  \n",
      "7   Grand Luxury     0.05  \n",
      "8           Mass     0.10  \n",
      "9         Luxury     0.06  \n",
      "10  Grand Luxury     0.05  \n",
      "11  Grand Luxury     0.05  \n",
      "12          Mass     0.10  \n",
      "13  Grand Luxury     0.05  \n",
      "14  Grand Luxury     0.05  \n",
      "15  Grand Luxury     0.05  \n",
      "16        Luxury     0.06  \n",
      "17        Luxury     0.06  \n",
      "18  Grand Luxury     0.05  \n",
      "19          Mass     0.10  \n"
     ]
    }
   ],
   "source": [
    "sql = \"\"\"\n",
    "UPDATE \n",
    "    product p\n",
    "SET \n",
    "    net_price = price - price * discount\n",
    "FROM \n",
    "    product_segment s\n",
    "WHERE \n",
    "    p.segment_id = s.id\n",
    "RETURNING *;\n",
    "\"\"\"\n",
    "\n",
    "run_sql(cursor, sql)"
   ],
   "metadata": {
    "collapsed": false,
    "ExecuteTime": {
     "end_time": "2024-01-25T05:46:59.898539600Z",
     "start_time": "2024-01-25T05:46:59.871280700Z"
    }
   },
   "id": "262492fb3385adb",
   "execution_count": 16
  },
  {
   "cell_type": "markdown",
   "source": [
    "```\n",
    "DELETE FROM table_name\n",
    "WHERE condition;\n",
    "```\n",
    "\n",
    "```\n",
    "DELETE FROM table_name\n",
    "WHERE condition\n",
    "RETURNING (select_list | *)\n",
    "```"
   ],
   "metadata": {
    "collapsed": false
   },
   "id": "75bf16a56a96894a"
  },
  {
   "cell_type": "code",
   "outputs": [
    {
     "data": {
      "text/plain": "<psycopg.Cursor [COMMAND_OK] [INTRANS] (host=localhost user=postgres database=dvdrental) at 0x1dffc7826c0>"
     },
     "execution_count": 22,
     "metadata": {},
     "output_type": "execute_result"
    }
   ],
   "source": [
    "sql = \"\"\"\n",
    "CREATE TABLE todos (\n",
    "    id SERIAL PRIMARY KEY,\n",
    "    title VARCHAR(255) NOT NULL,\n",
    "    completed BOOLEAN NOT NULL DEFAULT false\n",
    ");\n",
    "\n",
    "INSERT INTO todos (title, completed) VALUES\n",
    "    ('Learn basic SQL syntax', true),\n",
    "    ('Practice writing SELECT queries', false),\n",
    "    ('Study PostgreSQL data types', true),\n",
    "    ('Create and modify tables', false),\n",
    "    ('Explore advanced SQL concepts', true),\n",
    "    ('Understand indexes and optimization', false),\n",
    "    ('Backup and restore databases', true),\n",
    "    ('Implement transactions', false),\n",
    "    ('Master PostgreSQL security features', true),\n",
    "    ('Build a sample application with PostgreSQL', false);\n",
    "\n",
    "SELECT * FROM todos;\n",
    "\"\"\"\n",
    "\n",
    "cursor.execute(sql)"
   ],
   "metadata": {
    "collapsed": false,
    "ExecuteTime": {
     "end_time": "2024-01-25T05:49:54.802529200Z",
     "start_time": "2024-01-25T05:49:54.779535200Z"
    }
   },
   "id": "83447f2243bc504f",
   "execution_count": 22
  },
  {
   "cell_type": "code",
   "outputs": [
    {
     "name": "stdout",
     "output_type": "stream",
     "text": [
      "   id                   title  completed\n",
      "0   1  Learn basic SQL syntax       True\n"
     ]
    }
   ],
   "source": [
    "sql = \"\"\"\n",
    "DELETE FROM todos\n",
    "WHERE id = 1\n",
    "RETURNING *;\n",
    "\"\"\"\n",
    "\n",
    "run_sql(cursor, sql)"
   ],
   "metadata": {
    "collapsed": false,
    "ExecuteTime": {
     "end_time": "2024-01-25T05:48:58.320015500Z",
     "start_time": "2024-01-25T05:48:58.312480Z"
    }
   },
   "id": "ba0035d8d8543658",
   "execution_count": 18
  },
  {
   "cell_type": "code",
   "outputs": [
    {
     "name": "stdout",
     "output_type": "stream",
     "text": [
      "   id                                title  completed\n",
      "0   3          Study PostgreSQL data types       True\n",
      "1   5        Explore advanced SQL concepts       True\n",
      "2   7         Backup and restore databases       True\n",
      "3   9  Master PostgreSQL security features       True\n"
     ]
    }
   ],
   "source": [
    "sql = \"\"\"\n",
    "DELETE FROM todos\n",
    "WHERE completed = true\n",
    "RETURNING *;\n",
    "\"\"\"\n",
    "\n",
    "run_sql(cursor, sql)"
   ],
   "metadata": {
    "collapsed": false,
    "ExecuteTime": {
     "end_time": "2024-01-25T05:49:24.765135600Z",
     "start_time": "2024-01-25T05:49:24.745659400Z"
    }
   },
   "id": "e8478d413ca0914",
   "execution_count": 19
  },
  {
   "cell_type": "code",
   "outputs": [
    {
     "name": "stdout",
     "output_type": "stream",
     "text": [
      "   id                                       title  completed\n",
      "0   1                      Learn basic SQL syntax       True\n",
      "1   2             Practice writing SELECT queries      False\n",
      "2   3                 Study PostgreSQL data types       True\n",
      "3   4                    Create and modify tables      False\n",
      "4   5               Explore advanced SQL concepts       True\n",
      "5   6         Understand indexes and optimization      False\n",
      "6   7                Backup and restore databases       True\n",
      "7   8                      Implement transactions      False\n",
      "8   9         Master PostgreSQL security features       True\n",
      "9  10  Build a sample application with PostgreSQL      False\n"
     ]
    }
   ],
   "source": [
    "sql = \"\"\"\n",
    "DELETE FROM todos\n",
    "RETURNING *;\n",
    "\"\"\"\n",
    "\n",
    "run_sql(cursor, sql)"
   ],
   "metadata": {
    "collapsed": false,
    "ExecuteTime": {
     "end_time": "2024-01-25T05:49:57.970519400Z",
     "start_time": "2024-01-25T05:49:57.955359300Z"
    }
   },
   "id": "6ec7f31a14e9096c",
   "execution_count": 23
  },
  {
   "cell_type": "markdown",
   "source": [
    "# Delete Join"
   ],
   "metadata": {
    "collapsed": false
   },
   "id": "45e4365bd646be91"
  },
  {
   "cell_type": "code",
   "outputs": [
    {
     "ename": "ProgrammingError",
     "evalue": "the last operation didn't produce a result",
     "output_type": "error",
     "traceback": [
      "\u001B[1;31m---------------------------------------------------------------------------\u001B[0m",
      "\u001B[1;31mProgrammingError\u001B[0m                          Traceback (most recent call last)",
      "Cell \u001B[1;32mIn[2], line 30\u001B[0m\n\u001B[0;32m      1\u001B[0m sql \u001B[38;5;241m=\u001B[39m \u001B[38;5;124m\"\"\"\u001B[39m\n\u001B[0;32m      2\u001B[0m \u001B[38;5;124mCREATE TABLE member(\u001B[39m\n\u001B[0;32m      3\u001B[0m \u001B[38;5;124m   id SERIAL PRIMARY KEY,\u001B[39m\n\u001B[1;32m   (...)\u001B[0m\n\u001B[0;32m     27\u001B[0m \u001B[38;5;124mSELECT * FROM denylist;\u001B[39m\n\u001B[0;32m     28\u001B[0m \u001B[38;5;124m\"\"\"\u001B[39m\n\u001B[1;32m---> 30\u001B[0m \u001B[43mrun_sql\u001B[49m\u001B[43m(\u001B[49m\u001B[43mcursor\u001B[49m\u001B[43m,\u001B[49m\u001B[43m \u001B[49m\u001B[43msql\u001B[49m\u001B[43m)\u001B[49m\n",
      "File \u001B[1;32m<string>:3\u001B[0m, in \u001B[0;36mrun_sql\u001B[1;34m(cursor, sql_stat)\u001B[0m\n",
      "File \u001B[1;32m<string>:2\u001B[0m, in \u001B[0;36mdisplay_data\u001B[1;34m(cursor)\u001B[0m\n",
      "File \u001B[1;32m~\\.conda\\envs\\learning\\lib\\site-packages\\psycopg\\cursor.py:857\u001B[0m, in \u001B[0;36mCursor.fetchall\u001B[1;34m(self)\u001B[0m\n\u001B[0;32m    851\u001B[0m \u001B[38;5;250m\u001B[39m\u001B[38;5;124;03m\"\"\"\u001B[39;00m\n\u001B[0;32m    852\u001B[0m \u001B[38;5;124;03mReturn all the remaining records from the current recordset.\u001B[39;00m\n\u001B[0;32m    853\u001B[0m \n\u001B[0;32m    854\u001B[0m \u001B[38;5;124;03m:rtype: Sequence[Row], with Row defined by `row_factory`\u001B[39;00m\n\u001B[0;32m    855\u001B[0m \u001B[38;5;124;03m\"\"\"\u001B[39;00m\n\u001B[0;32m    856\u001B[0m \u001B[38;5;28mself\u001B[39m\u001B[38;5;241m.\u001B[39m_fetch_pipeline()\n\u001B[1;32m--> 857\u001B[0m \u001B[38;5;28;43mself\u001B[39;49m\u001B[38;5;241;43m.\u001B[39;49m\u001B[43m_check_result_for_fetch\u001B[49m\u001B[43m(\u001B[49m\u001B[43m)\u001B[49m\n\u001B[0;32m    858\u001B[0m \u001B[38;5;28;01massert\u001B[39;00m \u001B[38;5;28mself\u001B[39m\u001B[38;5;241m.\u001B[39mpgresult\n\u001B[0;32m    859\u001B[0m records \u001B[38;5;241m=\u001B[39m \u001B[38;5;28mself\u001B[39m\u001B[38;5;241m.\u001B[39m_tx\u001B[38;5;241m.\u001B[39mload_rows(\u001B[38;5;28mself\u001B[39m\u001B[38;5;241m.\u001B[39m_pos, \u001B[38;5;28mself\u001B[39m\u001B[38;5;241m.\u001B[39mpgresult\u001B[38;5;241m.\u001B[39mntuples, \u001B[38;5;28mself\u001B[39m\u001B[38;5;241m.\u001B[39m_make_row)\n",
      "File \u001B[1;32m~\\.conda\\envs\\learning\\lib\\site-packages\\psycopg\\cursor.py:621\u001B[0m, in \u001B[0;36mBaseCursor._check_result_for_fetch\u001B[1;34m(self)\u001B[0m\n\u001B[0;32m    619\u001B[0m     \u001B[38;5;28;01mraise\u001B[39;00m e\u001B[38;5;241m.\u001B[39mPipelineAborted(\u001B[38;5;124m\"\u001B[39m\u001B[38;5;124mpipeline aborted\u001B[39m\u001B[38;5;124m\"\u001B[39m)\n\u001B[0;32m    620\u001B[0m \u001B[38;5;28;01melse\u001B[39;00m:\n\u001B[1;32m--> 621\u001B[0m     \u001B[38;5;28;01mraise\u001B[39;00m e\u001B[38;5;241m.\u001B[39mProgrammingError(\u001B[38;5;124m\"\u001B[39m\u001B[38;5;124mthe last operation didn\u001B[39m\u001B[38;5;124m'\u001B[39m\u001B[38;5;124mt produce a result\u001B[39m\u001B[38;5;124m\"\u001B[39m)\n",
      "\u001B[1;31mProgrammingError\u001B[0m: the last operation didn't produce a result"
     ]
    }
   ],
   "source": [
    "sql = \"\"\"\n",
    "CREATE TABLE member(\n",
    "   id SERIAL PRIMARY KEY,\n",
    "   first_name VARCHAR(50) NOT NULL,\n",
    "   last_name VARCHAR(50) NOT NULL,\n",
    "   phone VARCHAR(15) NOT NULL\n",
    ");\n",
    "\n",
    "\n",
    "CREATE TABLE denylist(\n",
    "    phone VARCHAR(15) PRIMARY KEY\n",
    ");\n",
    "\n",
    "\n",
    "INSERT INTO member(first_name, last_name, phone)\n",
    "VALUES ('John','Doe','(408)-523-9874'),\n",
    "       ('Jane','Doe','(408)-511-9876'),\n",
    "       ('Lily','Bush','(408)-124-9221');\n",
    "\n",
    "\n",
    "INSERT INTO denylist(phone)\n",
    "VALUES ('(408)-523-9874'),\n",
    "       ('(408)-511-9876');\n",
    "\n",
    "SELECT * FROM member;\n",
    "\n",
    "SELECT * FROM denylist;\n",
    "\"\"\"\n",
    "\n",
    "run_sql(cursor, sql)"
   ],
   "metadata": {
    "collapsed": false,
    "ExecuteTime": {
     "end_time": "2024-01-25T05:51:10.971692Z",
     "start_time": "2024-01-25T05:51:10.716152600Z"
    }
   },
   "id": "617bca59122e5da7",
   "execution_count": 2
  },
  {
   "cell_type": "code",
   "outputs": [
    {
     "name": "stdout",
     "output_type": "stream",
     "text": [
      "   id first_name last_name           phone           phone\n",
      "0   1       John       Doe  (408)-523-9874  (408)-523-9874\n",
      "1   2       Jane       Doe  (408)-511-9876  (408)-511-9876\n"
     ]
    }
   ],
   "source": [
    "sql = \"\"\"\n",
    "DELETE FROM member\n",
    "USING denylist\n",
    "WHERE member.phone = denylist.phone\n",
    "RETURNING *;\n",
    "\"\"\"\n",
    "\n",
    "run_sql(cursor, sql)"
   ],
   "metadata": {
    "collapsed": false,
    "ExecuteTime": {
     "end_time": "2024-01-25T05:51:34.670166Z",
     "start_time": "2024-01-25T05:51:34.656953900Z"
    }
   },
   "id": "388f28df9275b119",
   "execution_count": 3
  },
  {
   "cell_type": "code",
   "outputs": [
    {
     "name": "stdout",
     "output_type": "stream",
     "text": [
      "Empty DataFrame\n",
      "Columns: [id, first_name, last_name, phone]\n",
      "Index: []\n"
     ]
    }
   ],
   "source": [
    "sql = \"\"\"\n",
    "DELETE FROM member \n",
    "WHERE phone IN (\n",
    "    SELECT \n",
    "      phone \n",
    "    FROM \n",
    "      denylist\n",
    ")\n",
    "RETURNING *;\n",
    "\"\"\"\n",
    "\n",
    "run_sql(cursor, sql)"
   ],
   "metadata": {
    "collapsed": false,
    "ExecuteTime": {
     "end_time": "2024-01-25T05:51:54.001845900Z",
     "start_time": "2024-01-25T05:51:53.968399100Z"
    }
   },
   "id": "b0cbee29b8b4d3f1",
   "execution_count": 4
  }
 ],
 "metadata": {
  "kernelspec": {
   "display_name": "Python 3",
   "language": "python",
   "name": "python3"
  },
  "language_info": {
   "codemirror_mode": {
    "name": "ipython",
    "version": 2
   },
   "file_extension": ".py",
   "mimetype": "text/x-python",
   "name": "python",
   "nbconvert_exporter": "python",
   "pygments_lexer": "ipython2",
   "version": "2.7.6"
  }
 },
 "nbformat": 4,
 "nbformat_minor": 5
}
