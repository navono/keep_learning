{
 "cells": [
  {
   "cell_type": "code",
   "outputs": [
    {
     "name": "stdout",
     "output_type": "stream",
     "text": [
      "importing Jupyter notebook from D:\\sourcecode\\keep_learning\\db\\pg\\pg_00_common.ipynb\n"
     ]
    }
   ],
   "source": [
    "import common.ipynb_importer\n",
    "from db.pg.pg_00_common import *\n",
    "\n",
    "cursor = pg_connect()"
   ],
   "metadata": {
    "collapsed": false,
    "ExecuteTime": {
     "end_time": "2024-04-04T05:13:03.256033Z",
     "start_time": "2024-04-04T05:13:02.380384Z"
    }
   },
   "id": "3cb7321376bc1bb7",
   "execution_count": 1
  },
  {
   "cell_type": "markdown",
   "source": [
    "# IF 语句\n",
    "\n",
    "有以下形式：\n",
    "- if then\n",
    "- if then else\n",
    "- if then elseif then"
   ],
   "metadata": {
    "collapsed": false
   },
   "id": "63715df690ba4f99"
  },
  {
   "cell_type": "markdown",
   "source": [
    "## if then\n",
    "```sql\n",
    "if condition then\n",
    "    statement;\n",
    "end if;\n",
    "```"
   ],
   "metadata": {
    "collapsed": false
   },
   "id": "5b2611ace7af934f"
  },
  {
   "cell_type": "code",
   "outputs": [
    {
     "name": "stdout",
     "output_type": "stream",
     "text": [
      "The film 0 could not be found\n"
     ]
    },
    {
     "data": {
      "text/plain": "<psycopg.Cursor [COMMAND_OK] [INTRANS] (host=localhost user=postgres database=dvdrental) at 0x210d4b37110>"
     },
     "execution_count": 2,
     "metadata": {},
     "output_type": "execute_result"
    }
   ],
   "source": [
    "sql = \"\"\"\n",
    "do $$\n",
    "declare\n",
    "  selected_film film%rowtype;\n",
    "  input_film_id film.film_id%type = 0;\n",
    "begin  \n",
    "\n",
    "  select * from film\n",
    "  into selected_film\n",
    "  where film_id = input_film_id;\n",
    "  \n",
    "  if not found then\n",
    "     raise notice'The film % could not be found', \n",
    "\t    input_film_id;\n",
    "  end if;\n",
    "end $$;\n",
    "\"\"\"\n",
    "cursor.execute(sql)\n",
    "\n",
    "# found 是 PL/pgSQL 中的全局变量。如果分配了一条记录，select into 语句就会设置 found 变量；如果没有返回记录，select into 语句就会设置 false 变量。\n"
   ],
   "metadata": {
    "collapsed": false,
    "ExecuteTime": {
     "end_time": "2024-04-04T05:13:06.849095Z",
     "start_time": "2024-04-04T05:13:06.810160Z"
    }
   },
   "id": "4f3f4bb43b00b131",
   "execution_count": 2
  },
  {
   "cell_type": "markdown",
   "source": [
    "## if then else\n",
    "\n",
    "```\n",
    "if condition then\n",
    "  statements;\n",
    "else\n",
    "  alternative-statements;\n",
    "end if;\n",
    "```"
   ],
   "metadata": {
    "collapsed": false
   },
   "id": "1cf61b93f06c021d"
  },
  {
   "cell_type": "code",
   "outputs": [
    {
     "name": "stdout",
     "output_type": "stream",
     "text": [
      "The film title is Brooklyn Desert\n"
     ]
    },
    {
     "data": {
      "text/plain": "<psycopg.Cursor [COMMAND_OK] [INTRANS] (host=localhost user=postgres database=dvdrental) at 0x210d4b37110>"
     },
     "execution_count": 3,
     "metadata": {},
     "output_type": "execute_result"
    }
   ],
   "source": [
    "sql = \"\"\"\n",
    "do $$\n",
    "declare\n",
    "  selected_film film%rowtype;\n",
    "  input_film_id film.film_id%type := 100;\n",
    "begin\n",
    "  select * from film\n",
    "  into selected_film\n",
    "  where film_id = input_film_id;\n",
    "  \n",
    "  if not found then\n",
    "     raise notice 'The film % could not be found', \n",
    "\t    input_film_id;\n",
    "  else\n",
    "     raise notice 'The film title is %', selected_film.title;\n",
    "  end if;\n",
    "end $$;\n",
    "\"\"\"\n",
    "cursor.execute(sql)"
   ],
   "metadata": {
    "collapsed": false,
    "ExecuteTime": {
     "end_time": "2024-04-04T05:20:49.600745Z",
     "start_time": "2024-04-04T05:20:49.579746Z"
    }
   },
   "id": "7375a3c36224da76",
   "execution_count": 3
  },
  {
   "cell_type": "markdown",
   "source": [
    "## if then elseif then"
   ],
   "metadata": {
    "collapsed": false
   },
   "id": "db89659e780be43c"
  },
  {
   "cell_type": "code",
   "outputs": [
    {
     "name": "stdout",
     "output_type": "stream",
     "text": [
      "The Brooklyn Desert film is Long.\n"
     ]
    },
    {
     "data": {
      "text/plain": "<psycopg.Cursor [COMMAND_OK] [INTRANS] (host=localhost user=postgres database=dvdrental) at 0x210d4b37110>"
     },
     "execution_count": 4,
     "metadata": {},
     "output_type": "execute_result"
    }
   ],
   "source": [
    "sql = \"\"\"\n",
    "do $$\n",
    "declare\n",
    "   v_film film%rowtype;\n",
    "   len_description varchar(100);\n",
    "begin  \n",
    "\n",
    "  select * from film\n",
    "  into v_film\n",
    "  where film_id = 100;\n",
    "  \n",
    "  if not found then\n",
    "     raise notice 'Film not found';\n",
    "  else\n",
    "      if v_film.length >0 and v_film.length <= 50 then\n",
    "\t\t len_description := 'Short';\n",
    "\t  elsif v_film.length > 50 and v_film.length < 120 then\n",
    "\t\t len_description := 'Medium';\n",
    "\t  elsif v_film.length > 120 then\n",
    "\t\t len_description := 'Long';\n",
    "\t  else \n",
    "\t\t len_description := 'N/A';\n",
    "\t  end if;\n",
    "    \n",
    "\t  raise notice 'The % film is %.',\n",
    "\t     v_film.title,  \n",
    "\t     len_description;\n",
    "  end if;\n",
    "end $$;\n",
    "\"\"\"\n",
    "cursor.execute(sql)"
   ],
   "metadata": {
    "collapsed": false,
    "ExecuteTime": {
     "end_time": "2024-04-04T05:21:26.239401Z",
     "start_time": "2024-04-04T05:21:26.219400Z"
    }
   },
   "id": "b7fb465de5569033",
   "execution_count": 4
  }
 ],
 "metadata": {
  "kernelspec": {
   "display_name": "Python 3",
   "language": "python",
   "name": "python3"
  },
  "language_info": {
   "codemirror_mode": {
    "name": "ipython",
    "version": 2
   },
   "file_extension": ".py",
   "mimetype": "text/x-python",
   "name": "python",
   "nbconvert_exporter": "python",
   "pygments_lexer": "ipython2",
   "version": "2.7.6"
  }
 },
 "nbformat": 4,
 "nbformat_minor": 5
}
