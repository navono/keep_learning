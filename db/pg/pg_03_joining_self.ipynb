{
 "cells": [
  {
   "cell_type": "markdown",
   "source": [
    "```\n",
    "SELECT select_list\n",
    "FROM table_name t1\n",
    "INNER JOIN table_name t2 ON join_predicate;\n",
    "```\n",
    "\n",
    "用以下数据为例\n",
    "![self join example](./pg_self_join_data.png)"
   ],
   "metadata": {
    "collapsed": false
   },
   "id": "f963ffea3ff9e152"
  },
  {
   "cell_type": "code",
   "execution_count": 1,
   "id": "initial_id",
   "metadata": {
    "collapsed": true,
    "ExecuteTime": {
     "end_time": "2024-01-24T07:22:55.467118200Z",
     "start_time": "2024-01-24T07:22:55.035319400Z"
    }
   },
   "outputs": [
    {
     "name": "stdout",
     "output_type": "stream",
     "text": [
      "importing Jupyter notebook from E:\\sourcecode\\keep_learning\\db\\pg\\pg_00_common.ipynb\n"
     ]
    }
   ],
   "source": [
    "import common.ipynb_importer\n",
    "from db.pg.pg_00_common import *\n",
    "\n",
    "cursor = pg_connect()"
   ]
  },
  {
   "cell_type": "code",
   "outputs": [],
   "source": [
    "table_sql = \"\"\"\n",
    "CREATE TABLE employee (\n",
    "  employee_id INT PRIMARY KEY, \n",
    "  first_name VARCHAR (255) NOT NULL, \n",
    "  last_name VARCHAR (255) NOT NULL, \n",
    "  manager_id INT, \n",
    "  FOREIGN KEY (manager_id) REFERENCES employee (employee_id) ON DELETE CASCADE\n",
    ");\n",
    "\"\"\"\n",
    "\n",
    "data_sql = \"\"\"\n",
    "INSERT INTO employee (employee_id, first_name, last_name, manager_id) \n",
    "VALUES \n",
    "  (1, 'Windy', 'Hays', NULL), \n",
    "  (2, 'Ava', 'Christensen', 1), \n",
    "  (3, 'Hassan', 'Conner', 1), \n",
    "  (4, 'Anna', 'Reeves', 2), \n",
    "  (5, 'Sau', 'Norman', 2), \n",
    "  (6, 'Kelsie', 'Hays', 3), \n",
    "  (7, 'Tory', 'Goff', 3), \n",
    "  (8, 'Salley', 'Lester', 3);\n",
    "\"\"\""
   ],
   "metadata": {
    "collapsed": false,
    "ExecuteTime": {
     "end_time": "2024-01-24T06:46:01.941324600Z",
     "start_time": "2024-01-24T06:46:01.925325200Z"
    }
   },
   "id": "34db47314c8c6f80",
   "execution_count": 3
  },
  {
   "cell_type": "code",
   "outputs": [
    {
     "data": {
      "text/plain": "<psycopg.Cursor [COMMAND_OK] [INTRANS] (host=localhost user=postgres database=dvdrental) at 0x1a8ff3b17a0>"
     },
     "execution_count": 4,
     "metadata": {},
     "output_type": "execute_result"
    }
   ],
   "source": [
    "cursor.execute(table_sql)\n",
    "cursor.execute(data_sql)"
   ],
   "metadata": {
    "collapsed": false,
    "ExecuteTime": {
     "end_time": "2024-01-24T06:46:04.001070400Z",
     "start_time": "2024-01-24T06:46:03.957064900Z"
    }
   },
   "id": "bcf19e247752ba53",
   "execution_count": 4
  },
  {
   "cell_type": "code",
   "outputs": [
    {
     "name": "stdout",
     "output_type": "stream",
     "text": [
      "          employee          manager\n",
      "0       Sau Norman  Ava Christensen\n",
      "1      Anna Reeves  Ava Christensen\n",
      "2    Salley Lester    Hassan Conner\n",
      "3      Kelsie Hays    Hassan Conner\n",
      "4        Tory Goff    Hassan Conner\n",
      "5  Ava Christensen       Windy Hays\n",
      "6    Hassan Conner       Windy Hays\n"
     ]
    }
   ],
   "source": [
    "sql = \"\"\"\n",
    "SELECT \n",
    "  e.first_name || ' ' || e.last_name employee, \n",
    "  m.first_name || ' ' || m.last_name manager \n",
    "FROM \n",
    "  employee e \n",
    "  INNER JOIN employee m ON m.employee_id = e.manager_id \n",
    "ORDER BY \n",
    "  manager;\n",
    "\"\"\"\n",
    "\n",
    "run_sql(cursor, sql)"
   ],
   "metadata": {
    "collapsed": false,
    "ExecuteTime": {
     "end_time": "2024-01-24T06:46:45.640281500Z",
     "start_time": "2024-01-24T06:46:45.627281700Z"
    }
   },
   "id": "221d47f22bb7ca37",
   "execution_count": 5
  },
  {
   "cell_type": "code",
   "outputs": [
    {
     "name": "stdout",
     "output_type": "stream",
     "text": [
      "          employee          manager\n",
      "0      Anna Reeves  Ava Christensen\n",
      "1       Sau Norman  Ava Christensen\n",
      "2    Salley Lester    Hassan Conner\n",
      "3      Kelsie Hays    Hassan Conner\n",
      "4        Tory Goff    Hassan Conner\n",
      "5    Hassan Conner       Windy Hays\n",
      "6  Ava Christensen       Windy Hays\n",
      "7       Windy Hays             None\n"
     ]
    }
   ],
   "source": [
    "sql = \"\"\"\n",
    "SELECT \n",
    "  e.first_name || ' ' || e.last_name employee, \n",
    "  m.first_name || ' ' || m.last_name manager \n",
    "FROM \n",
    "  employee e \n",
    "  LEFT JOIN employee m ON m.employee_id = e.manager_id \n",
    "ORDER BY \n",
    "  manager;\n",
    "\"\"\"\n",
    "\n",
    "run_sql(cursor, sql)"
   ],
   "metadata": {
    "collapsed": false,
    "ExecuteTime": {
     "end_time": "2024-01-24T06:47:51.463856800Z",
     "start_time": "2024-01-24T06:47:51.455857700Z"
    }
   },
   "id": "c45ee0834d1f740d",
   "execution_count": 6
  },
  {
   "cell_type": "code",
   "outputs": [
    {
     "name": "stdout",
     "output_type": "stream",
     "text": [
      "      file_1_id       file_1_title       file_2_title  length\n",
      "0           133    Chamber Italian   Affair Prejudice     117\n",
      "1           384   Grosse Wonderful    Doors President      49\n",
      "2            98  Bright Encounters  Bedazzled Married      73\n",
      "3           213         Date Speed        Crow Grease     104\n",
      "4            26     Annie Identity   Academy Dinosaur      86\n",
      "...         ...                ...                ...     ...\n",
      "3481       1000          Zorro Ark        Muppet Mile      50\n",
      "3482       1000          Zorro Ark         Lion Uncut      50\n",
      "3483       1000          Zorro Ark   Crossing Divorce      50\n",
      "3484       1000          Zorro Ark     Blues Instinct      50\n",
      "3485       1000          Zorro Ark   Adaptation Holes      50\n",
      "\n",
      "[3486 rows x 4 columns]\n"
     ]
    }
   ],
   "source": [
    "sql = \"\"\"\n",
    "SELECT \n",
    "  f1.film_id as file_1_id,\n",
    "  f1.title as file_1_title, \n",
    "  f2.title as file_2_title, \n",
    "  f1.length \n",
    "FROM \n",
    "  film f1 \n",
    "  INNER JOIN film f2 ON f1.film_id > f2.film_id \n",
    "  AND f1.length = f2.length;\n",
    "\"\"\"\n",
    "\n",
    "run_sql(cursor, sql)"
   ],
   "metadata": {
    "collapsed": false,
    "ExecuteTime": {
     "end_time": "2024-01-24T06:50:15.521992400Z",
     "start_time": "2024-01-24T06:50:15.495137200Z"
    }
   },
   "id": "928ebfb11e724cc4",
   "execution_count": 13
  }
 ],
 "metadata": {
  "kernelspec": {
   "display_name": "Python 3",
   "language": "python",
   "name": "python3"
  },
  "language_info": {
   "codemirror_mode": {
    "name": "ipython",
    "version": 2
   },
   "file_extension": ".py",
   "mimetype": "text/x-python",
   "name": "python",
   "nbconvert_exporter": "python",
   "pygments_lexer": "ipython2",
   "version": "2.7.6"
  }
 },
 "nbformat": 4,
 "nbformat_minor": 5
}
