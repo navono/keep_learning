{
 "cells": [
  {
   "cell_type": "markdown",
   "source": [
    "`INTERSECT` 运算符返回一个结果集，其中包含两个结果集中都存在的行。\n",
    "```\n",
    "SELECT select_list\n",
    "FROM A\n",
    "INTERSECT\n",
    "SELECT select_list\n",
    "FROM B;\n",
    "```\n",
    "\n",
    "同样，需要排序的话，需要使用 `ORDER BY`。\n",
    "```\n",
    "SELECT select_list\n",
    "FROM A\n",
    "INTERSECT\n",
    "SELECT select_list\n",
    "FROM B\n",
    "ORDER BY sort_expression;\n",
    "```\n",
    "\n",
    "![intersect](./pg_intersect.png)"
   ],
   "metadata": {
    "collapsed": false
   },
   "id": "3b51e975e7055ad4"
  },
  {
   "cell_type": "code",
   "outputs": [
    {
     "name": "stdout",
     "output_type": "stream",
     "text": [
      "importing Jupyter notebook from E:\\sourcecode\\keep_learning\\db\\pg\\pg_00_common.ipynb\n"
     ]
    }
   ],
   "source": [
    "import common.ipynb_importer\n",
    "from db.pg.pg_00_common import *\n",
    "\n",
    "cursor = pg_connect()"
   ],
   "metadata": {
    "collapsed": false,
    "ExecuteTime": {
     "end_time": "2024-01-25T01:16:34.929487500Z",
     "start_time": "2024-01-25T01:16:34.481829300Z"
    }
   },
   "id": "f67677b48c276271",
   "execution_count": 1
  },
  {
   "cell_type": "code",
   "execution_count": 2,
   "id": "initial_id",
   "metadata": {
    "collapsed": true,
    "ExecuteTime": {
     "end_time": "2024-01-25T01:16:37.186704600Z",
     "start_time": "2024-01-25T01:16:37.157702700Z"
    }
   },
   "outputs": [
    {
     "data": {
      "text/plain": "<psycopg.Cursor [COMMAND_OK] [INTRANS] (host=localhost user=postgres database=dvdrental) at 0x142e7a51a60>"
     },
     "execution_count": 2,
     "metadata": {},
     "output_type": "execute_result"
    }
   ],
   "source": [
    "sql = \"\"\"\n",
    "CREATE TABLE top_rated_films(\n",
    "  title VARCHAR NOT NULL, \n",
    "  release_year SMALLINT\n",
    ");\n",
    "\n",
    "CREATE TABLE most_popular_films(\n",
    "  title VARCHAR NOT NULL, \n",
    "  release_year SMALLINT\n",
    ");\n",
    "\n",
    "INSERT INTO top_rated_films(title, release_year) \n",
    "VALUES \n",
    "   ('The Shawshank Redemption', 1994), \n",
    "   ('The Godfather', 1972), \n",
    "   ('The Dark Knight', 2008),\n",
    "   ('12 Angry Men', 1957);\n",
    "\n",
    "INSERT INTO most_popular_films(title, release_year) \n",
    "VALUES \n",
    "  ('An American Pickle', 2020), \n",
    "  ('The Godfather', 1972), \n",
    "  ('The Dark Knight', 2008),\n",
    "  ('Greyhound', 2020);\n",
    "\n",
    "SELECT * FROM top_rated_films;\n",
    "SELECT * FROM most_popular_films;\n",
    "\"\"\"\n",
    "\n",
    "cursor.execute(sql)"
   ]
  },
  {
   "cell_type": "code",
   "outputs": [
    {
     "name": "stdout",
     "output_type": "stream",
     "text": [
      "             title  release_year\n",
      "0    The Godfather          1972\n",
      "1  The Dark Knight          2008\n"
     ]
    }
   ],
   "source": [
    "sql = \"\"\"\n",
    "SELECT *\n",
    "FROM most_popular_films \n",
    "INTERSECT\n",
    "SELECT *\n",
    "FROM top_rated_films;\n",
    "\"\"\"\n",
    "\n",
    "run_sql(cursor, sql)"
   ],
   "metadata": {
    "collapsed": false,
    "ExecuteTime": {
     "end_time": "2024-01-25T01:16:39.201560700Z",
     "start_time": "2024-01-25T01:16:39.193560700Z"
    }
   },
   "id": "8cdf112ddd0d23b7",
   "execution_count": 3
  },
  {
   "cell_type": "code",
   "outputs": [
    {
     "name": "stdout",
     "output_type": "stream",
     "text": [
      "             title  release_year\n",
      "0    The Godfather          1972\n",
      "1  The Dark Knight          2008\n"
     ]
    }
   ],
   "source": [
    "sql = \"\"\"\n",
    "SELECT *\n",
    "FROM most_popular_films \n",
    "INTERSECT\n",
    "SELECT *\n",
    "FROM top_rated_films\n",
    "ORDER BY release_year;\n",
    "\"\"\"\n",
    "\n",
    "run_sql(cursor, sql)"
   ],
   "metadata": {
    "collapsed": false,
    "ExecuteTime": {
     "end_time": "2024-01-25T01:17:01.720681800Z",
     "start_time": "2024-01-25T01:17:01.706682800Z"
    }
   },
   "id": "c07ec0777f770095",
   "execution_count": 4
  }
 ],
 "metadata": {
  "kernelspec": {
   "display_name": "Python 3",
   "language": "python",
   "name": "python3"
  },
  "language_info": {
   "codemirror_mode": {
    "name": "ipython",
    "version": 2
   },
   "file_extension": ".py",
   "mimetype": "text/x-python",
   "name": "python",
   "nbconvert_exporter": "python",
   "pygments_lexer": "ipython2",
   "version": "2.7.6"
  }
 },
 "nbformat": 4,
 "nbformat_minor": 5
}
