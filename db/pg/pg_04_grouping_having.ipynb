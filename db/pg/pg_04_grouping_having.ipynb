{
 "cells": [
  {
   "cell_type": "markdown",
   "source": [
    "```\n",
    "SELECT \n",
    "  column1, \n",
    "  aggregate_function (column2) \n",
    "FROM \n",
    "  table_name \n",
    "GROUP BY \n",
    "  column1 \n",
    "HAVING \n",
    "  condition;\n",
    "```"
   ],
   "metadata": {
    "collapsed": false
   },
   "id": "ff8d7bcfc66c577f"
  },
  {
   "cell_type": "code",
   "execution_count": 1,
   "id": "initial_id",
   "metadata": {
    "collapsed": true,
    "ExecuteTime": {
     "end_time": "2024-01-24T07:44:40.378333100Z",
     "start_time": "2024-01-24T07:44:39.947688200Z"
    }
   },
   "outputs": [
    {
     "name": "stdout",
     "output_type": "stream",
     "text": [
      "importing Jupyter notebook from E:\\sourcecode\\keep_learning\\db\\pg\\pg_00_common.ipynb\n"
     ]
    }
   ],
   "source": [
    "import common.ipynb_importer\n",
    "from db.pg.pg_00_common import *\n",
    "\n",
    "cursor = pg_connect()"
   ]
  },
  {
   "cell_type": "code",
   "outputs": [
    {
     "name": "stdout",
     "output_type": "stream",
     "text": [
      "     customer_id  amount\n",
      "0            148  211.55\n",
      "1            526  208.58\n",
      "2            178  194.61\n",
      "3            137  191.62\n",
      "4            144  189.60\n",
      "..           ...     ...\n",
      "594          110   49.88\n",
      "595          320   47.85\n",
      "596          248   37.87\n",
      "597          281   32.90\n",
      "598          318   27.93\n",
      "\n",
      "[599 rows x 2 columns]\n"
     ]
    }
   ],
   "source": [
    "sql = \"\"\"\n",
    "SELECT \n",
    "  customer_id, \n",
    "  SUM (amount) amount \n",
    "FROM \n",
    "  payment \n",
    "GROUP BY \n",
    "  customer_id \n",
    "ORDER BY \n",
    "  amount DESC;\n",
    "\"\"\"\n",
    "\n",
    "run_sql(cursor, sql)"
   ],
   "metadata": {
    "collapsed": false,
    "ExecuteTime": {
     "end_time": "2024-01-24T07:44:41.115933400Z",
     "start_time": "2024-01-24T07:44:41.081407100Z"
    }
   },
   "id": "cf23f6fc01a102af",
   "execution_count": 2
  },
  {
   "cell_type": "code",
   "outputs": [
    {
     "name": "stdout",
     "output_type": "stream",
     "text": [
      "   customer_id  amount\n",
      "0          148  211.55\n",
      "1          526  208.58\n"
     ]
    }
   ],
   "source": [
    "sql = \"\"\"\n",
    "SELECT \n",
    "  customer_id, \n",
    "  SUM (amount) amount \n",
    "FROM \n",
    "  payment \n",
    "GROUP BY \n",
    "  customer_id \n",
    "HAVING \n",
    "  SUM (amount) > 200 \n",
    "ORDER BY \n",
    "  amount DESC;\n",
    "\"\"\"\n",
    "\n",
    "run_sql(cursor, sql)"
   ],
   "metadata": {
    "collapsed": false,
    "ExecuteTime": {
     "end_time": "2024-01-24T07:45:01.574839Z",
     "start_time": "2024-01-24T07:45:01.561841100Z"
    }
   },
   "id": "41f106ec1b8d78ac",
   "execution_count": 3
  }
 ],
 "metadata": {
  "kernelspec": {
   "display_name": "Python 3",
   "language": "python",
   "name": "python3"
  },
  "language_info": {
   "codemirror_mode": {
    "name": "ipython",
    "version": 2
   },
   "file_extension": ".py",
   "mimetype": "text/x-python",
   "name": "python",
   "nbconvert_exporter": "python",
   "pygments_lexer": "ipython2",
   "version": "2.7.6"
  }
 },
 "nbformat": 4,
 "nbformat_minor": 5
}
