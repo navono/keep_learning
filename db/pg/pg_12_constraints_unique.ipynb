{
 "cells": [
  {
   "cell_type": "markdown",
   "source": [
    "# UNIQUE 约束\n"
   ],
   "metadata": {
    "collapsed": false
   },
   "id": "a2da0360b4fc1085"
  },
  {
   "cell_type": "code",
   "execution_count": 1,
   "id": "initial_id",
   "metadata": {
    "collapsed": true,
    "ExecuteTime": {
     "end_time": "2024-03-17T06:32:29.008223Z",
     "start_time": "2024-03-17T06:32:28.136140Z"
    }
   },
   "outputs": [
    {
     "name": "stdout",
     "output_type": "stream",
     "text": [
      "importing Jupyter notebook from D:\\sourcecode\\keep_learning\\db\\pg\\pg_00_common.ipynb\n"
     ]
    }
   ],
   "source": [
    "import common.ipynb_importer\n",
    "from db.pg.pg_00_common import *\n",
    "\n",
    "cursor = pg_connect()"
   ]
  },
  {
   "cell_type": "code",
   "outputs": [
    {
     "ename": "UniqueViolation",
     "evalue": "重复键违反唯一约束\"person_email_key\"\nDETAIL:  键值\"(email)=(j.doe@postgresqltutorial.com)\" 已经存在",
     "output_type": "error",
     "traceback": [
      "\u001B[1;31m---------------------------------------------------------------------------\u001B[0m",
      "\u001B[1;31mUniqueViolation\u001B[0m                           Traceback (most recent call last)",
      "Cell \u001B[1;32mIn[2], line 16\u001B[0m\n\u001B[0;32m      1\u001B[0m sql \u001B[38;5;241m=\u001B[39m \u001B[38;5;124m\"\"\"\u001B[39m\n\u001B[0;32m      2\u001B[0m \u001B[38;5;124mCREATE TABLE person (\u001B[39m\n\u001B[0;32m      3\u001B[0m \u001B[38;5;124m  id SERIAL PRIMARY KEY, \u001B[39m\n\u001B[1;32m   (...)\u001B[0m\n\u001B[0;32m     13\u001B[0m \u001B[38;5;124mVALUES(\u001B[39m\u001B[38;5;124m'\u001B[39m\u001B[38;5;124mjack\u001B[39m\u001B[38;5;124m'\u001B[39m\u001B[38;5;124m,\u001B[39m\u001B[38;5;124m'\u001B[39m\u001B[38;5;124mdoe\u001B[39m\u001B[38;5;124m'\u001B[39m\u001B[38;5;124m,\u001B[39m\u001B[38;5;124m'\u001B[39m\u001B[38;5;124mj.doe@postgresqltutorial.com\u001B[39m\u001B[38;5;124m'\u001B[39m\u001B[38;5;124m);\u001B[39m\n\u001B[0;32m     14\u001B[0m \u001B[38;5;124m\"\"\"\u001B[39m\n\u001B[1;32m---> 16\u001B[0m \u001B[43mcursor\u001B[49m\u001B[38;5;241;43m.\u001B[39;49m\u001B[43mexecute\u001B[49m\u001B[43m(\u001B[49m\u001B[43msql\u001B[49m\u001B[43m)\u001B[49m\n\u001B[0;32m     18\u001B[0m \u001B[38;5;66;03m# CREATE TABLE person (\u001B[39;00m\n\u001B[0;32m     19\u001B[0m \u001B[38;5;66;03m#   id SERIAL PRIMARY KEY, \u001B[39;00m\n\u001B[0;32m     20\u001B[0m \u001B[38;5;66;03m#   first_name VARCHAR (50), \u001B[39;00m\n\u001B[1;32m   (...)\u001B[0m\n\u001B[0;32m     23\u001B[0m \u001B[38;5;66;03m#   UNIQUE(email)\u001B[39;00m\n\u001B[0;32m     24\u001B[0m \u001B[38;5;66;03m# );\u001B[39;00m\n",
      "File \u001B[1;32m~\\.conda\\envs\\learning\\lib\\site-packages\\psycopg\\cursor.py:732\u001B[0m, in \u001B[0;36mCursor.execute\u001B[1;34m(self, query, params, prepare, binary)\u001B[0m\n\u001B[0;32m    728\u001B[0m         \u001B[38;5;28mself\u001B[39m\u001B[38;5;241m.\u001B[39m_conn\u001B[38;5;241m.\u001B[39mwait(\n\u001B[0;32m    729\u001B[0m             \u001B[38;5;28mself\u001B[39m\u001B[38;5;241m.\u001B[39m_execute_gen(query, params, prepare\u001B[38;5;241m=\u001B[39mprepare, binary\u001B[38;5;241m=\u001B[39mbinary)\n\u001B[0;32m    730\u001B[0m         )\n\u001B[0;32m    731\u001B[0m \u001B[38;5;28;01mexcept\u001B[39;00m e\u001B[38;5;241m.\u001B[39m_NO_TRACEBACK \u001B[38;5;28;01mas\u001B[39;00m ex:\n\u001B[1;32m--> 732\u001B[0m     \u001B[38;5;28;01mraise\u001B[39;00m ex\u001B[38;5;241m.\u001B[39mwith_traceback(\u001B[38;5;28;01mNone\u001B[39;00m)\n\u001B[0;32m    733\u001B[0m \u001B[38;5;28;01mreturn\u001B[39;00m \u001B[38;5;28mself\u001B[39m\n",
      "\u001B[1;31mUniqueViolation\u001B[0m: 重复键违反唯一约束\"person_email_key\"\nDETAIL:  键值\"(email)=(j.doe@postgresqltutorial.com)\" 已经存在"
     ]
    }
   ],
   "source": [
    "sql = \"\"\"\n",
    "CREATE TABLE person (\n",
    "  id SERIAL PRIMARY KEY, \n",
    "  first_name VARCHAR (50), \n",
    "  last_name VARCHAR (50), \n",
    "  email VARCHAR (50) UNIQUE\n",
    ");\n",
    "\n",
    "INSERT INTO person(first_name,last_name,email)\n",
    "VALUES('john','doe','j.doe@postgresqltutorial.com');\n",
    "\n",
    "INSERT INTO person(first_name,last_name,email)\n",
    "VALUES('jack','doe','j.doe@postgresqltutorial.com');\n",
    "\"\"\"\n",
    "\n",
    "cursor.execute(sql)\n",
    "\n",
    "# CREATE TABLE person (\n",
    "#   id SERIAL PRIMARY KEY, \n",
    "#   first_name VARCHAR (50), \n",
    "#   last_name VARCHAR (50), \n",
    "#   email VARCHAR (50), \n",
    "#   UNIQUE(email)\n",
    "# );"
   ],
   "metadata": {
    "collapsed": false,
    "ExecuteTime": {
     "end_time": "2024-03-17T06:32:30.762968Z",
     "start_time": "2024-03-17T06:32:30.153050Z"
    }
   },
   "id": "28fe9e659b6386c4",
   "execution_count": 2
  },
  {
   "cell_type": "markdown",
   "source": [
    "# Multiple Column UNIQUE\n",
    "```\n",
    "CREATE TABLE table (\n",
    "    c1 data_type,\n",
    "    c2 data_type,\n",
    "    c3 data_type,\n",
    "    UNIQUE (c2, c3)\n",
    ");\n",
    "```\n",
    "\n",
    "另外一种场景就是使用唯一索引添加唯一约束"
   ],
   "metadata": {
    "collapsed": false
   },
   "id": "7b97767f5c6f4758"
  }
 ],
 "metadata": {
  "kernelspec": {
   "display_name": "Python 3",
   "language": "python",
   "name": "python3"
  },
  "language_info": {
   "codemirror_mode": {
    "name": "ipython",
    "version": 2
   },
   "file_extension": ".py",
   "mimetype": "text/x-python",
   "name": "python",
   "nbconvert_exporter": "python",
   "pygments_lexer": "ipython2",
   "version": "2.7.6"
  }
 },
 "nbformat": 4,
 "nbformat_minor": 5
}
