{
 "cells": [
  {
   "cell_type": "markdown",
   "source": [
    "# PL/pgSQL\n",
    "\n",
    "PL/pgSQL 是一种过程语言（procedural language）。它是 PostgreSQL 的一种扩展，允许用户编写存储过程、触发器、函数等。包括：控制结构、循环和复杂的计算。\n",
    "\n",
    "PL/pgSQL 的设计目的是：\n",
    "- 创建用户自定义的函数，存储过程和触发器。\n",
    "- 通过增加控制结构，例如条件和循环，扩展标注 SQL。\n",
    "- 继承所有用户定义的函数、运算符和类型。\n",
    "\n",
    "优点：\n",
    "PostgreSQL 只能单独执行语句，对于多个语句来说，它需要在客户端执行多次，而 PL/pgSQL 可以将多个语句封装在一个函数中，然后一次性执行，减少了客户端和服务器之间的通信次数，提高了效率。 封装的函数可以存储在服务中，可以被多个客户端调用，提高了代码的复用性。这样做到了：\n",
    "- 减少应用程序和 PostgreSQL 数据库服务器之间的往返次数\n",
    "- 避免在应用程序和服务器之间传输即时结果\n",
    "\n",
    "缺点：\n",
    "- 降低开发效率。因为 PL/pgSQL 语法比较复杂，需要花费更多的时间来学习；\n",
    "- PL/pgSQL 的代码版本难以管理且难以调试；\n",
    "- 降低可移植性。PL/pgSQL 是 PostgreSQL 的专有语言，不同的数据库系统不支持 PL/pgSQL，所以如果需要迁移数据库，需要重写 PL/pgSQL 代码。\n"
   ],
   "metadata": {
    "collapsed": false
   },
   "id": "34c6c4931b3dd5b1"
  },
  {
   "cell_type": "markdown",
   "source": [
    "## `$$` 字符串常量\n",
    "\n",
    "PL/pgSQL 代码块使用 `$$` 字符串常量来定义。`$$` 之间的内容是 PL/pgSQL 代码块的内容。`$$` 之间的内容可以包含任何有效的 SQL 语句。在一般的 `select` 语句中，如果遇到了单引号（'）或者双引号（\"），需要使用转义字符（\\）来转义，但是在 `$$` 之间的内容中，不需要转义。\n",
    "\n",
    "select 写法：\n",
    "> select 'I''m a string constant';\n",
    "\n",
    "$$ 写法：\n",
    "> select $$I'm a string constant$$;\n",
    "\n",
    "\n",
    "$$ 语法\n",
    "```sql\n",
    "$tag$<string_constant>$tag$\n",
    "```\n",
    "上述语法中，`tag` 是可选的。它遵循与不带引号的标识符相同的规则：\n",
    "- 必须以字母或下划线开头；\n",
    "- 后续字符可以是字母、数字或下划线；\n",
    "- 不能包含空格或其他保留的特殊字符；\n",
    "- 长度限制在 63 个字符以内。"
   ],
   "metadata": {
    "collapsed": false
   },
   "id": "9bf5bae41d0d6dcd"
  },
  {
   "cell_type": "code",
   "outputs": [
    {
     "name": "stdout",
     "output_type": "stream",
     "text": [
      "importing Jupyter notebook from E:\\sourcecode\\keep_learning\\db\\pg\\pg_00_common.ipynb\n"
     ]
    }
   ],
   "source": [
    "import common.ipynb_importer\n",
    "from db.pg.pg_00_common import *\n",
    "\n",
    "cursor = pg_connect()"
   ],
   "metadata": {
    "collapsed": true,
    "ExecuteTime": {
     "end_time": "2024-04-01T10:53:54.170578Z",
     "start_time": "2024-04-01T10:53:53.727667Z"
    }
   },
   "id": "initial_id",
   "execution_count": 1
  },
  {
   "cell_type": "markdown",
   "source": [
    "## 在匿名块中使用 $$ 字符串常量"
   ],
   "metadata": {
    "collapsed": false
   },
   "id": "4298868f1d960b6a"
  },
  {
   "cell_type": "code",
   "outputs": [
    {
     "name": "stdout",
     "output_type": "stream",
     "text": [
      "The number of films: 1000\n"
     ]
    },
    {
     "data": {
      "text/plain": "<psycopg.Cursor [COMMAND_OK] [INTRANS] (host=localhost user=postgres database=dvdrental) at 0x21db88b56f0>"
     },
     "execution_count": 2,
     "metadata": {},
     "output_type": "execute_result"
    }
   ],
   "source": [
    "# 一般写法\n",
    "sql = \"\"\"\n",
    "do \n",
    "'declare\n",
    "   film_count integer;\n",
    "begin \n",
    "   select count(*) into film_count\n",
    "   from film;\n",
    "\n",
    "   raise notice ''The number of films: %'', film_count;\n",
    "end;'\n",
    ";\n",
    "\"\"\"\n",
    "\n",
    "cursor.execute(sql)"
   ],
   "metadata": {
    "collapsed": false,
    "ExecuteTime": {
     "end_time": "2024-04-01T10:53:55.577058Z",
     "start_time": "2024-04-01T10:53:55.554994Z"
    }
   },
   "id": "f628bd4231b66b29",
   "execution_count": 2
  },
  {
   "cell_type": "code",
   "outputs": [
    {
     "name": "stdout",
     "output_type": "stream",
     "text": [
      "The number of films: 1000\n"
     ]
    },
    {
     "data": {
      "text/plain": "<psycopg.Cursor [COMMAND_OK] [INTRANS] (host=localhost user=postgres database=dvdrental) at 0x21db88b56f0>"
     },
     "execution_count": 3,
     "metadata": {},
     "output_type": "execute_result"
    }
   ],
   "source": [
    "# $$ 写法\n",
    "sql = \"\"\"\n",
    "do \n",
    "$$\n",
    "declare\n",
    "   film_count integer;\n",
    "begin \n",
    "   select count(*) into film_count\n",
    "   from film;\n",
    "   raise notice 'The number of films: %', film_count;\n",
    "end;\n",
    "$$;\n",
    "\"\"\"\n",
    "cursor.execute(sql)"
   ],
   "metadata": {
    "collapsed": false,
    "ExecuteTime": {
     "end_time": "2024-04-01T10:53:59.409288Z",
     "start_time": "2024-04-01T10:53:59.386809Z"
    }
   },
   "id": "f7548781c54b8894",
   "execution_count": 3
  },
  {
   "cell_type": "markdown",
   "source": [
    "## 在函数中使用 $$ 字符串常量\n",
    "\n",
    "```sql\n",
    "create function function_name(param_list) \n",
    "    returns datatype\n",
    "language lang_name\n",
    "as \n",
    " 'function_body'\n",
    "```\n",
    "\n",
    "`function_body` 是一个字符串常量，它包含了函数的实现代码。在函数中，可以使用 `$$` 字符串常量来定义 `function_body`。\n",
    "```sql\n",
    "create function find_film_by_id(\n",
    "   id int\n",
    ") returns film \n",
    "language sql\n",
    "as \n",
    "$$\n",
    "  select * from film \n",
    "  where film_id = id;  \n",
    "$$; \n",
    "```"
   ],
   "metadata": {
    "collapsed": false
   },
   "id": "bd302b35a4260086"
  },
  {
   "cell_type": "markdown",
   "source": [
    "## 在存储过程中使用 $$ 字符串常量\n",
    "```sql\n",
    "create procedure proc_name(param_list)\n",
    "language lang_name\n",
    "as $$\n",
    "  -- stored procedure body\n",
    "$$\n",
    "```"
   ],
   "metadata": {
    "collapsed": false
   },
   "id": "89c1b9ceb202a6ad"
  },
  {
   "cell_type": "markdown",
   "source": [
    "## Block structure\n",
    "\n",
    "块语法\n",
    "```sql\n",
    "[ <<label>> ]\n",
    "[ declare\n",
    "    declarations ]\n",
    "begin\n",
    "    statements;\n",
    "\t...\n",
    "end [ label ];\n",
    "```\n",
    "\n",
    "每个块包括两部分：\n",
    "- 声明部分（declare）：声明变量、常量、游标等；\n",
    "- 执行部分（begin...end）：执行语句。\n",
    "\n",
    "执行部分可以嵌套。\n",
    "```sql\n",
    "do\n",
    "$$\n",
    "<<outer>>\n",
    "declare\n",
    "   x int = 0;\n",
    "begin\n",
    "   x = x + 1;\n",
    "   <<inner>>\n",
    "   declare\n",
    "       y int = 2;\n",
    "   begin\n",
    "   \t   y = y + x;\n",
    "\t   raise notice 'x=% y=%', x, y;\n",
    "   end inner;\n",
    "end outer;\n",
    "$$\n",
    "```"
   ],
   "metadata": {
    "collapsed": false
   },
   "id": "a893e7a3f53d7627"
  }
 ],
 "metadata": {
  "kernelspec": {
   "display_name": "Python 3",
   "language": "python",
   "name": "python3"
  },
  "language_info": {
   "codemirror_mode": {
    "name": "ipython",
    "version": 2
   },
   "file_extension": ".py",
   "mimetype": "text/x-python",
   "name": "python",
   "nbconvert_exporter": "python",
   "pygments_lexer": "ipython2",
   "version": "2.7.6"
  }
 },
 "nbformat": 4,
 "nbformat_minor": 5
}
