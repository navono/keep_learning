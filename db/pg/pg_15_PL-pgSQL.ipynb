{
 "cells": [
  {
   "cell_type": "markdown",
   "source": [
    "# PL/pgSQL\n",
    "\n",
    "PL/pgSQL 是一种过程语言（procedural language）。它是 PostgreSQL 的一种扩展，允许用户编写存储过程、触发器、函数等。包括：控制结构、循环和复杂的计算。"
   ],
   "metadata": {
    "collapsed": false
   },
   "id": "34c6c4931b3dd5b1"
  },
  {
   "cell_type": "code",
   "execution_count": null,
   "id": "initial_id",
   "metadata": {
    "collapsed": true
   },
   "outputs": [],
   "source": [
    "import common.ipynb_importer\n",
    "from db.pg.pg_00_common import *\n",
    "\n",
    "cursor = pg_connect()"
   ]
  }
 ],
 "metadata": {
  "kernelspec": {
   "display_name": "Python 3",
   "language": "python",
   "name": "python3"
  },
  "language_info": {
   "codemirror_mode": {
    "name": "ipython",
    "version": 2
   },
   "file_extension": ".py",
   "mimetype": "text/x-python",
   "name": "python",
   "nbconvert_exporter": "python",
   "pygments_lexer": "ipython2",
   "version": "2.7.6"
  }
 },
 "nbformat": 4,
 "nbformat_minor": 5
}
