{
 "cells": [
  {
   "cell_type": "markdown",
   "source": [
    "![group by](./pg_group_by.png)\n",
    "\n",
    "```\n",
    "SELECT \n",
    "   column_1, \n",
    "   column_2,\n",
    "   ...,\n",
    "   aggregate_function(column_3)\n",
    "FROM \n",
    "   table_name\n",
    "GROUP BY \n",
    "   column_1,\n",
    "   column_2,\n",
    "   ...;\n",
    "```"
   ],
   "metadata": {
    "collapsed": false
   },
   "id": "59560464b6c199e3"
  },
  {
   "cell_type": "code",
   "execution_count": 8,
   "id": "initial_id",
   "metadata": {
    "collapsed": true,
    "ExecuteTime": {
     "end_time": "2024-01-24T07:36:16.408998300Z",
     "start_time": "2024-01-24T07:36:16.370001900Z"
    }
   },
   "outputs": [],
   "source": [
    "import common.ipynb_importer\n",
    "from db.pg.pg_00_common import *\n",
    "\n",
    "cursor = pg_connect()"
   ]
  },
  {
   "cell_type": "code",
   "outputs": [
    {
     "name": "stdout",
     "output_type": "stream",
     "text": [
      "       payment_id  customer_id  staff_id  rental_id amount  \\\n",
      "0           17503          341         2       1520   7.99   \n",
      "1           17504          341         1       1778   1.99   \n",
      "2           17505          341         1       1849   7.99   \n",
      "3           17506          341         2       2829   2.99   \n",
      "4           17507          341         2       3130   7.99   \n",
      "...           ...          ...       ...        ...    ...   \n",
      "14591       32094          245         2      12682   2.99   \n",
      "14592       32095          251         1      14107   0.99   \n",
      "14593       32096          252         2      13756   4.99   \n",
      "14594       32097          263         1      15293   0.99   \n",
      "14595       32098          264         2      14243   2.99   \n",
      "\n",
      "                    payment_date  \n",
      "0     2007-02-15 22:25:46.996577  \n",
      "1     2007-02-16 17:23:14.996577  \n",
      "2     2007-02-16 22:41:45.996577  \n",
      "3     2007-02-19 19:39:56.996577  \n",
      "4     2007-02-20 17:31:48.996577  \n",
      "...                          ...  \n",
      "14591 2007-05-14 13:44:29.996577  \n",
      "14592 2007-05-14 13:44:29.996577  \n",
      "14593 2007-05-14 13:44:29.996577  \n",
      "14594 2007-05-14 13:44:29.996577  \n",
      "14595 2007-05-14 13:44:29.996577  \n",
      "\n",
      "[14596 rows x 6 columns]\n"
     ]
    }
   ],
   "source": [
    "sql = \"\"\"\n",
    "SELECT \n",
    "  *\n",
    "FROM \n",
    "  payment\n",
    "\"\"\"\n",
    "\n",
    "run_sql(cursor, sql)"
   ],
   "metadata": {
    "collapsed": false,
    "ExecuteTime": {
     "end_time": "2024-01-24T07:38:09.207854300Z",
     "start_time": "2024-01-24T07:38:09.166398300Z"
    }
   },
   "id": "5fd7a5e76c755755",
   "execution_count": 12
  },
  {
   "cell_type": "code",
   "outputs": [
    {
     "name": "stdout",
     "output_type": "stream",
     "text": [
      "      customer_id amount\n",
      "0               1   1.99\n",
      "1               1   3.99\n",
      "2               1   5.99\n",
      "3               1   4.99\n",
      "4               1   7.99\n",
      "...           ...    ...\n",
      "4672          599   1.99\n",
      "4673          599   9.99\n",
      "4674          599   2.99\n",
      "4675          599   0.99\n",
      "4676          599   6.99\n",
      "\n",
      "[4677 rows x 2 columns]\n"
     ]
    }
   ],
   "source": [
    "sql = \"\"\"\n",
    "SELECT \n",
    "  customer_id,\n",
    "  amount\n",
    "FROM \n",
    "  payment \n",
    "GROUP BY \n",
    "  customer_id,\n",
    "  amount\n",
    "ORDER BY \n",
    "  customer_id;\n",
    "\"\"\"\n",
    "\n",
    "run_sql(cursor, sql)"
   ],
   "metadata": {
    "collapsed": false,
    "ExecuteTime": {
     "end_time": "2024-01-24T07:36:43.308622100Z",
     "start_time": "2024-01-24T07:36:43.283622200Z"
    }
   },
   "id": "7bce089423cd2f0",
   "execution_count": 10
  },
  {
   "cell_type": "code",
   "outputs": [
    {
     "name": "stdout",
     "output_type": "stream",
     "text": [
      "     customer_id     sum\n",
      "0              1  114.70\n",
      "1              2  123.74\n",
      "2              3  130.76\n",
      "3              4   81.78\n",
      "4              5  134.65\n",
      "..           ...     ...\n",
      "594          595  110.71\n",
      "595          596   73.78\n",
      "596          597   87.77\n",
      "597          598   83.78\n",
      "598          599   78.82\n",
      "\n",
      "[599 rows x 2 columns]\n"
     ]
    }
   ],
   "source": [
    "sql = \"\"\"\n",
    "SELECT \n",
    "  customer_id, \n",
    "  SUM (amount) \n",
    "FROM \n",
    "  payment \n",
    "GROUP BY \n",
    "  customer_id \n",
    "ORDER BY \n",
    "  customer_id;\n",
    "\"\"\"\n",
    "\n",
    "run_sql(cursor, sql)"
   ],
   "metadata": {
    "collapsed": false,
    "ExecuteTime": {
     "end_time": "2024-01-24T07:35:28.068472500Z",
     "start_time": "2024-01-24T07:35:28.054122500Z"
    }
   },
   "id": "1e3fa0f5b6ba7a16",
   "execution_count": 4
  },
  {
   "cell_type": "code",
   "outputs": [
    {
     "name": "stdout",
     "output_type": "stream",
     "text": [
      "     customer_id     sum\n",
      "0            148  211.55\n",
      "1            526  208.58\n",
      "2            178  194.61\n",
      "3            137  191.62\n",
      "4            144  189.60\n",
      "..           ...     ...\n",
      "594          110   49.88\n",
      "595          320   47.85\n",
      "596          248   37.87\n",
      "597          281   32.90\n",
      "598          318   27.93\n",
      "\n",
      "[599 rows x 2 columns]\n"
     ]
    }
   ],
   "source": [
    "sql = \"\"\"\n",
    "SELECT \n",
    "  customer_id, \n",
    "  SUM (amount) \n",
    "FROM \n",
    "  payment \n",
    "GROUP BY \n",
    "  customer_id \n",
    "ORDER BY \n",
    "  SUM (amount) DESC;\n",
    "\"\"\"\n",
    "\n",
    "run_sql(cursor, sql)"
   ],
   "metadata": {
    "collapsed": false,
    "ExecuteTime": {
     "end_time": "2024-01-24T07:37:32.906997300Z",
     "start_time": "2024-01-24T07:37:32.888997400Z"
    }
   },
   "id": "211e33473ac1cb85",
   "execution_count": 11
  },
  {
   "cell_type": "code",
   "outputs": [
    {
     "name": "stdout",
     "output_type": "stream",
     "text": [
      "           full_name  amount\n",
      "0       Eleanor Hunt  211.55\n",
      "1          Karl Seal  208.58\n",
      "2      Marion Snyder  194.61\n",
      "3     Rhonda Kennedy  191.62\n",
      "4         Clara Shaw  189.60\n",
      "..               ...     ...\n",
      "594   Tiffany Jordan   49.88\n",
      "595   Anthony Schwab   47.85\n",
      "596  Caroline Bowman   37.87\n",
      "597     Leona Obrien   32.90\n",
      "598      Brian Wyman   27.93\n",
      "\n",
      "[599 rows x 2 columns]\n"
     ]
    }
   ],
   "source": [
    "sql = \"\"\"\n",
    "SELECT \n",
    "  first_name || ' ' || last_name full_name, \n",
    "  SUM (amount) amount \n",
    "FROM \n",
    "  payment \n",
    "  INNER JOIN customer USING (customer_id) \n",
    "GROUP BY \n",
    "  full_name \n",
    "ORDER BY \n",
    "  amount DESC;\n",
    "\"\"\"\n",
    "\n",
    "run_sql(cursor, sql)"
   ],
   "metadata": {
    "collapsed": false,
    "ExecuteTime": {
     "end_time": "2024-01-24T07:38:52.715369100Z",
     "start_time": "2024-01-24T07:38:52.691368900Z"
    }
   },
   "id": "574c6e49419c58f5",
   "execution_count": 13
  },
  {
   "cell_type": "code",
   "outputs": [
    {
     "name": "stdout",
     "output_type": "stream",
     "text": [
      "   staff_id  count\n",
      "0         1   7292\n",
      "1         2   7304\n"
     ]
    }
   ],
   "source": [
    "sql = \"\"\"\n",
    "SELECT\n",
    "\tstaff_id,\n",
    "\tCOUNT (payment_id)\n",
    "FROM\n",
    "\tpayment\n",
    "GROUP BY\n",
    "\tstaff_id;\n",
    "\"\"\"\n",
    "\n",
    "run_sql(cursor, sql)"
   ],
   "metadata": {
    "collapsed": false,
    "ExecuteTime": {
     "end_time": "2024-01-24T07:40:01.855949Z",
     "start_time": "2024-01-24T07:40:01.827890200Z"
    }
   },
   "id": "c1c3fe5b33d827ac",
   "execution_count": 14
  },
  {
   "cell_type": "code",
   "outputs": [
    {
     "name": "stdout",
     "output_type": "stream",
     "text": [
      "      customer_id  staff_id    sum\n",
      "0               1         2  53.85\n",
      "1               1         1  60.85\n",
      "2               2         2  67.88\n",
      "3               2         1  55.86\n",
      "4               3         1  59.88\n",
      "...           ...       ...    ...\n",
      "1193          597         2  37.91\n",
      "1194          598         1  43.90\n",
      "1195          598         2  39.88\n",
      "1196          599         1  28.92\n",
      "1197          599         2  49.90\n",
      "\n",
      "[1198 rows x 3 columns]\n"
     ]
    }
   ],
   "source": [
    "sql = \"\"\"\n",
    "SELECT \n",
    "  customer_id, \n",
    "  staff_id, \n",
    "  SUM(amount) \n",
    "FROM \n",
    "  payment \n",
    "GROUP BY \n",
    "  staff_id, \n",
    "  customer_id \n",
    "ORDER BY \n",
    "  customer_id;\n",
    "\"\"\"\n",
    "\n",
    "run_sql(cursor, sql)"
   ],
   "metadata": {
    "collapsed": false,
    "ExecuteTime": {
     "end_time": "2024-01-24T07:40:49.131565200Z",
     "start_time": "2024-01-24T07:40:49.100789800Z"
    }
   },
   "id": "86cd7fc70745ad6b",
   "execution_count": 15
  },
  {
   "cell_type": "code",
   "outputs": [
    {
     "name": "stdout",
     "output_type": "stream",
     "text": [
      "   payment_date      sum\n",
      "0    2007-05-14   514.18\n",
      "1    2007-04-30  5723.89\n",
      "2    2007-04-29  2717.60\n",
      "3    2007-04-28  2622.73\n",
      "4    2007-04-27  2673.57\n",
      "5    2007-04-26   347.21\n",
      "6    2007-04-12  1930.48\n",
      "7    2007-04-11  1940.32\n",
      "8    2007-04-10  1973.18\n",
      "9    2007-04-09  2067.86\n",
      "10   2007-04-08  2227.84\n",
      "11   2007-04-07  1984.28\n",
      "12   2007-04-06  2077.14\n",
      "13   2007-04-05   273.36\n",
      "14   2007-03-23  2342.43\n",
      "15   2007-03-22  2586.79\n",
      "16   2007-03-21  2868.27\n",
      "17   2007-03-20  2669.89\n",
      "18   2007-03-19  2617.69\n",
      "19   2007-03-18  2701.76\n",
      "20   2007-03-17  2442.16\n",
      "21   2007-03-16   299.28\n",
      "22   2007-03-02  2550.05\n",
      "23   2007-03-01  2808.24\n",
      "24   2007-02-21   917.87\n",
      "25   2007-02-20  1219.09\n",
      "26   2007-02-19  1290.90\n",
      "27   2007-02-18  1275.98\n",
      "28   2007-02-17  1188.17\n",
      "29   2007-02-16  1154.18\n",
      "30   2007-02-15  1188.92\n",
      "31   2007-02-14   116.73\n"
     ]
    }
   ],
   "source": [
    "sql = \"\"\"\n",
    "SELECT \n",
    "  DATE(payment_date) payment_date, \n",
    "  SUM(amount) sum \n",
    "FROM \n",
    "  payment \n",
    "GROUP BY \n",
    "  DATE(payment_date) \n",
    "ORDER BY \n",
    "  payment_date DESC;\n",
    "\"\"\"\n",
    "\n",
    "run_sql(cursor, sql)"
   ],
   "metadata": {
    "collapsed": false,
    "ExecuteTime": {
     "end_time": "2024-01-24T07:42:11.026721200Z",
     "start_time": "2024-01-24T07:42:10.992720700Z"
    }
   },
   "id": "9fef2a450cfbaf91",
   "execution_count": 16
  }
 ],
 "metadata": {
  "kernelspec": {
   "display_name": "Python 3",
   "language": "python",
   "name": "python3"
  },
  "language_info": {
   "codemirror_mode": {
    "name": "ipython",
    "version": 2
   },
   "file_extension": ".py",
   "mimetype": "text/x-python",
   "name": "python",
   "nbconvert_exporter": "python",
   "pygments_lexer": "ipython2",
   "version": "2.7.6"
  }
 },
 "nbformat": 4,
 "nbformat_minor": 5
}
