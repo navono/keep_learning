{
 "cells": [
  {
   "cell_type": "code",
   "id": "initial_id",
   "metadata": {
    "collapsed": true,
    "ExecuteTime": {
     "end_time": "2024-04-30T00:19:49.532047Z",
     "start_time": "2024-04-30T00:19:49.278866Z"
    }
   },
   "source": [
    "from common import *\n",
    "\n",
    "cursor = connect()"
   ],
   "outputs": [],
   "execution_count": 1
  },
  {
   "metadata": {},
   "cell_type": "markdown",
   "source": [
    "# Aggregate Functions\n",
    "\n",
    "有以下：\n",
    "- AVG\n",
    "- COUNT\n",
    "- MAX\n",
    "- MIN\n",
    "- SUM\n",
    "\n",
    "语法\n",
    "```\n",
    "SELECT column1, AGGREGATE_FUNCTION(column2)\n",
    "FROM table1\n",
    "GROUP BY column1;\n",
    "```"
   ],
   "id": "c5b02c11727d995d"
  },
  {
   "metadata": {},
   "cell_type": "markdown",
   "source": "## AVG",
   "id": "57a40b57e4b3d6bc"
  },
  {
   "metadata": {
    "ExecuteTime": {
     "end_time": "2024-04-30T00:19:50.464247Z",
     "start_time": "2024-04-30T00:19:50.455743Z"
    }
   },
   "cell_type": "code",
   "source": [
    "sql = \"\"\"\n",
    "SELECT \n",
    "  ROUND(AVG(replacement_cost), 2) avg_replacement_cost \n",
    "FROM \n",
    "  film;\n",
    "\"\"\"\n",
    "run_sql(cursor, sql)"
   ],
   "id": "7e18d080085b69df",
   "outputs": [
    {
     "name": "stdout",
     "output_type": "stream",
     "text": [
      "  avg_replacement_cost\n",
      "0                19.98\n"
     ]
    }
   ],
   "execution_count": 2
  },
  {
   "metadata": {
    "ExecuteTime": {
     "end_time": "2024-04-30T00:20:06.946787Z",
     "start_time": "2024-04-30T00:20:06.941369Z"
    }
   },
   "cell_type": "code",
   "source": [
    "sql = \"\"\"\n",
    "SELECT \n",
    "  ROUND(\n",
    "    AVG(replacement_cost), \n",
    "    2\n",
    "  ) avg_replacement_cost \n",
    "FROM \n",
    "  film \n",
    "  INNER JOIN film_category USING(film_id) \n",
    "  INNER JOIN category USING(category_id) \n",
    "WHERE \n",
    "  category_id = 7;\n",
    "\"\"\"\n",
    "run_sql(cursor, sql)"
   ],
   "id": "463a383155d66cbd",
   "outputs": [
    {
     "name": "stdout",
     "output_type": "stream",
     "text": [
      "  avg_replacement_cost\n",
      "0                21.09\n"
     ]
    }
   ],
   "execution_count": 3
  },
  {
   "metadata": {},
   "cell_type": "markdown",
   "source": "## COUNT",
   "id": "d9603e95a4c52fc3"
  },
  {
   "metadata": {
    "ExecuteTime": {
     "end_time": "2024-04-30T00:21:10.786078Z",
     "start_time": "2024-04-30T00:21:10.781442Z"
    }
   },
   "cell_type": "code",
   "source": [
    "sql = \"\"\"\n",
    "SELECT \n",
    "  COUNT(*) \n",
    "FROM \n",
    "  film;\n",
    "\"\"\"\n",
    "run_sql(cursor, sql)"
   ],
   "id": "6d55595f3d5bb3af",
   "outputs": [
    {
     "name": "stdout",
     "output_type": "stream",
     "text": [
      "   count\n",
      "0   1000\n"
     ]
    }
   ],
   "execution_count": 4
  },
  {
   "metadata": {
    "ExecuteTime": {
     "end_time": "2024-04-30T00:21:21.977964Z",
     "start_time": "2024-04-30T00:21:21.974078Z"
    }
   },
   "cell_type": "code",
   "source": [
    "sql = \"\"\"\n",
    "SELECT \n",
    "  COUNT(*) drama_films \n",
    "FROM \n",
    "  film \n",
    "  INNER JOIN film_category USING(film_id) \n",
    "  INNER JOIN category USING(category_id) \n",
    "WHERE \n",
    "  category_id = 7;\n",
    "\"\"\"\n",
    "run_sql(cursor, sql)"
   ],
   "id": "c9e87fbfcc825370",
   "outputs": [
    {
     "name": "stdout",
     "output_type": "stream",
     "text": [
      "   drama_films\n",
      "0           62\n"
     ]
    }
   ],
   "execution_count": 5
  },
  {
   "metadata": {},
   "cell_type": "markdown",
   "source": "## MAX",
   "id": "a6c3799983b30ae3"
  },
  {
   "metadata": {
    "ExecuteTime": {
     "end_time": "2024-04-30T00:22:01.780144Z",
     "start_time": "2024-04-30T00:22:01.776548Z"
    }
   },
   "cell_type": "code",
   "source": [
    "sql = \"\"\"\n",
    "SELECT \n",
    "  MAX(replacement_cost) \n",
    "FROM \n",
    "  film;\n",
    "\"\"\"\n",
    "run_sql(cursor, sql)"
   ],
   "id": "a81371a1af83a290",
   "outputs": [
    {
     "name": "stdout",
     "output_type": "stream",
     "text": [
      "     max\n",
      "0  29.99\n"
     ]
    }
   ],
   "execution_count": 6
  },
  {
   "metadata": {
    "ExecuteTime": {
     "end_time": "2024-04-30T00:22:12.257972Z",
     "start_time": "2024-04-30T00:22:12.253369Z"
    }
   },
   "cell_type": "code",
   "source": [
    "sql = \"\"\"\n",
    "SELECT \n",
    "  film_id, \n",
    "  title \n",
    "FROM \n",
    "  film \n",
    "WHERE \n",
    "  replacement_cost =(\n",
    "    SELECT \n",
    "      MAX(replacement_cost) \n",
    "    FROM \n",
    "      film\n",
    "  ) \n",
    "ORDER BY \n",
    "  title;\n",
    "\"\"\"\n",
    "run_sql(cursor, sql)"
   ],
   "id": "3edc2714dafc8b3d",
   "outputs": [
    {
     "name": "stdout",
     "output_type": "stream",
     "text": [
      "    film_id                    title\n",
      "0        34             Arabia Dogma\n",
      "1        52     Ballroom Mockingbird\n",
      "2        81            Blindness Gun\n",
      "3        85         Bonnie Holocaust\n",
      "4       138      Chariots Conspiracy\n",
      "5       157       Clockwork Paradise\n",
      "6       163             Clyde Theory\n",
      "7       196       Cruelty Unforgiven\n",
      "8       199         Cupboard Sinners\n",
      "9       224  Desperate Trainspotting\n",
      "10      232                Dirty Ace\n",
      "11      238             Doctor Grail\n",
      "12      270             Earth Vision\n",
      "13      290           Everyone Craft\n",
      "14      297  Extraordinary Conquerer\n",
      "15      302            Fantasia Park\n",
      "16      309             Feud Frogmen\n",
      "17      322        Flatliners Killer\n",
      "18      325            Floats Garden\n",
      "19      358           Gilmore Boiled\n",
      "20      366   Goldfinger Sensibility\n",
      "21      374            Graffiti Love\n",
      "22      417          Hills Neighbors\n",
      "23      423      Hollywood Anonymous\n",
      "24      429               Honey Ties\n",
      "25      450          Idols Snatchers\n",
      "26      475             Japanese Run\n",
      "27      480          Jeepers Wedding\n",
      "28      483            Jericho Mulan\n",
      "29      487         Jingle Sagebrush\n",
      "30      510           Lawless Vision\n",
      "31      525         Loathing Legally\n",
      "32      537             Lover Truman\n",
      "33      644               Oscar Gold\n",
      "34      663           Patient Sister\n",
      "35      691         Poseidon Forever\n",
      "36      698           Princess Giant\n",
      "37      707          Quest Mussolini\n",
      "38      714                Random Go\n",
      "39      723          Reign Gentlemen\n",
      "40      726     Reservoir Adaptation\n",
      "41      731             Right Cranes\n",
      "42      733             River Outlaw\n",
      "43      759            Salute Apollo\n",
      "44      762             Sassy Packer\n",
      "45      803         Slacker Liaisons\n",
      "46      811            Smile Earring\n",
      "47      819              Song Hedwig\n",
      "48      901              Tracy Cider\n",
      "49      921           Uncut Suicides\n",
      "50      944             Virgin Daisy\n",
      "51      969                West Lion\n",
      "52      994            Wyoming Storm\n"
     ]
    }
   ],
   "execution_count": 7
  },
  {
   "metadata": {},
   "cell_type": "markdown",
   "source": "## MIN",
   "id": "ee1f06a2eb73e709"
  },
  {
   "metadata": {
    "ExecuteTime": {
     "end_time": "2024-04-30T00:23:16.052352Z",
     "start_time": "2024-04-30T00:23:16.049116Z"
    }
   },
   "cell_type": "code",
   "source": [
    "sql = \"\"\"\n",
    "SELECT \n",
    "  MIN(replacement_cost) \n",
    "FROM \n",
    "  film;\n",
    "\"\"\"\n",
    "run_sql(cursor, sql)"
   ],
   "id": "7d7cb6a60cd2a4d7",
   "outputs": [
    {
     "name": "stdout",
     "output_type": "stream",
     "text": [
      "    min\n",
      "0  9.99\n"
     ]
    }
   ],
   "execution_count": 8
  },
  {
   "metadata": {
    "ExecuteTime": {
     "end_time": "2024-04-30T00:23:24.476505Z",
     "start_time": "2024-04-30T00:23:24.471875Z"
    }
   },
   "cell_type": "code",
   "source": [
    "sql = \"\"\"\n",
    "SELECT \n",
    "  film_id, \n",
    "  title \n",
    "FROM \n",
    "  film \n",
    "WHERE \n",
    "  replacement_cost =(\n",
    "    SELECT \n",
    "      MIN(replacement_cost) \n",
    "    FROM \n",
    "      film\n",
    "  ) \n",
    "ORDER BY \n",
    "  title;\n",
    "\n",
    "\"\"\"\n",
    "run_sql(cursor, sql)"
   ],
   "id": "95492e6ecd125e5e",
   "outputs": [
    {
     "name": "stdout",
     "output_type": "stream",
     "text": [
      "    film_id                   title\n",
      "0        23    Anaconda Confessions\n",
      "1       150            Cider Desire\n",
      "2       182          Control Anthem\n",
      "3       203         Daisy Menagerie\n",
      "4       221  Deliverance Mulholland\n",
      "5       260          Dude Blindness\n",
      "6       272            Edge Kissing\n",
      "7       281              Encino Elf\n",
      "8       299          Factory Dragon\n",
      "9       307       Fellowship Autumn\n",
      "10      348             Gandhi Kwai\n",
      "11      389    Gunfighter Mussolini\n",
      "12      409    Heartbreakers Bright\n",
      "13      476              Jason Trap\n",
      "14      501           Kissing Dolls\n",
      "15      522            Life Twisted\n",
      "16      551             Maiden Home\n",
      "17      565          Matrix Snowman\n",
      "18      572         Metropolis Coma\n",
      "19      623        Newton Labyrinth\n",
      "20      627           North Tequila\n",
      "21      629       Notorious Reunion\n",
      "22      639       Opposite Necklace\n",
      "23      656           Papi Necklace\n",
      "24      662           Paths Control\n",
      "25      686          Pluto Oleander\n",
      "26      705            Purple Movie\n",
      "27      747           Roxanne Rebel\n",
      "28      841          Star Operation\n",
      "29      845           Stepmom Dream\n",
      "30      846          Sting Personal\n",
      "31      863         Sun Confessions\n",
      "32      875       Talented Homicide\n",
      "33      880  Telemark Heartbreakers\n",
      "34      886          Theory Mermaid\n",
      "35      888          Thin Sagebrush\n",
      "36      912         Trojan Tomorrow\n",
      "37      915            Truman Crazy\n",
      "38      931     Valentine Vanishing\n",
      "39      953              Wait Cider\n",
      "40      996          Young Language\n"
     ]
    }
   ],
   "execution_count": 9
  },
  {
   "metadata": {},
   "cell_type": "markdown",
   "source": "## SUM",
   "id": "9a40d232bed2dc95"
  },
  {
   "metadata": {
    "ExecuteTime": {
     "end_time": "2024-04-30T00:23:53.609729Z",
     "start_time": "2024-04-30T00:23:53.606391Z"
    }
   },
   "cell_type": "code",
   "source": [
    "sql = \"\"\"\n",
    "SELECT \n",
    "  rating, \n",
    "  SUM(rental_duration) \n",
    "FROM \n",
    "  film \n",
    "GROUP BY \n",
    "  rating \n",
    "ORDER BY \n",
    "  rating;\n",
    "\"\"\"\n",
    "run_sql(cursor, sql)"
   ],
   "id": "7910b8e61c744a19",
   "outputs": [
    {
     "name": "stdout",
     "output_type": "stream",
     "text": [
      "  rating   sum\n",
      "0      G   861\n",
      "1     PG   986\n",
      "2  PG-13  1127\n",
      "3      R   931\n",
      "4  NC-17  1080\n"
     ]
    }
   ],
   "execution_count": 10
  }
 ],
 "metadata": {
  "kernelspec": {
   "display_name": "Python 3",
   "language": "python",
   "name": "python3"
  },
  "language_info": {
   "codemirror_mode": {
    "name": "ipython",
    "version": 2
   },
   "file_extension": ".py",
   "mimetype": "text/x-python",
   "name": "python",
   "nbconvert_exporter": "python",
   "pygments_lexer": "ipython2",
   "version": "2.7.6"
  }
 },
 "nbformat": 4,
 "nbformat_minor": 5
}
