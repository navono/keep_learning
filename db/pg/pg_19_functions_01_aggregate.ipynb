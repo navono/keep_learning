{
 "cells": [
  {
   "cell_type": "code",
   "id": "initial_id",
   "metadata": {
    "collapsed": true,
    "ExecuteTime": {
     "end_time": "2024-05-06T11:40:38.000167Z",
     "start_time": "2024-05-06T11:40:37.973313Z"
    }
   },
   "source": [
    "from common import *\n",
    "\n",
    "cursor = connect()"
   ],
   "outputs": [],
   "execution_count": 21
  },
  {
   "metadata": {},
   "cell_type": "markdown",
   "source": [
    "# Aggregate Functions\n",
    "\n",
    "有以下：\n",
    "- AVG\n",
    "- COUNT\n",
    "- MAX\n",
    "- MIN\n",
    "- SUM\n",
    "\n",
    "语法\n",
    "```\n",
    "SELECT column1, AGGREGATE_FUNCTION(column2)\n",
    "FROM table1\n",
    "GROUP BY column1;\n",
    "```"
   ],
   "id": "c5b02c11727d995d"
  },
  {
   "metadata": {},
   "cell_type": "markdown",
   "source": "## AVG",
   "id": "57a40b57e4b3d6bc"
  },
  {
   "metadata": {
    "ExecuteTime": {
     "end_time": "2024-04-30T00:19:50.464247Z",
     "start_time": "2024-04-30T00:19:50.455743Z"
    }
   },
   "cell_type": "code",
   "source": [
    "sql = \"\"\"\n",
    "SELECT \n",
    "  ROUND(AVG(replacement_cost), 2) avg_replacement_cost \n",
    "FROM \n",
    "  film;\n",
    "\"\"\"\n",
    "run_sql(cursor, sql)"
   ],
   "id": "7e18d080085b69df",
   "outputs": [
    {
     "name": "stdout",
     "output_type": "stream",
     "text": [
      "  avg_replacement_cost\n",
      "0                19.98\n"
     ]
    }
   ],
   "execution_count": 2
  },
  {
   "metadata": {
    "ExecuteTime": {
     "end_time": "2024-04-30T00:20:06.946787Z",
     "start_time": "2024-04-30T00:20:06.941369Z"
    }
   },
   "cell_type": "code",
   "source": [
    "sql = \"\"\"\n",
    "SELECT \n",
    "  ROUND(\n",
    "    AVG(replacement_cost), \n",
    "    2\n",
    "  ) avg_replacement_cost \n",
    "FROM \n",
    "  film \n",
    "  INNER JOIN film_category USING(film_id) \n",
    "  INNER JOIN category USING(category_id) \n",
    "WHERE \n",
    "  category_id = 7;\n",
    "\"\"\"\n",
    "run_sql(cursor, sql)"
   ],
   "id": "463a383155d66cbd",
   "outputs": [
    {
     "name": "stdout",
     "output_type": "stream",
     "text": [
      "  avg_replacement_cost\n",
      "0                21.09\n"
     ]
    }
   ],
   "execution_count": 3
  },
  {
   "metadata": {
    "ExecuteTime": {
     "end_time": "2024-05-06T11:18:44.027016Z",
     "start_time": "2024-05-06T11:18:44.008082Z"
    }
   },
   "cell_type": "code",
   "source": [
    "sql = \"\"\"\n",
    "SELECT AVG(amount)::numeric(10,2) \n",
    "FROM payment;\n",
    "\"\"\"\n",
    "run_sql(cursor, sql)"
   ],
   "id": "7028e8636f2bfcd3",
   "outputs": [
    {
     "name": "stdout",
     "output_type": "stream",
     "text": [
      "    avg\n",
      "0  4.20\n"
     ]
    }
   ],
   "execution_count": 2
  },
  {
   "metadata": {
    "ExecuteTime": {
     "end_time": "2024-05-06T11:19:36.193445Z",
     "start_time": "2024-05-06T11:19:36.184013Z"
    }
   },
   "cell_type": "code",
   "source": [
    "# With DISTINCT\n",
    "\n",
    "sql = \"\"\"\n",
    "SELECT AVG(DISTINCT amount)::numeric(10,2)\n",
    "FROM payment;\n",
    "\"\"\"\n",
    "run_sql(cursor, sql)"
   ],
   "id": "e3d87aa14e817b57",
   "outputs": [
    {
     "name": "stdout",
     "output_type": "stream",
     "text": [
      "    avg\n",
      "0  6.14\n"
     ]
    }
   ],
   "execution_count": 3
  },
  {
   "metadata": {
    "ExecuteTime": {
     "end_time": "2024-05-06T11:20:38.976288Z",
     "start_time": "2024-05-06T11:20:38.962661Z"
    }
   },
   "cell_type": "code",
   "source": [
    "# With GROUP BY\n",
    "sql = \"\"\"\n",
    "SELECT \n",
    "  customer_id, \n",
    "  first_name, \n",
    "  last_name, \n",
    "  AVG (amount):: numeric(10, 2) \n",
    "FROM \n",
    "  payment \n",
    "  INNER JOIN customer USING(customer_id) \n",
    "GROUP BY \n",
    "  customer_id \n",
    "ORDER BY \n",
    "  customer_id;\n",
    "\"\"\"\n",
    "run_sql(cursor, sql)"
   ],
   "id": "da7c926ad213ac2f",
   "outputs": [
    {
     "name": "stdout",
     "output_type": "stream",
     "text": [
      "     customer_id first_name  last_name   avg\n",
      "0              1       Mary      Smith  3.82\n",
      "1              2   Patricia    Johnson  4.76\n",
      "2              3      Linda   Williams  5.45\n",
      "3              4    Barbara      Jones  3.72\n",
      "4              5  Elizabeth      Brown  3.85\n",
      "..           ...        ...        ...   ...\n",
      "594          595   Terrence  Gunderson  3.82\n",
      "595          596    Enrique   Forsythe  3.35\n",
      "596          597    Freddie     Duggan  3.82\n",
      "597          598       Wade   Delvalle  3.81\n",
      "598          599     Austin    Cintron  4.38\n",
      "\n",
      "[599 rows x 4 columns]\n"
     ]
    }
   ],
   "execution_count": 4
  },
  {
   "metadata": {
    "ExecuteTime": {
     "end_time": "2024-05-06T11:26:28.393152Z",
     "start_time": "2024-05-06T11:26:28.384708Z"
    }
   },
   "cell_type": "code",
   "source": [
    "sql = \"\"\"\n",
    "SELECT \n",
    "  customer_id, \n",
    "  first_name, \n",
    "  last_name, \n",
    "  AVG (amount):: NUMERIC(10, 2) \n",
    "FROM \n",
    "  payment \n",
    "  INNER JOIN customer USING(customer_id) \n",
    "GROUP BY \n",
    "  customer_id \n",
    "HAVING \n",
    "  AVG (amount) > 5 \n",
    "ORDER BY \n",
    "  customer_id;\n",
    "\"\"\"\n",
    "run_sql(cursor, sql)"
   ],
   "id": "5115630c4b66efbe",
   "outputs": [
    {
     "name": "stdout",
     "output_type": "stream",
     "text": [
      "    customer_id first_name last_name   avg\n",
      "0             3      Linda  Williams  5.45\n",
      "1            19       Ruth  Martinez  5.49\n",
      "2           137     Rhonda   Kennedy  5.04\n",
      "3           181        Ana   Bradley  5.08\n",
      "4           187   Brittany     Riley  5.62\n",
      "5           209      Tonya   Chapman  5.09\n",
      "6           259       Lena    Jensen  5.16\n",
      "7           272        Kay  Caldwell  5.07\n",
      "8           285     Miriam  Mckinney  5.12\n",
      "9           293        Mae  Fletcher  5.13\n",
      "10          310     Daniel    Cabral  5.30\n",
      "11          311       Paul     Trout  5.39\n",
      "12          321      Kevin   Schuler  5.52\n",
      "13          470     Gordon    Allard  5.09\n",
      "14          472       Greg    Robins  5.07\n",
      "15          477        Dan     Paine  5.09\n",
      "16          508     Milton   Howland  5.29\n",
      "17          522     Arnold    Havens  5.05\n",
      "18          542     Lonnie    Tirado  5.30\n",
      "19          583   Marshall     Thorn  5.12\n"
     ]
    }
   ],
   "execution_count": 19
  },
  {
   "metadata": {},
   "cell_type": "markdown",
   "source": "## COUNT",
   "id": "d9603e95a4c52fc3"
  },
  {
   "metadata": {
    "ExecuteTime": {
     "end_time": "2024-04-30T00:21:10.786078Z",
     "start_time": "2024-04-30T00:21:10.781442Z"
    }
   },
   "cell_type": "code",
   "source": [
    "sql = \"\"\"\n",
    "SELECT \n",
    "  COUNT(*) \n",
    "FROM \n",
    "  film;\n",
    "\"\"\"\n",
    "run_sql(cursor, sql)"
   ],
   "id": "6d55595f3d5bb3af",
   "outputs": [
    {
     "name": "stdout",
     "output_type": "stream",
     "text": [
      "   count\n",
      "0   1000\n"
     ]
    }
   ],
   "execution_count": 4
  },
  {
   "metadata": {
    "ExecuteTime": {
     "end_time": "2024-04-30T00:21:21.977964Z",
     "start_time": "2024-04-30T00:21:21.974078Z"
    }
   },
   "cell_type": "code",
   "source": [
    "sql = \"\"\"\n",
    "SELECT \n",
    "  COUNT(*) drama_films \n",
    "FROM \n",
    "  film \n",
    "  INNER JOIN film_category USING(film_id) \n",
    "  INNER JOIN category USING(category_id) \n",
    "WHERE \n",
    "  category_id = 7;\n",
    "\"\"\"\n",
    "run_sql(cursor, sql)"
   ],
   "id": "c9e87fbfcc825370",
   "outputs": [
    {
     "name": "stdout",
     "output_type": "stream",
     "text": [
      "   drama_films\n",
      "0           62\n"
     ]
    }
   ],
   "execution_count": 5
  },
  {
   "metadata": {
    "ExecuteTime": {
     "end_time": "2024-05-06T11:40:41.603231Z",
     "start_time": "2024-05-06T11:40:41.586215Z"
    }
   },
   "cell_type": "code",
   "source": [
    "sql = \"\"\"\n",
    "SELECT \n",
    "  COUNT (DISTINCT amount) \n",
    "FROM \n",
    "  payment;\n",
    "\"\"\"\n",
    "run_sql(cursor, sql)"
   ],
   "id": "38d21c7d63f02c13",
   "outputs": [
    {
     "name": "stdout",
     "output_type": "stream",
     "text": [
      "   count\n",
      "0     19\n"
     ]
    }
   ],
   "execution_count": 22
  },
  {
   "metadata": {
    "ExecuteTime": {
     "end_time": "2024-05-06T11:42:19.582882Z",
     "start_time": "2024-05-06T11:42:19.577374Z"
    }
   },
   "cell_type": "code",
   "source": [
    "sql = \"\"\"\n",
    "SELECT \n",
    "  customer_id, \n",
    "  COUNT (customer_id) \n",
    "FROM \n",
    "  payment \n",
    "GROUP BY \n",
    "  customer_id;\n",
    "\"\"\"\n",
    "run_sql(cursor, sql)"
   ],
   "id": "d533aead03124b2d",
   "outputs": [
    {
     "name": "stdout",
     "output_type": "stream",
     "text": [
      "     customer_id  count\n",
      "0            184     20\n",
      "1             87     28\n",
      "2            477     21\n",
      "3            273     28\n",
      "4            550     31\n",
      "..           ...    ...\n",
      "594          449     17\n",
      "595           64     30\n",
      "596          520     31\n",
      "597           55     19\n",
      "598          148     45\n",
      "\n",
      "[599 rows x 2 columns]\n"
     ]
    }
   ],
   "execution_count": 23
  },
  {
   "metadata": {
    "ExecuteTime": {
     "end_time": "2024-05-06T11:42:59.740676Z",
     "start_time": "2024-05-06T11:42:59.731661Z"
    }
   },
   "cell_type": "code",
   "source": [
    "sql = \"\"\"\n",
    "SELECT \n",
    "  first_name || ' ' || last_name full_name, \n",
    "  COUNT (customer_id) \n",
    "FROM \n",
    "  payment \n",
    "INNER JOIN customer USING (customer_id)\n",
    "GROUP BY \n",
    "  customer_id;\n",
    "\"\"\"\n",
    "run_sql(cursor, sql)"
   ],
   "id": "db8fadd81715bd11",
   "outputs": [
    {
     "name": "stdout",
     "output_type": "stream",
     "text": [
      "                 full_name  count\n",
      "0              Vivian Ruiz     20\n",
      "1          Wanda Patterson     28\n",
      "2                Dan Paine     21\n",
      "3           Priscilla Lowe     28\n",
      "4             Guy Brownlee     31\n",
      "..                     ...    ...\n",
      "594           Oscar Aquino     17\n",
      "595             Judith Cox     30\n",
      "596  Mitchell Westmoreland     31\n",
      "597             Doris Reed     19\n",
      "598           Eleanor Hunt     45\n",
      "\n",
      "[599 rows x 2 columns]\n"
     ]
    }
   ],
   "execution_count": 24
  },
  {
   "metadata": {
    "ExecuteTime": {
     "end_time": "2024-05-06T11:43:28.546165Z",
     "start_time": "2024-05-06T11:43:28.540360Z"
    }
   },
   "cell_type": "code",
   "source": [
    "sql = \"\"\"\n",
    "SELECT \n",
    "  first_name || ' ' || last_name full_name, \n",
    "  COUNT (customer_id) \n",
    "FROM \n",
    "  payment \n",
    "INNER JOIN customer USING (customer_id)\n",
    "GROUP BY \n",
    "  customer_id\n",
    "HAVING \n",
    "  COUNT (customer_id) > 40\n",
    "\"\"\"\n",
    "run_sql(cursor, sql)"
   ],
   "id": "887a61afe7f266e3",
   "outputs": [
    {
     "name": "stdout",
     "output_type": "stream",
     "text": [
      "      full_name  count\n",
      "0     Karl Seal     42\n",
      "1  Eleanor Hunt     45\n"
     ]
    }
   ],
   "execution_count": 25
  },
  {
   "metadata": {},
   "cell_type": "markdown",
   "source": "## MAX",
   "id": "a6c3799983b30ae3"
  },
  {
   "metadata": {
    "ExecuteTime": {
     "end_time": "2024-04-30T00:22:01.780144Z",
     "start_time": "2024-04-30T00:22:01.776548Z"
    }
   },
   "cell_type": "code",
   "source": [
    "sql = \"\"\"\n",
    "SELECT \n",
    "  MAX(replacement_cost) \n",
    "FROM \n",
    "  film;\n",
    "\"\"\"\n",
    "run_sql(cursor, sql)"
   ],
   "id": "a81371a1af83a290",
   "outputs": [
    {
     "name": "stdout",
     "output_type": "stream",
     "text": [
      "     max\n",
      "0  29.99\n"
     ]
    }
   ],
   "execution_count": 6
  },
  {
   "metadata": {
    "ExecuteTime": {
     "end_time": "2024-04-30T00:22:12.257972Z",
     "start_time": "2024-04-30T00:22:12.253369Z"
    }
   },
   "cell_type": "code",
   "source": [
    "sql = \"\"\"\n",
    "SELECT \n",
    "  film_id, \n",
    "  title \n",
    "FROM \n",
    "  film \n",
    "WHERE \n",
    "  replacement_cost =(\n",
    "    SELECT \n",
    "      MAX(replacement_cost) \n",
    "    FROM \n",
    "      film\n",
    "  ) \n",
    "ORDER BY \n",
    "  title;\n",
    "\"\"\"\n",
    "run_sql(cursor, sql)"
   ],
   "id": "3edc2714dafc8b3d",
   "outputs": [
    {
     "name": "stdout",
     "output_type": "stream",
     "text": [
      "    film_id                    title\n",
      "0        34             Arabia Dogma\n",
      "1        52     Ballroom Mockingbird\n",
      "2        81            Blindness Gun\n",
      "3        85         Bonnie Holocaust\n",
      "4       138      Chariots Conspiracy\n",
      "5       157       Clockwork Paradise\n",
      "6       163             Clyde Theory\n",
      "7       196       Cruelty Unforgiven\n",
      "8       199         Cupboard Sinners\n",
      "9       224  Desperate Trainspotting\n",
      "10      232                Dirty Ace\n",
      "11      238             Doctor Grail\n",
      "12      270             Earth Vision\n",
      "13      290           Everyone Craft\n",
      "14      297  Extraordinary Conquerer\n",
      "15      302            Fantasia Park\n",
      "16      309             Feud Frogmen\n",
      "17      322        Flatliners Killer\n",
      "18      325            Floats Garden\n",
      "19      358           Gilmore Boiled\n",
      "20      366   Goldfinger Sensibility\n",
      "21      374            Graffiti Love\n",
      "22      417          Hills Neighbors\n",
      "23      423      Hollywood Anonymous\n",
      "24      429               Honey Ties\n",
      "25      450          Idols Snatchers\n",
      "26      475             Japanese Run\n",
      "27      480          Jeepers Wedding\n",
      "28      483            Jericho Mulan\n",
      "29      487         Jingle Sagebrush\n",
      "30      510           Lawless Vision\n",
      "31      525         Loathing Legally\n",
      "32      537             Lover Truman\n",
      "33      644               Oscar Gold\n",
      "34      663           Patient Sister\n",
      "35      691         Poseidon Forever\n",
      "36      698           Princess Giant\n",
      "37      707          Quest Mussolini\n",
      "38      714                Random Go\n",
      "39      723          Reign Gentlemen\n",
      "40      726     Reservoir Adaptation\n",
      "41      731             Right Cranes\n",
      "42      733             River Outlaw\n",
      "43      759            Salute Apollo\n",
      "44      762             Sassy Packer\n",
      "45      803         Slacker Liaisons\n",
      "46      811            Smile Earring\n",
      "47      819              Song Hedwig\n",
      "48      901              Tracy Cider\n",
      "49      921           Uncut Suicides\n",
      "50      944             Virgin Daisy\n",
      "51      969                West Lion\n",
      "52      994            Wyoming Storm\n"
     ]
    }
   ],
   "execution_count": 7
  },
  {
   "metadata": {
    "ExecuteTime": {
     "end_time": "2024-05-06T11:45:18.893204Z",
     "start_time": "2024-05-06T11:45:18.887524Z"
    }
   },
   "cell_type": "code",
   "source": [
    "sql = \"\"\"\n",
    "SELECT \n",
    "  payment_id, \n",
    "  customer_id, \n",
    "  amount \n",
    "FROM \n",
    "  payment \n",
    "WHERE \n",
    "  amount = (\n",
    "    SELECT \n",
    "      MAX (amount) \n",
    "    FROM \n",
    "      payment\n",
    "  );\n",
    "\"\"\"\n",
    "run_sql(cursor, sql)"
   ],
   "id": "57d3f1d91edb793a",
   "outputs": [
    {
     "name": "stdout",
     "output_type": "stream",
     "text": [
      "   payment_id  customer_id amount\n",
      "0       20403          362  11.99\n",
      "1       22650          204  11.99\n",
      "2       23757          116  11.99\n",
      "3       24553          195  11.99\n",
      "4       24866          237  11.99\n",
      "5       28799          591  11.99\n",
      "6       28814          592  11.99\n",
      "7       29136           13  11.99\n"
     ]
    }
   ],
   "execution_count": 26
  },
  {
   "metadata": {
    "ExecuteTime": {
     "end_time": "2024-05-06T11:45:47.130824Z",
     "start_time": "2024-05-06T11:45:47.125599Z"
    }
   },
   "cell_type": "code",
   "source": [
    "sql = \"\"\"\n",
    "SELECT \n",
    "  customer_id, \n",
    "  MAX (amount) \n",
    "FROM \n",
    "  payment \n",
    "GROUP BY \n",
    "  customer_id;\n",
    "\"\"\"\n",
    "run_sql(cursor, sql)"
   ],
   "id": "4229303822a4780d",
   "outputs": [
    {
     "name": "stdout",
     "output_type": "stream",
     "text": [
      "     customer_id    max\n",
      "0            184   9.99\n",
      "1             87  10.99\n",
      "2            477  10.99\n",
      "3            273   8.99\n",
      "4            550  10.99\n",
      "..           ...    ...\n",
      "594          449   8.99\n",
      "595           64   6.99\n",
      "596          520  10.99\n",
      "597           55   7.99\n",
      "598          148  10.99\n",
      "\n",
      "[599 rows x 2 columns]\n"
     ]
    }
   ],
   "execution_count": 27
  },
  {
   "metadata": {
    "ExecuteTime": {
     "end_time": "2024-05-06T11:46:06.357936Z",
     "start_time": "2024-05-06T11:46:06.342173Z"
    }
   },
   "cell_type": "code",
   "source": [
    "sql = \"\"\"\n",
    "SELECT \n",
    "  customer_id, \n",
    "  MAX (amount) \n",
    "FROM \n",
    "  payment \n",
    "GROUP BY \n",
    "  customer_id \n",
    "HAVING \n",
    "  MAX(amount) > 8.99;\n",
    "\"\"\"\n",
    "run_sql(cursor, sql)"
   ],
   "id": "1c2eb93b646c19ca",
   "outputs": [
    {
     "name": "stdout",
     "output_type": "stream",
     "text": [
      "     customer_id    max\n",
      "0            184   9.99\n",
      "1             87  10.99\n",
      "2            477  10.99\n",
      "3            550  10.99\n",
      "4             51   9.99\n",
      "..           ...    ...\n",
      "260          392   9.99\n",
      "261           49  10.99\n",
      "262          434  10.99\n",
      "263          520  10.99\n",
      "264          148  10.99\n",
      "\n",
      "[265 rows x 2 columns]\n"
     ]
    }
   ],
   "execution_count": 28
  },
  {
   "metadata": {},
   "cell_type": "markdown",
   "source": "## MIN",
   "id": "ee1f06a2eb73e709"
  },
  {
   "metadata": {
    "ExecuteTime": {
     "end_time": "2024-04-30T00:23:16.052352Z",
     "start_time": "2024-04-30T00:23:16.049116Z"
    }
   },
   "cell_type": "code",
   "source": [
    "sql = \"\"\"\n",
    "SELECT \n",
    "  MIN(replacement_cost) \n",
    "FROM \n",
    "  film;\n",
    "\"\"\"\n",
    "run_sql(cursor, sql)"
   ],
   "id": "7d7cb6a60cd2a4d7",
   "outputs": [
    {
     "name": "stdout",
     "output_type": "stream",
     "text": [
      "    min\n",
      "0  9.99\n"
     ]
    }
   ],
   "execution_count": 8
  },
  {
   "metadata": {
    "ExecuteTime": {
     "end_time": "2024-04-30T00:23:24.476505Z",
     "start_time": "2024-04-30T00:23:24.471875Z"
    }
   },
   "cell_type": "code",
   "source": [
    "sql = \"\"\"\n",
    "SELECT \n",
    "  film_id, \n",
    "  title \n",
    "FROM \n",
    "  film \n",
    "WHERE \n",
    "  replacement_cost =(\n",
    "    SELECT \n",
    "      MIN(replacement_cost) \n",
    "    FROM \n",
    "      film\n",
    "  ) \n",
    "ORDER BY \n",
    "  title;\n",
    "\n",
    "\"\"\"\n",
    "run_sql(cursor, sql)"
   ],
   "id": "95492e6ecd125e5e",
   "outputs": [
    {
     "name": "stdout",
     "output_type": "stream",
     "text": [
      "    film_id                   title\n",
      "0        23    Anaconda Confessions\n",
      "1       150            Cider Desire\n",
      "2       182          Control Anthem\n",
      "3       203         Daisy Menagerie\n",
      "4       221  Deliverance Mulholland\n",
      "5       260          Dude Blindness\n",
      "6       272            Edge Kissing\n",
      "7       281              Encino Elf\n",
      "8       299          Factory Dragon\n",
      "9       307       Fellowship Autumn\n",
      "10      348             Gandhi Kwai\n",
      "11      389    Gunfighter Mussolini\n",
      "12      409    Heartbreakers Bright\n",
      "13      476              Jason Trap\n",
      "14      501           Kissing Dolls\n",
      "15      522            Life Twisted\n",
      "16      551             Maiden Home\n",
      "17      565          Matrix Snowman\n",
      "18      572         Metropolis Coma\n",
      "19      623        Newton Labyrinth\n",
      "20      627           North Tequila\n",
      "21      629       Notorious Reunion\n",
      "22      639       Opposite Necklace\n",
      "23      656           Papi Necklace\n",
      "24      662           Paths Control\n",
      "25      686          Pluto Oleander\n",
      "26      705            Purple Movie\n",
      "27      747           Roxanne Rebel\n",
      "28      841          Star Operation\n",
      "29      845           Stepmom Dream\n",
      "30      846          Sting Personal\n",
      "31      863         Sun Confessions\n",
      "32      875       Talented Homicide\n",
      "33      880  Telemark Heartbreakers\n",
      "34      886          Theory Mermaid\n",
      "35      888          Thin Sagebrush\n",
      "36      912         Trojan Tomorrow\n",
      "37      915            Truman Crazy\n",
      "38      931     Valentine Vanishing\n",
      "39      953              Wait Cider\n",
      "40      996          Young Language\n"
     ]
    }
   ],
   "execution_count": 9
  },
  {
   "metadata": {},
   "cell_type": "markdown",
   "source": "## SUM",
   "id": "9a40d232bed2dc95"
  },
  {
   "metadata": {
    "ExecuteTime": {
     "end_time": "2024-04-30T00:23:53.609729Z",
     "start_time": "2024-04-30T00:23:53.606391Z"
    }
   },
   "cell_type": "code",
   "source": [
    "sql = \"\"\"\n",
    "SELECT \n",
    "  rating, \n",
    "  SUM(rental_duration) \n",
    "FROM \n",
    "  film\n",
    "GROUP BY \n",
    "  rating \n",
    "ORDER BY \n",
    "  rating;\n",
    "\"\"\"\n",
    "run_sql(cursor, sql)"
   ],
   "id": "7910b8e61c744a19",
   "outputs": [
    {
     "name": "stdout",
     "output_type": "stream",
     "text": [
      "  rating   sum\n",
      "0      G   861\n",
      "1     PG   986\n",
      "2  PG-13  1127\n",
      "3      R   931\n",
      "4  NC-17  1080\n"
     ]
    }
   ],
   "execution_count": 10
  },
  {
   "metadata": {
    "ExecuteTime": {
     "end_time": "2024-05-06T11:49:42.491879Z",
     "start_time": "2024-05-06T11:49:42.488209Z"
    }
   },
   "cell_type": "code",
   "source": [
    "sql = \"\"\"\n",
    "SELECT \n",
    "  COALESCE(SUM(amount), 0 ) total\n",
    "FROM \n",
    "  payment \n",
    "WHERE \n",
    "  customer_id = 2000;\n",
    "\"\"\"\n",
    "run_sql(cursor, sql)"
   ],
   "id": "dda4eaba497f9b50",
   "outputs": [
    {
     "name": "stdout",
     "output_type": "stream",
     "text": [
      "  total\n",
      "0     0\n"
     ]
    }
   ],
   "execution_count": 29
  },
  {
   "metadata": {
    "ExecuteTime": {
     "end_time": "2024-05-06T11:50:06.888595Z",
     "start_time": "2024-05-06T11:50:06.883950Z"
    }
   },
   "cell_type": "code",
   "source": [
    "sql = \"\"\"\n",
    "SELECT \n",
    "  customer_id, \n",
    "  SUM (amount) AS total \n",
    "FROM \n",
    "  payment \n",
    "GROUP BY \n",
    "  customer_id \n",
    "ORDER BY \n",
    "  total DESC \n",
    "LIMIT \n",
    "  5;\n",
    "\"\"\"\n",
    "run_sql(cursor, sql)"
   ],
   "id": "bb9fc16e34509a17",
   "outputs": [
    {
     "name": "stdout",
     "output_type": "stream",
     "text": [
      "   customer_id   total\n",
      "0          148  211.55\n",
      "1          526  208.58\n",
      "2          178  194.61\n",
      "3          137  191.62\n",
      "4          144  189.60\n"
     ]
    }
   ],
   "execution_count": 30
  },
  {
   "metadata": {},
   "cell_type": "markdown",
   "source": "## ARRAY_AGG",
   "id": "e49982e0c6b5d937"
  },
  {
   "metadata": {
    "ExecuteTime": {
     "end_time": "2024-05-06T11:51:22.859266Z",
     "start_time": "2024-05-06T11:51:22.840765Z"
    }
   },
   "cell_type": "code",
   "source": [
    "sql = \"\"\"\n",
    "SELECT\n",
    "    title,\n",
    "    ARRAY_AGG (first_name || ' ' || last_name) actors\n",
    "FROM\n",
    "    film\n",
    "INNER JOIN film_actor USING (film_id)\n",
    "INNER JOIN actor USING (actor_id)\n",
    "GROUP BY\n",
    "    title\n",
    "ORDER BY\n",
    "    title;\n",
    "\"\"\"\n",
    "run_sql(cursor, sql)"
   ],
   "id": "2e338c386f294315",
   "outputs": [
    {
     "name": "stdout",
     "output_type": "stream",
     "text": [
      "                 title                                             actors\n",
      "0     Academy Dinosaur  [Penelope Guiness, Christian Gable, Lucille Tr...\n",
      "1       Ace Goldfinger  [Bob Fawcett, Minnie Zellweger, Sean Guiness, ...\n",
      "2     Adaptation Holes  [Nick Wahlberg, Bob Fawcett, Cameron Streep, R...\n",
      "3     Affair Prejudice  [Jodie Degeneres, Scarlett Damon, Kenneth Pesc...\n",
      "4          African Egg  [Gary Phoenix, Dustin Tautou, Matthew Leigh, M...\n",
      "..                 ...                                                ...\n",
      "992     Young Language  [Ed Chase, Julia Mcqueen, James Pitt, Christop...\n",
      "993         Youth Kick  [Sandra Kilmer, Val Bolger, Scarlett Bening, I...\n",
      "994       Zhivago Core  [Uma Wood, Nick Stallone, Gary Penn, Salma Nol...\n",
      "995  Zoolander Fiction  [Carmen Hunt, Mary Tandy, Penelope Cronyn, Who...\n",
      "996          Zorro Ark           [Ian Tandy, Nick Degeneres, Lisa Monroe]\n",
      "\n",
      "[997 rows x 2 columns]\n"
     ]
    }
   ],
   "execution_count": 31
  },
  {
   "metadata": {
    "ExecuteTime": {
     "end_time": "2024-05-06T11:52:01.163095Z",
     "start_time": "2024-05-06T11:52:01.145768Z"
    }
   },
   "cell_type": "code",
   "source": [
    "sql = \"\"\"\n",
    "SELECT\n",
    "    title,\n",
    "    ARRAY_AGG (\n",
    "        first_name || ' ' || last_name\n",
    "        ORDER BY\n",
    "            first_name\n",
    "    ) actors\n",
    "FROM\n",
    "    film\n",
    "INNER JOIN film_actor USING (film_id)\n",
    "INNER JOIN actor USING (actor_id)\n",
    "GROUP BY\n",
    "    title\n",
    "ORDER BY\n",
    "    title;\n",
    "\"\"\"\n",
    "run_sql(cursor, sql)"
   ],
   "id": "d0e9eb6a9abde633",
   "outputs": [
    {
     "name": "stdout",
     "output_type": "stream",
     "text": [
      "                 title                                             actors\n",
      "0     Academy Dinosaur  [Christian Gable, Johnny Cage, Lucille Tracy, ...\n",
      "1       Ace Goldfinger  [Bob Fawcett, Chris Depp, Minnie Zellweger, Se...\n",
      "2     Adaptation Holes  [Bob Fawcett, Cameron Streep, Julianne Dench, ...\n",
      "3     Affair Prejudice  [Fay Winslet, Jodie Degeneres, Kenneth Pesci, ...\n",
      "4          African Egg  [Dustin Tautou, Gary Phoenix, Matthew Leigh, M...\n",
      "..                 ...                                                ...\n",
      "992     Young Language  [Christopher West, Ed Chase, James Pitt, Julia...\n",
      "993         Youth Kick  [Ian Tandy, Mary Keitel, Sandra Kilmer, Scarle...\n",
      "994       Zhivago Core  [Gary Penn, Kenneth Hoffman, Nick Stallone, Sa...\n",
      "995  Zoolander Fiction  [Carmen Hunt, Jada Ryder, Mary Tandy, Penelope...\n",
      "996          Zorro Ark           [Ian Tandy, Lisa Monroe, Nick Degeneres]\n",
      "\n",
      "[997 rows x 2 columns]\n"
     ]
    }
   ],
   "execution_count": 32
  },
  {
   "metadata": {},
   "cell_type": "markdown",
   "source": "## STRING_AGG",
   "id": "96b5360e6979feb3"
  },
  {
   "metadata": {
    "ExecuteTime": {
     "end_time": "2024-05-06T11:54:39.520284Z",
     "start_time": "2024-05-06T11:54:39.504224Z"
    }
   },
   "cell_type": "code",
   "source": [
    "sql = \"\"\"\n",
    "SELECT\n",
    "    f.title,\n",
    "    STRING_AGG (\n",
    "\ta.first_name || ' ' || a.last_name,\n",
    "        ','\n",
    "       ORDER BY\n",
    "        a.first_name,\n",
    "        a.last_name\n",
    "    ) actors\n",
    "FROM\n",
    "    film f\n",
    "INNER JOIN film_actor fa USING (film_id)\n",
    "INNER JOIN actor a USING (actor_id)\n",
    "GROUP BY\n",
    "    f.title;\n",
    "\"\"\"\n",
    "run_sql(cursor, sql)"
   ],
   "id": "e1669c2796f720b2",
   "outputs": [
    {
     "name": "stdout",
     "output_type": "stream",
     "text": [
      "                 title                                             actors\n",
      "0     Academy Dinosaur  Christian Gable,Johnny Cage,Lucille Tracy,Mary...\n",
      "1       Ace Goldfinger  Bob Fawcett,Chris Depp,Minnie Zellweger,Sean G...\n",
      "2     Adaptation Holes  Bob Fawcett,Cameron Streep,Julianne Dench,Nick...\n",
      "3     Affair Prejudice  Fay Winslet,Jodie Degeneres,Kenneth Pesci,Opra...\n",
      "4          African Egg  Dustin Tautou,Gary Phoenix,Matthew Carrey,Matt...\n",
      "..                 ...                                                ...\n",
      "992     Young Language  Christopher West,Ed Chase,James Pitt,Julia Mcq...\n",
      "993         Youth Kick  Ian Tandy,Mary Keitel,Sandra Kilmer,Scarlett B...\n",
      "994       Zhivago Core  Gary Penn,Kenneth Hoffman,Nick Stallone,Salma ...\n",
      "995  Zoolander Fiction  Carmen Hunt,Jada Ryder,Mary Tandy,Penelope Cro...\n",
      "996          Zorro Ark               Ian Tandy,Lisa Monroe,Nick Degeneres\n",
      "\n",
      "[997 rows x 2 columns]\n"
     ]
    }
   ],
   "execution_count": 33
  }
 ],
 "metadata": {
  "kernelspec": {
   "display_name": "Python 3",
   "language": "python",
   "name": "python3"
  },
  "language_info": {
   "codemirror_mode": {
    "name": "ipython",
    "version": 2
   },
   "file_extension": ".py",
   "mimetype": "text/x-python",
   "name": "python",
   "nbconvert_exporter": "python",
   "pygments_lexer": "ipython2",
   "version": "2.7.6"
  }
 },
 "nbformat": 4,
 "nbformat_minor": 5
}
