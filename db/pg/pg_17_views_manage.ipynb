{
 "cells": [
  {
   "cell_type": "code",
   "id": "initial_id",
   "metadata": {
    "collapsed": true,
    "ExecuteTime": {
     "end_time": "2024-04-26T00:26:09.546622Z",
     "start_time": "2024-04-26T00:26:09.517150Z"
    }
   },
   "source": [
    "from common import *\n",
    "\n",
    "cursor = connect()"
   ],
   "outputs": [],
   "execution_count": 6
  },
  {
   "metadata": {},
   "cell_type": "markdown",
   "source": [
    "# Alert View\n",
    "\n",
    "```\n",
    "ALTER VIEW [IF EXISTS] view_name\n",
    "action;\n",
    "```\n",
    "\n",
    "`action` 可以是重命名等操作。\n",
    "\n",
    "\n",
    "## 重命名\n",
    "\n",
    "```\n",
    "ALTER VIEW [ IF EXISTS ] view_name\n",
    "RENAME TO new_view_name;\n",
    "```\n",
    "\n",
    "## 更改视图选项\n",
    "\n",
    "```\n",
    "ALTER VIEW [ IF EXISTS ] view_name\n",
    "SET ( view_option_name [= view_option_value] [, ... ] );\n",
    "```\n",
    "\n",
    "`view_option_name` 有：\n",
    "- `check_option`: `CASCADE` 或 `LOCAL`\n",
    "- `security_barrier`: `TRUE` 或 `FALSE`\n",
    "- `security_invoker`: `TRUE` 或 `FALSE`\n",
    "\n",
    "## 更改视图列\n",
    "\n",
    "```\n",
    "ALTER VIEW [ IF EXISTS ] view_name\n",
    "RENAME [ COLUMN ] column_name TO new_column_name;\n",
    "```\n",
    "\n",
    "## 设置新的范式（schema）\n",
    "\n",
    "```\n",
    "ALTER VIEW [ IF EXISTS ] view_name\n",
    "SET SCHEMA new_schema;\n",
    "```"
   ],
   "id": "678c8ed4787724da"
  },
  {
   "metadata": {},
   "cell_type": "markdown",
   "source": [
    "# Listing View\n",
    "\n"
   ],
   "id": "1f18ed8553a142e7"
  },
  {
   "metadata": {
    "ExecuteTime": {
     "end_time": "2024-04-26T00:25:43.735058Z",
     "start_time": "2024-04-26T00:25:43.717477Z"
    }
   },
   "cell_type": "code",
   "source": [
    "sql = \"\"\"\n",
    "SELECT \n",
    "  table_schema, \n",
    "  table_name\n",
    "FROM \n",
    "  information_schema.views \n",
    "WHERE \n",
    "  table_schema NOT IN (\n",
    "    'information_schema', 'pg_catalog'\n",
    "  ) \n",
    "ORDER BY \n",
    "  table_schema, \n",
    "  table_name;\n",
    "\"\"\"\n",
    "run_sql(cursor, sql)"
   ],
   "id": "c4daeaa8710b3c87",
   "outputs": [
    {
     "name": "stdout",
     "output_type": "stream",
     "text": [
      "  table_schema                  table_name\n",
      "0       public                  actor_info\n",
      "1       public               customer_list\n",
      "2       public                   film_list\n",
      "3       public  nicer_but_slower_film_list\n",
      "4       public      sales_by_film_category\n",
      "5       public              sales_by_store\n",
      "6       public                  staff_list\n"
     ]
    }
   ],
   "execution_count": 4
  },
  {
   "metadata": {
    "ExecuteTime": {
     "end_time": "2024-04-26T00:26:13.607131Z",
     "start_time": "2024-04-26T00:26:13.599602Z"
    }
   },
   "cell_type": "code",
   "source": [
    "sql = \"\"\"\n",
    "SELECT * FROM pg_matviews\n",
    "\"\"\"\n",
    "run_sql(cursor, sql)"
   ],
   "id": "c797c84e6e807f47",
   "outputs": [
    {
     "name": "stdout",
     "output_type": "stream",
     "text": [
      "Empty DataFrame\n",
      "Columns: [schemaname, matviewname, matviewowner, tablespace, hasindexes, ispopulated, definition]\n",
      "Index: []\n"
     ]
    }
   ],
   "execution_count": 7
  }
 ],
 "metadata": {
  "kernelspec": {
   "display_name": "Python 3",
   "language": "python",
   "name": "python3"
  },
  "language_info": {
   "codemirror_mode": {
    "name": "ipython",
    "version": 2
   },
   "file_extension": ".py",
   "mimetype": "text/x-python",
   "name": "python",
   "nbconvert_exporter": "python",
   "pygments_lexer": "ipython2",
   "version": "2.7.6"
  }
 },
 "nbformat": 4,
 "nbformat_minor": 5
}
