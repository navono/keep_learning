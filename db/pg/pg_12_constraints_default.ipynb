{
 "cells": [
  {
   "cell_type": "markdown",
   "source": [
    "# Default 约束\n",
    "```\n",
    "CREATE TABLE table_name(\n",
    "    column1 type,\n",
    "    column2 type DEFAULT default_value,\n",
    "    column3 type,\n",
    "    ...\n",
    ");\n",
    "```\n",
    "\n",
    "修改一个已存在的表：\n",
    "```\n",
    "ALTER TABLE table_name\n",
    "ALTER COLUMN column2\n",
    "SET DEFAULT default_value;\n",
    "```\n",
    "\n",
    "删除约束：\n",
    "```\n",
    "ALTER TABLE table_name\n",
    "ALTER COLUMN column2\n",
    "DROP DEFAULT;\n",
    "```"
   ],
   "metadata": {
    "collapsed": false
   },
   "id": "1bab59264f15ef"
  },
  {
   "cell_type": "code",
   "execution_count": null,
   "id": "initial_id",
   "metadata": {
    "collapsed": true
   },
   "outputs": [],
   "source": []
  }
 ],
 "metadata": {
  "kernelspec": {
   "display_name": "Python 3",
   "language": "python",
   "name": "python3"
  },
  "language_info": {
   "codemirror_mode": {
    "name": "ipython",
    "version": 2
   },
   "file_extension": ".py",
   "mimetype": "text/x-python",
   "name": "python",
   "nbconvert_exporter": "python",
   "pygments_lexer": "ipython2",
   "version": "2.7.6"
  }
 },
 "nbformat": 4,
 "nbformat_minor": 5
}
