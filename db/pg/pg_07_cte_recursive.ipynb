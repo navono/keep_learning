{
 "cells": [
  {
   "cell_type": "markdown",
   "source": [
    "```\n",
    "WITH RECURSIVE cte_name (column1, column2, ...)\n",
    "AS(\n",
    "    -- anchor member\n",
    "    SELECT select_list FROM table1 WHERE condition\n",
    "\n",
    "    UNION [ALL]\n",
    "\n",
    "    -- recursive term\n",
    "    SELECT select_list FROM cte_name WHERE recursive_condition\n",
    ") \n",
    "SELECT * FROM cte_name;\n",
    "```"
   ],
   "metadata": {
    "collapsed": false
   },
   "id": "116345b22f15b2ed"
  },
  {
   "cell_type": "code",
   "execution_count": 1,
   "id": "initial_id",
   "metadata": {
    "collapsed": true,
    "ExecuteTime": {
     "end_time": "2024-01-25T05:27:27.446538Z",
     "start_time": "2024-01-25T05:27:27.013647900Z"
    }
   },
   "outputs": [
    {
     "name": "stdout",
     "output_type": "stream",
     "text": [
      "importing Jupyter notebook from E:\\sourcecode\\keep_learning\\db\\pg\\pg_00_common.ipynb\n"
     ]
    }
   ],
   "source": [
    "import common.ipynb_importer\n",
    "from db.pg.pg_00_common import *\n",
    "\n",
    "cursor = pg_connect()"
   ]
  },
  {
   "cell_type": "code",
   "outputs": [
    {
     "data": {
      "text/plain": "<psycopg.Cursor [COMMAND_OK] [INTRANS] (host=localhost user=postgres database=dvdrental) at 0x246d0ae1a60>"
     },
     "execution_count": 2,
     "metadata": {},
     "output_type": "execute_result"
    }
   ],
   "source": [
    "sql = \"\"\"\n",
    "CREATE TABLE employees (\n",
    "  employee_id SERIAL PRIMARY KEY, \n",
    "  full_name VARCHAR NOT NULL, \n",
    "  manager_id INT\n",
    ");\n",
    "\n",
    "INSERT INTO employees (employee_id, full_name, manager_id) \n",
    "VALUES \n",
    "  (1, 'Michael North', NULL), \n",
    "  (2, 'Megan Berry', 1), \n",
    "  (3, 'Sarah Berry', 1), \n",
    "  (4, 'Zoe Black', 1), \n",
    "  (5, 'Tim James', 1), \n",
    "  (6, 'Bella Tucker', 2), \n",
    "  (7, 'Ryan Metcalfe', 2), \n",
    "  (8, 'Max Mills', 2), \n",
    "  (9, 'Benjamin Glover', 2), \n",
    "  (10, 'Carolyn Henderson', 3), \n",
    "  (11, 'Nicola Kelly', 3), \n",
    "  (12, 'Alexandra Climo', 3), \n",
    "  (13, 'Dominic King', 3), \n",
    "  (14, 'Leonard Gray', 4), \n",
    "  (15, 'Eric Rampling', 4), \n",
    "  (16, 'Piers Paige', 7), \n",
    "  (17, 'Ryan Henderson', 7), \n",
    "  (18, 'Frank Tucker', 8), \n",
    "  (19, 'Nathan Ferguson', 8), \n",
    "  (20, 'Kevin Rampling', 8);\n",
    "\"\"\"\n",
    "\n",
    "cursor.execute(sql)"
   ],
   "metadata": {
    "collapsed": false,
    "ExecuteTime": {
     "end_time": "2024-01-25T05:27:28.420572900Z",
     "start_time": "2024-01-25T05:27:28.390573300Z"
    }
   },
   "id": "f0d8c6cb8c23ded6",
   "execution_count": 2
  },
  {
   "cell_type": "code",
   "outputs": [
    {
     "name": "stdout",
     "output_type": "stream",
     "text": [
      "   employee_id  manager_id        full_name\n",
      "0            2           1      Megan Berry\n",
      "1            6           2     Bella Tucker\n",
      "2            7           2    Ryan Metcalfe\n",
      "3            8           2        Max Mills\n",
      "4            9           2  Benjamin Glover\n",
      "5           16           7      Piers Paige\n",
      "6           17           7   Ryan Henderson\n",
      "7           18           8     Frank Tucker\n",
      "8           19           8  Nathan Ferguson\n",
      "9           20           8   Kevin Rampling\n"
     ]
    }
   ],
   "source": [
    "# 查找 ID 为 2 的经理的所有下属\n",
    "sql = \"\"\"\n",
    "WITH RECURSIVE subordinates AS (\n",
    "  SELECT \n",
    "    employee_id, \n",
    "    manager_id, \n",
    "    full_name \n",
    "  FROM \n",
    "    employees \n",
    "  WHERE \n",
    "    employee_id = 2 \n",
    "  UNION \n",
    "  SELECT \n",
    "    e.employee_id, \n",
    "    e.manager_id, \n",
    "    e.full_name \n",
    "  FROM \n",
    "    employees e \n",
    "    INNER JOIN subordinates s ON s.employee_id = e.manager_id\n",
    ") \n",
    "SELECT * FROM subordinates;\n",
    "\"\"\"\n",
    "\n",
    "run_sql(cursor, sql)"
   ],
   "metadata": {
    "collapsed": false,
    "ExecuteTime": {
     "end_time": "2024-01-25T05:27:31.095931200Z",
     "start_time": "2024-01-25T05:27:31.076928800Z"
    }
   },
   "id": "4469e421ca784eb9",
   "execution_count": 3
  }
 ],
 "metadata": {
  "kernelspec": {
   "display_name": "Python 3",
   "language": "python",
   "name": "python3"
  },
  "language_info": {
   "codemirror_mode": {
    "name": "ipython",
    "version": 2
   },
   "file_extension": ".py",
   "mimetype": "text/x-python",
   "name": "python",
   "nbconvert_exporter": "python",
   "pygments_lexer": "ipython2",
   "version": "2.7.6"
  }
 },
 "nbformat": 4,
 "nbformat_minor": 5
}
