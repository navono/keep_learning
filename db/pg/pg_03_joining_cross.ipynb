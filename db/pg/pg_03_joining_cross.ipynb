{
 "cells": [
  {
   "cell_type": "markdown",
   "source": [
    "`CROSS JOIN` 为两张表的行进行了笛卡尔积操作。\n",
    "\n",
    "![cross join](./pg_cross_join.png)"
   ],
   "metadata": {
    "collapsed": false
   },
   "id": "ea21db2952317d72"
  },
  {
   "cell_type": "code",
   "execution_count": 1,
   "id": "initial_id",
   "metadata": {
    "collapsed": true,
    "ExecuteTime": {
     "end_time": "2024-01-24T06:58:25.831305200Z",
     "start_time": "2024-01-24T06:58:25.382781200Z"
    }
   },
   "outputs": [],
   "source": [
    "import ipynb_importer\n",
    "%run pg_00_common.ipynb\n",
    "cursor = pg_connect()"
   ]
  },
  {
   "cell_type": "code",
   "outputs": [],
   "source": [
    "sql = \"\"\"\n",
    "DROP TABLE IF EXISTS T1;\n",
    "CREATE TABLE T1 (label CHAR(1) PRIMARY KEY);\n",
    "\n",
    "DROP TABLE IF EXISTS T2;\n",
    "CREATE TABLE T2 (score INT PRIMARY KEY);\n",
    "\n",
    "INSERT INTO T1 (label)\n",
    "VALUES\n",
    "\t('A'),\n",
    "\t('B');\n",
    "\n",
    "INSERT INTO T2 (score)\n",
    "VALUES\n",
    "\t(1),\n",
    "\t(2),\n",
    "\t(3);\n",
    "\"\"\""
   ],
   "metadata": {
    "collapsed": false,
    "ExecuteTime": {
     "end_time": "2024-01-24T06:58:39.627843600Z",
     "start_time": "2024-01-24T06:58:39.618843900Z"
    }
   },
   "id": "34db47314c8c6f80",
   "execution_count": 2
  },
  {
   "cell_type": "code",
   "outputs": [
    {
     "data": {
      "text/plain": "<psycopg.Cursor [COMMAND_OK] [INTRANS] (host=localhost user=postgres database=dvdrental) at 0x202af645c70>"
     },
     "execution_count": 3,
     "metadata": {},
     "output_type": "execute_result"
    }
   ],
   "source": [
    "cursor.execute(sql)"
   ],
   "metadata": {
    "collapsed": false,
    "ExecuteTime": {
     "end_time": "2024-01-24T06:58:41.639359Z",
     "start_time": "2024-01-24T06:58:41.607359700Z"
    }
   },
   "id": "a7885bcdb98d0d76",
   "execution_count": 3
  },
  {
   "cell_type": "code",
   "outputs": [
    {
     "name": "stdout",
     "output_type": "stream",
     "text": [
      "  label  score\n",
      "0     A      1\n",
      "1     B      1\n",
      "2     A      2\n",
      "3     B      2\n",
      "4     A      3\n",
      "5     B      3\n"
     ]
    }
   ],
   "source": [
    "sql = \"\"\"\n",
    "SELECT *\n",
    "FROM T1\n",
    "CROSS JOIN T2;\n",
    "\"\"\"\n",
    "\n",
    "run_sql(cursor, sql)"
   ],
   "metadata": {
    "collapsed": false,
    "ExecuteTime": {
     "end_time": "2024-01-24T06:58:43.362625300Z",
     "start_time": "2024-01-24T06:58:43.349184100Z"
    }
   },
   "id": "be0d4e95024430f0",
   "execution_count": 4
  }
 ],
 "metadata": {
  "kernelspec": {
   "display_name": "Python 3",
   "language": "python",
   "name": "python3"
  },
  "language_info": {
   "codemirror_mode": {
    "name": "ipython",
    "version": 2
   },
   "file_extension": ".py",
   "mimetype": "text/x-python",
   "name": "python",
   "nbconvert_exporter": "python",
   "pygments_lexer": "ipython2",
   "version": "2.7.6"
  }
 },
 "nbformat": 4,
 "nbformat_minor": 5
}
