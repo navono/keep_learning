{
 "cells": [
  {
   "cell_type": "code",
   "id": "initial_id",
   "metadata": {
    "collapsed": true,
    "ExecuteTime": {
     "end_time": "2024-04-30T00:09:01.367809Z",
     "start_time": "2024-04-30T00:09:01.341151Z"
    }
   },
   "source": [
    "from common import *\n",
    "\n",
    "cursor = connect()"
   ],
   "outputs": [],
   "execution_count": 14
  },
  {
   "metadata": {},
   "cell_type": "markdown",
   "source": [
    "# 视图\n",
    "\n",
    "视图是存储在 PostgreSQL 数据库服务器中的命名查询。视图是基于一个或多个称为基表的表来定义的，定义视图的查询称为定义查询。创建视图后，可以像查询普通表一样查询视图中的数据。在幕后，PostgreSQL 会根据视图及其定义查询重写查询，执行查询后从基础表中获取数据。\n",
    "\n",
    "除 `materialized views` 外，视图不存储数据。在 PostgreSQL 中，您可以创建称为物化视图的特殊视图，这些视图以物理方式存储数据，并定期从基础表中刷新数据。`materialized views` 在各种情况下都很方便，它能更快地访问远程服务器上的数据，并作为一种有效的缓存机制。\n",
    "\n",
    "## 优点\n",
    "- 简化复杂查询（Simplifying complex queries）\n",
    "- 安全和访问控制（Security and access control）\n",
    "- 逻辑数据独立性（Logical data independence）"
   ],
   "id": "dee8d6ba6b74f1b2"
  },
  {
   "metadata": {},
   "cell_type": "markdown",
   "source": [
    "# Create view\n",
    "\n",
    "语法\n",
    "```\n",
    "CREATE VIEW view_name \n",
    "AS \n",
    "  query;\n",
    "```"
   ],
   "id": "3f2f4a5d9d337122"
  },
  {
   "metadata": {},
   "cell_type": "markdown",
   "source": "## Basic view",
   "id": "e1c50c5a5eec0cee"
  },
  {
   "metadata": {
    "ExecuteTime": {
     "end_time": "2024-04-25T11:31:07.071643Z",
     "start_time": "2024-04-25T11:31:07.058687Z"
    }
   },
   "cell_type": "code",
   "source": [
    "sql = \"\"\"\n",
    "CREATE VIEW contact AS \n",
    "SELECT \n",
    "  first_name, \n",
    "  last_name, \n",
    "  email \n",
    "FROM \n",
    "  customer;\n",
    "\"\"\"\n",
    "cursor.execute(sql)"
   ],
   "id": "77abda064271249b",
   "outputs": [
    {
     "data": {
      "text/plain": [
       "<psycopg.Cursor [COMMAND_OK] [INTRANS] (host=localhost user=postgres database=dvdrental) at 0x1356441d3d0>"
      ]
     },
     "execution_count": 2,
     "metadata": {},
     "output_type": "execute_result"
    }
   ],
   "execution_count": 2
  },
  {
   "metadata": {
    "ExecuteTime": {
     "end_time": "2024-04-25T11:31:08.837599Z",
     "start_time": "2024-04-25T11:31:08.829256Z"
    }
   },
   "cell_type": "code",
   "source": [
    "sql = \"\"\"\n",
    "SELECT * FROM contact;\n",
    "\"\"\"\n",
    "run_sql(cursor, sql)"
   ],
   "id": "b848817741ec6e34",
   "outputs": [
    {
     "name": "stdout",
     "output_type": "stream",
     "text": [
      "    first_name  last_name                                  email\n",
      "0        Jared        Ely           jared.ely@sakilacustomer.org\n",
      "1         Mary      Smith          mary.smith@sakilacustomer.org\n",
      "2     Patricia    Johnson    patricia.johnson@sakilacustomer.org\n",
      "3        Linda   Williams      linda.williams@sakilacustomer.org\n",
      "4      Barbara      Jones       barbara.jones@sakilacustomer.org\n",
      "..         ...        ...                                    ...\n",
      "594   Terrence  Gunderson  terrence.gunderson@sakilacustomer.org\n",
      "595    Enrique   Forsythe    enrique.forsythe@sakilacustomer.org\n",
      "596    Freddie     Duggan      freddie.duggan@sakilacustomer.org\n",
      "597       Wade   Delvalle       wade.delvalle@sakilacustomer.org\n",
      "598     Austin    Cintron      austin.cintron@sakilacustomer.org\n",
      "\n",
      "[599 rows x 3 columns]\n"
     ]
    }
   ],
   "execution_count": 3
  },
  {
   "metadata": {},
   "cell_type": "markdown",
   "source": "## Complex query",
   "id": "e82171be4c4cee79"
  },
  {
   "metadata": {
    "ExecuteTime": {
     "end_time": "2024-04-25T11:31:50.545232Z",
     "start_time": "2024-04-25T11:31:50.538821Z"
    }
   },
   "cell_type": "code",
   "source": [
    "sql = \"\"\"\n",
    "CREATE VIEW customer_info AS \n",
    "SELECT \n",
    "  first_name, \n",
    "  last_name, \n",
    "  email, \n",
    "  phone, \n",
    "  city, \n",
    "  postal_code,\n",
    "  country\n",
    "FROM \n",
    "  customer \n",
    "  INNER JOIN address USING (address_id) \n",
    "  INNER JOIN city USING (city_id) \n",
    "  INNER JOIN country USING (country_id);\n",
    "\"\"\"\n",
    "cursor.execute(sql)"
   ],
   "id": "39740f2104599f57",
   "outputs": [
    {
     "data": {
      "text/plain": [
       "<psycopg.Cursor [COMMAND_OK] [INTRANS] (host=localhost user=postgres database=dvdrental) at 0x1356441d3d0>"
      ]
     },
     "execution_count": 4,
     "metadata": {},
     "output_type": "execute_result"
    }
   ],
   "execution_count": 4
  },
  {
   "metadata": {
    "ExecuteTime": {
     "end_time": "2024-04-25T11:31:52.356115Z",
     "start_time": "2024-04-25T11:31:52.347985Z"
    }
   },
   "cell_type": "code",
   "source": [
    "sql = \"\"\"\n",
    "SELECT * FROM customer_info;\n",
    "\"\"\"\n",
    "run_sql(cursor, sql)"
   ],
   "id": "3ffb1a52f8714049",
   "outputs": [
    {
     "name": "stdout",
     "output_type": "stream",
     "text": [
      "    first_name  last_name                                  email  \\\n",
      "0        Jared        Ely           jared.ely@sakilacustomer.org   \n",
      "1         Mary      Smith          mary.smith@sakilacustomer.org   \n",
      "2     Patricia    Johnson    patricia.johnson@sakilacustomer.org   \n",
      "3        Linda   Williams      linda.williams@sakilacustomer.org   \n",
      "4      Barbara      Jones       barbara.jones@sakilacustomer.org   \n",
      "..         ...        ...                                    ...   \n",
      "594   Terrence  Gunderson  terrence.gunderson@sakilacustomer.org   \n",
      "595    Enrique   Forsythe    enrique.forsythe@sakilacustomer.org   \n",
      "596    Freddie     Duggan      freddie.duggan@sakilacustomer.org   \n",
      "597       Wade   Delvalle       wade.delvalle@sakilacustomer.org   \n",
      "598     Austin    Cintron      austin.cintron@sakilacustomer.org   \n",
      "\n",
      "            phone            city postal_code        country  \n",
      "0     35533115997      Purwakarta       25972      Indonesia  \n",
      "1     28303384290          Sasebo       35200          Japan  \n",
      "2    838635286649  San Bernardino       17886  United States  \n",
      "3    448477190408         Athenai       83579         Greece  \n",
      "4    705814003527        Myingyan       53561        Myanmar  \n",
      "..            ...             ...         ...            ...  \n",
      "594  935952366111         Jinzhou       36603          China  \n",
      "595  199514580428          Patras       97661         Greece  \n",
      "596  644021380889         Sullana       52137           Peru  \n",
      "597  145308717464        Lausanne       61960    Switzerland  \n",
      "598  288241215394           Tieli       27107          China  \n",
      "\n",
      "[599 rows x 7 columns]\n"
     ]
    }
   ],
   "execution_count": 5
  },
  {
   "metadata": {},
   "cell_type": "markdown",
   "source": "## 基于其他视图",
   "id": "f7bd0e35f2f5ae93"
  },
  {
   "metadata": {
    "ExecuteTime": {
     "end_time": "2024-04-25T11:33:36.894692Z",
     "start_time": "2024-04-25T11:33:36.890010Z"
    }
   },
   "cell_type": "code",
   "source": [
    "sql = \"\"\"\n",
    "CREATE VIEW customer_usa \n",
    "AS \n",
    "SELECT \n",
    "  * \n",
    "FROM \n",
    "  customer_info \n",
    "WHERE \n",
    "  country = 'United States';\n",
    "\"\"\"\n",
    "cursor.execute(sql)"
   ],
   "id": "bb55b8c33345ed97",
   "outputs": [
    {
     "data": {
      "text/plain": [
       "<psycopg.Cursor [COMMAND_OK] [INTRANS] (host=localhost user=postgres database=dvdrental) at 0x1356441d3d0>"
      ]
     },
     "execution_count": 6,
     "metadata": {},
     "output_type": "execute_result"
    }
   ],
   "execution_count": 6
  },
  {
   "metadata": {
    "ExecuteTime": {
     "end_time": "2024-04-25T11:33:38.497992Z",
     "start_time": "2024-04-25T11:33:38.492924Z"
    }
   },
   "cell_type": "code",
   "source": [
    "sql = \"\"\"\n",
    "SELECT * FROM customer_usa;\n",
    "\"\"\"\n",
    "run_sql(cursor, sql)"
   ],
   "id": "a06021a1bc77e65c",
   "outputs": [
    {
     "name": "stdout",
     "output_type": "stream",
     "text": [
      "   first_name   last_name                                 email         phone  \\\n",
      "0     Zachary        Hite       zachary.hite@sakilacustomer.org  191958435142   \n",
      "1     Richard     Mccrary    richard.mccrary@sakilacustomer.org  262088367001   \n",
      "2       Diana   Alexander    diana.alexander@sakilacustomer.org    6171054059   \n",
      "3       Scott     Shelley      scott.shelley@sakilacustomer.org  165450987037   \n",
      "4     Clinton      Buford     clinton.buford@sakilacustomer.org  484500282381   \n",
      "5       Wilma    Richards     wilma.richards@sakilacustomer.org  168758068397   \n",
      "6     Valerie       Black      valerie.black@sakilacustomer.org  885899703621   \n",
      "7        Karl        Seal          karl.seal@sakilacustomer.org  214756839122   \n",
      "8       Betty       White        betty.white@sakilacustomer.org  517338314235   \n",
      "9         Eva       Ramos          eva.ramos@sakilacustomer.org    9099941466   \n",
      "10      Renee        Lane         renee.lane@sakilacustomer.org  662227486184   \n",
      "11      Bryan    Hardison     bryan.hardison@sakilacustomer.org  775235029633   \n",
      "12     Shelly       Watts       shelly.watts@sakilacustomer.org  967274728547   \n",
      "13      Jacob       Lance        jacob.lance@sakilacustomer.org  546793516940   \n",
      "14      Alice     Stewart      alice.stewart@sakilacustomer.org  171822533480   \n",
      "15       Rene   Mcalister     rene.mcalister@sakilacustomer.org  137809746111   \n",
      "16        Ian       Still          ian.still@sakilacustomer.org  239357986667   \n",
      "17        Kim        Cruz           kim.cruz@sakilacustomer.org  909029256431   \n",
      "18   Veronica       Stone     veronica.stone@sakilacustomer.org  170117068815   \n",
      "19  Nathaniel        Adam     nathaniel.adam@sakilacustomer.org  111177206479   \n",
      "20     Thomas     Grigsby     thomas.grigsby@sakilacustomer.org  983259819766   \n",
      "21       Rosa    Reynolds      rosa.reynolds@sakilacustomer.org  824370924746   \n",
      "22   Jennifer       Davis     jennifer.davis@sakilacustomer.org  860452626434   \n",
      "23     Ashley  Richardson  ashley.richardson@sakilacustomer.org  491001136577   \n",
      "24     Victor     Barkley     victor.barkley@sakilacustomer.org  486395999608   \n",
      "25        Ana     Bradley        ana.bradley@sakilacustomer.org   72136330362   \n",
      "26     Carole     Barnett     carole.barnett@sakilacustomer.org  874337098891   \n",
      "27       Toni        Holt          toni.holt@sakilacustomer.org  976798660411   \n",
      "28       Bill       Gavin         bill.gavin@sakilacustomer.org  924663855568   \n",
      "29       Joan      Cooper        joan.cooper@sakilacustomer.org  914090181665   \n",
      "30  Cassandra     Walters  cassandra.walters@sakilacustomer.org  685010736240   \n",
      "31   Patricia     Johnson   patricia.johnson@sakilacustomer.org  838635286649   \n",
      "32      Jamie        Rice         jamie.rice@sakilacustomer.org  206841104594   \n",
      "33    Kristin    Johnston   kristin.johnston@sakilacustomer.org  785881412500   \n",
      "34   Caroline      Bowman    caroline.bowman@sakilacustomer.org  435785045362   \n",
      "35     Brandy      Graves      brandy.graves@sakilacustomer.org   75975221996   \n",
      "\n",
      "                       city postal_code        country  \n",
      "0                     Akron       88749  United States  \n",
      "1                 Arlington       42141  United States  \n",
      "2   Augusta-Richmond County       30695  United States  \n",
      "3                    Aurora       91590  United States  \n",
      "4                    Aurora       79814  United States  \n",
      "5                  Bellevue       25053  United States  \n",
      "6                  Brockton       25545  United States  \n",
      "7                Cape Coral       31342  United States  \n",
      "8            Citrus Heights       16266  United States  \n",
      "9               Clarksville       13377  United States  \n",
      "10                  Compton        8862  United States  \n",
      "11                   Dallas       11067  United States  \n",
      "12                   Dayton       38834  United States  \n",
      "13                 El Monte       89420  United States  \n",
      "14                  Fontana       48150  United States  \n",
      "15             Garden Grove       36693  United States  \n",
      "16                  Garland       77464  United States  \n",
      "17            Grand Prairie       78625  United States  \n",
      "18               Greensboro       66639  United States  \n",
      "19                   Joliet       37469  United States  \n",
      "20              Kansas City        9668  United States  \n",
      "21                Lancaster       87057  United States  \n",
      "22                   Laredo       18743  United States  \n",
      "23                  Lincoln       67055  United States  \n",
      "24               Manchester       25007  United States  \n",
      "25                  Memphis       67497  United States  \n",
      "26                   Peoria       89502  United States  \n",
      "27                  Roanoke       61195  United States  \n",
      "28                 Rockford       83183  United States  \n",
      "29              Saint Louis       85505  United States  \n",
      "30                  Salinas       75090  United States  \n",
      "31           San Bernardino       17886  United States  \n",
      "32         Sterling Heights       90732  United States  \n",
      "33                Sunnyvale        2299  United States  \n",
      "34              Tallahassee       57338  United States  \n",
      "35                   Warren       24645  United States  \n"
     ]
    }
   ],
   "execution_count": 7
  },
  {
   "metadata": {},
   "cell_type": "markdown",
   "source": "## Replace a view",
   "id": "b4b17080417c6073"
  },
  {
   "metadata": {
    "ExecuteTime": {
     "end_time": "2024-04-25T11:34:32.853069Z",
     "start_time": "2024-04-25T11:34:32.849908Z"
    }
   },
   "cell_type": "code",
   "source": [
    "sql = \"\"\"\n",
    "CREATE OR REPLACE VIEW contact AS \n",
    "SELECT \n",
    "  first_name, \n",
    "  last_name, \n",
    "  email,\n",
    "  phone\n",
    "FROM \n",
    "  customer\n",
    "INNER JOIN address USING (address_id);\n",
    "\"\"\"\n",
    "cursor.execute(sql)"
   ],
   "id": "586a9aed97cbfad3",
   "outputs": [
    {
     "data": {
      "text/plain": [
       "<psycopg.Cursor [COMMAND_OK] [INTRANS] (host=localhost user=postgres database=dvdrental) at 0x1356441d3d0>"
      ]
     },
     "execution_count": 8,
     "metadata": {},
     "output_type": "execute_result"
    }
   ],
   "execution_count": 8
  },
  {
   "metadata": {
    "ExecuteTime": {
     "end_time": "2024-04-25T11:34:34.618551Z",
     "start_time": "2024-04-25T11:34:34.613534Z"
    }
   },
   "cell_type": "code",
   "source": [
    "sql = \"\"\"\n",
    "SELECT * FROM contact;\n",
    "\"\"\"\n",
    "run_sql(cursor, sql)"
   ],
   "id": "da3ab72e6b40c719",
   "outputs": [
    {
     "name": "stdout",
     "output_type": "stream",
     "text": [
      "    first_name  last_name                                  email         phone\n",
      "0        Jared        Ely           jared.ely@sakilacustomer.org   35533115997\n",
      "1         Mary      Smith          mary.smith@sakilacustomer.org   28303384290\n",
      "2     Patricia    Johnson    patricia.johnson@sakilacustomer.org  838635286649\n",
      "3        Linda   Williams      linda.williams@sakilacustomer.org  448477190408\n",
      "4      Barbara      Jones       barbara.jones@sakilacustomer.org  705814003527\n",
      "..         ...        ...                                    ...           ...\n",
      "594   Terrence  Gunderson  terrence.gunderson@sakilacustomer.org  935952366111\n",
      "595    Enrique   Forsythe    enrique.forsythe@sakilacustomer.org  199514580428\n",
      "596    Freddie     Duggan      freddie.duggan@sakilacustomer.org  644021380889\n",
      "597       Wade   Delvalle       wade.delvalle@sakilacustomer.org  145308717464\n",
      "598     Austin    Cintron      austin.cintron@sakilacustomer.org  288241215394\n",
      "\n",
      "[599 rows x 4 columns]\n"
     ]
    }
   ],
   "execution_count": 9
  },
  {
   "metadata": {},
   "cell_type": "markdown",
   "source": [
    "# Drop view\n",
    "\n",
    "语法\n",
    "```\n",
    "DROP VIEW [IF EXISTS] view_name \n",
    "[CASCADE | RESTRICT];\n",
    "```\n",
    "\n",
    "删除多个视图\n",
    "```\n",
    "DROP VIEW [IF EXISTS] view_name1, view_name2, ...\n",
    "[CASCADE | RESTRICT];\n",
    "```"
   ],
   "id": "d08c1412b5875601"
  },
  {
   "metadata": {
    "ExecuteTime": {
     "end_time": "2024-04-25T11:38:21.427736Z",
     "start_time": "2024-04-25T11:38:21.417486Z"
    }
   },
   "cell_type": "code",
   "source": [
    "sql = \"\"\"\n",
    "CREATE VIEW film_info AS \n",
    "SELECT \n",
    "  film_id, \n",
    "  title, \n",
    "  release_year, \n",
    "  length, \n",
    "  name category \n",
    "FROM \n",
    "  film \n",
    "  INNER JOIN film_category USING (film_id) \n",
    "  INNER JOIN category USING(category_id);\n",
    "\n",
    "\n",
    "CREATE VIEW horror_film AS \n",
    "SELECT \n",
    "  film_id, \n",
    "  title, \n",
    "  release_year, \n",
    "  length \n",
    "FROM \n",
    "  film_info \n",
    "WHERE \n",
    "  category = 'Horror';\n",
    "\n",
    "\n",
    "CREATE VIEW comedy_film AS \n",
    "SELECT \n",
    "  film_id, \n",
    "  title, \n",
    "  release_year, \n",
    "  length \n",
    "FROM \n",
    "  film_info \n",
    "WHERE \n",
    "  category = 'Comedy';\n",
    "\n",
    "\n",
    "CREATE VIEW film_category_stat AS \n",
    "SELECT \n",
    "  name, \n",
    "  COUNT(film_id) \n",
    "FROM \n",
    "  category \n",
    "  INNER JOIN film_category USING (category_id) \n",
    "  INNER JOIN film USING (film_id) \n",
    "GROUP BY \n",
    "  name;\n",
    "\n",
    "\n",
    "CREATE VIEW film_length_stat AS \n",
    "SELECT \n",
    "  name, \n",
    "  SUM(length) film_length \n",
    "FROM \n",
    "  category \n",
    "  INNER JOIN film_category USING (category_id) \n",
    "  INNER JOIN film USING (film_id) \n",
    "GROUP BY \n",
    "  name;\n",
    "\"\"\"\n",
    "cursor.execute(sql)"
   ],
   "id": "5050b413ee6e0b32",
   "outputs": [
    {
     "data": {
      "text/plain": [
       "<psycopg.Cursor [COMMAND_OK] [INTRANS] (host=localhost user=postgres database=dvdrental) at 0x13565129cd0>"
      ]
     },
     "execution_count": 15,
     "metadata": {},
     "output_type": "execute_result"
    }
   ],
   "execution_count": 15
  },
  {
   "metadata": {
    "ExecuteTime": {
     "end_time": "2024-04-25T11:37:45.673682Z",
     "start_time": "2024-04-25T11:37:45.522737Z"
    }
   },
   "cell_type": "code",
   "source": [
    "sql = \"\"\"\n",
    "DROP VIEW comedy_film;\n",
    "\"\"\"\n",
    "cursor.execute(sql)"
   ],
   "id": "34678e9c861c1f93",
   "outputs": [
    {
     "ename": "ProgrammingError",
     "evalue": "the last operation didn't produce a result",
     "output_type": "error",
     "traceback": [
      "\u001B[1;31m---------------------------------------------------------------------------\u001B[0m",
      "\u001B[1;31mProgrammingError\u001B[0m                          Traceback (most recent call last)",
      "Cell \u001B[1;32mIn[11], line 4\u001B[0m\n\u001B[0;32m      1\u001B[0m sql \u001B[38;5;241m=\u001B[39m \u001B[38;5;124m\"\"\"\u001B[39m\n\u001B[0;32m      2\u001B[0m \u001B[38;5;124mDROP VIEW comedy_film;\u001B[39m\n\u001B[0;32m      3\u001B[0m \u001B[38;5;124m\"\"\"\u001B[39m\n\u001B[1;32m----> 4\u001B[0m \u001B[43mrun_sql\u001B[49m\u001B[43m(\u001B[49m\u001B[43mcursor\u001B[49m\u001B[43m,\u001B[49m\u001B[43m \u001B[49m\u001B[43msql\u001B[49m\u001B[43m)\u001B[49m\n",
      "File \u001B[1;32mE:\\sourcecode\\keep_learning\\common\\pg_common.py:30\u001B[0m, in \u001B[0;36mrun_sql\u001B[1;34m(cursor, sql_stat)\u001B[0m\n\u001B[0;32m     28\u001B[0m \u001B[38;5;28;01mdef\u001B[39;00m \u001B[38;5;21mrun_sql\u001B[39m(cursor, sql_stat):\n\u001B[0;32m     29\u001B[0m     cursor\u001B[38;5;241m.\u001B[39mexecute(sql_stat)\n\u001B[1;32m---> 30\u001B[0m     \u001B[43mdisplay_data\u001B[49m\u001B[43m(\u001B[49m\u001B[43mcursor\u001B[49m\u001B[43m)\u001B[49m\n",
      "File \u001B[1;32mE:\\sourcecode\\keep_learning\\common\\pg_common.py:39\u001B[0m, in \u001B[0;36mdisplay_data\u001B[1;34m(cursor)\u001B[0m\n\u001B[0;32m     38\u001B[0m \u001B[38;5;28;01mdef\u001B[39;00m \u001B[38;5;21mdisplay_data\u001B[39m(cursor):\n\u001B[1;32m---> 39\u001B[0m     data \u001B[38;5;241m=\u001B[39m \u001B[43mcursor\u001B[49m\u001B[38;5;241;43m.\u001B[39;49m\u001B[43mfetchall\u001B[49m\u001B[43m(\u001B[49m\u001B[43m)\u001B[49m\n\u001B[0;32m     40\u001B[0m     col_names \u001B[38;5;241m=\u001B[39m [desc[\u001B[38;5;241m0\u001B[39m] \u001B[38;5;28;01mfor\u001B[39;00m desc \u001B[38;5;129;01min\u001B[39;00m cursor\u001B[38;5;241m.\u001B[39mdescription]\n\u001B[0;32m     42\u001B[0m     df \u001B[38;5;241m=\u001B[39m pd\u001B[38;5;241m.\u001B[39mDataFrame(data, columns\u001B[38;5;241m=\u001B[39mcol_names)\n",
      "File \u001B[1;32mE:\\sourcecode\\keep_learning\\.venv\\Lib\\site-packages\\psycopg\\cursor.py:857\u001B[0m, in \u001B[0;36mCursor.fetchall\u001B[1;34m(self)\u001B[0m\n\u001B[0;32m    851\u001B[0m \u001B[38;5;250m\u001B[39m\u001B[38;5;124;03m\"\"\"\u001B[39;00m\n\u001B[0;32m    852\u001B[0m \u001B[38;5;124;03mReturn all the remaining records from the current recordset.\u001B[39;00m\n\u001B[0;32m    853\u001B[0m \n\u001B[0;32m    854\u001B[0m \u001B[38;5;124;03m:rtype: Sequence[Row], with Row defined by `row_factory`\u001B[39;00m\n\u001B[0;32m    855\u001B[0m \u001B[38;5;124;03m\"\"\"\u001B[39;00m\n\u001B[0;32m    856\u001B[0m \u001B[38;5;28mself\u001B[39m\u001B[38;5;241m.\u001B[39m_fetch_pipeline()\n\u001B[1;32m--> 857\u001B[0m \u001B[38;5;28;43mself\u001B[39;49m\u001B[38;5;241;43m.\u001B[39;49m\u001B[43m_check_result_for_fetch\u001B[49m\u001B[43m(\u001B[49m\u001B[43m)\u001B[49m\n\u001B[0;32m    858\u001B[0m \u001B[38;5;28;01massert\u001B[39;00m \u001B[38;5;28mself\u001B[39m\u001B[38;5;241m.\u001B[39mpgresult\n\u001B[0;32m    859\u001B[0m records \u001B[38;5;241m=\u001B[39m \u001B[38;5;28mself\u001B[39m\u001B[38;5;241m.\u001B[39m_tx\u001B[38;5;241m.\u001B[39mload_rows(\u001B[38;5;28mself\u001B[39m\u001B[38;5;241m.\u001B[39m_pos, \u001B[38;5;28mself\u001B[39m\u001B[38;5;241m.\u001B[39mpgresult\u001B[38;5;241m.\u001B[39mntuples, \u001B[38;5;28mself\u001B[39m\u001B[38;5;241m.\u001B[39m_make_row)\n",
      "File \u001B[1;32mE:\\sourcecode\\keep_learning\\.venv\\Lib\\site-packages\\psycopg\\cursor.py:621\u001B[0m, in \u001B[0;36mBaseCursor._check_result_for_fetch\u001B[1;34m(self)\u001B[0m\n\u001B[0;32m    619\u001B[0m     \u001B[38;5;28;01mraise\u001B[39;00m e\u001B[38;5;241m.\u001B[39mPipelineAborted(\u001B[38;5;124m\"\u001B[39m\u001B[38;5;124mpipeline aborted\u001B[39m\u001B[38;5;124m\"\u001B[39m)\n\u001B[0;32m    620\u001B[0m \u001B[38;5;28;01melse\u001B[39;00m:\n\u001B[1;32m--> 621\u001B[0m     \u001B[38;5;28;01mraise\u001B[39;00m e\u001B[38;5;241m.\u001B[39mProgrammingError(\u001B[38;5;124m\"\u001B[39m\u001B[38;5;124mthe last operation didn\u001B[39m\u001B[38;5;124m'\u001B[39m\u001B[38;5;124mt produce a result\u001B[39m\u001B[38;5;124m\"\u001B[39m)\n",
      "\u001B[1;31mProgrammingError\u001B[0m: the last operation didn't produce a result"
     ]
    }
   ],
   "execution_count": 11
  },
  {
   "metadata": {
    "ExecuteTime": {
     "end_time": "2024-04-25T11:38:01.279593Z",
     "start_time": "2024-04-25T11:38:01.268932Z"
    }
   },
   "cell_type": "code",
   "source": [
    "sql = \"\"\"\n",
    "DROP VIEW film_info;\n",
    "\"\"\"\n",
    "cursor.execute(sql)"
   ],
   "id": "c72a69418694a2ce",
   "outputs": [
    {
     "ename": "DependentObjectsStillExist",
     "evalue": "无法删除 视图 film_info 因为有其它对象倚赖它\nDETAIL:  视图 horror_film 倚赖于 视图 film_info\nHINT:  使用 DROP .. CASCADE 把倚赖对象一并删除.",
     "output_type": "error",
     "traceback": [
      "\u001B[1;31m---------------------------------------------------------------------------\u001B[0m",
      "\u001B[1;31mDependentObjectsStillExist\u001B[0m                Traceback (most recent call last)",
      "Cell \u001B[1;32mIn[12], line 4\u001B[0m\n\u001B[0;32m      1\u001B[0m sql \u001B[38;5;241m=\u001B[39m \u001B[38;5;124m\"\"\"\u001B[39m\n\u001B[0;32m      2\u001B[0m \u001B[38;5;124mDROP VIEW film_info;\u001B[39m\n\u001B[0;32m      3\u001B[0m \u001B[38;5;124m\"\"\"\u001B[39m\n\u001B[1;32m----> 4\u001B[0m \u001B[43mcursor\u001B[49m\u001B[38;5;241;43m.\u001B[39;49m\u001B[43mexecute\u001B[49m\u001B[43m(\u001B[49m\u001B[43msql\u001B[49m\u001B[43m)\u001B[49m\n",
      "File \u001B[1;32mE:\\sourcecode\\keep_learning\\.venv\\Lib\\site-packages\\psycopg\\cursor.py:732\u001B[0m, in \u001B[0;36mCursor.execute\u001B[1;34m(self, query, params, prepare, binary)\u001B[0m\n\u001B[0;32m    728\u001B[0m         \u001B[38;5;28mself\u001B[39m\u001B[38;5;241m.\u001B[39m_conn\u001B[38;5;241m.\u001B[39mwait(\n\u001B[0;32m    729\u001B[0m             \u001B[38;5;28mself\u001B[39m\u001B[38;5;241m.\u001B[39m_execute_gen(query, params, prepare\u001B[38;5;241m=\u001B[39mprepare, binary\u001B[38;5;241m=\u001B[39mbinary)\n\u001B[0;32m    730\u001B[0m         )\n\u001B[0;32m    731\u001B[0m \u001B[38;5;28;01mexcept\u001B[39;00m e\u001B[38;5;241m.\u001B[39m_NO_TRACEBACK \u001B[38;5;28;01mas\u001B[39;00m ex:\n\u001B[1;32m--> 732\u001B[0m     \u001B[38;5;28;01mraise\u001B[39;00m ex\u001B[38;5;241m.\u001B[39mwith_traceback(\u001B[38;5;28;01mNone\u001B[39;00m)\n\u001B[0;32m    733\u001B[0m \u001B[38;5;28;01mreturn\u001B[39;00m \u001B[38;5;28mself\u001B[39m\n",
      "\u001B[1;31mDependentObjectsStillExist\u001B[0m: 无法删除 视图 film_info 因为有其它对象倚赖它\nDETAIL:  视图 horror_film 倚赖于 视图 film_info\nHINT:  使用 DROP .. CASCADE 把倚赖对象一并删除."
     ]
    }
   ],
   "execution_count": 12
  },
  {
   "metadata": {
    "ExecuteTime": {
     "end_time": "2024-04-25T11:38:23.438159Z",
     "start_time": "2024-04-25T11:38:23.433432Z"
    }
   },
   "cell_type": "code",
   "source": [
    "sql = \"\"\"\n",
    "DROP VIEW film_info\n",
    "CASCADE;\n",
    "\"\"\"\n",
    "cursor.execute(sql)"
   ],
   "id": "4bf97cf1c9cfae75",
   "outputs": [
    {
     "name": "stdout",
     "output_type": "stream",
     "text": [
      "串联删除2个其它对象\n"
     ]
    },
    {
     "data": {
      "text/plain": [
       "<psycopg.Cursor [COMMAND_OK] [INTRANS] (host=localhost user=postgres database=dvdrental) at 0x13565129cd0>"
      ]
     },
     "execution_count": 16,
     "metadata": {},
     "output_type": "execute_result"
    }
   ],
   "execution_count": 16
  },
  {
   "metadata": {
    "ExecuteTime": {
     "end_time": "2024-04-25T11:38:33.753192Z",
     "start_time": "2024-04-25T11:38:33.748909Z"
    }
   },
   "cell_type": "code",
   "source": [
    "sql = \"\"\"\n",
    "DROP VIEW film_length_stat, film_category_stat;\n",
    "\"\"\"\n",
    "cursor.execute(sql)"
   ],
   "id": "5bf77aa53b4e4bc2",
   "outputs": [
    {
     "data": {
      "text/plain": [
       "<psycopg.Cursor [COMMAND_OK] [INTRANS] (host=localhost user=postgres database=dvdrental) at 0x13565129cd0>"
      ]
     },
     "execution_count": 17,
     "metadata": {},
     "output_type": "execute_result"
    }
   ],
   "execution_count": 17
  },
  {
   "metadata": {},
   "cell_type": "markdown",
   "source": [
    "# Updatable views\n",
    "\n",
    "用于修改底层表中的数据。要使视图可更新，必须满足以下条件：\n",
    "- 首先，视图的定义查询必须在 FROM 子句中包含一个条目，这个条目可以是一个表，也可以是另一个可更新的视图。\n",
    "- 其次，定义查询的顶级子句不得包含以下子句之一：\n",
    "    - GROUP BY\n",
    "    - HAVING\n",
    "    - LIMIT\n",
    "    - DISTINCT\n",
    "    - OFFSET FETCH\n",
    "    - WITH\n",
    "    - UNION\n",
    "    - INTERSECT\n",
    "    - EXCEPT\n",
    "- 最后，定义查询的选择列表中不能包含任何内容：\n",
    "    - Windows functions\n",
    "    - Set-returning functions\n",
    "    - Aggregate functions\n",
    "\n",
    "\n",
    "对可更新视图执行 INSERT、UPDATE 或 DELETE 等修改语句时，PostgreSQL 会将该语句转换为底层表的相应语句。如果在视图的定义查询中设置了 WHERE 条件，则仍然可以通过视图更新或删除不可见的记录。不过，如果想避免这种情况，可以使用 WITH CHECK 选项来定义视图。"
   ],
   "id": "fb76bc8f25e7f09f"
  },
  {
   "metadata": {
    "ExecuteTime": {
     "end_time": "2024-04-25T23:41:38.867467Z",
     "start_time": "2024-04-25T23:41:38.857512Z"
    }
   },
   "cell_type": "code",
   "source": [
    "sql = \"\"\"\n",
    "CREATE TABLE cities (\n",
    "    id SERIAL PRIMARY KEY ,\n",
    "    name VARCHAR(255),\n",
    "    population INT,\n",
    "    country VARCHAR(50)\n",
    ");\n",
    "\n",
    "INSERT INTO cities (name, population, country)\n",
    "VALUES\n",
    "    ('New York', 8419600, 'US'),\n",
    "    ('Los Angeles', 3999759, 'US'),\n",
    "    ('Chicago', 2716000, 'US'),\n",
    "    ('Houston', 2323000, 'US'),\n",
    "    ('London', 8982000, 'UK'),\n",
    "    ('Manchester', 547627, 'UK'),\n",
    "    ('Birmingham', 1141816, 'UK'),\n",
    "    ('Glasgow', 633120, 'UK'),\n",
    "    ('San Francisco', 884363, 'US'),\n",
    "    ('Seattle', 744955, 'US'),\n",
    "    ('Liverpool', 498042, 'UK'),\n",
    "    ('Leeds', 789194, 'UK'),\n",
    "    ('Austin', 978908, 'US'),\n",
    "    ('Boston', 694583, 'US'),\n",
    "    ('Manchester', 547627, 'UK'),\n",
    "    ('Sheffield', 584853, 'UK'),\n",
    "    ('Philadelphia', 1584138, 'US'),\n",
    "    ('Phoenix', 1680992, 'US'),\n",
    "    ('Bristol', 463377, 'UK'),\n",
    "    ('Detroit', 673104, 'US');\n",
    "\n",
    "SELECT * FROM cities;\n",
    "\"\"\"\n",
    "cursor.execute(sql)"
   ],
   "id": "cbf9fd221e9ab8ba",
   "outputs": [
    {
     "data": {
      "text/plain": [
       "<psycopg.Cursor [COMMAND_OK] [INTRANS] (host=localhost user=postgres database=dvdrental) at 0x13565129cd0>"
      ]
     },
     "execution_count": 18,
     "metadata": {},
     "output_type": "execute_result"
    }
   ],
   "execution_count": 18
  },
  {
   "metadata": {},
   "cell_type": "markdown",
   "source": "### 创建可更新视图",
   "id": "41e712bafe7032eb"
  },
  {
   "metadata": {
    "ExecuteTime": {
     "end_time": "2024-04-25T23:42:36.682062Z",
     "start_time": "2024-04-25T23:42:36.678491Z"
    }
   },
   "cell_type": "code",
   "source": [
    "sql = \"\"\"\n",
    "CREATE VIEW city_us \n",
    "AS \n",
    "SELECT \n",
    "  * \n",
    "FROM \n",
    "  cities \n",
    "WHERE \n",
    "  country = 'US';\n",
    "\"\"\"\n",
    "cursor.execute(sql)"
   ],
   "id": "fb673f35103f7041",
   "outputs": [
    {
     "data": {
      "text/plain": [
       "<psycopg.Cursor [COMMAND_OK] [INTRANS] (host=localhost user=postgres database=dvdrental) at 0x13565129cd0>"
      ]
     },
     "execution_count": 19,
     "metadata": {},
     "output_type": "execute_result"
    }
   ],
   "execution_count": 19
  },
  {
   "metadata": {
    "ExecuteTime": {
     "end_time": "2024-04-25T23:43:05.767223Z",
     "start_time": "2024-04-25T23:43:05.763655Z"
    }
   },
   "cell_type": "code",
   "source": [
    "sql = \"\"\"\n",
    "INSERT INTO city_us(name, population, country)\n",
    "VALUES ('San Jose', 983459, 'US');\n",
    "\"\"\"\n",
    "cursor.execute(sql)"
   ],
   "id": "5c065dcefb7162ed",
   "outputs": [
    {
     "data": {
      "text/plain": [
       "<psycopg.Cursor [COMMAND_OK] [INTRANS] (host=localhost user=postgres database=dvdrental) at 0x13565129cd0>"
      ]
     },
     "execution_count": 21,
     "metadata": {},
     "output_type": "execute_result"
    }
   ],
   "execution_count": 21
  },
  {
   "metadata": {
    "ExecuteTime": {
     "end_time": "2024-04-25T23:43:08.330573Z",
     "start_time": "2024-04-25T23:43:08.317414Z"
    }
   },
   "cell_type": "code",
   "source": [
    "sql = \"\"\"\n",
    "SELECT * FROM cities\n",
    "WHERE name = 'San Jose';\n",
    "\"\"\"\n",
    "run_sql(cursor, sql)"
   ],
   "id": "b33e751fffed6616",
   "outputs": [
    {
     "name": "stdout",
     "output_type": "stream",
     "text": [
      "   id      name  population country\n",
      "0  21  San Jose      983459      US\n",
      "1  22  San Jose      983459      US\n"
     ]
    }
   ],
   "execution_count": 22
  },
  {
   "metadata": {
    "ExecuteTime": {
     "end_time": "2024-04-25T23:43:47.537515Z",
     "start_time": "2024-04-25T23:43:47.518871Z"
    }
   },
   "cell_type": "code",
   "source": [
    "sql = \"\"\"\n",
    "UPDATE city_us\n",
    "SET population = 1000000\n",
    "WHERE name = 'New York';\n",
    "\"\"\"\n",
    "cursor.execute(sql)"
   ],
   "id": "8200abf575948d21",
   "outputs": [
    {
     "ename": "ProgrammingError",
     "evalue": "the last operation didn't produce a result",
     "output_type": "error",
     "traceback": [
      "\u001B[1;31m---------------------------------------------------------------------------\u001B[0m",
      "\u001B[1;31mProgrammingError\u001B[0m                          Traceback (most recent call last)",
      "Cell \u001B[1;32mIn[23], line 6\u001B[0m\n\u001B[0;32m      1\u001B[0m sql \u001B[38;5;241m=\u001B[39m \u001B[38;5;124m\"\"\"\u001B[39m\n\u001B[0;32m      2\u001B[0m \u001B[38;5;124mUPDATE city_us\u001B[39m\n\u001B[0;32m      3\u001B[0m \u001B[38;5;124mSET population = 1000000\u001B[39m\n\u001B[0;32m      4\u001B[0m \u001B[38;5;124mWHERE name = \u001B[39m\u001B[38;5;124m'\u001B[39m\u001B[38;5;124mNew York\u001B[39m\u001B[38;5;124m'\u001B[39m\u001B[38;5;124m;\u001B[39m\n\u001B[0;32m      5\u001B[0m \u001B[38;5;124m\"\"\"\u001B[39m\n\u001B[1;32m----> 6\u001B[0m \u001B[43mrun_sql\u001B[49m\u001B[43m(\u001B[49m\u001B[43mcursor\u001B[49m\u001B[43m,\u001B[49m\u001B[43m \u001B[49m\u001B[43msql\u001B[49m\u001B[43m)\u001B[49m\n",
      "File \u001B[1;32mE:\\sourcecode\\keep_learning\\common\\pg_common.py:30\u001B[0m, in \u001B[0;36mrun_sql\u001B[1;34m(cursor, sql_stat)\u001B[0m\n\u001B[0;32m     28\u001B[0m \u001B[38;5;28;01mdef\u001B[39;00m \u001B[38;5;21mrun_sql\u001B[39m(cursor, sql_stat):\n\u001B[0;32m     29\u001B[0m     cursor\u001B[38;5;241m.\u001B[39mexecute(sql_stat)\n\u001B[1;32m---> 30\u001B[0m     \u001B[43mdisplay_data\u001B[49m\u001B[43m(\u001B[49m\u001B[43mcursor\u001B[49m\u001B[43m)\u001B[49m\n",
      "File \u001B[1;32mE:\\sourcecode\\keep_learning\\common\\pg_common.py:39\u001B[0m, in \u001B[0;36mdisplay_data\u001B[1;34m(cursor)\u001B[0m\n\u001B[0;32m     38\u001B[0m \u001B[38;5;28;01mdef\u001B[39;00m \u001B[38;5;21mdisplay_data\u001B[39m(cursor):\n\u001B[1;32m---> 39\u001B[0m     data \u001B[38;5;241m=\u001B[39m \u001B[43mcursor\u001B[49m\u001B[38;5;241;43m.\u001B[39;49m\u001B[43mfetchall\u001B[49m\u001B[43m(\u001B[49m\u001B[43m)\u001B[49m\n\u001B[0;32m     40\u001B[0m     col_names \u001B[38;5;241m=\u001B[39m [desc[\u001B[38;5;241m0\u001B[39m] \u001B[38;5;28;01mfor\u001B[39;00m desc \u001B[38;5;129;01min\u001B[39;00m cursor\u001B[38;5;241m.\u001B[39mdescription]\n\u001B[0;32m     42\u001B[0m     df \u001B[38;5;241m=\u001B[39m pd\u001B[38;5;241m.\u001B[39mDataFrame(data, columns\u001B[38;5;241m=\u001B[39mcol_names)\n",
      "File \u001B[1;32mE:\\sourcecode\\keep_learning\\.venv\\Lib\\site-packages\\psycopg\\cursor.py:857\u001B[0m, in \u001B[0;36mCursor.fetchall\u001B[1;34m(self)\u001B[0m\n\u001B[0;32m    851\u001B[0m \u001B[38;5;250m\u001B[39m\u001B[38;5;124;03m\"\"\"\u001B[39;00m\n\u001B[0;32m    852\u001B[0m \u001B[38;5;124;03mReturn all the remaining records from the current recordset.\u001B[39;00m\n\u001B[0;32m    853\u001B[0m \n\u001B[0;32m    854\u001B[0m \u001B[38;5;124;03m:rtype: Sequence[Row], with Row defined by `row_factory`\u001B[39;00m\n\u001B[0;32m    855\u001B[0m \u001B[38;5;124;03m\"\"\"\u001B[39;00m\n\u001B[0;32m    856\u001B[0m \u001B[38;5;28mself\u001B[39m\u001B[38;5;241m.\u001B[39m_fetch_pipeline()\n\u001B[1;32m--> 857\u001B[0m \u001B[38;5;28;43mself\u001B[39;49m\u001B[38;5;241;43m.\u001B[39;49m\u001B[43m_check_result_for_fetch\u001B[49m\u001B[43m(\u001B[49m\u001B[43m)\u001B[49m\n\u001B[0;32m    858\u001B[0m \u001B[38;5;28;01massert\u001B[39;00m \u001B[38;5;28mself\u001B[39m\u001B[38;5;241m.\u001B[39mpgresult\n\u001B[0;32m    859\u001B[0m records \u001B[38;5;241m=\u001B[39m \u001B[38;5;28mself\u001B[39m\u001B[38;5;241m.\u001B[39m_tx\u001B[38;5;241m.\u001B[39mload_rows(\u001B[38;5;28mself\u001B[39m\u001B[38;5;241m.\u001B[39m_pos, \u001B[38;5;28mself\u001B[39m\u001B[38;5;241m.\u001B[39mpgresult\u001B[38;5;241m.\u001B[39mntuples, \u001B[38;5;28mself\u001B[39m\u001B[38;5;241m.\u001B[39m_make_row)\n",
      "File \u001B[1;32mE:\\sourcecode\\keep_learning\\.venv\\Lib\\site-packages\\psycopg\\cursor.py:621\u001B[0m, in \u001B[0;36mBaseCursor._check_result_for_fetch\u001B[1;34m(self)\u001B[0m\n\u001B[0;32m    619\u001B[0m     \u001B[38;5;28;01mraise\u001B[39;00m e\u001B[38;5;241m.\u001B[39mPipelineAborted(\u001B[38;5;124m\"\u001B[39m\u001B[38;5;124mpipeline aborted\u001B[39m\u001B[38;5;124m\"\u001B[39m)\n\u001B[0;32m    620\u001B[0m \u001B[38;5;28;01melse\u001B[39;00m:\n\u001B[1;32m--> 621\u001B[0m     \u001B[38;5;28;01mraise\u001B[39;00m e\u001B[38;5;241m.\u001B[39mProgrammingError(\u001B[38;5;124m\"\u001B[39m\u001B[38;5;124mthe last operation didn\u001B[39m\u001B[38;5;124m'\u001B[39m\u001B[38;5;124mt produce a result\u001B[39m\u001B[38;5;124m\"\u001B[39m)\n",
      "\u001B[1;31mProgrammingError\u001B[0m: the last operation didn't produce a result"
     ]
    }
   ],
   "execution_count": 23
  },
  {
   "metadata": {
    "ExecuteTime": {
     "end_time": "2024-04-25T23:43:55.961862Z",
     "start_time": "2024-04-25T23:43:55.958646Z"
    }
   },
   "cell_type": "code",
   "source": [
    "sql = \"\"\"\n",
    "SELECT * FROM cities \n",
    "WHERE name = 'New York';\n",
    "\"\"\"\n",
    "run_sql(cursor, sql)"
   ],
   "id": "a6c4d9ae6da9cadc",
   "outputs": [
    {
     "name": "stdout",
     "output_type": "stream",
     "text": [
      "   id      name  population country\n",
      "0   1  New York     1000000      US\n"
     ]
    }
   ],
   "execution_count": 24
  },
  {
   "metadata": {},
   "cell_type": "markdown",
   "source": [
    "## WITH CHECK OPTION\n",
    "\n",
    "要确保通过视图进行的任何数据修改都符合视图定义中的某些条件，可以使用 `WITH CHECK OPTION `子句。通常，在使用 CREATE VIEW 语句创建视图时指定 `WITH CHECK OPTION`：\n",
    "```\n",
    "CREATE VIEW view_name AS\n",
    "query\n",
    "WITH CHECK OPTION;\n",
    "```\n",
    "\n",
    "Check 的范围：\n",
    "- LOCAL\n",
    "- CASCADED\n",
    "\n",
    "`LOCAL` 作用域将检查选项的执行范围限制为当前视图。它不会对当前视图所依赖的其他视图执行检查。\n",
    "```\n",
    "CREATE VIEW view_name AS\n",
    "query\n",
    "WITH LOCAL CHECK OPTION;\n",
    "```\n",
    "`CASCADED` 作用域将校验选项的执行范围扩展到当前视图的所有依赖的视图。\n",
    "```\n",
    "CREATE VIEW view_name AS\n",
    "query\n",
    "WITH CASCADED CHECK OPTION;\n",
    "```\n"
   ],
   "id": "37ef23b49cbcc542"
  },
  {
   "metadata": {},
   "cell_type": "markdown",
   "source": "### 基础例子",
   "id": "4f7dc1bd7e949ac"
  },
  {
   "metadata": {
    "ExecuteTime": {
     "end_time": "2024-04-30T00:09:18.253893Z",
     "start_time": "2024-04-30T00:09:18.241529Z"
    }
   },
   "cell_type": "code",
   "source": [
    "sql = \"\"\"\n",
    "CREATE TABLE employees (\n",
    "    id SERIAL PRIMARY KEY,\n",
    "    first_name VARCHAR(50) NOT NULL,\n",
    "    last_name VARCHAR(50) NOT NULL,\n",
    "    department_id INT,\n",
    "    employee_type VARCHAR(20) \n",
    "       CHECK (employee_type IN ('FTE', 'Contractor'))\n",
    ");\n",
    "\n",
    "INSERT INTO employees (first_name, last_name, department_id, employee_type)\n",
    "VALUES\n",
    "    ('John', 'Doe', 1, 'FTE'),\n",
    "    ('Jane', 'Smith', 2, 'FTE'),\n",
    "    ('Bob', 'Johnson', 1, 'Contractor'),\n",
    "    ('Alice', 'Williams', 3, 'FTE'),\n",
    "    ('Charlie', 'Brown', 2, 'Contractor'),\n",
    "    ('Eva', 'Jones', 1, 'FTE'),\n",
    "    ('Frank', 'Miller', 3, 'FTE'),\n",
    "    ('Grace', 'Davis', 2, 'Contractor'),\n",
    "    ('Henry', 'Clark', 1, 'FTE'),\n",
    "    ('Ivy', 'Moore', 3, 'Contractor');\n",
    "\"\"\"\n",
    "cursor.execute(sql)"
   ],
   "id": "d2608a4e2de5d826",
   "outputs": [
    {
     "data": {
      "text/plain": [
       "<psycopg.Cursor [COMMAND_OK] [INTRANS] (host=localhost port=15432 user=postgres database=dvdrental) at 0x13bc8666e50>"
      ]
     },
     "execution_count": 15,
     "metadata": {},
     "output_type": "execute_result"
    }
   ],
   "execution_count": 15
  },
  {
   "metadata": {
    "ExecuteTime": {
     "end_time": "2024-04-25T23:53:09.473574Z",
     "start_time": "2024-04-25T23:53:09.470725Z"
    }
   },
   "cell_type": "code",
   "source": [
    "sql = \"\"\"\n",
    "CREATE OR REPLACE VIEW fte AS \n",
    "SELECT \n",
    "  id, \n",
    "  first_name, \n",
    "  last_name, \n",
    "  department_id,\n",
    "  employee_type\n",
    "FROM \n",
    "  employees \n",
    "WHERE \n",
    "  employee_type = 'FTE';\n",
    "\"\"\"\n",
    "cursor.execute(sql)"
   ],
   "id": "37fc9160b803ddd9",
   "outputs": [
    {
     "data": {
      "text/plain": [
       "<psycopg.Cursor [COMMAND_OK] [INTRANS] (host=localhost user=postgres database=dvdrental) at 0x13565129cd0>"
      ]
     },
     "execution_count": 26,
     "metadata": {},
     "output_type": "execute_result"
    }
   ],
   "execution_count": 26
  },
  {
   "metadata": {
    "ExecuteTime": {
     "end_time": "2024-04-26T00:00:35.930300Z",
     "start_time": "2024-04-26T00:00:35.926543Z"
    }
   },
   "cell_type": "code",
   "source": [
    "sql = \"\"\"\n",
    "SELECT * FROM fte;\n",
    "\"\"\"\n",
    "run_sql(cursor, sql)"
   ],
   "id": "63f00de6d13c32a7",
   "outputs": [
    {
     "name": "stdout",
     "output_type": "stream",
     "text": [
      "   id first_name last_name  department_id employee_type\n",
      "0   1       John       Doe              1           FTE\n",
      "1   2       Jane     Smith              2           FTE\n",
      "2   4      Alice  Williams              3           FTE\n",
      "3   6        Eva     Jones              1           FTE\n",
      "4   7      Frank    Miller              3           FTE\n",
      "5   9      Henry     Clark              1           FTE\n"
     ]
    }
   ],
   "execution_count": 29
  },
  {
   "metadata": {
    "ExecuteTime": {
     "end_time": "2024-04-26T00:00:32.902019Z",
     "start_time": "2024-04-26T00:00:32.898420Z"
    }
   },
   "cell_type": "code",
   "source": [
    "sql = \"\"\"\n",
    "INSERT INTO fte(first_name, last_name, department_id, employee_type) \n",
    "VALUES ('John', 'Smith', 1, 'Contractor');\n",
    "\"\"\"\n",
    "cursor.execute(sql)"
   ],
   "id": "798f943815cf1a75",
   "outputs": [
    {
     "data": {
      "text/plain": [
       "<psycopg.Cursor [COMMAND_OK] [INTRANS] (host=localhost user=postgres database=dvdrental) at 0x13565129cd0>"
      ]
     },
     "execution_count": 28,
     "metadata": {},
     "output_type": "execute_result"
    }
   ],
   "execution_count": 28
  },
  {
   "metadata": {},
   "cell_type": "markdown",
   "source": "上述语句执行成功，但是数据未被插入，因为 `fte` 中的 `employee_type` 为 `FTE`，不符合 `Contractor` 的条件。因此我们可以在 `fte` 视图中加上 `WITH CHECK OPTION`。",
   "id": "acba2726107ff43f"
  },
  {
   "metadata": {
    "ExecuteTime": {
     "end_time": "2024-04-26T00:03:28.709753Z",
     "start_time": "2024-04-26T00:03:28.706441Z"
    }
   },
   "cell_type": "code",
   "source": [
    "sql = \"\"\"\n",
    "CREATE OR REPLACE VIEW fte AS \n",
    "SELECT \n",
    "  id, \n",
    "  first_name, \n",
    "  last_name, \n",
    "  department_id,\n",
    "  employee_type\n",
    "FROM \n",
    "  employees \n",
    "WHERE \n",
    "  employee_type = 'FTE'\n",
    "WITH CHECK OPTION;\n",
    "\"\"\"\n",
    "cursor.execute(sql)"
   ],
   "id": "f6bd3911af69052e",
   "outputs": [
    {
     "data": {
      "text/plain": [
       "<psycopg.Cursor [COMMAND_OK] [INTRANS] (host=localhost user=postgres database=dvdrental) at 0x13565129cd0>"
      ]
     },
     "execution_count": 30,
     "metadata": {},
     "output_type": "execute_result"
    }
   ],
   "execution_count": 30
  },
  {
   "metadata": {
    "ExecuteTime": {
     "end_time": "2024-04-26T00:03:31.704272Z",
     "start_time": "2024-04-26T00:03:31.687518Z"
    }
   },
   "cell_type": "code",
   "source": [
    "# 再次尝试插入 Contractor 失败。但是更新 fte 是可以的\n",
    "sql = \"\"\"\n",
    "INSERT INTO fte(first_name, last_name, department_id, employee_type) \n",
    "VALUES ('John', 'Snow', 1, 'Contractor');\n",
    "\"\"\"\n",
    "cursor.execute(sql)"
   ],
   "id": "35d5e835955f2feb",
   "outputs": [
    {
     "ename": "WithCheckOptionViolation",
     "evalue": "新行违反了视图\"fte\"的检查选项\nDETAIL:  失败, 行包含(12, John, Snow, 1, Contractor).",
     "output_type": "error",
     "traceback": [
      "\u001B[1;31m---------------------------------------------------------------------------\u001B[0m",
      "\u001B[1;31mWithCheckOptionViolation\u001B[0m                  Traceback (most recent call last)",
      "Cell \u001B[1;32mIn[31], line 6\u001B[0m\n\u001B[0;32m      1\u001B[0m \u001B[38;5;66;03m# 再次尝试插入 Contractor\u001B[39;00m\n\u001B[0;32m      2\u001B[0m sql \u001B[38;5;241m=\u001B[39m \u001B[38;5;124m\"\"\"\u001B[39m\n\u001B[0;32m      3\u001B[0m \u001B[38;5;124mINSERT INTO fte(first_name, last_name, department_id, employee_type) \u001B[39m\n\u001B[0;32m      4\u001B[0m \u001B[38;5;124mVALUES (\u001B[39m\u001B[38;5;124m'\u001B[39m\u001B[38;5;124mJohn\u001B[39m\u001B[38;5;124m'\u001B[39m\u001B[38;5;124m, \u001B[39m\u001B[38;5;124m'\u001B[39m\u001B[38;5;124mSnow\u001B[39m\u001B[38;5;124m'\u001B[39m\u001B[38;5;124m, 1, \u001B[39m\u001B[38;5;124m'\u001B[39m\u001B[38;5;124mContractor\u001B[39m\u001B[38;5;124m'\u001B[39m\u001B[38;5;124m);\u001B[39m\n\u001B[0;32m      5\u001B[0m \u001B[38;5;124m\"\"\"\u001B[39m\n\u001B[1;32m----> 6\u001B[0m \u001B[43mcursor\u001B[49m\u001B[38;5;241;43m.\u001B[39;49m\u001B[43mexecute\u001B[49m\u001B[43m(\u001B[49m\u001B[43msql\u001B[49m\u001B[43m)\u001B[49m\n",
      "File \u001B[1;32mE:\\sourcecode\\keep_learning\\.venv\\Lib\\site-packages\\psycopg\\cursor.py:732\u001B[0m, in \u001B[0;36mCursor.execute\u001B[1;34m(self, query, params, prepare, binary)\u001B[0m\n\u001B[0;32m    728\u001B[0m         \u001B[38;5;28mself\u001B[39m\u001B[38;5;241m.\u001B[39m_conn\u001B[38;5;241m.\u001B[39mwait(\n\u001B[0;32m    729\u001B[0m             \u001B[38;5;28mself\u001B[39m\u001B[38;5;241m.\u001B[39m_execute_gen(query, params, prepare\u001B[38;5;241m=\u001B[39mprepare, binary\u001B[38;5;241m=\u001B[39mbinary)\n\u001B[0;32m    730\u001B[0m         )\n\u001B[0;32m    731\u001B[0m \u001B[38;5;28;01mexcept\u001B[39;00m e\u001B[38;5;241m.\u001B[39m_NO_TRACEBACK \u001B[38;5;28;01mas\u001B[39;00m ex:\n\u001B[1;32m--> 732\u001B[0m     \u001B[38;5;28;01mraise\u001B[39;00m ex\u001B[38;5;241m.\u001B[39mwith_traceback(\u001B[38;5;28;01mNone\u001B[39;00m)\n\u001B[0;32m    733\u001B[0m \u001B[38;5;28;01mreturn\u001B[39;00m \u001B[38;5;28mself\u001B[39m\n",
      "\u001B[1;31mWithCheckOptionViolation\u001B[0m: 新行违反了视图\"fte\"的检查选项\nDETAIL:  失败, 行包含(12, John, Snow, 1, Contractor)."
     ]
    }
   ],
   "execution_count": 31
  },
  {
   "metadata": {},
   "cell_type": "markdown",
   "source": "### LOCAL CHECK OPTION",
   "id": "652f849988cc6890"
  },
  {
   "metadata": {
    "ExecuteTime": {
     "end_time": "2024-04-26T00:06:07.989129Z",
     "start_time": "2024-04-26T00:06:07.984564Z"
    }
   },
   "cell_type": "code",
   "source": [
    "sql = \"\"\"\n",
    "CREATE OR REPLACE VIEW fte AS \n",
    "SELECT \n",
    "  id, \n",
    "  first_name, \n",
    "  last_name, \n",
    "  department_id,\n",
    "  employee_type\n",
    "FROM \n",
    "  employees \n",
    "WHERE \n",
    "  employee_type = 'FTE';\n",
    "\n",
    "\n",
    "CREATE OR REPLACE VIEW fte_1 \n",
    "AS \n",
    "SELECT \n",
    "  id, \n",
    "  first_name, \n",
    "  last_name, \n",
    "  department_id, \n",
    "  employee_type \n",
    "FROM \n",
    "  fte \n",
    "WHERE \n",
    "  department_id = 1 \n",
    "WITH LOCAL CHECK OPTION;\n",
    "\"\"\"\n",
    "cursor.execute(sql)"
   ],
   "id": "c975501ab4036072",
   "outputs": [
    {
     "data": {
      "text/plain": [
       "<psycopg.Cursor [COMMAND_OK] [INTRANS] (host=localhost user=postgres database=dvdrental) at 0x1356512af90>"
      ]
     },
     "execution_count": 38,
     "metadata": {},
     "output_type": "execute_result"
    }
   ],
   "execution_count": 38
  },
  {
   "metadata": {
    "ExecuteTime": {
     "end_time": "2024-04-26T00:06:13.841774Z",
     "start_time": "2024-04-26T00:06:13.838275Z"
    }
   },
   "cell_type": "code",
   "source": [
    "sql = \"\"\"\n",
    "SELECT * FROM fte_1;\n",
    "\"\"\"\n",
    "run_sql(cursor, sql)"
   ],
   "id": "82d821d7fa34882f",
   "outputs": [
    {
     "name": "stdout",
     "output_type": "stream",
     "text": [
      "   id first_name last_name  department_id employee_type\n",
      "0   1       John       Doe              1           FTE\n",
      "1   6        Eva     Jones              1           FTE\n",
      "2   9      Henry     Clark              1           FTE\n"
     ]
    }
   ],
   "execution_count": 39
  },
  {
   "metadata": {},
   "cell_type": "markdown",
   "source": "PostgreSQL 只会检查 `fte_1` 视图。",
   "id": "661bd7d4cfec1425"
  },
  {
   "metadata": {},
   "cell_type": "markdown",
   "source": "### CASCADED CHECK OPTION",
   "id": "9d589c1845fc2d42"
  },
  {
   "metadata": {
    "ExecuteTime": {
     "end_time": "2024-04-26T00:09:06.101882Z",
     "start_time": "2024-04-26T00:09:06.098114Z"
    }
   },
   "cell_type": "code",
   "source": [
    "sql = \"\"\"\n",
    "CREATE OR REPLACE VIEW fte_1\n",
    "AS \n",
    "SELECT \n",
    "  id, \n",
    "  first_name, \n",
    "  last_name, \n",
    "  department_id, \n",
    "  employee_type \n",
    "FROM \n",
    "  fte \n",
    "WHERE \n",
    "  department_id = 1 \n",
    "WITH CASCADED CHECK OPTION;\n",
    "\"\"\"\n",
    "cursor.execute(sql)"
   ],
   "id": "5fa88385baea1151",
   "outputs": [
    {
     "data": {
      "text/plain": [
       "<psycopg.Cursor [COMMAND_OK] [INTRANS] (host=localhost user=postgres database=dvdrental) at 0x1356512af90>"
      ]
     },
     "execution_count": 40,
     "metadata": {},
     "output_type": "execute_result"
    }
   ],
   "execution_count": 40
  },
  {
   "metadata": {
    "ExecuteTime": {
     "end_time": "2024-04-26T00:09:07.955279Z",
     "start_time": "2024-04-26T00:09:07.939952Z"
    }
   },
   "cell_type": "code",
   "source": [
    "sql = \"\"\"\n",
    "INSERT INTO fte_1(first_name, last_name, department_id, employee_type) \n",
    "VALUES ('Peter', 'Taylor', 1, 'Contractor');\n",
    "\"\"\"\n",
    "cursor.execute(sql)"
   ],
   "id": "3c236a62d78e8c43",
   "outputs": [
    {
     "ename": "WithCheckOptionViolation",
     "evalue": "新行违反了视图\"fte\"的检查选项\nDETAIL:  失败, 行包含(11, Peter, Taylor, 1, Contractor).",
     "output_type": "error",
     "traceback": [
      "\u001B[1;31m---------------------------------------------------------------------------\u001B[0m",
      "\u001B[1;31mWithCheckOptionViolation\u001B[0m                  Traceback (most recent call last)",
      "Cell \u001B[1;32mIn[41], line 5\u001B[0m\n\u001B[0;32m      1\u001B[0m sql \u001B[38;5;241m=\u001B[39m \u001B[38;5;124m\"\"\"\u001B[39m\n\u001B[0;32m      2\u001B[0m \u001B[38;5;124mINSERT INTO fte_1(first_name, last_name, department_id, employee_type) \u001B[39m\n\u001B[0;32m      3\u001B[0m \u001B[38;5;124mVALUES (\u001B[39m\u001B[38;5;124m'\u001B[39m\u001B[38;5;124mPeter\u001B[39m\u001B[38;5;124m'\u001B[39m\u001B[38;5;124m, \u001B[39m\u001B[38;5;124m'\u001B[39m\u001B[38;5;124mTaylor\u001B[39m\u001B[38;5;124m'\u001B[39m\u001B[38;5;124m, 1, \u001B[39m\u001B[38;5;124m'\u001B[39m\u001B[38;5;124mContractor\u001B[39m\u001B[38;5;124m'\u001B[39m\u001B[38;5;124m);\u001B[39m\n\u001B[0;32m      4\u001B[0m \u001B[38;5;124m\"\"\"\u001B[39m\n\u001B[1;32m----> 5\u001B[0m \u001B[43mcursor\u001B[49m\u001B[38;5;241;43m.\u001B[39;49m\u001B[43mexecute\u001B[49m\u001B[43m(\u001B[49m\u001B[43msql\u001B[49m\u001B[43m)\u001B[49m\n",
      "File \u001B[1;32mE:\\sourcecode\\keep_learning\\.venv\\Lib\\site-packages\\psycopg\\cursor.py:732\u001B[0m, in \u001B[0;36mCursor.execute\u001B[1;34m(self, query, params, prepare, binary)\u001B[0m\n\u001B[0;32m    728\u001B[0m         \u001B[38;5;28mself\u001B[39m\u001B[38;5;241m.\u001B[39m_conn\u001B[38;5;241m.\u001B[39mwait(\n\u001B[0;32m    729\u001B[0m             \u001B[38;5;28mself\u001B[39m\u001B[38;5;241m.\u001B[39m_execute_gen(query, params, prepare\u001B[38;5;241m=\u001B[39mprepare, binary\u001B[38;5;241m=\u001B[39mbinary)\n\u001B[0;32m    730\u001B[0m         )\n\u001B[0;32m    731\u001B[0m \u001B[38;5;28;01mexcept\u001B[39;00m e\u001B[38;5;241m.\u001B[39m_NO_TRACEBACK \u001B[38;5;28;01mas\u001B[39;00m ex:\n\u001B[1;32m--> 732\u001B[0m     \u001B[38;5;28;01mraise\u001B[39;00m ex\u001B[38;5;241m.\u001B[39mwith_traceback(\u001B[38;5;28;01mNone\u001B[39;00m)\n\u001B[0;32m    733\u001B[0m \u001B[38;5;28;01mreturn\u001B[39;00m \u001B[38;5;28mself\u001B[39m\n",
      "\u001B[1;31mWithCheckOptionViolation\u001B[0m: 新行违反了视图\"fte\"的检查选项\nDETAIL:  失败, 行包含(11, Peter, Taylor, 1, Contractor)."
     ]
    }
   ],
   "execution_count": 41
  }
 ],
 "metadata": {
  "kernelspec": {
   "display_name": "Python 3",
   "language": "python",
   "name": "python3"
  },
  "language_info": {
   "codemirror_mode": {
    "name": "ipython",
    "version": 2
   },
   "file_extension": ".py",
   "mimetype": "text/x-python",
   "name": "python",
   "nbconvert_exporter": "python",
   "pygments_lexer": "ipython2",
   "version": "2.7.6"
  }
 },
 "nbformat": 4,
 "nbformat_minor": 5
}
