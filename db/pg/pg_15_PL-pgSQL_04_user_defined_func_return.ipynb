{
 "cells": [
  {
   "cell_type": "code",
   "id": "initial_id",
   "metadata": {
    "collapsed": true,
    "ExecuteTime": {
     "end_time": "2024-04-06T07:18:20.487147Z",
     "start_time": "2024-04-06T07:18:19.582986Z"
    }
   },
   "source": [
    "import common.ipynb_importer\n",
    "from db.pg.pg_00_common import *\n",
    "\n",
    "cursor = pg_connect()"
   ],
   "outputs": [
    {
     "name": "stdout",
     "output_type": "stream",
     "text": [
      "importing Jupyter notebook from D:\\sourcecode\\keep_learning\\db\\pg\\pg_00_common.ipynb\n"
     ]
    }
   ],
   "execution_count": 1
  },
  {
   "metadata": {},
   "cell_type": "markdown",
   "source": [
    "# Function return a table\n",
    "\n",
    "语法\n",
    "```\n",
    "create or replace function function_name (\n",
    "   parameter_list\n",
    ") \n",
    "returns table ( column_list ) \n",
    "language plpgsql\n",
    "as \n",
    "$$\n",
    "declare \n",
    "-- variable declaration\n",
    "begin\n",
    "-- body\n",
    "end; \n",
    "$$;\n",
    "```"
   ],
   "id": "b1f8eb494481468"
  },
  {
   "metadata": {
    "ExecuteTime": {
     "end_time": "2024-04-06T07:18:20.502723Z",
     "start_time": "2024-04-06T07:18:20.489131Z"
    }
   },
   "cell_type": "code",
   "source": [
    "sql = \"\"\"\n",
    "create or replace function get_film (\n",
    "  p_pattern varchar\n",
    ") \n",
    "returns table (\n",
    "\tfilm_title varchar,\n",
    "\tfilm_release_year int\n",
    ") \n",
    "language plpgsql\n",
    "as $$\n",
    "begin\n",
    "\treturn query \n",
    "\t\tselect\n",
    "\t\t\ttitle,\n",
    "\t\t\trelease_year::integer\n",
    "\t\tfrom\n",
    "\t\t\tfilm\n",
    "\t\twhere\n",
    "\t\t\ttitle ilike p_pattern;\n",
    "end;\n",
    "$$;\n",
    "\"\"\"\n",
    "cursor.execute(sql)"
   ],
   "id": "126bbe93cc022382",
   "outputs": [
    {
     "data": {
      "text/plain": [
       "<psycopg.Cursor [COMMAND_OK] [INTRANS] (host=localhost user=postgres database=dvdrental) at 0x2101e49b110>"
      ]
     },
     "execution_count": 2,
     "metadata": {},
     "output_type": "execute_result"
    }
   ],
   "execution_count": 2
  },
  {
   "metadata": {
    "ExecuteTime": {
     "end_time": "2024-04-06T07:18:20.519294Z",
     "start_time": "2024-04-06T07:18:20.504688Z"
    }
   },
   "cell_type": "code",
   "source": [
    "sql = \"\"\"\n",
    "SELECT * FROM get_film ('Al%');\n",
    "\"\"\"\n",
    "run_sql(cursor, sql)"
   ],
   "id": "cb36413a238b83ee",
   "outputs": [
    {
     "name": "stdout",
     "output_type": "stream",
     "text": [
      "         film_title  film_release_year\n",
      "0     Alabama Devil               2006\n",
      "1  Aladdin Calendar               2006\n",
      "2   Alamo Videotape               2006\n",
      "3    Alaska Phantom               2006\n",
      "4       Ali Forever               2006\n",
      "5    Alice Fantasia               2006\n",
      "6      Alien Center               2006\n",
      "7   Alley Evolution               2006\n",
      "8        Alone Trip               2006\n",
      "9     Alter Victory               2006\n"
     ]
    }
   ],
   "execution_count": 3
  },
  {
   "metadata": {
    "ExecuteTime": {
     "end_time": "2024-04-06T07:18:20.534930Z",
     "start_time": "2024-04-06T07:18:20.520748Z"
    }
   },
   "cell_type": "code",
   "source": [
    "sql = \"\"\"\n",
    "create or replace function get_film (\n",
    "\tp_pattern varchar,\n",
    "\tp_year int\n",
    ") \n",
    "returns table (\n",
    "\tfilm_title varchar,\n",
    "\tfilm_release_year int\n",
    ") \n",
    "language plpgsql\n",
    "as $$\n",
    "declare \n",
    "    var_r record;\n",
    "begin\n",
    "\tfor var_r in(\n",
    "            select title, release_year \n",
    "            from film \n",
    "\t        where title ilike p_pattern and release_year = p_year\n",
    "        ) loop \n",
    "            film_title := upper(var_r.title) ; \n",
    "            film_release_year := var_r.release_year;\n",
    "            return next;\n",
    "\tend loop;\n",
    "end; $$ \n",
    "\"\"\"\n",
    "cursor.execute(sql)"
   ],
   "id": "3740f93eea0ec6f9",
   "outputs": [
    {
     "data": {
      "text/plain": [
       "<psycopg.Cursor [COMMAND_OK] [INTRANS] (host=localhost user=postgres database=dvdrental) at 0x2101e49b110>"
      ]
     },
     "execution_count": 4,
     "metadata": {},
     "output_type": "execute_result"
    }
   ],
   "execution_count": 4
  },
  {
   "metadata": {
    "ExecuteTime": {
     "end_time": "2024-04-06T07:18:20.550206Z",
     "start_time": "2024-04-06T07:18:20.537894Z"
    }
   },
   "cell_type": "code",
   "source": [
    "sql = \"\"\"\n",
    "SELECT * FROM get_film ('%er', 2006);\n",
    "\"\"\"\n",
    "run_sql(cursor, sql)"
   ],
   "id": "765cc6a70bc360c1",
   "outputs": [
    {
     "name": "stdout",
     "output_type": "stream",
     "text": [
      "                     film_title  film_release_year\n",
      "0                ACE GOLDFINGER               2006\n",
      "1                   ALI FOREVER               2006\n",
      "2                  ALIEN CENTER               2006\n",
      "3             AMISTAD MIDSUMMER               2006\n",
      "4   ARACHNOPHOBIA ROLLERCOASTER               2006\n",
      "..                          ...                ...\n",
      "73                WANDA CHAMBER               2006\n",
      "74           WATERSHIP FRONTIER               2006\n",
      "75                WISDOM WORKER               2006\n",
      "76                 WORDS HUNTER               2006\n",
      "77                 WORST BANGER               2006\n",
      "\n",
      "[78 rows x 2 columns]\n"
     ]
    }
   ],
   "execution_count": 5
  },
  {
   "metadata": {},
   "cell_type": "markdown",
   "source": [
    "# Function return a set of rows\n",
    "\n",
    "语法：\n",
    "```\n",
    "create or replace function function_name(parameters)\n",
    "returns setof row_structure\n",
    "as\n",
    "$$\n",
    "   -- logic\n",
    "   -- ...\n",
    "   -- return one or more rows\n",
    "   return query select_query;\n",
    "$$ language plpgsql;\n",
    "```\n",
    "\n",
    "调用函数：\n",
    "```\n",
    "SELECT function_name(argument);\n",
    "```"
   ],
   "id": "142b81ebbd966786"
  },
  {
   "metadata": {
    "ExecuteTime": {
     "end_time": "2024-04-06T07:18:20.565798Z",
     "start_time": "2024-04-06T07:18:20.551770Z"
    }
   },
   "cell_type": "code",
   "source": [
    "sql = \"\"\"\n",
    "create or replace function find_film_by_id(\n",
    "\tp_id int\n",
    ")\n",
    "returns setof film\n",
    "as\n",
    "$$\n",
    "begin\n",
    "   return query select * from film\n",
    "   where film_id = p_id;\n",
    "end;\n",
    "$$\n",
    "language plpgsql;\n",
    "\"\"\"\n",
    "cursor.execute(sql)"
   ],
   "id": "42cb1a8ddfa65d76",
   "outputs": [
    {
     "data": {
      "text/plain": [
       "<psycopg.Cursor [COMMAND_OK] [INTRANS] (host=localhost user=postgres database=dvdrental) at 0x2101e49b110>"
      ]
     },
     "execution_count": 6,
     "metadata": {},
     "output_type": "execute_result"
    }
   ],
   "execution_count": 6
  },
  {
   "metadata": {
    "ExecuteTime": {
     "end_time": "2024-04-06T07:18:20.581402Z",
     "start_time": "2024-04-06T07:18:20.566763Z"
    }
   },
   "cell_type": "code",
   "source": [
    "sql = \"\"\"\n",
    "SELECT find_film_by_id(100);\n",
    "\"\"\"\n",
    "run_sql(cursor, sql)"
   ],
   "id": "d5b5dc84844cd173",
   "outputs": [
    {
     "name": "stdout",
     "output_type": "stream",
     "text": [
      "                                     find_film_by_id\n",
      "0  (100,\"Brooklyn Desert\",\"A Beautiful Drama of a...\n"
     ]
    }
   ],
   "execution_count": 7
  },
  {
   "metadata": {
    "ExecuteTime": {
     "end_time": "2024-04-06T07:18:20.597265Z",
     "start_time": "2024-04-06T07:18:20.583126Z"
    }
   },
   "cell_type": "code",
   "source": [
    "sql = \"\"\"\n",
    "select (find_film_by_id(100)).title;\n",
    "\"\"\"\n",
    "run_sql(cursor, sql)"
   ],
   "id": "5aacb6c7aa5e9c67",
   "outputs": [
    {
     "name": "stdout",
     "output_type": "stream",
     "text": [
      "             title\n",
      "0  Brooklyn Desert\n"
     ]
    }
   ],
   "execution_count": 8
  },
  {
   "metadata": {
    "ExecuteTime": {
     "end_time": "2024-04-06T07:18:20.612892Z",
     "start_time": "2024-04-06T07:18:20.598267Z"
    }
   },
   "cell_type": "code",
   "source": [
    "sql = \"\"\"\n",
    "SELECT * FROM find_film_by_id(100);\n",
    "\"\"\"\n",
    "run_sql(cursor, sql)"
   ],
   "id": "c77417511b55c9a9",
   "outputs": [
    {
     "name": "stdout",
     "output_type": "stream",
     "text": [
      "   film_id            title  \\\n",
      "0      100  Brooklyn Desert   \n",
      "\n",
      "                                         description  release_year  \\\n",
      "0  A Beautiful Drama of a Dentist And a Composer ...          2006   \n",
      "\n",
      "   language_id  rental_duration rental_rate  length replacement_cost rating  \\\n",
      "0            1                7        4.99     161            21.99      R   \n",
      "\n",
      "              last_update special_features  \\\n",
      "0 2013-05-26 14:50:58.951   [Commentaries]   \n",
      "\n",
      "                                            fulltext  \n",
      "0  'battl':14 'beauti':4 'brooklyn':1 'compos':11...  \n"
     ]
    }
   ],
   "execution_count": 9
  }
 ],
 "metadata": {
  "kernelspec": {
   "display_name": "Python 3",
   "language": "python",
   "name": "python3"
  },
  "language_info": {
   "codemirror_mode": {
    "name": "ipython",
    "version": 2
   },
   "file_extension": ".py",
   "mimetype": "text/x-python",
   "name": "python",
   "nbconvert_exporter": "python",
   "pygments_lexer": "ipython2",
   "version": "2.7.6"
  }
 },
 "nbformat": 4,
 "nbformat_minor": 5
}
