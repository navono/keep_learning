{
 "cells": [
  {
   "cell_type": "code",
   "id": "initial_id",
   "metadata": {
    "collapsed": true,
    "ExecuteTime": {
     "end_time": "2024-04-07T01:03:11.729296Z",
     "start_time": "2024-04-07T01:03:11.687770Z"
    }
   },
   "source": [
    "import common.ipynb_importer\n",
    "from db.pg.pg_00_common import *\n",
    "\n",
    "cursor = pg_connect()"
   ],
   "outputs": [],
   "execution_count": 4
  },
  {
   "metadata": {},
   "cell_type": "markdown",
   "source": [
    "# Procedure Drop\n",
    "\n",
    "语法：\n",
    "```\n",
    "drop procedure [if exists] procedure_name (argument_list)\n",
    "[cascade | restrict]\n",
    "```"
   ],
   "id": "ed86ccc61f111375"
  },
  {
   "metadata": {
    "ExecuteTime": {
     "end_time": "2024-04-07T01:03:13.686682Z",
     "start_time": "2024-04-07T01:03:13.673591Z"
    }
   },
   "cell_type": "code",
   "source": [
    "sql_insert = \"\"\"\n",
    "create or replace procedure insert_actor(\n",
    "\tfname varchar, \n",
    "\tlname varchar)\n",
    "language plpgsql\t\n",
    "as $$\n",
    "begin\n",
    "\tinsert into actor(first_name, last_name)\n",
    "\tvalues('John','Doe');\n",
    "end;\n",
    "$$;\n",
    "\"\"\"\n",
    "\n",
    "sql_insert2 = \"\"\"\n",
    "create or replace procedure insert_actor(\n",
    "\tfull_name varchar\n",
    ")\n",
    "language plpgsql\t\n",
    "as $$\n",
    "declare\n",
    "\tfname varchar;\n",
    "\tlname varchar;\n",
    "begin\n",
    "\t-- split the fullname into first & last name\n",
    "\tselect \n",
    "\t\tsplit_part(full_name,' ', 1),\n",
    "\t\tsplit_part(full_name,' ', 2)\n",
    "\tinto fname,\n",
    "\t     lname;\n",
    "\t\n",
    "\t-- insert first & last name into the actor table\n",
    "\tinsert into actor(first_name, last_name)\n",
    "\tvalues('John','Doe');\n",
    "end;\n",
    "$$;\n",
    "\"\"\"\n",
    "\n",
    "sql_delete = \"\"\"\n",
    "create or replace procedure delete_actor(\n",
    "\tp_actor_id int\n",
    ")\n",
    "language plpgsql\n",
    "as $$\n",
    "begin\n",
    "\tdelete from actor \n",
    "\twhere actor_id = p_actor_id;\n",
    "end; \n",
    "$$;\n",
    "\"\"\"\n",
    "\n",
    "sql_update = \"\"\"\n",
    "create or replace procedure update_actor(\n",
    "\tp_actor_id int,\n",
    "\tfname varchar,\n",
    "\tlname varchar\n",
    ")\n",
    "language plpgsql\n",
    "as $$\n",
    "begin\n",
    "\tupdate actor \n",
    "\tset first_name = fname,\n",
    "\t    last_name = lname\n",
    "\twhere actor_id = p_actor_id;\n",
    "end; \n",
    "$$;\n",
    "\"\"\"\n",
    "\n",
    "cursor.execute(sql_insert)\n",
    "cursor.execute(sql_insert2)\n",
    "cursor.execute(sql_delete)\n",
    "cursor.execute(sql_update)"
   ],
   "id": "19effcdb9585d12",
   "outputs": [
    {
     "data": {
      "text/plain": [
       "<psycopg.Cursor [COMMAND_OK] [INTRANS] (host=localhost user=postgres database=dvdrental) at 0x203ffcc7690>"
      ]
     },
     "execution_count": 5,
     "metadata": {},
     "output_type": "execute_result"
    }
   ],
   "execution_count": 5
  },
  {
   "metadata": {
    "ExecuteTime": {
     "end_time": "2024-04-07T01:03:05.088809Z",
     "start_time": "2024-04-07T01:03:04.841768Z"
    }
   },
   "cell_type": "code",
   "source": [
    "# Drop with error。因为存在两个 insert_actor\n",
    "sql = \"\"\"\n",
    "drop procedure insert_actor;\n",
    "\"\"\"\n",
    "cursor.execute(sql)"
   ],
   "id": "70c971dc9852062a",
   "outputs": [
    {
     "ename": "AmbiguousFunction",
     "evalue": "过程名 insert_actor 不是唯一的\nHINT:  指定参数列表以明确选择过程.",
     "output_type": "error",
     "traceback": [
      "\u001B[1;31m---------------------------------------------------------------------------\u001B[0m",
      "\u001B[1;31mAmbiguousFunction\u001B[0m                         Traceback (most recent call last)",
      "Cell \u001B[1;32mIn[3], line 6\u001B[0m\n\u001B[0;32m      1\u001B[0m \u001B[38;5;66;03m# Drop\u001B[39;00m\n\u001B[0;32m      3\u001B[0m sql \u001B[38;5;241m=\u001B[39m \u001B[38;5;124m\"\"\"\u001B[39m\n\u001B[0;32m      4\u001B[0m \u001B[38;5;124mdrop procedure insert_actor;\u001B[39m\n\u001B[0;32m      5\u001B[0m \u001B[38;5;124m\"\"\"\u001B[39m\n\u001B[1;32m----> 6\u001B[0m \u001B[43mcursor\u001B[49m\u001B[38;5;241;43m.\u001B[39;49m\u001B[43mexecute\u001B[49m\u001B[43m(\u001B[49m\u001B[43msql\u001B[49m\u001B[43m)\u001B[49m\n",
      "File \u001B[1;32m~\\.conda\\envs\\learning\\lib\\site-packages\\psycopg\\cursor.py:732\u001B[0m, in \u001B[0;36mCursor.execute\u001B[1;34m(self, query, params, prepare, binary)\u001B[0m\n\u001B[0;32m    728\u001B[0m         \u001B[38;5;28mself\u001B[39m\u001B[38;5;241m.\u001B[39m_conn\u001B[38;5;241m.\u001B[39mwait(\n\u001B[0;32m    729\u001B[0m             \u001B[38;5;28mself\u001B[39m\u001B[38;5;241m.\u001B[39m_execute_gen(query, params, prepare\u001B[38;5;241m=\u001B[39mprepare, binary\u001B[38;5;241m=\u001B[39mbinary)\n\u001B[0;32m    730\u001B[0m         )\n\u001B[0;32m    731\u001B[0m \u001B[38;5;28;01mexcept\u001B[39;00m e\u001B[38;5;241m.\u001B[39m_NO_TRACEBACK \u001B[38;5;28;01mas\u001B[39;00m ex:\n\u001B[1;32m--> 732\u001B[0m     \u001B[38;5;28;01mraise\u001B[39;00m ex\u001B[38;5;241m.\u001B[39mwith_traceback(\u001B[38;5;28;01mNone\u001B[39;00m)\n\u001B[0;32m    733\u001B[0m \u001B[38;5;28;01mreturn\u001B[39;00m \u001B[38;5;28mself\u001B[39m\n",
      "\u001B[1;31mAmbiguousFunction\u001B[0m: 过程名 insert_actor 不是唯一的\nHINT:  指定参数列表以明确选择过程."
     ]
    }
   ],
   "execution_count": 3
  },
  {
   "metadata": {
    "ExecuteTime": {
     "end_time": "2024-04-07T01:04:06.744790Z",
     "start_time": "2024-04-07T01:04:06.725456Z"
    }
   },
   "cell_type": "code",
   "source": [
    "# Drop\n",
    "sql = \"\"\"\n",
    "drop procedure insert_actor(varchar);\n",
    "\"\"\"\n",
    "cursor.execute(sql)"
   ],
   "id": "26882fa8c6302697",
   "outputs": [
    {
     "data": {
      "text/plain": [
       "<psycopg.Cursor [COMMAND_OK] [INTRANS] (host=localhost user=postgres database=dvdrental) at 0x203ffcc7690>"
      ]
     },
     "execution_count": 6,
     "metadata": {},
     "output_type": "execute_result"
    }
   ],
   "execution_count": 6
  },
  {
   "metadata": {},
   "cell_type": "markdown",
   "source": "通过 `drop procedure insert_actor(varchar)` 删除后，剩余的可以通过 `drop procedure insert_actor;` 或者 `drop procedure insert_actor(varchar,varchar);` 均可。",
   "id": "a095bf75e0aaff42"
  },
  {
   "metadata": {
    "ExecuteTime": {
     "end_time": "2024-04-07T01:05:08.774874Z",
     "start_time": "2024-04-07T01:05:08.755612Z"
    }
   },
   "cell_type": "code",
   "source": [
    "# Drop others\n",
    "sql = \"\"\"\n",
    "drop procedure \n",
    "\tdelete_actor, \n",
    "\tupdate_actor;\n",
    "\"\"\"\n",
    "cursor.execute(sql)"
   ],
   "id": "aa900dcd2fa008c3",
   "outputs": [
    {
     "data": {
      "text/plain": [
       "<psycopg.Cursor [COMMAND_OK] [INTRANS] (host=localhost user=postgres database=dvdrental) at 0x203ffcc7690>"
      ]
     },
     "execution_count": 7,
     "metadata": {},
     "output_type": "execute_result"
    }
   ],
   "execution_count": 7
  }
 ],
 "metadata": {
  "kernelspec": {
   "display_name": "Python 3",
   "language": "python",
   "name": "python3"
  },
  "language_info": {
   "codemirror_mode": {
    "name": "ipython",
    "version": 2
   },
   "file_extension": ".py",
   "mimetype": "text/x-python",
   "name": "python",
   "nbconvert_exporter": "python",
   "pygments_lexer": "ipython2",
   "version": "2.7.6"
  }
 },
 "nbformat": 4,
 "nbformat_minor": 5
}
