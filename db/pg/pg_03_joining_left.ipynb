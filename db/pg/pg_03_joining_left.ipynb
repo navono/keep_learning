{
 "cells": [
  {
   "cell_type": "markdown",
   "source": [
    "`LEFT JOIN` 也被称之为 `LEFT OUTER JOIN`\n",
    "\n",
    "```\n",
    "SELECT \n",
    "  select_list \n",
    "FROM \n",
    "  table1\n",
    "LEFT JOIN table2 \n",
    "  ON table1.column_name = table2.column_name;\n",
    "```"
   ],
   "metadata": {
    "collapsed": false
   },
   "id": "980fa4729e83b059"
  },
  {
   "cell_type": "code",
   "execution_count": 1,
   "id": "initial_id",
   "metadata": {
    "collapsed": true,
    "ExecuteTime": {
     "end_time": "2024-01-24T06:36:44.461854200Z",
     "start_time": "2024-01-24T06:36:44.034185400Z"
    }
   },
   "outputs": [],
   "source": [
    "import ipynb_importer\n",
    "%run pg_00_common.ipynb\n",
    "cursor = pg_connect()"
   ]
  },
  {
   "cell_type": "code",
   "outputs": [
    {
     "name": "stdout",
     "output_type": "stream",
     "text": [
      "      film_id             title  inventory_id\n",
      "0           1  Academy Dinosaur           6.0\n",
      "1           1  Academy Dinosaur           1.0\n",
      "2           1  Academy Dinosaur           4.0\n",
      "3           1  Academy Dinosaur           7.0\n",
      "4           1  Academy Dinosaur           3.0\n",
      "...       ...               ...           ...\n",
      "4618     1000         Zorro Ark        4580.0\n",
      "4619     1000         Zorro Ark        4577.0\n",
      "4620     1000         Zorro Ark        4576.0\n",
      "4621     1000         Zorro Ark        4575.0\n",
      "4622     1000         Zorro Ark        4574.0\n",
      "\n",
      "[4623 rows x 3 columns]\n"
     ]
    }
   ],
   "source": [
    "sql = \"\"\"\n",
    "SELECT \n",
    "  film.film_id, \n",
    "  film.title, \n",
    "  inventory.inventory_id \n",
    "FROM \n",
    "  film \n",
    "  LEFT JOIN inventory ON inventory.film_id = film.film_id \n",
    "ORDER BY \n",
    "  film.title;\n",
    "\"\"\"\n",
    "\n",
    "run_sql(cursor, sql)"
   ],
   "metadata": {
    "collapsed": false,
    "ExecuteTime": {
     "end_time": "2024-01-24T06:36:50.430157Z",
     "start_time": "2024-01-24T06:36:50.400153100Z"
    }
   },
   "id": "34db47314c8c6f80",
   "execution_count": 2
  },
  {
   "cell_type": "code",
   "outputs": [
    {
     "name": "stdout",
     "output_type": "stream",
     "text": [
      "      film_id                title  inventory_id\n",
      "0           1     Academy Dinosaur           1.0\n",
      "1           1     Academy Dinosaur           2.0\n",
      "2           1     Academy Dinosaur           3.0\n",
      "3           1     Academy Dinosaur           4.0\n",
      "4           1     Academy Dinosaur           5.0\n",
      "...       ...                  ...           ...\n",
      "4618       14       Alice Fantasia           NaN\n",
      "4619      943    Villain Desperate           NaN\n",
      "4620      874         Tadpole Park           NaN\n",
      "4621      217           Dazed Punk           NaN\n",
      "4622      144  Chinatown Gladiator           NaN\n",
      "\n",
      "[4623 rows x 3 columns]\n"
     ]
    }
   ],
   "source": [
    "# 可以简化成这样\n",
    "sql = \"\"\"\n",
    "SELECT \n",
    "  f.film_id, \n",
    "  f.title, \n",
    "  i.inventory_id \n",
    "FROM \n",
    "  film f\n",
    "  LEFT JOIN inventory i USING (film_id)\n",
    "ORDER BY \n",
    "  i.inventory_id;\n",
    "\"\"\"\n",
    "\n",
    "run_sql(cursor, sql)"
   ],
   "metadata": {
    "collapsed": false,
    "ExecuteTime": {
     "end_time": "2024-01-24T06:38:12.682859200Z",
     "start_time": "2024-01-24T06:38:12.656858400Z"
    }
   },
   "id": "f0887d501e79d594",
   "execution_count": 3
  },
  {
   "cell_type": "code",
   "outputs": [
    {
     "name": "stdout",
     "output_type": "stream",
     "text": [
      "    film_id                   title inventory_id\n",
      "0        14          Alice Fantasia         None\n",
      "1        33             Apollo Teen         None\n",
      "2        36          Argonauts Town         None\n",
      "3        38           Ark Ridgemont         None\n",
      "4        41    Arsenic Independence         None\n",
      "5        87       Boondock Ballroom         None\n",
      "6       108           Butch Panther         None\n",
      "7       128           Catch Amistad         None\n",
      "8       144     Chinatown Gladiator         None\n",
      "9       148          Chocolate Duck         None\n",
      "10      171    Commandments Express         None\n",
      "11      192        Crossing Divorce         None\n",
      "12      195         Crowds Telemark         None\n",
      "13      198        Crystal Breaking         None\n",
      "14      217              Dazed Punk         None\n",
      "15      221  Deliverance Mulholland         None\n",
      "16      318       Firehouse Vietnam         None\n",
      "17      325           Floats Garden         None\n",
      "18      332   Frankenstein Stranger         None\n",
      "19      359      Gladiator Westward         None\n",
      "20      386               Gump Date         None\n",
      "21      404           Hate Handicap         None\n",
      "22      419             Hocus Frida         None\n",
      "23      495        Kentuckian Giant         None\n",
      "24      497        Kill Brotherhood         None\n",
      "25      607             Muppet Mile         None\n",
      "26      642          Order Betrayed         None\n",
      "27      669           Pearl Destiny         None\n",
      "28      671         Perdition Fargo         None\n",
      "29      701           Psycho Shrunk         None\n",
      "30      712       Raiders Antitrust         None\n",
      "31      713           Rainbow Shock         None\n",
      "32      742           Roof Champion         None\n",
      "33      801           Sister Freddy         None\n",
      "34      802             Sky Miracle         None\n",
      "35      860        Suicides Silence         None\n",
      "36      874            Tadpole Park         None\n",
      "37      909        Treasure Command         None\n",
      "38      943       Villain Desperate         None\n",
      "39      950            Volume House         None\n",
      "40      954               Wake Jaws         None\n",
      "41      955            Walls Artist         None\n"
     ]
    }
   ],
   "source": [
    "sql = \"\"\"\n",
    "SELECT \n",
    "  f.film_id, \n",
    "  f.title, \n",
    "  i.inventory_id \n",
    "FROM \n",
    "  film f \n",
    "  LEFT JOIN inventory i USING (film_id) \n",
    "WHERE \n",
    "  i.film_id IS NULL \n",
    "ORDER BY \n",
    "  f.title;\n",
    "\"\"\"\n",
    "\n",
    "run_sql(cursor, sql)"
   ],
   "metadata": {
    "collapsed": false,
    "ExecuteTime": {
     "end_time": "2024-01-24T06:38:54.621640400Z",
     "start_time": "2024-01-24T06:38:54.598641300Z"
    }
   },
   "id": "582a916e6f430497",
   "execution_count": 4
  }
 ],
 "metadata": {
  "kernelspec": {
   "display_name": "Python 3",
   "language": "python",
   "name": "python3"
  },
  "language_info": {
   "codemirror_mode": {
    "name": "ipython",
    "version": 2
   },
   "file_extension": ".py",
   "mimetype": "text/x-python",
   "name": "python",
   "nbconvert_exporter": "python",
   "pygments_lexer": "ipython2",
   "version": "2.7.6"
  }
 },
 "nbformat": 4,
 "nbformat_minor": 5
}
