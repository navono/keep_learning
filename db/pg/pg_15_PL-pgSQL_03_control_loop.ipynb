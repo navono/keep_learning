{
 "cells": [
  {
   "cell_type": "code",
   "id": "initial_id",
   "metadata": {
    "collapsed": true,
    "ExecuteTime": {
     "end_time": "2024-04-06T02:03:10.411819Z",
     "start_time": "2024-04-06T02:03:10.339577Z"
    }
   },
   "source": [
    "import common.ipynb_importer\n",
    "from db.pg.pg_00_common import *\n",
    "\n",
    "cursor = pg_connect()"
   ],
   "outputs": [],
   "execution_count": 14
  },
  {
   "metadata": {},
   "cell_type": "markdown",
   "source": [
    "# Loop\n",
    "\n",
    "语法：\n",
    "```\n",
    "<<lable>>\n",
    "loop\n",
    "    statements;\n",
    "end loop;\n",
    "```\n",
    "\n",
    "可以在 `loop` 语句中使用 `exit` 语句来退出循环，也可以使用 `if` 等条件语句来控制循环的执行。\n",
    "\n",
    "```\n",
    "loop\n",
    "    statements;\n",
    "    if condition then\n",
    "        exit;\n",
    "    end if;\n",
    "end loop;\n",
    "```\n",
    "\n",
    "`loop` 也可嵌套\n",
    "```\n",
    "<<outer>>\n",
    "loop\n",
    "    statements;\n",
    "    <<inner>>\n",
    "    loop\n",
    "        statements;\n",
    "        if condition then\n",
    "            exit <<inner>>;\n",
    "        end if;\n",
    "    end loop;\n",
    "end loop;"
   ],
   "id": "b7c5a3664c03e241"
  },
  {
   "metadata": {
    "ExecuteTime": {
     "end_time": "2024-04-06T01:54:02.077239Z",
     "start_time": "2024-04-06T01:54:02.009674Z"
    }
   },
   "cell_type": "code",
   "source": [
    "# 基本用法\n",
    "sql = \"\"\"\n",
    "do $$\n",
    "declare\n",
    "    counter int := 0;\n",
    "begin\n",
    "  loop\n",
    "  \tcounter = counter + 1;\n",
    "\traise notice '%', counter;\n",
    "\t\n",
    "\tif counter = 5 then\n",
    "\t\texit;\n",
    "\tend if;\n",
    "  end loop;\n",
    "end;\n",
    "$$;\n",
    "\"\"\"\n",
    "cursor.execute(sql)"
   ],
   "id": "c1a66be442c2f469",
   "outputs": [
    {
     "name": "stdout",
     "output_type": "stream",
     "text": [
      "1\n",
      "2\n",
      "3\n",
      "4\n",
      "5\n"
     ]
    },
    {
     "data": {
      "text/plain": [
       "<psycopg.Cursor [COMMAND_OK] [INTRANS] (host=localhost user=postgres database=dvdrental) at 0x26212c3b110>"
      ]
     },
     "execution_count": 2,
     "metadata": {},
     "output_type": "execute_result"
    }
   ],
   "execution_count": 2
  },
  {
   "metadata": {
    "ExecuteTime": {
     "end_time": "2024-04-06T01:55:10.886975Z",
     "start_time": "2024-04-06T01:55:10.875819Z"
    }
   },
   "cell_type": "code",
   "source": [
    "# 在实际中，可以把 `if` 与 `exit` 结合使用\n",
    "sql = \"\"\"\n",
    "do $$\n",
    "declare\n",
    "    counter int := 0;\n",
    "begin\n",
    "  loop\n",
    "  \tcounter = counter + 1;\n",
    "\traise notice '%', counter;\n",
    "\texit when counter = 5;\n",
    "  end loop;\n",
    "end;\n",
    "$$;\n",
    "\"\"\"\n",
    "cursor.execute(sql)"
   ],
   "id": "928dd1f63d435321",
   "outputs": [
    {
     "name": "stdout",
     "output_type": "stream",
     "text": [
      "1\n",
      "2\n",
      "3\n",
      "4\n",
      "5\n"
     ]
    },
    {
     "data": {
      "text/plain": [
       "<psycopg.Cursor [COMMAND_OK] [INTRANS] (host=localhost user=postgres database=dvdrental) at 0x26212c3b110>"
      ]
     },
     "execution_count": 3,
     "metadata": {},
     "output_type": "execute_result"
    }
   ],
   "execution_count": 3
  },
  {
   "metadata": {
    "ExecuteTime": {
     "end_time": "2024-04-06T01:55:53.711310Z",
     "start_time": "2024-04-06T01:55:53.689256Z"
    }
   },
   "cell_type": "code",
   "source": [
    "# 使用 label\n",
    "sql = \"\"\"\n",
    "do $$\n",
    "declare\n",
    "    counter int := 0;\n",
    "begin\n",
    " <<my_loop>>\n",
    "  loop\n",
    "  \tcounter = counter + 1;\n",
    "\traise notice '%', counter;\n",
    "\texit my_loop when counter = 5;\n",
    "  end loop;\n",
    "end;\n",
    "$$;\n",
    "\"\"\"\n",
    "cursor.execute(sql)"
   ],
   "id": "9bb44b7f29968331",
   "outputs": [
    {
     "name": "stdout",
     "output_type": "stream",
     "text": [
      "1\n",
      "2\n",
      "3\n",
      "4\n",
      "5\n"
     ]
    },
    {
     "data": {
      "text/plain": [
       "<psycopg.Cursor [COMMAND_OK] [INTRANS] (host=localhost user=postgres database=dvdrental) at 0x26212c3b110>"
      ]
     },
     "execution_count": 4,
     "metadata": {},
     "output_type": "execute_result"
    }
   ],
   "execution_count": 4
  },
  {
   "metadata": {
    "ExecuteTime": {
     "end_time": "2024-04-06T01:56:31.699588Z",
     "start_time": "2024-04-06T01:56:31.684553Z"
    }
   },
   "cell_type": "code",
   "source": [
    "# 嵌套 loop\n",
    "sql = \"\"\"\n",
    "do $$\n",
    "declare\n",
    "\trow_var int := 0;\n",
    "\tcol_var int := 0;\n",
    "begin\n",
    "\t<<outer_loop>>\n",
    "\tloop\n",
    "\t\trow_var = row_var + 1;\n",
    "\t\t<<inner_loop>>\n",
    "\t\tloop\n",
    "\t\t\tcol_var = col_var + 1;\n",
    "\t\t\traise notice '(%, %)', row_var, col_var;\n",
    "\t\t\t\n",
    "\t\t\t-- terminate the inner loop\n",
    "\t\t\texit inner_loop when col_var = 3;\n",
    "\t\tend loop;\n",
    "\t\t-- reset the column\n",
    "\t\tcol_var = 0;\n",
    "\t\t\n",
    "\t\t-- terminate the outer loop\n",
    "\t\texit outer_loop when row_var = 3;\n",
    "\tend loop;\n",
    "end;\n",
    "$$;\n",
    "\"\"\"\n",
    "cursor.execute(sql)\n"
   ],
   "id": "aaa8f5f25f835670",
   "outputs": [
    {
     "name": "stdout",
     "output_type": "stream",
     "text": [
      "(1, 1)\n",
      "(1, 2)\n",
      "(1, 3)\n",
      "(2, 1)\n",
      "(2, 2)\n",
      "(2, 3)\n",
      "(3, 1)\n",
      "(3, 2)\n",
      "(3, 3)\n"
     ]
    },
    {
     "data": {
      "text/plain": [
       "<psycopg.Cursor [COMMAND_OK] [INTRANS] (host=localhost user=postgres database=dvdrental) at 0x26212c3b110>"
      ]
     },
     "execution_count": 5,
     "metadata": {},
     "output_type": "execute_result"
    }
   ],
   "execution_count": 5
  },
  {
   "metadata": {},
   "cell_type": "markdown",
   "source": [
    "# While Loop\n",
    "\n",
    "基本语法：\n",
    "```\n",
    "[ <<label>> ]\n",
    "while condition loop\n",
    "    statements;\n",
    "end loop;\n",
    "```\n",
    "\n",
    "在进入 `loop` 前，计算 `condition` 的值，如果为 `true`，则执行 `statements`，然后再次计算 `condition` 的值，直到 `condition` 为 `false` 为止。\n",
    "在 `while` 语句中，我们需要改变 `condition` 的值，否则会陷入死循环。"
   ],
   "id": "5e1d514237b7fc46"
  },
  {
   "metadata": {
    "ExecuteTime": {
     "end_time": "2024-04-06T02:00:19.211433Z",
     "start_time": "2024-04-06T02:00:19.190447Z"
    }
   },
   "cell_type": "code",
   "source": [
    "# 基本用法\n",
    "sql = \"\"\"\n",
    "do $$ \n",
    "declare \n",
    "\tcounter integer := 0;\n",
    "begin \n",
    "\twhile counter < 5 loop \n",
    "\t\traise notice 'Counter %', counter;\n",
    "\t\tcounter := counter + 1;\n",
    "\tend loop;\n",
    "end;\n",
    "$$;\n",
    "\"\"\"\n",
    "cursor.execute(sql)"
   ],
   "id": "958e31709255633e",
   "outputs": [
    {
     "name": "stdout",
     "output_type": "stream",
     "text": [
      "Counter 0\n",
      "Counter 1\n",
      "Counter 2\n",
      "Counter 3\n",
      "Counter 4\n"
     ]
    },
    {
     "data": {
      "text/plain": [
       "<psycopg.Cursor [COMMAND_OK] [INTRANS] (host=localhost user=postgres database=dvdrental) at 0x26212c3b110>"
      ]
     },
     "execution_count": 6,
     "metadata": {},
     "output_type": "execute_result"
    }
   ],
   "execution_count": 6
  },
  {
   "metadata": {},
   "cell_type": "markdown",
   "source": [
    "# For Loop\n",
    "\n",
    "基本语法：\n",
    "```\n",
    "[ <<label>> ]\n",
    "for loop_counter in [ reverse ] from.. to [ by step ] loop\n",
    "    statements\n",
    "end loop [ label ];\n",
    "```"
   ],
   "id": "c25679f043cf11ee"
  },
  {
   "metadata": {
    "ExecuteTime": {
     "end_time": "2024-04-06T02:01:44.345941Z",
     "start_time": "2024-04-06T02:01:44.327703Z"
    }
   },
   "cell_type": "code",
   "source": [
    "# 基本用法\n",
    "sql = \"\"\"\n",
    "do \n",
    "$$\n",
    "begin\n",
    "   for counter in 1..5 loop\n",
    "\traise notice 'counter: %', counter;\n",
    "   end loop;\n",
    "end; \n",
    "$$;\n",
    "\"\"\"\n",
    "cursor.execute(sql)"
   ],
   "id": "f3cfc1658fb873be",
   "outputs": [
    {
     "name": "stdout",
     "output_type": "stream",
     "text": [
      "counter: 1\n",
      "counter: 2\n",
      "counter: 3\n",
      "counter: 4\n",
      "counter: 5\n"
     ]
    },
    {
     "data": {
      "text/plain": [
       "<psycopg.Cursor [COMMAND_OK] [INTRANS] (host=localhost user=postgres database=dvdrental) at 0x26212c3b110>"
      ]
     },
     "execution_count": 7,
     "metadata": {},
     "output_type": "execute_result"
    }
   ],
   "execution_count": 7
  },
  {
   "metadata": {
    "ExecuteTime": {
     "end_time": "2024-04-06T02:03:14.368739Z",
     "start_time": "2024-04-06T02:03:14.339936Z"
    }
   },
   "cell_type": "code",
   "source": [
    "# 倒序\n",
    "sql = \"\"\"\n",
    "do \n",
    "$$\n",
    "begin\n",
    "   for counter in reverse 5..1 loop\n",
    "\traise notice 'counter: %', counter;\n",
    "   end loop;\n",
    "end; \n",
    "$$;\n",
    "\"\"\"\n",
    "cursor.execute(sql)"
   ],
   "id": "4965e096445854d5",
   "outputs": [
    {
     "name": "stdout",
     "output_type": "stream",
     "text": [
      "counter: 5\n",
      "counter: 4\n",
      "counter: 3\n",
      "counter: 2\n",
      "counter: 1\n"
     ]
    },
    {
     "data": {
      "text/plain": [
       "<psycopg.Cursor [COMMAND_OK] [INTRANS] (host=localhost user=postgres database=dvdrental) at 0x26214270300>"
      ]
     },
     "execution_count": 15,
     "metadata": {},
     "output_type": "execute_result"
    }
   ],
   "execution_count": 15
  },
  {
   "metadata": {
    "ExecuteTime": {
     "end_time": "2024-04-06T02:03:43.945576Z",
     "start_time": "2024-04-06T02:03:43.933541Z"
    }
   },
   "cell_type": "code",
   "source": [
    "# 指定步长\n",
    "sql = \"\"\"\n",
    "do $$\n",
    "begin \n",
    "  for counter in 1..6 by 2 loop\n",
    "    raise notice 'counter: %', counter;\n",
    "  end loop;\n",
    "end; $$\n",
    "\"\"\"\n",
    "cursor.execute(sql)"
   ],
   "id": "bdc7376ea71120b",
   "outputs": [
    {
     "name": "stdout",
     "output_type": "stream",
     "text": [
      "counter: 1\n",
      "counter: 3\n",
      "counter: 5\n"
     ]
    },
    {
     "data": {
      "text/plain": [
       "<psycopg.Cursor [COMMAND_OK] [INTRANS] (host=localhost user=postgres database=dvdrental) at 0x26214270300>"
      ]
     },
     "execution_count": 16,
     "metadata": {},
     "output_type": "execute_result"
    }
   ],
   "execution_count": 16
  },
  {
   "metadata": {},
   "cell_type": "markdown",
   "source": [
    "## For Loop with Record\n",
    "\n",
    "基本语法：\n",
    "```\n",
    "[ <<label>> ]\n",
    "for target in query loop\n",
    "    statements\n",
    "end loop [ label ];\n",
    "```"
   ],
   "id": "d9b5b38a769530f3"
  },
  {
   "metadata": {
    "ExecuteTime": {
     "end_time": "2024-04-06T02:04:32.291262Z",
     "start_time": "2024-04-06T02:04:32.227623Z"
    }
   },
   "cell_type": "code",
   "source": [
    "# 基本用法\n",
    "sql = \"\"\"\n",
    "do\n",
    "$$\n",
    "declare\n",
    "    f record;\n",
    "begin\n",
    "    for f in select title, length \n",
    "\t       from film \n",
    "\t       order by length desc, title\n",
    "\t       limit 10 \n",
    "    loop \n",
    "\traise notice '%(% mins)', f.title, f.length;\n",
    "    end loop;\n",
    "end;\n",
    "$$\n",
    "\"\"\"\n",
    "cursor.execute(sql)"
   ],
   "id": "bc21e805786ce82d",
   "outputs": [
    {
     "name": "stdout",
     "output_type": "stream",
     "text": [
      "Chicago North(185 mins)\n",
      "Control Anthem(185 mins)\n",
      "Darn Forrester(185 mins)\n",
      "Gangs Pride(185 mins)\n",
      "Home Pity(185 mins)\n",
      "Muscle Bright(185 mins)\n",
      "Pond Seattle(185 mins)\n",
      "Soldiers Evolution(185 mins)\n",
      "Sweet Brotherhood(185 mins)\n",
      "Worst Banger(185 mins)\n"
     ]
    },
    {
     "data": {
      "text/plain": [
       "<psycopg.Cursor [COMMAND_OK] [INTRANS] (host=localhost user=postgres database=dvdrental) at 0x26214270300>"
      ]
     },
     "execution_count": 17,
     "metadata": {},
     "output_type": "execute_result"
    }
   ],
   "execution_count": 17
  },
  {
   "metadata": {},
   "cell_type": "markdown",
   "source": [
    "## For loop to iterate over the result set of a dynamic query\n",
    "\n",
    "基本语法：\n",
    "```\n",
    "[ <<label>> ]\n",
    "for row in execute query_expression [ using query_param [, ... ] ] \n",
    "loop\n",
    "    statements\n",
    "end loop [ label ];\n",
    "```"
   ],
   "id": "71a4a055bd9a13a4"
  },
  {
   "metadata": {
    "ExecuteTime": {
     "end_time": "2024-04-06T02:06:51.780608Z",
     "start_time": "2024-04-06T02:06:51.763607Z"
    }
   },
   "cell_type": "code",
   "source": [
    "# 基本用法\n",
    "sql = \"\"\"\n",
    "do $$\n",
    "declare\n",
    "    -- sort by 1: title, 2: release year\n",
    "    sort_type smallint := 1; \n",
    "\t-- return the number of films\n",
    "\trec_count int := 10;\n",
    "\t-- use to iterate over the film\n",
    "\trec record;\n",
    "\t-- dynamic query\n",
    "    query text;\n",
    "begin\n",
    "\tquery := 'select title, release_year from film ';\n",
    "\tif sort_type = 1 then\n",
    "\t\tquery := query || 'order by title';\n",
    "\telsif sort_type = 2 then\n",
    "\t  query := query || 'order by release_year';\n",
    "\telse \n",
    "\t   raise 'invalid sort type %s', sort_type;\n",
    "\tend if;\n",
    "\n",
    "\tquery := query || ' limit $1';\n",
    "\tfor rec in execute query using rec_count\n",
    "        loop\n",
    "\t     raise notice '% - %', rec.release_year, rec.title;\n",
    "\tend loop;\n",
    "end;\n",
    "$$\n",
    "\"\"\"\n",
    "cursor.execute(sql)"
   ],
   "id": "a0424895d1b0724c",
   "outputs": [
    {
     "name": "stdout",
     "output_type": "stream",
     "text": [
      "2006 - Academy Dinosaur\n",
      "2006 - Ace Goldfinger\n",
      "2006 - Adaptation Holes\n",
      "2006 - Affair Prejudice\n",
      "2006 - African Egg\n",
      "2006 - Agent Truman\n",
      "2006 - Airplane Sierra\n",
      "2006 - Airport Pollock\n",
      "2006 - Alabama Devil\n",
      "2006 - Aladdin Calendar\n"
     ]
    },
    {
     "data": {
      "text/plain": [
       "<psycopg.Cursor [COMMAND_OK] [INTRANS] (host=localhost user=postgres database=dvdrental) at 0x26214270300>"
      ]
     },
     "execution_count": 18,
     "metadata": {},
     "output_type": "execute_result"
    }
   ],
   "execution_count": 18
  }
 ],
 "metadata": {
  "kernelspec": {
   "display_name": "Python 3",
   "language": "python",
   "name": "python3"
  },
  "language_info": {
   "codemirror_mode": {
    "name": "ipython",
    "version": 2
   },
   "file_extension": ".py",
   "mimetype": "text/x-python",
   "name": "python",
   "nbconvert_exporter": "python",
   "pygments_lexer": "ipython2",
   "version": "2.7.6"
  }
 },
 "nbformat": 4,
 "nbformat_minor": 5
}
