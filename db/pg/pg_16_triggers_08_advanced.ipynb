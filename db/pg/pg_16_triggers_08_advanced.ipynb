{
 "cells": [
  {
   "cell_type": "code",
   "id": "initial_id",
   "metadata": {
    "collapsed": true,
    "ExecuteTime": {
     "end_time": "2024-04-23T23:52:44.486334Z",
     "start_time": "2024-04-23T23:52:44.454757Z"
    }
   },
   "source": [
    "from common import *\n",
    "\n",
    "cursor = connect()"
   ],
   "outputs": [],
   "execution_count": 8
  },
  {
   "metadata": {},
   "cell_type": "markdown",
   "source": [
    "# Event trigger\n",
    "\n",
    "每当关联表上发生 `INSERT`、`UPDATE`、`DELETE` 或 `TRUNCATE` 事件时，就会触发常规触发器。要自动响应与数据定义语言 (DDL) 语句相关的事件，可以使用事件触发器。PostgreSQL 支持以下事件：\n",
    "- ddl_command_start\n",
    "- ddl_command_end\n",
    "- table_rewrite\n",
    "- sql_drop\n",
    "\n",
    "语法\n",
    "```\n",
    "CREATE OR REPLACE FUNCTION event_trigger_function_name()\n",
    "RETURNS EVENT_TRIGGER\n",
    "AS\n",
    "$$\n",
    "BEGIN\n",
    "   -- trigger logic\n",
    "   -- ...\n",
    "   -- no RETURN statement\n",
    "END;\n",
    "$$;\n",
    "```\n",
    "```\n",
    "CREATE EVENT TRIGGER trigger_name\n",
    "ON event\n",
    "EXECUTE FUNCTION event_trigger_function_name()\n",
    "```\n",
    "\n",
    "\n",
    "## ddl_command_start\n",
    "\n",
    " `ddl_command_start` 事件发生在 PostgreSQL 执行 `CREATE`, `ALTER`, `DROP`, `GRANT`, `REVOKE`, `SECURITY` `LABEL`, 和 `COMMENT` 语句之前。完整的支持请查看[此链接](https://www.postgresql.org/docs/current/event-trigger-matrix.html)。\n",
    " 对于 `databases`、`tablespaces` 和 `roles` 色等共享对象，不会发生 `ddl_command_start` 事件。\n",
    " \n",
    "## ddl_command_end\n",
    "\n",
    "`ddl_command_end` 事件发生在上述 DDL 语句之后。\n",
    "\n",
    "## table_rewrite\n",
    "\n",
    "`table_rewrite` 事件发生在 `ALTER TABLE` 或 `ALTER TYPE` 语句之前。\n",
    "\n",
    "## sql_drop\n",
    "\n",
    "`sql_drop` 事件发生在删除 databse 对象之后，在 `ddl_command_end` 事件之前。"
   ],
   "id": "d73499a39e11db20"
  },
  {
   "metadata": {
    "ExecuteTime": {
     "end_time": "2024-04-23T23:51:45.722925Z",
     "start_time": "2024-04-23T23:51:45.705926Z"
    }
   },
   "cell_type": "code",
   "source": [
    "sql = \"\"\"\n",
    "CREATE TABLE audits (\n",
    "    id SERIAL PRIMARY KEY,\n",
    "    username VARCHAR(100) NOT NULL,\n",
    "    event VARCHAR(50) NOT NULL,\n",
    "    command TEXT NOT NULL,\n",
    "    executed_at TIMESTAMP DEFAULT CURRENT_TIMESTAMP\n",
    ");\n",
    "\n",
    "\n",
    "CREATE OR REPLACE FUNCTION audit_command()\n",
    "RETURNS EVENT_TRIGGER \n",
    "AS $$\n",
    "BEGIN\n",
    "    INSERT INTO audits (username, event , command)\n",
    "    VALUES (session_user, TG_EVENT, TG_TAG );\n",
    "END;\n",
    "$$ LANGUAGE plpgsql;\n",
    "\n",
    "\n",
    "CREATE EVENT TRIGGER audit_ddl_commands\n",
    "ON ddl_command_end\n",
    "EXECUTE FUNCTION audit_command();\n",
    "\"\"\"\n",
    "cursor.execute(sql)"
   ],
   "id": "cd9601475ddb7af4",
   "outputs": [
    {
     "data": {
      "text/plain": [
       "<psycopg.Cursor [COMMAND_OK] [INTRANS] (host=localhost user=postgres database=dvdrental) at 0x1b4ffb193d0>"
      ]
     },
     "execution_count": 2,
     "metadata": {},
     "output_type": "execute_result"
    }
   ],
   "execution_count": 2
  },
  {
   "metadata": {
    "ExecuteTime": {
     "end_time": "2024-04-23T23:51:48.091682Z",
     "start_time": "2024-04-23T23:51:48.082091Z"
    }
   },
   "cell_type": "code",
   "source": [
    "sql = \"\"\"\n",
    "CREATE TABLE regions(\n",
    "    id SERIAL PRIMARY KEY,\n",
    "    name VARCHAR(255) NOT NULL   \n",
    ");\n",
    "\"\"\"\n",
    "cursor.execute(sql)"
   ],
   "id": "34a90fa94b3cdf2f",
   "outputs": [
    {
     "data": {
      "text/plain": [
       "<psycopg.Cursor [COMMAND_OK] [INTRANS] (host=localhost user=postgres database=dvdrental) at 0x1b4ffb193d0>"
      ]
     },
     "execution_count": 3,
     "metadata": {},
     "output_type": "execute_result"
    }
   ],
   "execution_count": 3
  },
  {
   "metadata": {
    "ExecuteTime": {
     "end_time": "2024-04-23T23:51:51.113187Z",
     "start_time": "2024-04-23T23:51:51.107441Z"
    }
   },
   "cell_type": "code",
   "source": [
    "sql = \"\"\"\n",
    "SELECT * FROM audits;\n",
    "\"\"\"\n",
    "run_sql(cursor, sql)"
   ],
   "id": "80d6679271482cc7",
   "outputs": [
    {
     "name": "stdout",
     "output_type": "stream",
     "text": [
      "   id  username            event       command                executed_at\n",
      "0   1  postgres  ddl_command_end  CREATE TABLE 2024-04-24 07:51:45.707484\n"
     ]
    }
   ],
   "execution_count": 4
  },
  {
   "metadata": {},
   "cell_type": "markdown",
   "source": [
    "# 普通触发器与事件触发器\n",
    "\n",
    "| 特性 | 普通触发器 | 事件触发器 |\n",
    "| --- | --- | --- |\n",
    "|触发器等级| Table-level trigger, associated with a specific table and fired on INSERT, UPDATE, DELETE, or TRUNCATE statement. | Database-level triggers fired in response to DDL statements such as CREATE, ALTER, DROP, etc. |\n",
    "|执行时机|Can be fired BEFORE, AFTER, or INSTEAD OF DML operations|Fired at some events including ddl_command_start, ddl_command_end, table_rewrite, sql_drop\n",
    "|访问的数据|Has access to the data being modified|Has access to metadata\n",
    "|使用场景|Logging changes to a specific table, updating related tables, and enforcing business rules.|Auditing DDL commands, and monitoring user activities.\n"
   ],
   "id": "ed800a29a0703429"
  },
  {
   "metadata": {},
   "cell_type": "markdown",
   "source": [
    "# 条件触发器\n",
    "\n",
    "语法\n",
    "```\n",
    "CREATE TRIGGER trigger_name\n",
    "ON table_name\n",
    "WHEN condition\n",
    "EXECUTE FUNCTION function_name(arguments);\n",
    "```"
   ],
   "id": "7fec5d110f9719c8"
  },
  {
   "metadata": {
    "ExecuteTime": {
     "end_time": "2024-04-23T23:52:50.818937Z",
     "start_time": "2024-04-23T23:52:50.797962Z"
    }
   },
   "cell_type": "code",
   "source": [
    "sql = \"\"\"\n",
    "CREATE TABLE orders (\n",
    "    order_id INT GENERATED ALWAYS AS IDENTITY PRIMARY KEY,\n",
    "    customer_id INT NOT NULL,\n",
    "    total_amount NUMERIC NOT NULL DEFAULT 0,\n",
    "    status VARCHAR(20) NOT NULL\n",
    ");\n",
    "\n",
    "CREATE TABLE customer_stats (\n",
    "    customer_id INT PRIMARY KEY,\n",
    "    total_spent NUMERIC NOT NULL DEFAULT 0\n",
    ");\n",
    "\n",
    "CREATE OR REPLACE FUNCTION insert_customer_stats()\n",
    "RETURNS TRIGGER \n",
    "AS $$\n",
    "BEGIN\n",
    "   INSERT INTO customer_stats (customer_id)\n",
    "   VALUES (NEW.customer_id);\n",
    "   RETURN NULL;\n",
    "END;\n",
    "$$ LANGUAGE plpgsql;\n",
    "\n",
    "CREATE TRIGGER insert_customer_stats_trigger\n",
    "AFTER INSERT ON orders\n",
    "FOR EACH ROW\n",
    "EXECUTE FUNCTION insert_customer_stats();\n",
    "\n",
    "\n",
    "CREATE OR REPLACE FUNCTION update_customer_stats()\n",
    "RETURNS TRIGGER \n",
    "AS \n",
    "$$\n",
    "BEGIN\n",
    "    IF NEW.status = 'completed' THEN\n",
    "        -- Update the total_spent for the customer\n",
    "        UPDATE customer_stats\n",
    "        SET total_spent = total_spent + NEW.total_amount\n",
    "        WHERE customer_id = NEW.customer_id;\n",
    "    END IF;\n",
    "    RETURN NULL;\n",
    "END;\n",
    "$$ LANGUAGE plpgsql;\n",
    "\n",
    "CREATE TRIGGER update_customer_stats_trigger\n",
    "AFTER UPDATE ON orders\n",
    "FOR EACH ROW\n",
    "WHEN (OLD.status <> 'completed' AND NEW.status = 'completed')\n",
    "EXECUTE FUNCTION update_customer_stats();\n",
    "\"\"\"\n",
    "cursor.execute(sql)"
   ],
   "id": "4576f5dd46c961e2",
   "outputs": [
    {
     "data": {
      "text/plain": [
       "<psycopg.Cursor [COMMAND_OK] [INTRANS] (host=localhost user=postgres database=dvdrental) at 0x1b4898550d0>"
      ]
     },
     "execution_count": 9,
     "metadata": {},
     "output_type": "execute_result"
    }
   ],
   "execution_count": 9
  },
  {
   "metadata": {
    "ExecuteTime": {
     "end_time": "2024-04-23T23:52:52.896911Z",
     "start_time": "2024-04-23T23:52:52.892101Z"
    }
   },
   "cell_type": "code",
   "source": [
    "sql = \"\"\"\n",
    "INSERT INTO orders (customer_id, total_amount, status)\n",
    "VALUES\n",
    "    (1, 100, 'pending'),\n",
    "    (2, 200, 'pending');\n",
    "    \n",
    "UPDATE orders\n",
    "SET status = 'completed'\n",
    "WHERE customer_id IN (1,2);\n",
    "\"\"\"\n",
    "cursor.execute(sql)"
   ],
   "id": "6a0eeb39778b5d4a",
   "outputs": [
    {
     "data": {
      "text/plain": [
       "<psycopg.Cursor [COMMAND_OK] [INTRANS] (host=localhost user=postgres database=dvdrental) at 0x1b4898550d0>"
      ]
     },
     "execution_count": 10,
     "metadata": {},
     "output_type": "execute_result"
    }
   ],
   "execution_count": 10
  },
  {
   "metadata": {
    "ExecuteTime": {
     "end_time": "2024-04-23T23:52:54.647601Z",
     "start_time": "2024-04-23T23:52:54.644501Z"
    }
   },
   "cell_type": "code",
   "source": [
    "sql = \"\"\"\n",
    "SELECT * FROM customer_stats;\n",
    "\"\"\"\n",
    "run_sql(cursor, sql)"
   ],
   "id": "c9df7b7727a46249",
   "outputs": [
    {
     "name": "stdout",
     "output_type": "stream",
     "text": [
      "   customer_id total_spent\n",
      "0            1         100\n",
      "1            2         200\n"
     ]
    }
   ],
   "execution_count": 11
  }
 ],
 "metadata": {
  "kernelspec": {
   "display_name": "Python 3",
   "language": "python",
   "name": "python3"
  },
  "language_info": {
   "codemirror_mode": {
    "name": "ipython",
    "version": 2
   },
   "file_extension": ".py",
   "mimetype": "text/x-python",
   "name": "python",
   "nbconvert_exporter": "python",
   "pygments_lexer": "ipython2",
   "version": "2.7.6"
  }
 },
 "nbformat": 4,
 "nbformat_minor": 5
}
