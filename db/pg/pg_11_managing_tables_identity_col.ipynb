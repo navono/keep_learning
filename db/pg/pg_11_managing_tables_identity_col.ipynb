{
 "cells": [
  {
   "cell_type": "markdown",
   "source": [
    "```\n",
    "column_name type GENERATED { ALWAYS | BY DEFAULT } AS IDENTITY[ ( sequence_option ) ]\n",
    "```\n",
    "\n",
    "与 `SERIAL` 区别：\n",
    "- 符合标准 SQL 规范\n",
    "- 更具可读性和可维护性\n",
    "- 具有可移植性和互操作性\n",
    "- 更有利于数据完整性和维护，因为它提供了对属性进行控制的能力"
   ],
   "metadata": {
    "collapsed": false
   },
   "id": "d75eab1d0c7285a8"
  },
  {
   "cell_type": "code",
   "execution_count": 17,
   "id": "initial_id",
   "metadata": {
    "collapsed": true,
    "ExecuteTime": {
     "end_time": "2024-02-20T00:41:35.813998300Z",
     "start_time": "2024-02-20T00:41:35.766666500Z"
    }
   },
   "outputs": [],
   "source": [
    "import common.ipynb_importer\n",
    "from db.pg.pg_00_common import *\n",
    "\n",
    "cursor = pg_connect()"
   ]
  },
  {
   "cell_type": "code",
   "outputs": [
    {
     "data": {
      "text/plain": "<psycopg.Cursor [COMMAND_OK] [INTRANS] (host=localhost user=postgres database=dvdrental) at 0x18dd6912c40>"
     },
     "execution_count": 2,
     "metadata": {},
     "output_type": "execute_result"
    }
   ],
   "source": [
    "sql = \"\"\"\n",
    "CREATE TABLE color (\n",
    "    color_id INT GENERATED ALWAYS AS IDENTITY,\n",
    "    color_name VARCHAR NOT NULL\n",
    ");\n",
    "\n",
    "INSERT INTO color(color_name)\n",
    "VALUES ('Red');\n",
    "\"\"\"\n",
    "\n",
    "cursor.execute(sql)"
   ],
   "metadata": {
    "collapsed": false,
    "ExecuteTime": {
     "end_time": "2024-01-30T03:18:19.423472700Z",
     "start_time": "2024-01-30T03:18:19.393046400Z"
    }
   },
   "id": "bd99fab5a73e9cc5",
   "execution_count": 2
  },
  {
   "cell_type": "code",
   "outputs": [
    {
     "name": "stdout",
     "output_type": "stream",
     "text": [
      "   color_id color_name\n",
      "0         1        Red\n"
     ]
    }
   ],
   "source": [
    "sql = \"\"\"\n",
    "SELECT * FROM color;\n",
    "\"\"\"\n",
    "\n",
    "run_sql(cursor, sql)"
   ],
   "metadata": {
    "collapsed": false,
    "ExecuteTime": {
     "end_time": "2024-01-30T03:18:21.506168400Z",
     "start_time": "2024-01-30T03:18:21.474294700Z"
    }
   },
   "id": "ae3b7059f49e48fa",
   "execution_count": 3
  },
  {
   "cell_type": "code",
   "outputs": [
    {
     "ename": "UndefinedTable",
     "evalue": "关系 \"color\" 不存在\nLINE 2: INSERT INTO color (color_id, color_name)\n                    ^",
     "output_type": "error",
     "traceback": [
      "\u001B[1;31m---------------------------------------------------------------------------\u001B[0m",
      "\u001B[1;31mUndefinedTable\u001B[0m                            Traceback (most recent call last)",
      "Cell \u001B[1;32mIn[6], line 15\u001B[0m\n\u001B[0;32m      8\u001B[0m sql2 \u001B[38;5;241m=\u001B[39m \u001B[38;5;124m\"\"\"\u001B[39m\n\u001B[0;32m      9\u001B[0m \u001B[38;5;124mINSERT INTO color (color_id, color_name)\u001B[39m\n\u001B[0;32m     10\u001B[0m \u001B[38;5;124mOVERRIDING SYSTEM VALUE \u001B[39m\n\u001B[0;32m     11\u001B[0m \u001B[38;5;124mVALUES(2, \u001B[39m\u001B[38;5;124m'\u001B[39m\u001B[38;5;124mGreen\u001B[39m\u001B[38;5;124m'\u001B[39m\u001B[38;5;124m);\u001B[39m\n\u001B[0;32m     12\u001B[0m \u001B[38;5;124m\"\"\"\u001B[39m\n\u001B[0;32m     14\u001B[0m \u001B[38;5;66;03m# run_sql(cursor, sql)\u001B[39;00m\n\u001B[1;32m---> 15\u001B[0m \u001B[43mrun_sql\u001B[49m\u001B[43m(\u001B[49m\u001B[43mcursor\u001B[49m\u001B[43m,\u001B[49m\u001B[43m \u001B[49m\u001B[43msql2\u001B[49m\u001B[43m)\u001B[49m\n",
      "File \u001B[1;32m<string>:2\u001B[0m, in \u001B[0;36mrun_sql\u001B[1;34m(cursor, sql_stat)\u001B[0m\n",
      "File \u001B[1;32m~\\.conda\\envs\\learning\\lib\\site-packages\\psycopg\\cursor.py:732\u001B[0m, in \u001B[0;36mCursor.execute\u001B[1;34m(self, query, params, prepare, binary)\u001B[0m\n\u001B[0;32m    728\u001B[0m         \u001B[38;5;28mself\u001B[39m\u001B[38;5;241m.\u001B[39m_conn\u001B[38;5;241m.\u001B[39mwait(\n\u001B[0;32m    729\u001B[0m             \u001B[38;5;28mself\u001B[39m\u001B[38;5;241m.\u001B[39m_execute_gen(query, params, prepare\u001B[38;5;241m=\u001B[39mprepare, binary\u001B[38;5;241m=\u001B[39mbinary)\n\u001B[0;32m    730\u001B[0m         )\n\u001B[0;32m    731\u001B[0m \u001B[38;5;28;01mexcept\u001B[39;00m e\u001B[38;5;241m.\u001B[39m_NO_TRACEBACK \u001B[38;5;28;01mas\u001B[39;00m ex:\n\u001B[1;32m--> 732\u001B[0m     \u001B[38;5;28;01mraise\u001B[39;00m ex\u001B[38;5;241m.\u001B[39mwith_traceback(\u001B[38;5;28;01mNone\u001B[39;00m)\n\u001B[0;32m    733\u001B[0m \u001B[38;5;28;01mreturn\u001B[39;00m \u001B[38;5;28mself\u001B[39m\n",
      "\u001B[1;31mUndefinedTable\u001B[0m: 关系 \"color\" 不存在\nLINE 2: INSERT INTO color (color_id, color_name)\n                    ^"
     ]
    }
   ],
   "source": [
    "# 定义为 GENERATED ALWAYS 时，无法手动更新\n",
    "sql = \"\"\"\n",
    "INSERT INTO color (color_id, color_name)\n",
    "VALUES (2, 'Green');\n",
    "\"\"\"\n",
    "\n",
    "# 除非使用 OVERRIDING SYSTEM VALUE\n",
    "sql2 = \"\"\"\n",
    "INSERT INTO color (color_id, color_name)\n",
    "OVERRIDING SYSTEM VALUE \n",
    "VALUES(2, 'Green');\n",
    "\"\"\"\n",
    "\n",
    "# run_sql(cursor, sql)\n",
    "run_sql(cursor, sql2)"
   ],
   "metadata": {
    "collapsed": false,
    "ExecuteTime": {
     "end_time": "2024-01-30T03:19:30.345454500Z",
     "start_time": "2024-01-30T03:19:30.311873600Z"
    }
   },
   "id": "ee5d58005d60a6f2",
   "execution_count": 6
  },
  {
   "cell_type": "code",
   "outputs": [
    {
     "name": "stdout",
     "output_type": "stream",
     "text": [
      "   color_id color_name\n",
      "0         1      White\n",
      "1         2     Yellow\n"
     ]
    }
   ],
   "source": [
    "sql = \"\"\"\n",
    "DROP TABLE IF EXISTS color;\n",
    "\n",
    "CREATE TABLE color (\n",
    "    color_id INT GENERATED BY DEFAULT AS IDENTITY,\n",
    "    color_name VARCHAR NOT NULL\n",
    ");\n",
    "\n",
    "INSERT INTO color (color_name)\n",
    "VALUES ('White');\n",
    "\n",
    "INSERT INTO color (color_id, color_name)\n",
    "VALUES (2, 'Yellow');\n",
    "\"\"\"\n",
    "cursor.execute(sql)\n",
    "\n",
    "sql = \"\"\"\n",
    "SELECT * from color;\n",
    "\"\"\"\n",
    "\n",
    "run_sql(cursor, sql)"
   ],
   "metadata": {
    "collapsed": false,
    "ExecuteTime": {
     "end_time": "2024-02-20T00:37:46.024155200Z",
     "start_time": "2024-02-20T00:37:45.990151600Z"
    }
   },
   "id": "811f8e2cad658b86",
   "execution_count": 11
  },
  {
   "cell_type": "code",
   "outputs": [
    {
     "name": "stdout",
     "output_type": "stream",
     "text": [
      "   color_id color_name\n",
      "0        10      White\n"
     ]
    }
   ],
   "source": [
    "# 指定起始值和增长率\n",
    "sql = \"\"\"\n",
    "DROP TABLE IF EXISTS color;\n",
    "\n",
    "CREATE TABLE color (\n",
    "    color_id INT GENERATED BY DEFAULT AS IDENTITY \n",
    "    (START WITH 10 INCREMENT BY 10),\n",
    "    color_name VARCHAR NOT NULL\n",
    ");\n",
    "\n",
    "INSERT INTO color (color_name)\n",
    "VALUES ('White');\n",
    "\"\"\"\n",
    "cursor.execute(sql)\n",
    "\n",
    "sql = \"\"\"\n",
    "SELECT * from color;\n",
    "\"\"\"\n",
    "\n",
    "run_sql(cursor, sql)"
   ],
   "metadata": {
    "collapsed": false,
    "ExecuteTime": {
     "end_time": "2024-02-20T00:38:48.026150Z",
     "start_time": "2024-02-20T00:38:48.005285200Z"
    }
   },
   "id": "21c564620f127213",
   "execution_count": 13
  },
  {
   "cell_type": "code",
   "outputs": [
    {
     "name": "stdout",
     "output_type": "stream",
     "text": [
      "   color_id color_name\n",
      "0        10      White\n",
      "1        20     Purple\n"
     ]
    }
   ],
   "source": [
    "sql = \"\"\"\n",
    "INSERT INTO color (color_name)\n",
    "VALUES ('Purple');\n",
    "\"\"\"\n",
    "cursor.execute(sql)\n",
    "\n",
    "sql = \"\"\"\n",
    "SELECT * from color;\n",
    "\"\"\"\n",
    "\n",
    "run_sql(cursor, sql)"
   ],
   "metadata": {
    "collapsed": false,
    "ExecuteTime": {
     "end_time": "2024-02-20T00:38:50.172218400Z",
     "start_time": "2024-02-20T00:38:50.142731200Z"
    }
   },
   "id": "e243ce30c8a2b237",
   "execution_count": 14
  },
  {
   "cell_type": "markdown",
   "source": [
    "将 Identity column 加入到已经存在的表中"
   ],
   "metadata": {
    "collapsed": false
   },
   "id": "827eddfb6fc606b"
  },
  {
   "cell_type": "code",
   "outputs": [
    {
     "data": {
      "text/plain": "<psycopg.Cursor [COMMAND_OK] [INTRANS] (host=localhost user=postgres database=dvdrental) at 0x192b9b89b10>"
     },
     "execution_count": 18,
     "metadata": {},
     "output_type": "execute_result"
    }
   ],
   "source": [
    "sql = \"\"\"\n",
    "CREATE TABLE shape (\n",
    "    shape_id INT NOT NULL,\n",
    "    shape_name VARCHAR NOT NULL\n",
    ");\n",
    "\"\"\"\n",
    "cursor.execute(sql)\n",
    "\n",
    "# 增加\n",
    "sql2 = \"\"\"\n",
    "ALTER TABLE shape \n",
    "ALTER COLUMN shape_id ADD GENERATED ALWAYS AS IDENTITY;\n",
    "\"\"\"\n",
    "cursor.execute(sql2)\n",
    "\n",
    "# 修改\n",
    "sql3 = \"\"\"\n",
    "ALTER TABLE shape\n",
    "ALTER COLUMN shape_id SET GENERATED BY DEFAULT;\n",
    "\"\"\"\n",
    "cursor.execute(sql3)\n",
    "\n",
    "# 删除\n",
    "sql4 = \"\"\"\n",
    "ALTER TABLE shape\n",
    "ALTER COLUMN shape_id\n",
    "DROP IDENTITY IF EXISTS;\n",
    "\"\"\"\n",
    "cursor.execute(sql4)"
   ],
   "metadata": {
    "collapsed": false,
    "ExecuteTime": {
     "end_time": "2024-02-20T00:41:39.680964400Z",
     "start_time": "2024-02-20T00:41:39.643902900Z"
    }
   },
   "id": "a1e6e7d6ba96d71f",
   "execution_count": 18
  }
 ],
 "metadata": {
  "kernelspec": {
   "display_name": "Python 3",
   "language": "python",
   "name": "python3"
  },
  "language_info": {
   "codemirror_mode": {
    "name": "ipython",
    "version": 2
   },
   "file_extension": ".py",
   "mimetype": "text/x-python",
   "name": "python",
   "nbconvert_exporter": "python",
   "pygments_lexer": "ipython2",
   "version": "2.7.6"
  }
 },
 "nbformat": 4,
 "nbformat_minor": 5
}
