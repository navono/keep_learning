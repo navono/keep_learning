{
 "cells": [
  {
   "cell_type": "markdown",
   "source": [
    "```\n",
    "column_name type GENERATED { ALWAYS | BY DEFAULT } AS IDENTITY[ ( sequence_option ) ]\n",
    "```\n",
    "\n",
    "与 `SERIAL` 区别：\n",
    "- 符合标准 SQL 规范\n",
    "- 更具可读性和可维护性\n",
    "- 具有可移植性和互操作性\n",
    "- 更有利于数据完整性和维护，因为它提供了对属性进行控制的能力"
   ],
   "metadata": {
    "collapsed": false
   },
   "id": "d75eab1d0c7285a8"
  },
  {
   "cell_type": "code",
   "execution_count": 5,
   "id": "initial_id",
   "metadata": {
    "collapsed": true,
    "ExecuteTime": {
     "end_time": "2024-01-30T03:19:27.982189400Z",
     "start_time": "2024-01-30T03:19:27.945144400Z"
    }
   },
   "outputs": [],
   "source": [
    "import common.ipynb_importer\n",
    "from db.pg.pg_00_common import *\n",
    "\n",
    "cursor = pg_connect()"
   ]
  },
  {
   "cell_type": "code",
   "outputs": [
    {
     "data": {
      "text/plain": "<psycopg.Cursor [COMMAND_OK] [INTRANS] (host=localhost user=postgres database=dvdrental) at 0x18dd6912c40>"
     },
     "execution_count": 2,
     "metadata": {},
     "output_type": "execute_result"
    }
   ],
   "source": [
    "sql = \"\"\"\n",
    "CREATE TABLE color (\n",
    "    color_id INT GENERATED ALWAYS AS IDENTITY,\n",
    "    color_name VARCHAR NOT NULL\n",
    ");\n",
    "\n",
    "INSERT INTO color(color_name)\n",
    "VALUES ('Red');\n",
    "\"\"\"\n",
    "\n",
    "cursor.execute(sql)"
   ],
   "metadata": {
    "collapsed": false,
    "ExecuteTime": {
     "end_time": "2024-01-30T03:18:19.423472700Z",
     "start_time": "2024-01-30T03:18:19.393046400Z"
    }
   },
   "id": "bd99fab5a73e9cc5",
   "execution_count": 2
  },
  {
   "cell_type": "code",
   "outputs": [
    {
     "name": "stdout",
     "output_type": "stream",
     "text": [
      "   color_id color_name\n",
      "0         1        Red\n"
     ]
    }
   ],
   "source": [
    "sql = \"\"\"\n",
    "SELECT * FROM color;\n",
    "\"\"\"\n",
    "\n",
    "run_sql(cursor, sql)"
   ],
   "metadata": {
    "collapsed": false,
    "ExecuteTime": {
     "end_time": "2024-01-30T03:18:21.506168400Z",
     "start_time": "2024-01-30T03:18:21.474294700Z"
    }
   },
   "id": "ae3b7059f49e48fa",
   "execution_count": 3
  },
  {
   "cell_type": "code",
   "outputs": [
    {
     "ename": "UndefinedTable",
     "evalue": "关系 \"color\" 不存在\nLINE 2: INSERT INTO color (color_id, color_name)\n                    ^",
     "output_type": "error",
     "traceback": [
      "\u001B[1;31m---------------------------------------------------------------------------\u001B[0m",
      "\u001B[1;31mUndefinedTable\u001B[0m                            Traceback (most recent call last)",
      "Cell \u001B[1;32mIn[6], line 15\u001B[0m\n\u001B[0;32m      8\u001B[0m sql2 \u001B[38;5;241m=\u001B[39m \u001B[38;5;124m\"\"\"\u001B[39m\n\u001B[0;32m      9\u001B[0m \u001B[38;5;124mINSERT INTO color (color_id, color_name)\u001B[39m\n\u001B[0;32m     10\u001B[0m \u001B[38;5;124mOVERRIDING SYSTEM VALUE \u001B[39m\n\u001B[0;32m     11\u001B[0m \u001B[38;5;124mVALUES(2, \u001B[39m\u001B[38;5;124m'\u001B[39m\u001B[38;5;124mGreen\u001B[39m\u001B[38;5;124m'\u001B[39m\u001B[38;5;124m);\u001B[39m\n\u001B[0;32m     12\u001B[0m \u001B[38;5;124m\"\"\"\u001B[39m\n\u001B[0;32m     14\u001B[0m \u001B[38;5;66;03m# run_sql(cursor, sql)\u001B[39;00m\n\u001B[1;32m---> 15\u001B[0m \u001B[43mrun_sql\u001B[49m\u001B[43m(\u001B[49m\u001B[43mcursor\u001B[49m\u001B[43m,\u001B[49m\u001B[43m \u001B[49m\u001B[43msql2\u001B[49m\u001B[43m)\u001B[49m\n",
      "File \u001B[1;32m<string>:2\u001B[0m, in \u001B[0;36mrun_sql\u001B[1;34m(cursor, sql_stat)\u001B[0m\n",
      "File \u001B[1;32m~\\.conda\\envs\\learning\\lib\\site-packages\\psycopg\\cursor.py:732\u001B[0m, in \u001B[0;36mCursor.execute\u001B[1;34m(self, query, params, prepare, binary)\u001B[0m\n\u001B[0;32m    728\u001B[0m         \u001B[38;5;28mself\u001B[39m\u001B[38;5;241m.\u001B[39m_conn\u001B[38;5;241m.\u001B[39mwait(\n\u001B[0;32m    729\u001B[0m             \u001B[38;5;28mself\u001B[39m\u001B[38;5;241m.\u001B[39m_execute_gen(query, params, prepare\u001B[38;5;241m=\u001B[39mprepare, binary\u001B[38;5;241m=\u001B[39mbinary)\n\u001B[0;32m    730\u001B[0m         )\n\u001B[0;32m    731\u001B[0m \u001B[38;5;28;01mexcept\u001B[39;00m e\u001B[38;5;241m.\u001B[39m_NO_TRACEBACK \u001B[38;5;28;01mas\u001B[39;00m ex:\n\u001B[1;32m--> 732\u001B[0m     \u001B[38;5;28;01mraise\u001B[39;00m ex\u001B[38;5;241m.\u001B[39mwith_traceback(\u001B[38;5;28;01mNone\u001B[39;00m)\n\u001B[0;32m    733\u001B[0m \u001B[38;5;28;01mreturn\u001B[39;00m \u001B[38;5;28mself\u001B[39m\n",
      "\u001B[1;31mUndefinedTable\u001B[0m: 关系 \"color\" 不存在\nLINE 2: INSERT INTO color (color_id, color_name)\n                    ^"
     ]
    }
   ],
   "source": [
    "# 定义为 GENERATED ALWAYS 时，无法手动更新\n",
    "sql = \"\"\"\n",
    "INSERT INTO color (color_id, color_name)\n",
    "VALUES (2, 'Green');\n",
    "\"\"\"\n",
    "\n",
    "# 除非使用 OVERRIDING SYSTEM VALUE\n",
    "sql2 = \"\"\"\n",
    "INSERT INTO color (color_id, color_name)\n",
    "OVERRIDING SYSTEM VALUE \n",
    "VALUES(2, 'Green');\n",
    "\"\"\"\n",
    "\n",
    "# run_sql(cursor, sql)\n",
    "run_sql(cursor, sql2)"
   ],
   "metadata": {
    "collapsed": false,
    "ExecuteTime": {
     "end_time": "2024-01-30T03:19:30.345454500Z",
     "start_time": "2024-01-30T03:19:30.311873600Z"
    }
   },
   "id": "ee5d58005d60a6f2",
   "execution_count": 6
  }
 ],
 "metadata": {
  "kernelspec": {
   "display_name": "Python 3",
   "language": "python",
   "name": "python3"
  },
  "language_info": {
   "codemirror_mode": {
    "name": "ipython",
    "version": 2
   },
   "file_extension": ".py",
   "mimetype": "text/x-python",
   "name": "python",
   "nbconvert_exporter": "python",
   "pygments_lexer": "ipython2",
   "version": "2.7.6"
  }
 },
 "nbformat": 4,
 "nbformat_minor": 5
}
