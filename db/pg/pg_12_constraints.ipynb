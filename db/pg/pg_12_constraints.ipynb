{
 "cells": [
  {
   "cell_type": "markdown",
   "source": [
    "# Primary key\n",
    "\n",
    "```\n",
    "CREATE TABLE TABLE (\n",
    "\tcolumn_1 data_type PRIMARY KEY,\n",
    "\tcolumn_2 data_type,\n",
    "\t…\n",
    ");\n",
    "```\n",
    "\n",
    "```\n",
    "CREATE TABLE TABLE (\n",
    "\tcolumn_1 data_type,\n",
    "\tcolumn_2 data_type,\n",
    "\t… \n",
    "        PRIMARY KEY (column_1, column_2)\n",
    ");\n",
    "```"
   ],
   "metadata": {
    "collapsed": false
   },
   "id": "365c74b7bd137702"
  },
  {
   "cell_type": "code",
   "execution_count": null,
   "id": "initial_id",
   "metadata": {
    "collapsed": true
   },
   "outputs": [],
   "source": []
  }
 ],
 "metadata": {
  "kernelspec": {
   "display_name": "Python 3",
   "language": "python",
   "name": "python3"
  },
  "language_info": {
   "codemirror_mode": {
    "name": "ipython",
    "version": 2
   },
   "file_extension": ".py",
   "mimetype": "text/x-python",
   "name": "python",
   "nbconvert_exporter": "python",
   "pygments_lexer": "ipython2",
   "version": "2.7.6"
  }
 },
 "nbformat": 4,
 "nbformat_minor": 5
}
