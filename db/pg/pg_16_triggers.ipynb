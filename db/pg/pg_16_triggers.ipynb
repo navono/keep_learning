{
 "cells": [
  {
   "cell_type": "markdown",
   "source": [
    "# Trigger\n",
    "\n",
    "触发器就是一个自动调用函数，当一个特定的数据库事件发生时，触发器会被自动执行。数据库事件包括：\n",
    "- insert\n",
    "- update\n",
    "- delete\n",
    "- truncate\n",
    "\n",
    "触发器可以在表上定义，当表上的事件发生时，触发器会被调用。触发器可以在行级别或者语句级别触发。\n",
    "\n",
    "## 触发器类型\n",
    "- Row-level trigger: 当行被插入、更新或者删除时触发\n",
    "- Statement-level trigger: 当SQL语句执行时触发\n",
    "\n",
    "两种类型之间的区别在于调用触发器的次数和时间。"
   ],
   "metadata": {
    "collapsed": false
   },
   "id": "27f0d80a29f8298b"
  },
  {
   "cell_type": "code",
   "execution_count": null,
   "id": "initial_id",
   "metadata": {
    "collapsed": true
   },
   "outputs": [],
   "source": []
  }
 ],
 "metadata": {
  "kernelspec": {
   "display_name": "Python 3",
   "language": "python",
   "name": "python3"
  },
  "language_info": {
   "codemirror_mode": {
    "name": "ipython",
    "version": 2
   },
   "file_extension": ".py",
   "mimetype": "text/x-python",
   "name": "python",
   "nbconvert_exporter": "python",
   "pygments_lexer": "ipython2",
   "version": "2.7.6"
  }
 },
 "nbformat": 4,
 "nbformat_minor": 5
}
