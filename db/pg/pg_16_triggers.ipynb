{
 "cells": [
  {
   "metadata": {
    "ExecuteTime": {
     "end_time": "2024-04-16T00:44:09.369580Z",
     "start_time": "2024-04-16T00:44:09.209804Z"
    }
   },
   "cell_type": "code",
   "source": [
    "import common.ipynb_importer\n",
    "# from db.pg.pg_00_common import *\n",
    "import common.pg_common\n",
    "\n",
    "cursor = connect()"
   ],
   "id": "b10df66f2aad7ac9",
   "outputs": [
    {
     "ename": "NameError",
     "evalue": "name 'connect' is not defined",
     "output_type": "error",
     "traceback": [
      "\u001B[1;31m---------------------------------------------------------------------------\u001B[0m",
      "\u001B[1;31mNameError\u001B[0m                                 Traceback (most recent call last)",
      "Cell \u001B[1;32mIn[2], line 5\u001B[0m\n\u001B[0;32m      2\u001B[0m \u001B[38;5;66;03m# from db.pg.pg_00_common import *\u001B[39;00m\n\u001B[0;32m      3\u001B[0m \u001B[38;5;28;01mimport\u001B[39;00m \u001B[38;5;21;01mcommon\u001B[39;00m\u001B[38;5;21;01m.\u001B[39;00m\u001B[38;5;21;01mpg_common\u001B[39;00m\n\u001B[1;32m----> 5\u001B[0m cursor \u001B[38;5;241m=\u001B[39m \u001B[43mconnect\u001B[49m()\n",
      "\u001B[1;31mNameError\u001B[0m: name 'connect' is not defined"
     ]
    }
   ],
   "execution_count": 2
  },
  {
   "cell_type": "markdown",
   "source": [
    "# Trigger\n",
    "\n",
    "触发器就是一个自动调用函数，当一个特定的数据库事件发生时，触发器会被自动执行。数据库事件包括：\n",
    "- insert\n",
    "- update\n",
    "- delete\n",
    "- truncate\n",
    "\n",
    "触发器可以在表上定义，当表上的事件发生时，触发器会被调用。触发器可以在行级别或者语句级别触发。\n",
    "\n",
    "## 触发器类型\n",
    "- Row-level trigger: 当行被插入、更新或者删除时触发\n",
    "- Statement-level trigger: 当SQL语句执行时触发\n",
    "\n",
    "两种类型之间的区别在于调用触发器的次数和时间。\n",
    "\n",
    "## 何时使用触发器\n",
    "希望在数据库中保持跨功能，只要表的数据被修改，触发器就会自动运行。同时，可以用触发器去维护复杂数据的一致性。例如当 A 表的数据被修改时，B 表的数据也要被修改。\n",
    "缺点是必须知道触发器的存在，并了解其逻辑，才能知道数据变化时的效果。\n",
    "\n",
    "## PostgreSQL 触发器 VS SQL 标准触发器\n",
    "PostgreSQL 触发器与 SQL 标准触发器有一些不同之处：\n",
    "- PostgreSQL 为 `TRUNCATE` 事件会触发触发器；\n",
    "- PostgreSQL 允许在视图上定义触发器；\n",
    "- PostgreSQL 要求定义一个用户定义的函数作为触发器的操作。\n"
   ],
   "metadata": {
    "collapsed": false
   },
   "id": "27f0d80a29f8298b"
  },
  {
   "metadata": {},
   "cell_type": "markdown",
   "source": [
    "# 创建触发器\n",
    "\n",
    "步骤：\n",
    "1. 使用 `CREATE FUNCTION` 语句创建一个触发器函数\n",
    "2. 使用 `CREATE TRIGGER` 语句将表绑定到触发器函数上\n",
    "\n",
    "语法\n",
    "```\n",
    "CREATE FUNCTION trigger_function() \n",
    "   RETURNS TRIGGER \n",
    "   LANGUAGE PLPGSQL\n",
    "AS $$\n",
    "BEGIN\n",
    "   -- trigger logic\n",
    "END;\n",
    "$$\n",
    "``` \n",
    "\n",
    "触发器函数可以通过一个称之为 `TriggerData` 的特殊数据结构来接收调用上下文的数据，这个 `TriggerData` 结构包含了触发器的事件类型、触发器的表、触发器的行等信息。例如，`OLD` 和 `NEW` 变量分别代表了触发器的旧行和新行。PostgreSQL 同时还提供了一些以 `TG_` 开头的局部变量，例如：`TG_NAME`、`TG_WHEN`、`TG_LEVEL`、`TG_OP`、`TG_RELID`、`TG_TABLE_NAME`、`TG_TABLE_SCHEMA`、`TG_NARGS`、`TG_ARGV` 等。\n",
    "\n",
    "创建好触发器函数后，可以将其绑定到多个触发器时间，如：`BEFORE INSERT`、`AFTER UPDATE`、`BEFORE DELETE` 等。"
   ],
   "id": "b21bd83c14dd6dfd"
  },
  {
   "metadata": {},
   "cell_type": "markdown",
   "source": [
    "## CREATE TRIGGER 语句\n",
    "\n",
    "语法\n",
    "```\n",
    "CREATE TRIGGER trigger_name \n",
    "   {BEFORE | AFTER} { event }\n",
    "   ON table_name\n",
    "   [FOR [EACH] { ROW | STATEMENT }]\n",
    "       EXECUTE PROCEDURE trigger_function\n",
    "```"
   ],
   "id": "bfa5e710a7666da1"
  },
  {
   "metadata": {
    "ExecuteTime": {
     "end_time": "2024-04-10T00:21:43.176142Z",
     "start_time": "2024-04-10T00:21:43.146796Z"
    }
   },
   "cell_type": "code",
   "source": [
    "sql = \"\"\"\n",
    "CREATE TABLE employees(\n",
    "   id INT GENERATED ALWAYS AS IDENTITY,\n",
    "   first_name VARCHAR(40) NOT NULL,\n",
    "   last_name VARCHAR(40) NOT NULL,\n",
    "   PRIMARY KEY(id)\n",
    ");\n",
    "\n",
    "CREATE TABLE employee_audits (\n",
    "   id INT GENERATED ALWAYS AS IDENTITY,\n",
    "   employee_id INT NOT NULL,\n",
    "   last_name VARCHAR(40) NOT NULL,\n",
    "   changed_on TIMESTAMP NOT NULL\n",
    ");\n",
    "\n",
    "CREATE OR REPLACE FUNCTION log_last_name_changes()\n",
    "  RETURNS TRIGGER \n",
    "  LANGUAGE PLPGSQL\n",
    "  AS\n",
    "$$\n",
    "BEGIN\n",
    "\tIF NEW.last_name <> OLD.last_name THEN\n",
    "\t\t INSERT INTO employee_audits(employee_id,last_name,changed_on)\n",
    "\t\t VALUES(OLD.id,OLD.last_name,now());\n",
    "\tEND IF;\n",
    "\n",
    "\tRETURN NEW;\n",
    "END;\n",
    "$$\n",
    "\"\"\"\n",
    "cursor.execute(sql)"
   ],
   "id": "b9f8314890125cbe",
   "outputs": [
    {
     "data": {
      "text/plain": [
       "<psycopg.Cursor [COMMAND_OK] [INTRANS] (host=localhost user=postgres database=dvdrental) at 0x1b5bcd6e610>"
      ]
     },
     "execution_count": 4,
     "metadata": {},
     "output_type": "execute_result"
    }
   ],
   "execution_count": 4
  },
  {
   "metadata": {
    "ExecuteTime": {
     "end_time": "2024-04-10T00:22:00.820867Z",
     "start_time": "2024-04-10T00:22:00.798866Z"
    }
   },
   "cell_type": "code",
   "source": [
    "trigger_sql = \"\"\"\n",
    "CREATE TRIGGER last_name_changes\n",
    "  BEFORE UPDATE\n",
    "  ON employees\n",
    "  FOR EACH ROW\n",
    "  EXECUTE PROCEDURE log_last_name_changes();\n",
    "\"\"\"\n",
    "cursor.execute(trigger_sql)"
   ],
   "id": "1e52a41bb0daf9c0",
   "outputs": [
    {
     "data": {
      "text/plain": [
       "<psycopg.Cursor [COMMAND_OK] [INTRANS] (host=localhost user=postgres database=dvdrental) at 0x1b5bcd6e610>"
      ]
     },
     "execution_count": 6,
     "metadata": {},
     "output_type": "execute_result"
    }
   ],
   "execution_count": 6
  },
  {
   "metadata": {
    "ExecuteTime": {
     "end_time": "2024-04-10T00:22:57.600565Z",
     "start_time": "2024-04-10T00:22:57.587218Z"
    }
   },
   "cell_type": "code",
   "source": [
    "sql = \"\"\"\n",
    "INSERT INTO employees (first_name, last_name)\n",
    "VALUES ('John', 'Doe');\n",
    "\n",
    "INSERT INTO employees (first_name, last_name)\n",
    "VALUES ('Lily', 'Bush');\n",
    "\"\"\"\n",
    "cursor.execute(sql)\n",
    "\n",
    "query = \"\"\"\n",
    "SELECT * FROM employees;\n",
    "\"\"\"\n",
    "run_sql(cursor, query)"
   ],
   "id": "4f5f44842ca0cfd0",
   "outputs": [
    {
     "name": "stdout",
     "output_type": "stream",
     "text": [
      "   id first_name last_name\n",
      "0   1       John       Doe\n",
      "1   2       Lily      Bush\n",
      "2   3       John       Doe\n",
      "3   4       Lily      Bush\n",
      "4   5       John       Doe\n",
      "5   6       Lily      Bush\n",
      "6   7       John       Doe\n",
      "7   8       Lily      Bush\n"
     ]
    }
   ],
   "execution_count": 9
  },
  {
   "metadata": {
    "ExecuteTime": {
     "end_time": "2024-04-10T00:23:26.868508Z",
     "start_time": "2024-04-10T00:23:26.844509Z"
    }
   },
   "cell_type": "code",
   "source": [
    "sql = \"\"\"\n",
    "UPDATE employees\n",
    "SET last_name = 'Brown'\n",
    "WHERE ID = 2;\n",
    "\"\"\"\n",
    "cursor.execute(sql)"
   ],
   "id": "35afaa8aaebd2104",
   "outputs": [
    {
     "name": "stdout",
     "output_type": "stream",
     "text": [
      "   id first_name last_name\n",
      "0   1       John       Doe\n",
      "1   3       John       Doe\n",
      "2   4       Lily      Bush\n",
      "3   5       John       Doe\n",
      "4   6       Lily      Bush\n",
      "5   7       John       Doe\n",
      "6   8       Lily      Bush\n",
      "7   2       Lily     Brown\n"
     ]
    }
   ],
   "execution_count": 10
  },
  {
   "metadata": {
    "ExecuteTime": {
     "end_time": "2024-04-10T00:23:56.214876Z",
     "start_time": "2024-04-10T00:23:56.199876Z"
    }
   },
   "cell_type": "code",
   "source": [
    "query = \"\"\"\n",
    "SELECT * FROM employee_audits;\n",
    "\"\"\"\n",
    "run_sql(cursor, query)"
   ],
   "id": "ee9a8d85cee01582",
   "outputs": [
    {
     "name": "stdout",
     "output_type": "stream",
     "text": [
      "   id  employee_id last_name                 changed_on\n",
      "0   1            2      Bush 2024-04-10 08:21:43.149903\n"
     ]
    }
   ],
   "execution_count": 11
  },
  {
   "metadata": {},
   "cell_type": "markdown",
   "source": [
    "# 删除触发器\n",
    "\n",
    "语法\n",
    "```\n",
    "DROP TRIGGER [IF EXISTS] trigger_name \n",
    "ON table_name \n",
    "[ CASCADE | RESTRICT ];\n",
    "```"
   ],
   "id": "2f65b42c70252991"
  },
  {
   "metadata": {
    "ExecuteTime": {
     "end_time": "2024-04-10T00:27:36.730936Z",
     "start_time": "2024-04-10T00:27:36.708364Z"
    }
   },
   "cell_type": "code",
   "source": [
    "sql = \"\"\"\n",
    "CREATE FUNCTION check_staff_user()\n",
    "    RETURNS TRIGGER\n",
    "AS $$\n",
    "BEGIN\n",
    "    IF length(NEW.username) < 8 OR NEW.username IS NULL THEN\n",
    "        RAISE EXCEPTION 'The username cannot be less than 8 characters';\n",
    "    END IF;\n",
    "    IF NEW.NAME IS NULL THEN\n",
    "        RAISE EXCEPTION 'Username cannot be NULL';\n",
    "    END IF;\n",
    "    RETURN NEW;\n",
    "END;\n",
    "$$\n",
    "LANGUAGE plpgsql;\n",
    "\"\"\"\n",
    "cursor.execute(sql)"
   ],
   "id": "b35c6e31dde6f79c",
   "outputs": [
    {
     "data": {
      "text/plain": [
       "<psycopg.Cursor [COMMAND_OK] [INTRANS] (host=localhost user=postgres database=dvdrental) at 0x1b5bcd6e610>"
      ]
     },
     "execution_count": 12,
     "metadata": {},
     "output_type": "execute_result"
    }
   ],
   "execution_count": 12
  },
  {
   "metadata": {
    "ExecuteTime": {
     "end_time": "2024-04-10T00:27:38.383661Z",
     "start_time": "2024-04-10T00:27:38.372665Z"
    }
   },
   "cell_type": "code",
   "source": [
    "sql = \"\"\"\n",
    "CREATE TRIGGER username_check \n",
    "    BEFORE INSERT OR UPDATE\n",
    "ON staff\n",
    "FOR EACH ROW \n",
    "    EXECUTE PROCEDURE check_staff_user();\n",
    "\"\"\"\n",
    "cursor.execute(sql)"
   ],
   "id": "b02d7d34e652028",
   "outputs": [
    {
     "data": {
      "text/plain": [
       "<psycopg.Cursor [COMMAND_OK] [INTRANS] (host=localhost user=postgres database=dvdrental) at 0x1b5bcd6e610>"
      ]
     },
     "execution_count": 13,
     "metadata": {},
     "output_type": "execute_result"
    }
   ],
   "execution_count": 13
  },
  {
   "metadata": {
    "ExecuteTime": {
     "end_time": "2024-04-10T00:27:41.298801Z",
     "start_time": "2024-04-10T00:27:41.277561Z"
    }
   },
   "cell_type": "code",
   "source": [
    "sql = \"\"\"\n",
    "DROP TRIGGER username_check\n",
    "ON staff;\n",
    "\"\"\"\n",
    "cursor.execute(sql)"
   ],
   "id": "bc734e6fa4b53d05",
   "outputs": [
    {
     "data": {
      "text/plain": [
       "<psycopg.Cursor [COMMAND_OK] [INTRANS] (host=localhost user=postgres database=dvdrental) at 0x1b5bcd6e610>"
      ]
     },
     "execution_count": 14,
     "metadata": {},
     "output_type": "execute_result"
    }
   ],
   "execution_count": 14
  },
  {
   "metadata": {},
   "cell_type": "markdown",
   "source": [
    "# 修改触发器\n",
    "\n",
    "语法\n",
    "```\n",
    "ALTER TRIGGER trigger_name\n",
    "ON table_name \n",
    "RENAME TO new_trigger_name;\n",
    "```\n",
    "\n",
    "PostgreSQL 不支持修改触发器的定义，只能删除触发器并重新创建，也就是使用 `DROP TRIGGER` 和 `CREATE TRIGGER` 语句。\n",
    "\n",
    "```\n",
    "BEGIN;\n",
    "\n",
    "DROP TRIGGER IF EXISTS salary_before_update \n",
    "ON employees;\n",
    "\n",
    "CREATE TRIGGER salary_before_udpate\n",
    "  BEFORE UPDATE\n",
    "  ON employees\n",
    "  FOR EACH ROW\n",
    "  EXECUTE PROCEDURE validate_salary();\n",
    "\n",
    "COMMIT;\n",
    "```"
   ],
   "id": "4424ef1296d7e73"
  }
 ],
 "metadata": {
  "kernelspec": {
   "display_name": "Python 3",
   "language": "python",
   "name": "python3"
  },
  "language_info": {
   "codemirror_mode": {
    "name": "ipython",
    "version": 2
   },
   "file_extension": ".py",
   "mimetype": "text/x-python",
   "name": "python",
   "nbconvert_exporter": "python",
   "pygments_lexer": "ipython2",
   "version": "2.7.6"
  }
 },
 "nbformat": 4,
 "nbformat_minor": 5
}
