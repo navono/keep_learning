{
 "cells": [
  {
   "cell_type": "markdown",
   "source": [
    "修改表有以下动作：\n",
    "- 增加列\n",
    "- 删除列\n",
    "- 修改列（改变类型）\n",
    "- 为列增加默认值\n",
    "- 为列增加 constraint\n",
    "- 重命名表\n",
    "\n",
    "```\n",
    "ALTER TABLE table_name \n",
    "ADD COLUMN column_name datatype column_constraint;\n",
    "```\n",
    "```\n",
    "ALTER TABLE table_name \n",
    "DROP COLUMN column_name;\n",
    "```\n",
    "```\n",
    "ALTER TABLE table_name \n",
    "RENAME COLUMN column_name \n",
    "TO new_column_name;\n",
    "```\n",
    "```\n",
    "ALTER TABLE table_name \n",
    "ALTER COLUMN column_name \n",
    "[SET DEFAULT value | DROP DEFAULT];\n",
    "```\n",
    "```\n",
    "ALTER TABLE table_name \n",
    "ALTER COLUMN column_name \n",
    "[SET NOT NULL| DROP NOT NULL];\n",
    "```\n",
    "```\n",
    "ALTER TABLE table_name \n",
    "ADD CHECK expression;\n",
    "```\n",
    "```\n",
    "ALTER TABLE table_name \n",
    "ADD CONSTRAINT constraint_name constraint_definition;\n",
    "```\n",
    "```\n",
    "ALTER TABLE table_name \n",
    "RENAME TO new_table_name;\n",
    "```"
   ],
   "metadata": {
    "collapsed": false
   },
   "id": "db38afb269595f8f"
  },
  {
   "cell_type": "code",
   "execution_count": 1,
   "id": "initial_id",
   "metadata": {
    "collapsed": true,
    "ExecuteTime": {
     "end_time": "2024-02-23T00:46:25.182513800Z",
     "start_time": "2024-02-23T00:46:24.734862800Z"
    }
   },
   "outputs": [
    {
     "name": "stdout",
     "output_type": "stream",
     "text": [
      "importing Jupyter notebook from E:\\sourcecode\\keep_learning\\db\\pg\\pg_00_common.ipynb\n"
     ]
    }
   ],
   "source": [
    "import common.ipynb_importer\n",
    "from db.pg.pg_00_common import *\n",
    "\n",
    "cursor = pg_connect()"
   ]
  },
  {
   "cell_type": "code",
   "outputs": [
    {
     "name": "stdout",
     "output_type": "stream",
     "text": [
      "  table_catalog table_schema table_name column_name  ordinal_position  \\\n",
      "0     dvdrental       public      links     link_id                 1   \n",
      "1     dvdrental       public      links       title                 2   \n",
      "2     dvdrental       public      links         url                 3   \n",
      "\n",
      "                           column_default is_nullable          data_type  \\\n",
      "0  nextval('links_link_id_seq'::regclass)          NO            integer   \n",
      "1                                    None          NO  character varying   \n",
      "2                                    None          NO  character varying   \n",
      "\n",
      "   character_maximum_length  character_octet_length  ...  is_identity  \\\n",
      "0                       NaN                     NaN  ...           NO   \n",
      "1                     512.0                  2048.0  ...           NO   \n",
      "2                    1024.0                  4096.0  ...           NO   \n",
      "\n",
      "   identity_generation  identity_start identity_increment identity_maximum  \\\n",
      "0                 None            None               None             None   \n",
      "1                 None            None               None             None   \n",
      "2                 None            None               None             None   \n",
      "\n",
      "  identity_minimum identity_cycle is_generated generation_expression  \\\n",
      "0             None             NO        NEVER                  None   \n",
      "1             None             NO        NEVER                  None   \n",
      "2             None             NO        NEVER                  None   \n",
      "\n",
      "  is_updatable  \n",
      "0          YES  \n",
      "1          YES  \n",
      "2          YES  \n",
      "\n",
      "[3 rows x 44 columns]\n"
     ]
    }
   ],
   "source": [
    "# add column\n",
    "sql = \"\"\"\n",
    "DROP TABLE IF EXISTS links;\n",
    "\n",
    "CREATE TABLE links (\n",
    "   link_id serial PRIMARY KEY,\n",
    "   title VARCHAR (512) NOT NULL,\n",
    "   url VARCHAR (1024) NOT NULL\n",
    ");\n",
    "\"\"\"\n",
    "cursor.execute(sql)\n",
    "\n",
    "sql = \"\"\"\n",
    "SELECT *\n",
    "FROM information_schema.columns\n",
    "WHERE table_name = 'links';\n",
    "\"\"\"\n",
    "run_sql(cursor, sql)"
   ],
   "metadata": {
    "collapsed": false,
    "ExecuteTime": {
     "end_time": "2024-02-23T00:46:25.213513700Z",
     "start_time": "2024-02-23T00:46:25.183513900Z"
    }
   },
   "id": "aca2b3072af4931e",
   "execution_count": 2
  },
  {
   "cell_type": "code",
   "outputs": [
    {
     "name": "stdout",
     "output_type": "stream",
     "text": [
      "  column_name          data_type\n",
      "0     link_id            integer\n",
      "1       title  character varying\n",
      "2         url  character varying\n",
      "3      active            boolean\n"
     ]
    }
   ],
   "source": [
    "sql = \"\"\"\n",
    "ALTER TABLE links\n",
    "ADD COLUMN active boolean;\n",
    "\"\"\"\n",
    "cursor.execute(sql)\n",
    "\n",
    "sql = \"\"\"\n",
    "SELECT column_name, data_type\n",
    "FROM information_schema.columns\n",
    "WHERE table_name = 'links';\n",
    "\"\"\"\n",
    "run_sql(cursor, sql)"
   ],
   "metadata": {
    "collapsed": false,
    "ExecuteTime": {
     "end_time": "2024-02-23T00:46:25.229514200Z",
     "start_time": "2024-02-23T00:46:25.214513500Z"
    }
   },
   "id": "7d0de7bc6f434d48",
   "execution_count": 3
  },
  {
   "cell_type": "code",
   "outputs": [
    {
     "name": "stdout",
     "output_type": "stream",
     "text": [
      "  column_name          data_type\n",
      "0     link_id            integer\n",
      "1       title  character varying\n",
      "2         url  character varying\n"
     ]
    }
   ],
   "source": [
    "sql = \"\"\"\n",
    "ALTER TABLE links \n",
    "DROP COLUMN active;\n",
    "\"\"\"\n",
    "cursor.execute(sql)\n",
    "\n",
    "sql = \"\"\"\n",
    "SELECT column_name, data_type\n",
    "FROM information_schema.columns\n",
    "WHERE table_name = 'links';\n",
    "\"\"\"\n",
    "run_sql(cursor, sql)"
   ],
   "metadata": {
    "collapsed": false,
    "ExecuteTime": {
     "end_time": "2024-02-23T00:46:25.246561500Z",
     "start_time": "2024-02-23T00:46:25.230514100Z"
    }
   },
   "id": "3cba496382b09acf",
   "execution_count": 4
  },
  {
   "cell_type": "code",
   "outputs": [
    {
     "name": "stdout",
     "output_type": "stream",
     "text": [
      "  column_name          data_type\n",
      "0     link_id            integer\n",
      "1  link_title  character varying\n",
      "2         url  character varying\n"
     ]
    }
   ],
   "source": [
    "sql = \"\"\"\n",
    "ALTER TABLE links \n",
    "RENAME COLUMN title TO link_title;\n",
    "\"\"\"\n",
    "cursor.execute(sql)\n",
    "\n",
    "sql = \"\"\"\n",
    "SELECT column_name, data_type\n",
    "FROM information_schema.columns\n",
    "WHERE table_name = 'links';\n",
    "\"\"\"\n",
    "run_sql(cursor, sql)"
   ],
   "metadata": {
    "collapsed": false,
    "ExecuteTime": {
     "end_time": "2024-02-23T00:46:25.260747400Z",
     "start_time": "2024-02-23T00:46:25.246561500Z"
    }
   },
   "id": "80f8a010e08ab243",
   "execution_count": 5
  },
  {
   "cell_type": "code",
   "outputs": [
    {
     "name": "stdout",
     "output_type": "stream",
     "text": [
      "  column_name          data_type\n",
      "0     link_id            integer\n",
      "1  link_title  character varying\n",
      "2         url  character varying\n",
      "3      target  character varying\n"
     ]
    }
   ],
   "source": [
    "sql = \"\"\"\n",
    "ALTER TABLE links \n",
    "ADD COLUMN target VARCHAR(10);\n",
    "\"\"\"\n",
    "cursor.execute(sql)\n",
    "\n",
    "sql = \"\"\"\n",
    "SELECT column_name, data_type\n",
    "FROM information_schema.columns\n",
    "WHERE table_name = 'links';\n",
    "\"\"\"\n",
    "run_sql(cursor, sql)"
   ],
   "metadata": {
    "collapsed": false,
    "ExecuteTime": {
     "end_time": "2024-02-23T00:46:25.292256200Z",
     "start_time": "2024-02-23T00:46:25.261747100Z"
    }
   },
   "id": "43dfb1b04d8311fb",
   "execution_count": 6
  },
  {
   "cell_type": "code",
   "outputs": [
    {
     "name": "stdout",
     "output_type": "stream",
     "text": [
      "  column_name          data_type                          column_default\n",
      "0     link_id            integer  nextval('links_link_id_seq'::regclass)\n",
      "1  link_title  character varying                                    None\n",
      "2         url  character varying                                    None\n",
      "3      target  character varying             '_blank'::character varying\n"
     ]
    }
   ],
   "source": [
    "sql = \"\"\"\n",
    "ALTER TABLE links \n",
    "ALTER COLUMN target\n",
    "SET DEFAULT '_blank';\n",
    "\"\"\"\n",
    "cursor.execute(sql)\n",
    "\n",
    "sql = \"\"\"\n",
    "SELECT column_name, data_type, column_default\n",
    "FROM information_schema.columns\n",
    "WHERE table_name = 'links';\n",
    "\"\"\"\n",
    "run_sql(cursor, sql)"
   ],
   "metadata": {
    "collapsed": false,
    "ExecuteTime": {
     "end_time": "2024-02-23T00:46:25.294256Z",
     "start_time": "2024-02-23T00:46:25.277254700Z"
    }
   },
   "id": "67358333fde7403",
   "execution_count": 7
  },
  {
   "cell_type": "code",
   "outputs": [
    {
     "name": "stdout",
     "output_type": "stream",
     "text": [
      "   link_id           link_title                                  url  target\n",
      "0        1  PostgreSQL Tutorial  https://www.postgresqltutorial.com/  _blank\n"
     ]
    }
   ],
   "source": [
    "sql = \"\"\"\n",
    "INSERT INTO links (link_title, url)\n",
    "VALUES('PostgreSQL Tutorial','https://www.postgresqltutorial.com/');\n",
    "\"\"\"\n",
    "cursor.execute(sql)\n",
    "\n",
    "sql = \"\"\"\n",
    "SELECT *\n",
    "FROM links;\n",
    "\"\"\"\n",
    "run_sql(cursor, sql)"
   ],
   "metadata": {
    "collapsed": false,
    "ExecuteTime": {
     "end_time": "2024-02-23T00:46:25.323256200Z",
     "start_time": "2024-02-23T00:46:25.293255900Z"
    }
   },
   "id": "be9922d2c4b86e71",
   "execution_count": 8
  },
  {
   "cell_type": "code",
   "outputs": [
    {
     "name": "stdout",
     "output_type": "stream",
     "text": [
      "  table_catalog table_schema table_name column_name  ordinal_position  \\\n",
      "0     dvdrental       public      links     link_id                 1   \n",
      "1     dvdrental       public      links  link_title                 2   \n",
      "2     dvdrental       public      links         url                 3   \n",
      "3     dvdrental       public      links      target                 5   \n",
      "\n",
      "                           column_default is_nullable          data_type  \\\n",
      "0  nextval('links_link_id_seq'::regclass)          NO            integer   \n",
      "1                                    None          NO  character varying   \n",
      "2                                    None          NO  character varying   \n",
      "3             '_blank'::character varying         YES  character varying   \n",
      "\n",
      "   character_maximum_length  character_octet_length  ...  is_identity  \\\n",
      "0                       NaN                     NaN  ...           NO   \n",
      "1                     512.0                  2048.0  ...           NO   \n",
      "2                    1024.0                  4096.0  ...           NO   \n",
      "3                      10.0                    40.0  ...           NO   \n",
      "\n",
      "   identity_generation  identity_start identity_increment identity_maximum  \\\n",
      "0                 None            None               None             None   \n",
      "1                 None            None               None             None   \n",
      "2                 None            None               None             None   \n",
      "3                 None            None               None             None   \n",
      "\n",
      "  identity_minimum identity_cycle is_generated generation_expression  \\\n",
      "0             None             NO        NEVER                  None   \n",
      "1             None             NO        NEVER                  None   \n",
      "2             None             NO        NEVER                  None   \n",
      "3             None             NO        NEVER                  None   \n",
      "\n",
      "  is_updatable  \n",
      "0          YES  \n",
      "1          YES  \n",
      "2          YES  \n",
      "3          YES  \n",
      "\n",
      "[4 rows x 44 columns]\n"
     ]
    }
   ],
   "source": [
    "sql = \"\"\"\n",
    "ALTER TABLE links \n",
    "ADD CHECK (target IN ('_self', '_blank', '_parent', '_top'));\n",
    "\"\"\"\n",
    "cursor.execute(sql)\n",
    "\n",
    "sql = \"\"\"\n",
    "SELECT *\n",
    "FROM information_schema.columns\n",
    "WHERE table_name = 'links';\n",
    "\"\"\"\n",
    "run_sql(cursor, sql)"
   ],
   "metadata": {
    "collapsed": false,
    "ExecuteTime": {
     "end_time": "2024-02-23T00:46:25.324256200Z",
     "start_time": "2024-02-23T00:46:25.309256600Z"
    }
   },
   "id": "fa76185ee78edb1a",
   "execution_count": 9
  },
  {
   "cell_type": "code",
   "outputs": [
    {
     "ename": "CheckViolation",
     "evalue": "关系 \"links\" 的新列违反了检查约束 \"links_target_check\"\nDETAIL:  失败, 行包含(2, PostgreSQL, http://www.postgresql.org/, whatever).",
     "output_type": "error",
     "traceback": [
      "\u001B[1;31m---------------------------------------------------------------------------\u001B[0m",
      "\u001B[1;31mCheckViolation\u001B[0m                            Traceback (most recent call last)",
      "Cell \u001B[1;32mIn[10], line 5\u001B[0m\n\u001B[0;32m      1\u001B[0m sql \u001B[38;5;241m=\u001B[39m \u001B[38;5;124m\"\"\"\u001B[39m\n\u001B[0;32m      2\u001B[0m \u001B[38;5;124mINSERT INTO links(link_title,url,target) \u001B[39m\n\u001B[0;32m      3\u001B[0m \u001B[38;5;124mVALUES(\u001B[39m\u001B[38;5;124m'\u001B[39m\u001B[38;5;124mPostgreSQL\u001B[39m\u001B[38;5;124m'\u001B[39m\u001B[38;5;124m,\u001B[39m\u001B[38;5;124m'\u001B[39m\u001B[38;5;124mhttp://www.postgresql.org/\u001B[39m\u001B[38;5;124m'\u001B[39m\u001B[38;5;124m,\u001B[39m\u001B[38;5;124m'\u001B[39m\u001B[38;5;124mwhatever\u001B[39m\u001B[38;5;124m'\u001B[39m\u001B[38;5;124m);\u001B[39m\n\u001B[0;32m      4\u001B[0m \u001B[38;5;124m\"\"\"\u001B[39m\n\u001B[1;32m----> 5\u001B[0m \u001B[43mcursor\u001B[49m\u001B[38;5;241;43m.\u001B[39;49m\u001B[43mexecute\u001B[49m\u001B[43m(\u001B[49m\u001B[43msql\u001B[49m\u001B[43m)\u001B[49m\n\u001B[0;32m      7\u001B[0m sql \u001B[38;5;241m=\u001B[39m \u001B[38;5;124m\"\"\"\u001B[39m\n\u001B[0;32m      8\u001B[0m \u001B[38;5;124mSELECT *\u001B[39m\n\u001B[0;32m      9\u001B[0m \u001B[38;5;124mFROM links;\u001B[39m\n\u001B[0;32m     10\u001B[0m \u001B[38;5;124m\"\"\"\u001B[39m\n\u001B[0;32m     11\u001B[0m run_sql(cursor, sql)\n",
      "File \u001B[1;32m~\\.conda\\envs\\learning\\lib\\site-packages\\psycopg\\cursor.py:732\u001B[0m, in \u001B[0;36mCursor.execute\u001B[1;34m(self, query, params, prepare, binary)\u001B[0m\n\u001B[0;32m    728\u001B[0m         \u001B[38;5;28mself\u001B[39m\u001B[38;5;241m.\u001B[39m_conn\u001B[38;5;241m.\u001B[39mwait(\n\u001B[0;32m    729\u001B[0m             \u001B[38;5;28mself\u001B[39m\u001B[38;5;241m.\u001B[39m_execute_gen(query, params, prepare\u001B[38;5;241m=\u001B[39mprepare, binary\u001B[38;5;241m=\u001B[39mbinary)\n\u001B[0;32m    730\u001B[0m         )\n\u001B[0;32m    731\u001B[0m \u001B[38;5;28;01mexcept\u001B[39;00m e\u001B[38;5;241m.\u001B[39m_NO_TRACEBACK \u001B[38;5;28;01mas\u001B[39;00m ex:\n\u001B[1;32m--> 732\u001B[0m     \u001B[38;5;28;01mraise\u001B[39;00m ex\u001B[38;5;241m.\u001B[39mwith_traceback(\u001B[38;5;28;01mNone\u001B[39;00m)\n\u001B[0;32m    733\u001B[0m \u001B[38;5;28;01mreturn\u001B[39;00m \u001B[38;5;28mself\u001B[39m\n",
      "\u001B[1;31mCheckViolation\u001B[0m: 关系 \"links\" 的新列违反了检查约束 \"links_target_check\"\nDETAIL:  失败, 行包含(2, PostgreSQL, http://www.postgresql.org/, whatever)."
     ]
    }
   ],
   "source": [
    "sql = \"\"\"\n",
    "INSERT INTO links(link_title,url,target) \n",
    "VALUES('PostgreSQL','http://www.postgresql.org/','whatever');\n",
    "\"\"\"\n",
    "cursor.execute(sql)\n",
    "\n",
    "sql = \"\"\"\n",
    "SELECT *\n",
    "FROM links;\n",
    "\"\"\"\n",
    "run_sql(cursor, sql)"
   ],
   "metadata": {
    "collapsed": false,
    "ExecuteTime": {
     "end_time": "2024-02-23T00:46:25.573496500Z",
     "start_time": "2024-02-23T00:46:25.323256200Z"
    }
   },
   "id": "d481641b04d3bb59",
   "execution_count": 10
  },
  {
   "cell_type": "code",
   "outputs": [],
   "source": [
    "sql = \"\"\"\n",
    "ALTER TABLE links \n",
    "ADD CONSTRAINT unique_url UNIQUE ( url );\n",
    "\"\"\"\n",
    "cursor.execute(sql)\n",
    "\n",
    "sql = \"\"\"\n",
    "SELECT column_name, data_type, column_default\n",
    "FROM information_schema.columns\n",
    "WHERE table_name = 'links';\n",
    "\"\"\"\n",
    "run_sql(cursor, sql)"
   ],
   "metadata": {
    "collapsed": false,
    "ExecuteTime": {
     "start_time": "2024-02-23T00:46:25.574496300Z"
    }
   },
   "id": "404300c5b5c9cb65",
   "execution_count": null
  }
 ],
 "metadata": {
  "kernelspec": {
   "display_name": "Python 3",
   "language": "python",
   "name": "python3"
  },
  "language_info": {
   "codemirror_mode": {
    "name": "ipython",
    "version": 2
   },
   "file_extension": ".py",
   "mimetype": "text/x-python",
   "name": "python",
   "nbconvert_exporter": "python",
   "pygments_lexer": "ipython2",
   "version": "2.7.6"
  }
 },
 "nbformat": 4,
 "nbformat_minor": 5
}
