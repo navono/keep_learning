{
 "cells": [
  {
   "cell_type": "markdown",
   "source": [
    "# Constraint\n",
    "CONSTRAINT 是一种用于定义表列约束的关键字。它用于确保数据库中的数据符合特定的规则。\n",
    "CONSTRAINT 可以用于定义以下类型的约束：\n",
    "- 非空约束 (NOT NULL)：确保列不能为空。\n",
    "- 唯一约束 (UNIQUE)：确保列中的值是唯一的。\n",
    "- 主键约束 (PRIMARY KEY)：确保列中的值是唯一的，并且不能为空。\n",
    "- 外键约束 (FOREIGN KEY)：确保列中的值与另一个表中的列值相匹配。"
   ],
   "metadata": {
    "collapsed": false
   },
   "id": "365c74b7bd137702"
  },
  {
   "cell_type": "markdown",
   "source": [
    "## Primary key\n",
    "\n",
    "```\n",
    "CREATE TABLE TABLE (\n",
    "\tcolumn_1 data_type PRIMARY KEY,\n",
    "\tcolumn_2 data_type,\n",
    "\t…\n",
    ");\n",
    "```\n",
    "\n",
    "```\n",
    "CREATE TABLE TABLE (\n",
    "\tcolumn_1 data_type,\n",
    "\tcolumn_2 data_type,\n",
    "\t… \n",
    "        PRIMARY KEY (column_1, column_2)\n",
    ");\n",
    "```\n",
    "\n",
    "修改表\n",
    "```\n",
    "ALTER TABLE table_name \n",
    "ADD PRIMARY KEY (column_1, column_2, ...);\n",
    "```\n",
    "\n",
    "或者直接增加主键列\n",
    "```\n",
    "ALTER TABLE table_name \n",
    "ADD COLUMN col_name SERIAL PRIMARY KEY;\n",
    "```\n",
    "\n",
    "也可以这样\n",
    "```\n",
    "CONSTRAINT constraint_name \n",
    "PRIMARY KEY(column_1, column_2,...);\n",
    "```\n",
    "\n",
    "删除主键\n",
    "```\n",
    "ALTER TABLE table_name \n",
    "DROP CONSTRAINT primary_key_constraint;\n",
    "```"
   ],
   "metadata": {
    "collapsed": false
   },
   "id": "9192f3d7a868272e"
  },
  {
   "cell_type": "code",
   "execution_count": 1,
   "id": "initial_id",
   "metadata": {
    "collapsed": true,
    "ExecuteTime": {
     "end_time": "2024-02-25T01:22:06.486942600Z",
     "start_time": "2024-02-25T01:22:04.209165600Z"
    }
   },
   "outputs": [
    {
     "name": "stdout",
     "output_type": "stream",
     "text": [
      "importing Jupyter notebook from D:\\sourcecode\\keep_learning\\db\\pg\\pg_00_common.ipynb\n"
     ]
    }
   ],
   "source": [
    "import common.ipynb_importer\n",
    "from db.pg.pg_00_common import *\n",
    "\n",
    "cursor = pg_connect()"
   ]
  },
  {
   "cell_type": "code",
   "outputs": [
    {
     "name": "stdout",
     "output_type": "stream",
     "text": [
      "  table_catalog table_schema table_name  column_name  ordinal_position  \\\n",
      "0     dvdrental       public     orders     order_id                 1   \n",
      "1     dvdrental       public     orders  customer_id                 2   \n",
      "2     dvdrental       public     orders   order_date                 3   \n",
      "\n",
      "                             column_default is_nullable          data_type  \\\n",
      "0  nextval('orders_order_id_seq'::regclass)          NO            integer   \n",
      "1                                      None          NO  character varying   \n",
      "2                                      None          NO               date   \n",
      "\n",
      "   character_maximum_length  character_octet_length  ...  is_identity  \\\n",
      "0                       NaN                     NaN  ...           NO   \n",
      "1                     255.0                  1020.0  ...           NO   \n",
      "2                       NaN                     NaN  ...           NO   \n",
      "\n",
      "   identity_generation  identity_start  identity_increment identity_maximum  \\\n",
      "0                 None            None                None             None   \n",
      "1                 None            None                None             None   \n",
      "2                 None            None                None             None   \n",
      "\n",
      "  identity_minimum identity_cycle is_generated generation_expression  \\\n",
      "0             None             NO        NEVER                  None   \n",
      "1             None             NO        NEVER                  None   \n",
      "2             None             NO        NEVER                  None   \n",
      "\n",
      "  is_updatable  \n",
      "0          YES  \n",
      "1          YES  \n",
      "2          YES  \n",
      "\n",
      "[3 rows x 44 columns]\n"
     ]
    }
   ],
   "source": [
    "sql = \"\"\"\n",
    "CREATE TABLE orders(\n",
    "  order_id SERIAL PRIMARY KEY, \n",
    "  customer_id VARCHAR(255) NOT NULL, \n",
    "  order_date DATE NOT NULL\n",
    ");\n",
    "\"\"\"\n",
    "cursor.execute(sql)\n",
    "\n",
    "sql = \"\"\"\n",
    "SELECT *\n",
    "FROM information_schema.columns\n",
    "WHERE table_name = 'orders';\n",
    "\"\"\"\n",
    "run_sql(cursor, sql)"
   ],
   "metadata": {
    "collapsed": false,
    "ExecuteTime": {
     "end_time": "2024-02-25T01:22:12.244591300Z",
     "start_time": "2024-02-25T01:22:12.198674400Z"
    }
   },
   "id": "5a42fa2f12d6e644",
   "execution_count": 2
  }
 ],
 "metadata": {
  "kernelspec": {
   "display_name": "Python 3",
   "language": "python",
   "name": "python3"
  },
  "language_info": {
   "codemirror_mode": {
    "name": "ipython",
    "version": 2
   },
   "file_extension": ".py",
   "mimetype": "text/x-python",
   "name": "python",
   "nbconvert_exporter": "python",
   "pygments_lexer": "ipython2",
   "version": "2.7.6"
  }
 },
 "nbformat": 4,
 "nbformat_minor": 5
}
