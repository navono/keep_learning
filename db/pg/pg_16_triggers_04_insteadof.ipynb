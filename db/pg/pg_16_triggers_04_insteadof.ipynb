{
 "cells": [
  {
   "cell_type": "code",
   "id": "initial_id",
   "metadata": {
    "collapsed": true,
    "ExecuteTime": {
     "end_time": "2024-04-23T00:29:35.587721Z",
     "start_time": "2024-04-23T00:29:35.324543Z"
    }
   },
   "source": [
    "from common import *\n",
    "\n",
    "cursor = connect()"
   ],
   "outputs": [],
   "execution_count": 1
  },
  {
   "metadata": {},
   "cell_type": "markdown",
   "source": [
    "# INSTEAD OF TRIGGERS\n",
    "\n",
    "`instead of` 触发器是一种特殊类型的触发器，它拦截视图上的插入、更新和删除操作。这意味着当您对视图执行 INSERT、UPDATE 或 DELETE 语句时，PostgreSQL 不会直接执行该语句。相反，它执行 INSTEAD OF 触发器中定义的语句。\n",
    "\n",
    "语法\n",
    "```\n",
    "CREATE TRIGGER trigger_name\n",
    "INSTEAD OF INSERT OR UPDATE OR DELETE \n",
    "ON table_name\n",
    "FOR EACH ROW \n",
    "EXECUTE FUNCTION fn_trigger;\n",
    "```"
   ],
   "id": "b446307b05413f07"
  },
  {
   "metadata": {
    "ExecuteTime": {
     "end_time": "2024-04-23T00:29:35.609829Z",
     "start_time": "2024-04-23T00:29:35.587721Z"
    }
   },
   "cell_type": "code",
   "source": [
    "sql = \"\"\"\n",
    "CREATE TABLE employees (\n",
    "    employee_id SERIAL PRIMARY KEY,\n",
    "    name VARCHAR(100) NOT NULL\n",
    ");\n",
    "\n",
    "CREATE TABLE salaries (\n",
    "    employee_id INT,\n",
    "    effective_date DATE NOT NULL,\n",
    "    salary DECIMAL(10, 2) NOT NULL DEFAULT 0, \n",
    "    PRIMARY KEY (employee_id, effective_date),\n",
    "    FOREIGN KEY (employee_id) REFERENCES employees(employee_id)\n",
    ");\n",
    "\n",
    "INSERT INTO employees (name) \n",
    "VALUES \n",
    "   ('Alice'), \n",
    "   ('Bob')\n",
    "RETURNING *;\n",
    "\n",
    "INSERT INTO salaries \n",
    "VALUES \n",
    "   (1, '2024-03-01', 60000.00), \n",
    "   (2, '2024-03-01', 70000.00)\n",
    "RETURNING *;\n",
    "\"\"\"\n",
    "cursor.execute(sql)"
   ],
   "id": "3a775ee813ae1b33",
   "outputs": [
    {
     "data": {
      "text/plain": [
       "<psycopg.Cursor [COMMAND_OK] [INTRANS] (host=localhost user=postgres database=dvdrental) at 0x2d3fb519550>"
      ]
     },
     "execution_count": 2,
     "metadata": {},
     "output_type": "execute_result"
    }
   ],
   "execution_count": 2
  },
  {
   "metadata": {
    "ExecuteTime": {
     "end_time": "2024-04-23T00:29:35.615878Z",
     "start_time": "2024-04-23T00:29:35.609829Z"
    }
   },
   "cell_type": "code",
   "source": [
    "sql = \"\"\"\n",
    "CREATE VIEW employee_salaries \n",
    "AS\n",
    "SELECT e.employee_id, e.name, s.salary, s.effective_date\n",
    "FROM employees e\n",
    "JOIN salaries s ON e.employee_id = s.employee_id;\n",
    "\n",
    "CREATE OR REPLACE FUNCTION update_employee_salaries()\n",
    "RETURNS TRIGGER AS \n",
    "$$\n",
    "DECLARE\n",
    "    p_employee_id INT;\n",
    "BEGIN\n",
    "    IF TG_OP = 'INSERT' THEN\n",
    "\t    -- insert a new employee \n",
    "        INSERT INTO employees(name) \n",
    "        VALUES (NEW.name)\n",
    "\t    RETURNING employee_id INTO p_employee_id;\n",
    "\n",
    "\t    -- insert salary for the employee\n",
    "        INSERT INTO salaries(employee_id, effective_date, salary) \n",
    "        VALUES (p_employee_id, NEW.effective_date, NEW.salary);\n",
    "    ELSIF TG_OP = 'UPDATE' THEN\n",
    "        UPDATE salaries \n",
    "        SET salary = NEW.salary \n",
    "        WHERE employee_id = NEW.employee_id;\n",
    "\n",
    "    ELSIF TG_OP = 'DELETE' THEN\n",
    "        DELETE FROM salaries \n",
    "\t    WHERE employee_id = OLD.employee_id;\n",
    "        DELETE FROM employees \n",
    "\t    WHERE employee_id = OLD.employee_id;\n",
    "    END IF;\n",
    "    RETURN NULL;\n",
    "END;\n",
    "$$ \n",
    "LANGUAGE plpgsql;\n",
    "\n",
    "CREATE TRIGGER instead_of_employee_salaries\n",
    "INSTEAD OF INSERT OR UPDATE OR DELETE \n",
    "ON employee_salaries\n",
    "FOR EACH ROW \n",
    "EXECUTE FUNCTION update_employee_salaries();\n",
    "\"\"\"\n",
    "cursor.execute(sql)"
   ],
   "id": "33344827801f3f49",
   "outputs": [
    {
     "data": {
      "text/plain": [
       "<psycopg.Cursor [COMMAND_OK] [INTRANS] (host=localhost user=postgres database=dvdrental) at 0x2d3fb519550>"
      ]
     },
     "execution_count": 3,
     "metadata": {},
     "output_type": "execute_result"
    }
   ],
   "execution_count": 3
  },
  {
   "metadata": {},
   "cell_type": "markdown",
   "source": "## 往视图插入数据",
   "id": "f489a398718d5528"
  },
  {
   "metadata": {
    "ExecuteTime": {
     "end_time": "2024-04-23T00:29:35.620500Z",
     "start_time": "2024-04-23T00:29:35.615878Z"
    }
   },
   "cell_type": "code",
   "source": [
    "sql = \"\"\"\n",
    "INSERT INTO employee_salaries (name, salary, effective_date)\n",
    "VALUES ('Charlie', 75000.00, '2024-03-01');\n",
    "\"\"\"\n",
    "cursor.execute(sql)"
   ],
   "id": "f506f0fc584133fb",
   "outputs": [
    {
     "data": {
      "text/plain": [
       "<psycopg.Cursor [COMMAND_OK] [INTRANS] (host=localhost user=postgres database=dvdrental) at 0x2d3fb519550>"
      ]
     },
     "execution_count": 4,
     "metadata": {},
     "output_type": "execute_result"
    }
   ],
   "execution_count": 4
  },
  {
   "metadata": {
    "ExecuteTime": {
     "end_time": "2024-04-23T00:29:35.626928Z",
     "start_time": "2024-04-23T00:29:35.621504Z"
    }
   },
   "cell_type": "code",
   "source": [
    "sql = \"\"\"\n",
    "SELECT * FROM employees;\n",
    "\"\"\"\n",
    "run_sql(cursor, sql)"
   ],
   "id": "5c00f4b6616ecf7b",
   "outputs": [
    {
     "name": "stdout",
     "output_type": "stream",
     "text": [
      "   employee_id     name\n",
      "0            1    Alice\n",
      "1            2      Bob\n",
      "2            3  Charlie\n"
     ]
    }
   ],
   "execution_count": 5
  },
  {
   "metadata": {
    "ExecuteTime": {
     "end_time": "2024-04-23T00:29:35.632541Z",
     "start_time": "2024-04-23T00:29:35.626928Z"
    }
   },
   "cell_type": "code",
   "source": [
    "sql = \"\"\"\n",
    "SELECT * FROM salaries;\n",
    "\"\"\"\n",
    "run_sql(cursor, sql)"
   ],
   "id": "dc5c1892a82724c6",
   "outputs": [
    {
     "name": "stdout",
     "output_type": "stream",
     "text": [
      "   employee_id effective_date    salary\n",
      "0            1     2024-03-01  60000.00\n",
      "1            2     2024-03-01  70000.00\n",
      "2            3     2024-03-01  75000.00\n"
     ]
    }
   ],
   "execution_count": 6
  },
  {
   "metadata": {},
   "cell_type": "markdown",
   "source": "## 往视图更新数据",
   "id": "eb82adb6a8d7d3e2"
  },
  {
   "metadata": {
    "ExecuteTime": {
     "end_time": "2024-04-23T00:29:35.638341Z",
     "start_time": "2024-04-23T00:29:35.632541Z"
    }
   },
   "cell_type": "code",
   "source": [
    "sql = \"\"\"\n",
    "UPDATE employee_salaries\n",
    "SET salary = 95000\n",
    "WHERE employee_id = 3;\n",
    "\"\"\"\n",
    "cursor.execute(sql)"
   ],
   "id": "20323a5b979997c5",
   "outputs": [
    {
     "data": {
      "text/plain": [
       "<psycopg.Cursor [COMMAND_OK] [INTRANS] (host=localhost user=postgres database=dvdrental) at 0x2d3fb519550>"
      ]
     },
     "execution_count": 7,
     "metadata": {},
     "output_type": "execute_result"
    }
   ],
   "execution_count": 7
  },
  {
   "metadata": {
    "ExecuteTime": {
     "end_time": "2024-04-23T00:29:35.644225Z",
     "start_time": "2024-04-23T00:29:35.638341Z"
    }
   },
   "cell_type": "code",
   "source": [
    "sql = \"\"\"\n",
    "SELECT * FROM salaries;\n",
    "\"\"\"\n",
    "run_sql(cursor, sql)"
   ],
   "id": "1c30c9e8d215feed",
   "outputs": [
    {
     "name": "stdout",
     "output_type": "stream",
     "text": [
      "   employee_id effective_date    salary\n",
      "0            1     2024-03-01  60000.00\n",
      "1            2     2024-03-01  70000.00\n",
      "2            3     2024-03-01  95000.00\n"
     ]
    }
   ],
   "execution_count": 8
  },
  {
   "metadata": {},
   "cell_type": "markdown",
   "source": "## 从视图删除数据",
   "id": "f0ccb583b9f600e"
  },
  {
   "metadata": {
    "ExecuteTime": {
     "end_time": "2024-04-23T00:29:35.652538Z",
     "start_time": "2024-04-23T00:29:35.644225Z"
    }
   },
   "cell_type": "code",
   "source": [
    "sql = \"\"\"\n",
    "DELETE FROM employee_salaries\n",
    "WHERE employee_id = 3;\n",
    "\"\"\"\n",
    "cursor.execute(sql)"
   ],
   "id": "9df02eb9c20ea02",
   "outputs": [
    {
     "data": {
      "text/plain": [
       "<psycopg.Cursor [COMMAND_OK] [INTRANS] (host=localhost user=postgres database=dvdrental) at 0x2d3fb519550>"
      ]
     },
     "execution_count": 9,
     "metadata": {},
     "output_type": "execute_result"
    }
   ],
   "execution_count": 9
  },
  {
   "metadata": {
    "ExecuteTime": {
     "end_time": "2024-04-23T00:29:35.658164Z",
     "start_time": "2024-04-23T00:29:35.652538Z"
    }
   },
   "cell_type": "code",
   "source": [
    "sql = \"\"\"\n",
    "SELECT * FROM employees;\n",
    "\"\"\"\n",
    "run_sql(cursor, sql)"
   ],
   "id": "d3bbeeeba730d302",
   "outputs": [
    {
     "name": "stdout",
     "output_type": "stream",
     "text": [
      "   employee_id   name\n",
      "0            1  Alice\n",
      "1            2    Bob\n"
     ]
    }
   ],
   "execution_count": 10
  },
  {
   "metadata": {
    "ExecuteTime": {
     "end_time": "2024-04-23T00:29:35.664074Z",
     "start_time": "2024-04-23T00:29:35.658164Z"
    }
   },
   "cell_type": "code",
   "source": [
    "sql = \"\"\"\n",
    "SELECT * FROM salaries;\n",
    "\"\"\"\n",
    "run_sql(cursor, sql)"
   ],
   "id": "93413e2aa2ca3a1d",
   "outputs": [
    {
     "name": "stdout",
     "output_type": "stream",
     "text": [
      "   employee_id effective_date    salary\n",
      "0            1     2024-03-01  60000.00\n",
      "1            2     2024-03-01  70000.00\n"
     ]
    }
   ],
   "execution_count": 11
  }
 ],
 "metadata": {
  "kernelspec": {
   "display_name": "Python 3",
   "language": "python",
   "name": "python3"
  },
  "language_info": {
   "codemirror_mode": {
    "name": "ipython",
    "version": 2
   },
   "file_extension": ".py",
   "mimetype": "text/x-python",
   "name": "python",
   "nbconvert_exporter": "python",
   "pygments_lexer": "ipython2",
   "version": "2.7.6"
  }
 },
 "nbformat": 4,
 "nbformat_minor": 5
}
