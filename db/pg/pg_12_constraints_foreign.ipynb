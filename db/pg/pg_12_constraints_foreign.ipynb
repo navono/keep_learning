{
 "cells": [
  {
   "cell_type": "markdown",
   "source": [
    "# 外键\n",
    "\n",
    "## 介绍\n",
    "外键是一个表中的一列或一组列，它唯一标识另一个表中的行。外键通过引用主键或所引用表的唯一约束在两个表中的数据之间建立链接。包含外键的表称为引用表或子表。相反，被外键引用的表称为被引用表或父表。\n",
    "\n",
    "## 外键的作用\n",
    "外键的主要作用是维护关系数据库的参照完整性，确保父表和子表之间的关系有效。此外，外键还能在父表发生变化时自动更新或删除子表中的相关行，从而保持一致性。\n",
    "\n",
    "```\n",
    "[CONSTRAINT fk_name]\n",
    "   FOREIGN KEY(fk_columns) \n",
    "   REFERENCES parent_table(parent_key_columns)\n",
    "   [ON DELETE delete_action]\n",
    "   [ON UPDATE update_action]\n",
    "```\n"
   ],
   "metadata": {
    "collapsed": false
   },
   "id": "01def574"
  },
  {
   "cell_type": "code",
   "outputs": [],
   "source": [
    "import common.ipynb_importer\n",
    "from db.pg.pg_00_common import *\n",
    "\n",
    "cursor = pg_connect()"
   ],
   "metadata": {
    "collapsed": false,
    "ExecuteTime": {
     "end_time": "2024-03-28T08:31:26.558377Z",
     "start_time": "2024-03-28T08:31:26.510372Z"
    }
   },
   "id": "initial_id",
   "execution_count": 12
  },
  {
   "cell_type": "markdown",
   "source": [
    "# NO ACTION"
   ],
   "metadata": {
    "collapsed": false
   },
   "id": "eb4fe1cac7cfe755"
  },
  {
   "cell_type": "code",
   "outputs": [
    {
     "data": {
      "text/plain": "<psycopg.Cursor [COMMAND_OK] [INTRANS] (host=localhost user=postgres database=dvdrental) at 0x24a5efbc9e0>"
     },
     "execution_count": 13,
     "metadata": {},
     "output_type": "execute_result"
    }
   ],
   "source": [
    "sql = \"\"\"\n",
    "DROP TABLE IF EXISTS customers;\n",
    "DROP TABLE IF EXISTS contacts;\n",
    "\n",
    "CREATE TABLE customers(\n",
    "   id INT GENERATED ALWAYS AS IDENTITY,\n",
    "   name VARCHAR(255) NOT NULL,\n",
    "   PRIMARY KEY(id)\n",
    ");\n",
    "\n",
    "CREATE TABLE contacts(\n",
    "   id INT GENERATED ALWAYS AS IDENTITY,\n",
    "   customer_id INT,\n",
    "   name VARCHAR(255) NOT NULL,\n",
    "   phone VARCHAR(15),\n",
    "   email VARCHAR(100),\n",
    "   PRIMARY KEY(id),\n",
    "   CONSTRAINT fk_customer\n",
    "      FOREIGN KEY(customer_id) \n",
    "        REFERENCES customers(id)\n",
    ");\n",
    "\"\"\"\n",
    "cursor.execute(sql)"
   ],
   "metadata": {
    "collapsed": false,
    "ExecuteTime": {
     "end_time": "2024-03-28T08:31:26.589883Z",
     "start_time": "2024-03-28T08:31:26.560373Z"
    }
   },
   "id": "6b23dfccba2ca7e6",
   "execution_count": 13
  },
  {
   "cell_type": "code",
   "outputs": [
    {
     "ename": "UndefinedColumn",
     "evalue": "关系 \"customers\" 的 \"customer_name\" 字段不存在\nLINE 2: INSERT INTO customers(customer_name)\n                              ^",
     "output_type": "error",
     "traceback": [
      "\u001B[1;31m---------------------------------------------------------------------------\u001B[0m",
      "\u001B[1;31mUndefinedColumn\u001B[0m                           Traceback (most recent call last)",
      "Cell \u001B[1;32mIn[14], line 11\u001B[0m\n\u001B[0;32m      1\u001B[0m sql \u001B[38;5;241m=\u001B[39m \u001B[38;5;124m\"\"\"\u001B[39m\n\u001B[0;32m      2\u001B[0m \u001B[38;5;124mINSERT INTO customers(customer_name)\u001B[39m\n\u001B[0;32m      3\u001B[0m \u001B[38;5;124mVALUES(\u001B[39m\u001B[38;5;124m'\u001B[39m\u001B[38;5;124mBlueBird Inc\u001B[39m\u001B[38;5;124m'\u001B[39m\u001B[38;5;124m),\u001B[39m\n\u001B[1;32m   (...)\u001B[0m\n\u001B[0;32m      9\u001B[0m \u001B[38;5;124m      (2,\u001B[39m\u001B[38;5;124m'\u001B[39m\u001B[38;5;124mDavid Wright\u001B[39m\u001B[38;5;124m'\u001B[39m\u001B[38;5;124m,\u001B[39m\u001B[38;5;124m'\u001B[39m\u001B[38;5;124m(408)-222-1234\u001B[39m\u001B[38;5;124m'\u001B[39m\u001B[38;5;124m,\u001B[39m\u001B[38;5;124m'\u001B[39m\u001B[38;5;124mdavid.wright@dolphin.dev\u001B[39m\u001B[38;5;124m'\u001B[39m\u001B[38;5;124m);\u001B[39m\n\u001B[0;32m     10\u001B[0m \u001B[38;5;124m\"\"\"\u001B[39m\n\u001B[1;32m---> 11\u001B[0m \u001B[43mcursor\u001B[49m\u001B[38;5;241;43m.\u001B[39;49m\u001B[43mexecute\u001B[49m\u001B[43m(\u001B[49m\u001B[43msql\u001B[49m\u001B[43m)\u001B[49m\n",
      "File \u001B[1;32m~\\.conda\\envs\\learning\\lib\\site-packages\\psycopg\\cursor.py:732\u001B[0m, in \u001B[0;36mCursor.execute\u001B[1;34m(self, query, params, prepare, binary)\u001B[0m\n\u001B[0;32m    728\u001B[0m         \u001B[38;5;28mself\u001B[39m\u001B[38;5;241m.\u001B[39m_conn\u001B[38;5;241m.\u001B[39mwait(\n\u001B[0;32m    729\u001B[0m             \u001B[38;5;28mself\u001B[39m\u001B[38;5;241m.\u001B[39m_execute_gen(query, params, prepare\u001B[38;5;241m=\u001B[39mprepare, binary\u001B[38;5;241m=\u001B[39mbinary)\n\u001B[0;32m    730\u001B[0m         )\n\u001B[0;32m    731\u001B[0m \u001B[38;5;28;01mexcept\u001B[39;00m e\u001B[38;5;241m.\u001B[39m_NO_TRACEBACK \u001B[38;5;28;01mas\u001B[39;00m ex:\n\u001B[1;32m--> 732\u001B[0m     \u001B[38;5;28;01mraise\u001B[39;00m ex\u001B[38;5;241m.\u001B[39mwith_traceback(\u001B[38;5;28;01mNone\u001B[39;00m)\n\u001B[0;32m    733\u001B[0m \u001B[38;5;28;01mreturn\u001B[39;00m \u001B[38;5;28mself\u001B[39m\n",
      "\u001B[1;31mUndefinedColumn\u001B[0m: 关系 \"customers\" 的 \"customer_name\" 字段不存在\nLINE 2: INSERT INTO customers(customer_name)\n                              ^"
     ]
    }
   ],
   "source": [
    "sql = \"\"\"\n",
    "INSERT INTO customers(customer_name)\n",
    "VALUES('BlueBird Inc'),\n",
    "      ('Dolphin LLC');\n",
    "\t   \n",
    "INSERT INTO contacts(customer_id, contact_name, phone, email)\n",
    "VALUES(1,'John Doe','(408)-111-1234','john.doe@bluebird.dev'),\n",
    "      (1,'Jane Doe','(408)-111-1235','jane.doe@bluebird.dev'),\n",
    "      (2,'David Wright','(408)-222-1234','david.wright@dolphin.dev');\n",
    "\"\"\"\n",
    "cursor.execute(sql)"
   ],
   "metadata": {
    "collapsed": false,
    "ExecuteTime": {
     "end_time": "2024-03-28T08:31:26.620883Z",
     "start_time": "2024-03-28T08:31:26.590883Z"
    }
   },
   "id": "ca30831f88f2dc66",
   "execution_count": 14
  },
  {
   "cell_type": "code",
   "outputs": [],
   "source": [
    "sql = \"\"\"\n",
    "SELECT * FROM contacts;\n",
    "\"\"\"\n",
    "run_sql(cursor, sql)"
   ],
   "metadata": {
    "collapsed": false,
    "ExecuteTime": {
     "end_time": "2024-03-28T08:31:26.622884Z",
     "start_time": "2024-03-28T08:31:26.622884Z"
    }
   },
   "id": "d6bb2082ee94b313",
   "execution_count": null
  },
  {
   "cell_type": "code",
   "outputs": [],
   "source": [
    "# 由于执行了 ON DELETE NO ACTION 操作，PostgreSQL 出现了违反约束的情况，因此删除操作失败。\n",
    "sql = \"\"\"\n",
    "DELETE FROM customers\n",
    "WHERE customer_id = 1;\n",
    "\"\"\"\n",
    "# run_sql(cursor, sql)"
   ],
   "metadata": {
    "collapsed": false,
    "ExecuteTime": {
     "start_time": "2024-03-28T08:31:26.623884Z"
    }
   },
   "id": "1812dcdb4e239358",
   "execution_count": null
  },
  {
   "cell_type": "markdown",
   "source": [
    "# SET NULL"
   ],
   "metadata": {
    "collapsed": false
   },
   "id": "3ce1ea278f6bdd20"
  },
  {
   "cell_type": "code",
   "outputs": [],
   "source": [
    "sql = \"\"\"\n",
    "DROP TABLE IF EXISTS contacts;\n",
    "DROP TABLE IF EXISTS customers;\n",
    "\n",
    "CREATE TABLE customers(\n",
    "   customer_id INT GENERATED ALWAYS AS IDENTITY,\n",
    "   customer_name VARCHAR(255) NOT NULL,\n",
    "   PRIMARY KEY(customer_id)\n",
    ");\n",
    "\n",
    "CREATE TABLE contacts(\n",
    "   contact_id INT GENERATED ALWAYS AS IDENTITY,\n",
    "   customer_id INT,\n",
    "   contact_name VARCHAR(255) NOT NULL,\n",
    "   phone VARCHAR(15),\n",
    "   email VARCHAR(100),\n",
    "   PRIMARY KEY(contact_id),\n",
    "   CONSTRAINT fk_customer\n",
    "      FOREIGN KEY(customer_id) \n",
    "\t  REFERENCES customers(customer_id)\n",
    "\t  ON DELETE SET NULL\n",
    ");\n",
    "\n",
    "INSERT INTO customers(customer_name)\n",
    "VALUES('BlueBird Inc'),\n",
    "      ('Dolphin LLC');\t   \n",
    "\t   \n",
    "INSERT INTO contacts(customer_id, contact_name, phone, email)\n",
    "VALUES(1,'John Doe','(408)-111-1234','john.doe@bluebird.dev'),\n",
    "      (1,'Jane Doe','(408)-111-1235','jane.doe@bluebird.dev'),\n",
    "      (2,'David Wright','(408)-222-1234','david.wright@dolphin.dev');\n",
    "\"\"\"\n",
    "cursor.execute(sql)"
   ],
   "metadata": {
    "collapsed": false,
    "ExecuteTime": {
     "start_time": "2024-03-28T08:31:26.624883Z"
    }
   },
   "id": "c911224b610fa1e3",
   "execution_count": null
  },
  {
   "cell_type": "code",
   "outputs": [],
   "source": [
    "# 由于执行了 ON DELETE SET NULL 操作，PostgreSQL 将 contacts 表中的 customer_id 设置为 NULL。\n",
    "sql = \"\"\"\n",
    "DELETE FROM customers\n",
    "WHERE customer_id = 1;\n",
    "\"\"\"\n",
    "cursor.execute(sql)\n",
    "\n",
    "sql = \"\"\"\n",
    "SELECT * FROM contacts;\n",
    "\"\"\"\n",
    "run_sql(cursor, sql)"
   ],
   "metadata": {
    "collapsed": false,
    "ExecuteTime": {
     "start_time": "2024-03-28T08:31:26.625883Z"
    }
   },
   "id": "970416a0d6dea5cd",
   "execution_count": null
  },
  {
   "cell_type": "markdown",
   "source": [
    "# CASCADE"
   ],
   "metadata": {
    "collapsed": false
   },
   "id": "931d5bd187ad4429"
  },
  {
   "cell_type": "code",
   "outputs": [],
   "source": [
    "sql = \"\"\"\n",
    "DROP TABLE IF EXISTS contacts;\n",
    "DROP TABLE IF EXISTS customers;\n",
    "\n",
    "CREATE TABLE customers(\n",
    "   customer_id INT GENERATED ALWAYS AS IDENTITY,\n",
    "   customer_name VARCHAR(255) NOT NULL,\n",
    "   PRIMARY KEY(customer_id)\n",
    ");\n",
    "\n",
    "CREATE TABLE contacts(\n",
    "   contact_id INT GENERATED ALWAYS AS IDENTITY,\n",
    "   customer_id INT,\n",
    "   contact_name VARCHAR(255) NOT NULL,\n",
    "   phone VARCHAR(15),\n",
    "   email VARCHAR(100),\n",
    "   PRIMARY KEY(contact_id),\n",
    "   CONSTRAINT fk_customer\n",
    "      FOREIGN KEY(customer_id) \n",
    "\t  REFERENCES customers(customer_id)\n",
    "\t  ON DELETE CASCADE\n",
    ");\n",
    "\n",
    "INSERT INTO customers(customer_name)\n",
    "VALUES('BlueBird Inc'),\n",
    "      ('Dolphin LLC');\t   \n",
    "\t   \n",
    "INSERT INTO contacts(customer_id, contact_name, phone, email)\n",
    "VALUES(1,'John Doe','(408)-111-1234','john.doe@bluebird.dev'),\n",
    "      (1,'Jane Doe','(408)-111-1235','jane.doe@bluebird.dev'),\n",
    "      (2,'David Wright','(408)-222-1234','david.wright@dolphin.dev');\n",
    "\"\"\"\n",
    "cursor.execute(sql)"
   ],
   "metadata": {
    "collapsed": false,
    "ExecuteTime": {
     "start_time": "2024-03-28T08:31:26.626883Z"
    }
   },
   "id": "b1125ffbdb71bfc3",
   "execution_count": null
  },
  {
   "cell_type": "code",
   "outputs": [],
   "source": [
    "# 由于执行了 ON DELETE CASCADE 操作，PostgreSQL 删除了 customers 表中 customer_id 为 1 的行，并且删除了 contacts 表中 customer_id 为 1 的行。   \n",
    "sql = \"\"\"\n",
    "DELETE FROM customers\n",
    "WHERE customer_id = 1;\n",
    "\"\"\"\n",
    "cursor.execute(sql)\n",
    "\n",
    "sql = \"\"\"\n",
    "SELECT * FROM contacts;\n",
    "\"\"\"\n",
    "run_sql(cursor, sql)"
   ],
   "metadata": {
    "collapsed": false,
    "ExecuteTime": {
     "start_time": "2024-03-28T08:31:26.627883Z"
    }
   },
   "id": "6f8556c53d1bd3a9",
   "execution_count": null
  },
  {
   "cell_type": "markdown",
   "source": [
    "# SET DEFAULT\n",
    "要在现有表中添加外键约束，需要使用下面形式的 ALTER TABLE 语句：\n",
    "```\n",
    "ALTER TABLE child_table \n",
    "ADD CONSTRAINT constraint_name \n",
    "FOREIGN KEY (fk_columns) \n",
    "REFERENCES parent_table (parent_key_columns);\n",
    "```\n",
    "\n",
    "将带有 `ON DELETE CASCADE` 选项的外键约束添加到现有表时：\n",
    "```\n",
    "ALTER TABLE child_table\n",
    "DROP CONSTRAINT constraint_fkey;\n",
    "```\n",
    "然后：\n",
    "```\n",
    "ALTER TABLE child_table\n",
    "ADD CONSTRAINT constraint_fk\n",
    "FOREIGN KEY (fk_columns)\n",
    "REFERENCES parent_table(parent_key_columns)\n",
    "ON DELETE CASCADE;\n",
    "```"
   ],
   "metadata": {
    "collapsed": false
   },
   "id": "5cbc2249ce49bcb0"
  }
 ],
 "metadata": {
  "kernelspec": {
   "display_name": "Python 3",
   "language": "python",
   "name": "python3"
  },
  "language_info": {
   "codemirror_mode": {
    "name": "ipython",
    "version": 2
   },
   "file_extension": ".py",
   "mimetype": "text/x-python",
   "name": "python",
   "nbconvert_exporter": "python",
   "pygments_lexer": "ipython2",
   "version": "2.7.6"
  }
 },
 "nbformat": 4,
 "nbformat_minor": 5
}
