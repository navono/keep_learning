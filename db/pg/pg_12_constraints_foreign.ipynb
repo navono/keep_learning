{
 "cells": [
  {
   "cell_type": "markdown",
   "source": [
    "# 外键\n",
    "\n",
    "## 介绍\n",
    "外键是一个表中的一列或一组列，它唯一标识另一个表中的行。外键通过引用主键或所引用表的唯一约束在两个表中的数据之间建立链接。包含外键的表称为引用表或子表。相反，被外键引用的表称为被引用表或父表。\n",
    "\n",
    "## 外键的作用\n",
    "外键的主要作用是维护关系数据库的参照完整性，确保父表和子表之间的关系有效。此外，外键还能在父表发生变化时自动更新或删除子表中的相关行，从而保持一致性。\n",
    "\n",
    "```\n",
    "[CONSTRAINT fk_name]\n",
    "   FOREIGN KEY(fk_columns) \n",
    "   REFERENCES parent_table(parent_key_columns)\n",
    "   [ON DELETE delete_action]\n",
    "   [ON UPDATE update_action]\n",
    "```\n"
   ],
   "metadata": {
    "collapsed": false
   },
   "id": "01def574"
  },
  {
   "cell_type": "code",
   "outputs": [
    {
     "name": "stdout",
     "output_type": "stream",
     "text": [
      "importing Jupyter notebook from D:\\sourcecode\\keep_learning\\db\\pg\\pg_00_common.ipynb\n"
     ]
    }
   ],
   "source": [
    "import common.ipynb_importer\n",
    "from db.pg.pg_00_common import *\n",
    "\n",
    "cursor = pg_connect()"
   ],
   "metadata": {
    "collapsed": false,
    "ExecuteTime": {
     "end_time": "2024-03-17T05:11:23.434503Z",
     "start_time": "2024-03-17T05:11:22.554835Z"
    }
   },
   "id": "initial_id",
   "execution_count": 1
  },
  {
   "cell_type": "markdown",
   "source": [
    "# NO ACTION"
   ],
   "metadata": {
    "collapsed": false
   },
   "id": "eb4fe1cac7cfe755"
  },
  {
   "cell_type": "code",
   "outputs": [
    {
     "data": {
      "text/plain": "<psycopg.Cursor [COMMAND_OK] [INTRANS] (host=localhost user=postgres database=dvdrental) at 0x27ecd1b8930>"
     },
     "execution_count": 2,
     "metadata": {},
     "output_type": "execute_result"
    }
   ],
   "source": [
    "sql = \"\"\"\n",
    "DROP TABLE IF EXISTS customers;\n",
    "DROP TABLE IF EXISTS contacts;\n",
    "\n",
    "CREATE TABLE customers(\n",
    "   customer_id INT GENERATED ALWAYS AS IDENTITY,\n",
    "   customer_name VARCHAR(255) NOT NULL,\n",
    "   PRIMARY KEY(customer_id)\n",
    ");\n",
    "\n",
    "CREATE TABLE contacts(\n",
    "   contact_id INT GENERATED ALWAYS AS IDENTITY,\n",
    "   customer_id INT,\n",
    "   contact_name VARCHAR(255) NOT NULL,\n",
    "   phone VARCHAR(15),\n",
    "   email VARCHAR(100),\n",
    "   PRIMARY KEY(contact_id),\n",
    "   CONSTRAINT fk_customer\n",
    "      FOREIGN KEY(customer_id) \n",
    "        REFERENCES customers(customer_id)\n",
    ");\n",
    "\"\"\"\n",
    "cursor.execute(sql)"
   ],
   "metadata": {
    "collapsed": false,
    "ExecuteTime": {
     "end_time": "2024-03-17T05:11:23.466411Z",
     "start_time": "2024-03-17T05:11:23.436459Z"
    }
   },
   "id": "6b23dfccba2ca7e6",
   "execution_count": 2
  },
  {
   "cell_type": "code",
   "outputs": [
    {
     "data": {
      "text/plain": "<psycopg.Cursor [COMMAND_OK] [INTRANS] (host=localhost user=postgres database=dvdrental) at 0x27ecd1b8930>"
     },
     "execution_count": 3,
     "metadata": {},
     "output_type": "execute_result"
    }
   ],
   "source": [
    "sql = \"\"\"\n",
    "INSERT INTO customers(customer_name)\n",
    "VALUES('BlueBird Inc'),\n",
    "      ('Dolphin LLC');\n",
    "\t   \n",
    "INSERT INTO contacts(customer_id, contact_name, phone, email)\n",
    "VALUES(1,'John Doe','(408)-111-1234','john.doe@bluebird.dev'),\n",
    "      (1,'Jane Doe','(408)-111-1235','jane.doe@bluebird.dev'),\n",
    "      (2,'David Wright','(408)-222-1234','david.wright@dolphin.dev');\n",
    "\"\"\"\n",
    "cursor.execute(sql)"
   ],
   "metadata": {
    "collapsed": false,
    "ExecuteTime": {
     "end_time": "2024-03-17T05:11:23.482410Z",
     "start_time": "2024-03-17T05:11:23.467445Z"
    }
   },
   "id": "ca30831f88f2dc66",
   "execution_count": 3
  },
  {
   "cell_type": "code",
   "outputs": [
    {
     "name": "stdout",
     "output_type": "stream",
     "text": [
      "   contact_id  customer_id  contact_name           phone  \\\n",
      "0           1            1      John Doe  (408)-111-1234   \n",
      "1           2            1      Jane Doe  (408)-111-1235   \n",
      "2           3            2  David Wright  (408)-222-1234   \n",
      "\n",
      "                      email  \n",
      "0     john.doe@bluebird.dev  \n",
      "1     jane.doe@bluebird.dev  \n",
      "2  david.wright@dolphin.dev  \n"
     ]
    }
   ],
   "source": [
    "sql = \"\"\"\n",
    "SELECT * FROM contacts;\n",
    "\"\"\"\n",
    "run_sql(cursor, sql)"
   ],
   "metadata": {
    "collapsed": false,
    "ExecuteTime": {
     "end_time": "2024-03-17T05:11:23.497410Z",
     "start_time": "2024-03-17T05:11:23.484410Z"
    }
   },
   "id": "d6bb2082ee94b313",
   "execution_count": 4
  },
  {
   "cell_type": "code",
   "outputs": [],
   "source": [
    "# 由于执行了 ON DELETE NO ACTION 操作，PostgreSQL 出现了违反约束的情况，因此删除操作失败。\n",
    "sql = \"\"\"\n",
    "DELETE FROM customers\n",
    "WHERE customer_id = 1;\n",
    "\"\"\"\n",
    "# run_sql(cursor, sql)"
   ],
   "metadata": {
    "collapsed": false,
    "ExecuteTime": {
     "end_time": "2024-03-17T05:11:23.512411Z",
     "start_time": "2024-03-17T05:11:23.500415Z"
    }
   },
   "id": "1812dcdb4e239358",
   "execution_count": 5
  },
  {
   "cell_type": "markdown",
   "source": [
    "# SET NULL"
   ],
   "metadata": {
    "collapsed": false
   },
   "id": "3ce1ea278f6bdd20"
  },
  {
   "cell_type": "code",
   "outputs": [
    {
     "data": {
      "text/plain": "<psycopg.Cursor [COMMAND_OK] [INTRANS] (host=localhost user=postgres database=dvdrental) at 0x27ecd1b8930>"
     },
     "execution_count": 6,
     "metadata": {},
     "output_type": "execute_result"
    }
   ],
   "source": [
    "sql = \"\"\"\n",
    "DROP TABLE IF EXISTS contacts;\n",
    "DROP TABLE IF EXISTS customers;\n",
    "\n",
    "CREATE TABLE customers(\n",
    "   customer_id INT GENERATED ALWAYS AS IDENTITY,\n",
    "   customer_name VARCHAR(255) NOT NULL,\n",
    "   PRIMARY KEY(customer_id)\n",
    ");\n",
    "\n",
    "CREATE TABLE contacts(\n",
    "   contact_id INT GENERATED ALWAYS AS IDENTITY,\n",
    "   customer_id INT,\n",
    "   contact_name VARCHAR(255) NOT NULL,\n",
    "   phone VARCHAR(15),\n",
    "   email VARCHAR(100),\n",
    "   PRIMARY KEY(contact_id),\n",
    "   CONSTRAINT fk_customer\n",
    "      FOREIGN KEY(customer_id) \n",
    "\t  REFERENCES customers(customer_id)\n",
    "\t  ON DELETE SET NULL\n",
    ");\n",
    "\n",
    "INSERT INTO customers(customer_name)\n",
    "VALUES('BlueBird Inc'),\n",
    "      ('Dolphin LLC');\t   \n",
    "\t   \n",
    "INSERT INTO contacts(customer_id, contact_name, phone, email)\n",
    "VALUES(1,'John Doe','(408)-111-1234','john.doe@bluebird.dev'),\n",
    "      (1,'Jane Doe','(408)-111-1235','jane.doe@bluebird.dev'),\n",
    "      (2,'David Wright','(408)-222-1234','david.wright@dolphin.dev');\n",
    "\"\"\"\n",
    "cursor.execute(sql)"
   ],
   "metadata": {
    "collapsed": false,
    "ExecuteTime": {
     "end_time": "2024-03-17T05:11:23.544411Z",
     "start_time": "2024-03-17T05:11:23.514411Z"
    }
   },
   "id": "c911224b610fa1e3",
   "execution_count": 6
  },
  {
   "cell_type": "code",
   "outputs": [
    {
     "name": "stdout",
     "output_type": "stream",
     "text": [
      "   contact_id  customer_id  contact_name           phone  \\\n",
      "0           3          2.0  David Wright  (408)-222-1234   \n",
      "1           1          NaN      John Doe  (408)-111-1234   \n",
      "2           2          NaN      Jane Doe  (408)-111-1235   \n",
      "\n",
      "                      email  \n",
      "0  david.wright@dolphin.dev  \n",
      "1     john.doe@bluebird.dev  \n",
      "2     jane.doe@bluebird.dev  \n"
     ]
    }
   ],
   "source": [
    "# 由于执行了 ON DELETE SET NULL 操作，PostgreSQL 将 contacts 表中的 customer_id 设置为 NULL。\n",
    "sql = \"\"\"\n",
    "DELETE FROM customers\n",
    "WHERE customer_id = 1;\n",
    "\"\"\"\n",
    "cursor.execute(sql)\n",
    "\n",
    "sql = \"\"\"\n",
    "SELECT * FROM contacts;\n",
    "\"\"\"\n",
    "run_sql(cursor, sql)"
   ],
   "metadata": {
    "collapsed": false,
    "ExecuteTime": {
     "end_time": "2024-03-17T05:11:50.572018Z",
     "start_time": "2024-03-17T05:11:50.556984Z"
    }
   },
   "id": "970416a0d6dea5cd",
   "execution_count": 9
  },
  {
   "cell_type": "markdown",
   "source": [
    "# CASCADE"
   ],
   "metadata": {
    "collapsed": false
   },
   "id": "931d5bd187ad4429"
  },
  {
   "cell_type": "code",
   "outputs": [],
   "source": [
    "sql = \"\"\"\n",
    "DROP TABLE IF EXISTS contacts;\n",
    "DROP TABLE IF EXISTS customers;\n",
    "\n",
    "CREATE TABLE customers(\n",
    "   customer_id INT GENERATED ALWAYS AS IDENTITY,\n",
    "   customer_name VARCHAR(255) NOT NULL,\n",
    "   PRIMARY KEY(customer_id)\n",
    ");\n",
    "\n",
    "CREATE TABLE contacts(\n",
    "   contact_id INT GENERATED ALWAYS AS IDENTITY,\n",
    "   customer_id INT,\n",
    "   contact_name VARCHAR(255) NOT NULL,\n",
    "   phone VARCHAR(15),\n",
    "   email VARCHAR(100),\n",
    "   PRIMARY KEY(contact_id),\n",
    "   CONSTRAINT fk_customer\n",
    "      FOREIGN KEY(customer_id) \n",
    "\t  REFERENCES customers(customer_id)\n",
    "\t  ON DELETE CASCADE\n",
    ");\n",
    "\n",
    "INSERT INTO customers(customer_name)\n",
    "VALUES('BlueBird Inc'),\n",
    "      ('Dolphin LLC');\t   \n",
    "\t   \n",
    "INSERT INTO contacts(customer_id, contact_name, phone, email)\n",
    "VALUES(1,'John Doe','(408)-111-1234','john.doe@bluebird.dev'),\n",
    "      (1,'Jane Doe','(408)-111-1235','jane.doe@bluebird.dev'),\n",
    "      (2,'David Wright','(408)-222-1234','david.wright@dolphin.dev');\n",
    "\"\"\"\n",
    "cursor.execute(sql)"
   ],
   "metadata": {
    "collapsed": false,
    "ExecuteTime": {
     "end_time": "2024-03-17T05:12:48.458613Z",
     "start_time": "2024-03-17T05:12:48.428487Z"
    }
   },
   "id": "b1125ffbdb71bfc3",
   "execution_count": 10
  },
  {
   "cell_type": "code",
   "outputs": [
    {
     "name": "stdout",
     "output_type": "stream",
     "text": [
      "   contact_id  customer_id  contact_name           phone  \\\n",
      "0           3            2  David Wright  (408)-222-1234   \n",
      "\n",
      "                      email  \n",
      "0  david.wright@dolphin.dev  \n"
     ]
    }
   ],
   "source": [
    "# 由于执行了 ON DELETE CASCADE 操作，PostgreSQL 删除了 customers 表中 customer_id 为 1 的行，并且删除了 contacts 表中 customer_id 为 1 的行。   \n",
    "sql = \"\"\"\n",
    "DELETE FROM customers\n",
    "WHERE customer_id = 1;\n",
    "\"\"\"\n",
    "cursor.execute(sql)\n",
    "\n",
    "sql = \"\"\"\n",
    "SELECT * FROM contacts;\n",
    "\"\"\"\n",
    "run_sql(cursor, sql)"
   ],
   "metadata": {
    "collapsed": false,
    "ExecuteTime": {
     "end_time": "2024-03-17T05:13:11.299230Z",
     "start_time": "2024-03-17T05:13:11.275230Z"
    }
   },
   "id": "6f8556c53d1bd3a9",
   "execution_count": 12
  },
  {
   "cell_type": "markdown",
   "source": [
    "# SET DEFAULT\n",
    "要在现有表中添加外键约束，需要使用下面形式的 ALTER TABLE 语句：\n",
    "```\n",
    "ALTER TABLE child_table \n",
    "ADD CONSTRAINT constraint_name \n",
    "FOREIGN KEY (fk_columns) \n",
    "REFERENCES parent_table (parent_key_columns);\n",
    "```\n",
    "\n",
    "将带有 `ON DELETE CASCADE` 选项的外键约束添加到现有表时：\n",
    "```\n",
    "ALTER TABLE child_table\n",
    "DROP CONSTRAINT constraint_fkey;\n",
    "```\n",
    "然后：\n",
    "```\n",
    "ALTER TABLE child_table\n",
    "ADD CONSTRAINT constraint_fk\n",
    "FOREIGN KEY (fk_columns)\n",
    "REFERENCES parent_table(parent_key_columns)\n",
    "ON DELETE CASCADE;\n",
    "```"
   ],
   "metadata": {
    "collapsed": false
   },
   "id": "5cbc2249ce49bcb0"
  }
 ],
 "metadata": {
  "kernelspec": {
   "display_name": "Python 3",
   "language": "python",
   "name": "python3"
  },
  "language_info": {
   "codemirror_mode": {
    "name": "ipython",
    "version": 2
   },
   "file_extension": ".py",
   "mimetype": "text/x-python",
   "name": "python",
   "nbconvert_exporter": "python",
   "pygments_lexer": "ipython2",
   "version": "2.7.6"
  }
 },
 "nbformat": 4,
 "nbformat_minor": 5
}
