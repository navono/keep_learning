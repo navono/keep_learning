{
 "cells": [
  {
   "cell_type": "markdown",
   "source": [
    "```\n",
    "SELECT select_list\n",
    "FROM A\n",
    "UNION\n",
    "SELECT select_list\n",
    "FROM B;\n",
    "```\n",
    "\n",
    "`UNION` 会删除结果中的所有重复的行，如果需要保留重复的行，需要使用 `UNION ALL`。\n",
    "```\n",
    "SELECT select_list\n",
    "FROM A\n",
    "UNION ALL\n",
    "SELECT select_list\n",
    "FROM B;\n",
    "```\n",
    "\n",
    "`UNION` 和 `UNION ALL` 运算符可以按未指定的顺序对最终结果集中的行进行排序。例如，它可以将第二个结果集中的行放置在第一个结果集中的行之前/之后。如果需要排序，可以使用 `ORDER BY`。\n",
    "```\n",
    "SELECT select_list\n",
    "FROM A\n",
    "UNION\n",
    "SELECT select_list\n",
    "FROM B\n",
    "ORDER BY sort_expression;\n",
    "```\n"
   ],
   "metadata": {
    "collapsed": false
   },
   "id": "2abfe91c72d713fc"
  },
  {
   "cell_type": "code",
   "execution_count": 1,
   "id": "initial_id",
   "metadata": {
    "collapsed": true,
    "ExecuteTime": {
     "end_time": "2024-01-25T01:12:01.971086800Z",
     "start_time": "2024-01-25T01:12:00.668883500Z"
    }
   },
   "outputs": [
    {
     "name": "stdout",
     "output_type": "stream",
     "text": [
      "importing Jupyter notebook from E:\\sourcecode\\keep_learning\\db\\pg\\pg_00_common.ipynb\n"
     ]
    }
   ],
   "source": [
    "import common.ipynb_importer\n",
    "from db.pg.pg_00_common import *\n",
    "\n",
    "cursor = pg_connect()"
   ]
  },
  {
   "cell_type": "code",
   "outputs": [
    {
     "data": {
      "text/plain": "<psycopg.Cursor [COMMAND_OK] [INTRANS] (host=localhost user=postgres database=dvdrental) at 0x21c6da25a60>"
     },
     "execution_count": 3,
     "metadata": {},
     "output_type": "execute_result"
    }
   ],
   "source": [
    "sql = \"\"\"\n",
    "CREATE TABLE top_rated_films(\n",
    "  title VARCHAR NOT NULL, \n",
    "  release_year SMALLINT\n",
    ");\n",
    "\n",
    "CREATE TABLE most_popular_films(\n",
    "  title VARCHAR NOT NULL, \n",
    "  release_year SMALLINT\n",
    ");\n",
    "\n",
    "INSERT INTO top_rated_films(title, release_year) \n",
    "VALUES \n",
    "   ('The Shawshank Redemption', 1994), \n",
    "   ('The Godfather', 1972), \n",
    "   ('The Dark Knight', 2008),\n",
    "   ('12 Angry Men', 1957);\n",
    "\n",
    "INSERT INTO most_popular_films(title, release_year) \n",
    "VALUES \n",
    "  ('An American Pickle', 2020), \n",
    "  ('The Godfather', 1972), \n",
    "   ('The Dark Knight', 2008),\n",
    "  ('Greyhound', 2020);\n",
    "\"\"\"\n",
    "\n",
    "cursor.execute(sql)"
   ],
   "metadata": {
    "collapsed": false,
    "ExecuteTime": {
     "end_time": "2024-01-25T01:12:28.172667700Z",
     "start_time": "2024-01-25T01:12:28.144667700Z"
    }
   },
   "id": "86fafc39ab5cf777",
   "execution_count": 3
  },
  {
   "cell_type": "code",
   "outputs": [
    {
     "name": "stdout",
     "output_type": "stream",
     "text": [
      "                      title  release_year\n",
      "0        An American Pickle          2020\n",
      "1           The Dark Knight          2008\n",
      "2                 Greyhound          2020\n",
      "3  The Shawshank Redemption          1994\n",
      "4             The Godfather          1972\n",
      "5              12 Angry Men          1957\n"
     ]
    }
   ],
   "source": [
    "sql = \"\"\"\n",
    "SELECT * FROM top_rated_films\n",
    "UNION\n",
    "SELECT * FROM most_popular_films;\n",
    "\"\"\"\n",
    "\n",
    "run_sql(cursor, sql)"
   ],
   "metadata": {
    "collapsed": false,
    "ExecuteTime": {
     "end_time": "2024-01-25T01:12:29.712729600Z",
     "start_time": "2024-01-25T01:12:29.703729900Z"
    }
   },
   "id": "adba2984a2ef23b8",
   "execution_count": 4
  },
  {
   "cell_type": "code",
   "outputs": [
    {
     "name": "stdout",
     "output_type": "stream",
     "text": [
      "                      title  release_year\n",
      "0  The Shawshank Redemption          1994\n",
      "1             The Godfather          1972\n",
      "2           The Dark Knight          2008\n",
      "3              12 Angry Men          1957\n",
      "4        An American Pickle          2020\n",
      "5             The Godfather          1972\n",
      "6           The Dark Knight          2008\n",
      "7                 Greyhound          2020\n"
     ]
    }
   ],
   "source": [
    "sql = \"\"\"\n",
    "SELECT * FROM top_rated_films\n",
    "UNION ALL\n",
    "SELECT * FROM most_popular_films;\n",
    "\"\"\"\n",
    "\n",
    "run_sql(cursor, sql)"
   ],
   "metadata": {
    "collapsed": false,
    "ExecuteTime": {
     "end_time": "2024-01-25T01:13:09.000041900Z",
     "start_time": "2024-01-25T01:13:08.986962700Z"
    }
   },
   "id": "4f004539316bb5bb",
   "execution_count": 5
  },
  {
   "cell_type": "code",
   "outputs": [
    {
     "name": "stdout",
     "output_type": "stream",
     "text": [
      "                      title  release_year\n",
      "0              12 Angry Men          1957\n",
      "1        An American Pickle          2020\n",
      "2                 Greyhound          2020\n",
      "3           The Dark Knight          2008\n",
      "4           The Dark Knight          2008\n",
      "5             The Godfather          1972\n",
      "6             The Godfather          1972\n",
      "7  The Shawshank Redemption          1994\n"
     ]
    }
   ],
   "source": [
    "sql = \"\"\"\n",
    "SELECT * FROM top_rated_films\n",
    "UNION ALL\n",
    "SELECT * FROM most_popular_films\n",
    "ORDER BY title;\n",
    "\"\"\"\n",
    "\n",
    "run_sql(cursor, sql)"
   ],
   "metadata": {
    "collapsed": false,
    "ExecuteTime": {
     "end_time": "2024-01-25T01:13:21.607611200Z",
     "start_time": "2024-01-25T01:13:21.589611Z"
    }
   },
   "id": "48b9aad71cf0bbb0",
   "execution_count": 6
  }
 ],
 "metadata": {
  "kernelspec": {
   "display_name": "Python 3",
   "language": "python",
   "name": "python3"
  },
  "language_info": {
   "codemirror_mode": {
    "name": "ipython",
    "version": 2
   },
   "file_extension": ".py",
   "mimetype": "text/x-python",
   "name": "python",
   "nbconvert_exporter": "python",
   "pygments_lexer": "ipython2",
   "version": "2.7.6"
  }
 },
 "nbformat": 4,
 "nbformat_minor": 5
}
