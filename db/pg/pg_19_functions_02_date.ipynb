{
 "cells": [
  {
   "cell_type": "code",
   "id": "initial_id",
   "metadata": {
    "collapsed": true,
    "ExecuteTime": {
     "end_time": "2024-05-06T23:55:39.201256Z",
     "start_time": "2024-05-06T23:55:38.833651Z"
    }
   },
   "source": [
    "from common import *\n",
    "\n",
    "cursor = connect()"
   ],
   "outputs": [],
   "execution_count": 1
  },
  {
   "metadata": {},
   "cell_type": "markdown",
   "source": "# Current date and time",
   "id": "f11ac58db79bcefc"
  },
  {
   "metadata": {},
   "cell_type": "markdown",
   "source": "### current date",
   "id": "50a5eea5950ab3a4"
  },
  {
   "metadata": {
    "ExecuteTime": {
     "end_time": "2024-05-06T23:42:46.597647Z",
     "start_time": "2024-05-06T23:42:46.593517Z"
    }
   },
   "cell_type": "code",
   "source": [
    "sql = \"\"\"\n",
    "SELECT CURRENT_DATE;\n",
    "\"\"\"\n",
    "run_sql(cursor, sql)"
   ],
   "id": "cc9d291e6861e8b1",
   "outputs": [
    {
     "name": "stdout",
     "output_type": "stream",
     "text": [
      "  current_date\n",
      "0   2024-05-07\n"
     ]
    }
   ],
   "execution_count": 5
  },
  {
   "metadata": {
    "ExecuteTime": {
     "end_time": "2024-05-06T23:43:04.332199Z",
     "start_time": "2024-05-06T23:43:04.324476Z"
    }
   },
   "cell_type": "code",
   "source": [
    "sql = \"\"\"\n",
    "SELECT \n",
    "  * \n",
    "FROM \n",
    "  rental \n",
    "WHERE \n",
    "  rental_date = CURRENT_DATE;\n",
    "\"\"\"\n",
    "run_sql(cursor, sql)"
   ],
   "id": "14a8b88fba81449",
   "outputs": [
    {
     "name": "stdout",
     "output_type": "stream",
     "text": [
      "Empty DataFrame\n",
      "Columns: [rental_id, rental_date, inventory_id, customer_id, return_date, staff_id, last_update]\n",
      "Index: []\n"
     ]
    }
   ],
   "execution_count": 6
  },
  {
   "metadata": {
    "ExecuteTime": {
     "end_time": "2024-05-06T23:44:00.624288Z",
     "start_time": "2024-05-06T23:44:00.515918Z"
    }
   },
   "cell_type": "code",
   "source": [
    "sql = \"\"\"\n",
    "CREATE TABLE employees (\n",
    "    id SERIAL PRIMARY KEY,\n",
    "    name VARCHAR(100) NOT NULL,\n",
    "    date_of_birth DATE NOT NULL\n",
    ");\n",
    "\n",
    "INSERT INTO employees (name, date_of_birth) \n",
    "VALUES\n",
    "    ('John Doe', '1992-05-15'),\n",
    "    ('Jane Smith', '1995-08-22'),\n",
    "    ('Bob Johnson', '1998-11-10')\n",
    "RETURNING *;\n",
    "\"\"\"\n",
    "cursor.execute(sql)"
   ],
   "id": "78d5e4a5d63ee769",
   "outputs": [
    {
     "ename": "ProgrammingError",
     "evalue": "the last operation didn't produce a result",
     "output_type": "error",
     "traceback": [
      "\u001B[1;31m---------------------------------------------------------------------------\u001B[0m",
      "\u001B[1;31mProgrammingError\u001B[0m                          Traceback (most recent call last)",
      "Cell \u001B[1;32mIn[7], line 15\u001B[0m\n\u001B[0;32m      1\u001B[0m sql \u001B[38;5;241m=\u001B[39m \u001B[38;5;124m\"\"\"\u001B[39m\n\u001B[0;32m      2\u001B[0m \u001B[38;5;124mCREATE TABLE employees (\u001B[39m\n\u001B[0;32m      3\u001B[0m \u001B[38;5;124m    id SERIAL PRIMARY KEY,\u001B[39m\n\u001B[1;32m   (...)\u001B[0m\n\u001B[0;32m     13\u001B[0m \u001B[38;5;124mRETURNING *;\u001B[39m\n\u001B[0;32m     14\u001B[0m \u001B[38;5;124m\"\"\"\u001B[39m\n\u001B[1;32m---> 15\u001B[0m \u001B[43mrun_sql\u001B[49m\u001B[43m(\u001B[49m\u001B[43mcursor\u001B[49m\u001B[43m,\u001B[49m\u001B[43m \u001B[49m\u001B[43msql\u001B[49m\u001B[43m)\u001B[49m\n",
      "File \u001B[1;32mE:\\sourcecode\\keep_learning\\common\\pg_common.py:30\u001B[0m, in \u001B[0;36mrun_sql\u001B[1;34m(cursor, sql_stat)\u001B[0m\n\u001B[0;32m     28\u001B[0m \u001B[38;5;28;01mdef\u001B[39;00m \u001B[38;5;21mrun_sql\u001B[39m(cursor, sql_stat):\n\u001B[0;32m     29\u001B[0m     cursor\u001B[38;5;241m.\u001B[39mexecute(sql_stat)\n\u001B[1;32m---> 30\u001B[0m     \u001B[43mdisplay_data\u001B[49m\u001B[43m(\u001B[49m\u001B[43mcursor\u001B[49m\u001B[43m)\u001B[49m\n",
      "File \u001B[1;32mE:\\sourcecode\\keep_learning\\common\\pg_common.py:39\u001B[0m, in \u001B[0;36mdisplay_data\u001B[1;34m(cursor)\u001B[0m\n\u001B[0;32m     38\u001B[0m \u001B[38;5;28;01mdef\u001B[39;00m \u001B[38;5;21mdisplay_data\u001B[39m(cursor):\n\u001B[1;32m---> 39\u001B[0m     data \u001B[38;5;241m=\u001B[39m \u001B[43mcursor\u001B[49m\u001B[38;5;241;43m.\u001B[39;49m\u001B[43mfetchall\u001B[49m\u001B[43m(\u001B[49m\u001B[43m)\u001B[49m\n\u001B[0;32m     40\u001B[0m     col_names \u001B[38;5;241m=\u001B[39m [desc[\u001B[38;5;241m0\u001B[39m] \u001B[38;5;28;01mfor\u001B[39;00m desc \u001B[38;5;129;01min\u001B[39;00m cursor\u001B[38;5;241m.\u001B[39mdescription]\n\u001B[0;32m     42\u001B[0m     df \u001B[38;5;241m=\u001B[39m pd\u001B[38;5;241m.\u001B[39mDataFrame(data, columns\u001B[38;5;241m=\u001B[39mcol_names)\n",
      "File \u001B[1;32mE:\\sourcecode\\keep_learning\\.venv\\Lib\\site-packages\\psycopg\\cursor.py:857\u001B[0m, in \u001B[0;36mCursor.fetchall\u001B[1;34m(self)\u001B[0m\n\u001B[0;32m    851\u001B[0m \u001B[38;5;250m\u001B[39m\u001B[38;5;124;03m\"\"\"\u001B[39;00m\n\u001B[0;32m    852\u001B[0m \u001B[38;5;124;03mReturn all the remaining records from the current recordset.\u001B[39;00m\n\u001B[0;32m    853\u001B[0m \n\u001B[0;32m    854\u001B[0m \u001B[38;5;124;03m:rtype: Sequence[Row], with Row defined by `row_factory`\u001B[39;00m\n\u001B[0;32m    855\u001B[0m \u001B[38;5;124;03m\"\"\"\u001B[39;00m\n\u001B[0;32m    856\u001B[0m \u001B[38;5;28mself\u001B[39m\u001B[38;5;241m.\u001B[39m_fetch_pipeline()\n\u001B[1;32m--> 857\u001B[0m \u001B[38;5;28;43mself\u001B[39;49m\u001B[38;5;241;43m.\u001B[39;49m\u001B[43m_check_result_for_fetch\u001B[49m\u001B[43m(\u001B[49m\u001B[43m)\u001B[49m\n\u001B[0;32m    858\u001B[0m \u001B[38;5;28;01massert\u001B[39;00m \u001B[38;5;28mself\u001B[39m\u001B[38;5;241m.\u001B[39mpgresult\n\u001B[0;32m    859\u001B[0m records \u001B[38;5;241m=\u001B[39m \u001B[38;5;28mself\u001B[39m\u001B[38;5;241m.\u001B[39m_tx\u001B[38;5;241m.\u001B[39mload_rows(\u001B[38;5;28mself\u001B[39m\u001B[38;5;241m.\u001B[39m_pos, \u001B[38;5;28mself\u001B[39m\u001B[38;5;241m.\u001B[39mpgresult\u001B[38;5;241m.\u001B[39mntuples, \u001B[38;5;28mself\u001B[39m\u001B[38;5;241m.\u001B[39m_make_row)\n",
      "File \u001B[1;32mE:\\sourcecode\\keep_learning\\.venv\\Lib\\site-packages\\psycopg\\cursor.py:621\u001B[0m, in \u001B[0;36mBaseCursor._check_result_for_fetch\u001B[1;34m(self)\u001B[0m\n\u001B[0;32m    619\u001B[0m     \u001B[38;5;28;01mraise\u001B[39;00m e\u001B[38;5;241m.\u001B[39mPipelineAborted(\u001B[38;5;124m\"\u001B[39m\u001B[38;5;124mpipeline aborted\u001B[39m\u001B[38;5;124m\"\u001B[39m)\n\u001B[0;32m    620\u001B[0m \u001B[38;5;28;01melse\u001B[39;00m:\n\u001B[1;32m--> 621\u001B[0m     \u001B[38;5;28;01mraise\u001B[39;00m e\u001B[38;5;241m.\u001B[39mProgrammingError(\u001B[38;5;124m\"\u001B[39m\u001B[38;5;124mthe last operation didn\u001B[39m\u001B[38;5;124m'\u001B[39m\u001B[38;5;124mt produce a result\u001B[39m\u001B[38;5;124m\"\u001B[39m)\n",
      "\u001B[1;31mProgrammingError\u001B[0m: the last operation didn't produce a result"
     ]
    }
   ],
   "execution_count": 7
  },
  {
   "metadata": {
    "ExecuteTime": {
     "end_time": "2024-05-06T23:44:35.038978Z",
     "start_time": "2024-05-06T23:44:35.034374Z"
    }
   },
   "cell_type": "code",
   "source": [
    "sql = \"\"\"\n",
    "SELECT \n",
    "  name, \n",
    "  date_of_birth, \n",
    "  CURRENT_DATE as today,\n",
    "  (CURRENT_DATE - date_of_birth) / 365 AS age \n",
    "FROM \n",
    "  employees \n",
    "ORDER BY \n",
    "  name;\n",
    "\"\"\"\n",
    "run_sql(cursor, sql)"
   ],
   "id": "4d97aea055e92801",
   "outputs": [
    {
     "name": "stdout",
     "output_type": "stream",
     "text": [
      "          name date_of_birth       today  age\n",
      "0  Bob Johnson    1998-11-10  2024-05-07   25\n",
      "1   Jane Smith    1995-08-22  2024-05-07   28\n",
      "2     John Doe    1992-05-15  2024-05-07   32\n"
     ]
    }
   ],
   "execution_count": 8
  },
  {
   "metadata": {
    "ExecuteTime": {
     "end_time": "2024-05-06T23:45:19.863096Z",
     "start_time": "2024-05-06T23:45:19.847993Z"
    }
   },
   "cell_type": "code",
   "source": [
    "sql = \"\"\"\n",
    "CREATE TABLE delivery(\n",
    "  delivery_id SERIAL PRIMARY KEY, \n",
    "  product VARCHAR(255) NOT NULL, \n",
    "  delivery_date DATE DEFAULT CURRENT_DATE\n",
    ");\n",
    "\n",
    "INSERT INTO delivery(product) \n",
    "VALUES \n",
    "  ('Sample screen protector');\n",
    "\"\"\"\n",
    "cursor.execute(sql)"
   ],
   "id": "a8dd41e591e4c5a1",
   "outputs": [
    {
     "data": {
      "text/plain": [
       "<psycopg.Cursor [COMMAND_OK] [INTRANS] (host=localhost port=15432 user=postgres database=dvdrental) at 0x19d1265eda0>"
      ]
     },
     "execution_count": 12,
     "metadata": {},
     "output_type": "execute_result"
    }
   ],
   "execution_count": 12
  },
  {
   "metadata": {
    "ExecuteTime": {
     "end_time": "2024-05-06T23:45:32.861286Z",
     "start_time": "2024-05-06T23:45:32.857606Z"
    }
   },
   "cell_type": "code",
   "source": [
    "sql = \"\"\"\n",
    "SELECT * FROM delivery;\n",
    "\"\"\"\n",
    "run_sql(cursor, sql)"
   ],
   "id": "25e9e50f253cc30c",
   "outputs": [
    {
     "name": "stdout",
     "output_type": "stream",
     "text": [
      "   delivery_id                  product delivery_date\n",
      "0            1  Sample screen protector    2024-05-07\n"
     ]
    }
   ],
   "execution_count": 13
  },
  {
   "metadata": {},
   "cell_type": "markdown",
   "source": "### current time",
   "id": "93b9588763eaa168"
  },
  {
   "metadata": {
    "ExecuteTime": {
     "end_time": "2024-05-06T23:47:18.168413Z",
     "start_time": "2024-05-06T23:47:18.162920Z"
    }
   },
   "cell_type": "code",
   "source": [
    "sql = \"\"\"\n",
    "SELECT CURRENT_TIME;\n",
    "\"\"\"\n",
    "run_sql(cursor, sql)"
   ],
   "id": "f0d05ffca832e7f1",
   "outputs": [
    {
     "name": "stdout",
     "output_type": "stream",
     "text": [
      "            current_time\n",
      "0  07:47:18.165315+08:00\n"
     ]
    }
   ],
   "execution_count": 18
  },
  {
   "metadata": {
    "ExecuteTime": {
     "end_time": "2024-05-06T23:47:28.595865Z",
     "start_time": "2024-05-06T23:47:28.592360Z"
    }
   },
   "cell_type": "code",
   "source": [
    "sql = \"\"\"\n",
    "SELECT CURRENT_TIME(2);\n",
    "\"\"\"\n",
    "run_sql(cursor, sql)"
   ],
   "id": "a20daaaaf11c9108",
   "outputs": [
    {
     "name": "stdout",
     "output_type": "stream",
     "text": [
      "            current_time\n",
      "0  07:47:18.170000+08:00\n"
     ]
    }
   ],
   "execution_count": 29
  },
  {
   "metadata": {
    "ExecuteTime": {
     "end_time": "2024-05-06T23:47:52.852353Z",
     "start_time": "2024-05-06T23:47:52.842916Z"
    }
   },
   "cell_type": "code",
   "source": [
    "sql = \"\"\"\n",
    "CREATE TABLE log (\n",
    "    id SERIAL PRIMARY KEY,\n",
    "    message VARCHAR(255) NOT NULL,\n",
    "    created_at TIME DEFAULT CURRENT_TIME,\n",
    "    created_on DATE DEFAULT CURRENT_DATE\n",
    ");\n",
    "\n",
    "INSERT INTO log( message )\n",
    "VALUES('Testing the CURRENT_TIME function');\n",
    "\"\"\"\n",
    "cursor.execute(sql)"
   ],
   "id": "6791ec8812c18d9d",
   "outputs": [
    {
     "data": {
      "text/plain": [
       "<psycopg.Cursor [COMMAND_OK] [INTRANS] (host=localhost port=15432 user=postgres database=dvdrental) at 0x19d1265f060>"
      ]
     },
     "execution_count": 30,
     "metadata": {},
     "output_type": "execute_result"
    }
   ],
   "execution_count": 30
  },
  {
   "metadata": {
    "ExecuteTime": {
     "end_time": "2024-05-06T23:48:04.205932Z",
     "start_time": "2024-05-06T23:48:04.202341Z"
    }
   },
   "cell_type": "code",
   "source": [
    "sql = \"\"\"\n",
    "SELECT * FROM log;\n",
    "\"\"\"\n",
    "run_sql(cursor, sql)"
   ],
   "id": "a596f0d82aa361aa",
   "outputs": [
    {
     "name": "stdout",
     "output_type": "stream",
     "text": [
      "   id                            message       created_at  created_on\n",
      "0   1  Testing the CURRENT_TIME function  07:47:18.165315  2024-05-07\n"
     ]
    }
   ],
   "execution_count": 31
  },
  {
   "metadata": {},
   "cell_type": "markdown",
   "source": "### current timestamp",
   "id": "2b2b8080db17746e"
  },
  {
   "metadata": {
    "ExecuteTime": {
     "end_time": "2024-05-06T23:48:28.962139Z",
     "start_time": "2024-05-06T23:48:28.954579Z"
    }
   },
   "cell_type": "code",
   "source": [
    "sql = \"\"\"\n",
    "SELECT CURRENT_TIMESTAMP;\n",
    "\"\"\"\n",
    "run_sql(cursor, sql)"
   ],
   "id": "f8fb08f351b47",
   "outputs": [
    {
     "name": "stdout",
     "output_type": "stream",
     "text": [
      "                 current_timestamp\n",
      "0 2024-05-07 07:47:18.165315+08:00\n"
     ]
    }
   ],
   "execution_count": 32
  },
  {
   "metadata": {
    "ExecuteTime": {
     "end_time": "2024-05-06T23:48:54.939272Z",
     "start_time": "2024-05-06T23:48:54.931669Z"
    }
   },
   "cell_type": "code",
   "source": [
    "sql = \"\"\"\n",
    "CREATE TABLE note (\n",
    "    id SERIAL PRIMARY KEY,\n",
    "    message VARCHAR(255) NOT NULL,\n",
    "    created_at TIMESTAMP WITH TIME ZONE DEFAULT CURRENT_TIMESTAMP\n",
    ");\n",
    "\n",
    "INSERT INTO note(message) \n",
    "VALUES('Testing current_timestamp function');\n",
    "\"\"\"\n",
    "cursor.execute(sql)"
   ],
   "id": "b6b1b6fa7519f7c0",
   "outputs": [
    {
     "data": {
      "text/plain": [
       "<psycopg.Cursor [COMMAND_OK] [INTRANS] (host=localhost port=15432 user=postgres database=dvdrental) at 0x19d1265f060>"
      ]
     },
     "execution_count": 33,
     "metadata": {},
     "output_type": "execute_result"
    }
   ],
   "execution_count": 33
  },
  {
   "metadata": {
    "ExecuteTime": {
     "end_time": "2024-05-06T23:49:03.788240Z",
     "start_time": "2024-05-06T23:49:03.784608Z"
    }
   },
   "cell_type": "code",
   "source": [
    "sql = \"\"\"\n",
    "SELECT * FROM note;\n",
    "\"\"\"\n",
    "run_sql(cursor, sql)"
   ],
   "id": "59014407ca60ac3c",
   "outputs": [
    {
     "name": "stdout",
     "output_type": "stream",
     "text": [
      "   id                             message                       created_at\n",
      "0   1  Testing current_timestamp function 2024-05-07 07:47:18.165315+08:00\n"
     ]
    }
   ],
   "execution_count": 34
  },
  {
   "metadata": {},
   "cell_type": "markdown",
   "source": [
    "### clock timestamp\n",
    "\n",
    "returns the current date and time with a timezone."
   ],
   "id": "8aeb65350c1d16c2"
  },
  {
   "metadata": {
    "ExecuteTime": {
     "end_time": "2024-05-06T23:50:02.471812Z",
     "start_time": "2024-05-06T23:50:02.465618Z"
    }
   },
   "cell_type": "code",
   "source": [
    "sql = \"\"\"\n",
    "SELECT CLOCK_TIMESTAMP();\n",
    "\"\"\"\n",
    "run_sql(cursor, sql)"
   ],
   "id": "2e87531a777bafd1",
   "outputs": [
    {
     "name": "stdout",
     "output_type": "stream",
     "text": [
      "                   clock_timestamp\n",
      "0 2024-05-07 07:50:02.469037+08:00\n"
     ]
    }
   ],
   "execution_count": 35
  },
  {
   "metadata": {
    "ExecuteTime": {
     "end_time": "2024-05-06T23:50:27.344698Z",
     "start_time": "2024-05-06T23:50:21.312384Z"
    }
   },
   "cell_type": "code",
   "source": [
    "sql = \"\"\"\n",
    "SELECT \n",
    "  clock_timestamp(),\n",
    "  pg_sleep(3),\n",
    "  clock_timestamp(),\n",
    "  pg_sleep(3),\n",
    "  clock_timestamp();\n",
    "\"\"\"\n",
    "run_sql(cursor, sql)"
   ],
   "id": "a5ececb055a5e9f0",
   "outputs": [
    {
     "name": "stdout",
     "output_type": "stream",
     "text": [
      "                   clock_timestamp pg_sleep                  clock_timestamp  \\\n",
      "0 2024-05-07 07:50:21.314437+08:00          2024-05-07 07:50:24.326485+08:00   \n",
      "\n",
      "  pg_sleep                  clock_timestamp  \n",
      "0          2024-05-07 07:50:27.329567+08:00  \n"
     ]
    }
   ],
   "execution_count": 36
  },
  {
   "metadata": {
    "ExecuteTime": {
     "end_time": "2024-05-06T23:51:20.114643Z",
     "start_time": "2024-05-06T23:51:20.106891Z"
    }
   },
   "cell_type": "code",
   "source": [
    "sql = \"\"\"\n",
    "CREATE OR REPLACE FUNCTION time_it(\n",
    "    p_statement TEXT\n",
    ") RETURNS NUMERIC AS $$\n",
    "DECLARE\n",
    "    start_time TIMESTAMP WITH TIME ZONE;\n",
    "    end_time TIMESTAMP WITH TIME ZONE;\n",
    "    execution_time NUMERIC; -- ms\n",
    "BEGIN\n",
    "    -- Capture start time\n",
    "    start_time := CLOCK_TIMESTAMP();\n",
    "\n",
    "    -- Execute the statement\n",
    "    EXECUTE p_statement;\n",
    "\n",
    "    -- Capture end time\n",
    "    end_time := CLOCK_TIMESTAMP();\n",
    "\n",
    "    -- Calculate execution time in milliseconds\n",
    "    execution_time := EXTRACT(EPOCH FROM end_time - start_time) * 1000;\n",
    "\n",
    "    RETURN execution_time;\n",
    "END;\n",
    "$$ LANGUAGE plpgsql;\n",
    "\"\"\"\n",
    "cursor.execute(sql)"
   ],
   "id": "22a737f3c0d91aa3",
   "outputs": [
    {
     "data": {
      "text/plain": [
       "<psycopg.Cursor [COMMAND_OK] [INTRANS] (host=localhost port=15432 user=postgres database=dvdrental) at 0x19d1265f060>"
      ]
     },
     "execution_count": 37,
     "metadata": {},
     "output_type": "execute_result"
    }
   ],
   "execution_count": 37
  },
  {
   "metadata": {
    "ExecuteTime": {
     "end_time": "2024-05-06T23:51:25.174007Z",
     "start_time": "2024-05-06T23:51:22.138945Z"
    }
   },
   "cell_type": "code",
   "source": [
    "sql = \"\"\"\n",
    "SELECT time_it('SELECT pg_sleep(3)');\n",
    "\"\"\"\n",
    "run_sql(cursor, sql)"
   ],
   "id": "dad815a4acb3d8c4",
   "outputs": [
    {
     "name": "stdout",
     "output_type": "stream",
     "text": [
      "       time_it\n",
      "0  3014.853000\n"
     ]
    }
   ],
   "execution_count": 38
  },
  {
   "metadata": {},
   "cell_type": "markdown",
   "source": [
    "### statement timestamp\n",
    "\n",
    "returns the start time of the current statement."
   ],
   "id": "a3723e26dba55797"
  },
  {
   "metadata": {
    "ExecuteTime": {
     "end_time": "2024-05-06T23:51:56.828242Z",
     "start_time": "2024-05-06T23:51:56.824639Z"
    }
   },
   "cell_type": "code",
   "source": [
    "sql = \"\"\"\n",
    "SELECT STATEMENT_TIMESTAMP();\n",
    "\"\"\"\n",
    "run_sql(cursor, sql)"
   ],
   "id": "aabd95154ec10da9",
   "outputs": [
    {
     "name": "stdout",
     "output_type": "stream",
     "text": [
      "               statement_timestamp\n",
      "0 2024-05-07 07:51:56.826056+08:00\n"
     ]
    }
   ],
   "execution_count": 39
  },
  {
   "metadata": {
    "ExecuteTime": {
     "end_time": "2024-05-06T23:56:57.943423Z",
     "start_time": "2024-05-06T23:56:51.922317Z"
    }
   },
   "cell_type": "code",
   "source": [
    "sql = \"\"\"\n",
    "-- create a new table for logging\n",
    "CREATE TABLE IF NOT EXISTS logs(\n",
    "   id SERIAL PRIMARY KEY,\n",
    "   started_at TIMESTAMP WITH TIME ZONE\n",
    ");\n",
    "\n",
    "-- start a transaction\n",
    "BEGIN;\n",
    "INSERT INTO logs(started_at) VALUES(statement_timestamp());\n",
    "SELECT pg_sleep(3);\n",
    "\n",
    "INSERT INTO logs(started_at) VALUES(statement_timestamp());\n",
    "SELECT pg_sleep(3);\n",
    "\n",
    "INSERT INTO logs(started_at) VALUES(statement_timestamp());\n",
    "END;\n",
    "\"\"\"\n",
    "cursor.execute(sql)"
   ],
   "id": "cb5efb3af2fa873b",
   "outputs": [
    {
     "name": "stdout",
     "output_type": "stream",
     "text": [
      "关系 \"logs\" 已经存在, 跳过\n",
      "已经有一个事物在运行中\n"
     ]
    },
    {
     "data": {
      "text/plain": [
       "<psycopg.Cursor [COMMAND_OK] [IDLE] (host=localhost port=15432 user=postgres database=dvdrental) at 0x21faf675850>"
      ]
     },
     "execution_count": 4,
     "metadata": {},
     "output_type": "execute_result"
    }
   ],
   "execution_count": 4
  },
  {
   "metadata": {
    "ExecuteTime": {
     "end_time": "2024-05-06T23:57:00.591198Z",
     "start_time": "2024-05-06T23:57:00.586796Z"
    }
   },
   "cell_type": "code",
   "source": [
    "sql = \"\"\"\n",
    "-- retrieve data from the logs table\n",
    "SELECT * FROM logs;\n",
    "\"\"\"\n",
    "run_sql(cursor, sql)"
   ],
   "id": "732a6804fa1d8d96",
   "outputs": [
    {
     "name": "stdout",
     "output_type": "stream",
     "text": [
      "   id                       started_at\n",
      "0   1 2024-05-07 07:53:09.627680+08:00\n",
      "1   2 2024-05-07 07:53:09.627680+08:00\n",
      "2   3 2024-05-07 07:53:09.627680+08:00\n",
      "3   4 2024-05-07 07:55:45.613073+08:00\n",
      "4   5 2024-05-07 07:55:45.613073+08:00\n",
      "5   6 2024-05-07 07:55:45.613073+08:00\n",
      "6   7 2024-05-07 07:56:51.923435+08:00\n",
      "7   8 2024-05-07 07:56:51.923435+08:00\n",
      "8   9 2024-05-07 07:56:51.923435+08:00\n"
     ]
    }
   ],
   "execution_count": 5
  },
  {
   "metadata": {
    "ExecuteTime": {
     "end_time": "2024-05-06T23:57:35.251608Z",
     "start_time": "2024-05-06T23:57:29.232961Z"
    }
   },
   "cell_type": "code",
   "source": [
    "sql = \"\"\"\n",
    "SELECT\n",
    "  statement_timestamp(), \n",
    "  pg_sleep(3), \n",
    "  statement_timestamp(), \n",
    "  pg_sleep(3), \n",
    "  statement_timestamp();\n",
    "\"\"\"\n",
    "run_sql(cursor, sql)"
   ],
   "id": "b7beb11dd33f7c3b",
   "outputs": [
    {
     "name": "stdout",
     "output_type": "stream",
     "text": [
      "               statement_timestamp pg_sleep              statement_timestamp  \\\n",
      "0 2024-05-07 07:57:29.234642+08:00          2024-05-07 07:57:29.234642+08:00   \n",
      "\n",
      "  pg_sleep              statement_timestamp  \n",
      "0          2024-05-07 07:57:29.234642+08:00  \n"
     ]
    }
   ],
   "execution_count": 6
  },
  {
   "metadata": {},
   "cell_type": "markdown",
   "source": [
    "### now\n",
    "\n",
    "returns the current date and time with the time zone of the database server.\n",
    "请注意，NOW() 及其相关函数返回的是当前事务的开始时间。换句话说，在一个事务中，函数调用的返回值是相同的。"
   ],
   "id": "e57c00714a75dc3b"
  },
  {
   "metadata": {
    "ExecuteTime": {
     "end_time": "2024-05-06T23:58:06.730693Z",
     "start_time": "2024-05-06T23:58:06.725880Z"
    }
   },
   "cell_type": "code",
   "source": [
    "sql = \"\"\"\n",
    "SELECT NOW();\n",
    "\"\"\"\n",
    "run_sql(cursor, sql)"
   ],
   "id": "c1422c1782d6651b",
   "outputs": [
    {
     "name": "stdout",
     "output_type": "stream",
     "text": [
      "                               now\n",
      "0 2024-05-07 07:57:00.588662+08:00\n"
     ]
    }
   ],
   "execution_count": 8
  },
  {
   "metadata": {
    "ExecuteTime": {
     "end_time": "2024-05-06T23:59:03.579958Z",
     "start_time": "2024-05-06T23:59:03.575532Z"
    }
   },
   "cell_type": "code",
   "source": [
    "sql = \"\"\"\n",
    "SET TIMEZONE='Africa/Cairo';\n",
    "\"\"\"\n",
    "cursor.execute(sql)"
   ],
   "id": "80a93e0266ab4e3e",
   "outputs": [
    {
     "data": {
      "text/plain": [
       "<psycopg.Cursor [COMMAND_OK] [INTRANS] (host=localhost port=15432 user=postgres database=dvdrental) at 0x21faf675850>"
      ]
     },
     "execution_count": 10,
     "metadata": {},
     "output_type": "execute_result"
    }
   ],
   "execution_count": 10
  },
  {
   "metadata": {
    "ExecuteTime": {
     "end_time": "2024-05-06T23:59:05.193587Z",
     "start_time": "2024-05-06T23:59:05.187492Z"
    }
   },
   "cell_type": "code",
   "source": [
    "sql = \"\"\"\n",
    "SELECT NOW();\n",
    "\"\"\"\n",
    "run_sql(cursor, sql)"
   ],
   "id": "ab02d505b2808a6e",
   "outputs": [
    {
     "name": "stdout",
     "output_type": "stream",
     "text": [
      "                               now\n",
      "0 2024-05-07 02:57:00.588662+03:00\n"
     ]
    }
   ],
   "execution_count": 11
  },
  {
   "metadata": {
    "ExecuteTime": {
     "end_time": "2024-05-06T23:59:23.597423Z",
     "start_time": "2024-05-06T23:59:23.466869Z"
    }
   },
   "cell_type": "code",
   "source": [
    "sql = \"\"\"\n",
    "SELECT * FROM pg_timezone_names;\n",
    "\"\"\"\n",
    "run_sql(cursor, sql)"
   ],
   "id": "a7ec9279dca42229",
   "outputs": [
    {
     "name": "stdout",
     "output_type": "stream",
     "text": [
      "                   name abbrev        utc_offset  is_dst\n",
      "0        Africa/Abidjan    GMT   0 days 00:00:00   False\n",
      "1          Africa/Accra    GMT   0 days 00:00:00   False\n",
      "2    Africa/Addis_Ababa    EAT   0 days 03:00:00   False\n",
      "3        Africa/Algiers    CET   0 days 01:00:00   False\n",
      "4         Africa/Asmara    EAT   0 days 03:00:00   False\n",
      "..                  ...    ...               ...     ...\n",
      "592            US/Samoa    SST -1 days +13:00:00   False\n",
      "593                 UTC    UTC   0 days 00:00:00   False\n",
      "594                W-SU    MSK   0 days 03:00:00   False\n",
      "595                 WET   WEST   0 days 01:00:00    True\n",
      "596                Zulu    UTC   0 days 00:00:00   False\n",
      "\n",
      "[597 rows x 4 columns]\n"
     ]
    }
   ],
   "execution_count": 12
  },
  {
   "metadata": {
    "ExecuteTime": {
     "end_time": "2024-05-07T00:00:00.528774Z",
     "start_time": "2024-05-07T00:00:00.525251Z"
    }
   },
   "cell_type": "code",
   "source": [
    "sql = \"\"\"\n",
    "SELECT NOW()::timestamp;\n",
    "\"\"\"\n",
    "run_sql(cursor, sql)"
   ],
   "id": "acb7fd40779090b3",
   "outputs": [
    {
     "name": "stdout",
     "output_type": "stream",
     "text": [
      "                         now\n",
      "0 2024-05-07 02:57:00.588662\n"
     ]
    }
   ],
   "execution_count": 13
  },
  {
   "metadata": {
    "ExecuteTime": {
     "end_time": "2024-05-07T00:00:32.608039Z",
     "start_time": "2024-05-07T00:00:32.604742Z"
    }
   },
   "cell_type": "code",
   "source": [
    "sql = \"\"\"\n",
    "SELECT (NOW() + interval '1 day') AS this_time_tomorrow;\n",
    "\"\"\"\n",
    "run_sql(cursor, sql)"
   ],
   "id": "a789a3644db5ddae",
   "outputs": [
    {
     "name": "stdout",
     "output_type": "stream",
     "text": [
      "                this_time_tomorrow\n",
      "0 2024-05-08 02:57:00.588662+03:00\n"
     ]
    }
   ],
   "execution_count": 14
  },
  {
   "metadata": {
    "ExecuteTime": {
     "end_time": "2024-05-07T00:00:53.069587Z",
     "start_time": "2024-05-07T00:00:53.066018Z"
    }
   },
   "cell_type": "code",
   "source": [
    "sql = \"\"\"\n",
    "SELECT now() - interval '2 hours 30 minutes' AS two_hour_30_min_go;\n",
    "\"\"\"\n",
    "run_sql(cursor, sql)"
   ],
   "id": "f20de94e15b88c20",
   "outputs": [
    {
     "name": "stdout",
     "output_type": "stream",
     "text": [
      "                two_hour_30_min_go\n",
      "0 2024-05-07 00:27:00.588662+03:00\n"
     ]
    }
   ],
   "execution_count": 15
  },
  {
   "metadata": {
    "ExecuteTime": {
     "end_time": "2024-05-07T00:01:23.125717Z",
     "start_time": "2024-05-07T00:01:23.122502Z"
    }
   },
   "cell_type": "code",
   "source": [
    "sql = \"\"\"\n",
    "SELECT LOCALTIME, LOCALTIMESTAMP;\n",
    "\"\"\"\n",
    "run_sql(cursor, sql)"
   ],
   "id": "c944bed45fb6c2d2",
   "outputs": [
    {
     "name": "stdout",
     "output_type": "stream",
     "text": [
      "         localtime             localtimestamp\n",
      "0  02:57:00.588662 2024-05-07 02:57:00.588662\n"
     ]
    }
   ],
   "execution_count": 16
  },
  {
   "metadata": {
    "ExecuteTime": {
     "end_time": "2024-05-07T00:03:01.802316Z",
     "start_time": "2024-05-07T00:02:56.784923Z"
    }
   },
   "cell_type": "code",
   "source": [
    "sql = \"\"\"\n",
    "SELECT \n",
    "    TIMEOFDAY(), \n",
    "    pg_sleep(5), \n",
    "    TIMEOFDAY();\n",
    "\"\"\"\n",
    "run_sql(cursor, sql)"
   ],
   "id": "e51d5c5c780daf31",
   "outputs": [
    {
     "name": "stdout",
     "output_type": "stream",
     "text": [
      "                              timeofday pg_sleep  \\\n",
      "0  Tue May 07 03:02:56.786439 2024 EEST            \n",
      "\n",
      "                              timeofday  \n",
      "0  Tue May 07 03:03:01.800025 2024 EEST  \n"
     ]
    }
   ],
   "execution_count": 17
  },
  {
   "metadata": {},
   "cell_type": "markdown",
   "source": [
    "### localtime and localtimestamp\n",
    "\n",
    "returns the current time at which the current transaction starts."
   ],
   "id": "5215cbea04495ec3"
  },
  {
   "metadata": {
    "ExecuteTime": {
     "end_time": "2024-05-07T00:04:08.680653Z",
     "start_time": "2024-05-07T00:04:08.677103Z"
    }
   },
   "cell_type": "code",
   "source": [
    "sql = \"\"\"\n",
    "SELECT LOCALTIME;\n",
    "\"\"\"\n",
    "run_sql(cursor, sql)"
   ],
   "id": "cd1bc30f127f6cf6",
   "outputs": [
    {
     "name": "stdout",
     "output_type": "stream",
     "text": [
      "         localtime\n",
      "0  02:57:00.588662\n"
     ]
    }
   ],
   "execution_count": 18
  },
  {
   "metadata": {
    "ExecuteTime": {
     "end_time": "2024-05-07T00:04:45.904214Z",
     "start_time": "2024-05-07T00:04:45.900564Z"
    }
   },
   "cell_type": "code",
   "source": [
    "sql = \"\"\"\n",
    "SELECT LOCALTIME(2);\n",
    "\"\"\"\n",
    "run_sql(cursor, sql)"
   ],
   "id": "81a518a26bc58dd6",
   "outputs": [
    {
     "name": "stdout",
     "output_type": "stream",
     "text": [
      "         localtime\n",
      "0  02:57:00.590000\n"
     ]
    }
   ],
   "execution_count": 19
  },
  {
   "metadata": {
    "ExecuteTime": {
     "end_time": "2024-05-07T00:05:21.293501Z",
     "start_time": "2024-05-07T00:05:21.289911Z"
    }
   },
   "cell_type": "code",
   "source": [
    "sql = \"\"\"\n",
    "SELECT LOCALTIMESTAMP;\n",
    "\"\"\"\n",
    "run_sql(cursor, sql)"
   ],
   "id": "87fff2f2dbeea34d",
   "outputs": [
    {
     "name": "stdout",
     "output_type": "stream",
     "text": [
      "              localtimestamp\n",
      "0 2024-05-07 02:57:00.588662\n"
     ]
    }
   ],
   "execution_count": 21
  },
  {
   "metadata": {
    "ExecuteTime": {
     "end_time": "2024-05-07T00:05:42.733643Z",
     "start_time": "2024-05-07T00:05:42.729863Z"
    }
   },
   "cell_type": "code",
   "source": [
    "sql = \"\"\"\n",
    "SELECT LOCALTIMESTAMP(2);\n",
    "\"\"\"\n",
    "run_sql(cursor, sql)"
   ],
   "id": "4e6cd6aebaa543fb",
   "outputs": [
    {
     "name": "stdout",
     "output_type": "stream",
     "text": [
      "           localtimestamp\n",
      "0 2024-05-07 02:57:00.590\n"
     ]
    }
   ],
   "execution_count": 24
  },
  {
   "metadata": {},
   "cell_type": "markdown",
   "source": "## Extracting date and time components",
   "id": "38a9193005e640df"
  },
  {
   "metadata": {},
   "cell_type": "markdown",
   "source": [
    "### date part\n",
    "\n",
    "从日期或时间值中检索年、月、周等子字段。"
   ],
   "id": "cdbe983c49075730"
  },
  {
   "metadata": {
    "ExecuteTime": {
     "end_time": "2024-05-07T00:26:54.084977Z",
     "start_time": "2024-05-07T00:26:54.080743Z"
    }
   },
   "cell_type": "code",
   "source": [
    "sql = \"\"\"\n",
    "SELECT date_part('century',TIMESTAMP '2017-01-01');\n",
    "\"\"\"\n",
    "run_sql(cursor, sql)"
   ],
   "id": "9b171ebcbd7566f9",
   "outputs": [
    {
     "name": "stdout",
     "output_type": "stream",
     "text": [
      "   date_part\n",
      "0       21.0\n"
     ]
    }
   ],
   "execution_count": 25
  },
  {
   "metadata": {
    "ExecuteTime": {
     "end_time": "2024-05-07T00:27:11.277960Z",
     "start_time": "2024-05-07T00:27:11.274627Z"
    }
   },
   "cell_type": "code",
   "source": [
    "sql = \"\"\"\n",
    "SELECT date_part('year',TIMESTAMP '2017-01-01');\n",
    "\"\"\"\n",
    "run_sql(cursor, sql)"
   ],
   "id": "6d1a10b2b91cee56",
   "outputs": [
    {
     "name": "stdout",
     "output_type": "stream",
     "text": [
      "   date_part\n",
      "0     2017.0\n"
     ]
    }
   ],
   "execution_count": 26
  },
  {
   "metadata": {
    "ExecuteTime": {
     "end_time": "2024-05-07T00:27:51.943166Z",
     "start_time": "2024-05-07T00:27:51.939767Z"
    }
   },
   "cell_type": "code",
   "source": [
    "sql = \"\"\"\n",
    "SELECT date_part('quarter',TIMESTAMP '2017-01-01');\n",
    "\"\"\"\n",
    "run_sql(cursor, sql)"
   ],
   "id": "8affaacc17f64a27",
   "outputs": [
    {
     "name": "stdout",
     "output_type": "stream",
     "text": [
      "   date_part\n",
      "0        1.0\n"
     ]
    }
   ],
   "execution_count": 27
  },
  {
   "metadata": {
    "ExecuteTime": {
     "end_time": "2024-05-07T00:29:13.777519Z",
     "start_time": "2024-05-07T00:29:13.773578Z"
    }
   },
   "cell_type": "code",
   "source": [
    "sql = \"\"\"\n",
    "SELECT date_part('hour',TIMESTAMP '2017-03-18 10:20:30') h,\n",
    "       date_part('minute',TIMESTAMP '2017-03-18 10:20:30') m,\n",
    "       date_part('second',TIMESTAMP '2017-03-18 10:20:30') s;\n",
    "\"\"\"\n",
    "run_sql(cursor, sql)"
   ],
   "id": "bf8065702245c190",
   "outputs": [
    {
     "name": "stdout",
     "output_type": "stream",
     "text": [
      "      h     m     s\n",
      "0  10.0  20.0  30.0\n"
     ]
    }
   ],
   "execution_count": 28
  },
  {
   "metadata": {},
   "cell_type": "markdown",
   "source": [
    "### extract\n",
    "\n",
    "目的和 `date_part` 一样，语法不同。"
   ],
   "id": "cc12c8e5c2e4345b"
  },
  {
   "metadata": {
    "ExecuteTime": {
     "end_time": "2024-05-07T00:32:49.837544Z",
     "start_time": "2024-05-07T00:32:49.834198Z"
    }
   },
   "cell_type": "code",
   "source": [
    "sql = \"\"\"\n",
    "SELECT EXTRACT(YEAR FROM TIMESTAMP '2016-12-31 13:30:15') y;\n",
    "\"\"\"\n",
    "run_sql(cursor, sql)"
   ],
   "id": "87eb7ae89f93fe11",
   "outputs": [
    {
     "name": "stdout",
     "output_type": "stream",
     "text": [
      "      y\n",
      "0  2016\n"
     ]
    }
   ],
   "execution_count": 29
  },
  {
   "metadata": {},
   "cell_type": "markdown",
   "source": "## Converting to date and time",
   "id": "5c2bb7f9d6fd0e84"
  },
  {
   "metadata": {},
   "cell_type": "markdown",
   "source": "## Handling intervals",
   "id": "3ec548977dc4f12e"
  },
  {
   "metadata": {},
   "cell_type": "markdown",
   "source": "## Operators",
   "id": "eee0c9b966ec39db"
  },
  {
   "metadata": {},
   "cell_type": "markdown",
   "source": "## Utility functions",
   "id": "767890f6e87c6e52"
  }
 ],
 "metadata": {
  "kernelspec": {
   "display_name": "Python 3",
   "language": "python",
   "name": "python3"
  },
  "language_info": {
   "codemirror_mode": {
    "name": "ipython",
    "version": 2
   },
   "file_extension": ".py",
   "mimetype": "text/x-python",
   "name": "python",
   "nbconvert_exporter": "python",
   "pygments_lexer": "ipython2",
   "version": "2.7.6"
  }
 },
 "nbformat": 4,
 "nbformat_minor": 5
}
