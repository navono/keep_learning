{
 "cells": [
  {
   "cell_type": "markdown",
   "source": [
    "`GROUPING SETS` 子句在查询中生成多个分组集。"
   ],
   "metadata": {
    "collapsed": false
   },
   "id": "76dc0502aced7af"
  },
  {
   "cell_type": "code",
   "execution_count": 1,
   "id": "initial_id",
   "metadata": {
    "collapsed": true,
    "ExecuteTime": {
     "end_time": "2024-01-25T01:22:50.977430100Z",
     "start_time": "2024-01-25T01:22:50.548756Z"
    }
   },
   "outputs": [
    {
     "name": "stdout",
     "output_type": "stream",
     "text": [
      "importing Jupyter notebook from E:\\sourcecode\\keep_learning\\db\\pg\\pg_00_common.ipynb\n"
     ]
    }
   ],
   "source": [
    "import common.ipynb_importer\n",
    "from db.pg.pg_00_common import *\n",
    "\n",
    "cursor = pg_connect()"
   ]
  },
  {
   "cell_type": "code",
   "outputs": [
    {
     "data": {
      "text/plain": "<psycopg.Cursor [COMMAND_OK] [INTRANS] (host=localhost user=postgres database=dvdrental) at 0x2c1ed321a60>"
     },
     "execution_count": 3,
     "metadata": {},
     "output_type": "execute_result"
    }
   ],
   "source": [
    "sql = \"\"\"\n",
    "DROP TABLE IF EXISTS sales;\n",
    "\n",
    "CREATE TABLE sales (\n",
    "    brand VARCHAR NOT NULL,\n",
    "    segment VARCHAR NOT NULL,\n",
    "    quantity INT NOT NULL,\n",
    "    PRIMARY KEY (brand, segment)\n",
    ");\n",
    "\n",
    "INSERT INTO sales (brand, segment, quantity)\n",
    "VALUES\n",
    "    ('ABC', 'Premium', 100),\n",
    "    ('ABC', 'Basic', 200),\n",
    "    ('XYZ', 'Premium', 100),\n",
    "    ('XYZ', 'Basic', 300);\n",
    "\"\"\"\n",
    "\n",
    "cursor.execute(sql)"
   ],
   "metadata": {
    "collapsed": false,
    "ExecuteTime": {
     "end_time": "2024-01-25T01:23:01.832436900Z",
     "start_time": "2024-01-25T01:23:01.807732700Z"
    }
   },
   "id": "238864f9cd85f5dd",
   "execution_count": 3
  },
  {
   "cell_type": "code",
   "outputs": [
    {
     "name": "stdout",
     "output_type": "stream",
     "text": [
      "  brand  segment  quantity\n",
      "0   ABC  Premium       100\n",
      "1   ABC    Basic       200\n",
      "2   XYZ  Premium       100\n",
      "3   XYZ    Basic       300\n"
     ]
    }
   ],
   "source": [
    "sql = \"\"\"\n",
    "SELECT * FROM sales\n",
    "\"\"\"\n",
    "\n",
    "run_sql(cursor, sql)"
   ],
   "metadata": {
    "collapsed": false,
    "ExecuteTime": {
     "end_time": "2024-01-25T01:23:39.244022800Z",
     "start_time": "2024-01-25T01:23:39.235791700Z"
    }
   },
   "id": "a9c27457e6c15a78",
   "execution_count": 4
  },
  {
   "cell_type": "code",
   "outputs": [
    {
     "name": "stdout",
     "output_type": "stream",
     "text": [
      "  brand  segment  sum\n",
      "0   XYZ    Basic  300\n",
      "1   ABC  Premium  100\n",
      "2   ABC    Basic  200\n",
      "3   XYZ  Premium  100\n"
     ]
    }
   ],
   "source": [
    "sql = \"\"\"\n",
    "SELECT\n",
    "    brand,\n",
    "    segment,\n",
    "    SUM (quantity)\n",
    "FROM\n",
    "    sales\n",
    "GROUP BY\n",
    "    brand,\n",
    "    segment;\n",
    "\"\"\"\n",
    "\n",
    "run_sql(cursor, sql)"
   ],
   "metadata": {
    "collapsed": false,
    "ExecuteTime": {
     "end_time": "2024-01-25T01:24:54.497704400Z",
     "start_time": "2024-01-25T01:24:54.471704Z"
    }
   },
   "id": "15c39306054f45ae",
   "execution_count": 5
  },
  {
   "cell_type": "code",
   "outputs": [
    {
     "name": "stdout",
     "output_type": "stream",
     "text": [
      "  brand  sum\n",
      "0   ABC  300\n",
      "1   XYZ  400\n"
     ]
    }
   ],
   "source": [
    "sql = \"\"\"\n",
    "SELECT\n",
    "    brand,\n",
    "    SUM (quantity)\n",
    "FROM\n",
    "    sales\n",
    "GROUP BY\n",
    "    brand;\n",
    "\"\"\"\n",
    "\n",
    "run_sql(cursor, sql)"
   ],
   "metadata": {
    "collapsed": false,
    "ExecuteTime": {
     "end_time": "2024-01-25T01:25:51.129089300Z",
     "start_time": "2024-01-25T01:25:51.122089600Z"
    }
   },
   "id": "5f5010bb50969e84",
   "execution_count": 6
  },
  {
   "cell_type": "code",
   "outputs": [
    {
     "name": "stdout",
     "output_type": "stream",
     "text": [
      "  brand  segment  sum\n",
      "0   XYZ    Basic  300\n",
      "1   ABC  Premium  100\n",
      "2   ABC    Basic  200\n",
      "3   XYZ  Premium  100\n",
      "4   ABC     None  300\n",
      "5   XYZ     None  400\n",
      "6  None    Basic  500\n",
      "7  None  Premium  200\n",
      "8  None     None  700\n"
     ]
    }
   ],
   "source": [
    "sql = \"\"\"\n",
    "SELECT\n",
    "    brand,\n",
    "    segment,\n",
    "    SUM (quantity)\n",
    "FROM\n",
    "    sales\n",
    "GROUP BY\n",
    "    brand,\n",
    "    segment\n",
    "\n",
    "UNION ALL\n",
    "\n",
    "SELECT\n",
    "    brand,\n",
    "    NULL,\n",
    "    SUM (quantity)\n",
    "FROM\n",
    "    sales\n",
    "GROUP BY\n",
    "    brand\n",
    "\n",
    "UNION ALL\n",
    "\n",
    "SELECT\n",
    "    NULL,\n",
    "    segment,\n",
    "    SUM (quantity)\n",
    "FROM\n",
    "    sales\n",
    "GROUP BY\n",
    "    segment\n",
    "\n",
    "UNION ALL\n",
    "\n",
    "SELECT\n",
    "    NULL,\n",
    "    NULL,\n",
    "    SUM (quantity)\n",
    "FROM\n",
    "    sales;\n",
    "\"\"\"\n",
    "\n",
    "run_sql(cursor, sql)"
   ],
   "metadata": {
    "collapsed": false,
    "ExecuteTime": {
     "end_time": "2024-01-25T01:27:54.725050200Z",
     "start_time": "2024-01-25T01:27:54.697764100Z"
    }
   },
   "id": "a9a340097c45d98b",
   "execution_count": 7
  },
  {
   "cell_type": "markdown",
   "source": [
    "对于上述的查询，可以试用更高效的 `GROUPING SETS`。\n",
    "```\n",
    "SELECT\n",
    "    c1,\n",
    "    c2,\n",
    "    aggregate_function(c3)\n",
    "FROM\n",
    "    table_name\n",
    "GROUP BY\n",
    "    GROUPING SETS (\n",
    "        (c1, c2),\n",
    "        (c1),\n",
    "        (c2),\n",
    "        ()\n",
    ");\n",
    "```"
   ],
   "metadata": {
    "collapsed": false
   },
   "id": "66334e06adcd9e71"
  },
  {
   "cell_type": "code",
   "outputs": [
    {
     "name": "stdout",
     "output_type": "stream",
     "text": [
      "  brand  segment  sum\n",
      "0  None     None  700\n",
      "1   XYZ    Basic  300\n",
      "2   ABC  Premium  100\n",
      "3   ABC    Basic  200\n",
      "4   XYZ  Premium  100\n",
      "5   ABC     None  300\n",
      "6   XYZ     None  400\n",
      "7  None    Basic  500\n",
      "8  None  Premium  200\n"
     ]
    }
   ],
   "source": [
    "sql = \"\"\"\n",
    "SELECT\n",
    "    brand,\n",
    "    segment,\n",
    "    SUM (quantity)\n",
    "FROM\n",
    "    sales\n",
    "GROUP BY\n",
    "    GROUPING SETS (\n",
    "        (brand, segment),\n",
    "        (brand),\n",
    "        (segment),\n",
    "        ()\n",
    "    );\n",
    "\"\"\"\n",
    "\n",
    "run_sql(cursor, sql)"
   ],
   "metadata": {
    "collapsed": false,
    "ExecuteTime": {
     "end_time": "2024-01-25T01:29:19.755727100Z",
     "start_time": "2024-01-25T01:29:19.727801900Z"
    }
   },
   "id": "58aac8fed89340bb",
   "execution_count": 8
  },
  {
   "cell_type": "markdown",
   "source": [
    "GROUPING 函数\n",
    "```\n",
    "GROUPING( column_name | expression)\n",
    "```\n",
    "`column_name` 或 `expression` 必须与 `GROUP BY` 子句中指定的相匹配。如果参数是当前分组集的成员，则 `GROUPING()` 函数返回位 0，否则返回 1。"
   ],
   "metadata": {
    "collapsed": false
   },
   "id": "733432a00760135"
  },
  {
   "cell_type": "code",
   "outputs": [
    {
     "name": "stdout",
     "output_type": "stream",
     "text": [
      "   grouping_brand  grouping_segment brand  segment  sum\n",
      "0               0                 1   ABC     None  300\n",
      "1               0                 1   XYZ     None  400\n",
      "2               1                 0  None    Basic  500\n",
      "3               1                 0  None  Premium  200\n",
      "4               1                 1  None     None  700\n"
     ]
    }
   ],
   "source": [
    "# GROUPING 函数\n",
    "sql = \"\"\"\n",
    "SELECT\n",
    "\tGROUPING(brand) grouping_brand,\n",
    "\tGROUPING(segment) grouping_segment,\n",
    "\tbrand,\n",
    "\tsegment,\n",
    "\tSUM (quantity)\n",
    "FROM\n",
    "\tsales\n",
    "GROUP BY\n",
    "\tGROUPING SETS (\n",
    "\t\t(brand),\n",
    "\t\t(segment),\n",
    "\t\t()\n",
    "\t)\n",
    "ORDER BY\n",
    "\tbrand,\n",
    "\tsegment;\n",
    "\"\"\"\n",
    "\n",
    "run_sql(cursor, sql)\n",
    "\n",
    "\"\"\"\n",
    "当 grouping_brand 中的值为0时，sum列显示 brad 的小计。\n",
    "当 grouping_segment 中的值为0时，sum列显示 segment 的小计。\n",
    "\"\"\""
   ],
   "metadata": {
    "collapsed": false,
    "ExecuteTime": {
     "end_time": "2024-01-25T01:31:23.380259400Z",
     "start_time": "2024-01-25T01:31:23.374202100Z"
    }
   },
   "id": "e96fb4aac04893c8",
   "execution_count": 9
  },
  {
   "cell_type": "code",
   "outputs": [
    {
     "name": "stdout",
     "output_type": "stream",
     "text": [
      "   grouping_brand  grouping_segment brand segment  sum\n",
      "0               0                 1   ABC    None  300\n",
      "1               0                 1   XYZ    None  400\n"
     ]
    }
   ],
   "source": [
    "sql = \"\"\"\n",
    "SELECT\n",
    "\tGROUPING(brand) grouping_brand,\n",
    "\tGROUPING(segment) grouping_segment,\n",
    "\tbrand,\n",
    "\tsegment,\n",
    "\tSUM (quantity)\n",
    "FROM\n",
    "\tsales\n",
    "GROUP BY\n",
    "\tGROUPING SETS (\n",
    "\t\t(brand),\n",
    "\t\t(segment),\n",
    "\t\t()\n",
    "\t)\n",
    "HAVING GROUPING(brand) = 0\t\n",
    "ORDER BY\n",
    "\tbrand,\n",
    "\tsegment;\n",
    "\"\"\"\n",
    "\n",
    "run_sql(cursor, sql)"
   ],
   "metadata": {
    "collapsed": false,
    "ExecuteTime": {
     "end_time": "2024-01-25T01:36:40.755195200Z",
     "start_time": "2024-01-25T01:36:40.738486Z"
    }
   },
   "id": "64da1d42e7246960",
   "execution_count": 10
  }
 ],
 "metadata": {
  "kernelspec": {
   "display_name": "Python 3",
   "language": "python",
   "name": "python3"
  },
  "language_info": {
   "codemirror_mode": {
    "name": "ipython",
    "version": 2
   },
   "file_extension": ".py",
   "mimetype": "text/x-python",
   "name": "python",
   "nbconvert_exporter": "python",
   "pygments_lexer": "ipython2",
   "version": "2.7.6"
  }
 },
 "nbformat": 4,
 "nbformat_minor": 5
}
