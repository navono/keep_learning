{
 "cells": [
  {
   "cell_type": "markdown",
   "source": [
    "```\n",
    "CUBE(c1,c2,c3) \n",
    "\n",
    "GROUPING SETS (\n",
    "    (c1,c2,c3), \n",
    "    (c1,c2),\n",
    "    (c1,c3),\n",
    "    (c2,c3),\n",
    "    (c1),\n",
    "    (c2),\n",
    "    (c3), \n",
    "    ()\n",
    " ) \n",
    "```\n",
    "\n",
    "上面两个子句功能相同。"
   ],
   "metadata": {
    "collapsed": false
   },
   "id": "70d25062b04f09d7"
  },
  {
   "cell_type": "code",
   "execution_count": 1,
   "id": "initial_id",
   "metadata": {
    "collapsed": true,
    "ExecuteTime": {
     "end_time": "2024-01-25T01:48:15.184881Z",
     "start_time": "2024-01-25T01:48:14.703188Z"
    }
   },
   "outputs": [
    {
     "name": "stdout",
     "output_type": "stream",
     "text": [
      "importing Jupyter notebook from E:\\sourcecode\\keep_learning\\db\\pg\\pg_00_common.ipynb\n"
     ]
    }
   ],
   "source": [
    "import common.ipynb_importer\n",
    "from db.pg.pg_00_common import *\n",
    "\n",
    "cursor = pg_connect()"
   ]
  },
  {
   "cell_type": "code",
   "outputs": [
    {
     "data": {
      "text/plain": "<psycopg.Cursor [COMMAND_OK] [INTRANS] (host=localhost user=postgres database=dvdrental) at 0x27c49301a60>"
     },
     "execution_count": 2,
     "metadata": {},
     "output_type": "execute_result"
    }
   ],
   "source": [
    "sql = \"\"\"\n",
    "DROP TABLE IF EXISTS sales;\n",
    "CREATE TABLE sales (\n",
    "    brand VARCHAR NOT NULL,\n",
    "    segment VARCHAR NOT NULL,\n",
    "    quantity INT NOT NULL,\n",
    "    PRIMARY KEY (brand, segment)\n",
    ");\n",
    "\n",
    "INSERT INTO sales (brand, segment, quantity)\n",
    "VALUES\n",
    "    ('ABC', 'Premium', 100),\n",
    "    ('ABC', 'Basic', 200),\n",
    "    ('XYZ', 'Premium', 100),\n",
    "    ('XYZ', 'Basic', 300);\n",
    "\"\"\"\n",
    "\n",
    "cursor.execute(sql)"
   ],
   "metadata": {
    "collapsed": false,
    "ExecuteTime": {
     "end_time": "2024-01-25T01:48:15.936889500Z",
     "start_time": "2024-01-25T01:48:15.903669Z"
    }
   },
   "id": "51ed5231f56b417a",
   "execution_count": 2
  },
  {
   "cell_type": "code",
   "outputs": [
    {
     "name": "stdout",
     "output_type": "stream",
     "text": [
      "  brand  segment  sum\n",
      "0   ABC    Basic  200\n",
      "1   ABC  Premium  100\n",
      "2   ABC     None  300\n",
      "3   XYZ    Basic  300\n",
      "4   XYZ  Premium  100\n",
      "5   XYZ     None  400\n",
      "6  None    Basic  500\n",
      "7  None  Premium  200\n",
      "8  None     None  700\n"
     ]
    }
   ],
   "source": [
    "sql = \"\"\"\n",
    "SELECT\n",
    "    brand,\n",
    "    segment,\n",
    "    SUM (quantity)\n",
    "FROM\n",
    "    sales\n",
    "GROUP BY\n",
    "    CUBE (brand, segment)\n",
    "ORDER BY\n",
    "    brand,\n",
    "    segment;\n",
    "\"\"\"\n",
    "\n",
    "run_sql(cursor, sql)"
   ],
   "metadata": {
    "collapsed": false,
    "ExecuteTime": {
     "end_time": "2024-01-25T01:48:32.102534200Z",
     "start_time": "2024-01-25T01:48:32.087479900Z"
    }
   },
   "id": "222e72998f3a344a",
   "execution_count": 3
  },
  {
   "cell_type": "code",
   "outputs": [
    {
     "name": "stdout",
     "output_type": "stream",
     "text": [
      "  brand  segment  sum\n",
      "0   ABC    Basic  200\n",
      "1   ABC  Premium  100\n",
      "2   ABC     None  300\n",
      "3   XYZ    Basic  300\n",
      "4   XYZ  Premium  100\n",
      "5   XYZ     None  400\n"
     ]
    }
   ],
   "source": [
    "sql = \"\"\"\n",
    "SELECT\n",
    "    brand,\n",
    "    segment,\n",
    "    SUM (quantity)\n",
    "FROM\n",
    "    sales\n",
    "GROUP BY\n",
    "    brand,\n",
    "    CUBE (segment)\n",
    "ORDER BY\n",
    "    brand,\n",
    "    segment;\n",
    "\"\"\"\n",
    "\n",
    "run_sql(cursor, sql)"
   ],
   "metadata": {
    "collapsed": false,
    "ExecuteTime": {
     "end_time": "2024-01-25T01:49:04.067886700Z",
     "start_time": "2024-01-25T01:49:04.037664400Z"
    }
   },
   "id": "9c0ed10b1a323fd8",
   "execution_count": 4
  }
 ],
 "metadata": {
  "kernelspec": {
   "display_name": "Python 3",
   "language": "python",
   "name": "python3"
  },
  "language_info": {
   "codemirror_mode": {
    "name": "ipython",
    "version": 2
   },
   "file_extension": ".py",
   "mimetype": "text/x-python",
   "name": "python",
   "nbconvert_exporter": "python",
   "pygments_lexer": "ipython2",
   "version": "2.7.6"
  }
 },
 "nbformat": 4,
 "nbformat_minor": 5
}
