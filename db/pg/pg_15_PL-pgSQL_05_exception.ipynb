{
 "cells": [
  {
   "cell_type": "code",
   "id": "initial_id",
   "metadata": {
    "collapsed": true,
    "ExecuteTime": {
     "end_time": "2024-04-07T00:38:42.322869Z",
     "start_time": "2024-04-07T00:38:42.282584Z"
    }
   },
   "source": [
    "import common.ipynb_importer\n",
    "from db.pg.pg_00_common import *\n",
    "\n",
    "cursor = pg_connect()"
   ],
   "outputs": [],
   "execution_count": 10
  },
  {
   "metadata": {},
   "cell_type": "markdown",
   "source": [
    "# Exception\n",
    "\n",
    "语法：\n",
    "```\n",
    "<<label>>\n",
    "declare\n",
    "   ...\n",
    "begin\n",
    "    ...\n",
    "exception\n",
    "    when condition [or condition...] then\n",
    "       handle_exception;\n",
    "   [when condition [or condition...] then\n",
    "       handle_exception;]\n",
    "   [when others then\n",
    "       handle_other_exceptions;\n",
    "   ]\n",
    "end;\n",
    "```"
   ],
   "id": "6fb4d5508d18f533"
  },
  {
   "metadata": {},
   "cell_type": "markdown",
   "source": "## no_data_found 异常处理",
   "id": "cfaa0e13348d3f5c"
  },
  {
   "metadata": {
    "ExecuteTime": {
     "end_time": "2024-04-07T00:34:23.683282Z",
     "start_time": "2024-04-07T00:34:23.392027Z"
    }
   },
   "cell_type": "code",
   "source": [
    "sql = \"\"\"\n",
    "do\n",
    "$$\n",
    "declare\n",
    "\trec record;\n",
    "\tv_film_id int = 2000;\n",
    "begin\n",
    "\t-- select a film \n",
    "\tselect film_id, title \n",
    "\tinto strict rec\n",
    "\tfrom film\n",
    "\twhere film_id = v_film_id;\n",
    "end;\n",
    "$$\n",
    "language plpgsql;\n",
    "\"\"\"\n",
    "cursor.execute(sql)"
   ],
   "id": "5d0f9456134f495",
   "outputs": [
    {
     "ename": "NoDataFound",
     "evalue": "查询没有返回记录\nCONTEXT:  在SQL语句的第7行的PL/pgSQL函数inline_code_block",
     "output_type": "error",
     "traceback": [
      "\u001B[1;31m---------------------------------------------------------------------------\u001B[0m",
      "\u001B[1;31mNoDataFound\u001B[0m                               Traceback (most recent call last)",
      "Cell \u001B[1;32mIn[2], line 17\u001B[0m\n\u001B[0;32m      1\u001B[0m sql \u001B[38;5;241m=\u001B[39m \u001B[38;5;124m\"\"\"\u001B[39m\n\u001B[0;32m      2\u001B[0m \u001B[38;5;124mdo\u001B[39m\n\u001B[0;32m      3\u001B[0m \u001B[38;5;124m$$\u001B[39m\n\u001B[1;32m   (...)\u001B[0m\n\u001B[0;32m     15\u001B[0m \u001B[38;5;124mlanguage plpgsql;\u001B[39m\n\u001B[0;32m     16\u001B[0m \u001B[38;5;124m\"\"\"\u001B[39m\n\u001B[1;32m---> 17\u001B[0m \u001B[43mcursor\u001B[49m\u001B[38;5;241;43m.\u001B[39;49m\u001B[43mexecute\u001B[49m\u001B[43m(\u001B[49m\u001B[43msql\u001B[49m\u001B[43m)\u001B[49m\n",
      "File \u001B[1;32m~\\.conda\\envs\\learning\\lib\\site-packages\\psycopg\\cursor.py:732\u001B[0m, in \u001B[0;36mCursor.execute\u001B[1;34m(self, query, params, prepare, binary)\u001B[0m\n\u001B[0;32m    728\u001B[0m         \u001B[38;5;28mself\u001B[39m\u001B[38;5;241m.\u001B[39m_conn\u001B[38;5;241m.\u001B[39mwait(\n\u001B[0;32m    729\u001B[0m             \u001B[38;5;28mself\u001B[39m\u001B[38;5;241m.\u001B[39m_execute_gen(query, params, prepare\u001B[38;5;241m=\u001B[39mprepare, binary\u001B[38;5;241m=\u001B[39mbinary)\n\u001B[0;32m    730\u001B[0m         )\n\u001B[0;32m    731\u001B[0m \u001B[38;5;28;01mexcept\u001B[39;00m e\u001B[38;5;241m.\u001B[39m_NO_TRACEBACK \u001B[38;5;28;01mas\u001B[39;00m ex:\n\u001B[1;32m--> 732\u001B[0m     \u001B[38;5;28;01mraise\u001B[39;00m ex\u001B[38;5;241m.\u001B[39mwith_traceback(\u001B[38;5;28;01mNone\u001B[39;00m)\n\u001B[0;32m    733\u001B[0m \u001B[38;5;28;01mreturn\u001B[39;00m \u001B[38;5;28mself\u001B[39m\n",
      "\u001B[1;31mNoDataFound\u001B[0m: 查询没有返回记录\nCONTEXT:  在SQL语句的第7行的PL/pgSQL函数inline_code_block"
     ]
    }
   ],
   "execution_count": 2
  },
  {
   "metadata": {
    "ExecuteTime": {
     "end_time": "2024-04-07T00:35:03.038545Z",
     "start_time": "2024-04-07T00:35:03.007140Z"
    }
   },
   "cell_type": "code",
   "source": [
    "sql = \"\"\"\n",
    "do\n",
    "$$\n",
    "declare\n",
    "\trec record;\n",
    "\tv_film_id int = 2000;\n",
    "begin\n",
    "\t-- select a film \n",
    "\tselect film_id, title \n",
    "\tinto strict rec\n",
    "\tfrom film\n",
    "\twhere film_id = v_film_id;\n",
    "        -- catch exception\n",
    "\texception \n",
    "\t   when no_data_found then \n",
    "\t      raise exception 'film % not found', v_film_id;\n",
    "end;\n",
    "$$;\n",
    "\"\"\"\n",
    "cursor.execute(sql)"
   ],
   "id": "ca0e31a8f8c0e06e",
   "outputs": [
    {
     "ename": "RaiseException",
     "evalue": "film 2000 not found\nCONTEXT:  在RAISE的第14行的PL/pgSQL函数inline_code_block",
     "output_type": "error",
     "traceback": [
      "\u001B[1;31m---------------------------------------------------------------------------\u001B[0m",
      "\u001B[1;31mRaiseException\u001B[0m                            Traceback (most recent call last)",
      "Cell \u001B[1;32mIn[4], line 20\u001B[0m\n\u001B[0;32m      1\u001B[0m sql \u001B[38;5;241m=\u001B[39m \u001B[38;5;124m\"\"\"\u001B[39m\n\u001B[0;32m      2\u001B[0m \u001B[38;5;124mdo\u001B[39m\n\u001B[0;32m      3\u001B[0m \u001B[38;5;124m$$\u001B[39m\n\u001B[1;32m   (...)\u001B[0m\n\u001B[0;32m     18\u001B[0m \u001B[38;5;124m$$;\u001B[39m\n\u001B[0;32m     19\u001B[0m \u001B[38;5;124m\"\"\"\u001B[39m\n\u001B[1;32m---> 20\u001B[0m \u001B[43mcursor\u001B[49m\u001B[38;5;241;43m.\u001B[39;49m\u001B[43mexecute\u001B[49m\u001B[43m(\u001B[49m\u001B[43msql\u001B[49m\u001B[43m)\u001B[49m\n",
      "File \u001B[1;32m~\\.conda\\envs\\learning\\lib\\site-packages\\psycopg\\cursor.py:732\u001B[0m, in \u001B[0;36mCursor.execute\u001B[1;34m(self, query, params, prepare, binary)\u001B[0m\n\u001B[0;32m    728\u001B[0m         \u001B[38;5;28mself\u001B[39m\u001B[38;5;241m.\u001B[39m_conn\u001B[38;5;241m.\u001B[39mwait(\n\u001B[0;32m    729\u001B[0m             \u001B[38;5;28mself\u001B[39m\u001B[38;5;241m.\u001B[39m_execute_gen(query, params, prepare\u001B[38;5;241m=\u001B[39mprepare, binary\u001B[38;5;241m=\u001B[39mbinary)\n\u001B[0;32m    730\u001B[0m         )\n\u001B[0;32m    731\u001B[0m \u001B[38;5;28;01mexcept\u001B[39;00m e\u001B[38;5;241m.\u001B[39m_NO_TRACEBACK \u001B[38;5;28;01mas\u001B[39;00m ex:\n\u001B[1;32m--> 732\u001B[0m     \u001B[38;5;28;01mraise\u001B[39;00m ex\u001B[38;5;241m.\u001B[39mwith_traceback(\u001B[38;5;28;01mNone\u001B[39;00m)\n\u001B[0;32m    733\u001B[0m \u001B[38;5;28;01mreturn\u001B[39;00m \u001B[38;5;28mself\u001B[39m\n",
      "\u001B[1;31mRaiseException\u001B[0m: film 2000 not found\nCONTEXT:  在RAISE的第14行的PL/pgSQL函数inline_code_block"
     ]
    }
   ],
   "execution_count": 4
  },
  {
   "metadata": {},
   "cell_type": "markdown",
   "source": "## too_many_rows 异常处理",
   "id": "de7e123a981fa405"
  },
  {
   "metadata": {
    "ExecuteTime": {
     "end_time": "2024-04-07T00:36:08.833257Z",
     "start_time": "2024-04-07T00:36:08.801353Z"
    }
   },
   "cell_type": "code",
   "source": [
    "# select into 语句返回了超多一行的数据\n",
    "sql = \"\"\"\n",
    "do\n",
    "$$\n",
    "declare\n",
    "\trec record;\n",
    "begin\n",
    "\t-- select film \n",
    "\tselect film_id, title \n",
    "\tinto strict rec\n",
    "\tfrom film\n",
    "\twhere title LIKE 'A%';\n",
    "\t\n",
    "\texception \n",
    "\t   when too_many_rows then\n",
    "\t      raise exception 'Search query returns too many rows';\n",
    "end;\n",
    "$$;\n",
    "\"\"\"\n",
    "cursor.execute(sql)"
   ],
   "id": "9d8254f9f06e94a1",
   "outputs": [
    {
     "ename": "RaiseException",
     "evalue": "Search query returns too many rows\nCONTEXT:  在RAISE的第13行的PL/pgSQL函数inline_code_block",
     "output_type": "error",
     "traceback": [
      "\u001B[1;31m---------------------------------------------------------------------------\u001B[0m",
      "\u001B[1;31mRaiseException\u001B[0m                            Traceback (most recent call last)",
      "Cell \u001B[1;32mIn[7], line 19\u001B[0m\n\u001B[0;32m      1\u001B[0m sql \u001B[38;5;241m=\u001B[39m \u001B[38;5;124m\"\"\"\u001B[39m\n\u001B[0;32m      2\u001B[0m \u001B[38;5;124mdo\u001B[39m\n\u001B[0;32m      3\u001B[0m \u001B[38;5;124m$$\u001B[39m\n\u001B[1;32m   (...)\u001B[0m\n\u001B[0;32m     17\u001B[0m \u001B[38;5;124m$$;\u001B[39m\n\u001B[0;32m     18\u001B[0m \u001B[38;5;124m\"\"\"\u001B[39m\n\u001B[1;32m---> 19\u001B[0m \u001B[43mcursor\u001B[49m\u001B[38;5;241;43m.\u001B[39;49m\u001B[43mexecute\u001B[49m\u001B[43m(\u001B[49m\u001B[43msql\u001B[49m\u001B[43m)\u001B[49m\n",
      "File \u001B[1;32m~\\.conda\\envs\\learning\\lib\\site-packages\\psycopg\\cursor.py:732\u001B[0m, in \u001B[0;36mCursor.execute\u001B[1;34m(self, query, params, prepare, binary)\u001B[0m\n\u001B[0;32m    728\u001B[0m         \u001B[38;5;28mself\u001B[39m\u001B[38;5;241m.\u001B[39m_conn\u001B[38;5;241m.\u001B[39mwait(\n\u001B[0;32m    729\u001B[0m             \u001B[38;5;28mself\u001B[39m\u001B[38;5;241m.\u001B[39m_execute_gen(query, params, prepare\u001B[38;5;241m=\u001B[39mprepare, binary\u001B[38;5;241m=\u001B[39mbinary)\n\u001B[0;32m    730\u001B[0m         )\n\u001B[0;32m    731\u001B[0m \u001B[38;5;28;01mexcept\u001B[39;00m e\u001B[38;5;241m.\u001B[39m_NO_TRACEBACK \u001B[38;5;28;01mas\u001B[39;00m ex:\n\u001B[1;32m--> 732\u001B[0m     \u001B[38;5;28;01mraise\u001B[39;00m ex\u001B[38;5;241m.\u001B[39mwith_traceback(\u001B[38;5;28;01mNone\u001B[39;00m)\n\u001B[0;32m    733\u001B[0m \u001B[38;5;28;01mreturn\u001B[39;00m \u001B[38;5;28mself\u001B[39m\n",
      "\u001B[1;31mRaiseException\u001B[0m: Search query returns too many rows\nCONTEXT:  在RAISE的第13行的PL/pgSQL函数inline_code_block"
     ]
    }
   ],
   "execution_count": 7
  },
  {
   "metadata": {},
   "cell_type": "markdown",
   "source": "## Multiple Exceptions",
   "id": "8692a68f21c5b816"
  },
  {
   "metadata": {
    "ExecuteTime": {
     "end_time": "2024-04-07T00:37:23.335064Z",
     "start_time": "2024-04-07T00:37:23.307061Z"
    }
   },
   "cell_type": "code",
   "source": [
    "sql = \"\"\"\n",
    "do\n",
    "$$\n",
    "declare\n",
    "\trec record;\n",
    "\tv_length int = 90;\n",
    "begin\n",
    "\t-- select a film \n",
    "\tselect film_id, title \n",
    "\tinto strict rec\n",
    "\tfrom film\n",
    "\twhere length = v_length;\n",
    "\t\n",
    "    -- catch exception\n",
    "\texception \n",
    "\t   when sqlstate 'P0002' then \n",
    "\t      raise exception 'film with length % not found', v_length;\n",
    "\t   when sqlstate 'P0003' then \n",
    "\t      raise exception 'The with length % is not unique', v_length;\n",
    "end;\n",
    "$$;\n",
    "\"\"\"\n",
    "cursor.execute(sql)"
   ],
   "id": "753f29db99c41d6d",
   "outputs": [
    {
     "ename": "RaiseException",
     "evalue": "The with length 90 is not unique\nCONTEXT:  在RAISE的第17行的PL/pgSQL函数inline_code_block",
     "output_type": "error",
     "traceback": [
      "\u001B[1;31m---------------------------------------------------------------------------\u001B[0m",
      "\u001B[1;31mRaiseException\u001B[0m                            Traceback (most recent call last)",
      "Cell \u001B[1;32mIn[9], line 23\u001B[0m\n\u001B[0;32m      1\u001B[0m sql \u001B[38;5;241m=\u001B[39m \u001B[38;5;124m\"\"\"\u001B[39m\n\u001B[0;32m      2\u001B[0m \u001B[38;5;124mdo\u001B[39m\n\u001B[0;32m      3\u001B[0m \u001B[38;5;124m$$\u001B[39m\n\u001B[1;32m   (...)\u001B[0m\n\u001B[0;32m     21\u001B[0m \u001B[38;5;124m$$;\u001B[39m\n\u001B[0;32m     22\u001B[0m \u001B[38;5;124m\"\"\"\u001B[39m\n\u001B[1;32m---> 23\u001B[0m \u001B[43mcursor\u001B[49m\u001B[38;5;241;43m.\u001B[39;49m\u001B[43mexecute\u001B[49m\u001B[43m(\u001B[49m\u001B[43msql\u001B[49m\u001B[43m)\u001B[49m\n",
      "File \u001B[1;32m~\\.conda\\envs\\learning\\lib\\site-packages\\psycopg\\cursor.py:732\u001B[0m, in \u001B[0;36mCursor.execute\u001B[1;34m(self, query, params, prepare, binary)\u001B[0m\n\u001B[0;32m    728\u001B[0m         \u001B[38;5;28mself\u001B[39m\u001B[38;5;241m.\u001B[39m_conn\u001B[38;5;241m.\u001B[39mwait(\n\u001B[0;32m    729\u001B[0m             \u001B[38;5;28mself\u001B[39m\u001B[38;5;241m.\u001B[39m_execute_gen(query, params, prepare\u001B[38;5;241m=\u001B[39mprepare, binary\u001B[38;5;241m=\u001B[39mbinary)\n\u001B[0;32m    730\u001B[0m         )\n\u001B[0;32m    731\u001B[0m \u001B[38;5;28;01mexcept\u001B[39;00m e\u001B[38;5;241m.\u001B[39m_NO_TRACEBACK \u001B[38;5;28;01mas\u001B[39;00m ex:\n\u001B[1;32m--> 732\u001B[0m     \u001B[38;5;28;01mraise\u001B[39;00m ex\u001B[38;5;241m.\u001B[39mwith_traceback(\u001B[38;5;28;01mNone\u001B[39;00m)\n\u001B[0;32m    733\u001B[0m \u001B[38;5;28;01mreturn\u001B[39;00m \u001B[38;5;28mself\u001B[39m\n",
      "\u001B[1;31mRaiseException\u001B[0m: The with length 90 is not unique\nCONTEXT:  在RAISE的第17行的PL/pgSQL函数inline_code_block"
     ]
    }
   ],
   "execution_count": 9
  },
  {
   "metadata": {},
   "cell_type": "markdown",
   "source": "## 将异常作为 SQLSTATE 来捕获",
   "id": "ff538fa27a6e6e3d"
  },
  {
   "metadata": {
    "ExecuteTime": {
     "end_time": "2024-04-07T00:38:56.252680Z",
     "start_time": "2024-04-07T00:38:56.215158Z"
    }
   },
   "cell_type": "code",
   "source": [
    "sql = \"\"\"\n",
    "do\n",
    "$$\n",
    "declare\n",
    "\trec record;\n",
    "\tv_length int = 30;\n",
    "begin\n",
    "\t-- select a film \n",
    "\tselect film_id, title \n",
    "\tinto strict rec\n",
    "\tfrom film\n",
    "\twhere length = v_length;\n",
    "\t\n",
    "        -- catch exception\n",
    "\texception \n",
    "\t   when sqlstate 'P0002' then \n",
    "\t      raise exception 'film with length % not found', v_length;\n",
    "\t   when sqlstate 'P0003' then \n",
    "\t      raise exception 'The with length % is not unique', v_length;\n",
    "end;\n",
    "$$;\n",
    "\"\"\"\n",
    "cursor.execute(sql)"
   ],
   "id": "53b1db30a75aa5e1",
   "outputs": [
    {
     "ename": "RaiseException",
     "evalue": "film with length 30 not found\nCONTEXT:  在RAISE的第15行的PL/pgSQL函数inline_code_block",
     "output_type": "error",
     "traceback": [
      "\u001B[1;31m---------------------------------------------------------------------------\u001B[0m",
      "\u001B[1;31mRaiseException\u001B[0m                            Traceback (most recent call last)",
      "Cell \u001B[1;32mIn[11], line 23\u001B[0m\n\u001B[0;32m      1\u001B[0m sql \u001B[38;5;241m=\u001B[39m \u001B[38;5;124m\"\"\"\u001B[39m\n\u001B[0;32m      2\u001B[0m \u001B[38;5;124mdo\u001B[39m\n\u001B[0;32m      3\u001B[0m \u001B[38;5;124m$$\u001B[39m\n\u001B[1;32m   (...)\u001B[0m\n\u001B[0;32m     21\u001B[0m \u001B[38;5;124m$$;\u001B[39m\n\u001B[0;32m     22\u001B[0m \u001B[38;5;124m\"\"\"\u001B[39m\n\u001B[1;32m---> 23\u001B[0m \u001B[43mcursor\u001B[49m\u001B[38;5;241;43m.\u001B[39;49m\u001B[43mexecute\u001B[49m\u001B[43m(\u001B[49m\u001B[43msql\u001B[49m\u001B[43m)\u001B[49m\n",
      "File \u001B[1;32m~\\.conda\\envs\\learning\\lib\\site-packages\\psycopg\\cursor.py:732\u001B[0m, in \u001B[0;36mCursor.execute\u001B[1;34m(self, query, params, prepare, binary)\u001B[0m\n\u001B[0;32m    728\u001B[0m         \u001B[38;5;28mself\u001B[39m\u001B[38;5;241m.\u001B[39m_conn\u001B[38;5;241m.\u001B[39mwait(\n\u001B[0;32m    729\u001B[0m             \u001B[38;5;28mself\u001B[39m\u001B[38;5;241m.\u001B[39m_execute_gen(query, params, prepare\u001B[38;5;241m=\u001B[39mprepare, binary\u001B[38;5;241m=\u001B[39mbinary)\n\u001B[0;32m    730\u001B[0m         )\n\u001B[0;32m    731\u001B[0m \u001B[38;5;28;01mexcept\u001B[39;00m e\u001B[38;5;241m.\u001B[39m_NO_TRACEBACK \u001B[38;5;28;01mas\u001B[39;00m ex:\n\u001B[1;32m--> 732\u001B[0m     \u001B[38;5;28;01mraise\u001B[39;00m ex\u001B[38;5;241m.\u001B[39mwith_traceback(\u001B[38;5;28;01mNone\u001B[39;00m)\n\u001B[0;32m    733\u001B[0m \u001B[38;5;28;01mreturn\u001B[39;00m \u001B[38;5;28mself\u001B[39m\n",
      "\u001B[1;31mRaiseException\u001B[0m: film with length 30 not found\nCONTEXT:  在RAISE的第15行的PL/pgSQL函数inline_code_block"
     ]
    }
   ],
   "execution_count": 11
  }
 ],
 "metadata": {
  "kernelspec": {
   "display_name": "Python 3",
   "language": "python",
   "name": "python3"
  },
  "language_info": {
   "codemirror_mode": {
    "name": "ipython",
    "version": 2
   },
   "file_extension": ".py",
   "mimetype": "text/x-python",
   "name": "python",
   "nbconvert_exporter": "python",
   "pygments_lexer": "ipython2",
   "version": "2.7.6"
  }
 },
 "nbformat": 4,
 "nbformat_minor": 5
}
