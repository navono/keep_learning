{
 "cells": [
  {
   "cell_type": "markdown",
   "source": [
    "`CTE`: `Common Table Expression`。优点：\n",
    "- 提高复杂查询的可读性\n",
    "- 能够创建递归查询，即引用自身的查询\n",
    "- 与窗口函数结合使用\n",
    "\n",
    "```\n",
    "WITH cte_name (column1, column2, ...) AS (\n",
    "    -- CTE query\n",
    "    SELECT ...\n",
    ")\n",
    "-- Main query using the CTE\n",
    "SELECT ...\n",
    "FROM cte_name;\n",
    "```"
   ],
   "metadata": {
    "collapsed": false
   },
   "id": "cdbf13f7d506685e"
  },
  {
   "cell_type": "code",
   "execution_count": 2,
   "id": "initial_id",
   "metadata": {
    "collapsed": true,
    "ExecuteTime": {
     "end_time": "2024-01-25T05:15:04.619664100Z",
     "start_time": "2024-01-25T05:15:04.163606200Z"
    }
   },
   "outputs": [
    {
     "name": "stdout",
     "output_type": "stream",
     "text": [
      "importing Jupyter notebook from E:\\sourcecode\\keep_learning\\db\\pg\\pg_00_common.ipynb\n"
     ]
    }
   ],
   "source": [
    "import common.ipynb_importer\n",
    "from db.pg.pg_00_common import *\n",
    "\n",
    "cursor = pg_connect()"
   ]
  },
  {
   "cell_type": "code",
   "outputs": [
    {
     "name": "stdout",
     "output_type": "stream",
     "text": [
      "                     title  length\n",
      "0             Amadeus Holy     113\n",
      "1          American Circus     129\n",
      "2       Antitrust Tomatoes     168\n",
      "3            Ark Ridgemont      68\n",
      "4      Barefoot Manchurian     129\n",
      "..                     ...     ...\n",
      "59         Uprising Uptown     174\n",
      "60  Waterfront Deliverance      61\n",
      "61           Werewolf Lola      79\n",
      "62            Women Dorado     126\n",
      "63            Worst Banger     185\n",
      "\n",
      "[64 rows x 2 columns]\n"
     ]
    }
   ],
   "source": [
    "sql = \"\"\"\n",
    "WITH action_films AS (\n",
    "  SELECT \n",
    "    f.title, \n",
    "    f.length \n",
    "  FROM \n",
    "    film f \n",
    "    INNER JOIN film_category fc USING (film_id) \n",
    "    INNER JOIN category c USING(category_id) \n",
    "  WHERE \n",
    "    c.name = 'Action'\n",
    ") \n",
    "SELECT * FROM action_films;\n",
    "\"\"\"\n",
    "\n",
    "run_sql(cursor, sql)"
   ],
   "metadata": {
    "collapsed": false,
    "ExecuteTime": {
     "end_time": "2024-01-25T05:15:05.631015800Z",
     "start_time": "2024-01-25T05:15:05.607016700Z"
    }
   },
   "id": "dca5c33e778762c5",
   "execution_count": 3
  },
  {
   "cell_type": "code",
   "outputs": [
    {
     "name": "stdout",
     "output_type": "stream",
     "text": [
      "   staff_id first_name last_name  rental_count\n",
      "0         1       Mike   Hillyer          8040\n",
      "1         2        Jon  Stephens          8004\n"
     ]
    }
   ],
   "source": [
    "sql = \"\"\"\n",
    "WITH cte_rental AS (\n",
    "  SELECT \n",
    "    staff_id, \n",
    "    COUNT(rental_id) rental_count \n",
    "  FROM \n",
    "    rental \n",
    "  GROUP BY \n",
    "    staff_id\n",
    ") \n",
    "SELECT \n",
    "  s.staff_id, \n",
    "  first_name, \n",
    "  last_name, \n",
    "  rental_count \n",
    "FROM \n",
    "  staff s \n",
    "  INNER JOIN cte_rental USING (staff_id);\n",
    "\"\"\"\n",
    "\n",
    "run_sql(cursor, sql)"
   ],
   "metadata": {
    "collapsed": false,
    "ExecuteTime": {
     "end_time": "2024-01-25T05:16:14.347923700Z",
     "start_time": "2024-01-25T05:16:14.327889700Z"
    }
   },
   "id": "8a206fe2e30533c5",
   "execution_count": 4
  },
  {
   "cell_type": "code",
   "outputs": [
    {
     "name": "stdout",
     "output_type": "stream",
     "text": [
      "  avg_film_rental_rate  max_film_length  min_film_length  total_customers  \\\n",
      "0                 2.98              185               46              599   \n",
      "\n",
      "  total_payments  \n",
      "0       61312.04  \n"
     ]
    }
   ],
   "source": [
    "sql = \"\"\"\n",
    "WITH film_stats AS (\n",
    "    -- CTE 1: Calculate film statistics\n",
    "    SELECT\n",
    "        AVG(rental_rate) AS avg_rental_rate,\n",
    "        MAX(length) AS max_length,\n",
    "        MIN(length) AS min_length\n",
    "    FROM film\n",
    "),\n",
    "customer_stats AS (\n",
    "    -- CTE 2: Calculate customer statistics\n",
    "    SELECT\n",
    "        COUNT(DISTINCT customer_id) AS total_customers,\n",
    "        SUM(amount) AS total_payments\n",
    "    FROM payment\n",
    ")\n",
    "-- Main query using the CTEs\n",
    "SELECT\n",
    "    ROUND((SELECT avg_rental_rate FROM film_stats), 2) AS avg_film_rental_rate,\n",
    "    (SELECT max_length FROM film_stats) AS max_film_length,\n",
    "    (SELECT min_length FROM film_stats) AS min_film_length,\n",
    "    (SELECT total_customers FROM customer_stats) AS total_customers,\n",
    "    (SELECT total_payments FROM customer_stats) AS total_payments;\n",
    "\"\"\"\n",
    "\n",
    "run_sql(cursor, sql)"
   ],
   "metadata": {
    "collapsed": false,
    "ExecuteTime": {
     "end_time": "2024-01-25T05:17:13.656768200Z",
     "start_time": "2024-01-25T05:17:13.636511900Z"
    }
   },
   "id": "86899e58838b4f94",
   "execution_count": 5
  },
  {
   "cell_type": "code",
   "outputs": [],
   "source": [],
   "metadata": {
    "collapsed": false
   },
   "id": "b1c0c54cd81a5356"
  }
 ],
 "metadata": {
  "kernelspec": {
   "display_name": "Python 3",
   "language": "python",
   "name": "python3"
  },
  "language_info": {
   "codemirror_mode": {
    "name": "ipython",
    "version": 2
   },
   "file_extension": ".py",
   "mimetype": "text/x-python",
   "name": "python",
   "nbconvert_exporter": "python",
   "pygments_lexer": "ipython2",
   "version": "2.7.6"
  }
 },
 "nbformat": 4,
 "nbformat_minor": 5
}
