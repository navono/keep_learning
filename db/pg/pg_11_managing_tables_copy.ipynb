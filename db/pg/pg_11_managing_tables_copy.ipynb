{
 "cells": [
  {
   "cell_type": "markdown",
   "source": [
    "拷贝表结构和数据\n",
    "```\n",
    "CREATE TABLE new_table AS \n",
    "TABLE existing_table;\n",
    "```\n",
    "\n",
    "只拷贝表结构\n",
    "```\n",
    "CREATE TABLE new_table AS \n",
    "TABLE existing_table \n",
    "WITH NO DATA;\n",
    "```\n",
    "\n",
    "拷贝表结构和部分数据\n",
    "```\n",
    "REATE TABLE new_table AS \n",
    "SELECT\n",
    "*\n",
    "FROM\n",
    "    existing_table\n",
    "WHERE\n",
    "    condition;\n",
    "```"
   ],
   "metadata": {
    "collapsed": false
   },
   "id": "be89dbf05adf5963"
  },
  {
   "cell_type": "code",
   "execution_count": 1,
   "id": "initial_id",
   "metadata": {
    "collapsed": true,
    "ExecuteTime": {
     "end_time": "2024-02-24T23:25:42.670227200Z",
     "start_time": "2024-02-24T23:25:40.128184500Z"
    }
   },
   "outputs": [
    {
     "name": "stdout",
     "output_type": "stream",
     "text": [
      "importing Jupyter notebook from D:\\sourcecode\\keep_learning\\db\\pg\\pg_00_common.ipynb\n"
     ]
    }
   ],
   "source": [
    "import common.ipynb_importer\n",
    "from db.pg.pg_00_common import *\n",
    "\n",
    "cursor = pg_connect()"
   ]
  },
  {
   "cell_type": "code",
   "outputs": [
    {
     "data": {
      "text/plain": "<psycopg.Cursor [COMMAND_OK] [INTRANS] (host=localhost user=postgres database=dvdrental) at 0x1f1747c8720>"
     },
     "execution_count": 2,
     "metadata": {},
     "output_type": "execute_result"
    }
   ],
   "source": [
    "sql = \"\"\"\n",
    "CREATE TABLE contacts(\n",
    "    id SERIAL PRIMARY KEY,\n",
    "    first_name VARCHAR NOT NULL,\n",
    "    last_name VARCHAR NOT NULL,\n",
    "    email VARCHAR NOT NULL UNIQUE\n",
    ");\n",
    "INSERT INTO contacts(first_name, last_name, email) \n",
    "VALUES('John','Doe','john.doe@postgresqltutorial.com'),\n",
    "      ('David','William','david.william@postgresqltutorial.com')\n",
    "RETURNING *;\n",
    "\"\"\"\n",
    "cursor.execute(sql)"
   ],
   "metadata": {
    "collapsed": false,
    "ExecuteTime": {
     "end_time": "2024-02-24T23:25:42.707064500Z",
     "start_time": "2024-02-24T23:25:42.672221800Z"
    }
   },
   "id": "2dd206c2db3609e8",
   "execution_count": 2
  },
  {
   "cell_type": "code",
   "outputs": [
    {
     "name": "stdout",
     "output_type": "stream",
     "text": [
      "   id first_name last_name                                 email\n",
      "0   1       John       Doe       john.doe@postgresqltutorial.com\n",
      "1   2      David   William  david.william@postgresqltutorial.com\n"
     ]
    }
   ],
   "source": [
    "sql = \"\"\"\n",
    "SELECT * FROM contacts;\n",
    "\"\"\"\n",
    "run_sql(cursor, sql)"
   ],
   "metadata": {
    "collapsed": false,
    "ExecuteTime": {
     "end_time": "2024-02-24T23:25:42.716066600Z",
     "start_time": "2024-02-24T23:25:42.700068800Z"
    }
   },
   "id": "f648975ad1cab038",
   "execution_count": 3
  },
  {
   "cell_type": "code",
   "outputs": [
    {
     "data": {
      "text/plain": "<psycopg.Cursor [COMMAND_OK] [INTRANS] (host=localhost user=postgres database=dvdrental) at 0x1f1747c8720>"
     },
     "execution_count": 4,
     "metadata": {},
     "output_type": "execute_result"
    }
   ],
   "source": [
    "sql = \"\"\"\n",
    "CREATE TABLE contact_backup \n",
    "AS TABLE contacts;\n",
    "\"\"\"\n",
    "cursor.execute(sql)"
   ],
   "metadata": {
    "collapsed": false,
    "ExecuteTime": {
     "end_time": "2024-02-24T23:26:19.108404400Z",
     "start_time": "2024-02-24T23:26:19.073418700Z"
    }
   },
   "id": "7410d30abb841dad",
   "execution_count": 4
  },
  {
   "cell_type": "code",
   "outputs": [
    {
     "name": "stdout",
     "output_type": "stream",
     "text": [
      "   id first_name last_name                                 email\n",
      "0   1       John       Doe       john.doe@postgresqltutorial.com\n",
      "1   2      David   William  david.william@postgresqltutorial.com\n"
     ]
    }
   ],
   "source": [
    "sql = \"\"\"\n",
    "SELECT * FROM contact_backup;\n",
    "\"\"\"\n",
    "run_sql(cursor, sql)"
   ],
   "metadata": {
    "collapsed": false,
    "ExecuteTime": {
     "end_time": "2024-02-24T23:26:20.939208Z",
     "start_time": "2024-02-24T23:26:20.890188400Z"
    }
   },
   "id": "8db03661cf95fad",
   "execution_count": 5
  },
  {
   "cell_type": "code",
   "outputs": [
    {
     "data": {
      "text/plain": "<psycopg.Cursor [COMMAND_OK] [INTRANS] (host=localhost user=postgres database=dvdrental) at 0x1f1747c8720>"
     },
     "execution_count": 6,
     "metadata": {},
     "output_type": "execute_result"
    }
   ],
   "source": [
    "sql = \"\"\"\n",
    "ALTER TABLE contact_backup ADD PRIMARY KEY(id);\n",
    "ALTER TABLE contact_backup ADD UNIQUE(email);\n",
    "\"\"\"\n",
    "cursor.execute(sql)"
   ],
   "metadata": {
    "collapsed": false,
    "ExecuteTime": {
     "end_time": "2024-02-24T23:27:19.339572300Z",
     "start_time": "2024-02-24T23:27:19.304551200Z"
    }
   },
   "id": "8a97b45e0ee28bf9",
   "execution_count": 6
  },
  {
   "cell_type": "code",
   "outputs": [
    {
     "name": "stdout",
     "output_type": "stream",
     "text": [
      "  table_catalog table_schema      table_name column_name  ordinal_position  \\\n",
      "0     dvdrental       public  contact_backup          id                 1   \n",
      "1     dvdrental       public  contact_backup  first_name                 2   \n",
      "2     dvdrental       public  contact_backup   last_name                 3   \n",
      "3     dvdrental       public  contact_backup       email                 4   \n",
      "\n",
      "  column_default is_nullable          data_type character_maximum_length  \\\n",
      "0           None          NO            integer                     None   \n",
      "1           None         YES  character varying                     None   \n",
      "2           None         YES  character varying                     None   \n",
      "3           None         YES  character varying                     None   \n",
      "\n",
      "   character_octet_length  ...  is_identity  identity_generation  \\\n",
      "0                     NaN  ...           NO                 None   \n",
      "1            1.073742e+09  ...           NO                 None   \n",
      "2            1.073742e+09  ...           NO                 None   \n",
      "3            1.073742e+09  ...           NO                 None   \n",
      "\n",
      "   identity_start identity_increment identity_maximum identity_minimum  \\\n",
      "0            None               None             None             None   \n",
      "1            None               None             None             None   \n",
      "2            None               None             None             None   \n",
      "3            None               None             None             None   \n",
      "\n",
      "  identity_cycle is_generated generation_expression is_updatable  \n",
      "0             NO        NEVER                  None          YES  \n",
      "1             NO        NEVER                  None          YES  \n",
      "2             NO        NEVER                  None          YES  \n",
      "3             NO        NEVER                  None          YES  \n",
      "\n",
      "[4 rows x 44 columns]\n"
     ]
    }
   ],
   "source": [
    "sql = \"\"\"\n",
    "SELECT *\n",
    "FROM information_schema.columns\n",
    "WHERE table_name = 'contact_backup';\n",
    "\"\"\"\n",
    "run_sql(cursor, sql)"
   ],
   "metadata": {
    "collapsed": false,
    "ExecuteTime": {
     "end_time": "2024-02-24T23:27:21.784898500Z",
     "start_time": "2024-02-24T23:27:21.705895500Z"
    }
   },
   "id": "be685edff6ff3707",
   "execution_count": 7
  }
 ],
 "metadata": {
  "kernelspec": {
   "display_name": "Python 3",
   "language": "python",
   "name": "python3"
  },
  "language_info": {
   "codemirror_mode": {
    "name": "ipython",
    "version": 2
   },
   "file_extension": ".py",
   "mimetype": "text/x-python",
   "name": "python",
   "nbconvert_exporter": "python",
   "pygments_lexer": "ipython2",
   "version": "2.7.6"
  }
 },
 "nbformat": 4,
 "nbformat_minor": 5
}
