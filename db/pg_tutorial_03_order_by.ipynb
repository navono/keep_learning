{
 "cells": [
  {
   "cell_type": "markdown",
   "source": [
    "```\n",
    "SELECT \n",
    "  select_list \n",
    "FROM \n",
    "  table_name \n",
    "ORDER BY \n",
    "  sort_expression1 [ASC | DESC], \n",
    "  sort_expression2 [ASC | DESC],\n",
    "  ...;\n",
    "```"
   ],
   "metadata": {
    "collapsed": false
   },
   "id": "a36d57794481cc11"
  },
  {
   "cell_type": "code",
   "execution_count": 28,
   "id": "initial_id",
   "metadata": {
    "collapsed": true,
    "ExecuteTime": {
     "end_time": "2024-01-23T07:11:21.965968400Z",
     "start_time": "2024-01-23T07:11:21.898931400Z"
    }
   },
   "outputs": [],
   "source": [
    "import psycopg\n",
    "import pandas as pd\n",
    "\n",
    "conn_info = f'host=localhost port=5432 dbname=dvdrental user=postgres password=1234'\n",
    "conn = psycopg.connect(conninfo=conn_info)\n",
    "\n",
    "# 创建游标对象\n",
    "cursor = conn.cursor()"
   ]
  },
  {
   "cell_type": "code",
   "outputs": [
    {
     "name": "stdout",
     "output_type": "stream",
     "text": [
      "    first_name last_name\n",
      "0        Aaron     Selby\n",
      "1         Adam     Gooch\n",
      "2       Adrian     Clary\n",
      "3        Agnes    Bishop\n",
      "4         Alan      Kahn\n",
      "..         ...       ...\n",
      "594     Willie    Howell\n",
      "595      Wilma  Richards\n",
      "596    Yolanda    Weaver\n",
      "597     Yvonne   Watkins\n",
      "598    Zachary      Hite\n",
      "\n",
      "[599 rows x 2 columns]\n"
     ]
    }
   ],
   "source": [
    "# cursor.execute(\"SELECT first_name, last_name FROM customer ORDER BY first_name ASC;\")\n",
    "\n",
    "# ASC 是默认的，因此可以省略\n",
    "cursor.execute(\"SELECT first_name, last_name FROM customer ORDER BY first_name;\")\n",
    "\n",
    "data = cursor.fetchall()\n",
    "col_names = [desc[0] for desc in cursor.description]\n",
    "\n",
    "df=pd.DataFrame(data, columns=col_names)\n",
    "print(df)"
   ],
   "metadata": {
    "collapsed": false,
    "ExecuteTime": {
     "end_time": "2024-01-23T07:05:33.706474400Z",
     "start_time": "2024-01-23T07:05:33.675375800Z"
    }
   },
   "id": "22425352af9f89db",
   "execution_count": 20
  },
  {
   "cell_type": "code",
   "outputs": [
    {
     "name": "stdout",
     "output_type": "stream",
     "text": [
      "    first_name  last_name\n",
      "0      Cynthia      Young\n",
      "1       Marvin        Yee\n",
      "2         Luis      Yanez\n",
      "3        Brian      Wyman\n",
      "4       Brenda     Wright\n",
      "..         ...        ...\n",
      "594     Gordon     Allard\n",
      "595      Diana  Alexander\n",
      "596   Kathleen      Adams\n",
      "597  Nathaniel       Adam\n",
      "598     Rafael      Abney\n",
      "\n",
      "[599 rows x 2 columns]\n"
     ]
    }
   ],
   "source": [
    "cursor.execute(\"SELECT first_name, last_name FROM customer ORDER BY last_name DESC;\")\n",
    "\n",
    "data = cursor.fetchall()\n",
    "col_names = [desc[0] for desc in cursor.description]\n",
    "\n",
    "df=pd.DataFrame(data, columns=col_names)\n",
    "print(df)"
   ],
   "metadata": {
    "collapsed": false,
    "ExecuteTime": {
     "end_time": "2024-01-23T07:05:35.942448100Z",
     "start_time": "2024-01-23T07:05:35.921785Z"
    }
   },
   "id": "9ab885d18a204fc7",
   "execution_count": 21
  },
  {
   "cell_type": "code",
   "outputs": [
    {
     "name": "stdout",
     "output_type": "stream",
     "text": [
      "    first_name last_name\n",
      "0        Aaron     Selby\n",
      "1         Adam     Gooch\n",
      "2       Adrian     Clary\n",
      "3        Agnes    Bishop\n",
      "4         Alan      Kahn\n",
      "..         ...       ...\n",
      "594     Willie    Howell\n",
      "595      Wilma  Richards\n",
      "596    Yolanda    Weaver\n",
      "597     Yvonne   Watkins\n",
      "598    Zachary      Hite\n",
      "\n",
      "[599 rows x 2 columns]\n"
     ]
    }
   ],
   "source": [
    "cursor.execute(\"SELECT first_name, last_name FROM customer ORDER BY first_name ASC, last_name DESC;\")\n",
    "\n",
    "data = cursor.fetchall()\n",
    "col_names = [desc[0] for desc in cursor.description]\n",
    "\n",
    "df=pd.DataFrame(data, columns=col_names)\n",
    "print(df)"
   ],
   "metadata": {
    "collapsed": false,
    "ExecuteTime": {
     "end_time": "2024-01-23T07:05:38.042266Z",
     "start_time": "2024-01-23T07:05:38.016244100Z"
    }
   },
   "id": "17e2ee7f61d94269",
   "execution_count": 22
  },
  {
   "cell_type": "code",
   "outputs": [
    {
     "name": "stdout",
     "output_type": "stream",
     "text": [
      "      first_name  len\n",
      "0    Christopher   11\n",
      "1     Jacqueline   10\n",
      "2      Constance    9\n",
      "3      Katherine    9\n",
      "4      Nathaniel    9\n",
      "..           ...  ...\n",
      "594          Ida    3\n",
      "595          Sue    3\n",
      "596          Sam    3\n",
      "597          Dan    3\n",
      "598           Jo    2\n",
      "\n",
      "[599 rows x 2 columns]\n"
     ]
    }
   ],
   "source": [
    "cursor.execute(\"SELECT first_name, LENGTH(first_name) len FROM customer ORDER BY len DESC;\")\n",
    "\n",
    "data = cursor.fetchall()\n",
    "col_names = [desc[0] for desc in cursor.description]\n",
    "\n",
    "df=pd.DataFrame(data, columns=col_names)\n",
    "print(df)"
   ],
   "metadata": {
    "collapsed": false,
    "ExecuteTime": {
     "end_time": "2024-01-23T07:06:08.926172400Z",
     "start_time": "2024-01-23T07:06:08.910172Z"
    }
   },
   "id": "3ac1e16a728d18af",
   "execution_count": 23
  },
  {
   "cell_type": "markdown",
   "source": [
    "当返回的数据中包含了 `NULL` 数据时，通过 `NULL FIRST` 或 `NULL LAST` 可以指定 `NULL` 数据的顺序。\n",
    "```\n",
    "ORDER BY sort_expresssion [ASC | DESC] [NULLS FIRST | NULLS LAST]\n",
    "```"
   ],
   "metadata": {
    "collapsed": false
   },
   "id": "dd48a8af812914be"
  },
  {
   "cell_type": "code",
   "outputs": [
    {
     "data": {
      "text/plain": "<psycopg.Cursor [COMMAND_OK] [INTRANS] (host=localhost user=postgres database=dvdrental) at 0x2b029702820>"
     },
     "execution_count": 29,
     "metadata": {},
     "output_type": "execute_result"
    }
   ],
   "source": [
    "# 创建一张新表\n",
    "cursor.execute(\"CREATE TABLE sort_demo(num INT);\")\n",
    "\n",
    "# 插入点数据\n",
    "cursor.execute(\"INSERT INTO sort_demo(num) VALUES (1),(2),(3),(null);\")"
   ],
   "metadata": {
    "collapsed": false,
    "ExecuteTime": {
     "end_time": "2024-01-23T07:11:25.590386900Z",
     "start_time": "2024-01-23T07:11:25.551088500Z"
    }
   },
   "id": "26d66c82423d508d",
   "execution_count": 29
  },
  {
   "cell_type": "code",
   "outputs": [
    {
     "name": "stdout",
     "output_type": "stream",
     "text": [
      "   num\n",
      "0  1.0\n",
      "1  2.0\n",
      "2  3.0\n",
      "3  NaN\n"
     ]
    }
   ],
   "source": [
    "# 查询\n",
    "cursor.execute(\"SELECT num FROM sort_demo ORDER BY num;\")\n",
    "\n",
    "data = cursor.fetchall()\n",
    "col_names = [desc[0] for desc in cursor.description]\n",
    "\n",
    "df=pd.DataFrame(data, columns=col_names)\n",
    "print(df)"
   ],
   "metadata": {
    "collapsed": false,
    "ExecuteTime": {
     "end_time": "2024-01-23T07:11:27.216756Z",
     "start_time": "2024-01-23T07:11:27.176813Z"
    }
   },
   "id": "1a3efda7695f9430",
   "execution_count": 30
  },
  {
   "cell_type": "code",
   "outputs": [
    {
     "name": "stdout",
     "output_type": "stream",
     "text": [
      "   num\n",
      "0  NaN\n",
      "1  1.0\n",
      "2  2.0\n",
      "3  3.0\n"
     ]
    }
   ],
   "source": [
    "# 查询\n",
    "cursor.execute(\"SELECT num FROM sort_demo ORDER BY num NULLS FIRST;\")\n",
    "\n",
    "data = cursor.fetchall()\n",
    "col_names = [desc[0] for desc in cursor.description]\n",
    "\n",
    "df=pd.DataFrame(data, columns=col_names)\n",
    "print(df)"
   ],
   "metadata": {
    "collapsed": false,
    "ExecuteTime": {
     "end_time": "2024-01-23T07:11:55.011434800Z",
     "start_time": "2024-01-23T07:11:55.005434900Z"
    }
   },
   "id": "e4b78105b7d5b47b",
   "execution_count": 31
  },
  {
   "cell_type": "code",
   "outputs": [
    {
     "name": "stdout",
     "output_type": "stream",
     "text": [
      "   num\n",
      "0  NaN\n",
      "1  3.0\n",
      "2  2.0\n",
      "3  1.0\n"
     ]
    }
   ],
   "source": [
    "# 查询\n",
    "cursor.execute(\"SELECT num FROM sort_demo ORDER BY num DESC;\")\n",
    "\n",
    "data = cursor.fetchall()\n",
    "col_names = [desc[0] for desc in cursor.description]\n",
    "\n",
    "df=pd.DataFrame(data, columns=col_names)\n",
    "print(df)"
   ],
   "metadata": {
    "collapsed": false,
    "ExecuteTime": {
     "end_time": "2024-01-23T07:12:25.280355400Z",
     "start_time": "2024-01-23T07:12:25.272355500Z"
    }
   },
   "id": "a788065a4ad8fe4e",
   "execution_count": 32
  },
  {
   "cell_type": "code",
   "outputs": [
    {
     "name": "stdout",
     "output_type": "stream",
     "text": [
      "   num\n",
      "0  3.0\n",
      "1  2.0\n",
      "2  1.0\n",
      "3  NaN\n"
     ]
    }
   ],
   "source": [
    "# 查询\n",
    "cursor.execute(\"SELECT num FROM sort_demo ORDER BY num DESC NULLS LAST;\")\n",
    "\n",
    "data = cursor.fetchall()\n",
    "col_names = [desc[0] for desc in cursor.description]\n",
    "\n",
    "df=pd.DataFrame(data, columns=col_names)\n",
    "print(df)"
   ],
   "metadata": {
    "collapsed": false,
    "ExecuteTime": {
     "end_time": "2024-01-23T07:12:45.554607600Z",
     "start_time": "2024-01-23T07:12:45.548607700Z"
    }
   },
   "id": "75fa06f1be68d5ad",
   "execution_count": 33
  }
 ],
 "metadata": {
  "kernelspec": {
   "display_name": "Python 3",
   "language": "python",
   "name": "python3"
  },
  "language_info": {
   "codemirror_mode": {
    "name": "ipython",
    "version": 2
   },
   "file_extension": ".py",
   "mimetype": "text/x-python",
   "name": "python",
   "nbconvert_exporter": "python",
   "pygments_lexer": "ipython2",
   "version": "2.7.6"
  }
 },
 "nbformat": 4,
 "nbformat_minor": 5
}
