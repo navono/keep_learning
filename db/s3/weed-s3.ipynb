{
 "cells": [
  {
   "cell_type": "markdown",
   "source": [
    "# SeaweedFS 使用 boto3 访问\n",
    "\n",
    "## SeaweedFS 配置\n",
    "命令行启动服务\n",
    "> weed server -dir=D:\\\\data\\\\seaweed -s3\n",
    "\n",
    "命令行 `weed shell` 进入 shell 模式，配置 `S3` 的 `key`：\n",
    "> s3.configure -access_key=123 -secret_key=123 -user=test -actions=Read,Write,List,Tagging,Admin -apply\n",
    "\n",
    "## boto3 配置\n",
    "\n",
    "### 用户目录\n",
    "在 `~/` 目录下创建 `.aws` 目录，在 `.aws` 目录下创建 `credentials` 文件，文件内入为：\n",
    "```\n",
    "[default]\n",
    "aws_access_key_id = 123\n",
    "aws_secret_access_key = 123\n",
    "```\n",
    "\n",
    "其中的 `aws_access_key_id`、`aws_secret_access_key` 分别与 `s3.confoguire` 中的 `access_key` 和 `secret_key` 一致。\n",
    "\n",
    "### client 配置\n",
    "```\n",
    "s3 = boto3.client(\"s3\", endpoint_url=\"http://localhost:8333\", aws_access_key_id='123', aws_secret_access_key='123')\n",
    "```\n",
    "\n",
    "## S3 客户端\n",
    "运行下面代码。"
   ],
   "metadata": {
    "collapsed": false
   },
   "id": "198deb2baced1cd2"
  },
  {
   "cell_type": "markdown",
   "source": [],
   "metadata": {
    "collapsed": false
   },
   "id": "af427d3427fcb274"
  },
  {
   "cell_type": "code",
   "execution_count": 6,
   "id": "initial_id",
   "metadata": {
    "collapsed": true,
    "ExecuteTime": {
     "end_time": "2024-01-26T06:05:42.806048500Z",
     "start_time": "2024-01-26T06:05:42.803048400Z"
    }
   },
   "outputs": [],
   "source": [
    "import boto3"
   ]
  },
  {
   "cell_type": "code",
   "outputs": [
    {
     "name": "stdout",
     "output_type": "stream",
     "text": [
      "testbkt\n"
     ]
    }
   ],
   "source": [
    "# 使用 ~/.asw/credentials 配置\n",
    "# s3 = boto3.client(\"s3\", endpoint_url=\"http://localhost:8333\")\n",
    "\n",
    "s3 = boto3.client(\"s3\", endpoint_url=\"http://localhost:8333\", aws_access_key_id='123', aws_secret_access_key='123')\n",
    "\n",
    "buckets = s3.list_buckets()\n",
    "\n",
    "# 遍历存储桶列表\n",
    "for bucket in buckets[\"Buckets\"]:\n",
    "    print(bucket[\"Name\"])"
   ],
   "metadata": {
    "collapsed": false,
    "ExecuteTime": {
     "end_time": "2024-01-26T06:05:46.371510800Z",
     "start_time": "2024-01-26T06:05:44.333786800Z"
    }
   },
   "id": "2f936f19d10e91cc",
   "execution_count": 7
  }
 ],
 "metadata": {
  "kernelspec": {
   "display_name": "Python 3",
   "language": "python",
   "name": "python3"
  },
  "language_info": {
   "codemirror_mode": {
    "name": "ipython",
    "version": 2
   },
   "file_extension": ".py",
   "mimetype": "text/x-python",
   "name": "python",
   "nbconvert_exporter": "python",
   "pygments_lexer": "ipython2",
   "version": "2.7.6"
  }
 },
 "nbformat": 4,
 "nbformat_minor": 5
}
