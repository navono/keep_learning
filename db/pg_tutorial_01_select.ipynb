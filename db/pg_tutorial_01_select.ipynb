{
 "cells": [
  {
   "cell_type": "markdown",
   "source": [
    "安装完成后，创建数据库：\n",
    "> psql -U postgres\n",
    "> \n",
    "> CREATE DATABASE dvdrental;\n",
    "\n",
    "导入测试数据：\n",
    "> pg_restore -U postgres -d dvdrental ./dvdrental.tar"
   ],
   "metadata": {
    "collapsed": false
   },
   "id": "f56d224a164b439d"
  },
  {
   "cell_type": "markdown",
   "source": [
    "# Select\n",
    "\n",
    "支持以下 clauses：\n",
    "- 使用 `DISTINCT` 选择唯一的行\n",
    "- 使用 `ORDER BY` 进行排序\n",
    "- 使用 `WHERE` 进行行过滤\n",
    "- 使用 `LIMIT` 或者 `FETCH` 选择子集\n",
    "- 使用 `GROUP BY` 将结果分组\n",
    "- 使用 `HAVING` 进行组过滤\n",
    "- 使用 joins 进行表联合，例如：`INNER JOIN`, `LEFT JOIN`, `FULL OUTER JOIN`, `CROSS JOIN`\n",
    "- 使用 `UNION`、`INTERSECT` 和 `EXCEPT` 执行集合运算"
   ],
   "metadata": {
    "collapsed": false
   },
   "id": "b4a68ddec68368dc"
  },
  {
   "cell_type": "code",
   "outputs": [],
   "source": [
    "import psycopg\n",
    "conn_info = f'host=localhost port=5432 dbname=dvdrental user=postgres password=1234'\n",
    "conn = psycopg.connect(conninfo=conn_info)\n",
    "\n",
    "# 创建游标对象\n",
    "cursor = conn.cursor()"
   ],
   "metadata": {
    "collapsed": false,
    "ExecuteTime": {
     "end_time": "2024-01-23T06:35:53.228711800Z",
     "start_time": "2024-01-23T06:35:53.171333100Z"
    }
   },
   "id": "9e0ce865a377ff70",
   "execution_count": 18
  },
  {
   "cell_type": "code",
   "outputs": [
    {
     "name": "stdout",
     "output_type": "stream",
     "text": [
      "('Jared',)\n"
     ]
    }
   ],
   "source": [
    "# 执行查询\n",
    "cursor.execute(\"SELECT first_name FROM customer;\")\n",
    "\n",
    "# 获取单行数据\n",
    "row = cursor.fetchone()\n",
    "print(row)"
   ],
   "metadata": {
    "collapsed": false,
    "ExecuteTime": {
     "end_time": "2024-01-23T06:17:14.414338Z",
     "start_time": "2024-01-23T06:17:14.405338200Z"
    }
   },
   "id": "2829047c2fc080e5",
   "execution_count": 10
  },
  {
   "cell_type": "code",
   "outputs": [
    {
     "name": "stdout",
     "output_type": "stream",
     "text": [
      "('Jared', 'Ely', 'jared.ely@sakilacustomer.org')\n"
     ]
    }
   ],
   "source": [
    "# 查询多列\n",
    "cursor.execute(\"SELECT first_name,last_name,email FROM customer;\")\n",
    "\n",
    "# 获取单行数据\n",
    "row = cursor.fetchone()\n",
    "print(row)"
   ],
   "metadata": {
    "collapsed": false,
    "ExecuteTime": {
     "end_time": "2024-01-23T06:18:50.037881100Z",
     "start_time": "2024-01-23T06:18:50.027882Z"
    }
   },
   "id": "6daa394ef2ed2af7",
   "execution_count": 12
  },
  {
   "cell_type": "code",
   "outputs": [
    {
     "name": "stdout",
     "output_type": "stream",
     "text": [
      "(524, 1, 'Jared', 'Ely', 'jared.ely@sakilacustomer.org', 530, True, datetime.date(2006, 2, 14), datetime.datetime(2013, 5, 26, 14, 49, 45, 738000), 1)\n"
     ]
    }
   ],
   "source": [
    "# 获取所有列\n",
    "cursor.execute(\"SELECT * FROM customer;\")\n",
    "\n",
    "# 获取单行数据\n",
    "row = cursor.fetchone()\n",
    "print(row)"
   ],
   "metadata": {
    "collapsed": false,
    "ExecuteTime": {
     "end_time": "2024-01-23T06:19:15.633230400Z",
     "start_time": "2024-01-23T06:19:15.613083300Z"
    }
   },
   "id": "8310b33015d5c0a8",
   "execution_count": 13
  },
  {
   "cell_type": "markdown",
   "source": [
    "在查询语句中尽量不要使用 `*`，有以下几个原因：\n",
    "- 数据库性能。如果这个表包含了大量的数据和许多列时，因为 `*` 会返回表的所有列，因此也包括了很多不需要的数据；\n",
    "- 应用程序性能。检索不必要的数据会加大应用程序与数据库服务之间的负载。"
   ],
   "metadata": {
    "collapsed": false
   },
   "id": "fa990fad8fda1dfe"
  },
  {
   "cell_type": "code",
   "outputs": [
    {
     "name": "stdout",
     "output_type": "stream",
     "text": [
      "('Jared Ely',)\n",
      "('Jared Ely',)\n"
     ]
    }
   ],
   "source": [
    "# 表达式语句\n",
    "cursor.execute(\"SELECT first_name || ' ' || last_name FROM customer;\")\n",
    "\n",
    "# 获取单行数据\n",
    "row = cursor.fetchone()\n",
    "print(row)\n",
    "\n",
    "cursor.execute(\"SELECT first_name || ' ' || last_name full_name FROM customer;\")\n",
    "\n",
    "# 获取单行数据\n",
    "row = cursor.fetchone()\n",
    "print(row)"
   ],
   "metadata": {
    "collapsed": false,
    "ExecuteTime": {
     "end_time": "2024-01-23T06:33:07.573199200Z",
     "start_time": "2024-01-23T06:33:07.564199700Z"
    }
   },
   "id": "f6fb3b22821a2ad2",
   "execution_count": 15
  },
  {
   "cell_type": "markdown",
   "source": [
    "`||` 是串联运算符，要为新列赋予新的名字，可以在语句后再接上新列名字。"
   ],
   "metadata": {
    "collapsed": false
   },
   "id": "e285afac451402ff"
  },
  {
   "cell_type": "code",
   "outputs": [
    {
     "name": "stdout",
     "output_type": "stream",
     "text": [
      "(datetime.datetime(2024, 1, 23, 14, 18, 50, 27710, tzinfo=zoneinfo.ZoneInfo(key='Asia/Shanghai')),)\n"
     ]
    }
   ],
   "source": [
    "# 不指定 FROM\n",
    "cursor.execute(\"SELECT NOW();\")\n",
    "row = cursor.fetchone()\n",
    "print(row)"
   ],
   "metadata": {
    "collapsed": false,
    "ExecuteTime": {
     "end_time": "2024-01-23T06:34:27.102160300Z",
     "start_time": "2024-01-23T06:34:27.093157900Z"
    }
   },
   "id": "4a41da88a9301f11",
   "execution_count": 17
  }
 ],
 "metadata": {
  "kernelspec": {
   "display_name": "Python 3",
   "language": "python",
   "name": "python3"
  },
  "language_info": {
   "codemirror_mode": {
    "name": "ipython",
    "version": 2
   },
   "file_extension": ".py",
   "mimetype": "text/x-python",
   "name": "python",
   "nbconvert_exporter": "python",
   "pygments_lexer": "ipython2",
   "version": "2.7.6"
  }
 },
 "nbformat": 4,
 "nbformat_minor": 5
}
