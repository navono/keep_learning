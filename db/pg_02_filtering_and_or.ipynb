{
 "cells": [
  {
   "cell_type": "markdown",
   "source": [
    "布尔值：`true`,`false` 和 `null`。\n",
    "表示 `true` 的有：`true`, `'t'`, `'true'`, `'y'`, `'yes'`, `'1'`；\n",
    "表示 `false` 的有：`false`, `'f'`, `'false'`, `'n'`, `'no'`, `'0'`"
   ],
   "metadata": {
    "collapsed": false
   },
   "id": "a74f6be4566123c6"
  },
  {
   "cell_type": "code",
   "execution_count": 3,
   "id": "initial_id",
   "metadata": {
    "collapsed": true,
    "ExecuteTime": {
     "end_time": "2024-01-23T07:47:02.763381600Z",
     "start_time": "2024-01-23T07:47:02.722973100Z"
    }
   },
   "outputs": [],
   "source": [
    "import ipynb_importer\n",
    "%run pg_00_common.ipynb\n",
    "cursor = pg_connect()"
   ]
  },
  {
   "cell_type": "code",
   "outputs": [
    {
     "name": "stdout",
     "output_type": "stream",
     "text": [
      "                title  length rental_rate\n",
      "0       Catch Amistad     183        0.99\n",
      "1    Haunting Pianist     181        0.99\n",
      "2      Intrigue Worst     181        0.99\n",
      "3       Love Suicides     181        0.99\n",
      "4  Runaway Tenenbaums     181        0.99\n",
      "5     Smoochy Control     184        0.99\n",
      "6      Sorority Queen     184        0.99\n",
      "7      Theory Mermaid     184        0.99\n",
      "8         Wild Apollo     181        0.99\n",
      "9      Young Language     183        0.99\n"
     ]
    }
   ],
   "source": [
    "sql = \"\"\"\n",
    "SELECT \n",
    "  title, \n",
    "  length, \n",
    "  rental_rate \n",
    "FROM \n",
    "  film \n",
    "WHERE \n",
    "  length > 180 \n",
    "  AND rental_rate < 1;\n",
    "\"\"\"\n",
    "\n",
    "run_sql(cursor, sql)"
   ],
   "metadata": {
    "collapsed": false,
    "ExecuteTime": {
     "end_time": "2024-01-23T07:47:20.207869600Z",
     "start_time": "2024-01-23T07:47:20.181869700Z"
    }
   },
   "id": "af62049c94b791c4",
   "execution_count": 4
  },
  {
   "cell_type": "code",
   "outputs": [
    {
     "name": "stdout",
     "output_type": "stream",
     "text": [
      "                 title rental_rate\n",
      "0     Academy Dinosaur        0.99\n",
      "1     Adaptation Holes        2.99\n",
      "2     Affair Prejudice        2.99\n",
      "3          African Egg        2.99\n",
      "4         Agent Truman        2.99\n",
      "..                 ...         ...\n",
      "659     Wrong Behavior        2.99\n",
      "660     Young Language        0.99\n",
      "661         Youth Kick        0.99\n",
      "662       Zhivago Core        0.99\n",
      "663  Zoolander Fiction        2.99\n",
      "\n",
      "[664 rows x 2 columns]\n"
     ]
    }
   ],
   "source": [
    "sql = \"\"\"\n",
    "SELECT \n",
    "  title, \n",
    "  rental_rate \n",
    "FROM \n",
    "  film \n",
    "WHERE \n",
    "  rental_rate = 0.99 OR \n",
    "  rental_rate = 2.99;\n",
    "\"\"\"\n",
    "\n",
    "run_sql(cursor, sql)"
   ],
   "metadata": {
    "collapsed": false,
    "ExecuteTime": {
     "end_time": "2024-01-23T07:48:56.798964100Z",
     "start_time": "2024-01-23T07:48:56.773588400Z"
    }
   },
   "id": "b03d07ebd8011ee2",
   "execution_count": 5
  }
 ],
 "metadata": {
  "kernelspec": {
   "display_name": "Python 3",
   "language": "python",
   "name": "python3"
  },
  "language_info": {
   "codemirror_mode": {
    "name": "ipython",
    "version": 2
   },
   "file_extension": ".py",
   "mimetype": "text/x-python",
   "name": "python",
   "nbconvert_exporter": "python",
   "pygments_lexer": "ipython2",
   "version": "2.7.6"
  }
 },
 "nbformat": 4,
 "nbformat_minor": 5
}
