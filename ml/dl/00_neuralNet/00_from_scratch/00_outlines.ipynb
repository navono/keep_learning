{
 "cells": [
  {
   "metadata": {},
   "cell_type": "markdown",
   "source": "第一章：介绍数学概念中的函数可以通过相互连接来呈现计算图。以及描述了使用微积分中的链式法则来计算这些函数的输出相对于输入的导数。最后介绍矩阵相乘，并展示如何将其融入以这种方式表示的数学函数中，同时还能让我们计算深度学习最终需要的导数。",
   "id": "cb123b67c26dc228"
  },
  {
   "metadata": {},
   "cell_type": "markdown",
   "source": "第二章：使用第一章创建的基础构建块，构建和训练一个解决现实世界问题的模型，确切来说是使用构建块去创建一个线性回归和一个简单的神经网络模型来预测房价，展示神经网络的性能优于线性回归，并尝试给出一些直观的原因。本章中构建模型的 \"第一原理 \"方法应该会让你对神经网络的工作原理有一个很好的了解，但也会让你看到纯粹基于第一原理的逐步定义深度学习模型的方法能力有限。",
   "id": "bf8b164b1551a2a2"
  },
  {
   "metadata": {},
   "cell_type": "markdown",
   "source": "第三章：使用前两章基于 \"第一原理\"方法创建的构建块，创建一个更高层次的组件用于创建深度学习模型：Layers, Models, Optimizers 等等。最后，基于第二章的数据集，会从头定义和训练一个深度学习模型，并展示它的性能优于第二章的简单神经网络。",
   "id": "3ba641582a41199f"
  },
  {
   "metadata": {},
   "cell_type": "markdown",
   "source": "第四章：将介绍一些重要的训练模型的技巧，这些技巧通常能提高神经网络找到好解决方案的概率，并尽可能给出一些数学直觉，说明这些技巧为何有效。",
   "id": "29e663ba9f7ec46b"
  },
  {
   "metadata": {},
   "cell_type": "markdown",
   "source": "第五章：将介绍卷积神经网络背后的基本思想，一种专门为理解图片的神经网络架构。同时会介绍它与普通神经网络的不同之处，具体来说，`CNN` 如何导致每一层神经元被组织成“特征图”，以及其中两层（每层由多个特征图组成）如何通过卷积滤波器连接在一起。此外，正如我们从头开始对神经网络中的常规层进行编码一样，我们将从头开始对卷积层进行编码，以加强我们对它们如何工作的理解。",
   "id": "7a2ce37287594b6"
  },
  {
   "metadata": {},
   "cell_type": "markdown",
   "source": "第六章：使用自动微分实现 `RNN`。这种架构的神经网络通常用于时序数据，例如文本或时间序列数据。接着会介绍一般的 `RNN` 和两个变体：`GRU` 和 `LSTM`。在整个过程中，我将仔细区分所有这些 RNN 变体的共同要素和这些变体的具体差异方式。",
   "id": "43afe2468fb44db"
  },
  {
   "metadata": {},
   "cell_type": "markdown",
   "source": "第七章：使用 `PyTorch` 实现第一章到第六章的内容。学习这样一个框架对于你学习神经网络是必不可少的；但是，如果不先扎实地了解神经网络是如何工作的以及为什么会工作，就盲目地学习一个框架，从长远来看会严重限制你的学习。本书各章的目标是让你有能力编写极高性能的神经网络（通过教你 `PyTorch`），同时为你的长期学习和成功做好准备（通过在你学习 `PyTorch` 之前教你基础知识）。最后，我们将简要说明神经网络如何用于无监督学习。",
   "id": "a396486799f3611f"
  },
  {
   "metadata": {},
   "cell_type": "markdown",
   "source": "本书的所有概念，均会从 `Math`, `Diagram`, `Code` 三个维度进行解释。",
   "id": "dc8fb72c7d646eba"
  }
 ],
 "metadata": {
  "kernelspec": {
   "display_name": "Python 3",
   "language": "python",
   "name": "python3"
  },
  "language_info": {
   "codemirror_mode": {
    "name": "ipython",
    "version": 2
   },
   "file_extension": ".py",
   "mimetype": "text/x-python",
   "name": "python",
   "nbconvert_exporter": "python",
   "pygments_lexer": "ipython2",
   "version": "2.7.6"
  }
 },
 "nbformat": 4,
 "nbformat_minor": 5
}
