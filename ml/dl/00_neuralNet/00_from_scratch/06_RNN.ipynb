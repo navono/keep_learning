{
 "cells": [
  {
   "metadata": {},
   "cell_type": "markdown",
   "source": "# Recurrent Neural Networks",
   "id": "5013565092978f11"
  },
  {
   "cell_type": "code",
   "execution_count": null,
   "id": "initial_id",
   "metadata": {
    "collapsed": true
   },
   "outputs": [],
   "source": [
    ""
   ]
  },
  {
   "metadata": {},
   "cell_type": "markdown",
   "source": "## Automatic Differentiation",
   "id": "aa5f399a6f4994e5"
  },
  {
   "metadata": {},
   "cell_type": "markdown",
   "source": "# Introduction to RNN",
   "id": "1a2ae801a2d4541e"
  },
  {
   "metadata": {},
   "cell_type": "markdown",
   "source": "## Code",
   "id": "938cc057552e072e"
  }
 ],
 "metadata": {
  "kernelspec": {
   "display_name": "Python 3",
   "language": "python",
   "name": "python3"
  },
  "language_info": {
   "codemirror_mode": {
    "name": "ipython",
    "version": 2
   },
   "file_extension": ".py",
   "mimetype": "text/x-python",
   "name": "python",
   "nbconvert_exporter": "python",
   "pygments_lexer": "ipython2",
   "version": "2.7.6"
  }
 },
 "nbformat": 4,
 "nbformat_minor": 5
}
