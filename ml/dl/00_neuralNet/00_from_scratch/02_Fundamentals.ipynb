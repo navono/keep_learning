{
 "cells": [
  {
   "cell_type": "markdown",
   "id": "3e58ed126c5dce81",
   "metadata": {},
   "source": [
    "本章目标：\n",
    "- 使用第一章的构建块构建`线性回归模型`\n",
    "- 证明在第一章所做的导数的推理可以训练`线性回归模型`\n",
    "- 将上述模型扩展（依旧使用我们的构建块）到一层神经网络\n",
    "\n",
    "在接下来的第三章时，我们依旧使用相同的构建块去构建深度学习模型。\n",
    "\n",
    "在深入主题之前，先概述一下机器学习的子集： `监督学习`，接下来将重点关注如何使用神经网络去解决这类问题。"
   ]
  },
  {
   "metadata": {},
   "cell_type": "markdown",
   "source": [
    "## 监督学习概述\n",
    "\n",
    "从高层次来说，机器学习指的是通过构建一种算法，用来揭示（或学习）数据之间的关系。这种关系可以是分类，回归，聚类等。监督学习可以被描述为机器学习的一个子集，专门用于查找已测量的数据特征之间的关系。\n",
    "\n",
    "在本章节会使用监督学习去解决现实世界中的房价预测问题：寻找房屋特征与房屋价值之间的关系。我们用数值去表现房屋的各个特征，也就是 `ndarray`。\n",
    "\n",
    "在这个 `ndarray` 中，每一行的长度就是数据的特征数。通常情况下，一个属性（characteristic）会有多个特征（features），但在本章中，我们将一个属性映射为一个特征。在实践中，我们通过选择一个我们想要从其他特征中预测的特征，我们将此特征称为我们的目标（target）。选择哪个特征作为目标是完全任意的，取决于要解决的问题。\n",
    "\n",
    "下图显示了监督学习描述的层次结构，从在数据中查找关系的最高级别描述，到通过训练模型来量化这些关系的最低级别，以揭示特征和目标之间的数值表示。\n",
    "\n",
    "![Overview](./images/02_supervised_learning_overview.png)\n",
    "\n",
    "本章的内容主要集中在图片的下半部分，也就是模型。"
   ],
   "id": "dbf19c3e9e6626b"
  },
  {
   "cell_type": "markdown",
   "id": "6853c16b49f85dd0",
   "metadata": {},
   "source": [
    "## 监督学习模型\n",
    "\n",
    "我们的目标是找到一个以 `ndarray` 作为输入，以 `ndarray` 作为输出的函数，这个输出的 `ndarray` 尽可能的接近目标。\n",
    "\n",
    "用 `n` 行的矩阵 `X` 表示输入，每一行都表示样本的 `k` 个特征。每一行（一个样本）使用向量表示：$x_i = \\begin{bmatrix} x_{i1} & x_{i2} & \\cdots & x_{ik} \\end{bmatrix}$ 。把所有的样本数据放在一起，我们得到一个 `n x k` 的矩阵 `X`，以下表示的是一个 `n = 3` 的矩阵：\n",
    "\n",
    "$$\n",
    "X_batch =\n",
    "\\begin{bmatrix}\n",
    "x_{11} & x_{12} & \\cdots & x_{1k} \\\\\n",
    "x_{21} & x_{22} & \\cdots & x_{2k} \\\\\n",
    "x_{31} & x_{32} & \\cdots & x_{3k} \\\\\n",
    "\\end{bmatrix}\n",
    "$$\n",
    "\n",
    "对于输入的矩阵 `X`，我们有一个 `n` 行的向量 `y`，表示我们的目标：\n",
    "$$\n",
    "\\begin{bmatrix}\n",
    "y_1 \\\\\n",
    "y_2 \\\\\n",
    "y_3 \\\\\n",
    "\\end{bmatrix}\n",
    "$$\n",
    "\n",
    "\n",
    "我们的目标是找到一个函数 $f$，使得 $f(X) \\approx y$。首先我们从最简单的模型：线性回归开始。"
   ]
  },
  {
   "cell_type": "markdown",
   "id": "b5ca54a767fca789",
   "metadata": {},
   "source": [
    "## 线性回归\n",
    "\n",
    "\n",
    "线性回归通常表示为：\n",
    "\n",
    "$$\n",
    "y_i = \\beta_0 + \\beta_1 \\times x_{1} + \\beta_2 \\times x_{2} + \\cdots + \\beta_k \\times x_{k} + \\epsilon\n",
    "$$\n",
    "\n",
    "\n",
    "上述公式不够直观，接下来用图示进行解释。\n",
    "\n",
    "\n",
    "## Diagram\n",
    "\n",
    "![Linear Regression](./images/02_linear_regression.png)\n",
    "\n",
    "\n",
    "也就是有一组观察数据 $x_i = \\begin{bmatrix} x_1 & x_2 & x_3 & \\cdots & x_k \\end{bmatrix} $ 和另外一组称之为 $W$ 的参数：\n",
    "\n",
    "$$\n",
    "W = \\begin{bmatrix} w_1 \\\\ w_2 \\\\ w_3 \\\\ \\vdots \\\\ w_k \\end{bmatrix}\n",
    "$$\n",
    "\n",
    "那么预测值就为：\n",
    "\n",
    "$$\n",
    "p_i = x_i \\times W = w_1 \\times x_{i1} + w_2 \\times x_{i2} + \\cdots + w_k \\times x_{ik}\n",
    "$$\n",
    "\n",
    "如果我们有多组观察数据，也就是上述的 $X_{batch}$ 那么预测值就是矩阵相乘：\n",
    "\n",
    "$$\n",
    "p_{batch} = X_{batch} \\times W = \n",
    "\\begin{bmatrix} \n",
    "x_{11} & x_{12} & \\cdots & x_{1k} \\\\ \n",
    "x_{21} & x_{22} & \\cdots & x_{2k} \\\\ \n",
    "\\vdots & \\vdots & \\ddots & \\vdots \\\\ \n",
    "x_{n1} & x_{n2} & \\cdots & x_{nk} \n",
    "\\end{bmatrix} \\times \n",
    "\\begin{bmatrix} w_1 \\\\ w_2 \\\\ w_3 \\\\ \\vdots \\\\ w_k \n",
    "\\end{bmatrix} = \n",
    "\\begin{bmatrix}\n",
    "x_{11} \\times w_1 + x_{12} \\times w_2 + \\cdots + x_{1k} \\times w_k \\\\\n",
    "x_{21} \\times w_1 + x_{22} \\times w_2 + \\cdots + x_{2k} \\times w_k \\\\\n",
    "\\vdots \\\\\n",
    "x_{n1} \\times w_1 + x_{n2} \\times w_2 + \\cdots + x_{nk} \\times w_k \\\\\n",
    "\\end{bmatrix}\n",
    "$$"
   ]
  },
  {
   "metadata": {},
   "cell_type": "markdown",
   "source": [
    "### \"训练\"模型\n",
    "\n",
    "什么是\"训练\"模型？直白地说，模型将数据作为输入，以某种方式将它们与参数相结合，并产生预测值。例如上述的线性回归模型，我们将数据 `X` 与参数 `W` 相乘，得到预测值 `p`：\n",
    "$$\n",
    "p_{batch} = \n",
    "\\begin{bmatrix}\n",
    "p_1 \\\\\n",
    "p_2 \\\\\n",
    "p_3\n",
    "\\end{bmatrix}\n",
    "$$\n",
    "\n",
    "为了\"训练\"模型，我们还需要额外的信息，也就是如何衡量预测值的好坏。我们将这个信息称为 `loss function`，用来衡量预测值(`p`)与目标值（`y`）之间的差异。在线性回归中，我们使用 `mean squared error` 作为 `loss function`：\n",
    "\n",
    "$$\n",
    "MSE(p_{batch},y_{batch}) = MSE \\left(\n",
    "\\begin{bmatrix}\n",
    "p_1 \\\\\n",
    "p_2 \\\\\n",
    "p_3\n",
    "\\end{bmatrix},\n",
    "\\begin{bmatrix}\n",
    "y_1 \\\\\n",
    "y_2 \\\\\n",
    "y_3\n",
    "\\end{bmatrix}\n",
    "\\right) = \n",
    "\\frac{(y_1 - p_1)^2 + (y_2 - p_2)^2 + (y_3 - p_3)^2}{3} \n",
    "$$\n",
    "\n",
    "得到的值我们称之为 $L$。一旦我们有了这个值，我们就可以使用我们在第 1 章中看到的所有技术来计算这个数字相对于 $W$ 的每个元素的 `梯度`。然后，我们可以使用这些导数在导致 $L$ 减小的方向上更新 $W$ 的每个元素。重复上述步骤直到我们能接受的 $L$ 为止。这个过程我们称之为 `训练` 模型。\n",
    "\n",
    "\n",
    "### Diagram\n",
    "\n",
    "\n",
    "没有偏置的情况：\n",
    "\n",
    "![Linear Regression](./images/02_linear_regression_forward.png)\n",
    "\n",
    "\n",
    "\n",
    "$L$ 值可以通过以下公式计算：\n",
    "\n",
    "$$\n",
    "L = \\Lambda(\\nu(X, W), Y)\n",
    "$$\n",
    "\n",
    "\n",
    "有偏置的情况：\n",
    "\n",
    "![Linear Regression](./images/02_linear_regression_forward_bias.png)\n",
    "\n",
    "\n",
    "计算公式：\n",
    "\n",
    "$$\n",
    "p_{batch} = x_i dot W + b = \n",
    "\\begin{bmatrix}\n",
    "x_{11} \\times w_1 + x_{12} \\times w_2 + \\cdots + x_{1k} \\times w_k + b \\\\\n",
    "x_{21} \\times w_1 + x_{22} \\times w_2 + \\cdots + x_{2k} \\times w_k + b \\\\\n",
    "x_{31} \\times w_1 + x_{32} \\times w_2 + \\cdots + x_{3k} \\times w_k + b \\\\\n",
    "\\end{bmatrix} = \n",
    "\\begin{bmatrix}\n",
    "p_1 \\\\\n",
    "p_2 \\\\\n",
    "p_3\n",
    "\\end{bmatrix}\n",
    "$$"
   ],
   "id": "2e373d1a94342eae"
  },
  {
   "cell_type": "markdown",
   "id": "2427741cd898ee91",
   "metadata": {},
   "source": [
    "### Code"
   ]
  },
  {
   "metadata": {
    "ExecuteTime": {
     "end_time": "2024-06-04T10:01:33.456430Z",
     "start_time": "2024-06-04T10:01:33.418065Z"
    }
   },
   "cell_type": "code",
   "source": [
    "import numpy as np\n",
    "from numpy import ndarray\n",
    "\n",
    "from typing import Callable, Dict, Tuple, List\n",
    "\n",
    "np.set_printoptions(precision=4)"
   ],
   "id": "2046496b",
   "outputs": [],
   "execution_count": 1
  },
  {
   "metadata": {
    "ExecuteTime": {
     "end_time": "2024-06-04T10:01:33.475285Z",
     "start_time": "2024-06-04T10:01:33.456430Z"
    }
   },
   "cell_type": "code",
   "source": [
    "%load_ext autoreload\n",
    "%autoreload 2\n",
    "TEST_ALL = False"
   ],
   "id": "3eca85f5ad6716e2",
   "outputs": [],
   "execution_count": 2
  },
  {
   "metadata": {
    "ExecuteTime": {
     "end_time": "2024-06-04T10:01:33.797450Z",
     "start_time": "2024-06-04T10:01:33.475285Z"
    }
   },
   "cell_type": "code",
   "source": [
    "import pandas as pd\n",
    "\n",
    "# New source for Boston housing data per https://scikit-learn.org/1.0/whats_new/v1.0.html#changes-1-0\n",
    "# data_url = \"http://lib.stat.cmu.edu/datasets/boston\"\n",
    "raw_df = pd.read_csv(\"./housing.csv\", sep=\"\\\\s+\", skiprows=22, header=None)"
   ],
   "id": "d63eedd80e4797e4",
   "outputs": [],
   "execution_count": 3
  },
  {
   "metadata": {
    "ExecuteTime": {
     "end_time": "2024-06-04T10:01:33.816181Z",
     "start_time": "2024-06-04T10:01:33.797450Z"
    }
   },
   "cell_type": "code",
   "source": [
    "data = np.hstack([raw_df.values[::2, :], raw_df.values[1::2, :2]])\n",
    "target = raw_df.values[1::2, 2]\n",
    "features = np.array(['CRIM', 'ZN', 'INDUS', 'CHAS', 'NOX', 'RM', 'AGE', 'DIS',\n",
    "                     'RAD', 'TAX', 'PTRATIO', 'B', 'LSTAT'])"
   ],
   "id": "121bf8d45ff5f6ae",
   "outputs": [],
   "execution_count": 4
  },
  {
   "metadata": {},
   "cell_type": "markdown",
   "source": "SciKit Learn Linear Regression",
   "id": "1b72fe88f4eaeda4"
  },
  {
   "metadata": {
    "ExecuteTime": {
     "end_time": "2024-06-04T10:01:34.864167Z",
     "start_time": "2024-06-04T10:01:33.816181Z"
    }
   },
   "cell_type": "code",
   "source": [
    "# Data prepare\n",
    "\n",
    "from sklearn.preprocessing import StandardScaler\n",
    "\n",
    "s = StandardScaler()\n",
    "data = s.fit_transform(data)\n",
    "\n",
    "from sklearn.model_selection import train_test_split\n",
    "\n",
    "X_train, X_test, y_train, y_test = train_test_split(data, target, test_size=0.3, random_state=80718)\n",
    "\n",
    "y_train, y_test = y_train.reshape(-1, 1), y_test.reshape(-1, 1)"
   ],
   "id": "e629341f6bd38285",
   "outputs": [],
   "execution_count": 5
  },
  {
   "metadata": {
    "ExecuteTime": {
     "end_time": "2024-06-04T10:01:34.968520Z",
     "start_time": "2024-06-04T10:01:34.865170Z"
    }
   },
   "cell_type": "code",
   "source": [
    "# Regression\n",
    "\n",
    "from sklearn.linear_model import LinearRegression\n",
    "\n",
    "lr = LinearRegression(fit_intercept=True)\n",
    "lr.fit(X_train, y_train)\n",
    "preds = lr.predict(X_test)"
   ],
   "id": "f6185b00626b7e24",
   "outputs": [],
   "execution_count": 6
  },
  {
   "metadata": {
    "ExecuteTime": {
     "end_time": "2024-06-04T10:01:35.297735Z",
     "start_time": "2024-06-04T10:01:34.968520Z"
    }
   },
   "cell_type": "code",
   "source": [
    "import matplotlib.pyplot as plt\n",
    "\n",
    "plt.xlabel(\"Predicted value\")\n",
    "plt.ylabel(\"Actual value\")\n",
    "plt.title(\"Predicted vs. Actual values for\\nnLinear Regression model\")\n",
    "plt.xlim([0, 51])\n",
    "plt.ylim([0, 51])\n",
    "plt.scatter(preds, y_test)\n",
    "plt.plot([0, 51], [0, 51]);\n",
    "# plt.savefig(IMG_FILEPATH + \"00_linear_real_pred_vs_actual.png\");"
   ],
   "id": "9cf7c203bae5beb9",
   "outputs": [
    {
     "data": {
      "text/plain": [
       "<Figure size 640x480 with 1 Axes>"
      ],
      "image/png": "[encoded data removed]"
     },
     "metadata": {},
     "output_type": "display_data"
    }
   ],
   "execution_count": 7
  },
  {
   "metadata": {
    "ExecuteTime": {
     "end_time": "2024-06-04T10:01:35.396570Z",
     "start_time": "2024-06-04T10:01:35.297735Z"
    }
   },
   "cell_type": "code",
   "source": [
    "# Testing changing feature\n",
    "\n",
    "plt.scatter(X_test[:, 12], y_test)\n",
    "plt.xlabel(\"Most important feature from our data\")\n",
    "plt.ylabel(\"Target\")\n",
    "plt.title(\"Relationship between most\\nimportant feature and target\");\n",
    "# plt.savefig(IMG_FILEPATH + \"02_most_important_feature_vs_target.png\")"
   ],
   "id": "991800b830b57ed8",
   "outputs": [
    {
     "data": {
      "text/plain": [
       "<Figure size 640x480 with 1 Axes>"
      ],
      "image/png": "[encoded data removed]"
     },
     "metadata": {},
     "output_type": "display_data"
    }
   ],
   "execution_count": 8
  },
  {
   "metadata": {
    "ExecuteTime": {
     "end_time": "2024-06-04T10:01:35.422987Z",
     "start_time": "2024-06-04T10:01:35.396570Z"
    }
   },
   "cell_type": "code",
   "source": [
    "# Model error\n",
    "\n",
    "def mae(preds: ndarray, actuals: ndarray):\n",
    "    \"\"\"\n",
    "    Compute mean absolute error.\n",
    "    \"\"\"\n",
    "    return np.mean(np.abs(preds - actuals))\n",
    "\n",
    "\n",
    "def rmse(preds: ndarray, actuals: ndarray):\n",
    "    \"\"\"\n",
    "    Compute root mean squared error.\n",
    "    \"\"\"\n",
    "    return np.sqrt(np.mean(np.power(preds - actuals, 2)))"
   ],
   "id": "a90e4890c1df2935",
   "outputs": [],
   "execution_count": 9
  },
  {
   "metadata": {
    "ExecuteTime": {
     "end_time": "2024-06-04T10:01:35.450241Z",
     "start_time": "2024-06-04T10:01:35.422987Z"
    }
   },
   "cell_type": "code",
   "source": [
    "print(\"Mean absolute error:\", round(mae(preds, y_test), 4), \"\\n\"\n",
    "                                                            \"Root mean squared error:\", round(rmse(preds, y_test), 4))\n",
    "\n",
    "import numpy as np\n",
    "\n",
    "np.round(lr.coef_, 2)"
   ],
   "id": "a5ec992eba5f77c6",
   "outputs": [
    {
     "name": "stdout",
     "output_type": "stream",
     "text": [
      "Mean absolute error: 0.7238 \n",
      "Root mean squared error: 1.0453\n"
     ]
    },
    {
     "data": {
      "text/plain": [
       "array([[ 0.01,  0.57,  6.11,  0.01,  0.51,  0.03, -0.06,  0.16,  0.61,\n",
       "        -0.43, -0.03, -0.12,  0.18,  0.09,  0.02, -0.65]])"
      ]
     },
     "execution_count": 10,
     "metadata": {},
     "output_type": "execute_result"
    }
   ],
   "execution_count": 10
  },
  {
   "metadata": {},
   "cell_type": "markdown",
   "source": "## Manual Linear Regression",
   "id": "cebddc7ef367d0c3"
  },
  {
   "cell_type": "code",
   "id": "c905faefc0217c83",
   "metadata": {
    "ExecuteTime": {
     "end_time": "2024-06-04T10:01:35.477609Z",
     "start_time": "2024-06-04T10:01:35.450241Z"
    }
   },
   "source": [
    "def forward_linear_regression(X_batch: ndarray,\n",
    "                              y_batch: ndarray,\n",
    "                              weights: Dict[str, ndarray]\n",
    "                              ) -> Tuple[float, Dict[str, ndarray]]:\n",
    "    \"\"\"\n",
    "    Forward pass for the step-by-step linear regression.\n",
    "    \"\"\"\n",
    "    # assert batch sizes of X and y are equal\n",
    "    assert X_batch.shape[0] == y_batch.shape[0]\n",
    "\n",
    "    # assert that matrix multiplication can work\n",
    "    assert X_batch.shape[1] == weights['W'].shape[0]\n",
    "\n",
    "    # assert that B is simply a 1x1 ndarray\n",
    "    assert weights['B'].shape[0] == weights['B'].shape[1] == 1\n",
    "\n",
    "    # compute the operations on the forward pass\n",
    "    N = np.dot(X_batch, weights['W'])\n",
    "\n",
    "    P = N + weights['B']\n",
    "\n",
    "    loss = np.mean(np.power(y_batch - P, 2))\n",
    "\n",
    "    # save the information computed on the forward pass\n",
    "    forward_info: Dict[str, ndarray] = {}\n",
    "    forward_info['X'] = X_batch\n",
    "    forward_info['N'] = N\n",
    "    forward_info['P'] = P\n",
    "    forward_info['y'] = y_batch\n",
    "\n",
    "    return loss, forward_info"
   ],
   "outputs": [],
   "execution_count": 11
  },
  {
   "metadata": {
    "ExecuteTime": {
     "end_time": "2024-06-04T10:01:35.503270Z",
     "start_time": "2024-06-04T10:01:35.477609Z"
    }
   },
   "cell_type": "code",
   "source": [
    "def to_2d_np(a: ndarray,\n",
    "             type: str = \"col\") -> ndarray:\n",
    "    \"\"\"\n",
    "    Turns a 1D Tensor into 2D\n",
    "    \"\"\"\n",
    "\n",
    "    assert a.ndim == 1, \\\n",
    "        \"Input tensors must be 1 dimensional\"\n",
    "\n",
    "    if type == \"col\":\n",
    "        return a.reshape(-1, 1)\n",
    "    elif type == \"row\":\n",
    "        return a.reshape(1, -1)\n",
    "\n",
    "\n",
    "def permute_data(X: ndarray, y: ndarray):\n",
    "    \"\"\"\n",
    "    Permute X and y, using the same permutation, along axis=0\n",
    "    \"\"\"\n",
    "    perm = np.random.permutation(X.shape[0])\n",
    "    return X[perm], y[perm]"
   ],
   "id": "c4740fb960d07abd",
   "outputs": [],
   "execution_count": 12
  },
  {
   "metadata": {
    "ExecuteTime": {
     "end_time": "2024-06-04T10:01:35.529572Z",
     "start_time": "2024-06-04T10:01:35.503270Z"
    }
   },
   "cell_type": "code",
   "source": [
    "def loss_gradients(forward_info: Dict[str, ndarray],\n",
    "                   weights: Dict[str, ndarray]) -> Dict[str, ndarray]:\n",
    "    \"\"\"\n",
    "    Compute dLdW and dLdB for the step-by-step linear regression model.\n",
    "    \"\"\"\n",
    "    batch_size = forward_info['X'].shape[0]\n",
    "\n",
    "    # L(P,Y) = (Y -P)^2 的偏导数\n",
    "    dLdP = -2 * (forward_info['y'] - forward_info['P'])\n",
    "\n",
    "    # N 是求和，所以偏导数是 1\n",
    "    dPdN = np.ones_like(forward_info['N'])\n",
    "\n",
    "    # 偏置 B 也是加，所以偏导数是 1\n",
    "    dPdB = np.ones_like(weights['B'])\n",
    "\n",
    "    # L 对 N 的偏导数就是上述相乘\n",
    "    dLdN = dLdP * dPdN\n",
    "\n",
    "    # (X, W) 对 W 的偏导数是 X 的转置\n",
    "    dNdW = np.transpose(forward_info['X'], (1, 0))\n",
    "\n",
    "    # need to use matrix multiplication here,\n",
    "    # with dNdW on the left (see note at the end of last chapter)    \n",
    "    dLdW = np.dot(dNdW, dLdN)\n",
    "\n",
    "    # need to sum along dimension representing the batch size:\n",
    "    # see note near the end of the chapter    \n",
    "    dLdB = (dLdP * dPdB).sum(axis=0)\n",
    "\n",
    "    loss_gradients: Dict[str, ndarray] = {}\n",
    "    loss_gradients['W'] = dLdW\n",
    "    loss_gradients['B'] = dLdB\n",
    "\n",
    "    return loss_gradients"
   ],
   "id": "62781b943fdb3170",
   "outputs": [],
   "execution_count": 13
  },
  {
   "metadata": {
    "ExecuteTime": {
     "end_time": "2024-06-04T10:01:35.557045Z",
     "start_time": "2024-06-04T10:01:35.529572Z"
    }
   },
   "cell_type": "code",
   "source": [
    "Batch = Tuple[ndarray, ndarray]\n",
    "\n",
    "\n",
    "def generate_batch(X: ndarray,\n",
    "                   y: ndarray,\n",
    "                   start: int = 0,\n",
    "                   batch_size: int = 10) -> Batch:\n",
    "    \"\"\"\n",
    "    Generate batch from X and y, given a start position\n",
    "    \"\"\"\n",
    "    assert X.ndim == y.ndim == 2, \\\n",
    "        \"X and Y must be 2 dimensional\"\n",
    "\n",
    "    if start + batch_size > X.shape[0]:\n",
    "        batch_size = X.shape[0] - start\n",
    "\n",
    "    X_batch, y_batch = X[start:start + batch_size], y[start:start + batch_size]\n",
    "\n",
    "    return X_batch, y_batch\n",
    "\n",
    "\n",
    "def forward_loss(X: ndarray,\n",
    "                 y: ndarray,\n",
    "                 weights: Dict[str, ndarray]) -> Tuple[Dict[str, ndarray], float]:\n",
    "    \"\"\"\n",
    "    Generate predictions and calculate loss for a step-by-step linear regression\n",
    "    (used mostly during inference).\n",
    "    \"\"\"\n",
    "    N = np.dot(X, weights['W'])\n",
    "\n",
    "    P = N + weights['B']\n",
    "\n",
    "    loss = np.mean(np.power(y - P, 2))\n",
    "\n",
    "    forward_info: Dict[str, ndarray] = {}\n",
    "    forward_info['X'] = X\n",
    "    forward_info['N'] = N\n",
    "    forward_info['P'] = P\n",
    "    forward_info['y'] = y\n",
    "\n",
    "    return forward_info, loss\n",
    "\n",
    "\n",
    "def init_weights(n_in: int) -> Dict[str, ndarray]:\n",
    "    \"\"\"\n",
    "    Initialize weights on first forward pass of model.\n",
    "    \"\"\"\n",
    "\n",
    "    weights: Dict[str, ndarray] = {}\n",
    "    W = np.random.randn(n_in, 1)\n",
    "    B = np.random.randn(1, 1)\n",
    "\n",
    "    weights['W'] = W\n",
    "    weights['B'] = B\n",
    "\n",
    "    return weights"
   ],
   "id": "bbb4d3fbaaf2081c",
   "outputs": [],
   "execution_count": 14
  },
  {
   "metadata": {
    "ExecuteTime": {
     "end_time": "2024-06-04T10:01:35.583986Z",
     "start_time": "2024-06-04T10:01:35.557045Z"
    }
   },
   "cell_type": "code",
   "source": [
    "def train(X: ndarray,\n",
    "          y: ndarray,\n",
    "          n_iter: int = 1000,\n",
    "          learning_rate: float = 0.01,\n",
    "          batch_size: int = 100,\n",
    "          return_losses: bool = False,\n",
    "          return_weights: bool = False,\n",
    "          seed: int = 1) -> None:\n",
    "    \"\"\"\n",
    "    Train model for a certain number of epochs.\n",
    "    \"\"\"\n",
    "    if seed:\n",
    "        np.random.seed(seed)\n",
    "    start = 0\n",
    "\n",
    "    # Initialize weights\n",
    "    weights = init_weights(X.shape[1])\n",
    "\n",
    "    # Permute data\n",
    "    X, y = permute_data(X, y)\n",
    "\n",
    "    if return_losses:\n",
    "        losses = []\n",
    "\n",
    "    for i in range(n_iter):\n",
    "\n",
    "        # Generate batch\n",
    "        if start >= X.shape[0]:\n",
    "            X, y = permute_data(X, y)\n",
    "            start = 0\n",
    "\n",
    "        X_batch, y_batch = generate_batch(X, y, start, batch_size)\n",
    "        start += batch_size\n",
    "\n",
    "        # Train net using generated batch\n",
    "        forward_info, loss = forward_loss(X_batch, y_batch, weights)\n",
    "\n",
    "        if return_losses:\n",
    "            losses.append(loss)\n",
    "\n",
    "        loss_grads = loss_gradients(forward_info, weights)\n",
    "        for key in weights.keys():\n",
    "            weights[key] -= learning_rate * loss_grads[key]\n",
    "\n",
    "    if return_weights:\n",
    "        return losses, weights\n",
    "\n",
    "    return None"
   ],
   "id": "1074d733fada9ac5",
   "outputs": [],
   "execution_count": 15
  },
  {
   "cell_type": "markdown",
   "id": "95f512dad8fda9e0",
   "metadata": {},
   "source": "### 模型训练"
  },
  {
   "metadata": {
    "ExecuteTime": {
     "end_time": "2024-06-04T10:01:35.627227Z",
     "start_time": "2024-06-04T10:01:35.583986Z"
    }
   },
   "cell_type": "code",
   "source": [
    "train_info = train(X_train, y_train,\n",
    "                   n_iter=1000,\n",
    "                   learning_rate=0.001,\n",
    "                   batch_size=23,\n",
    "                   return_losses=True,\n",
    "                   return_weights=True,\n",
    "                   seed=180708)\n",
    "losses = train_info[0]\n",
    "weights = train_info[1]"
   ],
   "id": "b3b47e78416e52c8",
   "outputs": [],
   "execution_count": 16
  },
  {
   "metadata": {
    "ExecuteTime": {
     "end_time": "2024-06-04T10:01:35.711718Z",
     "start_time": "2024-06-04T10:01:35.627227Z"
    }
   },
   "cell_type": "code",
   "source": "plt.plot(list(range(1000)), losses);",
   "id": "9bc211ba79a8ec5c",
   "outputs": [
    {
     "data": {
      "text/plain": [
       "<Figure size 640x480 with 1 Axes>"
      ],
      "image/png": "[encoded data removed]"
     },
     "metadata": {},
     "output_type": "display_data"
    }
   ],
   "execution_count": 17
  },
  {
   "metadata": {
    "ExecuteTime": {
     "end_time": "2024-06-04T10:01:35.738181Z",
     "start_time": "2024-06-04T10:01:35.712722Z"
    }
   },
   "cell_type": "code",
   "source": [
    "def predict(X: ndarray,\n",
    "            weights: Dict[str, ndarray]):\n",
    "    \"\"\"\n",
    "    Generate predictions from the step-by-step linear regression model.\n",
    "    \"\"\"\n",
    "\n",
    "    N = np.dot(X, weights['W'])\n",
    "\n",
    "    return N + weights['B']\n",
    "\n",
    "\n",
    "preds = predict(X_test, weights)\n",
    "\n",
    "print(\"Mean absolute error:\", round(mae(preds, y_test), 4), \"\\n\"\n",
    "                                                            \"Root mean squared error:\", round(rmse(preds, y_test), 4))"
   ],
   "id": "b7cf3b759df845d1",
   "outputs": [
    {
     "name": "stdout",
     "output_type": "stream",
     "text": [
      "Mean absolute error: 0.72 \n",
      "Root mean squared error: 1.0444\n"
     ]
    }
   ],
   "execution_count": 18
  },
  {
   "metadata": {
    "ExecuteTime": {
     "end_time": "2024-06-04T10:01:35.764189Z",
     "start_time": "2024-06-04T10:01:35.738181Z"
    }
   },
   "cell_type": "code",
   "source": "np.round(y_test.mean(), 4)",
   "id": "d044e9003be4ea16",
   "outputs": [
    {
     "data": {
      "text/plain": [
       "10.9875"
      ]
     },
     "execution_count": 19,
     "metadata": {},
     "output_type": "execute_result"
    }
   ],
   "execution_count": 19
  },
  {
   "metadata": {
    "ExecuteTime": {
     "end_time": "2024-06-04T10:01:35.790078Z",
     "start_time": "2024-06-04T10:01:35.764693Z"
    }
   },
   "cell_type": "code",
   "source": "np.round(rmse(preds, y_test) / y_test.mean(), 4)",
   "id": "7a9e251cd9d7e25d",
   "outputs": [
    {
     "data": {
      "text/plain": [
       "0.095"
      ]
     },
     "execution_count": 20,
     "metadata": {},
     "output_type": "execute_result"
    }
   ],
   "execution_count": 20
  },
  {
   "metadata": {
    "ExecuteTime": {
     "end_time": "2024-06-04T10:01:35.883504Z",
     "start_time": "2024-06-04T10:01:35.790078Z"
    }
   },
   "cell_type": "code",
   "source": [
    "plt.xlabel(\"Predicted value\")\n",
    "plt.ylabel(\"Actual value\")\n",
    "plt.title(\"Predicted vs. Actual values for\\ncustom linear regression model\");\n",
    "plt.xlim([0, 51])\n",
    "plt.ylim([0, 51])\n",
    "plt.scatter(preds, y_test)\n",
    "plt.plot([0, 51], [0, 51]);\n",
    "# plt.savefig(GRAPHS_IMG_FILEPATH + \"01_linear_custom_pred_vs_actual.png\");"
   ],
   "id": "3b813d6d618e6f72",
   "outputs": [
    {
     "data": {
      "text/plain": [
       "<Figure size 640x480 with 1 Axes>"
      ],
      "image/png": "[encoded data removed]"
     },
     "metadata": {},
     "output_type": "display_data"
    }
   ],
   "execution_count": 21
  },
  {
   "cell_type": "markdown",
   "id": "1dc3c60bd0bef9bb",
   "metadata": {},
   "source": "### 模型评估"
  },
  {
   "metadata": {
    "ExecuteTime": {
     "end_time": "2024-06-04T10:01:35.909703Z",
     "start_time": "2024-06-04T10:01:35.883504Z"
    }
   },
   "cell_type": "code",
   "source": [
    "NUM = 40\n",
    "a = np.repeat(X_test[:, :-1].mean(axis=0, keepdims=True), NUM, axis=0)\n",
    "b = np.linspace(-1.5, 3.5, NUM).reshape(NUM, 1)\n",
    "\n",
    "test_feature = np.concatenate([a, b], axis=1)\n",
    "test_preds = predict(test_feature, weights)[:, 0]"
   ],
   "id": "a3110b4588b5eca8",
   "outputs": [],
   "execution_count": 22
  },
  {
   "metadata": {
    "ExecuteTime": {
     "end_time": "2024-06-04T10:01:36.011533Z",
     "start_time": "2024-06-04T10:01:35.910212Z"
    }
   },
   "cell_type": "code",
   "source": [
    "plt.scatter(X_test[:, 12], y_test)\n",
    "plt.plot(np.array(test_feature[:, -1]), test_preds, linewidth=2, c='orange')\n",
    "plt.ylim([6, 51])\n",
    "plt.xlabel(\"Most important feature (normalized)\")\n",
    "plt.ylabel(\"Target/Predictions\")\n",
    "plt.title(\"Most important feature vs. target and predictions,\\n custom linear regression\");\n",
    "# plt.savefig(GRAPHS_IMG_FILEPATH + \"03_most_important_feature_vs_predictions.png\")"
   ],
   "id": "315d0fcbb5991c5a",
   "outputs": [
    {
     "data": {
      "text/plain": [
       "<Figure size 640x480 with 1 Axes>"
      ],
      "image/png": "[encoded data removed]"
     },
     "metadata": {},
     "output_type": "display_data"
    }
   ],
   "execution_count": 23
  },
  {
   "metadata": {},
   "cell_type": "markdown",
   "source": "上图也显示了线性回归的限制：它只能捕捉到线性关系。在这种情况下，我们可以看到，当最重要的特征增加时，目标值也会增加。但是，我们的模型无法捕捉到这种关系的变化。这就是为什么我们需要更复杂的模型，比如神经网络。",
   "id": "465b544c40254d95"
  },
  {
   "metadata": {},
   "cell_type": "markdown",
   "source": [
    "### 一些系数\n",
    "\n",
    "系数越大意味着特征对目标的影响越大，也就越重要。"
   ],
   "id": "3a05b314a0490ce0"
  },
  {
   "metadata": {
    "ExecuteTime": {
     "end_time": "2024-06-04T10:01:36.037662Z",
     "start_time": "2024-06-04T10:01:36.011533Z"
    }
   },
   "cell_type": "code",
   "source": [
    "\n",
    "np.round(weights['W'].reshape(-1), 4)"
   ],
   "id": "4ee9122a6b4c5455",
   "outputs": [
    {
     "data": {
      "text/plain": [
       "array([ 1.5800e-02,  5.4890e-01,  6.0833e+00,  2.1100e-02,  5.5050e-01,\n",
       "        1.6100e-02, -4.4800e-02,  1.5910e-01,  5.2620e-01, -2.9800e-01,\n",
       "       -5.5000e-03, -1.3160e-01,  2.0870e-01,  1.0570e-01,  3.4000e-02,\n",
       "       -6.8410e-01])"
      ]
     },
     "execution_count": 24,
     "metadata": {},
     "output_type": "execute_result"
    }
   ],
   "execution_count": 24
  },
  {
   "metadata": {
    "ExecuteTime": {
     "end_time": "2024-06-04T10:01:53.133305Z",
     "start_time": "2024-06-04T10:01:53.106968Z"
    }
   },
   "cell_type": "code",
   "source": "np.round(lr.coef_, 4)",
   "id": "bc5843f8453257fb",
   "outputs": [
    {
     "data": {
      "text/plain": [
       "array([[ 5.4000e-03,  5.7030e-01,  6.1083e+00,  1.0900e-02,  5.1060e-01,\n",
       "         2.8700e-02, -6.3900e-02,  1.6180e-01,  6.1380e-01, -4.2820e-01,\n",
       "        -3.3100e-02, -1.2100e-01,  1.7780e-01,  8.8500e-02,  1.5900e-02,\n",
       "        -6.4750e-01]])"
      ]
     },
     "execution_count": 25,
     "metadata": {},
     "output_type": "execute_result"
    }
   ],
   "execution_count": 25
  },
  {
   "metadata": {
    "ExecuteTime": {
     "end_time": "2024-06-04T10:02:08.831025Z",
     "start_time": "2024-06-04T10:02:08.804549Z"
    }
   },
   "cell_type": "code",
   "source": "np.round(weights['B'], 4)",
   "id": "c853679d3e99161",
   "outputs": [
    {
     "data": {
      "text/plain": [
       "array([[11.3218]])"
      ]
     },
     "execution_count": 26,
     "metadata": {},
     "output_type": "execute_result"
    }
   ],
   "execution_count": 26
  },
  {
   "metadata": {
    "ExecuteTime": {
     "end_time": "2024-06-04T10:02:19.422071Z",
     "start_time": "2024-06-04T10:02:19.396048Z"
    }
   },
   "cell_type": "code",
   "source": "np.round(lr.intercept_, 4)",
   "id": "6fa18273c70f93b7",
   "outputs": [
    {
     "data": {
      "text/plain": [
       "array([11.3405])"
      ]
     },
     "execution_count": 27,
     "metadata": {},
     "output_type": "execute_result"
    }
   ],
   "execution_count": 27
  },
  {
   "metadata": {},
   "cell_type": "markdown",
   "source": "### 特征与目标之间的理论关系",
   "id": "bd919b6de890d380"
  },
  {
   "metadata": {
    "ExecuteTime": {
     "end_time": "2024-06-04T10:08:26.575801Z",
     "start_time": "2024-06-04T10:08:26.489742Z"
    }
   },
   "cell_type": "code",
   "source": [
    "NUM = 40\n",
    "a = np.repeat(X_test[:, :-1].mean(axis=0, keepdims=True), NUM, axis=0)\n",
    "b = np.linspace(-1.5, 3.5, NUM).reshape(NUM, 1)\n",
    "\n",
    "test_feature = np.concatenate([a, b], axis=1)\n",
    "preds = predict(test_feature, weights)[:, 0]\n",
    "\n",
    "plt.scatter(np.array(test_feature[:, -1]), np.array(preds))\n",
    "plt.ylim([6, 51])\n",
    "# plt.savefig(GRAPHS_IMG_FILEPATH + \"/04_relationship_most_impt_feat_preds.png\")"
   ],
   "id": "32d97fa0b308ac4b",
   "outputs": [
    {
     "data": {
      "text/plain": [
       "(6.0, 51.0)"
      ]
     },
     "execution_count": 28,
     "metadata": {},
     "output_type": "execute_result"
    },
    {
     "data": {
      "text/plain": [
       "<Figure size 640x480 with 1 Axes>"
      ],
      "image/png": "[encoded data removed]"
     },
     "metadata": {},
     "output_type": "display_data"
    }
   ],
   "execution_count": 28
  },
  {
   "cell_type": "markdown",
   "id": "88c819d6627a68b0",
   "metadata": {},
   "source": [
    "## 从零开始的神经网络\n",
    "\n",
    "核心思想是：首先进行一系列线性回归操作，然后将其结果传递给非线性函数，最后再次进行线性回归操作，最终做出预测。这就是神经网络的基本结构。"
   ]
  },
  {
   "metadata": {},
   "cell_type": "markdown",
   "source": [
    "### 第一步：一系列线性回归\n",
    "\n",
    "一个线性回归涉及到对一组参数进行矩阵相乘操作，也就是：如果数据 $X$ 有维度：[batch_size, num_features]，将其与拥有维度：[num_features, 1] 的权重矩阵 $W$相乘，获得一个维度为：[batch_size, 1] 的输出。这个输出只是批量中的一个样本的预测值。\n",
    "对于多个线性回归操作，那么权重矩阵的维度为：[num_features, num_outputs]，输出的维度为：[batch_size, num_outputs]。\n",
    "\n",
    "我们会问，这些权重和都是什么？应该将它们总的每一个都视为“学习到的特征”，也就是原始特征的组合。一旦网络经过训练，其代表的就是特征数据的组合，这些组合数据将用于预测目标。"
   ],
   "id": "1da9e78462fb0419"
  },
  {
   "metadata": {},
   "cell_type": "markdown",
   "source": [
    "### 第二步：非线性函数\n",
    "\n",
    "将上述第一步得到的权重和的每一项，都传递给一个非线性函数，这里选择 `sigmoid`：\n",
    "$$\n",
    "sigmoid(x) = \\frac{1}{1 + e^{-x}}\n",
    "$$\n",
    "\n",
    "\n",
    "选择非线性函数的要求：\n",
    "- 单调\n",
    "- 非线性\n",
    "\n",
    "`sigmoid` 函数是一个常用的非线性函数，它的输出值在 0 到 1 之间，这样可以很好地表示概率，同时它的导数也很容易计算：\n",
    "$$\n",
    "\\frac{\\partial \\sigma}{\\partial u}(x) = \\sigma(x) \\times (1 - \\sigma(x))\n",
    "$$"
   ],
   "id": "cf437cd9d6f18834"
  },
  {
   "metadata": {
    "ExecuteTime": {
     "end_time": "2024-06-04T10:27:06.362190Z",
     "start_time": "2024-06-04T10:27:06.221701Z"
    }
   },
   "cell_type": "code",
   "source": [
    "def sigmoid(x: ndarray) -> ndarray:\n",
    "    return 1 / (1 + np.exp(-1.0 * x))\n",
    "\n",
    "\n",
    "plt.plot(np.arange(-5, 5, 0.01),\n",
    "         sigmoid(np.arange(-5, 5, 0.01)));\n",
    "plt.title(\"Sigmoid function plotted from x=-5 to x=5\")\n",
    "plt.xlabel(\"X\")\n",
    "plt.ylabel(\"$sigmoid(x)$\");\n",
    "# plt.savefig(GRAPHS_IMG_FILEPATH + \"05_sigmoid_function.png\")"
   ],
   "id": "dcc5032836d83af3",
   "outputs": [
    {
     "data": {
      "text/plain": [
       "<Figure size 640x480 with 1 Axes>"
      ],
      "image/png": "[encoded data removed]"
     },
     "metadata": {},
     "output_type": "display_data"
    }
   ],
   "execution_count": 29
  },
  {
   "metadata": {},
   "cell_type": "markdown",
   "source": [
    "### 其他的线性回归\n",
    "\n",
    "我们将数据传递给模型，利用链式法则计算梯度，使用梯度下降法更新权重来减少损失，在每次迭代时朝着减少损失的方向更新权重。随着时间的推移（我们希望），我们最终会得到一个比以前更准确的模型，一个已经 \"学会 \"特征与目标之间固有的非线性关系的模型。"
   ],
   "id": "ae3278caf00367b1"
  },
  {
   "metadata": {},
   "cell_type": "markdown",
   "source": [
    "### Diagram\n",
    "\n",
    "![Neural Network](./images/02_computational_graph.png)"
   ],
   "id": "8e184523991702f6"
  },
  {
   "metadata": {
    "ExecuteTime": {
     "end_time": "2024-06-04T11:14:25.674561Z",
     "start_time": "2024-06-04T11:14:25.645836Z"
    }
   },
   "cell_type": "code",
   "source": [
    "def init_weights(input_size: int,\n",
    "                 hidden_size: int) -> Dict[str, ndarray]:\n",
    "    \"\"\"\n",
    "    Initialize weights during the forward pass for step-by-step neural network model.\n",
    "    \"\"\"\n",
    "    weights: Dict[str, ndarray] = {}\n",
    "    weights['W1'] = np.random.randn(input_size, hidden_size)\n",
    "    weights['B1'] = np.random.randn(1, hidden_size)\n",
    "    weights['W2'] = np.random.randn(hidden_size, 1)\n",
    "    weights['B2'] = np.random.randn(1, 1)\n",
    "    return weights"
   ],
   "id": "c20f521549a6f6da",
   "outputs": [],
   "execution_count": 30
  },
  {
   "metadata": {
    "ExecuteTime": {
     "end_time": "2024-06-04T11:14:26.985732Z",
     "start_time": "2024-06-04T11:14:26.957699Z"
    }
   },
   "cell_type": "code",
   "source": [
    "def forward_loss(X: ndarray,\n",
    "                 y: ndarray,\n",
    "                 weights: Dict[str, ndarray]\n",
    "                 ) -> Tuple[Dict[str, ndarray], float]:\n",
    "    \"\"\"\n",
    "    Compute the forward pass and the loss for the step-by-step \n",
    "    neural network model.     \n",
    "    \"\"\"\n",
    "    M1 = np.dot(X, weights['W1'])\n",
    "\n",
    "    N1 = M1 + weights['B1']\n",
    "\n",
    "    O1 = sigmoid(N1)\n",
    "\n",
    "    M2 = np.dot(O1, weights['W2'])\n",
    "\n",
    "    P = M2 + weights['B2']\n",
    "\n",
    "    loss = np.mean(np.power(y - P, 2))\n",
    "\n",
    "    forward_info: Dict[str, ndarray] = {}\n",
    "    forward_info['X'] = X\n",
    "    forward_info['M1'] = M1\n",
    "    forward_info['N1'] = N1\n",
    "    forward_info['O1'] = O1\n",
    "    forward_info['M2'] = M2\n",
    "    forward_info['P'] = P\n",
    "    forward_info['y'] = y\n",
    "\n",
    "    return forward_info, loss"
   ],
   "id": "c4f7cd49f9f2b28b",
   "outputs": [],
   "execution_count": 31
  },
  {
   "metadata": {},
   "cell_type": "markdown",
   "source": [
    "### Backward Pass\n",
    "![Backward Pass](./images/02_partial_backward_pass.png)\n",
    "\n",
    "![Backward Pass Explain](./images/02_partial_backward_pass_explain.png)"
   ],
   "id": "b36e00d6184670d6"
  },
  {
   "metadata": {
    "ExecuteTime": {
     "end_time": "2024-06-04T11:14:29.260258Z",
     "start_time": "2024-06-04T11:14:29.230996Z"
    }
   },
   "cell_type": "code",
   "source": [
    "def loss_gradients(forward_info: Dict[str, ndarray],\n",
    "                   weights: Dict[str, ndarray]) -> Dict[str, ndarray]:\n",
    "    \"\"\"\n",
    "    Compute the partial derivatives of the loss with respect to each of the parameters in the neural network.\n",
    "    \"\"\"\n",
    "    dLdP = -(forward_info['y'] - forward_info['P'])\n",
    "\n",
    "    dPdM2 = np.ones_like(forward_info['M2'])\n",
    "\n",
    "    dLdM2 = dLdP * dPdM2\n",
    "\n",
    "    dPdB2 = np.ones_like(weights['B2'])\n",
    "\n",
    "    dLdB2 = (dLdP * dPdB2).sum(axis=0)\n",
    "\n",
    "    dM2dW2 = np.transpose(forward_info['O1'], (1, 0))\n",
    "\n",
    "    dLdW2 = np.dot(dM2dW2, dLdP)\n",
    "\n",
    "    dM2dO1 = np.transpose(weights['W2'], (1, 0))\n",
    "\n",
    "    dLdO1 = np.dot(dLdM2, dM2dO1)\n",
    "\n",
    "    dO1dN1 = sigmoid(forward_info['N1']) * (1 - sigmoid(forward_info['N1']))\n",
    "\n",
    "    dLdN1 = dLdO1 * dO1dN1\n",
    "\n",
    "    dN1dB1 = np.ones_like(weights['B1'])\n",
    "\n",
    "    dN1dM1 = np.ones_like(forward_info['M1'])\n",
    "\n",
    "    dLdB1 = (dLdN1 * dN1dB1).sum(axis=0)\n",
    "\n",
    "    dLdM1 = dLdN1 * dN1dM1\n",
    "\n",
    "    dM1dW1 = np.transpose(forward_info['X'], (1, 0))\n",
    "\n",
    "    dLdW1 = np.dot(dM1dW1, dLdM1)\n",
    "\n",
    "    loss_gradients: Dict[str, ndarray] = {}\n",
    "    loss_gradients['W2'] = dLdW2\n",
    "    loss_gradients['B2'] = dLdB2.sum(axis=0)\n",
    "    loss_gradients['W1'] = dLdW1\n",
    "    loss_gradients['B1'] = dLdB1.sum(axis=0)\n",
    "\n",
    "    return loss_gradients"
   ],
   "id": "8e41ba0a1e5486ce",
   "outputs": [],
   "execution_count": 32
  },
  {
   "metadata": {
    "ExecuteTime": {
     "end_time": "2024-06-04T11:14:31.958782Z",
     "start_time": "2024-06-04T11:14:31.933399Z"
    }
   },
   "cell_type": "code",
   "source": [
    "def predict(X: ndarray,\n",
    "            weights: Dict[str, ndarray]) -> ndarray:\n",
    "    \"\"\"\n",
    "    Generate predictions from the step-by-step neural network model. \n",
    "    \"\"\"\n",
    "    M1 = np.dot(X, weights['W1'])\n",
    "\n",
    "    N1 = M1 + weights['B1']\n",
    "\n",
    "    O1 = sigmoid(N1)\n",
    "\n",
    "    M2 = np.dot(O1, weights['W2'])\n",
    "\n",
    "    P = M2 + weights['B2']\n",
    "\n",
    "    return P"
   ],
   "id": "2570ad6309a967ad",
   "outputs": [],
   "execution_count": 33
  },
  {
   "metadata": {
    "ExecuteTime": {
     "end_time": "2024-06-04T11:14:34.581163Z",
     "start_time": "2024-06-04T11:14:34.556253Z"
    }
   },
   "cell_type": "code",
   "source": [
    "from sklearn.metrics import r2_score\n",
    "\n",
    "\n",
    "def r2_score_lr(learning_rate):\n",
    "    train_info = train(X_train, y_train, X_test, y_test,\n",
    "                       n_iter=100000,\n",
    "                       test_every=100000,\n",
    "                       learning_rate=learning_rate,\n",
    "                       batch_size=23,\n",
    "                       return_losses=False,\n",
    "                       return_weights=True,\n",
    "                       return_scores=False,\n",
    "                       seed=80718)\n",
    "    weights = train_info[1]\n",
    "    preds = predict(X_test, weights)\n",
    "    return r2_score(y_test, preds)"
   ],
   "id": "1258c7f1e50de12e",
   "outputs": [],
   "execution_count": 34
  },
  {
   "metadata": {
    "ExecuteTime": {
     "end_time": "2024-06-04T11:14:36.248756Z",
     "start_time": "2024-06-04T11:14:36.222892Z"
    }
   },
   "cell_type": "code",
   "source": [
    "def train(X_train: ndarray, y_train: ndarray,\n",
    "          X_test: ndarray, y_test: ndarray,\n",
    "          n_iter: int = 1000,\n",
    "          test_every: int = 1000,\n",
    "          learning_rate: float = 0.01,\n",
    "          hidden_size=13,\n",
    "          batch_size: int = 100,\n",
    "          return_losses: bool = False,\n",
    "          return_weights: bool = False,\n",
    "          return_scores: bool = False,\n",
    "          seed: int = 1):\n",
    "    if seed:\n",
    "        np.random.seed(seed)\n",
    "\n",
    "    start = 0\n",
    "\n",
    "    # Initialize weights\n",
    "    weights = init_weights(X_train.shape[1],\n",
    "                           hidden_size=hidden_size)\n",
    "\n",
    "    # Permute data\n",
    "    X_train, y_train = permute_data(X_train, y_train)\n",
    "\n",
    "    losses = []\n",
    "\n",
    "    val_scores = []\n",
    "\n",
    "    for i in range(n_iter):\n",
    "\n",
    "        # Generate batch\n",
    "        if start >= X_train.shape[0]:\n",
    "            X_train, y_train = permute_data(X_train, y_train)\n",
    "            start = 0\n",
    "\n",
    "        X_batch, y_batch = generate_batch(X_train, y_train, start, batch_size)\n",
    "        start += batch_size\n",
    "\n",
    "        # Train net using generated batch\n",
    "        forward_info, loss = forward_loss(X_batch, y_batch, weights)\n",
    "\n",
    "        if return_losses:\n",
    "            losses.append(loss)\n",
    "\n",
    "        loss_grads = loss_gradients(forward_info, weights)\n",
    "        for key in weights.keys():\n",
    "            weights[key] -= learning_rate * loss_grads[key]\n",
    "\n",
    "        if return_scores:\n",
    "            if i % test_every == 0 and i != 0:\n",
    "                val_scores.append(r2_score(preds, y_test))\n",
    "\n",
    "    if return_weights:\n",
    "        return losses, weights, val_scores\n",
    "\n",
    "    return None, None, None"
   ],
   "id": "9868dbf18f5c4b26",
   "outputs": [],
   "execution_count": 35
  },
  {
   "metadata": {
    "ExecuteTime": {
     "end_time": "2024-06-04T11:14:40.495219Z",
     "start_time": "2024-06-04T11:14:40.469651Z"
    }
   },
   "cell_type": "code",
   "source": [
    "if TEST_ALL:\n",
    "    num_iter = 10000\n",
    "    test_every = 1000\n",
    "    train_info = train(X_train, y_train, X_test, y_test,\n",
    "                       n_iter=num_iter,\n",
    "                       test_every=test_every,\n",
    "                       learning_rate=0.001,\n",
    "                       batch_size=23,\n",
    "                       return_losses=False,\n",
    "                       return_weights=True,\n",
    "                       return_scores=False,\n",
    "                       seed=80718)\n",
    "    losses = train_info[0]\n",
    "    weights = train_info[1]\n",
    "    val_scores = train_info[2]"
   ],
   "id": "4fdecf60fb6cc447",
   "outputs": [],
   "execution_count": 36
  },
  {
   "metadata": {
    "ExecuteTime": {
     "end_time": "2024-06-04T11:15:31.060103Z",
     "start_time": "2024-06-04T11:15:31.035844Z"
    }
   },
   "cell_type": "code",
   "source": [
    "if TEST_ALL:\n",
    "    lrs = np.geomspace(1e-2, 1e-6, num=20)"
   ],
   "id": "78f2bf82dde2e4d8",
   "outputs": [],
   "execution_count": 37
  },
  {
   "metadata": {
    "ExecuteTime": {
     "end_time": "2024-06-04T11:15:32.327601Z",
     "start_time": "2024-06-04T11:15:32.301898Z"
    }
   },
   "cell_type": "code",
   "source": [
    "if TEST_ALL:\n",
    "    r2s = [r2_score_lr(lr) for lr in lrs]"
   ],
   "id": "9e41840ed306f59f",
   "outputs": [],
   "execution_count": 38
  },
  {
   "metadata": {
    "ExecuteTime": {
     "end_time": "2024-06-04T11:15:33.351794Z",
     "start_time": "2024-06-04T11:15:33.327302Z"
    }
   },
   "cell_type": "code",
   "source": [
    "if TEST_ALL:\n",
    "    plt.semilogx(lrs, r2s)"
   ],
   "id": "4e0106093f83bb4f",
   "outputs": [],
   "execution_count": 39
  },
  {
   "metadata": {
    "ExecuteTime": {
     "end_time": "2024-06-04T11:15:51.123366Z",
     "start_time": "2024-06-04T11:15:50.622588Z"
    }
   },
   "cell_type": "code",
   "source": [
    "train_info = train(X_train, y_train, X_test, y_test,\n",
    "                   n_iter=10000,\n",
    "                   test_every=1000,\n",
    "                   learning_rate=0.001,\n",
    "                   batch_size=23,\n",
    "                   return_losses=True,\n",
    "                   return_weights=True,\n",
    "                   return_scores=False,\n",
    "                   seed=180807)\n",
    "losses = train_info[0]\n",
    "weights = train_info[1]\n",
    "\n",
    "plt.plot(list(range(10000)), losses);"
   ],
   "id": "43af8a2ddeacbb2d",
   "outputs": [
    {
     "data": {
      "text/plain": [
       "<Figure size 640x480 with 1 Axes>"
      ],
      "image/png": "[encoded data removed]"
     },
     "metadata": {},
     "output_type": "display_data"
    }
   ],
   "execution_count": 40
  },
  {
   "metadata": {
    "ExecuteTime": {
     "end_time": "2024-06-04T11:16:35.349177Z",
     "start_time": "2024-06-04T11:16:35.323540Z"
    }
   },
   "cell_type": "code",
   "source": "preds = predict(X_test, weights)",
   "id": "9460e5bdc1ffd6fa",
   "outputs": [],
   "execution_count": 41
  },
  {
   "metadata": {
    "ExecuteTime": {
     "end_time": "2024-06-04T11:16:41.899907Z",
     "start_time": "2024-06-04T11:16:41.874401Z"
    }
   },
   "cell_type": "code",
   "source": "weights['W2']",
   "id": "3077c4f55925f4c4",
   "outputs": [
    {
     "data": {
      "text/plain": [
       "array([[ 3.4872],\n",
       "       [-3.6508],\n",
       "       [ 3.4954],\n",
       "       [ 3.5451],\n",
       "       [ 3.8473],\n",
       "       [ 4.0569],\n",
       "       [ 2.2605],\n",
       "       [ 3.3285],\n",
       "       [-5.2851],\n",
       "       [ 2.9471],\n",
       "       [ 3.2065],\n",
       "       [ 2.5251],\n",
       "       [-3.3268]])"
      ]
     },
     "execution_count": 42,
     "metadata": {},
     "output_type": "execute_result"
    }
   ],
   "execution_count": 42
  },
  {
   "metadata": {
    "ExecuteTime": {
     "end_time": "2024-06-04T11:17:57.370525Z",
     "start_time": "2024-06-04T11:17:57.344831Z"
    }
   },
   "cell_type": "code",
   "source": "weights['W1'][5]",
   "id": "d3c4c3621eb525f5",
   "outputs": [
    {
     "data": {
      "text/plain": [
       "array([-2.3712,  0.5989, -0.0559,  0.4925, -1.2099,  0.1334,  0.1675,\n",
       "        0.3675, -0.3233,  0.0582, -0.0683,  1.7915, -0.1326])"
      ]
     },
     "execution_count": 45,
     "metadata": {},
     "output_type": "execute_result"
    }
   ],
   "execution_count": 45
  },
  {
   "metadata": {
    "ExecuteTime": {
     "end_time": "2024-06-04T11:17:59.806111Z",
     "start_time": "2024-06-04T11:17:59.780458Z"
    }
   },
   "cell_type": "code",
   "source": "weights['W1'][8]",
   "id": "ccc475f8db70ad39",
   "outputs": [
    {
     "data": {
      "text/plain": [
       "array([ 1.9285,  0.2193,  0.7754,  1.4172, -1.2846,  2.1788,  1.8555,\n",
       "       -0.5434,  0.4343, -1.2957,  0.138 , -1.266 ,  1.2894])"
      ]
     },
     "execution_count": 46,
     "metadata": {},
     "output_type": "execute_result"
    }
   ],
   "execution_count": 46
  },
  {
   "metadata": {
    "ExecuteTime": {
     "end_time": "2024-06-04T11:18:08.469184Z",
     "start_time": "2024-06-04T11:18:08.436982Z"
    }
   },
   "cell_type": "code",
   "source": [
    "print(\"Mean absolute error:\", round(mae(preds, y_test), 4), \"\\n\"\n",
    "                                                            \"Root mean squared error:\", round(rmse(preds, y_test), 4))"
   ],
   "id": "4a819714b21bae37",
   "outputs": [
    {
     "name": "stdout",
     "output_type": "stream",
     "text": [
      "Mean absolute error: 0.9413 \n",
      "Root mean squared error: 1.3965\n"
     ]
    }
   ],
   "execution_count": 47
  },
  {
   "metadata": {
    "ExecuteTime": {
     "end_time": "2024-06-04T11:18:25.163105Z",
     "start_time": "2024-06-04T11:18:25.071130Z"
    }
   },
   "cell_type": "code",
   "source": [
    "plt.xlabel(\"Predicted value\")\n",
    "plt.ylabel(\"Target\")\n",
    "plt.title(\"Predicted value vs. target,\\n neural network regression\")\n",
    "plt.xlim([0, 51])\n",
    "plt.ylim([0, 51])\n",
    "plt.scatter(preds, y_test)\n",
    "plt.plot([0, 51], [0, 51]);\n",
    "# plt.savefig(GRAPHS_IMG_FILEPATH + \"07_neural_network_regression_preds_vs_target.png\");"
   ],
   "id": "2e6c6f8288178f4a",
   "outputs": [
    {
     "data": {
      "text/plain": [
       "<Figure size 640x480 with 1 Axes>"
      ],
      "image/png": "[encoded data removed]"
     },
     "metadata": {},
     "output_type": "display_data"
    }
   ],
   "execution_count": 48
  },
  {
   "metadata": {
    "ExecuteTime": {
     "end_time": "2024-06-04T11:18:35.295700Z",
     "start_time": "2024-06-04T11:18:35.270173Z"
    }
   },
   "cell_type": "code",
   "source": "np.round(np.mean(np.array(np.abs(preds - y_test))), 4)",
   "id": "b1e2fec009b2d612",
   "outputs": [
    {
     "data": {
      "text/plain": [
       "0.9413"
      ]
     },
     "execution_count": 49,
     "metadata": {},
     "output_type": "execute_result"
    }
   ],
   "execution_count": 49
  },
  {
   "metadata": {
    "ExecuteTime": {
     "end_time": "2024-06-04T11:18:41.330537Z",
     "start_time": "2024-06-04T11:18:41.303037Z"
    }
   },
   "cell_type": "code",
   "source": "np.round(np.mean(np.array(np.power(preds - y_test, 2))), 4)",
   "id": "c72f0168fd4fd557",
   "outputs": [
    {
     "data": {
      "text/plain": [
       "1.9501"
      ]
     },
     "execution_count": 50,
     "metadata": {},
     "output_type": "execute_result"
    }
   ],
   "execution_count": 50
  },
  {
   "metadata": {
    "ExecuteTime": {
     "end_time": "2024-06-04T11:18:52.307037Z",
     "start_time": "2024-06-04T11:18:52.280755Z"
    }
   },
   "cell_type": "code",
   "source": [
    "NUM = 40\n",
    "a = np.repeat(X_test[:, :-1].mean(axis=0, keepdims=True), NUM, axis=0)\n",
    "b = np.linspace(-1.5, 3.5, NUM).reshape(NUM, 1)\n",
    "test_feature = np.concatenate([a, b], axis=1)\n",
    "preds_test = predict(test_feature, weights)[:, 0]"
   ],
   "id": "3a9a53255432782d",
   "outputs": [],
   "execution_count": 51
  },
  {
   "metadata": {
    "ExecuteTime": {
     "end_time": "2024-06-04T11:18:57.315022Z",
     "start_time": "2024-06-04T11:18:57.214050Z"
    }
   },
   "cell_type": "code",
   "source": [
    "plt.scatter(X_test[:, 12], preds)\n",
    "plt.plot(np.array(test_feature[:, -1]), preds_test, linewidth=2, c='orange')\n",
    "plt.ylim([6, 51])\n",
    "plt.xlabel(\"Most important feature (normalized)\")\n",
    "plt.ylabel(\"Target/Predictions\")\n",
    "plt.title(\"Most important feature vs. target and predictions,\\n neural network regression\");\n",
    "# plt.savefig(GRAPHS_IMG_FILEPATH + \"08_neural_network_regression_impt_feat_vs_preds.png\")"
   ],
   "id": "96d8c30f66c93327",
   "outputs": [
    {
     "data": {
      "text/plain": [
       "<Figure size 640x480 with 1 Axes>"
      ],
      "image/png": "[encoded data removed]"
     },
     "metadata": {},
     "output_type": "display_data"
    }
   ],
   "execution_count": 52
  }
 ],
 "metadata": {
  "kernelspec": {
   "display_name": "Python 3 (ipykernel)",
   "language": "python",
   "name": "python3"
  },
  "language_info": {
   "codemirror_mode": {
    "name": "ipython",
    "version": 3
   },
   "file_extension": ".py",
   "mimetype": "text/x-python",
   "name": "python",
   "nbconvert_exporter": "python",
   "pygments_lexer": "ipython3",
   "version": "3.11.9"
  },
  "toc": {
   "base_numbering": 1,
   "nav_menu": {},
   "number_sections": true,
   "sideBar": true,
   "skip_h1_title": false,
   "title_cell": "Table of Contents",
   "title_sidebar": "Contents",
   "toc_cell": false,
   "toc_position": {},
   "toc_section_display": true,
   "toc_window_display": true
  }
 },
 "nbformat": 4,
 "nbformat_minor": 5
}
