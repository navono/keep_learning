{
 "cells": [
  {
   "cell_type": "markdown",
   "id": "3e58ed126c5dce81",
   "metadata": {},
   "source": [
    "本章目标：\n",
    "- 使用第一章的构建块构建`线性回归模型`\n",
    "- 证明在第一章所做的导数的推理可以训练`线性回归模型`\n",
    "- 将上述模型扩展（依旧使用我们的构建块）到一层神经网络\n",
    "\n",
    "在接下来的第三章时，我们依旧使用相同的构建块去构建深度学习模型。\n",
    "\n",
    "接下来概述一下机器学习的子集： `监督学习`，接下来将重点关注如何使用神经网络去解决这类问题。"
   ]
  },
  {
   "cell_type": "markdown",
   "id": "dbf19c3e9e6626b",
   "metadata": {},
   "source": [
    "## 监督学习概述"
   ]
  },
  {
   "cell_type": "code",
   "execution_count": null,
   "id": "2046496b",
   "metadata": {},
   "outputs": [],
   "source": []
  },
  {
   "cell_type": "markdown",
   "id": "6853c16b49f85dd0",
   "metadata": {},
   "source": [
    "## 监督学习模型"
   ]
  },
  {
   "cell_type": "code",
   "execution_count": null,
   "id": "initial_id",
   "metadata": {},
   "outputs": [],
   "source": []
  },
  {
   "cell_type": "markdown",
   "id": "b5ca54a767fca789",
   "metadata": {},
   "source": [
    "## 线性回归"
   ]
  },
  {
   "cell_type": "markdown",
   "id": "773325d51d126585",
   "metadata": {
    "jp-MarkdownHeadingCollapsed": true
   },
   "source": [
    "### Diagram"
   ]
  },
  {
   "cell_type": "markdown",
   "id": "2427741cd898ee91",
   "metadata": {},
   "source": [
    "### Code"
   ]
  },
  {
   "cell_type": "code",
   "execution_count": 1,
   "id": "c905faefc0217c83",
   "metadata": {
    "ExecuteTime": {
     "end_time": "2024-05-13T01:29:48.762089Z",
     "start_time": "2024-05-13T01:29:48.558448Z"
    }
   },
   "outputs": [],
   "source": [
    "import matplotlib.pyplot as plt\n",
    "import matplotlib\n",
    "import numpy as np\n",
    "from numpy import ndarray\n",
    "%matplotlib inline\n",
    "\n",
    "from typing import Callable\n",
    "from typing import Dict"
   ]
  },
  {
   "cell_type": "markdown",
   "id": "95f512dad8fda9e0",
   "metadata": {},
   "source": [
    "## 模型训练"
   ]
  },
  {
   "cell_type": "markdown",
   "id": "1dc3c60bd0bef9bb",
   "metadata": {},
   "source": [
    "## 模型评估"
   ]
  },
  {
   "cell_type": "markdown",
   "id": "88c819d6627a68b0",
   "metadata": {},
   "source": [
    "## 从零开始的神经网络"
   ]
  },
  {
   "cell_type": "markdown",
   "id": "9e4ebc4dded46ee7",
   "metadata": {},
   "source": [
    "## 训练与评估我们的第一个神经网络"
   ]
  }
 ],
 "metadata": {
  "kernelspec": {
   "display_name": "Python 3 (ipykernel)",
   "language": "python",
   "name": "python3"
  },
  "language_info": {
   "codemirror_mode": {
    "name": "ipython",
    "version": 3
   },
   "file_extension": ".py",
   "mimetype": "text/x-python",
   "name": "python",
   "nbconvert_exporter": "python",
   "pygments_lexer": "ipython3",
   "version": "3.11.9"
  },
  "toc": {
   "base_numbering": 1,
   "nav_menu": {},
   "number_sections": true,
   "sideBar": true,
   "skip_h1_title": false,
   "title_cell": "Table of Contents",
   "title_sidebar": "Contents",
   "toc_cell": false,
   "toc_position": {},
   "toc_section_display": true,
   "toc_window_display": true
  }
 },
 "nbformat": 4,
 "nbformat_minor": 5
}
