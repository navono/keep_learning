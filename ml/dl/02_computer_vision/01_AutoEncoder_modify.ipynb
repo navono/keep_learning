{
 "cells": [
  {
   "cell_type": "code",
   "id": "initial_id",
   "metadata": {
    "collapsed": true,
    "ExecuteTime": {
     "end_time": "2024-05-15T01:27:32.326609Z",
     "start_time": "2024-05-15T01:27:32.324130Z"
    }
   },
   "source": [
    "import torch\n",
    "import torch.nn as nn\n",
    "import torchvision\n",
    "import torchvision.transforms as transforms\n",
    "from torch.utils.data import DataLoader"
   ],
   "execution_count": 4,
   "outputs": []
  },
  {
   "metadata": {
    "ExecuteTime": {
     "end_time": "2024-05-15T01:27:33.859136Z",
     "start_time": "2024-05-15T01:27:33.855629Z"
    }
   },
   "cell_type": "code",
   "source": [
    "device = torch.device(\"cuda\" if torch.cuda.is_available() else \"cpu\")\n",
    "\n",
    "\n",
    "# 定义自编码器模型\n",
    "class Autoencoder(nn.Module):\n",
    "    def __init__(self):\n",
    "        super(Autoencoder, self).__init__()\n",
    "        self.encoder = nn.Sequential(\n",
    "            nn.Conv2d(1, 16, kernel_size=3, stride=3, padding=1),\n",
    "            nn.ReLU(True),\n",
    "            nn.MaxPool2d(kernel_size=2, stride=2),\n",
    "            nn.Conv2d(16, 8, kernel_size=3, stride=2, padding=1),\n",
    "            nn.ReLU(True),\n",
    "            nn.MaxPool2d(kernel_size=2, stride=1)\n",
    "        )\n",
    "        self.decoder = nn.Sequential(\n",
    "            nn.ConvTranspose2d(8, 16, kernel_size=3, stride=2),\n",
    "            nn.ReLU(True),\n",
    "            nn.ConvTranspose2d(16, 8, kernel_size=5, stride=3, padding=1),\n",
    "            nn.ReLU(True),\n",
    "            nn.ConvTranspose2d(8, 1, kernel_size=2, stride=2, padding=1),\n",
    "            nn.Tanh()\n",
    "        )\n",
    "\n",
    "    def forward(self, x):\n",
    "        x = self.encoder(x)\n",
    "        x = self.decoder(x)\n",
    "        return x"
   ],
   "id": "7f92995d87570def",
   "execution_count": 5,
   "outputs": []
  },
  {
   "metadata": {
    "ExecuteTime": {
     "end_time": "2024-05-15T01:28:31.456071Z",
     "start_time": "2024-05-15T01:27:40.952014Z"
    }
   },
   "cell_type": "code",
   "source": [
    "# 加载 MNIST 数据集\n",
    "transform = transforms.Compose([\n",
    "    transforms.ToTensor(),\n",
    "    transforms.Normalize((0.5,), (0.5,))\n",
    "])\n",
    "\n",
    "train_dataset = torchvision.datasets.MNIST(root='./data', train=True, transform=transform, download=True)\n",
    "train_loader = DataLoader(train_dataset, batch_size=64, shuffle=True)\n",
    "\n",
    "# 初始化自编码器模型\n",
    "model = Autoencoder().to(device)\n",
    "\n",
    "# 定义损失函数和优化器\n",
    "criterion = nn.MSELoss()\n",
    "optimizer = torch.optim.Adam(model.parameters(), lr=0.001)\n",
    "\n",
    "# 训练自编码器模型\n",
    "num_epochs = 10\n",
    "for epoch in range(num_epochs):\n",
    "    for data in train_loader:\n",
    "        img, _ = data\n",
    "        img = img.to(device)\n",
    "        # 移除对象\n",
    "        img[:, :, 14:18, 14:18] = 0  # 移除中心的 4x4 区域\n",
    "        # 前向传播\n",
    "        output = model(img)\n",
    "        loss = criterion(output, img)\n",
    "        # 反向传播和优化\n",
    "        optimizer.zero_grad()\n",
    "        loss.backward()\n",
    "        optimizer.step()\n",
    "    print(f'Epoch [{epoch + 1}/{num_epochs}], Loss: {loss.item():.4f}')\n"
   ],
   "id": "4ef962b83af37ea1",
   "execution_count": 6,
   "outputs": []
  },
  {
   "metadata": {
    "ExecuteTime": {
     "end_time": "2024-05-15T01:30:03.015449Z",
     "start_time": "2024-05-15T01:30:02.778576Z"
    }
   },
   "cell_type": "code",
   "source": [
    "# 测试自编码器模型\n",
    "import matplotlib.pyplot as plt\n",
    "import numpy as np\n",
    "\n",
    "# 显示原始图像和重建图像\n",
    "with torch.no_grad():\n",
    "    for data in train_loader:\n",
    "        img, _ = data\n",
    "        img = img.to(device)\n",
    "        img[:, :, 14:18, 14:18] = 0  # 移除中心的 4x4 区域\n",
    "        output = model(img)\n",
    "\n",
    "        # 将张量转换为 numpy 数组并移动通道维度\n",
    "        original_img = np.transpose(torchvision.utils.make_grid(img.cpu()).numpy(), (1, 2, 0))\n",
    "        reconstructed_img = np.transpose(torchvision.utils.make_grid(output.cpu()).numpy(), (1, 2, 0))\n",
    "        # 显示原始图像\n",
    "        plt.imshow(original_img[:, :, 0], cmap='gray')\n",
    "        plt.title('Original Images')\n",
    "        plt.show()\n",
    "        # 显示重建图像\n",
    "        plt.imshow(reconstructed_img[:, :, 0], cmap='gray')\n",
    "        plt.title('Reconstructed Images')\n",
    "        plt.show()\n",
    "\n",
    "        plt.show()\n",
    "        break  # 仅显示一个 batch 的图像"
   ],
   "id": "6da9b21edd62a588",
   "execution_count": 9,
   "outputs": []
  }
 ],
 "metadata": {
  "kernelspec": {
   "display_name": "Python 3",
   "language": "python",
   "name": "python3"
  },
  "language_info": {
   "codemirror_mode": {
    "name": "ipython",
    "version": 2
   },
   "file_extension": ".py",
   "mimetype": "text/x-python",
   "name": "python",
   "nbconvert_exporter": "python",
   "pygments_lexer": "ipython2",
   "version": "2.7.6"
  }
 },
 "nbformat": 4,
 "nbformat_minor": 5
}
