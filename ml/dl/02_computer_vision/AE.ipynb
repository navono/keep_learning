{
 "cells": [
  {
   "cell_type": "code",
   "id": "initial_id",
   "metadata": {
    "collapsed": true,
    "ExecuteTime": {
     "end_time": "2024-05-15T02:34:53.403022Z",
     "start_time": "2024-05-15T02:34:52.584761Z"
    }
   },
   "source": [
    "import torch\n",
    "import torch.nn as nn\n",
    "\n",
    "\n",
    "class Decoder(nn.Module):\n",
    "    def __init__(self):\n",
    "        super(Decoder, self).__init__()\n",
    "        self.fc = nn.Linear(64, 128)  # 假设编码后的表示大小为 64 维，解码器的全连接层将其映射到 128 维\n",
    "        self.relu = nn.ReLU()\n",
    "        self.fc2 = nn.Linear(128, 784)  # 假设原始数据的大小为 28x28 = 784\n",
    "        self.sigmoid = nn.Sigmoid()\n",
    "\n",
    "    def forward(self, x):\n",
    "        x = self.fc(x)\n",
    "        x = self.relu(x)\n",
    "        x = self.fc2(x)\n",
    "        x = self.sigmoid(x)  # 使用 sigmoid 激活函数将输出限制在 [0, 1] 范围内\n",
    "        return x\n",
    "\n",
    "\n",
    "# 初始化解码器\n",
    "decoder = Decoder()\n",
    "\n",
    "# 创建一个随机的编码后的表示，假设大小为 64 维\n",
    "encoded_representation = torch.randn(1, 64)\n",
    "\n",
    "# 使用解码器将编码后的表示解码为原始数据\n",
    "decoded_data = decoder(encoded_representation)\n",
    "\n",
    "print(\"解码后的数据形状:\", decoded_data.shape)  # 打印解码后的数据形状"
   ],
   "outputs": [
    {
     "name": "stdout",
     "output_type": "stream",
     "text": [
      "解码后的数据形状: torch.Size([1, 784])\n"
     ]
    }
   ],
   "execution_count": 1
  }
 ],
 "metadata": {
  "kernelspec": {
   "display_name": "Python 3",
   "language": "python",
   "name": "python3"
  },
  "language_info": {
   "codemirror_mode": {
    "name": "ipython",
    "version": 2
   },
   "file_extension": ".py",
   "mimetype": "text/x-python",
   "name": "python",
   "nbconvert_exporter": "python",
   "pygments_lexer": "ipython2",
   "version": "2.7.6"
  }
 },
 "nbformat": 4,
 "nbformat_minor": 5
}
