{
 "cells": [
  {
   "metadata": {
    "ExecuteTime": {
     "end_time": "2024-05-15T01:11:22.130383Z",
     "start_time": "2024-05-15T01:11:22.127266Z"
    }
   },
   "cell_type": "code",
   "source": [
    "import torch\n",
    "import torch.nn as nn\n",
    "import torchvision\n",
    "import torchvision.transforms as transforms\n",
    "from torch.utils.data import DataLoader"
   ],
   "id": "1bfa7a27041b1f89",
   "execution_count": 2,
   "outputs": []
  },
  {
   "cell_type": "code",
   "id": "initial_id",
   "metadata": {
    "collapsed": true,
    "ExecuteTime": {
     "end_time": "2024-05-15T01:11:23.449234Z",
     "start_time": "2024-05-15T01:11:23.443218Z"
    }
   },
   "source": [
    "device = torch.device(\"cuda\" if torch.cuda.is_available() else \"cpu\")\n",
    "\n",
    "\n",
    "# 定义自编码器模型\n",
    "class Autoencoder(nn.Module):\n",
    "    def __init__(self):\n",
    "        super(Autoencoder, self).__init__()\n",
    "        self.encoder = nn.Sequential(\n",
    "            nn.Conv2d(1, 16, kernel_size=3, stride=3, padding=1),\n",
    "            nn.ReLU(True),\n",
    "            nn.MaxPool2d(kernel_size=2, stride=2),\n",
    "            nn.Conv2d(16, 8, kernel_size=3, stride=2, padding=1),\n",
    "            nn.ReLU(True),\n",
    "            nn.MaxPool2d(kernel_size=2, stride=1)\n",
    "        )\n",
    "        self.decoder = nn.Sequential(\n",
    "            nn.ConvTranspose2d(8, 16, kernel_size=3, stride=2),\n",
    "            nn.ReLU(True),\n",
    "            nn.ConvTranspose2d(16, 8, kernel_size=5, stride=3, padding=1),\n",
    "            nn.ReLU(True),\n",
    "            nn.ConvTranspose2d(8, 1, kernel_size=2, stride=2, padding=1),\n",
    "            nn.Tanh()\n",
    "        )\n",
    "\n",
    "    def forward(self, x):\n",
    "        x = self.encoder(x)\n",
    "        x = self.decoder(x)\n",
    "        return x"
   ],
   "execution_count": 3,
   "outputs": []
  },
  {
   "metadata": {
    "ExecuteTime": {
     "end_time": "2024-05-15T01:15:32.342468Z",
     "start_time": "2024-05-15T01:14:45.240024Z"
    }
   },
   "cell_type": "code",
   "source": [
    "# 加载 MNIST 数据集\n",
    "transform = transforms.Compose([\n",
    "    transforms.ToTensor(),\n",
    "    transforms.Normalize((0.5,), (0.5,))\n",
    "])\n",
    "\n",
    "train_dataset = torchvision.datasets.MNIST(root='./data', train=True, transform=transform, download=True)\n",
    "train_loader = DataLoader(train_dataset, batch_size=64, shuffle=True)\n",
    "\n",
    "# 初始化自编码器模型\n",
    "model = Autoencoder().to(device)\n",
    "\n",
    "# 定义损失函数和优化器\n",
    "criterion = nn.MSELoss()\n",
    "optimizer = torch.optim.Adam(model.parameters(), lr=0.001)\n",
    "\n",
    "# 训练自编码器模型\n",
    "num_epochs = 10\n",
    "for epoch in range(num_epochs):\n",
    "    for data in train_loader:\n",
    "        img, _ = data\n",
    "        img = img.to(device)\n",
    "        # 前向传播\n",
    "        output = model(img)\n",
    "        loss = criterion(output, img)\n",
    "        # 反向传播和优化\n",
    "        optimizer.zero_grad()\n",
    "        loss.backward()\n",
    "        optimizer.step()\n",
    "    print(f'Epoch [{epoch + 1}/{num_epochs}], Loss: {loss.item():.4f}')\n"
   ],
   "id": "e9a0b0d7cc505d03",
   "execution_count": 7,
   "outputs": []
  },
  {
   "metadata": {
    "ExecuteTime": {
     "end_time": "2024-05-15T01:16:18.384376Z",
     "start_time": "2024-05-15T01:16:18.114396Z"
    }
   },
   "cell_type": "code",
   "source": [
    "# 测试自编码器模型\n",
    "import matplotlib.pyplot as plt\n",
    "\n",
    "# 显示原始图像和重建图像\n",
    "with torch.no_grad():\n",
    "    for data in train_loader:\n",
    "        img, _ = data\n",
    "        img = img.to(device)\n",
    "        output = model(img)\n",
    "        # 显示原始图像\n",
    "        plt.imshow(torchvision.utils.make_grid(img.cpu()).numpy()[0], cmap='gray')\n",
    "        plt.title('Original Images')\n",
    "        plt.show()\n",
    "        # 显示重建图像\n",
    "        plt.imshow(torchvision.utils.make_grid(output.cpu()).numpy()[0], cmap='gray')\n",
    "        plt.title('Reconstructed Images')\n",
    "        plt.show()\n",
    "        break  # 仅显示一个 batch 的图像\n"
   ],
   "id": "7e7cfcfc9c18b416",
   "execution_count": 8,
   "outputs": []
  }
 ],
 "metadata": {
  "kernelspec": {
   "display_name": "Python 3",
   "language": "python",
   "name": "python3"
  },
  "language_info": {
   "codemirror_mode": {
    "name": "ipython",
    "version": 2
   },
   "file_extension": ".py",
   "mimetype": "text/x-python",
   "name": "python",
   "nbconvert_exporter": "python",
   "pygments_lexer": "ipython2",
   "version": "2.7.6"
  }
 },
 "nbformat": 4,
 "nbformat_minor": 5
}
