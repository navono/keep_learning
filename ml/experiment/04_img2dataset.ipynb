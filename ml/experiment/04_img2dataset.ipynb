{
 "cells": [
  {
   "cell_type": "code",
   "id": "initial_id",
   "metadata": {
    "collapsed": true,
    "ExecuteTime": {
     "end_time": "2024-05-22T00:41:06.625635Z",
     "start_time": "2024-05-22T00:41:06.579881Z"
    }
   },
   "source": [
    "!echo 'https://placekitten.com/200/305' >> myimglist.txt\n",
    "!echo 'https://placekitten.com/200/304' >> myimglist.txt\n",
    "!echo 'https://placekitten.com/200/303' >> myimglist.txt"
   ],
   "outputs": [],
   "execution_count": 1
  },
  {
   "metadata": {
    "ExecuteTime": {
     "end_time": "2024-05-22T00:41:38.516486Z",
     "start_time": "2024-05-22T00:41:32.642869Z"
    }
   },
   "cell_type": "code",
   "source": "!img2dataset --url_list=myimglist.txt --output_folder=image_folder --thread_count=64 --image_size=256",
   "id": "7a802d5f9b6a2d6e",
   "outputs": [
    {
     "name": "stdout",
     "output_type": "stream",
     "text": [
      "Starting the downloading of this file\n",
      "Sharding file number 1 of 1 called E:/sourcecode/keep_learning/ml/expirements/myimglist.txt\n",
      "File sharded in 1 shards\n",
      "Downloading starting now, check your bandwidth speed (with bwm-ng)your cpu (with htop), and your disk usage (with iotop)!\n",
      "worker  - success: 0.000 - failed to download: 1.000 - failed to resize: 0.000 - images per sec: 113 - count: 3\n",
      "total   - success: 0.000 - failed to download: 1.000 - failed to resize: 0.000 - images per sec: 113 - count: 3\n"
     ]
    },
    {
     "name": "stderr",
     "output_type": "stream",
     "text": [
      "\n",
      "0it [00:00, ?it/s]\n",
      "1it [00:02,  2.03s/it]\n",
      "1it [00:02,  2.03s/it]\n"
     ]
    }
   ],
   "execution_count": 2
  },
  {
   "metadata": {
    "ExecuteTime": {
     "end_time": "2024-05-22T00:58:19.864061Z",
     "start_time": "2024-05-22T00:56:03.232502Z"
    }
   },
   "cell_type": "code",
   "source": "!clip-retrieval inference --enable_metadata true --input_dataset image_folder --output_folder embeddings_folder",
   "id": "726bf5b74a87b038",
   "outputs": [
    {
     "name": "stdout",
     "output_type": "stream",
     "text": [
      "^C\n"
     ]
    }
   ],
   "execution_count": 9
  },
  {
   "metadata": {
    "ExecuteTime": {
     "end_time": "2024-05-22T01:00:57.857186Z",
     "start_time": "2024-05-22T01:00:57.532224Z"
    }
   },
   "cell_type": "code",
   "source": "!wget https://github.com/rom1504/img2dataset/raw/main/tests/test_files/test_1000.parquet",
   "id": "7046bc8a967e4729",
   "outputs": [
    {
     "name": "stderr",
     "output_type": "stream",
     "text": [
      "SYSTEM_WGETRC = c:/progra~1/wget/etc/wgetrc\n",
      "syswgetrc = C:\\Program Files (x86)\\Gow/etc/wgetrc\n",
      "--2024-05-22 09:00:57--  https://github.com/rom1504/img2dataset/raw/main/tests/test_files/test_1000.parquet\n",
      "Resolving github.com... 20.205.243.166\n",
      "Connecting to github.com|20.205.243.166|:443... connected.\n",
      "OpenSSL: error:1407742E:SSL routines:SSL23_GET_SERVER_HELLO:tlsv1 alert protocol version\n",
      "Unable to establish SSL connection.\n"
     ]
    }
   ],
   "execution_count": 12
  },
  {
   "metadata": {
    "ExecuteTime": {
     "end_time": "2024-05-22T01:02:55.526510Z",
     "start_time": "2024-05-22T01:02:50.228711Z"
    }
   },
   "cell_type": "code",
   "source": "!clip-retrieval end2end test_1000.parquet ./end2end_output",
   "id": "f660e8565c990674",
   "outputs": [
    {
     "name": "stdout",
     "output_type": "stream",
     "text": [
      "E:/sourcecode/keep_learning/ml/expirements/end2end_output\n",
      "Starting the downloading of this file\n",
      "Sharding file number 1 of 1 called E:/sourcecode/keep_learning/ml/expirements/test_1000.parquet\n",
      "File sharded in 0 shards\n",
      "Downloading starting now, check your bandwidth speed (with bwm-ng)your cpu (with htop), and your disk usage (with iotop)!\n"
     ]
    },
    {
     "name": "stderr",
     "output_type": "stream",
     "text": [
      "E:\\sourcecode\\keep_learning\\.venv\\Lib\\site-packages\\threadpoolctl.py:1214: RuntimeWarning: \n",
      "Found Intel OpenMP ('libiomp') and LLVM OpenMP ('libomp') loaded at\n",
      "the same time. Both libraries are known to be incompatible and this\n",
      "can cause random crashes or deadlocks on Linux when loaded in the\n",
      "same Python program.\n",
      "Using threadpoolctl may cause crashes or deadlocks. For more\n",
      "information and possible workarounds, please see\n",
      "    https://github.com/joblib/threadpoolctl/blob/master/multiple_openmp.md\n",
      "\n",
      "  warnings.warn(msg, RuntimeWarning)\n",
      "\n",
      "0it [00:00, ?it/s]\n",
      "0it [00:00, ?it/s]\n",
      "Traceback (most recent call last):\n",
      "  File \"<frozen runpy>\", line 198, in _run_module_as_main\n",
      "  File \"<frozen runpy>\", line 88, in _run_code\n",
      "  File \"E:\\sourcecode\\keep_learning\\.venv\\Scripts\\clip-retrieval.exe\\__main__.py\", line 7, in <module>\n",
      "  File \"E:\\sourcecode\\keep_learning\\.venv\\Lib\\site-packages\\clip_retrieval\\cli.py\", line 18, in main\n",
      "    fire.Fire(\n",
      "  File \"E:\\sourcecode\\keep_learning\\.venv\\Lib\\site-packages\\fire\\core.py\", line 141, in Fire\n",
      "    component_trace = _Fire(component, args, parsed_flag_args, context, name)\n",
      "                      ^^^^^^^^^^^^^^^^^^^^^^^^^^^^^^^^^^^^^^^^^^^^^^^^^^^^^^^\n",
      "  File \"E:\\sourcecode\\keep_learning\\.venv\\Lib\\site-packages\\fire\\core.py\", line 475, in _Fire\n",
      "    component, remaining_args = _CallAndUpdateTrace(\n",
      "                                ^^^^^^^^^^^^^^^^^^^^\n",
      "  File \"E:\\sourcecode\\keep_learning\\.venv\\Lib\\site-packages\\fire\\core.py\", line 691, in _CallAndUpdateTrace\n",
      "    component = fn(*varargs, **kwargs)\n",
      "                ^^^^^^^^^^^^^^^^^^^^^^\n",
      "  File \"E:\\sourcecode\\keep_learning\\.venv\\Lib\\site-packages\\clip_retrieval\\clip_end2end.py\", line 37, in clip_end2end\n",
      "    clip_inference(\n",
      "  File \"E:\\sourcecode\\keep_learning\\.venv\\Lib\\site-packages\\clip_retrieval\\clip_inference\\main.py\", line 105, in main\n",
      "    expanded_dataset = list(braceexpand(input_dataset)) if input_format == \"webdataset\" else input_dataset\n",
      "                       ^^^^^^^^^^^^^^^^^^^^^^^^^^^^^^^^\n",
      "  File \"E:\\sourcecode\\keep_learning\\.venv\\Lib\\site-packages\\braceexpand\\__init__.py\", line 98, in <genexpr>\n",
      "    return (_flatten(t, escape) for t in parse_pattern(pattern, escape))\n",
      "            ^^^^^^^^^^^^^^^^^^^\n",
      "  File \"E:\\sourcecode\\keep_learning\\.venv\\Lib\\site-packages\\braceexpand\\__init__.py\", line 216, in _flatten\n",
      "    s = ''.join(l)\n",
      "        ^^^^^^^^^^\n",
      "TypeError: sequence item 0: expected str instance, list found\n"
     ]
    }
   ],
   "execution_count": 14
  }
 ],
 "metadata": {
  "kernelspec": {
   "display_name": "Python 3",
   "language": "python",
   "name": "python3"
  },
  "language_info": {
   "codemirror_mode": {
    "name": "ipython",
    "version": 2
   },
   "file_extension": ".py",
   "mimetype": "text/x-python",
   "name": "python",
   "nbconvert_exporter": "python",
   "pygments_lexer": "ipython2",
   "version": "2.7.6"
  }
 },
 "nbformat": 4,
 "nbformat_minor": 5
}
