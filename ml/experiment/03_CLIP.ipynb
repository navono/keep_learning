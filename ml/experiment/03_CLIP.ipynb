{
 "cells": [
  {
   "cell_type": "code",
   "id": "initial_id",
   "metadata": {
    "collapsed": true,
    "ExecuteTime": {
     "end_time": "2024-05-22T01:58:36.714503Z",
     "start_time": "2024-05-22T01:58:36.711662Z"
    }
   },
   "source": [
    "# https://github.com/percent4/clip_learning\n",
    "import os\n",
    "import numpy as np\n",
    "from PIL import Image\n",
    "import requests\n",
    "import os\n",
    "from transformers import CLIPProcessor, CLIPModel, CLIPTokenizer"
   ],
   "outputs": [],
   "execution_count": 15
  },
  {
   "metadata": {
    "ExecuteTime": {
     "end_time": "2024-05-22T01:56:18.095674Z",
     "start_time": "2024-05-22T01:56:17.492140Z"
    }
   },
   "cell_type": "code",
   "source": [
    "model_path = r\"C:\\Users\\ping\\.cache\\huggingface\\hub\\models--openai--clip-vit-base-patch32\\snapshots\\3d74acf9a28c67741b2f4f2ea7635f0aaf6f0268\"\n",
    "model = CLIPModel.from_pretrained(model_path)\n",
    "processor = CLIPProcessor.from_pretrained(model_path)\n",
    "tokenizer = CLIPTokenizer.from_pretrained(model_path)"
   ],
   "id": "fa2439dced3d4d4a",
   "outputs": [
    {
     "name": "stdout",
     "output_type": "stream",
     "text": [
      "C:\\Users\\ping\\.cache\\huggingface\\hub\\models--openai--clip-vit-base-patch32\\snapshots\\3d74acf9a28c67741b2f4f2ea7635f0aaf6f0268\n"
     ]
    }
   ],
   "execution_count": 11
  },
  {
   "metadata": {
    "ExecuteTime": {
     "end_time": "2024-05-22T01:57:51.810380Z",
     "start_time": "2024-05-22T01:57:50.071306Z"
    }
   },
   "cell_type": "code",
   "source": [
    "url = \"https://tydata.touying.com/album/202208/26/162550ex8g2l8lil2ahlsh.png!w800\"\n",
    "image = Image.open(requests.get(url, stream=True).raw)\n",
    "\n",
    "text = [\"a photo of a computer\", \"a photo of a mouse\", \"a photo of a keyboard\", \"a photo of a cellphone\"]\n",
    "inputs = processor(text=text, images=image, return_tensors=\"pt\", padding=True)"
   ],
   "id": "27b552c5c6f843cc",
   "outputs": [],
   "execution_count": 13
  },
  {
   "metadata": {
    "ExecuteTime": {
     "end_time": "2024-05-22T01:58:57.577662Z",
     "start_time": "2024-05-22T01:58:57.476417Z"
    }
   },
   "cell_type": "code",
   "source": [
    "outputs = model(**inputs)\n",
    "probs = outputs.logits_per_image.softmax(dim=1)\n",
    "print(probs.detach().numpy().tolist())\n",
    "\n",
    "label_ids = np.argmax(probs.detach().numpy(), axis=1).tolist()\n",
    "for label_id in label_ids:\n",
    "    print(text[label_id])"
   ],
   "id": "1df8f53ac509be85",
   "outputs": [
    {
     "name": "stdout",
     "output_type": "stream",
     "text": [
      "a photo of a cellphone\n"
     ]
    }
   ],
   "execution_count": 16
  },
  {
   "metadata": {
    "ExecuteTime": {
     "end_time": "2024-05-22T02:00:12.578274Z",
     "start_time": "2024-05-22T02:00:06.196069Z"
    }
   },
   "cell_type": "code",
   "source": [
    "# image batch inference\n",
    "urls = ['https://tydata.touying.com/album/202208/26/162550ex8g2l8lil2ahlsh.png!w800',\n",
    "        'https://image.guojj.com/exhibition/30/18/089ee4b20a02f20c21393a5a89827f49.jpg',\n",
    "        'https://openfile.meizu.com/group1/M00/0B/37/Cgbj0GTaGi6AK5TZAApI248naWQ139.png@480x480.jpg',\n",
    "        'https://img2.gomein.net.cn/image//img/201204/10000107/1000151468/1000324012_360.jpg',\n",
    "        'https://encrypted-tbn0.gstatic.com/images?q=tbn:ANd9GcS8GuYYzCUEs0l-Bo1PSTuLKEo2PMI3aKsdZw&usqp=CAU']\n",
    "images = [Image.open(requests.get(url, stream=True).raw) for url in urls]"
   ],
   "id": "f63e20678ee32f0f",
   "outputs": [],
   "execution_count": 18
  },
  {
   "metadata": {
    "ExecuteTime": {
     "end_time": "2024-05-22T02:00:20.239230Z",
     "start_time": "2024-05-22T02:00:20.036100Z"
    }
   },
   "cell_type": "code",
   "source": [
    "text = [\"a photo of a computer\", \"a photo of a mouse\", \"a photo of a keyboard\", \"a photo of a mobile phone\"]\n",
    "inputs = processor(text=text, images=images, return_tensors=\"pt\", padding=True)\n",
    "outputs = model(**inputs)\n",
    "probs = outputs.logits_per_image.softmax(dim=1)\n",
    "label_ids = np.argmax(probs.detach().numpy(), axis=1).tolist()\n",
    "for label_id in label_ids:\n",
    "    print(text[label_id])"
   ],
   "id": "91e6775f18f5e747",
   "outputs": [
    {
     "name": "stdout",
     "output_type": "stream",
     "text": [
      "a photo of a mobile phone\n",
      "a photo of a computer\n",
      "a photo of a mobile phone\n",
      "a photo of a mouse\n",
      "a photo of a keyboard\n"
     ]
    }
   ],
   "execution_count": 19
  }
 ],
 "metadata": {
  "kernelspec": {
   "display_name": "Python 3",
   "language": "python",
   "name": "python3"
  },
  "language_info": {
   "codemirror_mode": {
    "name": "ipython",
    "version": 2
   },
   "file_extension": ".py",
   "mimetype": "text/x-python",
   "name": "python",
   "nbconvert_exporter": "python",
   "pygments_lexer": "ipython2",
   "version": "2.7.6"
  }
 },
 "nbformat": 4,
 "nbformat_minor": 5
}
