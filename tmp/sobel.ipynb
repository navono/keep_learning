{
 "cells": [
  {
   "cell_type": "code",
   "execution_count": 1,
   "id": "initial_id",
   "metadata": {
    "collapsed": true,
    "ExecuteTime": {
     "end_time": "2024-03-02T08:01:10.456322Z",
     "start_time": "2024-03-02T08:00:52.285540Z"
    }
   },
   "outputs": [],
   "source": [
    "import cv2\n",
    "import numpy as np\n",
    "\n",
    "# 读取图像\n",
    "image = cv2.imread('test.png', cv2.IMREAD_GRAYSCALE)\n",
    "\n",
    "# 计算水平方向和垂直方向的梯度\n",
    "gradient_x = cv2.Sobel(image, cv2.CV_64F, 1, 0, ksize=3)  # 水平方向梯度\n",
    "gradient_y = cv2.Sobel(image, cv2.CV_64F, 0, 1, ksize=3)  # 垂直方向梯度\n",
    "\n",
    "# 计算梯度的幅值和方向\n",
    "magnitude = np.sqrt(gradient_x ** 2 + gradient_y ** 2)\n",
    "angle = np.arctan2(gradient_y, gradient_x)\n",
    "\n",
    "# 显示结果\n",
    "cv2.imshow('Gradient Magnitude', magnitude.astype(np.uint8))\n",
    "cv2.imshow('Gradient Angle', angle.astype(np.uint8))\n",
    "cv2.waitKey(0)\n",
    "cv2.destroyAllWindows()"
   ]
  }
 ],
 "metadata": {
  "kernelspec": {
   "display_name": "Python 3",
   "language": "python",
   "name": "python3"
  },
  "language_info": {
   "codemirror_mode": {
    "name": "ipython",
    "version": 2
   },
   "file_extension": ".py",
   "mimetype": "text/x-python",
   "name": "python",
   "nbconvert_exporter": "python",
   "pygments_lexer": "ipython2",
   "version": "2.7.6"
  }
 },
 "nbformat": 4,
 "nbformat_minor": 5
}
