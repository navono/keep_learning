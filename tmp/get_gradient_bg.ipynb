{
 "cells": [
  {
   "cell_type": "code",
   "execution_count": 3,
   "id": "initial_id",
   "metadata": {
    "collapsed": true,
    "ExecuteTime": {
     "end_time": "2024-03-01T08:46:07.991023Z",
     "start_time": "2024-03-01T08:45:53.658194Z"
    }
   },
   "outputs": [
    {
     "ename": "KeyboardInterrupt",
     "evalue": "",
     "output_type": "error",
     "traceback": [
      "\u001B[1;31m---------------------------------------------------------------------------\u001B[0m",
      "\u001B[1;31mKeyboardInterrupt\u001B[0m                         Traceback (most recent call last)",
      "Cell \u001B[1;32mIn[3], line 26\u001B[0m\n\u001B[0;32m     23\u001B[0m image \u001B[38;5;241m=\u001B[39m Image\u001B[38;5;241m.\u001B[39mopen(\u001B[38;5;124m\"\u001B[39m\u001B[38;5;124ma.jpg\u001B[39m\u001B[38;5;124m\"\u001B[39m)\n\u001B[0;32m     25\u001B[0m \u001B[38;5;66;03m# 获取渐变背景\u001B[39;00m\n\u001B[1;32m---> 26\u001B[0m gradient_background \u001B[38;5;241m=\u001B[39m \u001B[43mget_gradient_background\u001B[49m\u001B[43m(\u001B[49m\u001B[43mimage\u001B[49m\u001B[43m)\u001B[49m\n\u001B[0;32m     28\u001B[0m \u001B[38;5;66;03m# 保存渐变背景\u001B[39;00m\n\u001B[0;32m     29\u001B[0m gradient_background\u001B[38;5;241m.\u001B[39msave(\u001B[38;5;124m\"\u001B[39m\u001B[38;5;124mgradient_background.png\u001B[39m\u001B[38;5;124m\"\u001B[39m)\n",
      "Cell \u001B[1;32mIn[3], line 17\u001B[0m, in \u001B[0;36mget_gradient_background\u001B[1;34m(image)\u001B[0m\n\u001B[0;32m     15\u001B[0m         r, g, b \u001B[38;5;241m=\u001B[39m image\u001B[38;5;241m.\u001B[39mgetpixel((x, y))\n\u001B[0;32m     16\u001B[0m         \u001B[38;5;66;03m# 将像素的 RGB 值设置到新的图像中\u001B[39;00m\n\u001B[1;32m---> 17\u001B[0m         \u001B[43mgradient_background\u001B[49m\u001B[38;5;241m.\u001B[39mputpixel((x, y), (r, g, b))\n\u001B[0;32m     18\u001B[0m \u001B[38;5;66;03m# 返回渐变背景\u001B[39;00m\n\u001B[0;32m     19\u001B[0m \u001B[38;5;28;01mreturn\u001B[39;00m gradient_background\n",
      "Cell \u001B[1;32mIn[3], line 17\u001B[0m, in \u001B[0;36mget_gradient_background\u001B[1;34m(image)\u001B[0m\n\u001B[0;32m     15\u001B[0m         r, g, b \u001B[38;5;241m=\u001B[39m image\u001B[38;5;241m.\u001B[39mgetpixel((x, y))\n\u001B[0;32m     16\u001B[0m         \u001B[38;5;66;03m# 将像素的 RGB 值设置到新的图像中\u001B[39;00m\n\u001B[1;32m---> 17\u001B[0m         \u001B[43mgradient_background\u001B[49m\u001B[38;5;241m.\u001B[39mputpixel((x, y), (r, g, b))\n\u001B[0;32m     18\u001B[0m \u001B[38;5;66;03m# 返回渐变背景\u001B[39;00m\n\u001B[0;32m     19\u001B[0m \u001B[38;5;28;01mreturn\u001B[39;00m gradient_background\n",
      "File \u001B[1;32m_pydevd_bundle\\pydevd_cython_win32_310_64.pyx:1187\u001B[0m, in \u001B[0;36m_pydevd_bundle.pydevd_cython_win32_310_64.SafeCallWrapper.__call__\u001B[1;34m()\u001B[0m\n",
      "File \u001B[1;32m_pydevd_bundle\\pydevd_cython_win32_310_64.pyx:627\u001B[0m, in \u001B[0;36m_pydevd_bundle.pydevd_cython_win32_310_64.PyDBFrame.trace_dispatch\u001B[1;34m()\u001B[0m\n",
      "File \u001B[1;32m_pydevd_bundle\\pydevd_cython_win32_310_64.pyx:937\u001B[0m, in \u001B[0;36m_pydevd_bundle.pydevd_cython_win32_310_64.PyDBFrame.trace_dispatch\u001B[1;34m()\u001B[0m\n",
      "File \u001B[1;32m_pydevd_bundle\\pydevd_cython_win32_310_64.pyx:928\u001B[0m, in \u001B[0;36m_pydevd_bundle.pydevd_cython_win32_310_64.PyDBFrame.trace_dispatch\u001B[1;34m()\u001B[0m\n",
      "File \u001B[1;32m_pydevd_bundle\\pydevd_cython_win32_310_64.pyx:585\u001B[0m, in \u001B[0;36m_pydevd_bundle.pydevd_cython_win32_310_64.PyDBFrame.do_wait_suspend\u001B[1;34m()\u001B[0m\n",
      "File \u001B[1;32m~\\AppData\\Local\\Programs\\PyCharm Professional\\plugins\\python\\helpers\\pydev\\pydevd.py:1184\u001B[0m, in \u001B[0;36mPyDB.do_wait_suspend\u001B[1;34m(self, thread, frame, event, arg, send_suspend_message, is_unhandled_exception)\u001B[0m\n\u001B[0;32m   1181\u001B[0m         from_this_thread\u001B[38;5;241m.\u001B[39mappend(frame_id)\n\u001B[0;32m   1183\u001B[0m \u001B[38;5;28;01mwith\u001B[39;00m \u001B[38;5;28mself\u001B[39m\u001B[38;5;241m.\u001B[39m_threads_suspended_single_notification\u001B[38;5;241m.\u001B[39mnotify_thread_suspended(thread_id, stop_reason):\n\u001B[1;32m-> 1184\u001B[0m     \u001B[38;5;28;43mself\u001B[39;49m\u001B[38;5;241;43m.\u001B[39;49m\u001B[43m_do_wait_suspend\u001B[49m\u001B[43m(\u001B[49m\u001B[43mthread\u001B[49m\u001B[43m,\u001B[49m\u001B[43m \u001B[49m\u001B[43mframe\u001B[49m\u001B[43m,\u001B[49m\u001B[43m \u001B[49m\u001B[43mevent\u001B[49m\u001B[43m,\u001B[49m\u001B[43m \u001B[49m\u001B[43marg\u001B[49m\u001B[43m,\u001B[49m\u001B[43m \u001B[49m\u001B[43msuspend_type\u001B[49m\u001B[43m,\u001B[49m\u001B[43m \u001B[49m\u001B[43mfrom_this_thread\u001B[49m\u001B[43m)\u001B[49m\n",
      "File \u001B[1;32m~\\AppData\\Local\\Programs\\PyCharm Professional\\plugins\\python\\helpers\\pydev\\pydevd.py:1199\u001B[0m, in \u001B[0;36mPyDB._do_wait_suspend\u001B[1;34m(self, thread, frame, event, arg, suspend_type, from_this_thread)\u001B[0m\n\u001B[0;32m   1196\u001B[0m             \u001B[38;5;28mself\u001B[39m\u001B[38;5;241m.\u001B[39m_call_mpl_hook()\n\u001B[0;32m   1198\u001B[0m         \u001B[38;5;28mself\u001B[39m\u001B[38;5;241m.\u001B[39mprocess_internal_commands()\n\u001B[1;32m-> 1199\u001B[0m         \u001B[43mtime\u001B[49m\u001B[38;5;241;43m.\u001B[39;49m\u001B[43msleep\u001B[49m\u001B[43m(\u001B[49m\u001B[38;5;241;43m0.01\u001B[39;49m\u001B[43m)\u001B[49m\n\u001B[0;32m   1201\u001B[0m \u001B[38;5;28mself\u001B[39m\u001B[38;5;241m.\u001B[39mcancel_async_evaluation(get_current_thread_id(thread), \u001B[38;5;28mstr\u001B[39m(\u001B[38;5;28mid\u001B[39m(frame)))\n\u001B[0;32m   1203\u001B[0m \u001B[38;5;66;03m# process any stepping instructions\u001B[39;00m\n",
      "\u001B[1;31mKeyboardInterrupt\u001B[0m: "
     ]
    }
   ],
   "source": [
    "from PIL import Image\n",
    "\n",
    "\n",
    "def get_gradient_background(image):\n",
    "    # 将图片转换为 RGB 模式\n",
    "    image = image.convert(\"RGB\")\n",
    "    # 获取图片的宽度和高度\n",
    "    width, height = image.size\n",
    "    # 创建一个新的图像，用于存储渐变背景\n",
    "    gradient_background = Image.new(\"RGB\", (width, height))\n",
    "    # 遍历每个像素\n",
    "    for x in range(width):\n",
    "        for y in range(height):\n",
    "            # 获取像素的 RGB 值\n",
    "            r, g, b = image.getpixel((x, y))\n",
    "            # 将像素的 RGB 值设置到新的图像中\n",
    "            gradient_background.putpixel((x, y), (r, g, b))\n",
    "    # 返回渐变背景\n",
    "    return gradient_background\n",
    "\n",
    "\n",
    "# 读取图片\n",
    "image = Image.open(\"a.jpg\")\n",
    "\n",
    "# 获取渐变背景\n",
    "gradient_background = get_gradient_background(image)\n",
    "\n",
    "# 保存渐变背景\n",
    "gradient_background.save(\"gradient_background.png\")"
   ]
  }
 ],
 "metadata": {
  "kernelspec": {
   "display_name": "Python 3",
   "language": "python",
   "name": "python3"
  },
  "language_info": {
   "codemirror_mode": {
    "name": "ipython",
    "version": 2
   },
   "file_extension": ".py",
   "mimetype": "text/x-python",
   "name": "python",
   "nbconvert_exporter": "python",
   "pygments_lexer": "ipython2",
   "version": "2.7.6"
  }
 },
 "nbformat": 4,
 "nbformat_minor": 5
}
