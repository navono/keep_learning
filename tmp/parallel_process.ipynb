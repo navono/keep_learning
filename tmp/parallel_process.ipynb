{
 "cells": [
  {
   "cell_type": "code",
   "id": "initial_id",
   "metadata": {
    "collapsed": true
   },
   "source": [
    "import dask\n",
    "import dask.bag as db\n",
    "import itertools"
   ],
   "outputs": [],
   "execution_count": null
  },
  {
   "metadata": {},
   "cell_type": "code",
   "source": [
    "def process_data(data):\n",
    "    return data * 2\n",
    "\n",
    "\n",
    "data_list = [1, 2, 3, 4, 5]\n",
    "bag = db.from_sequence(data_list, npartitions=3)\n",
    "results = bag.map(process_data).compute()\n",
    "print(results)"
   ],
   "id": "eda178cff75228fb",
   "outputs": [],
   "execution_count": null
  },
  {
   "metadata": {},
   "cell_type": "code",
   "source": [
    "import more_itertools as mit\n",
    "\n",
    "batches = mit.chunked(data_list, 10)\n",
    "\n",
    "for batch in batches:\n",
    "    print(batch)"
   ],
   "id": "ce3e3703c6799095",
   "outputs": [],
   "execution_count": null
  },
  {
   "metadata": {},
   "cell_type": "code",
   "source": "",
   "id": "8f1201b631580599",
   "outputs": [],
   "execution_count": null
  }
 ],
 "metadata": {
  "kernelspec": {
   "display_name": "Python 3",
   "language": "python",
   "name": "python3"
  },
  "language_info": {
   "codemirror_mode": {
    "name": "ipython",
    "version": 2
   },
   "file_extension": ".py",
   "mimetype": "text/x-python",
   "name": "python",
   "nbconvert_exporter": "python",
   "pygments_lexer": "ipython2",
   "version": "2.7.6"
  }
 },
 "nbformat": 4,
 "nbformat_minor": 5
}
