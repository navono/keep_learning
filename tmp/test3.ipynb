{
 "cells": [
  {
   "cell_type": "code",
   "execution_count": null,
   "id": "initial_id",
   "metadata": {
    "collapsed": true
   },
   "outputs": [],
   "source": []
  },
  {
   "cell_type": "code",
   "execution_count": null,
   "outputs": [],
   "source": [
    "import struct\n",
    "\n",
    "# Your hex data\n",
    "data1 = '10000000080000000000000000000000900100000000008600000000E5AE8BE4BD930000000000000000000000000000000000000000000000000000'\n",
    "\n",
    "data2 = '100000001C0000000000000000000000900100000000008600000000417269616C000000000000000000000000000000000000000000000000000000'\n",
    "\n",
    "# Convert hex to bytes\n",
    "data = bytes.fromhex(data2)\n",
    "\n",
    "# Format string: '<' for little-endian, 'l' for LONG, 'B' for BYTE, '32s' for CHAR[32]\n",
    "format_str = '<lllllBBBBBBBB32s'\n",
    "\n",
    "# Unpack the data\n",
    "lfHeight, lfWidth, lfEscapement, lfOrientation, lfWeight, lfItalic, lfUnderline, lfStrikeOut, lfCharSet, lfOutPrecision, lfClipPrecision, lfQuality, lfPitchAndFamily, lfFaceName = struct.unpack(\n",
    "    format_str, data)\n",
    "\n",
    "print('lfHeight:', lfHeight)\n",
    "print('lfWidth:', lfWidth)\n",
    "print('lfEscapement:', lfEscapement)\n",
    "print('lfOrientation:', lfOrientation)\n",
    "print('lfWeight:', lfWeight)\n",
    "print('lfItalic:', lfItalic)\n",
    "print('lfUnderline:', lfUnderline)\n",
    "print('lfStrikeOut:', lfStrikeOut)\n",
    "print('lfCharSet:', lfCharSet)\n",
    "print('lfOutPrecision:', lfOutPrecision)\n",
    "print('lfClipPrecision:', lfClipPrecision)\n",
    "print('lfQuality:', lfQuality)\n",
    "print('lfPitchAndFamily:', lfPitchAndFamily)\n",
    "# print('lfFaceName:', lfFaceName.decode('gbk'))  # Assuming the string is UTF-8 encoded\n",
    "print('lfFaceName:', lfFaceName)  # Assuming the string is UTF-8 encoded"
   ],
   "metadata": {
    "collapsed": false
   },
   "id": "8284825d1c237b16"
  },
  {
   "cell_type": "code",
   "execution_count": null,
   "outputs": [],
   "source": [
    "import binascii\n",
    "import ctypes\n",
    "\n",
    "LF_FACESIZE = 32\n",
    "\n",
    "\n",
    "# 定义 C++ 结构体\n",
    "class LOGFONTA(ctypes.Structure):\n",
    "    _fields_ = [(\"lfHeight\", ctypes.c_long), (\"lfWidth\", ctypes.c_long), (\"lfEscapement\", ctypes.c_long),\n",
    "                (\"lfOrientation\", ctypes.c_long), (\"lfWeight\", ctypes.c_long), (\"lfItalic\", ctypes.c_byte),\n",
    "                (\"lfUnderline\", ctypes.c_byte), (\"lfStrikeOut\", ctypes.c_byte), (\"lfCharSet\", ctypes.c_byte),\n",
    "                (\"lfOutPrecision\", ctypes.c_byte), (\"lfClipPrecision\", ctypes.c_byte), (\"lfQuality\", ctypes.c_byte),\n",
    "                (\"lfPitchAndFamily\", ctypes.c_byte), (\"lfFaceName\", ctypes.c_char * LF_FACESIZE)]\n",
    "\n",
    "\n",
    "# 定义十六进制数据\n",
    "hex_data = \"F4FFFFFF060000000000000000000000900100000000000100000000CBCECCE50000000000000000000000000000000000000000000000000000000\"\n",
    "\n",
    "# 将十六进制数据转换为字节数组\n",
    "byte_array = binascii.unhexlify(hex_data)\n",
    "\n",
    "# 将字节数组转换为 memoryview 对象\n",
    "memoryview_object = memoryview(byte_array)\n",
    "\n",
    "# 将 memoryview 对象转换为 C++ 结构体\n",
    "logfont = memoryview_object.cast(LOGFONTA)\n",
    "\n",
    "# 打印 C++ 结构体的值\n",
    "print(f\"lfHeight: {logfont.lfHeight}\")\n",
    "print(f\"lfWidth: {logfont.lfWidth}\")\n",
    "print(f\"lfEscapement: {logfont.lfEscapement}\")\n",
    "print(f\"lfOrientation: {logfont.lfOrientation}\")\n",
    "print(f\"lfWeight: {logfont.lfWeight}\")\n",
    "print(f\"lfItalic: {logfont.lfItalic}\")\n",
    "print(f\"lfUnderline: {logfont.lfUnderline}\")\n",
    "print(f\"lfStrikeOut: {logfont.lfStrikeOut}\")\n",
    "print(f\"lfCharSet: {logfont.lfCharSet}\")\n",
    "print(f\"lfOutPrecision: {logfont.lfOutPrecision}\")\n",
    "print(f\"lfClipPrecision: {logfont.lfClipPrecision}\")\n",
    "print(f\"lfQuality: {logfont.lfQuality}\")\n",
    "print(f\"lfPitchAndFamily: {logfont.lfPitchAndFamily}\")\n",
    "print(f\"lfFaceName: {logfont.lfFaceName}\")"
   ],
   "metadata": {
    "collapsed": false
   },
   "id": "6beb61fa42377124"
  },
  {
   "metadata": {
    "ExecuteTime": {
     "end_time": "2024-06-25T01:03:08.222621Z",
     "start_time": "2024-06-25T01:03:08.201553Z"
    }
   },
   "cell_type": "code",
   "source": [
    "import more_itertools\n",
    "\n",
    "data = list(range(1, 101))  # 示例数据\n",
    "\n",
    "group_size = 10\n",
    "groups = list(more_itertools.chunked(data, group_size))\n",
    "\n",
    "for group in groups:\n",
    "    print(group)"
   ],
   "id": "14196167be2048c8",
   "outputs": [
    {
     "name": "stdout",
     "output_type": "stream",
     "text": [
      "[1, 2, 3, 4, 5, 6, 7, 8, 9, 10]\n",
      "[11, 12, 13, 14, 15, 16, 17, 18, 19, 20]\n",
      "[21, 22, 23, 24, 25, 26, 27, 28, 29, 30]\n",
      "[31, 32, 33, 34, 35, 36, 37, 38, 39, 40]\n",
      "[41, 42, 43, 44, 45, 46, 47, 48, 49, 50]\n",
      "[51, 52, 53, 54, 55, 56, 57, 58, 59, 60]\n",
      "[61, 62, 63, 64, 65, 66, 67, 68, 69, 70]\n",
      "[71, 72, 73, 74, 75, 76, 77, 78, 79, 80]\n",
      "[81, 82, 83, 84, 85, 86, 87, 88, 89, 90]\n",
      "[91, 92, 93, 94, 95, 96, 97, 98, 99, 100]\n"
     ]
    }
   ],
   "execution_count": 1
  }
 ],
 "metadata": {
  "kernelspec": {
   "display_name": "Python 3",
   "language": "python",
   "name": "python3"
  },
  "language_info": {
   "codemirror_mode": {
    "name": "ipython",
    "version": 2
   },
   "file_extension": ".py",
   "mimetype": "text/x-python",
   "name": "python",
   "nbconvert_exporter": "python",
   "pygments_lexer": "ipython2",
   "version": "2.7.6"
  }
 },
 "nbformat": 4,
 "nbformat_minor": 5
}
