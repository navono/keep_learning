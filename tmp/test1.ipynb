{
 "cells": [
  {
   "cell_type": "code",
   "execution_count": 1,
   "id": "initial_id",
   "metadata": {
    "collapsed": true,
    "ExecuteTime": {
     "end_time": "2024-01-16T06:35:28.255492300Z",
     "start_time": "2024-01-16T06:35:28.031591100Z"
    }
   },
   "outputs": [],
   "source": [
    "import numpy as np"
   ]
  },
  {
   "cell_type": "code",
   "outputs": [
    {
     "ename": "ValueError",
     "evalue": "setting an array element with a sequence. The requested array has an inhomogeneous shape after 2 dimensions. The detected shape was (1, 3) + inhomogeneous part.",
     "output_type": "error",
     "traceback": [
      "\u001B[1;31m---------------------------------------------------------------------------\u001B[0m",
      "\u001B[1;31mValueError\u001B[0m                                Traceback (most recent call last)",
      "Cell \u001B[1;32mIn[2], line 2\u001B[0m\n\u001B[0;32m      1\u001B[0m \u001B[38;5;66;03m# 从数组构造 ndarray\u001B[39;00m\n\u001B[1;32m----> 2\u001B[0m lines \u001B[38;5;241m=\u001B[39m \u001B[43mnp\u001B[49m\u001B[38;5;241;43m.\u001B[39;49m\u001B[43marray\u001B[49m\u001B[43m(\u001B[49m\u001B[43m[\u001B[49m\u001B[43m[\u001B[49m\u001B[43m[\u001B[49m\u001B[38;5;241;43m3281.9\u001B[39;49m\u001B[43m,\u001B[49m\u001B[43m \u001B[49m\u001B[38;5;241;43m999.38\u001B[39;49m\u001B[43m,\u001B[49m\u001B[43m \u001B[49m\u001B[38;5;241;43m3281.9\u001B[39;49m\u001B[43m,\u001B[49m\u001B[43m \u001B[49m\u001B[38;5;241;43m1000.6\u001B[39;49m\u001B[43m]\u001B[49m\u001B[43m,\u001B[49m\u001B[43m \u001B[49m\u001B[43m[\u001B[49m\u001B[43m[\u001B[49m\u001B[38;5;241;43m1226.3\u001B[39;49m\u001B[43m,\u001B[49m\u001B[43m \u001B[49m\u001B[38;5;241;43m1294.5\u001B[39;49m\u001B[43m,\u001B[49m\u001B[43m \u001B[49m\u001B[38;5;241;43m1225.5\u001B[39;49m\u001B[43m,\u001B[49m\u001B[43m \u001B[49m\u001B[38;5;241;43m1291.9\u001B[39;49m\u001B[43m]\u001B[49m\u001B[43m]\u001B[49m\u001B[43m,\u001B[49m\n\u001B[0;32m      3\u001B[0m \u001B[43m                   \u001B[49m\u001B[43m[\u001B[49m\u001B[43m[\u001B[49m\u001B[38;5;241;43m793.2\u001B[39;49m\u001B[43m,\u001B[49m\u001B[43m \u001B[49m\u001B[38;5;241;43m1193.1\u001B[39;49m\u001B[43m,\u001B[49m\u001B[43m \u001B[49m\u001B[38;5;241;43m793.25\u001B[39;49m\u001B[43m,\u001B[49m\u001B[43m \u001B[49m\u001B[38;5;241;43m1200.6\u001B[39;49m\u001B[43m]\u001B[49m\u001B[43m]\u001B[49m\u001B[43m]\u001B[49m\u001B[43m]\u001B[49m\u001B[43m)\u001B[49m\n\u001B[0;32m      4\u001B[0m \u001B[38;5;28mprint\u001B[39m(lines)\n",
      "\u001B[1;31mValueError\u001B[0m: setting an array element with a sequence. The requested array has an inhomogeneous shape after 2 dimensions. The detected shape was (1, 3) + inhomogeneous part."
     ]
    }
   ],
   "source": [
    "# 从数组构造 ndarray\n",
    "lines = np.array([[[3281.9, 999.38, 3281.9, 1000.6], [[1226.3, 1294.5, 1225.5, 1291.9]],\n",
    "                   [[793.2, 1193.1, 793.25, 1200.6]]]])\n",
    "print(lines)"
   ],
   "metadata": {
    "collapsed": false,
    "ExecuteTime": {
     "end_time": "2024-01-15T02:17:42.110480300Z",
     "start_time": "2024-01-15T02:17:41.934329200Z"
    }
   },
   "id": "248f00e8937d625e",
   "execution_count": 2
  },
  {
   "cell_type": "code",
   "outputs": [
    {
     "name": "stderr",
     "output_type": "stream",
     "text": [
      "C:\\Users\\ping\\AppData\\Local\\Temp\\ipykernel_20016\\3060192485.py:3: VisibleDeprecationWarning: Creating an ndarray from ragged nested sequences (which is a list-or-tuple of lists-or-tuples-or ndarrays with different lengths or shapes) is deprecated. If you meant to do this, you must specify 'dtype=object' when creating the ndarray.\n",
      "  lines = np.array([[[3281.9, 999.38, 3281.9, 1000.6], [[1226.3, 1294.5, 1225.5, 1291.9]],\n"
     ]
    }
   ],
   "source": [
    "import numpy as np\n",
    "\n",
    "lines = np.array([[[3281.9, 999.38, 3281.9, 1000.6], [[1226.3, 1294.5, 1225.5, 1291.9]],\n",
    "                   [[793.2, 1193.1, 793.25, 1200.6]]]])\n",
    "\n",
    "# sorted_lines = lines[np.lexsort(lines[:, ::-1].T)]\n",
    "# print(sorted_lines)\n",
    "\n",
    "# # 提取每个线段的 x1 坐标（第一列）并排序\n",
    "# sorted_indices = np.argsort(lines[:, :, 0], axis=0)\n",
    "# \n",
    "# # 按照排序后的索引重新排列线段数据\n",
    "# sorted_lines = lines[sorted_indices]\n",
    "# \n",
    "# # 打印排序后的线段列表\n",
    "# print(sorted_lines)\n",
    "\n",
    "\n",
    "# lines = lines[lines[:, 0].argsort()]\n",
    "# lines = lines[-lines[:, 0].argsort()]\n",
    "\n",
    "\n",
    "# lines = np.sort(lines, axis=0)\n",
    "# print(lines)\n",
    "\n",
    "# data = lines.squeeze(0)\n",
    "data = lines\n",
    "idex = np.lexsort([data[:, 2], data[:, 1], data[:, 0]])\n",
    "sorted_data = data[idex, :]"
   ],
   "metadata": {
    "collapsed": false,
    "ExecuteTime": {
     "end_time": "2024-01-05T02:18:20.969351200Z",
     "start_time": "2024-01-05T02:18:20.944342100Z"
    }
   },
   "id": "99d6b16a9913af1e",
   "execution_count": 43
  },
  {
   "cell_type": "code",
   "outputs": [
    {
     "name": "stdout",
     "output_type": "stream",
     "text": [
      "[5 3 3 4]\n"
     ]
    },
    {
     "data": {
      "text/plain": "array([[1, 2, 3],\n       [2, 1, 3],\n       [2, 2, 5],\n       [3, 1, 4]])"
     },
     "execution_count": 52,
     "metadata": {},
     "output_type": "execute_result"
    }
   ],
   "source": [
    "data = np.array([[2, 2, 5], [2, 1, 3], [1, 2, 3], [3, 1, 4]])\n",
    "print(data[:, 2])\n",
    "idex = np.lexsort([data[:, 2], data[:, 1], data[:, 0]])\n",
    "# print(idex)\n",
    "sorted_data = data[idex, :]\n",
    "sorted_data"
   ],
   "metadata": {
    "collapsed": false,
    "ExecuteTime": {
     "end_time": "2024-01-05T02:21:09.474134700Z",
     "start_time": "2024-01-05T02:21:09.464955700Z"
    }
   },
   "id": "f9d985d2442778fe",
   "execution_count": 52
  },
  {
   "cell_type": "code",
   "outputs": [
    {
     "name": "stdout",
     "output_type": "stream",
     "text": [
      "[[[3281.9   999.38 3281.9  1000.6 ]]\n",
      "\n",
      " [[1226.3  1294.5  1225.5  1291.9 ]]\n",
      "\n",
      " [[ 793.2  1193.1   793.25 1200.6 ]]]\n",
      "[2 1 0]\n",
      "[[ 793.2  1193.1   793.25 1200.6 ]\n",
      " [1226.3  1294.5  1225.5  1291.9 ]\n",
      " [3281.9   999.38 3281.9  1000.6 ]]\n"
     ]
    }
   ],
   "source": [
    "n1 = np.array([[3281.9, 999.38, 3281.9, 1000.6]])\n",
    "n2 = np.array([[1226.3, 1294.5, 1225.5, 1291.9]])\n",
    "n3 = np.array([[793.2, 1193.1, 793.25, 1200.6]])\n",
    "lines = np.array([n1, n2, n3])\n",
    "print(lines)\n",
    "\n",
    "data = lines.squeeze()\n",
    "\n",
    "# print(data[:, 2])\n",
    "index = np.lexsort([data[:, 2], data[:, 1], data[:, 0]])\n",
    "print(index)\n",
    "sorted_data = data[idex, :]\n",
    "print(sorted_data)"
   ],
   "metadata": {
    "collapsed": false,
    "ExecuteTime": {
     "end_time": "2024-01-05T02:25:48.563237800Z",
     "start_time": "2024-01-05T02:25:48.551952300Z"
    }
   },
   "id": "83ff9a83e7f41373",
   "execution_count": 77
  }
 ],
 "metadata": {
  "kernelspec": {
   "display_name": "Python 3",
   "language": "python",
   "name": "python3"
  },
  "language_info": {
   "codemirror_mode": {
    "name": "ipython",
    "version": 2
   },
   "file_extension": ".py",
   "mimetype": "text/x-python",
   "name": "python",
   "nbconvert_exporter": "python",
   "pygments_lexer": "ipython2",
   "version": "2.7.6"
  }
 },
 "nbformat": 4,
 "nbformat_minor": 5
}
