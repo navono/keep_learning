{
 "cells": [
  {
   "cell_type": "code",
   "execution_count": 85,
   "id": "initial_id",
   "metadata": {
    "collapsed": true,
    "ExecuteTime": {
     "end_time": "2024-03-02T06:27:58.344087Z",
     "start_time": "2024-03-02T06:27:58.327691Z"
    }
   },
   "outputs": [],
   "source": [
    "import cv2\n",
    "import numpy as np"
   ]
  },
  {
   "cell_type": "code",
   "outputs": [],
   "source": [
    "# 定义点类\n",
    "class Point:\n",
    "    def __init__(self, x, y):\n",
    "        self.x = x\n",
    "        self.y = y\n",
    "\n",
    "    # 计算点到点的距离\n",
    "    def distance_to_point(self, other_point):\n",
    "        dx = self.x - other_point.x\n",
    "        dy = self.y - other_point.y\n",
    "        return np.sqrt(dx * dx + dy * dy)\n",
    "\n",
    "\n",
    "# 定义线段类\n",
    "class Line:\n",
    "    def __init__(self, start_point, end_point):\n",
    "        self.start_point = start_point\n",
    "        self.end_point = end_point\n",
    "\n",
    "    # 计算线段的长度\n",
    "\n",
    "    def get_length(self):\n",
    "        dx = self.end_point.x - self.start_point.x\n",
    "        dy = self.end_point.y - self.start_point.y\n",
    "        return np.sqrt(dx * dx + dy * dy)\n",
    "\n",
    "    # 判断两条线段是否相交\n",
    "    def is_intersecting(self, other_line):\n",
    "        # 计算两条线段的叉积\n",
    "        cross_product = (self.end_point.x - self.start_point.x) * (other_line.end_point.y - other_line.start_point.y) - \\\n",
    "                        (self.end_point.y - self.start_point.y) * (other_line.end_point.x - other_line.start_point.x)\n",
    "\n",
    "        # 如果叉积为 0，则两条线段平行或重叠\n",
    "        if cross_product == 0:\n",
    "            return False\n",
    "\n",
    "        # 判断两条线段是否在同一条直线上\n",
    "        if (self.start_point.x - other_line.start_point.x) * (self.end_point.y - other_line.end_point.y) == \\\n",
    "                (self.start_point.y - other_line.start_point.y) * (self.end_point.x - other_line.end_point.x):\n",
    "            return False\n",
    "\n",
    "        # 判断两条线段的端点是否在彼此的两侧\n",
    "        return (self.is_on_the_left_side(other_line.start_point) ^ self.is_on_the_left_side(other_line.end_point)) and \\\n",
    "            (other_line.is_on_the_left_side(self.start_point) ^ other_line.is_on_the_left_side(self.end_point))\n",
    "\n",
    "    # 判断点是否在线段的左侧\n",
    "    def is_on_the_left_side(self, point):\n",
    "        return (point.x - self.start_point.x) * (self.end_point.y - self.start_point.y) - \\\n",
    "            (point.y - self.start_point.y) * (self.end_point.x - self.start_point.x) > 0\n",
    "\n",
    "    # 计算两条线段的交点\n",
    "\n",
    "    def get_intersection_point(self, other_line):\n",
    "        # 判断两条线段是否相交\n",
    "        if not self.is_intersecting(other_line):\n",
    "            return None\n",
    "\n",
    "            # 计算两条线段的叉积\n",
    "        cross_product = (self.end_point.x - self.start_point.x) * (other_line.end_point.y - other_line.start_point.y) - \\\n",
    "                        (self.end_point.y - self.start_point.y) * (other_line.end_point.x - other_line.start_point.x)\n",
    "\n",
    "        # 计算交点的坐标\n",
    "        x = ((self.start_point.x * self.end_point.y - self.start_point.y * self.end_point.x) *\n",
    "             (other_line.end_point.x - other_line.start_point.x) -\n",
    "             (self.start_point.x - self.end_point.x) *\n",
    "             (\n",
    "                     other_line.start_point.x * other_line.end_point.y - other_line.start_point.y * other_line.end_point.x)) / \\\n",
    "            cross_product\n",
    "\n",
    "        y = ((self.start_point.x * self.end_point.y - self.start_point.y * self.end_point.x) *\n",
    "             (other_line.end_point.y - other_line.start_point.y) -\n",
    "             (self.start_point.y - self.end_point.y) *\n",
    "             (\n",
    "                     other_line.start_point.x * other_line.end_point.y - other_line.start_point.y * other_line.end_point.x)) / \\\n",
    "            cross_product\n",
    "\n",
    "        return Point(x, y)"
   ],
   "metadata": {
    "collapsed": false,
    "ExecuteTime": {
     "end_time": "2024-03-02T06:27:58.360091Z",
     "start_time": "2024-03-02T06:27:58.346086Z"
    }
   },
   "id": "445e08d305c5b7f7",
   "execution_count": 86
  },
  {
   "cell_type": "code",
   "outputs": [],
   "source": [
    "# 获取某个点的相邻点\n",
    "def get_neighbors(edges_np, point):\n",
    "    neighbors = []\n",
    "    for dx in [-1, 0, 1]:\n",
    "        for dy in [-1, 0, 1]:\n",
    "            if dx == 0 and dy == 0:\n",
    "                continue\n",
    "            neighbor = Point(point.x + dx, point.y + dy)\n",
    "            if 0 <= neighbor.x < edges_np.shape[1] and 0 <= neighbor.y < edges_np.shape[0]:\n",
    "                neighbors.append(neighbor)\n",
    "\n",
    "    return neighbors\n",
    "\n",
    "\n",
    "# 删除重复的线段\n",
    "def remove_duplicate_lines(lines):\n",
    "    unique_lines = []\n",
    "    for line in lines:\n",
    "        if line not in unique_lines:\n",
    "            unique_lines.append(line)\n",
    "\n",
    "    return unique_lines\n",
    "\n",
    "\n",
    "# 删除长度过短的线段\n",
    "def remove_short_lines(lines):\n",
    "    short_lines = []\n",
    "    for line in lines:\n",
    "        if line.get_length() < 10:\n",
    "            short_lines.append(line)\n",
    "\n",
    "    for line in short_lines:\n",
    "        lines.remove(line)\n",
    "\n",
    "    return lines\n",
    "\n",
    "\n",
    "# 合并相邻的线段\n",
    "def merge_adjacent_lines(lines):\n",
    "    merged_lines = []\n",
    "    for line1 in lines:\n",
    "        if line1 not in merged_lines:\n",
    "            merged_lines.append(line1)\n",
    "\n",
    "    for line1 in lines:\n",
    "        for line2 in lines:\n",
    "            if line1 != line2 and is_adjacent_lines(line1, line2):\n",
    "                merged_lines.append(Line(line1.start_point, line2.end_point))\n",
    "\n",
    "    return merged_lines\n",
    "\n",
    "\n",
    "# 判断两条线段是否相邻\n",
    "def is_adjacent_lines(line1, line2):\n",
    "    # 判断两条线段是否相交\n",
    "    if line1.is_intersecting(line2):\n",
    "        # 判断两条线段的交点是否在两条线段的端点附近\n",
    "        intersection_point = line1.get_intersection_point(line2)\n",
    "        if (intersection_point.distance_to_point(line1.start_point) < 10 or\n",
    "                intersection_point.distance_to_point(line1.end_point) < 10 or\n",
    "                intersection_point.distance_to_point(line2.start_point) < 10 or\n",
    "                intersection_point.distance_to_point(line2.end_point) < 10):\n",
    "            return True\n",
    "\n",
    "    return False\n"
   ],
   "metadata": {
    "collapsed": false,
    "ExecuteTime": {
     "end_time": "2024-03-02T06:27:58.376086Z",
     "start_time": "2024-03-02T06:27:58.361086Z"
    }
   },
   "id": "34c2072adaac1b38",
   "execution_count": 87
  },
  {
   "cell_type": "code",
   "outputs": [],
   "source": [
    "def get_lines_from_canny_edges(image):\n",
    "    # 使用 Canny 边缘检测算法对图像进行边缘检测\n",
    "    edges = cv2.Canny(image, 100, 200)\n",
    "\n",
    "    # 将 Canny 边缘检测的结果转换为 NumPy 数组\n",
    "    edges_np = np.array(edges)\n",
    "\n",
    "    # 提取所有边缘像素点的坐标\n",
    "    edge_points = []\n",
    "    for y in range(edges_np.shape[0]):\n",
    "        for x in range(edges_np.shape[1]):\n",
    "            if edges_np[y, x] != 0:\n",
    "                edge_points.append(Point(x, y))\n",
    "\n",
    "    # 构造线段\n",
    "    lines = []\n",
    "    for point in edge_points:\n",
    "        # 找到与当前点相邻的同一条线段上的所有点\n",
    "        line_points = []\n",
    "        for neighbor in get_neighbors(edges_np, point):\n",
    "            if edges_np[neighbor.y, neighbor.x] != 0:\n",
    "                line_points.append(neighbor)\n",
    "\n",
    "        # 将找到的所有点添加到线段中\n",
    "        if len(line_points) > 1:\n",
    "            lines.append(Line(point, line_points[-1]))\n",
    "\n",
    "    # 优化线段\n",
    "    lines = remove_duplicate_lines(lines)\n",
    "    # lines = remove_short_lines(lines)\n",
    "    lines = merge_adjacent_lines(lines)\n",
    "\n",
    "    return lines"
   ],
   "metadata": {
    "collapsed": false,
    "ExecuteTime": {
     "end_time": "2024-03-02T06:27:58.392087Z",
     "start_time": "2024-03-02T06:27:58.377086Z"
    }
   },
   "id": "edfe9ed1184f4556",
   "execution_count": 88
  },
  {
   "cell_type": "code",
   "outputs": [],
   "source": [
    "def show_lines(image, lines):\n",
    "    # 将线段绘制到图像上\n",
    "    for line in lines:\n",
    "        cv2.line(image, line.start_point, line.end_point, (0, 255, 0), 2)\n",
    "\n",
    "    # 显示图像\n",
    "    cv2.imshow(\"Image\", image)\n",
    "    cv2.waitKey(0)"
   ],
   "metadata": {
    "collapsed": false,
    "ExecuteTime": {
     "end_time": "2024-03-02T06:27:58.408090Z",
     "start_time": "2024-03-02T06:27:58.394090Z"
    }
   },
   "id": "6bdd5626b5446675",
   "execution_count": 89
  },
  {
   "cell_type": "code",
   "outputs": [
    {
     "name": "stdout",
     "output_type": "stream",
     "text": [
      "3626\n"
     ]
    },
    {
     "ename": "error",
     "evalue": "OpenCV(4.9.0) :-1: error: (-5:Bad argument) in function 'line'\n> Overload resolution failed:\n>  - Can't parse 'pt1'. Input argument doesn't provide sequence protocol\n>  - Can't parse 'pt1'. Input argument doesn't provide sequence protocol\n",
     "output_type": "error",
     "traceback": [
      "\u001B[1;31m---------------------------------------------------------------------------\u001B[0m",
      "\u001B[1;31merror\u001B[0m                                     Traceback (most recent call last)",
      "Cell \u001B[1;32mIn[90], line 8\u001B[0m\n\u001B[0;32m      6\u001B[0m \u001B[38;5;28mprint\u001B[39m(\u001B[38;5;28mlen\u001B[39m(lines))\n\u001B[0;32m      7\u001B[0m \u001B[38;5;66;03m# 显示结果\u001B[39;00m\n\u001B[1;32m----> 8\u001B[0m \u001B[43mshow_lines\u001B[49m\u001B[43m(\u001B[49m\u001B[43mimage\u001B[49m\u001B[43m,\u001B[49m\u001B[43m \u001B[49m\u001B[43mlines\u001B[49m\u001B[43m)\u001B[49m\n",
      "Cell \u001B[1;32mIn[89], line 4\u001B[0m, in \u001B[0;36mshow_lines\u001B[1;34m(image, lines)\u001B[0m\n\u001B[0;32m      1\u001B[0m \u001B[38;5;28;01mdef\u001B[39;00m \u001B[38;5;21mshow_lines\u001B[39m(image, lines):\n\u001B[0;32m      2\u001B[0m     \u001B[38;5;66;03m# 将线段绘制到图像上\u001B[39;00m\n\u001B[0;32m      3\u001B[0m     \u001B[38;5;28;01mfor\u001B[39;00m line \u001B[38;5;129;01min\u001B[39;00m lines:\n\u001B[1;32m----> 4\u001B[0m         \u001B[43mcv2\u001B[49m\u001B[38;5;241;43m.\u001B[39;49m\u001B[43mline\u001B[49m\u001B[43m(\u001B[49m\u001B[43mimage\u001B[49m\u001B[43m,\u001B[49m\u001B[43m \u001B[49m\u001B[43mline\u001B[49m\u001B[38;5;241;43m.\u001B[39;49m\u001B[43mstart_point\u001B[49m\u001B[43m,\u001B[49m\u001B[43m \u001B[49m\u001B[43mline\u001B[49m\u001B[38;5;241;43m.\u001B[39;49m\u001B[43mend_point\u001B[49m\u001B[43m,\u001B[49m\u001B[43m \u001B[49m\u001B[43m(\u001B[49m\u001B[38;5;241;43m0\u001B[39;49m\u001B[43m,\u001B[49m\u001B[43m \u001B[49m\u001B[38;5;241;43m255\u001B[39;49m\u001B[43m,\u001B[49m\u001B[43m \u001B[49m\u001B[38;5;241;43m0\u001B[39;49m\u001B[43m)\u001B[49m\u001B[43m,\u001B[49m\u001B[43m \u001B[49m\u001B[38;5;241;43m2\u001B[39;49m\u001B[43m)\u001B[49m\n\u001B[0;32m      6\u001B[0m     \u001B[38;5;66;03m# 显示图像\u001B[39;00m\n\u001B[0;32m      7\u001B[0m     cv2\u001B[38;5;241m.\u001B[39mimshow(\u001B[38;5;124m\"\u001B[39m\u001B[38;5;124mImage\u001B[39m\u001B[38;5;124m\"\u001B[39m, image)\n",
      "\u001B[1;31merror\u001B[0m: OpenCV(4.9.0) :-1: error: (-5:Bad argument) in function 'line'\n> Overload resolution failed:\n>  - Can't parse 'pt1'. Input argument doesn't provide sequence protocol\n>  - Can't parse 'pt1'. Input argument doesn't provide sequence protocol\n"
     ]
    }
   ],
   "source": [
    "# 读取待处理的图像\n",
    "image = cv2.imread(\"tower.png\")\n",
    "\n",
    "# 获取线段\n",
    "lines = get_lines_from_canny_edges(image)\n",
    "print(len(lines))\n",
    "# 显示结果\n",
    "show_lines(image, lines)"
   ],
   "metadata": {
    "collapsed": false,
    "ExecuteTime": {
     "end_time": "2024-03-02T06:28:29.813301Z",
     "start_time": "2024-03-02T06:27:58.409086Z"
    }
   },
   "id": "971a03cc93eb083a",
   "execution_count": 90
  },
  {
   "cell_type": "code",
   "outputs": [
    {
     "data": {
      "text/plain": "-1"
     },
     "execution_count": 103,
     "metadata": {},
     "output_type": "execute_result"
    }
   ],
   "source": [
    "# 读取图像\n",
    "image = cv2.imread('tower.png', cv2.IMREAD_GRAYSCALE)\n",
    "# gray = cv2.cvtColor(image, cv2.COLOR_BGR2GRAY)\n",
    "# ret, binary = cv2.threshold(gray, 127, 255, cv2.THRESH_BINARY)\n",
    "\n",
    "# 使用 Canny 边缘检测\n",
    "# edges = cv2.Canny(image, 100, 200)\n",
    "\n",
    "# 使用轮廓检测\n",
    "contours, hierarchy = cv2.findContours(image, cv2.RETR_EXTERNAL, cv2.CHAIN_APPROX_SIMPLE)\n",
    "cv2.drawContours(image, contours, -1, (0, 0, 255), 3)\n",
    "\n",
    "cv2.imshow(\"img\", image)\n",
    "cv2.waitKey(0)\n",
    "\n",
    "# # 提取路径数据\n",
    "# path_data = \"\"\n",
    "# for contour in contours:\n",
    "#     for point in contour.squeeze():\n",
    "# \n",
    "#         if isinstance(point, np.ndarray) and len(point) == 2:\n",
    "#             path_data += f\"{point[0]},{point[1]} \"\n",
    "# \n",
    "# # 输出路径数据\n",
    "# print(\"Path data:\", path_data)"
   ],
   "metadata": {
    "collapsed": false,
    "ExecuteTime": {
     "end_time": "2024-03-02T06:36:41.932923Z",
     "start_time": "2024-03-02T06:36:19.251849Z"
    }
   },
   "id": "8779a01de8dac222",
   "execution_count": 103
  },
  {
   "cell_type": "code",
   "outputs": [
    {
     "data": {
      "text/plain": "-1"
     },
     "execution_count": 125,
     "metadata": {},
     "output_type": "execute_result"
    }
   ],
   "source": [
    "img = cv2.imread('tower.png')\n",
    "gray = cv2.cvtColor(img, cv2.COLOR_BGR2GRAY)\n",
    "ret, binary = cv2.threshold(gray, 127, 255, cv2.THRESH_BINARY)\n",
    "\n",
    "contours, hierarchy = cv2.findContours(binary, cv2.RETR_TREE, cv2.CHAIN_APPROX_SIMPLE)\n",
    "cv2.drawContours(img, contours, -1, (0, 0, 255), 1)\n",
    "\n",
    "cv2.imshow(\"img\", img)\n",
    "cv2.waitKey(0)"
   ],
   "metadata": {
    "collapsed": false,
    "ExecuteTime": {
     "end_time": "2024-03-02T06:56:52.434136Z",
     "start_time": "2024-03-02T06:56:50.576321Z"
    }
   },
   "id": "7cbb323adf180cad",
   "execution_count": 125
  },
  {
   "cell_type": "code",
   "outputs": [
    {
     "ename": "AttributeError",
     "evalue": "'Path' object has no attribute 'moveTo'",
     "output_type": "error",
     "traceback": [
      "\u001B[1;31m---------------------------------------------------------------------------\u001B[0m",
      "\u001B[1;31mAttributeError\u001B[0m                            Traceback (most recent call last)",
      "Cell \u001B[1;32mIn[109], line 42\u001B[0m\n\u001B[0;32m     39\u001B[0m image \u001B[38;5;241m=\u001B[39m cv2\u001B[38;5;241m.\u001B[39mimread(\u001B[38;5;124m\"\u001B[39m\u001B[38;5;124mtower.png\u001B[39m\u001B[38;5;124m\"\u001B[39m)\n\u001B[0;32m     41\u001B[0m \u001B[38;5;66;03m# 获取 pathdata 数据\u001B[39;00m\n\u001B[1;32m---> 42\u001B[0m pathdata \u001B[38;5;241m=\u001B[39m \u001B[43mget_pathdata_from_canny_edges\u001B[49m\u001B[43m(\u001B[49m\u001B[43mimage\u001B[49m\u001B[43m)\u001B[49m\n\u001B[0;32m     44\u001B[0m \u001B[38;5;66;03m# 打印 pathdata 数据\u001B[39;00m\n\u001B[0;32m     45\u001B[0m \u001B[38;5;28mprint\u001B[39m(pathdata)\n",
      "Cell \u001B[1;32mIn[109], line 26\u001B[0m, in \u001B[0;36mget_pathdata_from_canny_edges\u001B[1;34m(image)\u001B[0m\n\u001B[0;32m     24\u001B[0m \u001B[38;5;28;01mfor\u001B[39;00m point \u001B[38;5;129;01min\u001B[39;00m edge_points:\n\u001B[0;32m     25\u001B[0m     \u001B[38;5;28;01mif\u001B[39;00m \u001B[38;5;28mlen\u001B[39m(path) \u001B[38;5;241m==\u001B[39m \u001B[38;5;241m0\u001B[39m:\n\u001B[1;32m---> 26\u001B[0m         \u001B[43mpath\u001B[49m\u001B[38;5;241;43m.\u001B[39;49m\u001B[43mmoveTo\u001B[49m(point)\n\u001B[0;32m     27\u001B[0m     \u001B[38;5;28;01melse\u001B[39;00m:\n\u001B[0;32m     28\u001B[0m         path\u001B[38;5;241m.\u001B[39mlineTo(point)\n",
      "\u001B[1;31mAttributeError\u001B[0m: 'Path' object has no attribute 'moveTo'"
     ]
    }
   ],
   "source": [
    "import cv2\n",
    "import numpy as np\n",
    "import svgpathtools\n",
    "\n",
    "\n",
    "def get_pathdata_from_canny_edges(image):\n",
    "    # 使用 Canny 边缘检测算法对图像进行边缘检测\n",
    "    edges = cv2.Canny(image, 100, 200)\n",
    "\n",
    "    # 将 Canny 边缘检测的结果转换为 NumPy 数组\n",
    "    edges_np = np.array(edges)\n",
    "\n",
    "    # 提取所有边缘像素点的坐标\n",
    "    edge_points = []\n",
    "    # print(edges_np)\n",
    "    # print(edges_np.shape)\n",
    "    for y in range(edges_np.shape[0]):\n",
    "        for x in range(edges_np.shape[1]):\n",
    "            if edges_np[y, x] != 0:\n",
    "                edge_points.append((x, y))\n",
    "\n",
    "    path = svgpathtools.Path()\n",
    "    # 构造 Path2D\n",
    "    for point in edge_points:\n",
    "        if len(path) == 0:\n",
    "            path.moveTo(point)\n",
    "        else:\n",
    "            path.lineTo(point)\n",
    "\n",
    "    path.closePath()\n",
    "\n",
    "    # 获取 pathdata 数据\n",
    "    pathdata = path.get_pathdata()\n",
    "\n",
    "    return pathdata\n",
    "\n",
    "\n",
    "# 读取待处理的图像\n",
    "image = cv2.imread(\"tower.png\")\n",
    "\n",
    "# 获取 pathdata 数据\n",
    "pathdata = get_pathdata_from_canny_edges(image)\n",
    "\n",
    "# 打印 pathdata 数据\n",
    "print(pathdata)"
   ],
   "metadata": {
    "collapsed": false,
    "ExecuteTime": {
     "end_time": "2024-03-02T06:47:01.048364Z",
     "start_time": "2024-03-02T06:47:00.955183Z"
    }
   },
   "id": "5f6cbdb20e00ffd",
   "execution_count": 109
  },
  {
   "cell_type": "code",
   "outputs": [
    {
     "name": "stdout",
     "output_type": "stream",
     "text": [
      "contours length:  31\n",
      "path data length 1213\n",
      "[[18, 109], [17, 110], [18, 111], [28, 111], [29, 112], [29, 119], [27, 121], [26, 121], [24, 123], [23, 123], [22, 124], [21, 124], [20, 125], [19, 125], [18, 126], [17, 126], [15, 128], [14, 128], [13, 129], [12, 129], [11, 130], [10, 130], [8, 132], [7, 132], [6, 133], [5, 133], [5, 415], [4, 416], [2, 416], [1, 415], [0, 415], [0, 418], [3, 418], [4, 417], [5, 418], [5, 463], [4, 464], [2, 464], [4, 464], [5, 465], [5, 535], [7, 537], [7, 538], [8, 539], [8, 540], [9, 541], [9, 542], [10, 543], [10, 544], [21, 555], [22, 555], [23, 556], [24, 556], [25, 557], [26, 557], [27, 558], [28, 558], [29, 559], [31, 559], [32, 560], [37, 560], [38, 561], [42, 561], [43, 562], [43, 564], [44, 564], [44, 561], [45, 560], [50, 560], [51, 559], [54, 559], [55, 558], [56, 558], [57, 557], [58, 557], [59, 556], [60, 556], [61, 555], [62, 555], [67, 550], [68, 550], [71, 547], [71, 546], [73, 544], [73, 543], [74, 542], [74, 541], [76, 539], [76, 538], [77, 537], [77, 138], [74, 135], [73, 135], [71, 133], [70, 133], [68, 131], [67, 131], [65, 129], [64, 129], [61, 126], [60, 126], [58, 124], [57, 124], [55, 122], [54, 122], [51, 119], [51, 112], [52, 111], [62, 111], [62, 109], [27, 555], [28, 554], [55, 554], [56, 555], [55, 556], [54, 556], [53, 557], [52, 557], [51, 558], [46, 558], [45, 559], [39, 559], [38, 558], [33, 558], [32, 557], [30, 557], [29, 556], [28, 556], [39, 550], [40, 549], [44, 549], [45, 550], [47, 550], [48, 551], [50, 551], [51, 552], [50, 553], [36, 553], [35, 552], [36, 551], [37, 551], [38, 550], [28, 545], [29, 544], [31, 544], [32, 545], [33, 545], [34, 546], [36, 546], [37, 547], [38, 547], [39, 548], [38, 549], [37, 549], [36, 550], [35, 550], [34, 551], [33, 551], [32, 552], [31, 552], [30, 553], [29, 553], [28, 552], [54, 543], [55, 542], [56, 543], [56, 551], [55, 552], [54, 552], [53, 551], [52, 551], [51, 550], [49, 550], [48, 549], [46, 549], [45, 548], [47, 546], [48, 546], [49, 545], [50, 545], [51, 544], [52, 544], [53, 543], [28, 542], [29, 541], [51, 541], [52, 542], [51, 543], [50, 543], [49, 544], [48, 544], [47, 545], [46, 545], [45, 546], [44, 546], [43, 547], [41, 547], [40, 546], [38, 546], [37, 545], [35, 545], [34, 544], [33, 544], [32, 543], [29, 543], [7, 364], [8, 363], [74, 363], [75, 364], [75, 536], [74, 537], [74, 538], [72, 540], [72, 541], [71, 542], [71, 543], [69, 545], [69, 546], [67, 548], [66, 548], [61, 553], [58, 553], [57, 552], [57, 540], [29, 540], [28, 541], [27, 541], [27, 554], [26, 555], [25, 554], [24, 554], [23, 553], [22, 553], [12, 543], [12, 542], [11, 541], [11, 540], [10, 539], [10, 538], [9, 537], [9, 536], [7, 534], [7, 531], [8, 530], [8, 528], [7, 527], [20, 383], [20, 399], [59, 399], [59, 383], [56, 385], [57, 385], [58, 386], [58, 396], [57, 397], [56, 397], [55, 396], [55, 389], [53, 391], [52, 390], [52, 389], [46, 385], [48, 385], [51, 388], [51, 394], [48, 397], [46, 397], [43, 394], [43, 388], [47, 388], [46, 389], [46, 393], [47, 394], [48, 393], [48, 389], [37, 385], [41, 385], [43, 387], [43, 389], [42, 390], [42, 391], [43, 392], [43, 394], [40, 397], [38, 397], [35, 394], [32, 394], [31, 393], [31, 392], [32, 391], [35, 391], [36, 392], [37, 392], [39, 394], [40, 394], [40, 392], [39, 392], [38, 391], [38, 390], [39, 389], [40, 389], [40, 388], [38, 388], [37, 389], [36, 389], [35, 388], [35, 387], [23, 386], [24, 385], [27, 385], [30, 388], [28, 390], [26, 388], [24, 388], [23, 389], [23, 393], [24, 394], [26, 394], [28, 392], [30, 394], [27, 397], [24, 397], [23, 396], [22, 396], [21, 395], [21, 394], [20, 393], [20, 389], [21, 388], [21, 387], [22, 386], [38, 345], [39, 344], [42, 344], [44, 346], [45, 346], [46, 347], [47, 347], [49, 349], [50, 349], [51, 350], [52, 350], [54, 352], [55, 352], [57, 354], [58, 354], [59, 355], [60, 355], [62, 357], [63, 357], [64, 358], [65, 358], [67, 360], [68, 360], [69, 361], [68, 362], [12, 362], [11, 361], [12, 360], [13, 360], [15, 358], [16, 358], [17, 357], [18, 357], [20, 355], [21, 355], [22, 354], [23, 354], [24, 353], [25, 353], [27, 351], [28, 351], [29, 350], [30, 350], [32, 348], [33, 348], [34, 347], [35, 347], [37, 345], [7, 325], [8, 324], [9, 324], [11, 326], [12, 326], [13, 327], [14, 327], [16, 329], [17, 329], [18, 330], [19, 330], [21, 332], [22, 332], [24, 334], [25, 334], [26, 335], [27, 335], [29, 337], [30, 337], [31, 338], [32, 338], [34, 340], [35, 340], [36, 341], [37, 341], [38, 342], [38, 343], [37, 344], [36, 344], [34, 346], [33, 346], [32, 347], [31, 347], [29, 349], [28, 349], [27, 350], [26, 350], [24, 352], [23, 352], [22, 353], [21, 353], [20, 354], [19, 354], [17, 356], [16, 356], [15, 357], [14, 357], [12, 359], [11, 359], [10, 360], [9, 360], [8, 361], [7, 360], [74, 323], [75, 324], [75, 361], [74, 362], [73, 362], [71, 360], [70, 360], [69, 359], [68, 359], [66, 357], [65, 357], [64, 356], [63, 356], [61, 354], [60, 354], [59, 353], [58, 353], [56, 351], [55, 351], [53, 349], [52, 349], [51, 348], [50, 348], [48, 346], [47, 346], [46, 345], [45, 345], [43, 343], [43, 342], [44, 341], [45, 341], [47, 339], [48, 339], [49, 338], [50, 338], [52, 336], [53, 336], [54, 335], [55, 335], [57, 333], [58, 333], [59, 332], [60, 332], [61, 331], [62, 331], [64, 329], [65, 329], [66, 328], [67, 328], [69, 326], [70, 326], [71, 325], [72, 325], [10, 323], [11, 322], [71, 322], [72, 323], [71, 324], [70, 324], [69, 325], [68, 325], [66, 327], [65, 327], [64, 328], [63, 328], [61, 330], [60, 330], [59, 331], [58, 331], [57, 332], [56, 332], [54, 334], [53, 334], [52, 335], [51, 335], [49, 337], [48, 337], [47, 338], [46, 338], [44, 340], [43, 340], [42, 341], [41, 341], [40, 342], [38, 340], [37, 340], [36, 339], [35, 339], [33, 337], [32, 337], [31, 336], [30, 336], [28, 334], [27, 334], [26, 333], [25, 333], [23, 331], [22, 331], [20, 329], [19, 329], [18, 328], [17, 328], [15, 326], [14, 326], [13, 325], [12, 325], [7, 304], [8, 303], [74, 303], [75, 304], [75, 320], [74, 321], [8, 321], [7, 320], [38, 285], [39, 284], [40, 284], [41, 285], [42, 285], [44, 287], [45, 287], [46, 288], [47, 288], [49, 290], [50, 290], [51, 291], [52, 291], [54, 293], [55, 293], [56, 294], [57, 294], [59, 296], [60, 296], [61, 297], [62, 297], [63, 298], [64, 298], [66, 300], [67, 300], [68, 301], [67, 302], [11, 302], [10, 301], [11, 300], [12, 300], [13, 299], [14, 299], [16, 297], [17, 297], [18, 296], [19, 296], [20, 295], [21, 295], [23, 293], [24, 293], [25, 292], [26, 292], [28, 290], [29, 290], [30, 289], [31, 289], [32, 288], [33, 288], [35, 286], [36, 286], [37, 285], [7, 266], [8, 265], [10, 267], [11, 267], [12, 268], [13, 268], [15, 270], [16, 270], [17, 271], [18, 271], [19, 272], [20, 272], [22, 274], [23, 274], [24, 275], [25, 275], [27, 277], [28, 277], [29, 278], [30, 278], [32, 280], [33, 280], [34, 281], [35, 281], [37, 283], [35, 285], [34, 285], [32, 287], [31, 287], [30, 288], [29, 288], [28, 289], [27, 289], [25, 291], [24, 291], [23, 292], [22, 292], [20, 294], [19, 294], [18, 295], [17, 295], [16, 296], [15, 296], [13, 298], [12, 298], [11, 299], [10, 299], [9, 300], [8, 300], [7, 299], [73, 264], [74, 264], [75, 265], [75, 301], [74, 302], [72, 302], [70, 300], [69, 300], [68, 299], [67, 299], [65, 297], [64, 297], [63, 296], [62, 296], [61, 295], [60, 295], [58, 293], [57, 293], [56, 292], [55, 292], [53, 290], [52, 290], [51, 289], [50, 289], [48, 287], [47, 287], [46, 286], [45, 286], [43, 284], [42, 284], [41, 283], [42, 282], [43, 282], [44, 281], [45, 281], [47, 279], [48, 279], [49, 278], [50, 278], [51, 277], [52, 277], [54, 275], [55, 275], [56, 274], [57, 274], [59, 272], [60, 272], [61, 271], [62, 271], [63, 270], [64, 270], [66, 268], [67, 268], [68, 267], [69, 267], [70, 266], [71, 266], [9, 264], [10, 263], [70, 263], [71, 264], [70, 265], [69, 265], [68, 266], [67, 266], [66, 267], [65, 267], [63, 269], [62, 269], [61, 270], [60, 270], [59, 271], [58, 271], [56, 273], [55, 273], [54, 274], [53, 274], [51, 276], [50, 276], [49, 277], [48, 277], [47, 278], [46, 278], [44, 280], [43, 280], [42, 281], [41, 281], [40, 282], [38, 282], [36, 280], [35, 280], [34, 279], [33, 279], [31, 277], [30, 277], [29, 276], [28, 276], [26, 274], [25, 274], [24, 273], [23, 273], [21, 271], [20, 271], [19, 270], [18, 270], [17, 269], [16, 269], [14, 267], [13, 267], [12, 266], [11, 266], [7, 198], [8, 197], [74, 197], [75, 198], [75, 261], [74, 262], [8, 262], [7, 261], [38, 177], [39, 176], [40, 176], [42, 178], [43, 178], [45, 180], [46, 180], [48, 182], [49, 182], [50, 183], [51, 183], [53, 185], [54, 185], [56, 187], [57, 187], [59, 189], [60, 189], [62, 191], [63, 191], [65, 193], [66, 193], [68, 195], [67, 196], [11, 196], [10, 195], [12, 193], [13, 193], [15, 191], [16, 191], [17, 190], [18, 190], [20, 188], [21, 188], [23, 186], [24, 186], [26, 184], [27, 184], [28, 183], [29, 183], [31, 181], [32, 181], [34, 179], [35, 179], [37, 177], [7, 156], [8, 155], [10, 157], [11, 157], [13, 159], [14, 159], [16, 161], [17, 161], [19, 163], [20, 163], [22, 165], [23, 165], [25, 167], [26, 167], [28, 169], [29, 169], [30, 170], [31, 170], [33, 172], [34, 172], [36, 174], [37, 174], [38, 175], [37, 176], [36, 176], [34, 178], [33, 178], [31, 180], [30, 180], [28, 182], [27, 182], [26, 183], [25, 183], [23, 185], [22, 185], [20, 187], [19, 187], [17, 189], [16, 189], [15, 190], [14, 190], [12, 192], [11, 192], [9, 194], [8, 194], [7, 193], [73, 154], [74, 154], [75, 155], [75, 195], [74, 196], [72, 196], [70, 194], [69, 194], [67, 192], [66, 192], [64, 190], [63, 190], [61, 188], [60, 188], [58, 186], [57, 186], [55, 184], [54, 184], [52, 182], [51, 182], [50, 181], [49, 181], [47, 179], [46, 179], [44, 177], [43, 177], [41, 175], [42, 174], [43, 174], [45, 172], [46, 172], [48, 170], [49, 170], [51, 168], [52, 168], [53, 167], [54, 167], [56, 165], [57, 165], [59, 163], [60, 163], [62, 161], [63, 161], [64, 160], [65, 160], [67, 158], [68, 158], [70, 156], [71, 156], [9, 154], [10, 153], [70, 153], [71, 154], [70, 155], [69, 155], [67, 157], [66, 157], [64, 159], [63, 159], [62, 160], [61, 160], [59, 162], [58, 162], [56, 164], [55, 164], [53, 166], [52, 166], [51, 167], [50, 167], [48, 169], [47, 169], [45, 171], [44, 171], [42, 173], [41, 173], [40, 174], [39, 174], [38, 173], [37, 173], [35, 171], [34, 171], [32, 169], [31, 169], [30, 168], [29, 168], [27, 166], [26, 166], [24, 164], [23, 164], [21, 162], [20, 162], [18, 160], [17, 160], [15, 158], [14, 158], [12, 156], [11, 156], [30, 112], [31, 111], [49, 111], [50, 112], [50, 121], [53, 124], [54, 124], [56, 126], [57, 126], [59, 128], [60, 128], [63, 131], [64, 131], [66, 133], [67, 133], [69, 135], [70, 135], [72, 137], [73, 137], [75, 139], [75, 151], [74, 152], [8, 152], [7, 151], [7, 135], [8, 134], [9, 134], [11, 132], [12, 132], [13, 131], [14, 131], [15, 130], [16, 130], [18, 128], [19, 128], [20, 127], [21, 127], [22, 126], [23, 126], [24, 125], [25, 125], [27, 123], [28, 123], [30, 121], [29, 120], [30, 119], [20, 12], [19, 13], [20, 14], [29, 14], [30, 15], [30, 20], [28, 22], [27, 22], [25, 24], [24, 24], [23, 25], [22, 25], [21, 26], [20, 26], [19, 27], [18, 27], [16, 29], [15, 29], [14, 30], [13, 30], [12, 31], [11, 31], [10, 32], [9, 32], [7, 34], [6, 34], [5, 35], [4, 35], [4, 79], [6, 81], [7, 81], [9, 83], [10, 83], [11, 84], [12, 84], [13, 85], [14, 85], [16, 87], [17, 87], [18, 88], [19, 88], [20, 89], [21, 89], [22, 90], [23, 90], [25, 92], [26, 92], [27, 93], [28, 93], [29, 94], [29, 101], [28, 102], [18, 102], [17, 103], [18, 104], [62, 104], [62, 102], [54, 102], [53, 101], [53, 95], [55, 93], [56, 93], [57, 92], [59, 92], [60, 91], [61, 91], [62, 90], [63, 90], [64, 89], [65, 89], [66, 88], [68, 88], [69, 87], [70, 87], [71, 86], [72, 86], [73, 85], [75, 85], [76, 84], [77, 84], [77, 36], [76, 35], [75, 35], [74, 34], [73, 34], [71, 32], [70, 32], [69, 31], [68, 31], [66, 29], [65, 29], [63, 27], [62, 27], [61, 26], [60, 26], [58, 24], [57, 24], [56, 23], [55, 23], [53, 21], [53, 15], [54, 14], [64, 14], [64, 12], [32, 15], [33, 14], [50, 14], [51, 15], [51, 22], [54, 25], [55, 25], [56, 26], [57, 26], [59, 28], [60, 28], [61, 29], [62, 29], [64, 31], [65, 31], [67, 33], [68, 33], [69, 34], [70, 34], [72, 36], [73, 36], [74, 37], [75, 37], [77, 39], [77, 81], [76, 82], [75, 82], [74, 83], [72, 83], [71, 84], [70, 84], [69, 85], [68, 85], [67, 86], [65, 86], [64, 87], [63, 87], [62, 88], [61, 88], [60, 89], [59, 89], [58, 90], [56, 90], [55, 91], [54, 91], [53, 92], [52, 92], [51, 93], [51, 101], [50, 102], [32, 102], [31, 101], [31, 92], [30, 91], [29, 92], [26, 89], [25, 89], [24, 88], [23, 88], [22, 87], [21, 87], [20, 86], [19, 86], [18, 85], [17, 85], [15, 83], [14, 83], [13, 82], [12, 82], [11, 81], [10, 81], [8, 79], [7, 79], [6, 78], [6, 37], [7, 36], [8, 36], [10, 34], [11, 34], [12, 33], [13, 33], [14, 32], [15, 32], [16, 31], [17, 31], [19, 29], [20, 29], [21, 28], [22, 28], [23, 27], [24, 27], [25, 26], [26, 26], [28, 24], [29, 24], [30, 23], [31, 23], [32, 22], [42, 0], [42, 4], [41, 5], [20, 5], [19, 6], [20, 7], [64, 7], [64, 5], [44, 5], [43, 4], [43, 0]]\n"
     ]
    },
    {
     "data": {
      "text/plain": "<Figure size 640x480 with 1 Axes>",
      "image/png": "[encoded data removed]"
     },
     "metadata": {},
     "output_type": "display_data"
    },
    {
     "data": {
      "text/plain": "-1"
     },
     "execution_count": 156,
     "metadata": {},
     "output_type": "execute_result"
    }
   ],
   "source": [
    "import cv2\n",
    "import numpy as np\n",
    "import matplotlib.path as mpath\n",
    "import matplotlib.patches as mpatches\n",
    "import matplotlib.pyplot as plt\n",
    "\n",
    "img = cv2.imread('tower.png')\n",
    "gray = cv2.cvtColor(img, cv2.COLOR_BGR2GRAY)\n",
    "ret, binary = cv2.threshold(gray, 127, 255, cv2.THRESH_BINARY)\n",
    "\n",
    "contours, hierarchy = cv2.findContours(binary, cv2.RETR_TREE, cv2.CHAIN_APPROX_SIMPLE)\n",
    "cv2.drawContours(img, contours, -1, (0, 0, 255), 1)\n",
    "\n",
    "# 提取第一个轮廓的路径数据\n",
    "path_data = []\n",
    "\n",
    "# # 遍历 contours 所有的点，将其添加到 path_data 中\n",
    "for contour in contours:\n",
    "    for point in contour.squeeze():\n",
    "        if isinstance(point, np.ndarray) and len(point) == 2:\n",
    "            path_data.append([point[0], point[1]])\n",
    "\n",
    "# for contour in contours:\n",
    "#     hull = cv2.convexHull(contour)\n",
    "#     for point in hull.squeeze():\n",
    "#         if isinstance(point, np.ndarray) and len(point) == 2:\n",
    "#             path_data.append([point[0], point[1]])\n",
    "\n",
    "# 创建Path2D对象\n",
    "print(f\"contours length: \", len(contours))\n",
    "print(f\"path data length\", len(path_data))\n",
    "print(f\"path data: \", path_data)\n",
    "path = mpath.Path(path_data)\n",
    "\n",
    "# 绘制路径\n",
    "fig, ax = plt.subplots()\n",
    "patch = mpatches.PathPatch(path, facecolor='none', edgecolor='red')\n",
    "ax.add_patch(patch)\n",
    "ax.set_xlim(0, img.shape[1])\n",
    "ax.set_ylim(img.shape[0], 0)\n",
    "plt.show()\n",
    "\n",
    "# 绘制路径\n",
    "# fig, ax = plt.subplots()\n",
    "# patch = mpatches.PathPatch(path, facecolor='none', edgecolor='red')\n",
    "# ax.add_patch(patch)\n",
    "# # 设置图像的宽度和高度比例\n",
    "# ax.imshow(cv2.cvtColor(img, cv2.COLOR_BGR2RGB), extent=[0, img.shape[1], img.shape[0], 0])\n",
    "# plt.show()\n",
    "\n",
    "cv2.imshow(\"img\", img)\n",
    "cv2.waitKey(0)"
   ],
   "metadata": {
    "collapsed": false,
    "ExecuteTime": {
     "end_time": "2024-03-02T07:13:03.599741Z",
     "start_time": "2024-03-02T07:12:47.816699Z"
    }
   },
   "id": "5b573ed9d0b8f5fa",
   "execution_count": 156
  },
  {
   "cell_type": "code",
   "outputs": [
    {
     "name": "stdout",
     "output_type": "stream",
     "text": [
      "31\n"
     ]
    },
    {
     "data": {
      "text/plain": "<Figure size 640x480 with 1 Axes>",
      "image/png": "[encoded data removed]"
     },
     "metadata": {},
     "output_type": "display_data"
    },
    {
     "data": {
      "text/plain": "-1"
     },
     "execution_count": 132,
     "metadata": {},
     "output_type": "execute_result"
    }
   ],
   "source": [
    "import cv2\n",
    "import numpy as np\n",
    "import matplotlib.path as mpath\n",
    "import matplotlib.patches as mpatches\n",
    "import matplotlib.pyplot as plt\n",
    "\n",
    "img = cv2.imread('tower.png')\n",
    "gray = cv2.cvtColor(img, cv2.COLOR_BGR2GRAY)\n",
    "ret, binary = cv2.threshold(gray, 127, 255, cv2.THRESH_BINARY)\n",
    "\n",
    "contours, hierarchy = cv2.findContours(binary, cv2.RETR_TREE, cv2.CHAIN_APPROX_SIMPLE)\n",
    "cv2.drawContours(img, contours, -1, (0, 0, 255), 1)\n",
    "\n",
    "print(len(contours))\n",
    "# 提取第一个轮廓的路径数据\n",
    "path_data = []\n",
    "\n",
    "# 遍历 contours 所有的点，将其添加到 path_data 中\n",
    "for contour in contours:\n",
    "    # for point in contour.squeeze():\n",
    "    #     if isinstance(point, np.ndarray) and len(point) == 2:\n",
    "    #         path_data.append([point[0], point[1]])\n",
    "    # 近似轮廓\n",
    "    epsilon = 0.01 * cv2.arcLength(contour, True)\n",
    "    approx = cv2.approxPolyDP(contour, epsilon, True)\n",
    "    for point in approx.squeeze():\n",
    "        if isinstance(point, np.ndarray) and len(point) == 2:\n",
    "            path_data.append([point[0], point[1]])\n",
    "\n",
    "# 创建Path2D对象\n",
    "path = mpath.Path(path_data)\n",
    "\n",
    "# 绘制路径\n",
    "fig, ax = plt.subplots()\n",
    "patch = mpatches.PathPatch(path, facecolor='none', edgecolor='red')\n",
    "ax.add_patch(patch)\n",
    "# 设置图像的宽度和高度比例\n",
    "ax.imshow(cv2.cvtColor(img, cv2.COLOR_BGR2RGB), extent=[0, img.shape[1], img.shape[0], 0])\n",
    "plt.show()\n",
    "\n",
    "cv2.imshow(\"img\", img)\n",
    "cv2.waitKey(0)"
   ],
   "metadata": {
    "collapsed": false,
    "ExecuteTime": {
     "end_time": "2024-03-02T07:03:13.951108Z",
     "start_time": "2024-03-02T07:02:15.253673Z"
    }
   },
   "id": "2d9146e928b5d8a2",
   "execution_count": 132
  },
  {
   "cell_type": "code",
   "outputs": [
    {
     "name": "stdout",
     "output_type": "stream",
     "text": [
      "11\n",
      "[[27, 555], [28, 554], [55, 554], [56, 555], [55, 556], [51, 558], [45, 559], [39, 559], [33, 558], [30, 557], [28, 556]]\n"
     ]
    },
    {
     "data": {
      "text/plain": "<Figure size 640x480 with 1 Axes>",
      "image/png": "[encoded data removed]"
     },
     "metadata": {},
     "output_type": "display_data"
    }
   ],
   "source": [
    "import cv2\n",
    "import numpy as np\n",
    "import matplotlib.path as mpath\n",
    "import matplotlib.patches as mpatches\n",
    "import matplotlib.pyplot as plt\n",
    "\n",
    "img = cv2.imread('tower.png')\n",
    "gray = cv2.cvtColor(img, cv2.COLOR_BGR2GRAY)\n",
    "ret, binary = cv2.threshold(gray, 127, 255, cv2.THRESH_BINARY)\n",
    "\n",
    "contours, hierarchy = cv2.findContours(binary, cv2.RETR_TREE, cv2.CHAIN_APPROX_SIMPLE)\n",
    "cv2.drawContours(img, contours, -1, (0, 0, 255), 1)\n",
    "\n",
    "# 提取第一个轮廓的凸包\n",
    "hull = cv2.convexHull(contours[1])\n",
    "\n",
    "# 提取凸包的路径数据\n",
    "path_data = []\n",
    "\n",
    "# 遍历凸包的点，将其添加到 path_data 中\n",
    "for point in hull.squeeze():\n",
    "    if isinstance(point, np.ndarray) and len(point) == 2:\n",
    "        path_data.append([point[0], point[1]])\n",
    "\n",
    "print(len(path_data))\n",
    "print(path_data)\n",
    "# 创建Path2D对象\n",
    "path = mpath.Path(path_data)\n",
    "\n",
    "# 绘制路径\n",
    "fig, ax = plt.subplots()\n",
    "patch = mpatches.PathPatch(path, facecolor='none', edgecolor='red')\n",
    "ax.add_patch(patch)\n",
    "\n",
    "# 设置图像的宽度和高度比例\n",
    "ax.imshow(cv2.cvtColor(img, cv2.COLOR_BGR2RGB), extent=[0, img.shape[1], img.shape[0], 0])\n",
    "\n",
    "plt.show()\n",
    "\n",
    "# cv2.imshow(\"img\", img)\n",
    "# cv2.waitKey(0)\n"
   ],
   "metadata": {
    "collapsed": false,
    "ExecuteTime": {
     "end_time": "2024-03-02T07:09:18.828629Z",
     "start_time": "2024-03-02T07:09:18.708240Z"
    }
   },
   "id": "b1df440fe520f211",
   "execution_count": 149
  },
  {
   "cell_type": "code",
   "outputs": [
    {
     "name": "stdout",
     "output_type": "stream",
     "text": [
      "565\n"
     ]
    }
   ],
   "source": [
    "import cv2\n",
    "import numpy as np\n",
    "\n",
    "# 读取图像\n",
    "image = cv2.imread('tower.png', cv2.IMREAD_GRAYSCALE)\n",
    "\n",
    "# 使用 Scharr 算子进行边缘检测\n",
    "edges_x = cv2.Scharr(image, cv2.CV_64F, 1, 0)  # 水平方向\n",
    "edges_y = cv2.Scharr(image, cv2.CV_64F, 0, 1)  # 垂直方向\n",
    "\n",
    "# 计算梯度幅值\n",
    "edges = np.sqrt(edges_x ** 2 + edges_y ** 2)\n",
    "\n",
    "# 将梯度幅值映射到 0-255 范围内\n",
    "edges = cv2.normalize(edges, None, 0, 255, cv2.NORM_MINMAX, dtype=cv2.CV_8U)\n",
    "print(len(edges))\n",
    "\n",
    "# 使用Hough变换检测直线\n",
    "# lines = cv2.HoughLinesP(edges, 1, np.pi / 180, 50, minLineLength=50, maxLineGap=10)\n",
    "# for line in lines:\n",
    "#     x1, y1, x2, y2 = line[0]\n",
    "#     cv2.line(image, (x1, y1), (x2, y2), (0, 0, 255), 3)\n",
    "# \n",
    "# print(len(lines))\n",
    "\n",
    "# 显示结果\n",
    "cv2.imshow('Scharr Edge Detection', edges)\n",
    "cv2.waitKey(0)\n",
    "cv2.destroyAllWindows()\n"
   ],
   "metadata": {
    "collapsed": false,
    "ExecuteTime": {
     "end_time": "2024-03-02T07:23:35.404873Z",
     "start_time": "2024-03-02T07:23:27.279278Z"
    }
   },
   "id": "5c72eae9b385134",
   "execution_count": 160
  },
  {
   "cell_type": "code",
   "outputs": [],
   "source": [
    "import cv2\n",
    "import numpy as np\n",
    "\n",
    "# 读取图像\n",
    "image = cv2.imread('tower.png', cv2.IMREAD_GRAYSCALE)\n",
    "\n",
    "# 使用 Scharr 算子进行边缘检测\n",
    "edges_x = cv2.Scharr(image, cv2.CV_64F, 1, 0)  # 水平方向\n",
    "edges_y = cv2.Scharr(image, cv2.CV_64F, 0, 1)  # 垂直方向\n",
    "\n",
    "# 计算梯度幅值\n",
    "edges = np.sqrt(edges_x ** 2 + edges_y ** 2)\n",
    "\n",
    "# 将梯度幅值映射到 0-255 范围内\n",
    "edges = cv2.normalize(edges, None, 0, 255, cv2.NORM_MINMAX, dtype=cv2.CV_8U)\n",
    "\n",
    "# 使用霍夫线变换检测直线\n",
    "lines = cv2.HoughLinesP(edges, 1, np.pi / 180, threshold=1, minLineLength=200, maxLineGap=1)\n",
    "\n",
    "# 绘制检测到的直线\n",
    "if lines is not None:\n",
    "    for line in lines:\n",
    "        x1, y1, x2, y2 = line[0]\n",
    "        cv2.line(image, (x1, y1), (x2, y2), (0, 0, 255), 2)\n",
    "\n",
    "# 显示结果\n",
    "cv2.imshow('Detected Lines', image)\n",
    "cv2.waitKey(0)\n",
    "cv2.destroyAllWindows()"
   ],
   "metadata": {
    "collapsed": false,
    "ExecuteTime": {
     "end_time": "2024-03-02T07:26:53.011159Z",
     "start_time": "2024-03-02T07:26:46.232992Z"
    }
   },
   "id": "ed7133f20ad5f493",
   "execution_count": 177
  },
  {
   "cell_type": "code",
   "outputs": [],
   "source": [
    "import cv2\n",
    "import numpy as np\n",
    "\n",
    "# 读取图像\n",
    "# image = cv2.imread('tower.png', cv2.IMREAD_GRAYSCALE)\n",
    "image = cv2.imread('tower.png', cv2.IMREAD_COLOR)\n",
    "\n",
    "# 使用 Canny 边缘检测\n",
    "edges = cv2.Canny(image, 100, 200)\n",
    "\n",
    "# 使用霍夫线变换检测直线\n",
    "lines = cv2.HoughLinesP(edges, 1, np.pi / 180, threshold=5, minLineLength=1, maxLineGap=2)\n",
    "\n",
    "# 绘制检测到的直线\n",
    "if lines is not None:\n",
    "    for line in lines:\n",
    "        x1, y1, x2, y2 = line[0]\n",
    "        cv2.line(image, (x1, y1), (x2, y2), (0, 0, 255), 2)\n",
    "\n",
    "# 显示结果\n",
    "cv2.imshow('Detected Lines', image)\n",
    "cv2.waitKey(0)\n",
    "cv2.destroyAllWindows()\n"
   ],
   "metadata": {
    "collapsed": false,
    "ExecuteTime": {
     "end_time": "2024-03-02T07:29:38.241226Z",
     "start_time": "2024-03-02T07:29:32.167077Z"
    }
   },
   "id": "264aa111cebfe283",
   "execution_count": 184
  },
  {
   "cell_type": "code",
   "outputs": [],
   "source": [],
   "metadata": {
    "collapsed": false
   },
   "id": "7c28c9221aa9fc71"
  }
 ],
 "metadata": {
  "kernelspec": {
   "display_name": "Python 3",
   "language": "python",
   "name": "python3"
  },
  "language_info": {
   "codemirror_mode": {
    "name": "ipython",
    "version": 2
   },
   "file_extension": ".py",
   "mimetype": "text/x-python",
   "name": "python",
   "nbconvert_exporter": "python",
   "pygments_lexer": "ipython2",
   "version": "2.7.6"
  }
 },
 "nbformat": 4,
 "nbformat_minor": 5
}
