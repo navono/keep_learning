{
 "cells": [
  {
   "metadata": {
    "ExecuteTime": {
     "end_time": "2024-06-27T05:33:36.859822Z",
     "start_time": "2024-06-27T05:33:36.640481Z"
    }
   },
   "cell_type": "code",
   "source": "from dask.distributed import Client",
   "id": "3b5f7e664cf3e490",
   "outputs": [],
   "execution_count": 1
  },
  {
   "cell_type": "code",
   "id": "initial_id",
   "metadata": {
    "collapsed": true,
    "ExecuteTime": {
     "end_time": "2024-06-27T05:33:58.238918Z",
     "start_time": "2024-06-27T05:33:56.700656Z"
    }
   },
   "source": [
    "client = Client()\n",
    "\n",
    "\n",
    "# Define your own code\n",
    "def f(x):\n",
    "    return x + 1\n",
    "\n",
    "\n",
    "# Run your code in parallel\n",
    "futures = client.map(f, range(100))\n",
    "results = client.gather(futures)\n",
    "\n",
    "# client.close()\n",
    "\n",
    "futures = client.map(f, range(100))"
   ],
   "outputs": [
    {
     "name": "stderr",
     "output_type": "stream",
     "text": [
      "E:\\sourcecode\\keep_learning\\.venv\\Lib\\site-packages\\distributed\\node.py:182: UserWarning: Port 8787 is already in use.\n",
      "Perhaps you already have a cluster running?\n",
      "Hosting the HTTP server on port 61549 instead\n",
      "  warnings.warn(\n"
     ]
    }
   ],
   "execution_count": 4
  }
 ],
 "metadata": {
  "kernelspec": {
   "display_name": "Python 3",
   "language": "python",
   "name": "python3"
  },
  "language_info": {
   "codemirror_mode": {
    "name": "ipython",
    "version": 2
   },
   "file_extension": ".py",
   "mimetype": "text/x-python",
   "name": "python",
   "nbconvert_exporter": "python",
   "pygments_lexer": "ipython2",
   "version": "2.7.6"
  }
 },
 "nbformat": 4,
 "nbformat_minor": 5
}
