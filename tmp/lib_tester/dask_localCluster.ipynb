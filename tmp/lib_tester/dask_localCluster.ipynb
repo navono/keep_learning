{
 "cells": [
  {
   "cell_type": "code",
   "id": "initial_id",
   "metadata": {
    "collapsed": true,
    "ExecuteTime": {
     "end_time": "2024-06-27T05:36:18.001658Z",
     "start_time": "2024-06-27T05:36:17.789380Z"
    }
   },
   "source": "from dask.distributed import LocalCluster",
   "outputs": [],
   "execution_count": 1
  },
  {
   "metadata": {
    "ExecuteTime": {
     "end_time": "2024-06-27T05:36:21.064069Z",
     "start_time": "2024-06-27T05:36:20.141154Z"
    }
   },
   "cell_type": "code",
   "source": "client = LocalCluster().get_client()",
   "id": "c65f190a7aa00535",
   "outputs": [],
   "execution_count": 2
  },
  {
   "metadata": {
    "ExecuteTime": {
     "end_time": "2024-06-27T05:36:31.861327Z",
     "start_time": "2024-06-27T05:36:31.852116Z"
    }
   },
   "cell_type": "code",
   "source": [
    "# Submit work to happen in parallel\n",
    "results = []\n",
    "for filename in filenames:\n",
    "    data = client.submit(load, filename)\n",
    "    result = client.submit(process, data)\n",
    "    results.append(result)\n",
    "\n",
    "# Gather results back to local computer\n",
    "results = client.gather(results)"
   ],
   "id": "eaa6a6aedb9a7935",
   "outputs": [
    {
     "ename": "NameError",
     "evalue": "name 'filenames' is not defined",
     "output_type": "error",
     "traceback": [
      "\u001B[1;31m---------------------------------------------------------------------------\u001B[0m",
      "\u001B[1;31mNameError\u001B[0m                                 Traceback (most recent call last)",
      "Cell \u001B[1;32mIn[4], line 3\u001B[0m\n\u001B[0;32m      1\u001B[0m \u001B[38;5;66;03m# Submit work to happen in parallel\u001B[39;00m\n\u001B[0;32m      2\u001B[0m results \u001B[38;5;241m=\u001B[39m []\n\u001B[1;32m----> 3\u001B[0m \u001B[38;5;28;01mfor\u001B[39;00m filename \u001B[38;5;129;01min\u001B[39;00m \u001B[43mfilenames\u001B[49m:\n\u001B[0;32m      4\u001B[0m     data \u001B[38;5;241m=\u001B[39m client\u001B[38;5;241m.\u001B[39msubmit(load, filename)\n\u001B[0;32m      5\u001B[0m     result \u001B[38;5;241m=\u001B[39m client\u001B[38;5;241m.\u001B[39msubmit(process, data)\n",
      "\u001B[1;31mNameError\u001B[0m: name 'filenames' is not defined"
     ]
    }
   ],
   "execution_count": 4
  }
 ],
 "metadata": {
  "kernelspec": {
   "display_name": "Python 3",
   "language": "python",
   "name": "python3"
  },
  "language_info": {
   "codemirror_mode": {
    "name": "ipython",
    "version": 2
   },
   "file_extension": ".py",
   "mimetype": "text/x-python",
   "name": "python",
   "nbconvert_exporter": "python",
   "pygments_lexer": "ipython2",
   "version": "2.7.6"
  }
 },
 "nbformat": 4,
 "nbformat_minor": 5
}
