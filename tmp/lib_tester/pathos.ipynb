{
 "cells": [
  {
   "metadata": {
    "ExecuteTime": {
     "end_time": "2024-06-27T05:20:14.667993Z",
     "start_time": "2024-06-27T05:20:14.643410Z"
    }
   },
   "cell_type": "code",
   "source": [
    "from pathos.maps import Imap\n",
    "from pathos.pools import ProcessPool"
   ],
   "id": "234725048f357246",
   "outputs": [],
   "execution_count": 1
  },
  {
   "cell_type": "code",
   "id": "initial_id",
   "metadata": {
    "collapsed": true
   },
   "source": [
    "squared = lambda x: x * x\n",
    "\n",
    "# serial map (in-line for loop)\n",
    "print(\"list(map(squared, range(4))): %s\" % list(map(squared, range(4))))\n",
    "\n",
    "# pathos serial map\n",
    "_map = Imap()\n",
    "print(\"list(Imap()(squared, range(4))): %s\" % list(_map(squared, range(4))))\n",
    "\n",
    "# pathos process-parallel map\n",
    "_map = Imap(ProcessPool)\n",
    "print(\"list(Imap(ProcessPool)(squared, range(4))): %s\" % list(_map(squared, range(4))))\n",
    "\n",
    "# pathos pool-based parallel map\n",
    "pool = ProcessPool()\n",
    "print(\"list(ProcessPool().imap(squared, range(4))): %s\" % list(pool.imap(squared, range(4))))\n",
    "\n",
    "# pathos asynchronous parallel map\n",
    "result = pool.amap(squared, range(4))\n",
    "print(\"ProcessPool().amap(squared, range(4)).get(): %s\" % result.get())\n",
    "\n",
    "# pathos thread-parallel map\n",
    "from pathos.pools import ThreadPool\n",
    "\n",
    "tpool = ThreadPool()\n",
    "print(\"list(ThreadPool().imap(squared, range(4))): %s\" % list(tpool.imap(squared, range(4))))"
   ],
   "outputs": [],
   "execution_count": null
  },
  {
   "metadata": {},
   "cell_type": "code",
   "source": [
    "import logging\n",
    "import time\n",
    "\n",
    "log = logging.getLogger(__name__)"
   ],
   "id": "43c7d03a7113503",
   "outputs": [],
   "execution_count": null
  },
  {
   "metadata": {},
   "cell_type": "code",
   "source": [
    "class PMPExample(object):\n",
    "    def __init__(self):\n",
    "        self.cache = {}\n",
    "\n",
    "    def compute(self, x):\n",
    "        self.cache[x] = x ** 3\n",
    "        print(\"Computed {0}\".format(x))\n",
    "        time.sleep(0.5)\n",
    "        return self.cache[x]\n",
    "\n",
    "    def threadcompute(self, xs):\n",
    "        pool = ThreadPool(4)\n",
    "        results = pool.map(self.compute, xs)\n",
    "        return results\n",
    "\n",
    "    def processcompute(self, xs):\n",
    "        pool = ProcessPool(4)\n",
    "        results = pool.map(self.compute, xs)\n",
    "        return results\n",
    "\n",
    "\n",
    "def parcompute_example():\n",
    "    # dc = PMPExample()\n",
    "    # dc2 = PMPExample()\n",
    "    dc3 = PMPExample()\n",
    "    # dc4 = PMPExample()\n",
    "    # \n",
    "    n_datapoints = 100\n",
    "    inp_data = range(n_datapoints)\n",
    "    # r1 = dc.threadcompute(inp_data)\n",
    "    # assert (len(dc.cache) == n_datapoints)\n",
    "    # \n",
    "    # r2 = dc2.processcompute(inp_data)\n",
    "    # assert (len(dc2.cache) == 0)\n",
    "    # assert (r1 == r2)\n",
    "\n",
    "    r3 = ProcessPool(4).map(dc3.compute, inp_data)\n",
    "    # r4 = ThreadPool(4).map(dc4.compute, inp_data)\n",
    "    ProcessPool.__state__.clear()\n",
    "    # ThreadPool.__state__.clear()\n",
    "    # assert (r4 == r3 == r2)\n",
    "    # assert (len(dc3.cache) == 0)\n",
    "    # assert (len(dc4.cache) == n_datapoints)\n",
    "\n",
    "    # log.info(\"Size of threadpooled class caches: {0}, {1}\".format(len(dc.cache), len(dc4.cache)))\n",
    "    # log.info(\"Size of processpooled class caches: {0}, {1}\".format(len(dc2.cache), len(dc3.cache)))"
   ],
   "id": "55525f068a6cb2eb",
   "outputs": [],
   "execution_count": null
  },
  {
   "metadata": {
    "ExecuteTime": {
     "end_time": "2024-06-27T05:20:18.810519Z",
     "start_time": "2024-06-27T05:20:18.807272Z"
    }
   },
   "cell_type": "code",
   "source": [
    "def worker(task):\n",
    "    # 处理任务\n",
    "    return f\"Result of {task}\"\n",
    "\n",
    "\n",
    "def test_worker():\n",
    "    tasks = [\"Task 1\", \"Task 2\", \"Task 3\"]\n",
    "    pool = ProcessPool(nodes=2)\n",
    "    results = pool.map(worker, tasks)\n",
    "\n",
    "    for result in results:\n",
    "        print(f\"Received result: {result}\")"
   ],
   "id": "554a07af205b3d5",
   "outputs": [],
   "execution_count": 2
  },
  {
   "metadata": {
    "ExecuteTime": {
     "end_time": "2024-06-27T05:20:20.518704Z",
     "start_time": "2024-06-27T05:20:20.425820Z"
    }
   },
   "cell_type": "code",
   "source": [
    "# logging.basicConfig()\n",
    "# log.setLevel(logging.INFO)\n",
    "# parcompute_example()\n",
    "\n",
    "test_worker()"
   ],
   "id": "54c0c143aa8a4005",
   "outputs": [
    {
     "name": "stdout",
     "output_type": "stream",
     "text": [
      "Received result: Result of Task 1\n",
      "Received result: Result of Task 2\n",
      "Received result: Result of Task 3\n"
     ]
    }
   ],
   "execution_count": 3
  }
 ],
 "metadata": {
  "kernelspec": {
   "display_name": "Python 3",
   "language": "python",
   "name": "python3"
  },
  "language_info": {
   "codemirror_mode": {
    "name": "ipython",
    "version": 2
   },
   "file_extension": ".py",
   "mimetype": "text/x-python",
   "name": "python",
   "nbconvert_exporter": "python",
   "pygments_lexer": "ipython2",
   "version": "2.7.6"
  }
 },
 "nbformat": 4,
 "nbformat_minor": 5
}
