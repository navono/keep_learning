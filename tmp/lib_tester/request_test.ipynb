{
 "cells": [
  {
   "cell_type": "code",
   "id": "initial_id",
   "metadata": {
    "collapsed": true,
    "ExecuteTime": {
     "end_time": "2024-06-21T01:26:32.395686Z",
     "start_time": "2024-06-21T01:26:32.363710Z"
    }
   },
   "source": "import requests",
   "outputs": [],
   "execution_count": 1
  },
  {
   "metadata": {
    "ExecuteTime": {
     "end_time": "2024-06-21T01:26:54.996830Z",
     "start_time": "2024-06-21T01:26:54.990791Z"
    }
   },
   "cell_type": "code",
   "source": [
    "url = \"http://10.30.76.73:18988/resources/historical_projects/%E5%A4%A9%E6%B4%A5%E5%A4%A7%E6%B8%AF%EF%BC%88%E4%B8%AD%E7%9F%B3%E5%8C%96%20SEI%20%E4%B8%89%E4%BB%A3%EF%BC%89/121600PE-DW02-0001%20001-R1%EF%BC%88PID%E5%9B%BE0601%EF%BC%89/121600PE-DW02-0001-001-R1-PID%E5%9B%BE0601-_18.png\"\n",
    "response = requests.head(url)\n",
    "\n",
    "if response.status_code == 200:\n",
    "    print(response.headers)\n",
    "    # 检查headers中是否包含分辨率信息\n",
    "    width = response.headers.get('X-Image-Width')\n",
    "    height = response.headers.get('X-Image-Height')\n",
    "\n",
    "    if width and height:\n",
    "        print(f\"Image resolution: {width}x{height}\")\n",
    "    else:\n",
    "        print(\"Resolution information not available in headers\")\n",
    "else:\n",
    "    print(\"Failed to retrieve image metadata\")"
   ],
   "id": "b886cfc3a0fabf05",
   "outputs": [
    {
     "name": "stdout",
     "output_type": "stream",
     "text": [
      "{'Server': 'nginx/1.24.0', 'Date': 'Fri, 21 Jun 2024 01:27:01 GMT', 'Content-Type': 'image/png', 'Content-Length': '1307938', 'Connection': 'keep-alive', 'Accept-Ranges': 'bytes', 'Access-Control-Expose-Headers': 'Content-Disposition', 'Content-Disposition': 'inline; filename=\"121600PE-DW02-0001-001-R1-PID%E5%9B%BE0601-_18.png\"', 'Etag': '\"452d557f4dee4a2da1094d6ff3a86fb1\"', 'Last-Modified': 'Thu, 20 Jun 2024 07:42:33 GMT'}\n",
      "Resolution information not available in headers\n"
     ]
    }
   ],
   "execution_count": 3
  }
 ],
 "metadata": {
  "kernelspec": {
   "display_name": "Python 3",
   "language": "python",
   "name": "python3"
  },
  "language_info": {
   "codemirror_mode": {
    "name": "ipython",
    "version": 2
   },
   "file_extension": ".py",
   "mimetype": "text/x-python",
   "name": "python",
   "nbconvert_exporter": "python",
   "pygments_lexer": "ipython2",
   "version": "2.7.6"
  }
 },
 "nbformat": 4,
 "nbformat_minor": 5
}
