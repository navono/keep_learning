{
 "cells": [
  {
   "cell_type": "code",
   "execution_count": 2,
   "id": "initial_id",
   "metadata": {
    "collapsed": true,
    "ExecuteTime": {
     "end_time": "2024-03-02T04:48:23.740694Z",
     "start_time": "2024-03-02T04:48:23.736970Z"
    }
   },
   "outputs": [],
   "source": [
    "import numpy as np\n",
    "import math"
   ]
  },
  {
   "cell_type": "code",
   "outputs": [
    {
     "name": "stdout",
     "output_type": "stream",
     "text": [
      "[[4, 35, 6, 48], [4, 46, 6, 60], [4, 52, 6, 66], [4, 59, 6, 72], [4, 67, 6, 81]]\n",
      "斜率: [6.5 7.  7.  6.5 7. ]\n",
      "截距: [ 9. 18. 24. 33. 39.]\n",
      "拟合直线方程：y = [6.5 7.  7.  6.5 7. ] x + [ 9. 18. 24. 33. 39.]\n"
     ]
    }
   ],
   "source": [
    "# 给定的点集\n",
    "p_list = [[4, 35, 6, 48],\n",
    "          [4, 46, 6, 60],\n",
    "          [4, 51, 6, 50],\n",
    "          [4, 52, 6, 66],\n",
    "          [4, 58, 6, 55],\n",
    "          [4, 59, 6, 72],\n",
    "          [4, 67, 6, 81]]\n",
    "\n",
    "new_linesP = []\n",
    "for line in p_list:\n",
    "    x1, y1, x2, y2 = line\n",
    "    if math.sqrt((x2 - x1) ** 2 + (y2 - y1) ** 2) > 4:\n",
    "        new_linesP.append(line)\n",
    "\n",
    "# 将点集转换为 NumPy 数组\n",
    "print(new_linesP)\n",
    "p_array = np.array(new_linesP)\n",
    "\n",
    "# 提取点集中的坐标信息\n",
    "x1 = p_array[:, 0]\n",
    "y1 = p_array[:, 1]\n",
    "x2 = p_array[:, 2]\n",
    "y2 = p_array[:, 3]\n",
    "\n",
    "# 计算直线的斜率和截距\n",
    "slope = (y2 - y1) / (x2 - x1)\n",
    "intercept = y1 - slope * x1\n",
    "\n",
    "# 输出结果\n",
    "print(\"斜率:\", slope)\n",
    "print(\"截距:\", intercept)\n",
    "print(\"拟合直线方程：y =\", slope, \"x +\", intercept)"
   ],
   "metadata": {
    "collapsed": false,
    "ExecuteTime": {
     "end_time": "2024-03-02T04:48:23.771960Z",
     "start_time": "2024-03-02T04:48:23.741742Z"
    }
   },
   "id": "aeff2096fc468e89",
   "execution_count": 3
  },
  {
   "cell_type": "code",
   "outputs": [
    {
     "name": "stdout",
     "output_type": "stream",
     "text": [
      "拟合直线方程：y = 12.188235294117645 x + 3.047058823529411\n"
     ]
    }
   ],
   "source": [
    "# 给定的点集\n",
    "p_list = [\n",
    "    [4, 35, 6, 48],\n",
    "    [4, 46, 6, 60],\n",
    "    [4, 51, 6, 50],\n",
    "    [4, 52, 6, 66],\n",
    "    [4, 58, 6, 55],\n",
    "    [4, 59, 6, 72],\n",
    "    [4, 67, 6, 81]\n",
    "]\n",
    "\n",
    "new_linesP = []\n",
    "for line in p_list:\n",
    "    x1, y1, x2, y2 = line\n",
    "    if math.sqrt((x2 - x1) ** 2 + (y2 - y1) ** 2) > 4:\n",
    "        new_linesP.append(line)\n",
    "# \n",
    "# # 提取点的坐标\n",
    "# x1 = np.array([p[0] for p in new_linesP])\n",
    "# y1 = np.array([p[1] for p in new_linesP])\n",
    "# x2 = np.array([p[2] for p in new_linesP])\n",
    "# y2 = np.array([p[3] for p in new_linesP])\n",
    "# \n",
    "# # 构建设计矩阵 X\n",
    "# X = np.column_stack((x1, np.ones_like(x1)))\n",
    "# \n",
    "# # 使用最小二乘法求解直线参数\n",
    "# coefficients = np.linalg.lstsq(X, y1, rcond=None)[0]\n",
    "# \n",
    "# # 拟合直线的斜率和截距\n",
    "# slope = coefficients[0]\n",
    "# intercept = coefficients[1]\n",
    "# \n",
    "# # 输出结果\n",
    "# print(\"拟合直线方程：y =\", slope, \"x +\", intercept)"
   ],
   "metadata": {
    "collapsed": false,
    "ExecuteTime": {
     "end_time": "2024-03-02T04:48:23.787255Z",
     "start_time": "2024-03-02T04:48:23.773191Z"
    }
   },
   "id": "8d0e9295d0e42949",
   "execution_count": 4
  },
  {
   "cell_type": "code",
   "outputs": [
    {
     "name": "stdout",
     "output_type": "stream",
     "text": [
      "右方:  0.0\n",
      "右上方 -45.0\n",
      "上方 -90.0\n",
      "左上方 -135.0\n",
      "左方 180.0\n",
      "\n",
      "右方:  0.0\n",
      "右下方:  45.0\n",
      "正下方 90.0\n",
      "左下方 135.0\n",
      "左方 180.0\n"
     ]
    }
   ],
   "source": [
    "def line_direction(points):\n",
    "    x1, y1, x2, y2 = points\n",
    "\n",
    "    # 判断左右指向\n",
    "    if x1 == x2:\n",
    "        lr_direction = None  # 不构成左右指向\n",
    "    elif x1 > x2:\n",
    "        lr_direction = \"left\"\n",
    "    else:\n",
    "        lr_direction = \"right\"\n",
    "\n",
    "    # 判断上下指向\n",
    "    if y1 == y2:\n",
    "        ud_direction = None  # 不构成上下指向\n",
    "    elif y1 > y2:\n",
    "        ud_direction = \"up\"\n",
    "    else:\n",
    "        ud_direction = \"down\"\n",
    "\n",
    "    return lr_direction, ud_direction\n",
    "\n",
    "\n",
    "def calculate_slope_angle(points):\n",
    "    x1, y1, x2, y2 = points\n",
    "    angle = math.atan2((y2 - y1), (x2 - x1))  # 计算斜率的角度\n",
    "    angle_degrees = math.degrees(angle)  # 将弧度转换为角度\n",
    "    # 90: 水平\n",
    "    # 0: 垂直\n",
    "\n",
    "    return float(\"{:.2f}\".format(angle_degrees))\n",
    "\n",
    "\n",
    "# print(line_direction(points))\n",
    "print(f\"右方: \", calculate_slope_angle([50, 100, 100, 100]))\n",
    "print(f\"右上方\", calculate_slope_angle([50, 100, 100, 50]))\n",
    "print(f\"上方\", calculate_slope_angle([50, 100, 50, 0]))\n",
    "print(f\"左上方\", calculate_slope_angle([50, 100, 0, 50]))\n",
    "print(f\"左方\", calculate_slope_angle([50, 100, 0, 100]))\n",
    "\n",
    "print(f\"\\n右方: \", calculate_slope_angle([50, 100, 100, 100]))\n",
    "print(f\"右下方: \", calculate_slope_angle([50, 100, 100, 150]))\n",
    "print(f\"正下方\", calculate_slope_angle([50, 100, 50, 150]))\n",
    "print(f\"左下方\", calculate_slope_angle([50, 100, 0, 150]))\n",
    "print(f\"左方\", calculate_slope_angle([50, 100, 0, 100]))"
   ],
   "metadata": {
    "collapsed": false,
    "ExecuteTime": {
     "end_time": "2024-03-02T04:48:23.803233Z",
     "start_time": "2024-03-02T04:48:23.787760Z"
    }
   },
   "id": "3e4b6aed5d2b66f7",
   "execution_count": 5
  },
  {
   "cell_type": "code",
   "outputs": [
    {
     "name": "stdout",
     "output_type": "stream",
     "text": [
      "new_linesP:  [[4, 35, 6, 48], [4, 46, 6, 60], [4, 52, 6, 66], [4, 59, 6, 72], [4, 67, 6, 81]]\n",
      "第0条线段:  [4, 35, 6, 48]\n",
      "第1条线段:  [4, 46, 6, 60]\n",
      "当前线条斜率： 81.87\n",
      "向下\n",
      "最后点： POINT (4 60)\n",
      "第2条线段:  [4, 52, 6, 66]\n",
      "当前线条斜率： 81.87\n",
      "向下\n",
      "最后点： POINT (4 66)\n",
      "第3条线段:  [4, 59, 6, 72]\n",
      "当前线条斜率： 81.25\n",
      "向下\n",
      "最后点： POINT (4 72)\n",
      "第4条线段:  [4, 67, 6, 81]\n",
      "当前线条斜率： 81.87\n",
      "向下\n",
      "最后点： POINT (4 81)\n",
      "start point:  POINT (4 35)\n",
      "end point:  POINT (4 81)\n"
     ]
    }
   ],
   "source": [
    "from shapely.geometry import Point\n",
    "\n",
    "print(\"new_linesP: \", new_linesP)\n",
    "idx = 0\n",
    "line_start_pt = None\n",
    "# current_last_pt = None\n",
    "for p in new_linesP:\n",
    "    x1, y1, x2, y2 = p\n",
    "    print(f\"第{idx}条线段: \", p)\n",
    "\n",
    "    idx += 1\n",
    "    if idx == 1:\n",
    "        line_start_pt = Point(x1, y1)\n",
    "        line_end_pt = Point(x2, y2)\n",
    "\n",
    "        # TODO\n",
    "        # x 坐标与开始点保持一致\n",
    "        current_last_pt = Point(x1, y2)\n",
    "        continue\n",
    "\n",
    "    mid_start_pt = Point(x1, y1)\n",
    "    mid_end_pt = Point(x2, y2)\n",
    "\n",
    "    angle = calculate_slope_angle(p)\n",
    "    print(\"当前线条斜率：\", angle)\n",
    "    # 向下\n",
    "    if 80 < angle < 95:\n",
    "        print(\"向下\")\n",
    "        current_last_pt = Point(current_last_pt.x, mid_end_pt.y)\n",
    "        print(\"最后点：\", current_last_pt)\n",
    "    else:\n",
    "        print(\"斜线\")\n",
    "\n",
    "print(\"start point: \", line_start_pt)\n",
    "print(\"end point: \", current_last_pt)"
   ],
   "metadata": {
    "collapsed": false,
    "ExecuteTime": {
     "end_time": "2024-03-02T04:48:23.818468Z",
     "start_time": "2024-03-02T04:48:23.804233Z"
    }
   },
   "id": "9995e3516497f400",
   "execution_count": 6
  }
 ],
 "metadata": {
  "kernelspec": {
   "display_name": "Python 3",
   "language": "python",
   "name": "python3"
  },
  "language_info": {
   "codemirror_mode": {
    "name": "ipython",
    "version": 2
   },
   "file_extension": ".py",
   "mimetype": "text/x-python",
   "name": "python",
   "nbconvert_exporter": "python",
   "pygments_lexer": "ipython2",
   "version": "2.7.6"
  }
 },
 "nbformat": 4,
 "nbformat_minor": 5
}
