{
 "cells": [
  {
   "cell_type": "code",
   "execution_count": 2,
   "id": "initial_id",
   "metadata": {
    "collapsed": true,
    "ExecuteTime": {
     "end_time": "2024-03-02T04:48:23.740694Z",
     "start_time": "2024-03-02T04:48:23.736970Z"
    }
   },
   "outputs": [],
   "source": [
    "import numpy as np\n",
    "import math"
   ]
  },
  {
   "cell_type": "code",
   "outputs": [
    {
     "name": "stdout",
     "output_type": "stream",
     "text": [
      "[[4, 35, 6, 48], [4, 46, 6, 60], [4, 52, 6, 66], [4, 59, 6, 72], [4, 67, 6, 81]]\n",
      "斜率: [6.5 7.  7.  6.5 7. ]\n",
      "截距: [ 9. 18. 24. 33. 39.]\n",
      "拟合直线方程：y = [6.5 7.  7.  6.5 7. ] x + [ 9. 18. 24. 33. 39.]\n"
     ]
    }
   ],
   "source": [
    "# 给定的点集\n",
    "p_list = [[4, 35, 6, 48],\n",
    "          [4, 46, 6, 60],\n",
    "          [4, 51, 6, 50],\n",
    "          [4, 52, 6, 66],\n",
    "          [4, 58, 6, 55],\n",
    "          [4, 59, 6, 72],\n",
    "          [4, 67, 6, 81]]\n",
    "\n",
    "new_linesP = []\n",
    "for line in p_list:\n",
    "    x1, y1, x2, y2 = line\n",
    "    if math.sqrt((x2 - x1) ** 2 + (y2 - y1) ** 2) > 4:\n",
    "        new_linesP.append(line)\n",
    "\n",
    "# 将点集转换为 NumPy 数组\n",
    "print(new_linesP)\n",
    "p_array = np.array(new_linesP)\n",
    "\n",
    "# 提取点集中的坐标信息\n",
    "x1 = p_array[:, 0]\n",
    "y1 = p_array[:, 1]\n",
    "x2 = p_array[:, 2]\n",
    "y2 = p_array[:, 3]\n",
    "\n",
    "# 计算直线的斜率和截距\n",
    "slope = (y2 - y1) / (x2 - x1)\n",
    "intercept = y1 - slope * x1\n",
    "\n",
    "# 输出结果\n",
    "print(\"斜率:\", slope)\n",
    "print(\"截距:\", intercept)\n",
    "print(\"拟合直线方程：y =\", slope, \"x +\", intercept)"
   ],
   "metadata": {
    "collapsed": false,
    "ExecuteTime": {
     "end_time": "2024-03-02T04:48:23.771960Z",
     "start_time": "2024-03-02T04:48:23.741742Z"
    }
   },
   "id": "aeff2096fc468e89",
   "execution_count": 3
  },
  {
   "cell_type": "code",
   "outputs": [
    {
     "name": "stdout",
     "output_type": "stream",
     "text": [
      "拟合直线方程：y = 12.188235294117645 x + 3.047058823529411\n"
     ]
    }
   ],
   "source": [
    "# 给定的点集\n",
    "\n",
    "\n",
    "# \n",
    "# # 提取点的坐标\n",
    "# x1 = np.array([p[0] for p in new_linesP])\n",
    "# y1 = np.array([p[1] for p in new_linesP])\n",
    "# x2 = np.array([p[2] for p in new_linesP])\n",
    "# y2 = np.array([p[3] for p in new_linesP])\n",
    "# \n",
    "# # 构建设计矩阵 X\n",
    "# X = np.column_stack((x1, np.ones_like(x1)))\n",
    "# \n",
    "# # 使用最小二乘法求解直线参数\n",
    "# coefficients = np.linalg.lstsq(X, y1, rcond=None)[0]\n",
    "# \n",
    "# # 拟合直线的斜率和截距\n",
    "# slope = coefficients[0]\n",
    "# intercept = coefficients[1]\n",
    "# \n",
    "# # 输出结果\n",
    "# print(\"拟合直线方程：y =\", slope, \"x +\", intercept)"
   ],
   "metadata": {
    "collapsed": false,
    "ExecuteTime": {
     "end_time": "2024-03-02T04:48:23.787255Z",
     "start_time": "2024-03-02T04:48:23.773191Z"
    }
   },
   "id": "8d0e9295d0e42949",
   "execution_count": 4
  },
  {
   "cell_type": "code",
   "outputs": [
    {
     "name": "stdout",
     "output_type": "stream",
     "text": [
      "右方:  0.0\n",
      "右上方 -45.0\n",
      "上方 -90.0\n",
      "左上方 -135.0\n",
      "左方 180.0\n",
      "\n",
      "右方:  0.0\n",
      "右下方:  45.0\n",
      "正下方 90.0\n",
      "左下方 135.0\n",
      "左方 180.0\n"
     ]
    }
   ],
   "source": [
    "def line_direction(points):\n",
    "    x1, y1, x2, y2 = points\n",
    "\n",
    "    # 判断左右指向\n",
    "    if x1 == x2:\n",
    "        lr_direction = None  # 不构成左右指向\n",
    "    elif x1 > x2:\n",
    "        lr_direction = \"left\"\n",
    "    else:\n",
    "        lr_direction = \"right\"\n",
    "\n",
    "    # 判断上下指向\n",
    "    if y1 == y2:\n",
    "        ud_direction = None  # 不构成上下指向\n",
    "    elif y1 > y2:\n",
    "        ud_direction = \"up\"\n",
    "    else:\n",
    "        ud_direction = \"down\"\n",
    "\n",
    "    return lr_direction, ud_direction\n",
    "\n",
    "\n",
    "def calculate_slope_angle(points):\n",
    "    x1, y1, x2, y2 = points\n",
    "    angle = math.atan2((y2 - y1), (x2 - x1))  # 计算斜率的角度\n",
    "    angle_degrees = math.degrees(angle)  # 将弧度转换为角度\n",
    "    # 90: 水平\n",
    "    # 0: 垂直\n",
    "\n",
    "    return float(\"{:.2f}\".format(angle_degrees))\n",
    "\n",
    "\n",
    "# print(line_direction(points))\n",
    "print(f\"右方: \", calculate_slope_angle([50, 100, 100, 100]))\n",
    "print(f\"右上方\", calculate_slope_angle([50, 100, 100, 50]))\n",
    "print(f\"上方\", calculate_slope_angle([50, 100, 50, 0]))\n",
    "print(f\"左上方\", calculate_slope_angle([50, 100, 0, 50]))\n",
    "print(f\"左方\", calculate_slope_angle([50, 100, 0, 100]))\n",
    "\n",
    "print(f\"\\n右方: \", calculate_slope_angle([50, 100, 100, 100]))\n",
    "print(f\"右下方: \", calculate_slope_angle([50, 100, 100, 150]))\n",
    "print(f\"正下方\", calculate_slope_angle([50, 100, 50, 150]))\n",
    "print(f\"左下方\", calculate_slope_angle([50, 100, 0, 150]))\n",
    "print(f\"左方\", calculate_slope_angle([50, 100, 0, 100]))"
   ],
   "metadata": {
    "collapsed": false,
    "ExecuteTime": {
     "end_time": "2024-03-02T04:48:23.803233Z",
     "start_time": "2024-03-02T04:48:23.787760Z"
    }
   },
   "id": "3e4b6aed5d2b66f7",
   "execution_count": 5
  },
  {
   "cell_type": "code",
   "outputs": [],
   "source": [
    "def get_distance_between_points(p1, p2):\n",
    "    return math.sqrt((p2[0] - p1[0]) ** 2 + (p2[1] - p1[1]) ** 2)"
   ],
   "metadata": {
    "collapsed": false,
    "ExecuteTime": {
     "end_time": "2024-03-02T05:52:10.563675Z",
     "start_time": "2024-03-02T05:52:10.545183Z"
    }
   },
   "id": "a1c1311b34809834",
   "execution_count": 35
  },
  {
   "cell_type": "code",
   "outputs": [],
   "source": [
    "def get_distance_between_lines(line1, line2):\n",
    "    # 将两条线段转换为 LineString 对象\n",
    "    line1_start_x, line1_start_y, line1_end_x, line1_end_y = line1\n",
    "    line2_start_x, line2_start_y, line2_end_x, line2_end_y = line2\n",
    "\n",
    "    line1_ls = LineString([(line1_start_x, line1_start_y), (line1_end_x, line1_end_y)])\n",
    "    line2_ls = LineString([(line2_start_x, line2_start_y), (line2_end_x, line2_end_y)])\n",
    "\n",
    "    # 计算两条线段的距离\n",
    "    return line1_ls.distance(line2_ls)"
   ],
   "metadata": {
    "collapsed": false,
    "ExecuteTime": {
     "end_time": "2024-03-02T05:48:18.782876Z",
     "start_time": "2024-03-02T05:48:18.776876Z"
    }
   },
   "id": "f5b16f5cc39840de",
   "execution_count": 29
  },
  {
   "cell_type": "code",
   "outputs": [
    {
     "name": "stdout",
     "output_type": "stream",
     "text": [
      "第0条线段:  [4, 35, 6, 48]\n",
      "第1条线段:  [4, 46, 6, 60]\n",
      "当前线条斜率： 81.87\n",
      "向下\n",
      "距离大于3:  4.47213595499958 [4, 52, 6, 66] POINT (6 48)\n",
      "第2条线段:  [4, 59, 6, 72]\n",
      "当前线条斜率： 81.25\n",
      "向下\n",
      "第3条线段:  [4, 67, 6, 81]\n",
      "当前线条斜率： 81.87\n",
      "向下\n",
      "第4条线段:  [4, 75, 6, 67]\n",
      "当前线条斜率： -75.96\n",
      "右上 [4, 75, 6, 67]\n",
      "距离大于3:  11.180339887498949 [4, 77, 11, 84] POINT (6 66)\n",
      "距离大于3:  33.06055050963308 [5, 35, 6, 44] POINT (11 84)\n",
      "第5条线段:  [5, 535, 5, 133]\n",
      "当前线条斜率： -90.0\n",
      "向上 [5, 535, 5, 133]\n",
      "第6条线段:  [6, 34, 22, 28]\n",
      "当前线条斜率： -20.56\n",
      "右上 [6, 34, 22, 28]\n",
      "第7条线段:  [6, 35, 13, 33]\n",
      "当前线条斜率： -15.95\n",
      "右上 [6, 35, 13, 33]\n",
      "第8条线段:  [6, 39, 8, 34]\n",
      "当前线条斜率： -68.2\n",
      "右上 [6, 39, 8, 34]\n",
      "第9条线段:  [6, 80, 6, 73]\n",
      "当前线条斜率： -90.0\n",
      "向上 [6, 80, 6, 73]\n",
      "第10条线段:  [6, 536, 6, 133]\n",
      "当前线条斜率： -90.0\n",
      "向上 [6, 536, 6, 133]\n",
      "第11条线段:  [7, 538, 7, 132]\n",
      "当前线条斜率： -90.0\n",
      "向上 [7, 538, 7, 132]\n",
      "start point:  POINT (5 35)\n",
      "end point:  POINT (8 34)\n",
      "full_connect_list:  [{'start': <POINT (4 35)>, 'end': <POINT (4 60)>}, {'start': <POINT (4 52)>, 'end': <POINT (6 67)>}, {'start': <POINT (4 77)>, 'end': <POINT (4 84)>}]\n"
     ]
    }
   ],
   "source": [
    "from shapely.geometry import Point\n",
    "\n",
    "# 向下直线\n",
    "# p_list = [\n",
    "#     [4, 35, 6, 48],\n",
    "#     [4, 46, 6, 60],\n",
    "#     [4, 51, 6, 50],\n",
    "#     [4, 52, 6, 66],\n",
    "#     [4, 58, 6, 55],\n",
    "#     [4, 59, 6, 72],\n",
    "#     [4, 67, 6, 81]\n",
    "# ]\n",
    "\n",
    "# p_list = [\n",
    "#     [6, 34, 22, 28],\n",
    "#     [6, 35, 13, 33],\n",
    "#     [6, 39, 8, 34],\n",
    "#     [15, 29, 29, 24],\n",
    "#     [18, 27, 32, 22],\n",
    "# ]\n",
    "\n",
    "p_list = [\n",
    "    [4, 35, 6, 48],\n",
    "    [4, 46, 6, 60],\n",
    "    [4, 51, 6, 50],\n",
    "    [4, 52, 6, 66],\n",
    "    [4, 58, 6, 55],\n",
    "    [4, 59, 6, 72],\n",
    "    [4, 67, 6, 81],\n",
    "    [4, 75, 6, 67],\n",
    "    [4, 77, 11, 84],\n",
    "    [5, 35, 6, 44],\n",
    "    [5, 535, 5, 133],\n",
    "    [6, 34, 22, 28],\n",
    "    [6, 35, 13, 33],\n",
    "    [6, 39, 8, 34],\n",
    "    [6, 80, 6, 73],\n",
    "    [6, 536, 6, 133],\n",
    "    [7, 538, 7, 132],\n",
    "    [8, 82, 11, 81],\n",
    "\n",
    "]\n",
    "\n",
    "new_linesP = []\n",
    "for line in p_list:\n",
    "    x1, y1, x2, y2 = line\n",
    "    if math.sqrt((x2 - x1) ** 2 + (y2 - y1) ** 2) > 5:\n",
    "        new_linesP.append(line)\n",
    "\n",
    "# print(\"new_linesP: \", new_linesP)\n",
    "idx = 0\n",
    "line_start_pt = None\n",
    "# current_last_pt = None\n",
    "\n",
    "full_connect_list = []\n",
    "last_line_angle = 0\n",
    "\n",
    "for p in new_linesP:\n",
    "    x1, y1, x2, y2 = p\n",
    "    angle = calculate_slope_angle(p)\n",
    "    if last_line_angle == 0:\n",
    "        last_line_angle = angle\n",
    "    else:\n",
    "        if angle > 0 and last_line_angle > 0:\n",
    "            # 向下\n",
    "            if abs(angle - last_line_angle) > 45:\n",
    "                print(\"不同方向\")\n",
    "                # full_connect_list[\"start\"] = line_start_pt\n",
    "                # full_connect_list[\"end\"] = current_last_pt\n",
    "                full_connect_list.append({\n",
    "                    \"start\": line_start_pt,\n",
    "                    \"end\": current_last_pt\n",
    "                })\n",
    "\n",
    "                # 重置\n",
    "                line_start_pt = Point(x1, y1)\n",
    "                line_end_pt = Point(x2, y2)\n",
    "                current_last_pt = Point(x1, y2)\n",
    "                continue\n",
    "            else:\n",
    "                # distance = get_distance_between_points([x1, y1], [line_end_pt.x, line_end_pt.x])\n",
    "                distance = get_distance_between_lines([x1, y1, x2, y2],\n",
    "                                                      [line_start_pt.x, line_start_pt.y, line_end_pt.x, line_end_pt.y])\n",
    "                if distance > 3:\n",
    "                    print(\"距离大于3: \", distance, p, line_end_pt)\n",
    "                    # full_connect_list[\"start\"] = line_start_pt\n",
    "                    # full_connect_list[\"end\"] = current_last_pt\n",
    "                    full_connect_list.append({\n",
    "                        \"start\": line_start_pt,\n",
    "                        \"end\": current_last_pt\n",
    "                    })\n",
    "\n",
    "                    # 重置\n",
    "                    line_start_pt = Point(x1, y1)\n",
    "                    line_end_pt = Point(x2, y2)\n",
    "                    current_last_pt = Point(x1, y2)\n",
    "                    continue\n",
    "\n",
    "    print(f\"第{idx}条线段: \", p)\n",
    "\n",
    "    idx += 1\n",
    "    if idx == 1:\n",
    "        line_start_pt = Point(x1, y1)\n",
    "        line_end_pt = Point(x2, y2)\n",
    "\n",
    "        # TODO\n",
    "        # x 坐标与开始点保持一致\n",
    "        current_last_pt = Point(x1, y2)\n",
    "        continue\n",
    "\n",
    "    mid_start_pt = Point(x1, y1)\n",
    "    mid_end_pt = Point(x2, y2)\n",
    "\n",
    "    print(\"当前线条斜率：\", angle)\n",
    "    # 向下\n",
    "    if 80 < angle < 95:\n",
    "        print(\"向下\")\n",
    "        current_last_pt = Point(current_last_pt.x, mid_end_pt.y)\n",
    "    elif 0 < angle < 80:\n",
    "        # 右下\n",
    "        print(\"右下\", p)\n",
    "        current_last_pt = Point(x2, y2)\n",
    "    elif -80 < angle < 0:\n",
    "        # 右上\n",
    "        print(\"右上\", p)\n",
    "        current_last_pt = Point(x2, y2)\n",
    "    elif -95 < angle < -80:\n",
    "        # 向上\n",
    "        print(\"向上\", p)\n",
    "    elif -180 < angle < -95:\n",
    "        # 左上\n",
    "        print(\"左上\", p)\n",
    "        current_last_pt = Point(x2, y2)\n",
    "    elif 95 < angle < 180:\n",
    "        # 左下\n",
    "        print(\"左下\", p)\n",
    "        current_last_pt = Point(x2, y2)\n",
    "    else:\n",
    "        print(\"水平\", p)\n",
    "\n",
    "# print(\"start point: \", line_start_pt)\n",
    "# print(\"end point: \", current_last_pt)\n",
    "\n",
    "print(\"full_connect_list: \", full_connect_list)"
   ],
   "metadata": {
    "collapsed": false,
    "ExecuteTime": {
     "end_time": "2024-03-02T05:56:17.045423Z",
     "start_time": "2024-03-02T05:56:17.026089Z"
    }
   },
   "id": "9995e3516497f400",
   "execution_count": 41
  },
  {
   "cell_type": "code",
   "outputs": [
    {
     "name": "stdout",
     "output_type": "stream",
     "text": [
      "两点之间的距离为: 1.4142135623730951\n"
     ]
    }
   ],
   "source": [
    "import numpy as np\n",
    "\n",
    "# 定义两个点的坐标\n",
    "point1 = np.array([50, 50])  # 第一个点的坐标\n",
    "point2 = np.array([51, 51])  # 第二个点的坐标\n",
    "\n",
    "# 计算两点之间的欧氏距离\n",
    "distance = np.linalg.norm(point1 - point2)\n",
    "\n",
    "print(\"两点之间的距离为:\", distance)"
   ],
   "metadata": {
    "collapsed": false,
    "ExecuteTime": {
     "end_time": "2024-03-02T05:28:01.486164Z",
     "start_time": "2024-03-02T05:28:01.467165Z"
    }
   },
   "id": "dbe6ad3e1d93254a",
   "execution_count": 11
  },
  {
   "cell_type": "code",
   "outputs": [
    {
     "name": "stdout",
     "output_type": "stream",
     "text": [
      "两条线段的距离： 1.6726290267933521\n"
     ]
    }
   ],
   "source": [
    "from shapely.geometry import LineString\n",
    "import math\n",
    "\n",
    "# 定义两条线段\n",
    "# line1 = [1, 2, 3, 4]\n",
    "# line2 = [5, 6, 7, 8]\n",
    "\n",
    "line1 = [4, 35, 6, 48]\n",
    "line2 = [4, 46, 6, 60]\n",
    "# line2 = [8, 152, 77, 152]\n",
    "# line2 = [6, 34, 32, 22]\n",
    "\n",
    "# 计算两条线段的距离\n",
    "distance = get_distance_between_lines(line1, line2)\n",
    "\n",
    "print(\"两条线段的距离：\", distance)"
   ],
   "metadata": {
    "collapsed": false,
    "ExecuteTime": {
     "end_time": "2024-03-02T05:47:18.760704Z",
     "start_time": "2024-03-02T05:47:18.744349Z"
    }
   },
   "id": "32b5c59e34334d17",
   "execution_count": 27
  }
 ],
 "metadata": {
  "kernelspec": {
   "display_name": "Python 3",
   "language": "python",
   "name": "python3"
  },
  "language_info": {
   "codemirror_mode": {
    "name": "ipython",
    "version": 2
   },
   "file_extension": ".py",
   "mimetype": "text/x-python",
   "name": "python",
   "nbconvert_exporter": "python",
   "pygments_lexer": "ipython2",
   "version": "2.7.6"
  }
 },
 "nbformat": 4,
 "nbformat_minor": 5
}
