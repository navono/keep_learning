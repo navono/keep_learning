{
 "cells": [
  {
   "cell_type": "code",
   "execution_count": 4,
   "id": "initial_id",
   "metadata": {
    "collapsed": true,
    "ExecuteTime": {
     "end_time": "2024-03-08T07:40:52.802180Z",
     "start_time": "2024-03-08T07:40:48.017401Z"
    }
   },
   "outputs": [],
   "source": [
    "import cv2\n",
    "\n",
    "# 读取图像\n",
    "img = cv2.imread(\"b.JPG\")\n",
    "\n",
    "# 调整亮度和对比度\n",
    "new_img = cv2.convertScaleAbs(img, alpha=1.2, beta=50)\n",
    "\n",
    "# 高斯滤波\n",
    "# blur = cv2.GaussianBlur(new_img, (5, 5), 0)\n",
    "\n",
    "# 锐化图像\n",
    "# new_img = cv2.addWeighted(new_img, 1.5, blur, -0.5, 0)\n",
    "\n",
    "# 去噪声\n",
    "# new_img = cv2.medianBlur(new_img, 5)\n",
    "\n",
    "# 显示图像\n",
    "cv2.imshow(\"Image\", new_img)\n",
    "\n",
    "cv2.waitKey(0)\n",
    "cv2.destroyAllWindows()"
   ]
  },
  {
   "cell_type": "code",
   "outputs": [
    {
     "ename": "ImportError",
     "evalue": "cannot import name 'waifu2x' from 'waifu2x' (C:\\Users\\ping\\.conda\\envs\\learning\\lib\\site-packages\\waifu2x\\__init__.py)",
     "output_type": "error",
     "traceback": [
      "\u001B[1;31m---------------------------------------------------------------------------\u001B[0m",
      "\u001B[1;31mImportError\u001B[0m                               Traceback (most recent call last)",
      "Cell \u001B[1;32mIn[5], line 1\u001B[0m\n\u001B[1;32m----> 1\u001B[0m \u001B[38;5;28;01mfrom\u001B[39;00m \u001B[38;5;21;01mwaifu2x\u001B[39;00m \u001B[38;5;28;01mimport\u001B[39;00m waifu2x\n\u001B[0;32m      3\u001B[0m \u001B[38;5;66;03m# 读取图像\u001B[39;00m\n\u001B[0;32m      4\u001B[0m img \u001B[38;5;241m=\u001B[39m cv2\u001B[38;5;241m.\u001B[39mimread(\u001B[38;5;124m\"\u001B[39m\u001B[38;5;124mimage.jpg\u001B[39m\u001B[38;5;124m\"\u001B[39m)\n",
      "\u001B[1;31mImportError\u001B[0m: cannot import name 'waifu2x' from 'waifu2x' (C:\\Users\\ping\\.conda\\envs\\learning\\lib\\site-packages\\waifu2x\\__init__.py)"
     ]
    }
   ],
   "source": [
    "from waifu2x import waifu2x\n",
    "\n",
    "# 读取图像\n",
    "img = cv2.imread(\"image.jpg\")\n",
    "\n",
    "# 进行超分辨率\n",
    "new_img = waifu2x.upscale_image(img, scale=2)\n",
    "\n",
    "# 显示图像\n",
    "cv2.imshow(\"Image\", new_img)\n",
    "cv2.waitKey(0)\n",
    "cv2.destroyAllWindows()"
   ],
   "metadata": {
    "collapsed": false,
    "ExecuteTime": {
     "end_time": "2024-03-08T07:48:01.378588Z",
     "start_time": "2024-03-08T07:47:59.951510Z"
    }
   },
   "id": "53dc809d4705c54d",
   "execution_count": 5
  }
 ],
 "metadata": {
  "kernelspec": {
   "display_name": "Python 3",
   "language": "python",
   "name": "python3"
  },
  "language_info": {
   "codemirror_mode": {
    "name": "ipython",
    "version": 2
   },
   "file_extension": ".py",
   "mimetype": "text/x-python",
   "name": "python",
   "nbconvert_exporter": "python",
   "pygments_lexer": "ipython2",
   "version": "2.7.6"
  }
 },
 "nbformat": 4,
 "nbformat_minor": 5
}
