{
 "cells": [
  {
   "cell_type": "code",
   "id": "initial_id",
   "metadata": {
    "collapsed": true,
    "ExecuteTime": {
     "end_time": "2024-06-19T01:19:13.879990Z",
     "start_time": "2024-06-19T01:19:12.886973Z"
    }
   },
   "source": [
    "import jieba\n",
    "import re\n",
    "import json\n",
    "import os\n",
    "from sklearn.feature_extraction.text import TfidfVectorizer\n",
    "from sklearn.metrics.pairwise import cosine_similarity\n",
    "import argparse\n",
    "import numpy as np"
   ],
   "outputs": [],
   "execution_count": 2
  },
  {
   "metadata": {
    "ExecuteTime": {
     "end_time": "2024-06-19T01:22:56.284165Z",
     "start_time": "2024-06-19T01:22:56.278884Z"
    }
   },
   "cell_type": "code",
   "source": [
    "def vectorize(Text): return TfidfVectorizer().fit_transform(Text).toarray()\n",
    "\n",
    "\n",
    "def seg(text):\n",
    "    pattern = re.compile(r'^[a-zA-Z0-9\\u4e00-\\u9fff]+$')\n",
    "    text_list = list(jieba.cut(text))\n",
    "    filtered_list = [word for word in text_list if pattern.match(word)]\n",
    "    return filtered_list\n",
    "\n",
    "\n",
    "def data_process(json_content):\n",
    "    results = []\n",
    "    for data in json_content:\n",
    "        for device in data[0]['devices']:\n",
    "            device_info = seg(device['device']) + seg(device['description'])\n",
    "            results.extend(device_info)\n",
    "        category_info = seg(data[0]['category'])\n",
    "        results.extend(category_info)\n",
    "    return [\" \".join(results)]"
   ],
   "id": "7b61193f2c22ef2",
   "outputs": [],
   "execution_count": 4
  },
  {
   "metadata": {
    "ExecuteTime": {
     "end_time": "2024-06-19T05:01:42.585724Z",
     "start_time": "2024-06-19T05:01:42.577557Z"
    }
   },
   "cell_type": "code",
   "source": [
    "def text_similarity():\n",
    "    all_list = []\n",
    "    file_names = []\n",
    "\n",
    "    input_files = [\"./example_data/1.json\", \"./example_data/2.json\"]\n",
    "    # loading content\n",
    "    for file in input_files:\n",
    "        file_names.append(file)\n",
    "        file_path = os.path.join(os.getcwd(), file)\n",
    "        with open(file_path, 'r', encoding='utf-8') as file:\n",
    "            json_content = json.load(file)\n",
    "        all_list += data_process(json_content)\n",
    "\n",
    "    query_file = \"./example_data/query.json\"\n",
    "    with open(query_file, 'r', encoding='utf-8') as file:\n",
    "        json_content = json.load(file)\n",
    "    all_list += data_process(json_content)\n",
    "\n",
    "    vectors = vectorize(all_list)\n",
    "    key_vectors = vectors[:-1]\n",
    "    query_vectors = vectors[-1]\n",
    "    query_vectors = query_vectors.reshape(1, -1)\n",
    "    similarity_scores = cosine_similarity(key_vectors, query_vectors)\n",
    "    max_index = np.argmax(similarity_scores)\n",
    "    print('相似度：', similarity_scores)\n",
    "    print(\"最匹配的文件名：\", file_names[max_index])\n",
    "\n",
    "    similarity_scores = similarity_scores.flatten()\n",
    "    # similarity_scores = np.argsort(similarity_scores)\n",
    "    # similarity_scores = similarity_scores[::-1]\n",
    "    top_similarity_scores = similarity_scores[:3]\n",
    "    print(top_similarity_scores)"
   ],
   "id": "e64a3b564a1faf43",
   "outputs": [],
   "execution_count": 36
  },
  {
   "metadata": {
    "ExecuteTime": {
     "end_time": "2024-06-19T05:16:01.582312Z",
     "start_time": "2024-06-19T05:05:09.242499Z"
    }
   },
   "cell_type": "code",
   "source": "text_similarity()",
   "id": "df07ff0c7eaca820",
   "outputs": [
    {
     "name": "stdout",
     "output_type": "stream",
     "text": [
      "相似度： [[0.20156099]\n",
      " [0.12939368]]\n",
      "最匹配的文件名： ./example_data/1.json\n",
      "[0.20156099 0.12939368]\n"
     ]
    }
   ],
   "execution_count": 39
  },
  {
   "metadata": {
    "ExecuteTime": {
     "end_time": "2024-06-19T05:53:09.421253Z",
     "start_time": "2024-06-19T05:53:09.417641Z"
    }
   },
   "cell_type": "code",
   "source": [
    "v = [1, 2, 3, 4]\n",
    "print(v[:-1])\n",
    "print(v[-1])"
   ],
   "id": "da7d080e0ed4484d",
   "outputs": [
    {
     "name": "stdout",
     "output_type": "stream",
     "text": [
      "[1, 2, 3]\n",
      "4\n"
     ]
    }
   ],
   "execution_count": 41
  }
 ],
 "metadata": {
  "kernelspec": {
   "display_name": "Python 3",
   "language": "python",
   "name": "python3"
  },
  "language_info": {
   "codemirror_mode": {
    "name": "ipython",
    "version": 2
   },
   "file_extension": ".py",
   "mimetype": "text/x-python",
   "name": "python",
   "nbconvert_exporter": "python",
   "pygments_lexer": "ipython2",
   "version": "2.7.6"
  }
 },
 "nbformat": 4,
 "nbformat_minor": 5
}
