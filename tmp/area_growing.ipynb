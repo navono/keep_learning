{
 "cells": [
  {
   "cell_type": "code",
   "execution_count": 32,
   "id": "initial_id",
   "metadata": {
    "collapsed": true,
    "ExecuteTime": {
     "end_time": "2024-03-02T08:25:23.672852Z",
     "start_time": "2024-03-02T08:25:23.661483Z"
    }
   },
   "outputs": [],
   "source": [
    "import cv2\n",
    "import numpy as np\n",
    "import math"
   ]
  },
  {
   "cell_type": "code",
   "outputs": [],
   "source": [
    "class Point(object):\n",
    "    def __init__(self, x, y):\n",
    "        self.x = x\n",
    "        self.y = y\n",
    "\n",
    "    def getX(self):\n",
    "        return self.x\n",
    "\n",
    "    def getY(self):\n",
    "        return self.y\n",
    "\n",
    "\n",
    "def selectConnects():\n",
    "    \"\"\"\n",
    "    -1,-1:左上\n",
    "    0,-1:正上\n",
    "    1,-1:右上\n",
    "    1,0:右侧\n",
    "    1,1:右下\n",
    "    0,1:正下\n",
    "    -1,1:左下\n",
    "    -1,0:左测\n",
    "    \"\"\"\n",
    "    return [Point(-1, -1), Point(0, -1), Point(1, -1), Point(1, 0), Point(1, 1),\n",
    "            Point(0, 1), Point(-1, 1), Point(-1, 0)]  # 八邻域\n",
    "\n",
    "\n",
    "# 计算像素之间的偏差\n",
    "def getGrayDiff(img, currentPoint, tmpPoint):\n",
    "    return abs(int(img[currentPoint.x, currentPoint.y]) - int(img[tmpPoint.x, tmpPoint.y]))\n",
    "\n",
    "\n",
    "def output_direction(point):\n",
    "    if point.x == 0 and point.y == -1:\n",
    "        return \"↑\"\n",
    "    if point.x == 0 and point.y == 1:\n",
    "        return \"↓\"\n",
    "    if point.x == -1 and point.y == 0:\n",
    "        return \"←\"\n",
    "    if point.x == 1 and point.y == 0:\n",
    "        return \"→\"\n",
    "    if point.x == -1 and point.y == -1:\n",
    "        return \"↖\"\n",
    "    if point.x == 1 and point.y == -1:\n",
    "        return \"↗\"\n",
    "    if point.x == -1 and point.y == 1:\n",
    "        return \"↙\"\n",
    "    if point.x == 1 and point.y == 1:\n",
    "        return \"↘\"\n"
   ],
   "metadata": {
    "collapsed": false,
    "ExecuteTime": {
     "end_time": "2024-03-02T08:25:23.688400Z",
     "start_time": "2024-03-02T08:25:23.673852Z"
    }
   },
   "id": "346a988691f20565",
   "execution_count": 33
  },
  {
   "cell_type": "code",
   "outputs": [],
   "source": [
    "def region_grow(gray_image, seeds, thresh):\n",
    "    # 读取图像的宽高，并建立一个和原图大小相同的seedMark\n",
    "    height, weight = gray_image.shape\n",
    "    seedMark = np.zeros(gray_image.shape, dtype=np.uint8)\n",
    "\n",
    "    # 将定义的种子点放入种子点序列seedList\n",
    "    seedList = []\n",
    "    for seed in seeds:\n",
    "        seedList.append(seed)\n",
    "    label = 255\n",
    "    label_count = 0\n",
    "\n",
    "    # 选择邻域，更改程序默认8邻域\n",
    "    connects = selectConnects()\n",
    "\n",
    "    width = 0\n",
    "\n",
    "    # 逐个点开始生长，生长的结束条件为种子序列为空，即没有生长点\n",
    "    while len(seedList) > 0:\n",
    "        # 弹出种子点序列的第一个点作为生长点\n",
    "        currentPoint = seedList.pop(0)  # 弹出第一个元素\n",
    "        # 并将生长点对应seedMark点赋值label（1），即为白色\n",
    "        seedMark[currentPoint.x, currentPoint.y] = label\n",
    "        label_count += 1\n",
    "\n",
    "        # 以种子点为中心，八邻域的像素进行比较\n",
    "        for i in range(len(connects)):\n",
    "            # print(output_direction(connects[i]))\n",
    "            tmpX = currentPoint.x + connects[i].x\n",
    "            tmpY = currentPoint.y + connects[i].y\n",
    "            # 判断是否为图像外的点，若是则跳过。  如果种子点是图像的边界点，邻域点就会落在图像外\n",
    "            if tmpX < 0 or tmpY < 0 or tmpX >= height or tmpY >= weight:\n",
    "                continue\n",
    "\n",
    "            # 判断邻域点和种子点的差值\n",
    "            grayDiff = getGrayDiff(gray_image, currentPoint, Point(tmpX, tmpY))\n",
    "            if tmpY > currentPoint.y or tmpY < currentPoint.y:\n",
    "                width += 1\n",
    "\n",
    "            # 如果邻域点和种子点的差值小于阈值并且是没有被分类的点，则认为是和种子点同类，赋值label，\n",
    "            # 并作为下一个种子点放入seedList\n",
    "            if grayDiff < thresh and seedMark[tmpX, tmpY] == 0 and result[tmpX, tmpY] == 0:\n",
    "                seedMark[tmpX, tmpY] = label\n",
    "                # result[tmpX, tmpY] = label\n",
    "                seedList.append(Point(tmpX, tmpY))\n",
    "                label_count += 1\n",
    "\n",
    "    print(\"label_count: \", label_count)\n",
    "    return label_count, seedMark\n"
   ],
   "metadata": {
    "collapsed": false,
    "ExecuteTime": {
     "end_time": "2024-03-02T08:25:23.703404Z",
     "start_time": "2024-03-02T08:25:23.689401Z"
    }
   },
   "id": "d56db07bf319edcb",
   "execution_count": 34
  },
  {
   "cell_type": "code",
   "outputs": [
    {
     "name": "stdout",
     "output_type": "stream",
     "text": [
      "label_count:  29783\n",
      "label_count:  29783\n"
     ]
    },
    {
     "ename": "KeyboardInterrupt",
     "evalue": "",
     "output_type": "error",
     "traceback": [
      "\u001B[1;31m---------------------------------------------------------------------------\u001B[0m",
      "\u001B[1;31mKeyboardInterrupt\u001B[0m                         Traceback (most recent call last)",
      "Cell \u001B[1;32mIn[36], line 26\u001B[0m\n\u001B[0;32m     24\u001B[0m             region_dict[color_str] \u001B[38;5;241m=\u001B[39m region_img\n\u001B[0;32m     25\u001B[0m         \u001B[38;5;28;01melse\u001B[39;00m:\n\u001B[1;32m---> 26\u001B[0m             \u001B[43mregion_dict\u001B[49m[color_str] \u001B[38;5;241m+\u001B[39m\u001B[38;5;241m=\u001B[39m region_img\n\u001B[0;32m     28\u001B[0m \u001B[38;5;28;01mfor\u001B[39;00m key \u001B[38;5;129;01min\u001B[39;00m region_dict:\n\u001B[0;32m     29\u001B[0m     img_path \u001B[38;5;241m=\u001B[39m \u001B[38;5;124m\"\u001B[39m\u001B[38;5;124m./segment/\u001B[39m\u001B[38;5;124m\"\u001B[39m \u001B[38;5;241m+\u001B[39m key \u001B[38;5;241m+\u001B[39m \u001B[38;5;124m\"\u001B[39m\u001B[38;5;124m.png\u001B[39m\u001B[38;5;124m\"\u001B[39m\n",
      "Cell \u001B[1;32mIn[36], line 26\u001B[0m\n\u001B[0;32m     24\u001B[0m             region_dict[color_str] \u001B[38;5;241m=\u001B[39m region_img\n\u001B[0;32m     25\u001B[0m         \u001B[38;5;28;01melse\u001B[39;00m:\n\u001B[1;32m---> 26\u001B[0m             \u001B[43mregion_dict\u001B[49m[color_str] \u001B[38;5;241m+\u001B[39m\u001B[38;5;241m=\u001B[39m region_img\n\u001B[0;32m     28\u001B[0m \u001B[38;5;28;01mfor\u001B[39;00m key \u001B[38;5;129;01min\u001B[39;00m region_dict:\n\u001B[0;32m     29\u001B[0m     img_path \u001B[38;5;241m=\u001B[39m \u001B[38;5;124m\"\u001B[39m\u001B[38;5;124m./segment/\u001B[39m\u001B[38;5;124m\"\u001B[39m \u001B[38;5;241m+\u001B[39m key \u001B[38;5;241m+\u001B[39m \u001B[38;5;124m\"\u001B[39m\u001B[38;5;124m.png\u001B[39m\u001B[38;5;124m\"\u001B[39m\n",
      "File \u001B[1;32m_pydevd_bundle\\pydevd_cython_win32_310_64.pyx:1187\u001B[0m, in \u001B[0;36m_pydevd_bundle.pydevd_cython_win32_310_64.SafeCallWrapper.__call__\u001B[1;34m()\u001B[0m\n",
      "File \u001B[1;32m_pydevd_bundle\\pydevd_cython_win32_310_64.pyx:627\u001B[0m, in \u001B[0;36m_pydevd_bundle.pydevd_cython_win32_310_64.PyDBFrame.trace_dispatch\u001B[1;34m()\u001B[0m\n",
      "File \u001B[1;32m_pydevd_bundle\\pydevd_cython_win32_310_64.pyx:937\u001B[0m, in \u001B[0;36m_pydevd_bundle.pydevd_cython_win32_310_64.PyDBFrame.trace_dispatch\u001B[1;34m()\u001B[0m\n",
      "File \u001B[1;32m_pydevd_bundle\\pydevd_cython_win32_310_64.pyx:928\u001B[0m, in \u001B[0;36m_pydevd_bundle.pydevd_cython_win32_310_64.PyDBFrame.trace_dispatch\u001B[1;34m()\u001B[0m\n",
      "File \u001B[1;32m_pydevd_bundle\\pydevd_cython_win32_310_64.pyx:585\u001B[0m, in \u001B[0;36m_pydevd_bundle.pydevd_cython_win32_310_64.PyDBFrame.do_wait_suspend\u001B[1;34m()\u001B[0m\n",
      "File \u001B[1;32m~\\AppData\\Local\\Programs\\PyCharm Professional\\plugins\\python\\helpers\\pydev\\pydevd.py:1184\u001B[0m, in \u001B[0;36mPyDB.do_wait_suspend\u001B[1;34m(self, thread, frame, event, arg, send_suspend_message, is_unhandled_exception)\u001B[0m\n\u001B[0;32m   1181\u001B[0m         from_this_thread\u001B[38;5;241m.\u001B[39mappend(frame_id)\n\u001B[0;32m   1183\u001B[0m \u001B[38;5;28;01mwith\u001B[39;00m \u001B[38;5;28mself\u001B[39m\u001B[38;5;241m.\u001B[39m_threads_suspended_single_notification\u001B[38;5;241m.\u001B[39mnotify_thread_suspended(thread_id, stop_reason):\n\u001B[1;32m-> 1184\u001B[0m     \u001B[38;5;28;43mself\u001B[39;49m\u001B[38;5;241;43m.\u001B[39;49m\u001B[43m_do_wait_suspend\u001B[49m\u001B[43m(\u001B[49m\u001B[43mthread\u001B[49m\u001B[43m,\u001B[49m\u001B[43m \u001B[49m\u001B[43mframe\u001B[49m\u001B[43m,\u001B[49m\u001B[43m \u001B[49m\u001B[43mevent\u001B[49m\u001B[43m,\u001B[49m\u001B[43m \u001B[49m\u001B[43marg\u001B[49m\u001B[43m,\u001B[49m\u001B[43m \u001B[49m\u001B[43msuspend_type\u001B[49m\u001B[43m,\u001B[49m\u001B[43m \u001B[49m\u001B[43mfrom_this_thread\u001B[49m\u001B[43m)\u001B[49m\n",
      "File \u001B[1;32m~\\AppData\\Local\\Programs\\PyCharm Professional\\plugins\\python\\helpers\\pydev\\pydevd.py:1199\u001B[0m, in \u001B[0;36mPyDB._do_wait_suspend\u001B[1;34m(self, thread, frame, event, arg, suspend_type, from_this_thread)\u001B[0m\n\u001B[0;32m   1196\u001B[0m             \u001B[38;5;28mself\u001B[39m\u001B[38;5;241m.\u001B[39m_call_mpl_hook()\n\u001B[0;32m   1198\u001B[0m         \u001B[38;5;28mself\u001B[39m\u001B[38;5;241m.\u001B[39mprocess_internal_commands()\n\u001B[1;32m-> 1199\u001B[0m         \u001B[43mtime\u001B[49m\u001B[38;5;241;43m.\u001B[39;49m\u001B[43msleep\u001B[49m\u001B[43m(\u001B[49m\u001B[38;5;241;43m0.01\u001B[39;49m\u001B[43m)\u001B[49m\n\u001B[0;32m   1201\u001B[0m \u001B[38;5;28mself\u001B[39m\u001B[38;5;241m.\u001B[39mcancel_async_evaluation(get_current_thread_id(thread), \u001B[38;5;28mstr\u001B[39m(\u001B[38;5;28mid\u001B[39m(frame)))\n\u001B[0;32m   1203\u001B[0m \u001B[38;5;66;03m# process any stepping instructions\u001B[39;00m\n",
      "\u001B[1;31mKeyboardInterrupt\u001B[0m: "
     ]
    }
   ],
   "source": [
    "image = cv2.imread(\"test.png\", cv2.IMREAD_COLOR)\n",
    "gray_image = cv2.cvtColor(image, cv2.COLOR_BGR2GRAY)\n",
    "\n",
    "rows, cols = gray_image.shape\n",
    "result = np.zeros(gray_image.shape)\n",
    "region_imgs = []\n",
    "region_dict = {}\n",
    "\n",
    "for row in range(0, rows, 100):\n",
    "    for col in range(0, cols, 100):\n",
    "        if result[row, col] == 255 or gray_image[row, col] < 30:\n",
    "            continue\n",
    "\n",
    "        b, g, r = image[row, col]\n",
    "        color_str = f'b[{b}], g[{g}], r[{r}]'\n",
    "\n",
    "        seeds = [Point(row, col)]\n",
    "        label_count, region_img = region_grow(gray_image, seeds, 5)\n",
    "        if label_count < 271:\n",
    "            continue\n",
    "        region_imgs.append(region_img)\n",
    "\n",
    "        if region_dict.get(color_str) is None:\n",
    "            region_dict[color_str] = region_img\n",
    "        else:\n",
    "            region_dict[color_str] += region_img\n",
    "\n",
    "for key in region_dict:\n",
    "    img_path = \"./segment/\" + key + \".png\"\n",
    "    filtered_img = region_dict[key]\n",
    "    # 将 img 生成数组\n",
    "    # img_a = Image.fromarray(img)\n",
    "\n",
    "    linesP = cv2.HoughLinesP(filtered_img, 1, np.pi / 180, threshold=5, minLineLength=1, maxLineGap=2)\n",
    "    print(img_path)\n",
    "\n",
    "    # 更新 linesP, 如果两点之间距离小于2，则过滤\n",
    "    new_linesP = []\n",
    "    for line in linesP:\n",
    "        x1, y1, x2, y2 = line[0]\n",
    "        if math.sqrt((x2 - x1) ** 2 + (y2 - y1) ** 2) > 2:\n",
    "            new_linesP.append(line)\n",
    "    #\n",
    "    new_linesP = np.array(new_linesP)\n",
    "    sorted_indices = np.lexsort((new_linesP[:, 0, 1], new_linesP[:, 0, 0]))\n",
    "    new_linesP = new_linesP[sorted_indices]\n",
    "\n",
    "    # 遍历\n",
    "    # for line in new_linesP:\n",
    "    #     print(line[0])\n",
    "\n",
    "    cv2.imwrite(img_path, filtered_img)"
   ],
   "metadata": {
    "collapsed": false,
    "ExecuteTime": {
     "end_time": "2024-03-02T08:26:24.875611Z",
     "start_time": "2024-03-02T08:25:47.213520Z"
    }
   },
   "id": "18c78e0e369917d8",
   "execution_count": 36
  }
 ],
 "metadata": {
  "kernelspec": {
   "display_name": "Python 3",
   "language": "python",
   "name": "python3"
  },
  "language_info": {
   "codemirror_mode": {
    "name": "ipython",
    "version": 2
   },
   "file_extension": ".py",
   "mimetype": "text/x-python",
   "name": "python",
   "nbconvert_exporter": "python",
   "pygments_lexer": "ipython2",
   "version": "2.7.6"
  }
 },
 "nbformat": 4,
 "nbformat_minor": 5
}
